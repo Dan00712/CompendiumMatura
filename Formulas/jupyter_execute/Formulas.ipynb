{
 "cells": [
  {
   "cell_type": "markdown",
   "metadata": {
    "tags": []
   },
   "source": [
    "# Physic"
   ]
  },
  {
   "cell_type": "markdown",
   "metadata": {
    "tags": []
   },
   "source": [
    "## Kinematik"
   ]
  },
  {
   "cell_type": "markdown",
   "metadata": {
    "jp-MarkdownHeadingCollapsed": true,
    "tags": []
   },
   "source": [
    "### Translation\n",
    "\n",
    "$v(t) = \\dot{s}(t)$  \n",
    "$a(t) = \\dot{v}(t) = \\ddot{s}(t)$  \n",
    "\n",
    "$F = m\\cdot a$  \n",
    "$F_G = m\\cdot g$ \n",
    "\n",
    "$m = \\rho\\cdot V$\n",
    "\n",
    "$E = \\int F~ds$  \n",
    "\t$E_{kin} = \\frac{1}{2}\\cdot m\\cdot v^2$  \n",
    "\t$E_{pot} = m\\cdot g \\cdot h$ \n",
    "\n",
    "### Arbeit\n",
    "\n",
    "$W = mgh$  \n",
    "$\\Delta W = m\\cdot g\\cdot \\Delta h$  \n",
    "\n",
    "$P = \\frac{W}{t} = F\\cdot v$  \n",
    "$P_{act} = P_{the}\\cdot \\mu$  \n",
    "\n",
    "### Voll elastischer Stoß\n",
    "\n",
    "$v_1' = \\frac{m_1\\cdot v_1 + m_2 \\cdot (2v_2 -v_1)}{m_1 + m_2}$  \n",
    "$v_2' = \\frac{m_2\\cdot v_2 + m_1 \\cdot (2v_1 -v_2)}{m_1 + m_2}$  \n",
    "\n",
    "### Reibung  \n",
    "\n",
    "$F_{Reibung} = F_G\\cdot \\mu = mg\\cdot \\mu$  \n",
    "$F_{VR} = 6\\cdot \\pi \\cdot r\\cdot \\eta\\cdot v$  \n",
    "$F_W = \\frac{1}{2}c_w\\cdot A\\cdot \\varrho\\cdot v^2$"
   ]
  },
  {
   "cell_type": "markdown",
   "metadata": {
    "tags": []
   },
   "source": [
    "## Pendel, Rotationen"
   ]
  },
  {
   "cell_type": "markdown",
   "metadata": {
    "tags": []
   },
   "source": [
    "### Feder\n",
    "\n",
    "$k = \\frac{F}{s} = \\omega_0^2\\cdot m$  \n",
    "$E_{pot} = \\frac{1}{2}\\cdot k\\cdot s^2$  \n",
    "\n",
    "### Rotation\n",
    "\n",
    "$\\omega(t) = \\dot{\\varphi}(t)$  \n",
    "$\\alpha(t) = \\dot{\\omega}(t) = \\ddot{\\varphi}(t)$  \n",
    "\n",
    "$v = \\omega\\cdot r$  \n",
    "$F = M\\cdot r$  \n",
    "$F_{zentripetal} = m\\cdot\\frac{v^2}{r}$  \n",
    "\n",
    "#### Fadenpendel\n",
    "\n",
    "$\\omega = \\sqrt{\\frac{l}{g}}$\n",
    "\n",
    "#### Physikalisches Pendel\n",
    "\n",
    "$\\omega = \\sqrt{\\frac{l\\cdot m\\cdot g}{J}}$  \n",
    "\n",
    "### Gedämpfte Schwingung\n",
    "\n",
    "$\\hat{A}(n) = \\hat{A}_0 \\cdot e^{\\delta\\cdot n} = \\hat{A}_0 \\cdot k^{n}$  \n",
    "\n",
    "$k = \\sqrt[n-m]{\\frac{A_n}{A_m}}$  "
   ]
  },
  {
   "cell_type": "markdown",
   "metadata": {
    "tags": []
   },
   "source": [
    "## Hydrostatik"
   ]
  },
  {
   "cell_type": "markdown",
   "metadata": {},
   "source": [
    "\n",
    "### Auftrieb\n",
    "\n",
    "$F_A = \\rho_{umgebung}\\cdot V\\cdot g$  \n",
    "\n",
    "### Bernuli-Gleichung\n",
    "\n",
    "$p_0 + \\rho\\cdot g\\cdot \\Delta h + \\rho\\cdot\\frac{v^2}{2} $\n",
    "\n",
    "$A_1 \\cdot v_1 = A_2\\cdot v_2$\n",
    "\n",
    "### Druck\n",
    "#### Luft\n",
    "\n",
    "$p_(H) = p_0\\cdot e^{\\frac{H}{H_0}}$\n",
    "\n",
    "#### Wasser\n",
    "\n",
    "$p(h) = p_0 + \\rho\\cdot g\\cdot h$  \n",
    "\n",
    "#### Kapilare Steighöhe  \n",
    "\n",
    "$h = \\frac{2\\cdot\\sigma\\cdot cos \\theta}{h~g~r}$"
   ]
  },
  {
   "cell_type": "markdown",
   "metadata": {
    "tags": []
   },
   "source": [
    "## Wellen"
   ]
  },
  {
   "cell_type": "markdown",
   "metadata": {
    "tags": []
   },
   "source": [
    "$c = f\\cdot\\lambda$  \n",
    "$T = \\frac{1}{f}$  \n",
    "$\\omega = 2\\pi\\cdot f$\n",
    "\n",
    "\n",
    "### Longitudinal  \n",
    "$v = \\sqrt{\\frac{E}{\\rho}}$\n",
    "  \n",
    "### Transversal\n",
    "#### Am Losen Ende\n",
    "##### Abstand des n-ten Schwingungsknotens zur Wand\n",
    "$D = (n + \\frac{1}{2})\\cdot \\frac{\\lambda}{2}$  \n",
    "\n",
    "###### Abstand des n-ten Schwingungsbauches zur Wand\n",
    "$D = n\\cdot \\frac{\\lambda}{2}$\n",
    "\n",
    "##### Am Festen Ende\n",
    "###### Abstand des n-ten Schwingungsknotens zur Wand\n",
    "$D = n\\cdot \\frac{\\lambda}{2}$\n",
    "\n",
    "###### Abstand des n-ten Schwingungsbauches zur Wand\n",
    "$D = (n + \\frac{1}{2})\\cdot \\frac{\\lambda}{2}$  \n",
    "\n",
    "\n",
    "##### Grundfrequenz Saite\n",
    "$v = \\frac{2}{D}\\cdot\\sqrt{\\frac{F}{\\pi\\cdot\\rho}}$  \n",
    "$f = \\frac{v}{L}$\n",
    "\n",
    "##### Grundfrequenz Luftsäule\n",
    "###### Einseitig Offen\n",
    "$f = \\frac{c}{4l}$  \n",
    "###### Beidseitig Offen\n",
    "$f = \\frac{c}{2l}$\n",
    "\n",
    "### Beugung\n",
    "#### Einzelspalt\n",
    "##### Maxima  \n",
    "$sin(\\alpha) = \\frac{(k+.5)\\cdot \\lambda}{l}$\n",
    "\n",
    "##### Minima  \n",
    "$sin(\\alpha) = \\frac{k\\cdot \\lambda}{l}$\n",
    "\n",
    "#### Doppelspalt  \n",
    "$d$... Abstand bei der Wand vom Mittelpunkt aus  \n",
    "$a$... normal Abstand von der Wand zu den Spalten  \n",
    "$g$... Abstand zwischen den Spalten  \n",
    "##### Maxima  \n",
    "$d = k\\cdot\\lambda \\cdot \\frac{a}{g}$\n",
    "##### Minima    \n",
    "$d = (2k+1)\\cdot\\frac{\\lambda}{2}\\frac{a}{g}$\n",
    "\n",
    "\n",
    "### Brechung\n",
    "$\\frac{sin(\\alpha)}{sin(\\beta)} = \\frac{n_1}{n_2}$\n",
    "\n",
    "### Reflexion\n",
    "$\\alpha = \\alpha'$  \n",
    "\n",
    "### Doppler-Effekt\n",
    "\n",
    "$f_0 = \\frac{c + v_{Empfänger}}{c + v_{Sender}}\\cdot f_s$  "
   ]
  },
  {
   "cell_type": "markdown",
   "metadata": {
    "jp-MarkdownHeadingCollapsed": true,
    "tags": []
   },
   "source": [
    "## Thermodynamik"
   ]
  },
  {
   "cell_type": "markdown",
   "metadata": {},
   "source": [
    "### Wärmeausdehnung  \n",
    "\n",
    "$\\Delta l = l_0\\cdot~\\alpha\\cdot\\Delta T$  \n",
    "\n",
    "### Flächenausdehnung  \n",
    "\n",
    "$\\Delta A = A_0\\cdot~\\beta\\cdot\\Delta T$  \n",
    "$\\beta = 2\\alpha$  \n",
    "\n",
    "### Volumenausdehnung  \n",
    "\n",
    "$\\Delta V = V_0\\cdot~\\gamma\\cdot \\Delta T$  \n",
    "$\\gamma = 3\\alpha$  \n",
    "\n",
    "### Wärmeleitung  \n",
    "\n",
    "<!---$\\dot{q} = \\frac{\\dot{Q}}{A}$  -->  \n",
    "$\\dot{Q} = \\frac{\\lambda}{l}\\cdot A\\cdot \\Delta T = \\dot{q}\\cdot A$  \n",
    "$q = k\\cdot \\Delta T$  \n",
    "$\\frac{1}{k} = \\frac{1}{\\alpha_{Innen}} + \\frac{1}{\\alpha_{Außen}} + \\sum \\limits_{i} \\frac{l_i}{\\lambda_i}$  \n",
    "\n",
    "### Ideale Gasgleichung\n",
    "$\\frac{p\\cdot V}{T} = m\\cdot R_s = n\\cdot R = const$  "
   ]
  },
  {
   "cell_type": "markdown",
   "metadata": {
    "jp-MarkdownHeadingCollapsed": true,
    "tags": []
   },
   "source": [
    "## Moderne Physik"
   ]
  },
  {
   "cell_type": "markdown",
   "metadata": {
    "tags": []
   },
   "source": [
    "### Röntgen  \n",
    "\n",
    "$f \\leq \\frac{U\\cdot e}{h}$  \n",
    "$\\lambda = \\geq \\frac{h}{U\\cdot e}$  \n",
    "\n",
    "### Heisenberg'sche Unschärferelation\n",
    "\n",
    "$\\Delta x\\cdot\\Delta p \\geq \\hbar$  \n",
    "$\\Delta E\\cdot\\Delta t \\geq \\hbar$\n",
    "\n",
    "### Photonen  \n",
    "\n",
    "$E = h\\cdot f = m\\cdot c^2$  \n",
    "$\\psi^2(x, t)$... Aufenthaltswahrscheinlichkeit  \n",
    "\n",
    "### Energieniveau Wasserstoff\n",
    "\n",
    "$E_n = R_y\\cdot \\frac{Z^2}{n^2}$"
   ]
  },
  {
   "cell_type": "markdown",
   "metadata": {},
   "source": [
    "# Chemie"
   ]
  },
  {
   "cell_type": "markdown",
   "metadata": {},
   "source": [
    "\n"
   ]
  }
 ],
 "metadata": {
  "kernelspec": {
   "display_name": "Julia 1.8.5",
   "language": "julia",
   "name": "julia-1.8"
  },
  "language_info": {
   "file_extension": ".jl",
   "mimetype": "application/julia",
   "name": "julia",
   "version": "1.8.5"
  },
  "toc-autonumbering": true
 },
 "nbformat": 4,
 "nbformat_minor": 4
}