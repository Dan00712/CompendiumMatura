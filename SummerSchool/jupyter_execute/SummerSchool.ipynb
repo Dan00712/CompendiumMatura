{
 "cells": [
  {
   "cell_type": "code",
   "execution_count": 1,
   "id": "60b65872-3fb1-4a6b-8798-a680673e3067",
   "metadata": {},
   "outputs": [],
   "source": [
    "using DrWatson\n",
    "@quickactivate  \n",
    "\n",
    "using Printf"
   ]
  },
  {
   "cell_type": "markdown",
   "id": "53d069c9-e5af-40bc-9842-51c7910bab29",
   "metadata": {
    "jp-MarkdownHeadingCollapsed": true,
    "tags": []
   },
   "source": [
    "# Chemistry - 05-09-2022"
   ]
  },
  {
   "cell_type": "markdown",
   "id": "b35101f7-3efb-4e0d-ac6c-f0cdff97953c",
   "metadata": {},
   "source": [
    "Bspfrage:  \n",
    "- a  \n",
    "    \n",
    "- b   \n",
    "    \n",
    "- c  \n",
    "    \n",
    "- d  \n",
    "    "
   ]
  },
  {
   "cell_type": "markdown",
   "id": "161bda71-5c53-41ef-9908-8f017c74d475",
   "metadata": {
    "tags": []
   },
   "source": [
    "## Thema 1"
   ]
  },
  {
   "cell_type": "markdown",
   "id": "766ee833-2b1f-4db9-9520-5f4ef9e7ebed",
   "metadata": {},
   "source": [
    "### Aggregatzustände\n",
    "\n",
    "Phasendiagramm wichtig  \n",
    "\n",
    "Ideales Gas ($22.4 \\frac{l}{mol}$, kommt alleine nicht); Wetterballon wichtig (auch Taucher);  \n",
    "Flüssig; Gleichgewicht Phasen;  \n",
    "\n",
    "Trennverfahren logisch lernen  \n",
    "\n",
    "\n",
    "Teilchen  \n",
    "Radioaktivität weniger  \n",
    "\n",
    "Elektronenkonfiugration wichtig  \n",
    "\n",
    "Jedes Elektron eigenen Energiezustand, 4 Quantenzahlen  \n",
    "\n",
    "Periodensystem nach Pauli-Verbot und Hundsche Regel geordnet  \n",
    "\n",
    "- Hauptquantenzahl: Schalen  \n",
    "- Nebenquantenzahl: Oribtalform  \n",
    "- Magnetquantenzahl: Räumliche Ordnung d. Räumlichen Ordnung  \n",
    "- Spinquantenzahl: Drehrichtung  \n",
    "\n",
    "Äußere Schale bedeutet nich automatisch mehr Energie  \n",
    "Elektronenkonfiguration mit Periodensystem erkennen  \n",
    "\n",
    "keine Explizite Frage zum Periodensystem  \n",
    "Hauptgruppen nicht Auswendig\n",
    "\n",
    "### Chemische Bindungen  \n",
    "\n",
    "- Ionenbindung  \n",
    "    ein Ion gibt Elektronen ab anderes nimmt auf  \n",
    "    in Wasser gelöst Gitterenergie wird frei  \n",
    "    Metall + Nichtmetall\n",
    "- Atombindung  \n",
    "    Elektronen können gemeinsam genutzt werden  \n",
    "    2 Nichtmetalle  \n",
    "    Polar | Unpolar  \n",
    "    Dipol (Partialladung)  \n",
    "- Metallbindung  \n",
    "    Geben alle Elektronen ab (Elektronensee)  \n",
    "    2 Metalle  \n",
    "\n",
    "- Komplexverbind  \n",
    "    Moleküle lagern sich um zentrales Molekül  \n",
    "\n",
    "Zwischenmolekulare Kräfte  \n",
    "\n",
    "- Wasserstoffbrücken: Wegen Partialladung  \n",
    "    Dynamische Wechselwirkungen  \n",
    "- Van-der-Vals-Kräfte  \n",
    "    Temporere Partialladung  \n",
    "\n",
    "Nomenklatur + Stoffmenge + Molare Masse kein eigenes Bsp. aber wichtig  \n",
    "~~$* \\bullet~X~H_2O$~~  \n",
    "\n",
    "**Wichtig:**  \n",
    "\n",
    "$c = \\frac{n}{V}$  \n",
    "$c_1 \\cdot V_1 = c_2 \\cdot V_2$  \n",
    "\n",
    "\n",
    "### Stöchiometrie  \n",
    "\n",
    "logisch  \n",
    "keine Frage explizit Stöchiometrie\n",
    "\n",
    "### Reaktionskinetik  \n",
    "\n",
    "kein Massenwirkungsgesetz aufstellen  \n",
    "Bedeutung schon  \n",
    "\n",
    "Beinflussen mit...  \n",
    "\n",
    "Exo- & Endotherme Reaktionen  \n",
    "Endoterm (Kalkbrennen)\n",
    "Exoterm (Nitroglycerin)  \n",
    "\n",
    "Kat  \n",
    "\n",
    "### Säure  \n",
    "\n",
    "Arrhenius am wichtigsten  \n",
    "Brönsted/ Lewis grob beschreiben  \n",
    "~~Amphylite~~  \n",
    "\n",
    "Definition pH/pOH  \n",
    "\n",
    "Dissoziationsgrad  \n",
    "pK_S wert Starke Säuren  \n",
    "von Liste und Berechnen  \n",
    "\n",
    "Titration nur von Starken Säuren/Basen!  \n",
    "\n",
    "Puffer nur erklären  \n",
    "\n",
    "### Redox  \n",
    "\n",
    "nutzen (elektr. Energie, Elektrolyse,...)  \n",
    "\n",
    "Reduktion und Oxidation definition  \n",
    "\n",
    "Gekoppelte Reaktion; wo Reduktion eine Oxidation  \n",
    "In elementarer Zustand Oxidationszahl Null  \n",
    "\n",
    "keine Redoxreaktion vollständig lösen  \n",
    "\n",
    "\n",
    "Halbgleichungen  \n",
    "wie z.B elektro Chemie  "
   ]
  },
  {
   "cell_type": "code",
   "execution_count": 2,
   "id": "4014e5b2-89b5-43a0-9df0-39ee1805f40d",
   "metadata": {},
   "outputs": [
    {
     "name": "stdout",
     "output_type": "stream",
     "text": [
      "V₁ = 2.396E+00 m³\n",
      "V₁ = 2.396E+03 L"
     ]
    }
   ],
   "source": [
    "# Wetterballon\n",
    "V_0 = 300 * 1e-3  \n",
    "T_0 = 273.15\n",
    "p_0 = 1.013 * 1e-5\n",
    "\n",
    "p_1 = .1013e-5\n",
    "T_1 = 273.15 - 55\n",
    "\n",
    "# Stoffmenge n₁ = n₂\n",
    "\n",
    "V_1 = (p_0/p_1) * (T_1/T_0) * V_0\n",
    "\n",
    "@printf \"V₁ = %.3E m³\\n\" V_1  \n",
    "@printf \"V₁ = %.3E L\" V_1 * 1e+3"
   ]
  },
  {
   "cell_type": "code",
   "execution_count": 3,
   "id": "a6761aff-9ccf-4b70-8778-c709a1f8314b",
   "metadata": {},
   "outputs": [
    {
     "name": "stdout",
     "output_type": "stream",
     "text": [
      "Masse der Essigsäure: 6.00E+00\n"
     ]
    }
   ],
   "source": [
    "# Kaffemaschnine\n",
    "M_Kalk = 40 + 12 + 3*16  \n",
    "M_Essig = 2*12 + 4 + 2*16  \n",
    "\n",
    "# 1 Kalk + 2 Essig ->  \n",
    "\n",
    "n = 5/100  \n",
    "m_Essig = (2 * M_Essig) * n\n",
    "\n",
    "@printf \"Masse der Essigsäure: %.2E\\n\" m_Essig"
   ]
  },
  {
   "cell_type": "markdown",
   "id": "a65c84e0-585e-4175-9094-8ba9eb280fc4",
   "metadata": {
    "jp-MarkdownHeadingCollapsed": true,
    "tags": []
   },
   "source": [
    "## Elektrochemie"
   ]
  },
  {
   "cell_type": "markdown",
   "id": "5634bf1d-b152-438d-b62d-e634ba977400",
   "metadata": {},
   "source": [
    "### Elektrische Leiter  \n",
    "\n",
    "1./2. Klasse  \n",
    "\n",
    "Halbelment \n",
    "\n",
    "Spannungsreihe  \n",
    "\n",
    "Bedeutung  \n",
    "\n",
    "### Faradaysche Gesetz"
   ]
  },
  {
   "cell_type": "code",
   "execution_count": 4,
   "id": "044b39c2-c997-4d49-88ca-4f0c87ad18fc",
   "metadata": {},
   "outputs": [],
   "source": []
  },
  {
   "cell_type": "markdown",
   "id": "beb1ba63-0126-4129-9ad5-fc258d1f0ae1",
   "metadata": {
    "tags": []
   },
   "source": [
    "# Chemistry - 09-09-2022"
   ]
  },
  {
   "cell_type": "markdown",
   "id": "ecf72aa1-646e-47cc-b10c-04c8fd36f3c9",
   "metadata": {
    "jp-MarkdownHeadingCollapsed": true,
    "tags": []
   },
   "source": [
    "## Elektrochemie"
   ]
  },
  {
   "cell_type": "markdown",
   "id": "34b549cf-4e65-4166-8137-7e720bc70bf4",
   "metadata": {
    "jp-MarkdownHeadingCollapsed": true,
    "tags": []
   },
   "source": [
    "Umwandlung chemische elektrische Energie\n",
    "\n",
    "Leiter 1./2.-Klasse\n",
    "\n",
    "Halbelement  \n",
    "\n",
    "edel vs unedel  \n",
    "\n",
    "Normalspannung-herleitung  \n",
    "=> Praktische bedeutung  \n",
    "\n",
    "### Faraday\n",
    "Faraday Formel ja, Konstante nein  \n",
    "bsp. Bleiakku wichtig  \n",
    "Faradaysche Gesetz  \n",
    "\n",
    "\n",
    "Bleiakku gesamt können  "
   ]
  },
  {
   "cell_type": "code",
   "execution_count": 4,
   "id": "6418e582-9a1e-4f53-9f1d-cf89879eb929",
   "metadata": {},
   "outputs": [
    {
     "name": "stdout",
     "output_type": "stream",
     "text": [
      "n = Q / (z * F) = 1.5857387158625693\n",
      "m_blei = (M_blei * n * 6) / 1000 = 1.9694874851013113\n",
      "m_bleioxid = (M_bleoxid * n * 6) / 1000 = 2.2739493185469244\n",
      "m_H2SO4 = (M_H2SO4 * n * 6 * 2) / 1000 = 1.8648287298543818\n"
     ]
    },
    {
     "data": {
      "text/plain": [
       "1.8648287298543818"
      ]
     },
     "execution_count": 4,
     "metadata": {},
     "output_type": "execute_result"
    }
   ],
   "source": [
    "# Bleiakku\n",
    "\n",
    "# Q = n * z * F\n",
    "\n",
    "Q = 85 * 3600\n",
    "F = 96485\n",
    "z = 2\n",
    "\n",
    "# n = Q/(z*F)\n",
    "@show n = Q/(z * F)\n",
    "\n",
    "M_blei = 207\n",
    "M_bleoxid = 207 + 2 * 16\n",
    "M_H2SO4 = 2 + (4*16) + 32\n",
    "\n",
    "@show m_blei =     M_blei    * n * 6     /1000\n",
    "@show m_bleioxid = M_bleoxid * n * 6     /1000\n",
    "@show m_H2SO4 =    M_H2SO4   * n * 6 * 2 /1000"
   ]
  },
  {
   "cell_type": "markdown",
   "id": "3a770891-31ad-4d06-a2e7-82214bc1b617",
   "metadata": {},
   "source": [
    "Anforderung Sidefragen  \n",
    "\n",
    "### Akkus\n",
    "\n",
    "Können:\n",
    "- Daniellelement  \n",
    "- Zink-Hohle Zelle (Erklären wichtiger)  \n",
    "    - Zinkbecher:\n",
    "        Gehäuse und Elektrode (Anode)  \n",
    "        Gehäuse löst sich auf\n",
    "        Mittlerweile in Kunststoffmantel\n",
    "    - Kohle  \n",
    "        nur Leiter\n",
    "    - Manganodxid\n",
    "        Kathode\n",
    "- Alkali Mangan Zelle\n",
    "    Reaktionsgleichung gleich  \n",
    "    Stahlmantel\n",
    "- Knopf Zelle  \n",
    "    Sidefrage (Bauarten)  \n",
    "<!---->\n",
    "\n",
    "- Bleiakku  \n",
    "    - entsteht beim Laden: Wasser  \n",
    "    - entsteht beim Entladen: Bleisulfid  \n",
    "    - Sonderinformationen als Zusatz  \n",
    "- Nickel Metallhydrid  \n",
    "    Keine eigene Frage  \n",
    "- Lithium  \n",
    "    Minimalistisch  \n",
    "    - Elektrolyt: organisches Lösungsmittel  \n",
    "<!---->\n",
    "\n",
    "- Brennstoffzelle allgemein  \n",
    "    - Elektrolyt gleich KOH H_3O+\n",
    "    Teilfrage  \n",
    "\n",
    "### Elektrolyse  \n",
    "\n",
    "Umgekehrt Batterien  \n",
    "\n",
    "Überspannung:  \n",
    "Warum?  \n",
    "Regelungstechnisch verarbeiten  \n",
    "    Möglichst lange Lebenszeit \n",
    "\n",
    "#### Elektrolyse des Wassers:  \n",
    "\n",
    "Verwendung  \n",
    "Arten von Wasserstoff  \n",
    "\n",
    "#### Kupferelektrolyse  \n",
    "\n",
    "Fast reines Kupfer zu reinem Kupfer  \n",
    "Spannung reicht um Kupfer abzuscheiden  \n",
    "Zink scheidet sich ab, kann sich **nicht** abscheiden\n",
    "Gold/Silber kann sich nicht ablösen\n",
    "\n",
    "#### ~~Chloralkalieelektrolyse~~  \n",
    "\n",
    "#### Aluminium  \n",
    "    aus was besteht Aluminium, Bauxit,...  \n",
    "    Bauxit: 50% $Al_2O_3$, 10-30% $Fe_2O_3$, $SiO_2$, Schmelzpunkt: 2050  \n",
    "    Kryolit: $Na_3AlF_6$, Schmelzpunkt: 1000\n",
    "    flüssiges Krylit löst Bauxit auf!\n",
    "    Bayer-verfahren können  \n",
    "    \n",
    "    Kohlewanne wegen Anode  \n",
    "    grob aufzeichnen\n",
    "\n",
    "### Korrosion\n",
    "\n",
    "#### Erscheinungen \n",
    "\n",
    "Grob Arten  \n",
    "Ursachen  \n",
    "- **chemischen Vorgänge**  \n",
    "    - woher\n",
    "- **Elektrochemische Vorgänge**  \n",
    "\n",
    "Rostbildung bei Gegenwart von Wasser (auch Skizze)  \n",
    "\n",
    "ablösen augrund von Kristall-Struktur  \n",
    "\n",
    "elektrochemische Korrosion:  \n",
    "**Ausbildung eines Galvanischen Elementes**  \n",
    "\n",
    "#### Korrosionsschutz  \n",
    "\n",
    "- Werkstoff  \n",
    "- Medium  \n",
    "- Phasengrenze  \n",
    "\n",
    "Passiver Schutz bei beschädigung von passivem Schutz => unwirksam  \n",
    "Aktiver Schutz galvanisches Element mit Unedleren Metall => Unedlere Metall löst sich auf  \n",
    "- Rohrleitungen unter Straße  "
   ]
  },
  {
   "cell_type": "markdown",
   "id": "6a17e058-8fa7-42b5-9824-8b5a82b7e8ed",
   "metadata": {
    "jp-MarkdownHeadingCollapsed": true,
    "tags": []
   },
   "source": [
    "## Technische Chemie"
   ]
  },
  {
   "cell_type": "markdown",
   "id": "6d84ea2c-4164-45e7-8d86-8ce41cc87e52",
   "metadata": {},
   "source": [
    "### Fossile Rohstoffe  \n",
    "\n",
    "#### Fragmentierung \n",
    "\n",
    "aufspaltung von C-C Ketten  \n",
    "Diesel 25  \n",
    "Benzin kürzer  \n",
    "\n",
    "### Bierbrauen  \n",
    "\n",
    "Rohstoffe  \n",
    "\n",
    "Hefe-damals noch nicht bekannt  \n",
    "\n",
    "#### Wasser  \n",
    "\n",
    "grob Einfluss\n",
    "\n",
    "#### Getreide  \n",
    "\n",
    "Keimen - Warum  \n",
    "Enzym, was macht es, was ist es,  \n",
    "**Amylase für Stärke**  \n",
    "\n",
    "Schlüssel-Schloss-Prinzip  \n",
    "\n",
    "Enzym spaltet Stärke auf  \n",
    "\n",
    "#### Hopfen  \n",
    "\n",
    "Alpha Säure existiert  \n",
    "\n",
    "Warum  \n",
    "\n",
    "#### Hefe  \n",
    "\n",
    "Pilz, Obergärig | Untergärig  \n",
    "\n",
    "Zucker -> Alkohol  \n",
    "\n",
    "#### Fermentierung \n",
    "\n",
    "Tabelle wenn \n",
    "\n",
    "Blackboxen:  \n",
    "-> Maischen -> Läutern -> Würzekochen -> Whirlpool ->...  \n",
    "\n",
    "Maischdiagramm grob warum dT\n",
    "\n",
    "Maischplan, Iod-Probe  \n",
    "\n",
    "### Insulin  \n",
    "\n",
    "Aus was ist es Aufbegaut  \n",
    "2 Aminosäureketten mit 3 Brücken  \n",
    "\n",
    "Was Früher, was Heute  \n",
    "\n",
    "Insulin aus Pankreas von Schweinen -> ... -> Künstliches  \n",
    "\n",
    "\n",
    "Diabetes Typ 1./2.  \n",
    "\n",
    "DNA in Plasmid  \n",
    " (Plasmid wichtig)  \n",
    "Zelle vermehren  \n",
    "Produktion Vorstuffe  \n",
    "Fertigstellung durch Hormon\n",
    "\n",
    "Hormon besteht aus Aminosäuren  \n",
    "\n",
    "1. DNA Codiert Aminosäure  \n",
    "2. Einbau von Markern  \n",
    "3. Plasmid  \n",
    "4. öffnung von Plasmid  \n",
    "5. Einbau in Plasmid  \n",
    "6. Plasmid in Zelle   \n",
    "7. Zelle vermehrt sich  \n",
    "8. Insulin wird in Zelle Produziert\n",
    "\n",
    "(Ligation verwenden)  \n",
    "\n",
    "### Anitbiotika  \n",
    "\n",
    "Wie wirken Antibiotika  \n",
    "\n",
    "Bakteriozid & Bakteriostatisch  \n",
    "\n",
    "Herstellung  \n",
    "\n",
    "### PCR  \n",
    "\n",
    "Materialien  \n",
    "\n",
    "- Isolierung  \n",
    "- Schritte nach Skizze beschreiben  \n",
    "\n",
    "CT-Wert\n",
    "\n",
    "Je höher CT desto geringer Konzentration  \n",
    "\n",
    "Einsatzgebiet  \n",
    "\n",
    "### Gelekektrophorese  \n",
    "\n",
    "Marker als Referenz  \n",
    "\n"
   ]
  },
  {
   "cell_type": "markdown",
   "id": "567c6c3a-3b14-49e1-b08a-1dd5d765ebf3",
   "metadata": {},
   "source": [
    "## Organische Chemie"
   ]
  },
  {
   "cell_type": "markdown",
   "id": "1eaf54c5-6d77-497e-93c8-09bdc8a11a68",
   "metadata": {},
   "source": [
    "### Allgemein  \n",
    "\n",
    "Nomenklatur  \n",
    "Funktionelle Gruppe \n",
    "\n",
    "Wichtige Reaktionen  \n",
    "\n",
    "### Fett/Öle  \n",
    "\n",
    "Aufbau  \n",
    "- gesättigt\n",
    "- ungesättigt\n",
    "\n",
    "### Schreibweisen  \n",
    "\n",
    "Fischer und Haworth (zeigt nach oben/ unten)  \n",
    "\n",
    "### Unterschied Aldose Ketose  \n",
    "\n",
    "### Disaccharide  \n",
    "\n",
    "### Glycosidische Bindungen  \n",
    "\n",
    "Verbindung Einfachzucker   \n",
    "Nur ausschnitt, reicht  \n",
    "\n",
    "### Polysaccharide  \n",
    "\n",
    "Wichtigste Vertreter $\\alpha-1,6$ Bedeutung  \n",
    "Alpha Lage vom C-Atom. Beta auch die Verbindung  \n",
    "\n",
    "### Aminosäure  \n",
    "\n",
    "Aufbau  \n",
    "\n",
    "### Peptidbindung  \n",
    "\n",
    "aufzeichnen  \n",
    "\n",
    "### Proteinstruktur  \n",
    "\n",
    "Primär, Secundär, Tertiär, Quartärstruktur  \n",
    "\n",
    "### Nukleinsäuren\n",
    "\n",
    "aufzeichnen  \n",
    "- Phosphat + Basis reicht  \n",
    "\n",
    "### Zellbiologie \n",
    "\n",
    "\n",
    "Zelle beschreiben bzw. aufzeichnen  \n",
    "\n",
    "Bakterium aufbau und Funktionen der bestandteile  \n",
    "\n",
    "- Plasmid  \n",
    "- Ribosomen  \n",
    "    Aufgabe  \n",
    "- Cytoplasma  \n",
    "- Zellmembran  \n",
    "    nicht nähre\n",
    "- Endoplasmatische Reitkolum nicht genau    \n",
    "- Zellwand\n",
    "\n",
    "\n",
    "Prokaryoten vs Eukaryoten vergleichen  \n",
    "\n",
    "Eukaryoten DNA  \n",
    "\n",
    "Planzen Zelle und Tierzelle\n",
    "\n",
    "Zellteilung \n",
    "Erbgut  \n",
    "\n",
    "Unterschied Meiose und Mitose  \n",
    "\n",
    "Meiose und Mitose  \n",
    "\n",
    "Phasen \n",
    "\n",
    "Grober Vorgang  \n",
    "\n",
    "Proteinbiosynthese  \n",
    "\n",
    "Transkription und Translation  \n",
    "\n",
    "Replikation  \n",
    "\n",
    "### Mendel"
   ]
  },
  {
   "cell_type": "markdown",
   "id": "5fa7dacb-6761-4ab2-b570-b90091ec6624",
   "metadata": {
    "jp-MarkdownHeadingCollapsed": true,
    "tags": []
   },
   "source": [
    "# Physics - 05-09-2022"
   ]
  },
  {
   "cell_type": "markdown",
   "id": "655016eb-9457-4dbc-bd70-f3a7cf63af4a",
   "metadata": {},
   "source": [
    "## Sprengung eines Felsens  \n",
    "\n",
    "Stein mit Masse, Loch wird gebort, Schwarzpulver rein und gesprengt, Masseverhältnise 2:1  \n",
    "\n",
    "$E = 100kJ$  \n",
    "$m = 2t$  \n",
    "$m_1 = \\frac{2}{3}t$  \n",
    "$m_2 = \\frac{4}{3}t$  \n",
    "\n",
    "$E_{kin} = \\frac{1}{2} m v^2$  \n",
    "$E_{kin; ges} = const = \\frac{1}{2} m_1 v_1^2 + \\frac{1}{2} m_2 v_2^2 + E_{BOOM} = \\frac{1}{2} m_1 v_1'^2 + \\frac{1}{2} m_2 v_2'^2$  \n",
    "\n",
    "$E_{BOOM} = 100kJ = \\frac{1}{2} m_1 v_1'^2 + \\frac{1}{2} m_2 v_2'^2$  \n",
    "$m_1 v_1 + m_2 v_2 = m_1 v_1' + m_2 v_2 = 0$  \n",
    "\n",
    "Einsetzen und Umformen  \n",
    "...  "
   ]
  },
  {
   "cell_type": "markdown",
   "id": "869155a1-840e-4a75-950a-56eedae1ef3c",
   "metadata": {},
   "source": [
    "## Floß  "
   ]
  },
  {
   "cell_type": "code",
   "execution_count": 5,
   "id": "c6c2b3c3-a5e2-4eff-933e-3d8fe9429855",
   "metadata": {},
   "outputs": [
    {
     "name": "stdout",
     "output_type": "stream",
     "text": [
      "V: 7.55E-01 m³\n",
      "A: 7.55E+00 m²\n",
      "a: √A = 2.75E+00 m\n"
     ]
    }
   ],
   "source": [
    "m = 400\n",
    "ρ_H = 470\n",
    "\n",
    "ρ_w = 1000\n",
    "\n",
    "g = 9.81\n",
    "# F_A = F_G + F_TL  \n",
    "# ρ_W g V = ρ_W g V + F_TL  \n",
    "\n",
    "# Vg( ρ_W - ρ_H) = F_TL\n",
    "\n",
    "V = (400)/(ρ_w - ρ_H)\n",
    "\n",
    "d = 10/100\n",
    "\n",
    "A = V/d  \n",
    "\n",
    "a = √(A)\n",
    "\n",
    "@printf \"V: %.2E m³\\n\" V\n",
    "@printf \"A: %.2E m²\\n\" A\n",
    "@printf \"a: √A = %.2E m\\n\" a"
   ]
  },
  {
   "cell_type": "markdown",
   "id": "6ac7a172-edfc-4f21-b5b7-2dd09a6f87a4",
   "metadata": {},
   "source": [
    "## Flugzeug"
   ]
  },
  {
   "cell_type": "markdown",
   "id": "af949593-b13d-4358-b4a4-3378388fd53a",
   "metadata": {},
   "source": [
    "Flugzeug steigt wegen $F_A$:  \n",
    "$F_A = \\frac{1}{2}~c_A \\cdot \\rho \\cdot v^2 \\cdot A$  \n",
    "($F_W = \\frac{1}{2}~c_W \\cdot \\rho \\cdot v^2 \\cdot A$)\n",
    "\n",
    "$\\frac{1}{2}\\rho v^2 + p_{st}$ ist falsch,\n",
    "    weil sich der obere Luftstrom nicht Beschleunigt,\n",
    "    nach dem Flügel entstehen Wirbel,\n",
    "    welche das Flugzeug nach oben drehen.  \n"
   ]
  },
  {
   "cell_type": "markdown",
   "id": "05ab18af-49f3-4fa5-a34c-252a33daf211",
   "metadata": {},
   "source": [
    "## Bernoulli"
   ]
  },
  {
   "cell_type": "markdown",
   "id": "86e12d05-4d05-49bb-886b-9a94ae558a55",
   "metadata": {},
   "source": [
    "Rennauto nutzt Bernoulli Gleichung, da unter dem Auto wenig Platz ist, durch $\\frac{1}{2} \\rho v^2 + p_{st}$"
   ]
  },
  {
   "cell_type": "markdown",
   "id": "6e857924-aa1c-4d08-a3db-c9e7d2d93302",
   "metadata": {},
   "source": [
    "## Energie"
   ]
  },
  {
   "cell_type": "markdown",
   "id": "320aab3c-8240-4f21-8a3d-f9a5e7dc8c8d",
   "metadata": {},
   "source": [
    "Energielücke Isolator > 4eV  \n",
    "\n",
    "$E = hf \\rightarrow$\n",
    "$f = 9.6E+15~Hz$  \n",
    "$\\lambda = \\frac{c}{f} = 3E-7~m$  "
   ]
  },
  {
   "cell_type": "code",
   "execution_count": 6,
   "id": "a35281c5-4538-4bac-b196-9f342e222bb6",
   "metadata": {},
   "outputs": [
    {
     "name": "stdout",
     "output_type": "stream",
     "text": [
      "9.67E+14"
     ]
    }
   ],
   "source": [
    "@printf \"%.2E\" (4 * 1.6e-19 / 6.62e-34)"
   ]
  },
  {
   "cell_type": "markdown",
   "id": "1bf7279b-a409-4549-95fa-6b63081679bf",
   "metadata": {},
   "source": [
    "## Übung"
   ]
  },
  {
   "cell_type": "code",
   "execution_count": 7,
   "id": "080c5005-ac5f-4faa-9662-112302f32ec0",
   "metadata": {},
   "outputs": [],
   "source": [
    "# Wahrscheinlichkeiten\n",
    "# 1. Unwahrscheinlicher Zustaand wird zu Aufgeteilten zustand => Wahrscheinlicher\n",
    "# 2. Wahrscheinlicher Zustand wird zu Unwahrscheinlichen => wirc geordnet => externe Energie muss aufgewendet werden\n",
    "\n",
    "# Entropie Entwicklung  \n",
    "# 1. Entropie nimmt zu; keine Schwerkraft => keine Energie von außen\n",
    "# 2. Entropie nimmt ab; Schwerkraft Energie von Außen => Ordnet das System\n",
    "\n",
    "# Entropie nimmt immer zu, bis zum Hitzetod des Universums => kompletter Ausgleich geschaffen\n",
    "# 2. Hautpsatz der Thermodynamik ΔH > 0 \n",
    "# Ein System mit maximaler Energie kann sich nicht verändern, ohne Energie von außen zu erhalten"
   ]
  },
  {
   "cell_type": "markdown",
   "id": "6b81061c-4f35-4123-b250-b8eda818545e",
   "metadata": {},
   "source": [
    "Entropie:  \n",
    "- Zusammenhang mit Wahrscheinlichkeit  \n",
    "- Zusammenhang mit den thermodynamischen Hauptsätzen  \n",
    "- Was gibt es zur Entropie in Zusa mit t\n",
    "\n",
    "\n",
    "Entropie ist ein maß für die Wahrscheinlichkeiten von Zuständen, je höher die Entropie je Wahrscheinlicher der Zustand  \n",
    "$S = k ln(p)$  \n",
    "\n",
    "Wahrscheinlichkeiten bei Box mit 2 Teilchen ist die Entropie bei Gleichverteilung am Größten  \n",
    "\n",
    "Normalverteilung\n",
    "\n",
    "Um die Entropie zu verringern muss Energie hinzugefügt werden, um die Entropie zu erhöhen muss nichts getan werden, dieser Schritt passiert automatisch.  \n",
    "\n",
    "Entropie muss mehr werden.  \n",
    "\n",
    "Nachdem die Zeit in eine Richtung geht, "
   ]
  }
 ],
 "metadata": {
  "kernelspec": {
   "display_name": "Julia 1.8.5",
   "language": "julia",
   "name": "julia-1.8"
  },
  "language_info": {
   "file_extension": ".jl",
   "mimetype": "application/julia",
   "name": "julia",
   "version": "1.8.5"
  }
 },
 "nbformat": 4,
 "nbformat_minor": 5
}