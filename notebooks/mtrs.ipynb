{
 "cells": [
  {
   "cell_type": "code",
   "execution_count": 1,
   "metadata": {
    "ExecuteTime": {
     "end_time": "2023-04-18T08:16:20.773907Z",
     "start_time": "2023-04-18T08:16:20.662492Z"
    },
    "tags": [
     "hide-input"
    ]
   },
   "outputs": [],
   "source": [
    "import schemdraw\n",
    "import schemdraw.elements as elm\n",
    "import schemdraw.logic as lgc\n",
    "\n",
    "import matplotlib.pyplot as plt\n",
    "import numpy as np\n",
    "from wand.image import Image as WImage \n",
    "from wand.api import library\n",
    "from ctypes import c_void_p, c_size_t\n",
    "library.MagickSetCompressionQuality.argtypes = [c_void_p, c_size_t]\n",
    "\n",
    "import os"
   ]
  },
  {
   "cell_type": "code",
   "execution_count": 2,
   "metadata": {
    "ExecuteTime": {
     "end_time": "2023-04-18T08:10:01.460662Z",
     "start_time": "2023-04-18T08:03:16.143564Z"
    },
    "collapsed": false,
    "jupyter": {
     "outputs_hidden": false
    },
    "tags": [
     "hide-input"
    ]
   },
   "outputs": [],
   "source": [
    "class MeterP(elm.Element):\n",
    "    def __init__(self, *args, **kwargs):\n",
    "        super(MeterP, self).__init__(*args, **kwargs)\n",
    "        self.segments.append(schemdraw.Segment([(0, 0), (2, 0)]))\n",
    "        self.segments.append(schemdraw.Segment([(1, 1), (1, -1)]))\n",
    "        self.segments.append(schemdraw.SegmentCircle((1, 0), .5))\n",
    "\n",
    "        self.anchors['inp_amp'] = (0,0)\n",
    "        self.anchors['out_amp'] = (2, 0)\n",
    "        self.anchors['inp_vol'] = (1, 1)\n",
    "        self.anchors['out_vol'] = (1, -1)"
   ]
  },
  {
   "cell_type": "raw",
   "metadata": {
    "tags": [
     "hide-input"
    ]
   },
   "source": [
    "\\tableofcontents"
   ]
  },
  {
   "cell_type": "markdown",
   "metadata": {
    "jp-MarkdownHeadingCollapsed": true,
    "tags": []
   },
   "source": [
    "# Basiswissen"
   ]
  },
  {
   "cell_type": "markdown",
   "metadata": {},
   "source": [
    "## SI-Einheiten"
   ]
  },
  {
   "cell_type": "markdown",
   "metadata": {},
   "source": [
    "| Formelzeichen | Name        | Einheit |\n",
    "|---------------|-------------|---------|\n",
    "| s             | Länge       | m       |\n",
    "| t             | Zeit        | s       |\n",
    "| K             | Temperatur  | T       |\n",
    "| I             | Stromstärke | A       |\n",
    "| m             | Masse       | kg      |\n"
   ]
  },
  {
   "cell_type": "markdown",
   "metadata": {},
   "source": [
    "## Einheiten gleichungen"
   ]
  },
  {
   "cell_type": "markdown",
   "metadata": {},
   "source": [
    "## relative- und absoluter Fehler\n"
   ]
  },
  {
   "cell_type": "markdown",
   "metadata": {},
   "source": [
    "## Maßnahmen zur Fehlervermeidung"
   ]
  },
  {
   "cell_type": "markdown",
   "metadata": {},
   "source": [
    "## Übersicht über die Messfehler"
   ]
  },
  {
   "cell_type": "markdown",
   "metadata": {},
   "source": [
    "### Systematische Fehler"
   ]
  },
  {
   "cell_type": "markdown",
   "metadata": {},
   "source": [
    "### Dynamische Fehler"
   ]
  },
  {
   "cell_type": "markdown",
   "metadata": {},
   "source": [
    "### Parallaxe fehler"
   ]
  },
  {
   "cell_type": "markdown",
   "metadata": {},
   "source": [
    "## Fehlerfortpflanzung"
   ]
  },
  {
   "cell_type": "markdown",
   "metadata": {},
   "source": [
    "## AD/DA"
   ]
  },
  {
   "cell_type": "markdown",
   "metadata": {},
   "source": [
    "### Quantisierungsfehler"
   ]
  },
  {
   "cell_type": "markdown",
   "metadata": {},
   "source": [
    "### Umsetzerkennlinien"
   ]
  },
  {
   "cell_type": "markdown",
   "metadata": {},
   "source": [
    "### Signalformen"
   ]
  },
  {
   "cell_type": "markdown",
   "metadata": {
    "tags": []
   },
   "source": [
    "# Messverfahren"
   ]
  },
  {
   "cell_type": "markdown",
   "metadata": {
    "tags": []
   },
   "source": [
    "## Analoges und Digitales Oszilloskop"
   ]
  },
  {
   "cell_type": "markdown",
   "metadata": {
    "tags": []
   },
   "source": [
    "## Leisungsmessung im 1-Phasen-System"
   ]
  },
  {
   "cell_type": "markdown",
   "metadata": {},
   "source": [
    "Leistung $= U\\cdot I$"
   ]
  },
  {
   "cell_type": "markdown",
   "metadata": {},
   "source": [
    "### Stromrichtige Messung"
   ]
  },
  {
   "cell_type": "code",
   "execution_count": 3,
   "metadata": {
    "ExecuteTime": {
     "end_time": "2023-04-18T08:10:01.460662Z",
     "start_time": "2023-04-18T08:03:16.144561Z"
    },
    "collapsed": false,
    "jupyter": {
     "outputs_hidden": false
    },
    "tags": [
     "hide-input"
    ]
   },
   "outputs": [
    {
     "data": {
      "image/png": "[encoded data removed]",
      "image/svg+xml": "<?xml version=\"1.0\" encoding=\"utf-8\" standalone=\"no\"?>\n<!DOCTYPE svg PUBLIC \"-//W3C//DTD SVG 1.1//EN\"\n  \"http://www.w3.org/Graphics/SVG/1.1/DTD/svg11.dtd\">\n<svg xmlns:xlink=\"http://www.w3.org/1999/xlink\" width=\"152.865pt\" height=\"145.555pt\" viewBox=\"0 0 152.865 145.555\" xmlns=\"http://www.w3.org/2000/svg\" version=\"1.1\">\n <metadata>\n  <rdf:RDF xmlns:dc=\"http://purl.org/dc/elements/1.1/\" xmlns:cc=\"http://creativecommons.org/ns#\" xmlns:rdf=\"http://www.w3.org/1999/02/22-rdf-syntax-ns#\">\n   <cc:Work>\n    <dc:type rdf:resource=\"http://purl.org/dc/dcmitype/StillImage\"/>\n    <dc:date>2023-04-18T10:54:14.387351</dc:date>\n    <dc:format>image/svg+xml</dc:format>\n    <dc:creator>\n     <cc:Agent>\n      <dc:title>Matplotlib v3.7.1, https://matplotlib.org/</dc:title>\n     </cc:Agent>\n    </dc:creator>\n   </cc:Work>\n  </rdf:RDF>\n </metadata>\n <defs>\n  <style type=\"text/css\">*{stroke-linejoin: round; stroke-linecap: butt}</style>\n </defs>\n <g id=\"figure_1\">\n  <g id=\"patch_1\">\n   <path d=\"M 0 145.555 \nL 152.865 145.555 \nL 152.865 0 \nL 0 0 \nz\n\" style=\"fill: #ffffff\"/>\n  </g>\n  <g id=\"axes_1\">\n   <g id=\"patch_2\">\n    <path d=\"M 89.055 56.5 \nC 93.112607 56.5 97.004572 54.887895 99.873734 52.018734 \nC 102.742895 49.149572 104.355 45.257607 104.355 41.2 \nC 104.355 37.142393 102.742895 33.250428 99.873734 30.381266 \nC 97.004572 27.512105 93.112607 25.9 89.055 25.9 \nC 84.997393 25.9 81.105428 27.512105 78.236266 30.381266 \nC 75.367105 33.250428 73.755 37.142393 73.755 41.2 \nC 73.755 45.257607 75.367105 49.149572 78.236266 52.018734 \nC 81.105428 54.887895 84.997393 56.5 89.055 56.5 \nL 89.055 56.5 \nz\n\" clip-path=\"url(#p021528d956)\" style=\"fill: none; stroke: #000000; stroke-width: 2; stroke-linejoin: miter\"/>\n   </g>\n   <g id=\"patch_3\">\n    <path d=\"M 43.155 102.4 \nC 47.212607 102.4 51.104572 100.787895 53.973734 97.918734 \nC 56.842895 95.049572 58.455 91.157607 58.455 87.1 \nC 58.455 83.042393 56.842895 79.150428 53.973734 76.281266 \nC 51.104572 73.412105 47.212607 71.8 43.155 71.8 \nC 39.097393 71.8 35.205428 73.412105 32.336266 76.281266 \nC 29.467105 79.150428 27.855 83.042393 27.855 87.1 \nC 27.855 91.157607 29.467105 95.049572 32.336266 97.918734 \nC 35.205428 100.787895 39.097393 102.4 43.155 102.4 \nL 43.155 102.4 \nz\n\" clip-path=\"url(#p021528d956)\" style=\"fill: none; stroke: #000000; stroke-width: 2; stroke-linejoin: miter\"/>\n   </g>\n   <g id=\"line2d_1\">\n    <path d=\"M 12.555 41.2 \nL 27.855 41.2 \nL 43.155 41.2 \n\" clip-path=\"url(#p021528d956)\" style=\"fill: none; stroke: #000000; stroke-width: 2; stroke-linecap: round\"/>\n   </g>\n   <g id=\"line2d_2\">\n    <path d=\"M 43.155 41.2 \nL 73.755 41.2 \nL 73.755 41.2 \nM 104.355 41.2 \nL 104.355 41.2 \nL 134.955 41.2 \n\" clip-path=\"url(#p021528d956)\" style=\"fill: none; stroke: #000000; stroke-width: 2; stroke-linecap: round\"/>\n   </g>\n   <g id=\"line2d_3\">\n    <path d=\"M 134.955 41.2 \nL 134.955 71.8 \nL 142.605 71.8 \nL 142.605 102.4 \nL 127.305 102.4 \nL 127.305 71.8 \nL 134.955 71.8 \nM 134.955 102.4 \nL 134.955 133 \n\" clip-path=\"url(#p021528d956)\" style=\"fill: none; stroke: #000000; stroke-width: 2; stroke-linecap: round\"/>\n   </g>\n   <g id=\"line2d_4\">\n    <path d=\"M 134.955 133 \nL 89.055 133 \nL 43.155 133 \n\" clip-path=\"url(#p021528d956)\" style=\"fill: none; stroke: #000000; stroke-width: 2; stroke-linecap: round\"/>\n   </g>\n   <g id=\"line2d_5\">\n    <path d=\"M 43.155 133 \nL 43.155 102.4 \nL 43.155 102.4 \nM 43.155 71.8 \nL 43.155 71.8 \nL 43.155 41.2 \n\" clip-path=\"url(#p021528d956)\" style=\"fill: none; stroke: #000000; stroke-width: 2; stroke-linecap: round\"/>\n   </g>\n   <g id=\"line2d_6\">\n    <path d=\"M 43.155 133 \nL 27.855 133 \nL 12.555 133 \n\" clip-path=\"url(#p021528d956)\" style=\"fill: none; stroke: #000000; stroke-width: 2; stroke-linecap: round\"/>\n   </g>\n   <g id=\"patch_4\">\n    <path d=\"M 43.155 43.495 \nC 43.763641 43.495 44.347436 43.253184 44.77781 42.82281 \nC 45.208184 42.392436 45.45 41.808641 45.45 41.2 \nC 45.45 40.591359 45.208184 40.007564 44.77781 39.57719 \nC 44.347436 39.146816 43.763641 38.905 43.155 38.905 \nC 42.546359 38.905 41.962564 39.146816 41.53219 39.57719 \nC 41.101816 40.007564 40.86 40.591359 40.86 41.2 \nC 40.86 41.808641 41.101816 42.392436 41.53219 42.82281 \nC 41.962564 43.253184 42.546359 43.495 43.155 43.495 \nz\n\" clip-path=\"url(#p021528d956)\" style=\"stroke: #000000; stroke-width: 2; stroke-linejoin: miter\"/>\n   </g>\n   <g id=\"patch_5\">\n    <path d=\"M 12.555 43.495 \nC 13.163641 43.495 13.747436 43.253184 14.17781 42.82281 \nC 14.608184 42.392436 14.85 41.808641 14.85 41.2 \nC 14.85 40.591359 14.608184 40.007564 14.17781 39.57719 \nC 13.747436 39.146816 13.163641 38.905 12.555 38.905 \nC 11.946359 38.905 11.362564 39.146816 10.93219 39.57719 \nC 10.501816 40.007564 10.26 40.591359 10.26 41.2 \nC 10.26 41.808641 10.501816 42.392436 10.93219 42.82281 \nC 11.362564 43.253184 11.946359 43.495 12.555 43.495 \nz\n\" clip-path=\"url(#p021528d956)\" style=\"fill: #ffffff; stroke: #000000; stroke-width: 2; stroke-linejoin: miter\"/>\n   </g>\n   <g id=\"text_1\">\n    <g clip-path=\"url(#p021528d956)\">\n     <!-- A -->\n     <g transform=\"translate(84.779609 44.649219) scale(0.125 -0.125)\">\n      <defs>\n       <path id=\"DejaVuSans-41\" d=\"M 2188 4044 \nL 1331 1722 \nL 3047 1722 \nL 2188 4044 \nz\nM 1831 4666 \nL 2547 4666 \nL 4325 0 \nL 3669 0 \nL 3244 1197 \nL 1141 1197 \nL 716 0 \nL 50 0 \nL 1831 4666 \nz\n\" transform=\"scale(0.015625)\"/>\n      </defs>\n      <use xlink:href=\"#DejaVuSans-41\"/>\n     </g>\n    </g>\n   </g>\n   <g id=\"text_2\">\n    <g clip-path=\"url(#p021528d956)\">\n     <!-- $R$ -->\n     <g transform=\"translate(115.495 90.549219) scale(0.125 -0.125)\">\n      <defs>\n       <path id=\"DejaVuSans-Oblique-52\" d=\"M 1613 4147 \nL 1294 2491 \nL 2106 2491 \nQ 2584 2491 2879 2755 \nQ 3175 3019 3175 3444 \nQ 3175 3784 2976 3965 \nQ 2778 4147 2406 4147 \nL 1613 4147 \nz\nM 2772 2241 \nQ 2972 2194 3105 2009 \nQ 3238 1825 3413 1275 \nL 3809 0 \nL 3144 0 \nL 2778 1197 \nQ 2638 1659 2453 1815 \nQ 2269 1972 1888 1972 \nL 1191 1972 \nL 806 0 \nL 172 0 \nL 1081 4666 \nL 2503 4666 \nQ 3150 4666 3495 4373 \nQ 3841 4081 3841 3531 \nQ 3841 3044 3547 2687 \nQ 3253 2331 2772 2241 \nz\n\" transform=\"scale(0.015625)\"/>\n      </defs>\n      <use xlink:href=\"#DejaVuSans-Oblique-52\" transform=\"translate(0 0.09375)\"/>\n     </g>\n    </g>\n   </g>\n   <g id=\"patch_6\">\n    <path d=\"M 43.155 135.295 \nC 43.763641 135.295 44.347436 135.053184 44.77781 134.62281 \nC 45.208184 134.192436 45.45 133.608641 45.45 133 \nC 45.45 132.391359 45.208184 131.807564 44.77781 131.37719 \nC 44.347436 130.946816 43.763641 130.705 43.155 130.705 \nC 42.546359 130.705 41.962564 130.946816 41.53219 131.37719 \nC 41.101816 131.807564 40.86 132.391359 40.86 133 \nC 40.86 133.608641 41.101816 134.192436 41.53219 134.62281 \nC 41.962564 135.053184 42.546359 135.295 43.155 135.295 \nz\n\" clip-path=\"url(#p021528d956)\" style=\"stroke: #000000; stroke-width: 2; stroke-linejoin: miter\"/>\n   </g>\n   <g id=\"text_3\">\n    <g clip-path=\"url(#p021528d956)\">\n     <!-- V -->\n     <g transform=\"translate(38.879609 90.549219) scale(0.125 -0.125)\">\n      <defs>\n       <path id=\"DejaVuSans-56\" d=\"M 1831 0 \nL 50 4666 \nL 709 4666 \nL 2188 738 \nL 3669 4666 \nL 4325 4666 \nL 2547 0 \nL 1831 0 \nz\n\" transform=\"scale(0.015625)\"/>\n      </defs>\n      <use xlink:href=\"#DejaVuSans-56\"/>\n     </g>\n    </g>\n   </g>\n   <g id=\"text_4\">\n    <g clip-path=\"url(#p021528d956)\">\n     <!-- $U$ -->\n     <g transform=\"translate(15.545 90.549219) scale(0.125 -0.125)\">\n      <defs>\n       <path id=\"DejaVuSans-Oblique-55\" d=\"M 991 4666 \nL 1625 4666 \nL 1075 1831 \nQ 1041 1641 1027 1517 \nQ 1013 1394 1013 1300 \nQ 1013 869 1253 645 \nQ 1494 422 1959 422 \nQ 2563 422 2898 753 \nQ 3234 1084 3378 1831 \nL 3928 4666 \nL 4563 4666 \nL 4000 1753 \nQ 3816 809 3300 359 \nQ 2784 -91 1888 -91 \nQ 1188 -91 780 261 \nQ 372 613 372 1216 \nQ 372 1325 387 1461 \nQ 403 1597 434 1753 \nL 991 4666 \nz\n\" transform=\"scale(0.015625)\"/>\n      </defs>\n      <use xlink:href=\"#DejaVuSans-Oblique-55\" transform=\"translate(0 0.09375)\"/>\n     </g>\n    </g>\n   </g>\n   <g id=\"patch_7\">\n    <path d=\"M 12.555 135.295 \nC 13.163641 135.295 13.747436 135.053184 14.17781 134.62281 \nC 14.608184 134.192436 14.85 133.608641 14.85 133 \nC 14.85 132.391359 14.608184 131.807564 14.17781 131.37719 \nC 13.747436 130.946816 13.163641 130.705 12.555 130.705 \nC 11.946359 130.705 11.362564 130.946816 10.93219 131.37719 \nC 10.501816 131.807564 10.26 132.391359 10.26 133 \nC 10.26 133.608641 10.501816 134.192436 10.93219 134.62281 \nC 11.362564 135.053184 11.946359 135.295 12.555 135.295 \nz\n\" clip-path=\"url(#p021528d956)\" style=\"fill: #ffffff; stroke: #000000; stroke-width: 2; stroke-linejoin: miter\"/>\n   </g>\n   <g id=\"line2d_7\">\n    <path d=\"M 101.295 41.2 \nL 101.295 41.2 \n\" clip-path=\"url(#p021528d956)\" style=\"fill: none; stroke: #000000; stroke-width: 2; stroke-linecap: round\"/>\n   </g>\n   <g id=\"patch_8\">\n    <path d=\"M 101.295 36.61 \nL 110.475 41.2 \nL 101.295 45.79 \nz\n\" clip-path=\"url(#p021528d956)\"/>\n   </g>\n   <g id=\"text_5\">\n    <g clip-path=\"url(#p021528d956)\">\n     <!-- $I$ -->\n     <g transform=\"translate(104.01 29.420391) scale(0.125 -0.125)\">\n      <defs>\n       <path id=\"DejaVuSans-Oblique-49\" d=\"M 1081 4666 \nL 1716 4666 \nL 806 0 \nL 172 0 \nL 1081 4666 \nz\n\" transform=\"scale(0.015625)\"/>\n      </defs>\n      <use xlink:href=\"#DejaVuSans-Oblique-49\" transform=\"translate(0 0.09375)\"/>\n     </g>\n    </g>\n   </g>\n  </g>\n </g>\n <defs>\n  <clipPath id=\"p021528d956\">\n   <rect x=\"7.2\" y=\"7.2\" width=\"138.465\" height=\"131.155\"/>\n  </clipPath>\n </defs>\n</svg>\n",
      "text/plain": [
       "<schemdraw.backends.mpl.Figure object at 0x00000277D0A52910>"
      ]
     },
     "metadata": {},
     "output_type": "display_data"
    }
   ],
   "source": [
    "with schemdraw.Drawing() as d:\n",
    "    #d += elm.Dot(open=True)\n",
    "    d += elm.Line().right().length(1).dot().idot(open=True)\n",
    "    an = d.here\n",
    "\n",
    "    d += (amp := elm.MeterA().right())\n",
    "    d += elm.CurrentLabelInline(amp).label('$I$').flip().reverse()\n",
    "\n",
    "    d += elm.ResistorIEC().down().label('$R$')\n",
    "    d += elm.Line().left().dot()\n",
    "\n",
    "    d.push()\n",
    "    d += (vm := elm.MeterV().to(an).label('$U$'))\n",
    "    d.pop()\n",
    "    d += elm.Line().left().length(1).dot(open=True)"
   ]
  },
  {
   "cell_type": "code",
   "execution_count": 4,
   "metadata": {
    "ExecuteTime": {
     "end_time": "2023-04-18T08:10:01.460662Z",
     "start_time": "2023-04-18T08:03:17.418847Z"
    },
    "collapsed": false,
    "jupyter": {
     "outputs_hidden": false
    },
    "tags": [
     "hide-input"
    ]
   },
   "outputs": [
    {
     "data": {
      "image/png": "[encoded data removed]",
      "image/svg+xml": "<?xml version=\"1.0\" encoding=\"utf-8\" standalone=\"no\"?>\n<!DOCTYPE svg PUBLIC \"-//W3C//DTD SVG 1.1//EN\"\n  \"http://www.w3.org/Graphics/SVG/1.1/DTD/svg11.dtd\">\n<svg xmlns:xlink=\"http://www.w3.org/1999/xlink\" width=\"152.865pt\" height=\"145.215pt\" viewBox=\"0 0 152.865 145.215\" xmlns=\"http://www.w3.org/2000/svg\" version=\"1.1\">\n <metadata>\n  <rdf:RDF xmlns:dc=\"http://purl.org/dc/elements/1.1/\" xmlns:cc=\"http://creativecommons.org/ns#\" xmlns:rdf=\"http://www.w3.org/1999/02/22-rdf-syntax-ns#\">\n   <cc:Work>\n    <dc:type rdf:resource=\"http://purl.org/dc/dcmitype/StillImage\"/>\n    <dc:date>2023-04-18T10:54:14.774514</dc:date>\n    <dc:format>image/svg+xml</dc:format>\n    <dc:creator>\n     <cc:Agent>\n      <dc:title>Matplotlib v3.7.1, https://matplotlib.org/</dc:title>\n     </cc:Agent>\n    </dc:creator>\n   </cc:Work>\n  </rdf:RDF>\n </metadata>\n <defs>\n  <style type=\"text/css\">*{stroke-linejoin: round; stroke-linecap: butt}</style>\n </defs>\n <g id=\"figure_1\">\n  <g id=\"patch_1\">\n   <path d=\"M 0 145.215 \nL 152.865 145.215 \nL 152.865 0 \nL 0 0 \nz\n\" style=\"fill: #ffffff\"/>\n  </g>\n  <g id=\"axes_1\">\n   <g id=\"patch_2\">\n    <path d=\"M 104.355 56.16 \nC 108.412607 56.16 112.304572 54.547895 115.173734 51.678734 \nC 118.042895 48.809572 119.655 44.917607 119.655 40.86 \nC 119.655 36.802393 118.042895 32.910428 115.173734 30.041266 \nC 112.304572 27.172105 108.412607 25.56 104.355 25.56 \nC 100.297393 25.56 96.405428 27.172105 93.536266 30.041266 \nC 90.667105 32.910428 89.055 36.802393 89.055 40.86 \nC 89.055 44.917607 90.667105 48.809572 93.536266 51.678734 \nC 96.405428 54.547895 100.297393 56.16 104.355 56.16 \nL 104.355 56.16 \nz\n\" clip-path=\"url(#p8f537f323d)\" style=\"fill: none; stroke: #000000; stroke-width: 2; stroke-linejoin: miter\"/>\n   </g>\n   <g id=\"line2d_1\">\n    <path d=\"M 12.555 40.86 \nL 43.155 40.86 \nL 73.755 40.86 \n\" clip-path=\"url(#p8f537f323d)\" style=\"fill: none; stroke: #000000; stroke-width: 2; stroke-linecap: round\"/>\n   </g>\n   <g id=\"line2d_2\">\n    <path d=\"M 73.755 40.86 \nL 134.955 40.86 \n\" clip-path=\"url(#p8f537f323d)\" style=\"fill: none; stroke: #000000; stroke-width: 2; stroke-linecap: round\"/>\n   </g>\n   <g id=\"line2d_3\">\n    <path d=\"M 104.355 10.26 \nL 104.355 71.46 \n\" clip-path=\"url(#p8f537f323d)\" style=\"fill: none; stroke: #000000; stroke-width: 2; stroke-linecap: round\"/>\n   </g>\n   <g id=\"line2d_4\">\n    <path d=\"M 73.755 40.86 \nL 73.755 10.26 \nL 104.355 10.26 \n\" clip-path=\"url(#p8f537f323d)\" style=\"fill: none; stroke: #000000; stroke-width: 2; stroke-linecap: round\"/>\n   </g>\n   <g id=\"line2d_5\">\n    <path d=\"M 134.955 40.86 \nL 134.955 71.46 \nL 142.605 71.46 \nL 142.605 102.06 \nL 127.305 102.06 \nL 127.305 71.46 \nL 134.955 71.46 \nM 134.955 102.06 \nL 134.955 132.66 \n\" clip-path=\"url(#p8f537f323d)\" style=\"fill: none; stroke: #000000; stroke-width: 2; stroke-linecap: round\"/>\n   </g>\n   <g id=\"line2d_6\">\n    <path d=\"M 134.955 132.66 \nL 119.655 132.66 \nL 104.355 132.66 \n\" clip-path=\"url(#p8f537f323d)\" style=\"fill: none; stroke: #000000; stroke-width: 2; stroke-linecap: round\"/>\n   </g>\n   <g id=\"line2d_7\">\n    <path d=\"M 104.355 132.66 \nL 104.355 102.06 \nL 104.355 71.46 \n\" clip-path=\"url(#p8f537f323d)\" style=\"fill: none; stroke: #000000; stroke-width: 2; stroke-linecap: round\"/>\n   </g>\n   <g id=\"line2d_8\">\n    <path d=\"M 104.355 132.66 \nL 58.455 132.66 \nL 12.555 132.66 \n\" clip-path=\"url(#p8f537f323d)\" style=\"fill: none; stroke: #000000; stroke-width: 2; stroke-linecap: round\"/>\n   </g>\n   <g id=\"patch_3\">\n    <path d=\"M 104.355 134.955 \nC 104.963641 134.955 105.547436 134.713184 105.97781 134.28281 \nC 106.408184 133.852436 106.65 133.268641 106.65 132.66 \nC 106.65 132.051359 106.408184 131.467564 105.97781 131.03719 \nC 105.547436 130.606816 104.963641 130.365 104.355 130.365 \nC 103.746359 130.365 103.162564 130.606816 102.73219 131.03719 \nC 102.301816 131.467564 102.06 132.051359 102.06 132.66 \nC 102.06 133.268641 102.301816 133.852436 102.73219 134.28281 \nC 103.162564 134.713184 103.746359 134.955 104.355 134.955 \nz\n\" clip-path=\"url(#p8f537f323d)\" style=\"stroke: #000000; stroke-width: 2; stroke-linejoin: miter\"/>\n   </g>\n   <g id=\"patch_4\">\n    <path d=\"M 12.555 134.955 \nC 13.163641 134.955 13.747436 134.713184 14.17781 134.28281 \nC 14.608184 133.852436 14.85 133.268641 14.85 132.66 \nC 14.85 132.051359 14.608184 131.467564 14.17781 131.03719 \nC 13.747436 130.606816 13.163641 130.365 12.555 130.365 \nC 11.946359 130.365 11.362564 130.606816 10.93219 131.03719 \nC 10.501816 131.467564 10.26 132.051359 10.26 132.66 \nC 10.26 133.268641 10.501816 133.852436 10.93219 134.28281 \nC 11.362564 134.713184 11.946359 134.955 12.555 134.955 \nz\n\" clip-path=\"url(#p8f537f323d)\" style=\"fill: #ffffff; stroke: #000000; stroke-width: 2; stroke-linejoin: miter\"/>\n   </g>\n   <g id=\"patch_5\">\n    <path d=\"M 12.555 43.155 \nC 13.163641 43.155 13.747436 42.913184 14.17781 42.48281 \nC 14.608184 42.052436 14.85 41.468641 14.85 40.86 \nC 14.85 40.251359 14.608184 39.667564 14.17781 39.23719 \nC 13.747436 38.806816 13.163641 38.565 12.555 38.565 \nC 11.946359 38.565 11.362564 38.806816 10.93219 39.23719 \nC 10.501816 39.667564 10.26 40.251359 10.26 40.86 \nC 10.26 41.468641 10.501816 42.052436 10.93219 42.48281 \nC 11.362564 42.913184 11.946359 43.155 12.555 43.155 \nz\n\" clip-path=\"url(#p8f537f323d)\" style=\"fill: #ffffff; stroke: #000000; stroke-width: 2; stroke-linejoin: miter\"/>\n   </g>\n  </g>\n </g>\n <defs>\n  <clipPath id=\"p8f537f323d\">\n   <rect x=\"7.2\" y=\"7.2\" width=\"138.465\" height=\"130.815\"/>\n  </clipPath>\n </defs>\n</svg>\n",
      "text/plain": [
       "<schemdraw.backends.mpl.Figure object at 0x00000277D973F750>"
      ]
     },
     "metadata": {},
     "output_type": "display_data"
    }
   ],
   "source": [
    "with schemdraw.Drawing() as d:\n",
    "    d += elm.Dot(open=True)\n",
    "    d += elm.Line().right().length(2)\n",
    "    d.push()\n",
    "    d += (mp := MeterP())\n",
    "\n",
    "    d.pop()\n",
    "    d += elm.Wire('|-').to((mp.anchors['inp_vol'][0] + 2, mp.anchors['inp_vol'][1]))\n",
    "\n",
    "    d.here = (mp.anchors['out_amp'][0]+2, mp.anchors['out_amp'][1])\n",
    "    d += elm.ResistorIEC().down()\n",
    "\n",
    "    d += elm.Line().left().length(1).dot()\n",
    "    d.push()\n",
    "    d += elm.Line().to((mp.anchors['out_vol'][0]+2, mp.anchors['out_vol'][1]))\n",
    "    d.pop()\n",
    "\n",
    "    d += elm.Line().left().dot(open=True)"
   ]
  },
  {
   "cell_type": "markdown",
   "metadata": {},
   "source": [
    "$P_r = U\\cdot I$ ... richtige Leistung\n",
    "\n",
    "$P_a = U'\\cdot I$ ... angezeigte Leistung\n",
    "\n",
    "$P_a = (U_{st} + U)\\cdot I = P_{st} + P_r$\n",
    "\n",
    "- $U'$ ... Eingangsspannung\n",
    "- $U_{st}$...Spannung am Leistungsmessgerät\n",
    "- $U$... Spannung am Widerstand"
   ]
  },
  {
   "cell_type": "markdown",
   "metadata": {},
   "source": [
    "$P = U\\cdot I + I^2\\cdot R_A$\n",
    "\n",
    "$R_A$...Innenwiederstand des Amperemeters"
   ]
  },
  {
   "cell_type": "markdown",
   "metadata": {},
   "source": [
    "### Spannungsrichtig Messung"
   ]
  },
  {
   "cell_type": "code",
   "execution_count": 5,
   "metadata": {
    "ExecuteTime": {
     "end_time": "2023-04-18T08:10:01.460662Z",
     "start_time": "2023-04-18T08:03:17.793378Z"
    },
    "collapsed": false,
    "jupyter": {
     "outputs_hidden": false
    },
    "tags": [
     "hide-input"
    ]
   },
   "outputs": [
    {
     "data": {
      "image/png": "[encoded data removed]",
      "image/svg+xml": "<?xml version=\"1.0\" encoding=\"utf-8\" standalone=\"no\"?>\n<!DOCTYPE svg PUBLIC \"-//W3C//DTD SVG 1.1//EN\"\n  \"http://www.w3.org/Graphics/SVG/1.1/DTD/svg11.dtd\">\n<svg xmlns:xlink=\"http://www.w3.org/1999/xlink\" width=\"214.065pt\" height=\"145.555pt\" viewBox=\"0 0 214.065 145.555\" xmlns=\"http://www.w3.org/2000/svg\" version=\"1.1\">\n <metadata>\n  <rdf:RDF xmlns:dc=\"http://purl.org/dc/elements/1.1/\" xmlns:cc=\"http://creativecommons.org/ns#\" xmlns:rdf=\"http://www.w3.org/1999/02/22-rdf-syntax-ns#\">\n   <cc:Work>\n    <dc:type rdf:resource=\"http://purl.org/dc/dcmitype/StillImage\"/>\n    <dc:date>2023-04-18T10:54:15.033013</dc:date>\n    <dc:format>image/svg+xml</dc:format>\n    <dc:creator>\n     <cc:Agent>\n      <dc:title>Matplotlib v3.7.1, https://matplotlib.org/</dc:title>\n     </cc:Agent>\n    </dc:creator>\n   </cc:Work>\n  </rdf:RDF>\n </metadata>\n <defs>\n  <style type=\"text/css\">*{stroke-linejoin: round; stroke-linecap: butt}</style>\n </defs>\n <g id=\"figure_1\">\n  <g id=\"patch_1\">\n   <path d=\"M 0 145.555 \nL 214.065 145.555 \nL 214.065 0 \nL 0 0 \nz\n\" style=\"fill: #ffffff\"/>\n  </g>\n  <g id=\"axes_1\">\n   <g id=\"patch_2\">\n    <path d=\"M 58.455 56.5 \nC 62.512607 56.5 66.404572 54.887895 69.273734 52.018734 \nC 72.142895 49.149572 73.755 45.257607 73.755 41.2 \nC 73.755 37.142393 72.142895 33.250428 69.273734 30.381266 \nC 66.404572 27.512105 62.512607 25.9 58.455 25.9 \nC 54.397393 25.9 50.505428 27.512105 47.636266 30.381266 \nC 44.767105 33.250428 43.155 37.142393 43.155 41.2 \nC 43.155 45.257607 44.767105 49.149572 47.636266 52.018734 \nC 50.505428 54.887895 54.397393 56.5 58.455 56.5 \nL 58.455 56.5 \nz\n\" clip-path=\"url(#p0b5f50bd09)\" style=\"fill: none; stroke: #000000; stroke-width: 2; stroke-linejoin: miter\"/>\n   </g>\n   <g id=\"patch_3\">\n    <path d=\"M 104.355 102.4 \nC 108.412607 102.4 112.304572 100.787895 115.173734 97.918734 \nC 118.042895 95.049572 119.655 91.157607 119.655 87.1 \nC 119.655 83.042393 118.042895 79.150428 115.173734 76.281266 \nC 112.304572 73.412105 108.412607 71.8 104.355 71.8 \nC 100.297393 71.8 96.405428 73.412105 93.536266 76.281266 \nC 90.667105 79.150428 89.055 83.042393 89.055 87.1 \nC 89.055 91.157607 90.667105 95.049572 93.536266 97.918734 \nC 96.405428 100.787895 100.297393 102.4 104.355 102.4 \nL 104.355 102.4 \nz\n\" clip-path=\"url(#p0b5f50bd09)\" style=\"fill: none; stroke: #000000; stroke-width: 2; stroke-linejoin: miter\"/>\n   </g>\n   <g id=\"line2d_1\">\n    <path d=\"M 12.555 41.2 \nL 43.155 41.2 \nL 43.155 41.2 \nM 73.755 41.2 \nL 73.755 41.2 \nL 104.355 41.2 \n\" clip-path=\"url(#p0b5f50bd09)\" style=\"fill: none; stroke: #000000; stroke-width: 2; stroke-linecap: round\"/>\n   </g>\n   <g id=\"line2d_2\">\n    <path d=\"M 104.355 41.2 \nL 150.255 41.2 \nL 196.155 41.2 \n\" clip-path=\"url(#p0b5f50bd09)\" style=\"fill: none; stroke: #000000; stroke-width: 2; stroke-linecap: round\"/>\n   </g>\n   <g id=\"line2d_3\">\n    <path d=\"M 196.155 41.2 \nL 196.155 71.8 \nL 203.805 71.8 \nL 203.805 102.4 \nL 188.505 102.4 \nL 188.505 71.8 \nL 196.155 71.8 \nM 196.155 102.4 \nL 196.155 133 \n\" clip-path=\"url(#p0b5f50bd09)\" style=\"fill: none; stroke: #000000; stroke-width: 2; stroke-linecap: round\"/>\n   </g>\n   <g id=\"line2d_4\">\n    <path d=\"M 196.155 133 \nL 150.255 133 \nL 104.355 133 \n\" clip-path=\"url(#p0b5f50bd09)\" style=\"fill: none; stroke: #000000; stroke-width: 2; stroke-linecap: round\"/>\n   </g>\n   <g id=\"line2d_5\">\n    <path d=\"M 104.355 133 \nL 104.355 102.4 \nL 104.355 102.4 \nM 104.355 71.8 \nL 104.355 71.8 \nL 104.355 41.2 \n\" clip-path=\"url(#p0b5f50bd09)\" style=\"fill: none; stroke: #000000; stroke-width: 2; stroke-linecap: round\"/>\n   </g>\n   <g id=\"line2d_6\">\n    <path d=\"M 104.355 133 \nL 58.455 133 \nL 12.555 133 \n\" clip-path=\"url(#p0b5f50bd09)\" style=\"fill: none; stroke: #000000; stroke-width: 2; stroke-linecap: round\"/>\n   </g>\n   <g id=\"text_1\">\n    <g clip-path=\"url(#p0b5f50bd09)\">\n     <!-- A -->\n     <g transform=\"translate(54.179609 44.649219) scale(0.125 -0.125)\">\n      <defs>\n       <path id=\"DejaVuSans-41\" d=\"M 2188 4044 \nL 1331 1722 \nL 3047 1722 \nL 2188 4044 \nz\nM 1831 4666 \nL 2547 4666 \nL 4325 0 \nL 3669 0 \nL 3244 1197 \nL 1141 1197 \nL 716 0 \nL 50 0 \nL 1831 4666 \nz\n\" transform=\"scale(0.015625)\"/>\n      </defs>\n      <use xlink:href=\"#DejaVuSans-41\"/>\n     </g>\n    </g>\n   </g>\n   <g id=\"patch_4\">\n    <path d=\"M 104.355 43.495 \nC 104.963641 43.495 105.547436 43.253184 105.97781 42.82281 \nC 106.408184 42.392436 106.65 41.808641 106.65 41.2 \nC 106.65 40.591359 106.408184 40.007564 105.97781 39.57719 \nC 105.547436 39.146816 104.963641 38.905 104.355 38.905 \nC 103.746359 38.905 103.162564 39.146816 102.73219 39.57719 \nC 102.301816 40.007564 102.06 40.591359 102.06 41.2 \nC 102.06 41.808641 102.301816 42.392436 102.73219 42.82281 \nC 103.162564 43.253184 103.746359 43.495 104.355 43.495 \nz\n\" clip-path=\"url(#p0b5f50bd09)\" style=\"stroke: #000000; stroke-width: 2; stroke-linejoin: miter\"/>\n   </g>\n   <g id=\"patch_5\">\n    <path d=\"M 12.555 43.495 \nC 13.163641 43.495 13.747436 43.253184 14.17781 42.82281 \nC 14.608184 42.392436 14.85 41.808641 14.85 41.2 \nC 14.85 40.591359 14.608184 40.007564 14.17781 39.57719 \nC 13.747436 39.146816 13.163641 38.905 12.555 38.905 \nC 11.946359 38.905 11.362564 39.146816 10.93219 39.57719 \nC 10.501816 40.007564 10.26 40.591359 10.26 41.2 \nC 10.26 41.808641 10.501816 42.392436 10.93219 42.82281 \nC 11.362564 43.253184 11.946359 43.495 12.555 43.495 \nz\n\" clip-path=\"url(#p0b5f50bd09)\" style=\"fill: #ffffff; stroke: #000000; stroke-width: 2; stroke-linejoin: miter\"/>\n   </g>\n   <g id=\"text_2\">\n    <g clip-path=\"url(#p0b5f50bd09)\">\n     <!-- $R$ -->\n     <g transform=\"translate(176.695 90.549219) scale(0.125 -0.125)\">\n      <defs>\n       <path id=\"DejaVuSans-Oblique-52\" d=\"M 1613 4147 \nL 1294 2491 \nL 2106 2491 \nQ 2584 2491 2879 2755 \nQ 3175 3019 3175 3444 \nQ 3175 3784 2976 3965 \nQ 2778 4147 2406 4147 \nL 1613 4147 \nz\nM 2772 2241 \nQ 2972 2194 3105 2009 \nQ 3238 1825 3413 1275 \nL 3809 0 \nL 3144 0 \nL 2778 1197 \nQ 2638 1659 2453 1815 \nQ 2269 1972 1888 1972 \nL 1191 1972 \nL 806 0 \nL 172 0 \nL 1081 4666 \nL 2503 4666 \nQ 3150 4666 3495 4373 \nQ 3841 4081 3841 3531 \nQ 3841 3044 3547 2687 \nQ 3253 2331 2772 2241 \nz\n\" transform=\"scale(0.015625)\"/>\n      </defs>\n      <use xlink:href=\"#DejaVuSans-Oblique-52\" transform=\"translate(0 0.09375)\"/>\n     </g>\n    </g>\n   </g>\n   <g id=\"patch_6\">\n    <path d=\"M 104.355 135.295 \nC 104.963641 135.295 105.547436 135.053184 105.97781 134.62281 \nC 106.408184 134.192436 106.65 133.608641 106.65 133 \nC 106.65 132.391359 106.408184 131.807564 105.97781 131.37719 \nC 105.547436 130.946816 104.963641 130.705 104.355 130.705 \nC 103.746359 130.705 103.162564 130.946816 102.73219 131.37719 \nC 102.301816 131.807564 102.06 132.391359 102.06 133 \nC 102.06 133.608641 102.301816 134.192436 102.73219 134.62281 \nC 103.162564 135.053184 103.746359 135.295 104.355 135.295 \nz\n\" clip-path=\"url(#p0b5f50bd09)\" style=\"stroke: #000000; stroke-width: 2; stroke-linejoin: miter\"/>\n   </g>\n   <g id=\"text_3\">\n    <g clip-path=\"url(#p0b5f50bd09)\">\n     <!-- V -->\n     <g transform=\"translate(100.079609 90.549219) scale(0.125 -0.125)\">\n      <defs>\n       <path id=\"DejaVuSans-56\" d=\"M 1831 0 \nL 50 4666 \nL 709 4666 \nL 2188 738 \nL 3669 4666 \nL 4325 4666 \nL 2547 0 \nL 1831 0 \nz\n\" transform=\"scale(0.015625)\"/>\n      </defs>\n      <use xlink:href=\"#DejaVuSans-56\"/>\n     </g>\n    </g>\n   </g>\n   <g id=\"text_4\">\n    <g clip-path=\"url(#p0b5f50bd09)\">\n     <!-- $U$ -->\n     <g transform=\"translate(76.745 90.549219) scale(0.125 -0.125)\">\n      <defs>\n       <path id=\"DejaVuSans-Oblique-55\" d=\"M 991 4666 \nL 1625 4666 \nL 1075 1831 \nQ 1041 1641 1027 1517 \nQ 1013 1394 1013 1300 \nQ 1013 869 1253 645 \nQ 1494 422 1959 422 \nQ 2563 422 2898 753 \nQ 3234 1084 3378 1831 \nL 3928 4666 \nL 4563 4666 \nL 4000 1753 \nQ 3816 809 3300 359 \nQ 2784 -91 1888 -91 \nQ 1188 -91 780 261 \nQ 372 613 372 1216 \nQ 372 1325 387 1461 \nQ 403 1597 434 1753 \nL 991 4666 \nz\n\" transform=\"scale(0.015625)\"/>\n      </defs>\n      <use xlink:href=\"#DejaVuSans-Oblique-55\" transform=\"translate(0 0.09375)\"/>\n     </g>\n    </g>\n   </g>\n   <g id=\"patch_7\">\n    <path d=\"M 12.555 135.295 \nC 13.163641 135.295 13.747436 135.053184 14.17781 134.62281 \nC 14.608184 134.192436 14.85 133.608641 14.85 133 \nC 14.85 132.391359 14.608184 131.807564 14.17781 131.37719 \nC 13.747436 130.946816 13.163641 130.705 12.555 130.705 \nC 11.946359 130.705 11.362564 130.946816 10.93219 131.37719 \nC 10.501816 131.807564 10.26 132.391359 10.26 133 \nC 10.26 133.608641 10.501816 134.192436 10.93219 134.62281 \nC 11.362564 135.053184 11.946359 135.295 12.555 135.295 \nz\n\" clip-path=\"url(#p0b5f50bd09)\" style=\"fill: #ffffff; stroke: #000000; stroke-width: 2; stroke-linejoin: miter\"/>\n   </g>\n   <g id=\"line2d_7\">\n    <path d=\"M 70.695 41.2 \nL 70.695 41.2 \n\" clip-path=\"url(#p0b5f50bd09)\" style=\"fill: none; stroke: #000000; stroke-width: 2; stroke-linecap: round\"/>\n   </g>\n   <g id=\"patch_8\">\n    <path d=\"M 70.695 36.61 \nL 79.875 41.2 \nL 70.695 45.79 \nz\n\" clip-path=\"url(#p0b5f50bd09)\"/>\n   </g>\n   <g id=\"text_5\">\n    <g clip-path=\"url(#p0b5f50bd09)\">\n     <!-- $I$ -->\n     <g transform=\"translate(73.41 29.420391) scale(0.125 -0.125)\">\n      <defs>\n       <path id=\"DejaVuSans-Oblique-49\" d=\"M 1081 4666 \nL 1716 4666 \nL 806 0 \nL 172 0 \nL 1081 4666 \nz\n\" transform=\"scale(0.015625)\"/>\n      </defs>\n      <use xlink:href=\"#DejaVuSans-Oblique-49\" transform=\"translate(0 0.09375)\"/>\n     </g>\n    </g>\n   </g>\n  </g>\n </g>\n <defs>\n  <clipPath id=\"p0b5f50bd09\">\n   <rect x=\"7.2\" y=\"7.2\" width=\"199.665\" height=\"131.155\"/>\n  </clipPath>\n </defs>\n</svg>\n",
      "text/plain": [
       "<schemdraw.backends.mpl.Figure object at 0x00000277DB85B310>"
      ]
     },
     "metadata": {},
     "output_type": "display_data"
    }
   ],
   "source": [
    "with schemdraw.Drawing() as d:\n",
    "    #d += elm.Dot(open=True)\n",
    "\n",
    "    d += (amp := elm.MeterA().right().dot().idot(open=True))\n",
    "    d += elm.CurrentLabelInline(amp).label('$I$').flip().reverse()\n",
    "    an = d.here\n",
    "    d += elm.Line().right()\n",
    "\n",
    "    d += elm.ResistorIEC().down().label('$R$')\n",
    "    d += elm.Line().left().dot()\n",
    "\n",
    "    d.push()\n",
    "    d += elm.MeterV().to(an).label('$U$')\n",
    "    d.pop()\n",
    "    d += elm.Line().left().dot(open=True)"
   ]
  },
  {
   "cell_type": "code",
   "execution_count": 6,
   "metadata": {
    "ExecuteTime": {
     "end_time": "2023-04-18T08:10:01.460662Z",
     "start_time": "2023-04-18T08:03:18.545807Z"
    },
    "collapsed": false,
    "jupyter": {
     "outputs_hidden": false
    },
    "tags": [
     "hide-input"
    ]
   },
   "outputs": [
    {
     "data": {
      "image/png": "[encoded data removed]",
      "image/svg+xml": "<?xml version=\"1.0\" encoding=\"utf-8\" standalone=\"no\"?>\n<!DOCTYPE svg PUBLIC \"-//W3C//DTD SVG 1.1//EN\"\n  \"http://www.w3.org/Graphics/SVG/1.1/DTD/svg11.dtd\">\n<svg xmlns:xlink=\"http://www.w3.org/1999/xlink\" width=\"152.865pt\" height=\"145.215pt\" viewBox=\"0 0 152.865 145.215\" xmlns=\"http://www.w3.org/2000/svg\" version=\"1.1\">\n <metadata>\n  <rdf:RDF xmlns:dc=\"http://purl.org/dc/elements/1.1/\" xmlns:cc=\"http://creativecommons.org/ns#\" xmlns:rdf=\"http://www.w3.org/1999/02/22-rdf-syntax-ns#\">\n   <cc:Work>\n    <dc:type rdf:resource=\"http://purl.org/dc/dcmitype/StillImage\"/>\n    <dc:date>2023-04-18T10:54:15.460179</dc:date>\n    <dc:format>image/svg+xml</dc:format>\n    <dc:creator>\n     <cc:Agent>\n      <dc:title>Matplotlib v3.7.1, https://matplotlib.org/</dc:title>\n     </cc:Agent>\n    </dc:creator>\n   </cc:Work>\n  </rdf:RDF>\n </metadata>\n <defs>\n  <style type=\"text/css\">*{stroke-linejoin: round; stroke-linecap: butt}</style>\n </defs>\n <g id=\"figure_1\">\n  <g id=\"patch_1\">\n   <path d=\"M 0 145.215 \nL 152.865 145.215 \nL 152.865 0 \nL 0 0 \nz\n\" style=\"fill: #ffffff\"/>\n  </g>\n  <g id=\"axes_1\">\n   <g id=\"patch_2\">\n    <path d=\"M 43.155 56.16 \nC 47.212607 56.16 51.104572 54.547895 53.973734 51.678734 \nC 56.842895 48.809572 58.455 44.917607 58.455 40.86 \nC 58.455 36.802393 56.842895 32.910428 53.973734 30.041266 \nC 51.104572 27.172105 47.212607 25.56 43.155 25.56 \nC 39.097393 25.56 35.205428 27.172105 32.336266 30.041266 \nC 29.467105 32.910428 27.855 36.802393 27.855 40.86 \nC 27.855 44.917607 29.467105 48.809572 32.336266 51.678734 \nC 35.205428 54.547895 39.097393 56.16 43.155 56.16 \nL 43.155 56.16 \nz\n\" clip-path=\"url(#p454562a677)\" style=\"fill: none; stroke: #000000; stroke-width: 2; stroke-linejoin: miter\"/>\n   </g>\n   <g id=\"line2d_1\">\n    <path d=\"M 12.555 40.86 \nL 73.755 40.86 \n\" clip-path=\"url(#p454562a677)\" style=\"fill: none; stroke: #000000; stroke-width: 2; stroke-linecap: round\"/>\n   </g>\n   <g id=\"line2d_2\">\n    <path d=\"M 43.155 10.26 \nL 43.155 71.46 \n\" clip-path=\"url(#p454562a677)\" style=\"fill: none; stroke: #000000; stroke-width: 2; stroke-linecap: round\"/>\n   </g>\n   <g id=\"line2d_3\">\n    <path d=\"M 73.755 40.86 \nL 73.755 10.26 \nL 43.155 10.26 \nL 43.155 10.26 \n\" clip-path=\"url(#p454562a677)\" style=\"fill: none; stroke: #000000; stroke-width: 2; stroke-linecap: round\"/>\n   </g>\n   <g id=\"line2d_4\">\n    <path d=\"M 73.755 40.86 \nL 104.355 40.86 \nL 134.955 40.86 \n\" clip-path=\"url(#p454562a677)\" style=\"fill: none; stroke: #000000; stroke-width: 2; stroke-linecap: round\"/>\n   </g>\n   <g id=\"line2d_5\">\n    <path d=\"M 134.955 40.86 \nL 134.955 71.46 \nL 142.605 71.46 \nL 142.605 102.06 \nL 127.305 102.06 \nL 127.305 71.46 \nL 134.955 71.46 \nM 134.955 102.06 \nL 134.955 132.66 \n\" clip-path=\"url(#p454562a677)\" style=\"fill: none; stroke: #000000; stroke-width: 2; stroke-linecap: round\"/>\n   </g>\n   <g id=\"line2d_6\">\n    <path d=\"M 134.955 132.66 \nL 89.055 132.66 \nL 43.155 132.66 \n\" clip-path=\"url(#p454562a677)\" style=\"fill: none; stroke: #000000; stroke-width: 2; stroke-linecap: round\"/>\n   </g>\n   <g id=\"line2d_7\">\n    <path d=\"M 43.155 132.66 \nL 43.155 102.06 \nL 43.155 71.46 \n\" clip-path=\"url(#p454562a677)\" style=\"fill: none; stroke: #000000; stroke-width: 2; stroke-linecap: round\"/>\n   </g>\n   <g id=\"line2d_8\">\n    <path d=\"M 43.155 132.66 \nL 27.855 132.66 \nL 12.555 132.66 \n\" clip-path=\"url(#p454562a677)\" style=\"fill: none; stroke: #000000; stroke-width: 2; stroke-linecap: round\"/>\n   </g>\n   <g id=\"patch_3\">\n    <path d=\"M 12.555 134.955 \nC 13.163641 134.955 13.747436 134.713184 14.17781 134.28281 \nC 14.608184 133.852436 14.85 133.268641 14.85 132.66 \nC 14.85 132.051359 14.608184 131.467564 14.17781 131.03719 \nC 13.747436 130.606816 13.163641 130.365 12.555 130.365 \nC 11.946359 130.365 11.362564 130.606816 10.93219 131.03719 \nC 10.501816 131.467564 10.26 132.051359 10.26 132.66 \nC 10.26 133.268641 10.501816 133.852436 10.93219 134.28281 \nC 11.362564 134.713184 11.946359 134.955 12.555 134.955 \nz\n\" clip-path=\"url(#p454562a677)\" style=\"fill: #ffffff; stroke: #000000; stroke-width: 2; stroke-linejoin: miter\"/>\n   </g>\n   <g id=\"patch_4\">\n    <path d=\"M 43.155 134.955 \nC 43.763641 134.955 44.347436 134.713184 44.77781 134.28281 \nC 45.208184 133.852436 45.45 133.268641 45.45 132.66 \nC 45.45 132.051359 45.208184 131.467564 44.77781 131.03719 \nC 44.347436 130.606816 43.763641 130.365 43.155 130.365 \nC 42.546359 130.365 41.962564 130.606816 41.53219 131.03719 \nC 41.101816 131.467564 40.86 132.051359 40.86 132.66 \nC 40.86 133.268641 41.101816 133.852436 41.53219 134.28281 \nC 41.962564 134.713184 42.546359 134.955 43.155 134.955 \nz\n\" clip-path=\"url(#p454562a677)\" style=\"stroke: #000000; stroke-width: 2; stroke-linejoin: miter\"/>\n   </g>\n   <g id=\"patch_5\">\n    <path d=\"M 12.555 43.155 \nC 13.163641 43.155 13.747436 42.913184 14.17781 42.48281 \nC 14.608184 42.052436 14.85 41.468641 14.85 40.86 \nC 14.85 40.251359 14.608184 39.667564 14.17781 39.23719 \nC 13.747436 38.806816 13.163641 38.565 12.555 38.565 \nC 11.946359 38.565 11.362564 38.806816 10.93219 39.23719 \nC 10.501816 39.667564 10.26 40.251359 10.26 40.86 \nC 10.26 41.468641 10.501816 42.052436 10.93219 42.48281 \nC 11.362564 42.913184 11.946359 43.155 12.555 43.155 \nz\n\" clip-path=\"url(#p454562a677)\" style=\"fill: #ffffff; stroke: #000000; stroke-width: 2; stroke-linejoin: miter\"/>\n   </g>\n   <g id=\"patch_6\">\n    <path d=\"M 73.755 43.155 \nC 74.363641 43.155 74.947436 42.913184 75.37781 42.48281 \nC 75.808184 42.052436 76.05 41.468641 76.05 40.86 \nC 76.05 40.251359 75.808184 39.667564 75.37781 39.23719 \nC 74.947436 38.806816 74.363641 38.565 73.755 38.565 \nC 73.146359 38.565 72.562564 38.806816 72.13219 39.23719 \nC 71.701816 39.667564 71.46 40.251359 71.46 40.86 \nC 71.46 41.468641 71.701816 42.052436 72.13219 42.48281 \nC 72.562564 42.913184 73.146359 43.155 73.755 43.155 \nz\n\" clip-path=\"url(#p454562a677)\" style=\"fill: #ffffff; stroke: #000000; stroke-width: 2; stroke-linejoin: miter\"/>\n   </g>\n  </g>\n </g>\n <defs>\n  <clipPath id=\"p454562a677\">\n   <rect x=\"7.2\" y=\"7.2\" width=\"138.465\" height=\"130.815\"/>\n  </clipPath>\n </defs>\n</svg>\n",
      "text/plain": [
       "<schemdraw.backends.mpl.Figure object at 0x00000277D967BE50>"
      ]
     },
     "metadata": {},
     "output_type": "display_data"
    }
   ],
   "source": [
    "with schemdraw.Drawing() as d:\n",
    "    d += elm.Dot(open=True)\n",
    "    d += (mp := MeterP())\n",
    "\n",
    "    d += elm.Wire('n').at(mp.anchors['out_amp']).to(mp.anchors['inp_vol'])\n",
    "\n",
    "    d.here = mp.anchors['out_amp']\n",
    "    d += elm.Dot(open=True)\n",
    "    d += elm.Line().right().length(2)\n",
    "\n",
    "    d += elm.ResistorIEC().down()\n",
    "    d += elm.Line().left()\n",
    "\n",
    "    d.push()\n",
    "    d += elm.Line().to(mp.anchors['out_vol'])\n",
    "    d.pop()\n",
    "    d += elm.Line().left().length(1).idot().dot(open=True)"
   ]
  },
  {
   "cell_type": "markdown",
   "metadata": {},
   "source": [
    "$I\\cdot U$  ...richtige Leistung\n",
    "\n",
    "$I'\\cdot U$...angezeigte Leistung\n",
    "\n",
    "$P_a = U\\cdot(I_{sp} + I) = P_{sp} + P_r$\n",
    "\n",
    "\n",
    "- $I'$ ... Eingangsstrom\n",
    "- $I_{st}$...Strom durch Leistungsmessgerät\n",
    "- $I$... Strom am Widerstand\n"
   ]
  },
  {
   "cell_type": "markdown",
   "metadata": {},
   "source": [
    "$P = U\\cdot I - \\frac{U^2}{R_V}$\n",
    "\n",
    "$R_V$...Innenwiederstand Voltmeter"
   ]
  },
  {
   "cell_type": "markdown",
   "metadata": {},
   "source": []
  },
  {
   "cell_type": "code",
   "execution_count": 7,
   "metadata": {
    "ExecuteTime": {
     "end_time": "2023-04-18T08:10:01.476288Z",
     "start_time": "2023-04-18T08:03:19.176381Z"
    },
    "collapsed": false,
    "jupyter": {
     "outputs_hidden": false
    },
    "tags": [
     "hide-input"
    ]
   },
   "outputs": [
    {
     "data": {
      "image/png": "[encoded data removed]",
      "image/svg+xml": "<?xml version=\"1.0\" encoding=\"utf-8\" standalone=\"no\"?>\n<!DOCTYPE svg PUBLIC \"-//W3C//DTD SVG 1.1//EN\"\n  \"http://www.w3.org/Graphics/SVG/1.1/DTD/svg11.dtd\">\n<svg xmlns:xlink=\"http://www.w3.org/1999/xlink\" width=\"221.4702pt\" height=\"146.32pt\" viewBox=\"0 0 221.4702 146.32\" xmlns=\"http://www.w3.org/2000/svg\" version=\"1.1\">\n <metadata>\n  <rdf:RDF xmlns:dc=\"http://purl.org/dc/elements/1.1/\" xmlns:cc=\"http://creativecommons.org/ns#\" xmlns:rdf=\"http://www.w3.org/1999/02/22-rdf-syntax-ns#\">\n   <cc:Work>\n    <dc:type rdf:resource=\"http://purl.org/dc/dcmitype/StillImage\"/>\n    <dc:date>2023-04-18T10:54:15.667940</dc:date>\n    <dc:format>image/svg+xml</dc:format>\n    <dc:creator>\n     <cc:Agent>\n      <dc:title>Matplotlib v3.7.1, https://matplotlib.org/</dc:title>\n     </cc:Agent>\n    </dc:creator>\n   </cc:Work>\n  </rdf:RDF>\n </metadata>\n <defs>\n  <style type=\"text/css\">*{stroke-linejoin: round; stroke-linecap: butt}</style>\n </defs>\n <g id=\"figure_1\">\n  <g id=\"patch_1\">\n   <path d=\"M 0 146.32 \nL 221.4702 146.32 \nL 221.4702 0 \nL 0 0 \nz\n\" style=\"fill: #ffffff\"/>\n  </g>\n  <g id=\"axes_1\">\n   <g id=\"patch_2\">\n    <path d=\"M 170.6958 116.17 \nC 174.753407 116.17 178.645372 114.557895 181.514534 111.688734 \nC 184.383695 108.819572 185.9958 104.927607 185.9958 100.87 \nC 185.9958 96.812393 184.383695 92.920428 181.514534 90.051266 \nC 178.645372 87.182105 174.753407 85.57 170.6958 85.57 \nC 166.638193 85.57 162.746228 87.182105 159.877066 90.051266 \nC 157.007905 92.920428 155.3958 96.812393 155.3958 100.87 \nC 155.3958 104.927607 157.007905 108.819572 159.877066 111.688734 \nC 162.746228 114.557895 166.638193 116.17 170.6958 116.17 \nL 170.6958 116.17 \nz\n\" clip-path=\"url(#pccf77d0777)\" style=\"fill: none; stroke: #000000; stroke-width: 2; stroke-linejoin: miter\"/>\n   </g>\n   <g id=\"line2d_1\">\n    <path d=\"M 140.0958 100.87 \nL 201.2958 100.87 \n\" clip-path=\"url(#pccf77d0777)\" style=\"fill: none; stroke: #000000; stroke-width: 2; stroke-linecap: round\"/>\n   </g>\n   <g id=\"line2d_2\">\n    <path d=\"M 170.6958 70.27 \nL 170.6958 131.47 \n\" clip-path=\"url(#pccf77d0777)\" style=\"fill: none; stroke: #000000; stroke-width: 2; stroke-linecap: round\"/>\n   </g>\n   <g id=\"line2d_3\">\n    <path d=\"M 109.4958 70.27 \nL 109.4958 100.87 \nL 109.4958 123.82 \n\" clip-path=\"url(#pccf77d0777)\" style=\"fill: none; stroke: #000000; stroke-width: 2; stroke-linecap: round\"/>\n   </g>\n   <g id=\"patch_3\">\n    <path d=\"M 111.7908 123.82 \nL 109.4958 131.47 \nL 107.2008 123.82 \nz\n\" clip-path=\"url(#pccf77d0777)\"/>\n   </g>\n   <g id=\"line2d_4\">\n    <path d=\"M 140.0958 39.67 \nL 170.6958 39.67 \nL 193.6458 39.67 \n\" clip-path=\"url(#pccf77d0777)\" style=\"fill: none; stroke: #000000; stroke-width: 2; stroke-linecap: round\"/>\n   </g>\n   <g id=\"patch_4\">\n    <path d=\"M 193.6458 37.375 \nL 201.2958 39.67 \nL 193.6458 41.965 \nz\n\" clip-path=\"url(#pccf77d0777)\"/>\n   </g>\n   <g id=\"text_1\">\n    <g clip-path=\"url(#pccf77d0777)\">\n     <!-- Spannungspfad -->\n     <g transform=\"translate(4.248144 104.319219) scale(0.125 -0.125)\">\n      <defs>\n       <path id=\"DejaVuSans-53\" d=\"M 3425 4513 \nL 3425 3897 \nQ 3066 4069 2747 4153 \nQ 2428 4238 2131 4238 \nQ 1616 4238 1336 4038 \nQ 1056 3838 1056 3469 \nQ 1056 3159 1242 3001 \nQ 1428 2844 1947 2747 \nL 2328 2669 \nQ 3034 2534 3370 2195 \nQ 3706 1856 3706 1288 \nQ 3706 609 3251 259 \nQ 2797 -91 1919 -91 \nQ 1588 -91 1214 -16 \nQ 841 59 441 206 \nL 441 856 \nQ 825 641 1194 531 \nQ 1563 422 1919 422 \nQ 2459 422 2753 634 \nQ 3047 847 3047 1241 \nQ 3047 1584 2836 1778 \nQ 2625 1972 2144 2069 \nL 1759 2144 \nQ 1053 2284 737 2584 \nQ 422 2884 422 3419 \nQ 422 4038 858 4394 \nQ 1294 4750 2059 4750 \nQ 2388 4750 2728 4690 \nQ 3069 4631 3425 4513 \nz\n\" transform=\"scale(0.015625)\"/>\n       <path id=\"DejaVuSans-70\" d=\"M 1159 525 \nL 1159 -1331 \nL 581 -1331 \nL 581 3500 \nL 1159 3500 \nL 1159 2969 \nQ 1341 3281 1617 3432 \nQ 1894 3584 2278 3584 \nQ 2916 3584 3314 3078 \nQ 3713 2572 3713 1747 \nQ 3713 922 3314 415 \nQ 2916 -91 2278 -91 \nQ 1894 -91 1617 61 \nQ 1341 213 1159 525 \nz\nM 3116 1747 \nQ 3116 2381 2855 2742 \nQ 2594 3103 2138 3103 \nQ 1681 3103 1420 2742 \nQ 1159 2381 1159 1747 \nQ 1159 1113 1420 752 \nQ 1681 391 2138 391 \nQ 2594 391 2855 752 \nQ 3116 1113 3116 1747 \nz\n\" transform=\"scale(0.015625)\"/>\n       <path id=\"DejaVuSans-61\" d=\"M 2194 1759 \nQ 1497 1759 1228 1600 \nQ 959 1441 959 1056 \nQ 959 750 1161 570 \nQ 1363 391 1709 391 \nQ 2188 391 2477 730 \nQ 2766 1069 2766 1631 \nL 2766 1759 \nL 2194 1759 \nz\nM 3341 1997 \nL 3341 0 \nL 2766 0 \nL 2766 531 \nQ 2569 213 2275 61 \nQ 1981 -91 1556 -91 \nQ 1019 -91 701 211 \nQ 384 513 384 1019 \nQ 384 1609 779 1909 \nQ 1175 2209 1959 2209 \nL 2766 2209 \nL 2766 2266 \nQ 2766 2663 2505 2880 \nQ 2244 3097 1772 3097 \nQ 1472 3097 1187 3025 \nQ 903 2953 641 2809 \nL 641 3341 \nQ 956 3463 1253 3523 \nQ 1550 3584 1831 3584 \nQ 2591 3584 2966 3190 \nQ 3341 2797 3341 1997 \nz\n\" transform=\"scale(0.015625)\"/>\n       <path id=\"DejaVuSans-6e\" d=\"M 3513 2113 \nL 3513 0 \nL 2938 0 \nL 2938 2094 \nQ 2938 2591 2744 2837 \nQ 2550 3084 2163 3084 \nQ 1697 3084 1428 2787 \nQ 1159 2491 1159 1978 \nL 1159 0 \nL 581 0 \nL 581 3500 \nL 1159 3500 \nL 1159 2956 \nQ 1366 3272 1645 3428 \nQ 1925 3584 2291 3584 \nQ 2894 3584 3203 3211 \nQ 3513 2838 3513 2113 \nz\n\" transform=\"scale(0.015625)\"/>\n       <path id=\"DejaVuSans-75\" d=\"M 544 1381 \nL 544 3500 \nL 1119 3500 \nL 1119 1403 \nQ 1119 906 1312 657 \nQ 1506 409 1894 409 \nQ 2359 409 2629 706 \nQ 2900 1003 2900 1516 \nL 2900 3500 \nL 3475 3500 \nL 3475 0 \nL 2900 0 \nL 2900 538 \nQ 2691 219 2414 64 \nQ 2138 -91 1772 -91 \nQ 1169 -91 856 284 \nQ 544 659 544 1381 \nz\nM 1991 3584 \nL 1991 3584 \nz\n\" transform=\"scale(0.015625)\"/>\n       <path id=\"DejaVuSans-67\" d=\"M 2906 1791 \nQ 2906 2416 2648 2759 \nQ 2391 3103 1925 3103 \nQ 1463 3103 1205 2759 \nQ 947 2416 947 1791 \nQ 947 1169 1205 825 \nQ 1463 481 1925 481 \nQ 2391 481 2648 825 \nQ 2906 1169 2906 1791 \nz\nM 3481 434 \nQ 3481 -459 3084 -895 \nQ 2688 -1331 1869 -1331 \nQ 1566 -1331 1297 -1286 \nQ 1028 -1241 775 -1147 \nL 775 -588 \nQ 1028 -725 1275 -790 \nQ 1522 -856 1778 -856 \nQ 2344 -856 2625 -561 \nQ 2906 -266 2906 331 \nL 2906 616 \nQ 2728 306 2450 153 \nQ 2172 0 1784 0 \nQ 1141 0 747 490 \nQ 353 981 353 1791 \nQ 353 2603 747 3093 \nQ 1141 3584 1784 3584 \nQ 2172 3584 2450 3431 \nQ 2728 3278 2906 2969 \nL 2906 3500 \nL 3481 3500 \nL 3481 434 \nz\n\" transform=\"scale(0.015625)\"/>\n       <path id=\"DejaVuSans-73\" d=\"M 2834 3397 \nL 2834 2853 \nQ 2591 2978 2328 3040 \nQ 2066 3103 1784 3103 \nQ 1356 3103 1142 2972 \nQ 928 2841 928 2578 \nQ 928 2378 1081 2264 \nQ 1234 2150 1697 2047 \nL 1894 2003 \nQ 2506 1872 2764 1633 \nQ 3022 1394 3022 966 \nQ 3022 478 2636 193 \nQ 2250 -91 1575 -91 \nQ 1294 -91 989 -36 \nQ 684 19 347 128 \nL 347 722 \nQ 666 556 975 473 \nQ 1284 391 1588 391 \nQ 1994 391 2212 530 \nQ 2431 669 2431 922 \nQ 2431 1156 2273 1281 \nQ 2116 1406 1581 1522 \nL 1381 1569 \nQ 847 1681 609 1914 \nQ 372 2147 372 2553 \nQ 372 3047 722 3315 \nQ 1072 3584 1716 3584 \nQ 2034 3584 2315 3537 \nQ 2597 3491 2834 3397 \nz\n\" transform=\"scale(0.015625)\"/>\n       <path id=\"DejaVuSans-66\" d=\"M 2375 4863 \nL 2375 4384 \nL 1825 4384 \nQ 1516 4384 1395 4259 \nQ 1275 4134 1275 3809 \nL 1275 3500 \nL 2222 3500 \nL 2222 3053 \nL 1275 3053 \nL 1275 0 \nL 697 0 \nL 697 3053 \nL 147 3053 \nL 147 3500 \nL 697 3500 \nL 697 3744 \nQ 697 4328 969 4595 \nQ 1241 4863 1831 4863 \nL 2375 4863 \nz\n\" transform=\"scale(0.015625)\"/>\n       <path id=\"DejaVuSans-64\" d=\"M 2906 2969 \nL 2906 4863 \nL 3481 4863 \nL 3481 0 \nL 2906 0 \nL 2906 525 \nQ 2725 213 2448 61 \nQ 2172 -91 1784 -91 \nQ 1150 -91 751 415 \nQ 353 922 353 1747 \nQ 353 2572 751 3078 \nQ 1150 3584 1784 3584 \nQ 2172 3584 2448 3432 \nQ 2725 3281 2906 2969 \nz\nM 947 1747 \nQ 947 1113 1208 752 \nQ 1469 391 1925 391 \nQ 2381 391 2643 752 \nQ 2906 1113 2906 1747 \nQ 2906 2381 2643 2742 \nQ 2381 3103 1925 3103 \nQ 1469 3103 1208 2742 \nQ 947 2381 947 1747 \nz\n\" transform=\"scale(0.015625)\"/>\n      </defs>\n      <use xlink:href=\"#DejaVuSans-53\"/>\n      <use xlink:href=\"#DejaVuSans-70\" x=\"63.476562\"/>\n      <use xlink:href=\"#DejaVuSans-61\" x=\"126.953125\"/>\n      <use xlink:href=\"#DejaVuSans-6e\" x=\"188.232422\"/>\n      <use xlink:href=\"#DejaVuSans-6e\" x=\"251.611328\"/>\n      <use xlink:href=\"#DejaVuSans-75\" x=\"314.990234\"/>\n      <use xlink:href=\"#DejaVuSans-6e\" x=\"378.369141\"/>\n      <use xlink:href=\"#DejaVuSans-67\" x=\"441.748047\"/>\n      <use xlink:href=\"#DejaVuSans-73\" x=\"505.224609\"/>\n      <use xlink:href=\"#DejaVuSans-70\" x=\"557.324219\"/>\n      <use xlink:href=\"#DejaVuSans-66\" x=\"620.800781\"/>\n      <use xlink:href=\"#DejaVuSans-61\" x=\"656.005859\"/>\n      <use xlink:href=\"#DejaVuSans-64\" x=\"717.285156\"/>\n     </g>\n    </g>\n   </g>\n   <g id=\"text_2\">\n    <g clip-path=\"url(#pccf77d0777)\">\n     <!-- Strompfad -->\n     <g transform=\"translate(137.971191 29.420391) scale(0.125 -0.125)\">\n      <defs>\n       <path id=\"DejaVuSans-74\" d=\"M 1172 4494 \nL 1172 3500 \nL 2356 3500 \nL 2356 3053 \nL 1172 3053 \nL 1172 1153 \nQ 1172 725 1289 603 \nQ 1406 481 1766 481 \nL 2356 481 \nL 2356 0 \nL 1766 0 \nQ 1100 0 847 248 \nQ 594 497 594 1153 \nL 594 3053 \nL 172 3053 \nL 172 3500 \nL 594 3500 \nL 594 4494 \nL 1172 4494 \nz\n\" transform=\"scale(0.015625)\"/>\n       <path id=\"DejaVuSans-72\" d=\"M 2631 2963 \nQ 2534 3019 2420 3045 \nQ 2306 3072 2169 3072 \nQ 1681 3072 1420 2755 \nQ 1159 2438 1159 1844 \nL 1159 0 \nL 581 0 \nL 581 3500 \nL 1159 3500 \nL 1159 2956 \nQ 1341 3275 1631 3429 \nQ 1922 3584 2338 3584 \nQ 2397 3584 2469 3576 \nQ 2541 3569 2628 3553 \nL 2631 2963 \nz\n\" transform=\"scale(0.015625)\"/>\n       <path id=\"DejaVuSans-6f\" d=\"M 1959 3097 \nQ 1497 3097 1228 2736 \nQ 959 2375 959 1747 \nQ 959 1119 1226 758 \nQ 1494 397 1959 397 \nQ 2419 397 2687 759 \nQ 2956 1122 2956 1747 \nQ 2956 2369 2687 2733 \nQ 2419 3097 1959 3097 \nz\nM 1959 3584 \nQ 2709 3584 3137 3096 \nQ 3566 2609 3566 1747 \nQ 3566 888 3137 398 \nQ 2709 -91 1959 -91 \nQ 1206 -91 779 398 \nQ 353 888 353 1747 \nQ 353 2609 779 3096 \nQ 1206 3584 1959 3584 \nz\n\" transform=\"scale(0.015625)\"/>\n       <path id=\"DejaVuSans-6d\" d=\"M 3328 2828 \nQ 3544 3216 3844 3400 \nQ 4144 3584 4550 3584 \nQ 5097 3584 5394 3201 \nQ 5691 2819 5691 2113 \nL 5691 0 \nL 5113 0 \nL 5113 2094 \nQ 5113 2597 4934 2840 \nQ 4756 3084 4391 3084 \nQ 3944 3084 3684 2787 \nQ 3425 2491 3425 1978 \nL 3425 0 \nL 2847 0 \nL 2847 2094 \nQ 2847 2600 2669 2842 \nQ 2491 3084 2119 3084 \nQ 1678 3084 1418 2786 \nQ 1159 2488 1159 1978 \nL 1159 0 \nL 581 0 \nL 581 3500 \nL 1159 3500 \nL 1159 2956 \nQ 1356 3278 1631 3431 \nQ 1906 3584 2284 3584 \nQ 2666 3584 2933 3390 \nQ 3200 3197 3328 2828 \nz\n\" transform=\"scale(0.015625)\"/>\n      </defs>\n      <use xlink:href=\"#DejaVuSans-53\"/>\n      <use xlink:href=\"#DejaVuSans-74\" x=\"63.476562\"/>\n      <use xlink:href=\"#DejaVuSans-72\" x=\"102.685547\"/>\n      <use xlink:href=\"#DejaVuSans-6f\" x=\"141.548828\"/>\n      <use xlink:href=\"#DejaVuSans-6d\" x=\"202.730469\"/>\n      <use xlink:href=\"#DejaVuSans-70\" x=\"300.142578\"/>\n      <use xlink:href=\"#DejaVuSans-66\" x=\"363.619141\"/>\n      <use xlink:href=\"#DejaVuSans-61\" x=\"398.824219\"/>\n      <use xlink:href=\"#DejaVuSans-64\" x=\"460.103516\"/>\n     </g>\n    </g>\n   </g>\n  </g>\n </g>\n <defs>\n  <clipPath id=\"pccf77d0777\">\n   <rect x=\"7.2\" y=\"7.2\" width=\"207.0702\" height=\"131.92\"/>\n  </clipPath>\n </defs>\n</svg>\n",
      "text/plain": [
       "<schemdraw.backends.mpl.Figure object at 0x00000277D967A2D0>"
      ]
     },
     "metadata": {},
     "output_type": "display_data"
    }
   ],
   "source": [
    "with schemdraw.Drawing() as d:\n",
    "    d += (mp := MeterP())\n",
    "\n",
    "    (vix, viy), (vox, voy) = mp.anchors['inp_vol'], mp.anchors['out_vol']\n",
    "    (aix, aiy), (aox, aoy) = mp.anchors['inp_amp'], mp.anchors['out_amp']\n",
    "\n",
    "    d += (elm.Line(arrow='->')\n",
    "          .at((vix-2, viy))\n",
    "          .to((vox-2, voy))\n",
    "          .label('Spannungspfad'))\n",
    "\n",
    "    d += (elm.Line(arrow='->')\n",
    "          .at((aix, aiy + 2))\n",
    "          .to((aox, aoy + 2))\n",
    "          .label('Strompfad'))"
   ]
  },
  {
   "cell_type": "markdown",
   "metadata": {},
   "source": [
    "### Leistungsarten"
   ]
  },
  {
   "cell_type": "markdown",
   "metadata": {},
   "source": [
    "$P = U\\cdot I\\cdot (cos\\varphi + i\\cdot sin\\varphi)$"
   ]
  },
  {
   "cell_type": "markdown",
   "metadata": {},
   "source": [
    "### Wirkleistungsmessung"
   ]
  },
  {
   "cell_type": "markdown",
   "metadata": {},
   "source": [
    "$P = U\\cdot I \\cdot cos \\varphi$\n",
    "\n",
    "Realteil der komplexen Leistung.\n",
    "\n",
    "$P = \\frac{1}{T}\\cdot \\int_0^T u(t)\\cdot i(t) dt = U_{eff} \\cdot I_{eff}\\cdot cos\\varphi$\n",
    "\n",
    "- $u(t) = \\hat{u}\\cdot sin(\\omega\\cdot t + \\varphi_u$\n",
    "- $i(t) = \\hat{i}\\cdot sin(\\omega\\cdot t + \\varphi_i$\n",
    "- $U_{eff} = \\frac{\\hat{u}}{\\sqrt{2}}$\n",
    "- $I_{eff} = \\frac{\\hat{i}}{\\sqrt{2}}$"
   ]
  },
  {
   "cell_type": "markdown",
   "metadata": {},
   "source": [
    "### Blindleistunsmessung"
   ]
  },
  {
   "cell_type": "markdown",
   "metadata": {},
   "source": [
    "$Q = U\\cdot I \\cdot cos \\varphi$\n",
    "\n",
    "Imagiärteil der komplexen Leistung.\n",
    "\n",
    "$Q = U_{eff} \\cdot I_{eff}\\cdot sin\\varphi$\n",
    "\n",
    "- $u(t) = \\hat{u}\\cdot sin(\\omega\\cdot t + \\varphi_u$\n",
    "- $i(t) = \\hat{i}\\cdot sin(\\omega\\cdot t + \\varphi_i$\n",
    "- $U_{eff} = \\frac{\\hat{u}}{\\sqrt{2}}$\n",
    "- $I_{eff} = \\frac{\\hat{i}}{\\sqrt{2}}$\n",
    "\n",
    "Wir über $90°$ ($\\pi~rad$) Phasenverschiebung gemssen.\n",
    "Bspw. in Spannungspfad."
   ]
  },
  {
   "cell_type": "markdown",
   "metadata": {},
   "source": [
    "### Scheinleistungsmessung"
   ]
  },
  {
   "cell_type": "markdown",
   "metadata": {},
   "source": [
    "Die Komplexe Leistung, zusammengesetzt aus Wirk- und Blindleistung\n",
    "\n",
    "$S = P + j\\cdot Q = |S| \\cdot cos\\varphi + j\\cdot |S| \\cdot sin\\varphi$\n",
    "\n",
    "\n",
    "$S^2 = P^2 + Q^2$"
   ]
  },
  {
   "cell_type": "markdown",
   "metadata": {
    "tags": []
   },
   "source": [
    "## Sensorik"
   ]
  },
  {
   "cell_type": "markdown",
   "metadata": {},
   "source": [
    "### Passive Sensoren"
   ]
  },
  {
   "cell_type": "markdown",
   "metadata": {},
   "source": [
    "### Aktive Sensoren"
   ]
  },
  {
   "cell_type": "markdown",
   "metadata": {},
   "source": [
    "### Temperatursensoren"
   ]
  },
  {
   "cell_type": "markdown",
   "metadata": {},
   "source": [
    "### Spannungsabhängiger Widerstand"
   ]
  },
  {
   "cell_type": "markdown",
   "metadata": {},
   "source": [
    "### Fotowiderstand"
   ]
  },
  {
   "cell_type": "markdown",
   "metadata": {
    "jp-MarkdownHeadingCollapsed": true,
    "tags": []
   },
   "source": [
    "## Messbrücke"
   ]
  },
  {
   "cell_type": "markdown",
   "metadata": {},
   "source": [
    "Allgemein:\n",
    "$U_b = U_0 \\cdot \\left(\\frac{R_2}{R_1 + R_2} - \\frac{R_4}{R_4+R_3}\\right)$"
   ]
  },
  {
   "cell_type": "markdown",
   "metadata": {
    "tags": []
   },
   "source": [
    "### Viertelbrücke"
   ]
  },
  {
   "cell_type": "markdown",
   "metadata": {},
   "source": [
    "**Viertel**brücke $\\Rightarrow$ 1 von 4 Widerständen änderbar"
   ]
  },
  {
   "cell_type": "code",
   "execution_count": 8,
   "metadata": {
    "ExecuteTime": {
     "end_time": "2023-04-18T08:10:01.476288Z",
     "start_time": "2023-04-18T08:03:19.421831Z"
    },
    "tags": [
     "hide-input"
    ]
   },
   "outputs": [
    {
     "data": {
      "image/png": "[encoded data removed]",
      "image/svg+xml": "<?xml version=\"1.0\" encoding=\"utf-8\" standalone=\"no\"?>\n<!DOCTYPE svg PUBLIC \"-//W3C//DTD SVG 1.1//EN\"\n  \"http://www.w3.org/Graphics/SVG/1.1/DTD/svg11.dtd\">\n<svg xmlns:xlink=\"http://www.w3.org/1999/xlink\" width=\"235.7298pt\" height=\"225.999pt\" viewBox=\"0 0 235.7298 225.999\" xmlns=\"http://www.w3.org/2000/svg\" version=\"1.1\">\n <metadata>\n  <rdf:RDF xmlns:dc=\"http://purl.org/dc/elements/1.1/\" xmlns:cc=\"http://creativecommons.org/ns#\" xmlns:rdf=\"http://www.w3.org/1999/02/22-rdf-syntax-ns#\">\n   <cc:Work>\n    <dc:type rdf:resource=\"http://purl.org/dc/dcmitype/StillImage\"/>\n    <dc:date>2023-04-18T10:54:15.952762</dc:date>\n    <dc:format>image/svg+xml</dc:format>\n    <dc:creator>\n     <cc:Agent>\n      <dc:title>Matplotlib v3.7.1, https://matplotlib.org/</dc:title>\n     </cc:Agent>\n    </dc:creator>\n   </cc:Work>\n  </rdf:RDF>\n </metadata>\n <defs>\n  <style type=\"text/css\">*{stroke-linejoin: round; stroke-linecap: butt}</style>\n </defs>\n <g id=\"figure_1\">\n  <g id=\"patch_1\">\n   <path d=\"M 0 225.999 \nL 235.7298 225.999 \nL 235.7298 0 \nL 0 0 \nz\n\" style=\"fill: #ffffff\"/>\n  </g>\n  <g id=\"axes_1\">\n   <g id=\"line2d_1\">\n    <path d=\"M 34.2198 12.555 \nL 80.1198 12.555 \nL 126.0198 12.555 \n\" clip-path=\"url(#pe257d4ebd9)\" style=\"fill: none; stroke: #000000; stroke-width: 2; stroke-linecap: round\"/>\n   </g>\n   <g id=\"line2d_2\">\n    <path d=\"M 126.0198 12.555 \nL 126.0198 43.155 \nL 133.6698 43.155 \nL 133.6698 73.755 \nL 118.3698 73.755 \nL 118.3698 43.155 \nL 126.0198 43.155 \nM 126.0198 73.755 \nL 126.0198 104.355 \n\" clip-path=\"url(#pe257d4ebd9)\" style=\"fill: none; stroke: #000000; stroke-width: 2; stroke-linecap: round\"/>\n   </g>\n   <g id=\"line2d_3\">\n    <path d=\"M 126.0198 104.355 \nL 137.4948 104.355 \nL 148.9698 104.355 \n\" clip-path=\"url(#pe257d4ebd9)\" style=\"fill: none; stroke: #000000; stroke-width: 2; stroke-linecap: round\"/>\n   </g>\n   <g id=\"line2d_4\">\n    <path d=\"M 126.0198 104.355 \nL 126.0198 134.955 \nL 133.6698 134.955 \nL 133.6698 165.555 \nL 118.3698 165.555 \nL 118.3698 134.955 \nL 126.0198 134.955 \nM 126.0198 165.555 \nL 126.0198 196.155 \n\" clip-path=\"url(#pe257d4ebd9)\" style=\"fill: none; stroke: #000000; stroke-width: 2; stroke-linecap: round\"/>\n   </g>\n   <g id=\"line2d_5\">\n    <path d=\"M 126.0198 196.155 \nL 80.1198 196.155 \nL 34.2198 196.155 \n\" clip-path=\"url(#pe257d4ebd9)\" style=\"fill: none; stroke: #000000; stroke-width: 2; stroke-linecap: round\"/>\n   </g>\n   <g id=\"line2d_6\">\n    <path d=\"M 34.2198 196.155 \nL 34.2198 208.395 \nL 26.5698 208.395 \nL 41.8698 208.395 \nM 28.8648 212.067 \nL 39.5748 212.067 \nM 32.6898 215.739 \nL 35.7498 215.739 \n\" clip-path=\"url(#pe257d4ebd9)\" style=\"fill: none; stroke: #000000; stroke-width: 2; stroke-linecap: round\"/>\n   </g>\n   <g id=\"line2d_7\">\n    <path d=\"M 126.0198 12.555 \nL 171.9198 12.555 \nL 217.8198 12.555 \n\" clip-path=\"url(#pe257d4ebd9)\" style=\"fill: none; stroke: #000000; stroke-width: 2; stroke-linecap: round\"/>\n   </g>\n   <g id=\"line2d_8\">\n    <path d=\"M 217.8198 12.555 \nL 217.8198 43.155 \nL 225.4698 43.155 \nL 225.4698 73.755 \nL 210.1698 73.755 \nL 210.1698 43.155 \nL 217.8198 43.155 \nM 217.8198 73.755 \nL 217.8198 104.355 \n\" clip-path=\"url(#pe257d4ebd9)\" style=\"fill: none; stroke: #000000; stroke-width: 2; stroke-linecap: round\"/>\n   </g>\n   <g id=\"line2d_9\">\n    <path d=\"M 217.8198 104.355 \nL 217.8198 134.955 \nL 225.4698 134.955 \nL 225.4698 165.555 \nL 210.1698 165.555 \nL 210.1698 134.955 \nL 217.8198 134.955 \nM 217.8198 165.555 \nL 217.8198 196.155 \n\" clip-path=\"url(#pe257d4ebd9)\" style=\"fill: none; stroke: #000000; stroke-width: 2; stroke-linecap: round\"/>\n   </g>\n   <g id=\"line2d_10\">\n    <path d=\"M 217.8198 196.155 \nL 171.9198 196.155 \nL 126.0198 196.155 \n\" clip-path=\"url(#pe257d4ebd9)\" style=\"fill: none; stroke: #000000; stroke-width: 2; stroke-linecap: round\"/>\n   </g>\n   <g id=\"line2d_11\">\n    <path d=\"M 217.8198 104.355 \nL 206.3448 104.355 \nL 194.8698 104.355 \n\" clip-path=\"url(#pe257d4ebd9)\" style=\"fill: none; stroke: #000000; stroke-width: 2; stroke-linecap: round\"/>\n   </g>\n   <g id=\"line2d_12\">\n    <path d=\"M 148.9698 96.705 \nL 171.9198 96.705 \nL 187.2198 96.705 \n\" clip-path=\"url(#pe257d4ebd9)\" style=\"fill: none; stroke: #000000; stroke-width: 2; stroke-linecap: round\"/>\n   </g>\n   <g id=\"patch_2\">\n    <path d=\"M 187.2198 94.41 \nL 194.8698 96.705 \nL 187.2198 99 \nz\n\" clip-path=\"url(#pe257d4ebd9)\"/>\n   </g>\n   <g id=\"line2d_13\">\n    <path d=\"M 34.2198 24.795 \nL 34.2198 104.355 \nL 34.2198 176.265 \n\" clip-path=\"url(#pe257d4ebd9)\" style=\"fill: none; stroke: #000000; stroke-width: 2; stroke-linecap: round\"/>\n   </g>\n   <g id=\"patch_3\">\n    <path d=\"M 36.5148 176.265 \nL 34.2198 183.915 \nL 31.9248 176.265 \nz\n\" clip-path=\"url(#pe257d4ebd9)\"/>\n   </g>\n   <g id=\"text_1\">\n    <g clip-path=\"url(#pe257d4ebd9)\">\n     <!-- R1 = R -->\n     <g transform=\"translate(71.565659 61.904219) scale(0.125 -0.125)\">\n      <defs>\n       <path id=\"DejaVuSans-52\" d=\"M 2841 2188 \nQ 3044 2119 3236 1894 \nQ 3428 1669 3622 1275 \nL 4263 0 \nL 3584 0 \nL 2988 1197 \nQ 2756 1666 2539 1819 \nQ 2322 1972 1947 1972 \nL 1259 1972 \nL 1259 0 \nL 628 0 \nL 628 4666 \nL 2053 4666 \nQ 2853 4666 3247 4331 \nQ 3641 3997 3641 3322 \nQ 3641 2881 3436 2590 \nQ 3231 2300 2841 2188 \nz\nM 1259 4147 \nL 1259 2491 \nL 2053 2491 \nQ 2509 2491 2742 2702 \nQ 2975 2913 2975 3322 \nQ 2975 3731 2742 3939 \nQ 2509 4147 2053 4147 \nL 1259 4147 \nz\n\" transform=\"scale(0.015625)\"/>\n       <path id=\"DejaVuSans-31\" d=\"M 794 531 \nL 1825 531 \nL 1825 4091 \nL 703 3866 \nL 703 4441 \nL 1819 4666 \nL 2450 4666 \nL 2450 531 \nL 3481 531 \nL 3481 0 \nL 794 0 \nL 794 531 \nz\n\" transform=\"scale(0.015625)\"/>\n       <path id=\"DejaVuSans-20\" transform=\"scale(0.015625)\"/>\n       <path id=\"DejaVuSans-3d\" d=\"M 678 2906 \nL 4684 2906 \nL 4684 2381 \nL 678 2381 \nL 678 2906 \nz\nM 678 1631 \nL 4684 1631 \nL 4684 1100 \nL 678 1100 \nL 678 1631 \nz\n\" transform=\"scale(0.015625)\"/>\n      </defs>\n      <use xlink:href=\"#DejaVuSans-52\"/>\n      <use xlink:href=\"#DejaVuSans-31\" x=\"69.482422\"/>\n      <use xlink:href=\"#DejaVuSans-20\" x=\"133.105469\"/>\n      <use xlink:href=\"#DejaVuSans-3d\" x=\"164.892578\"/>\n      <use xlink:href=\"#DejaVuSans-20\" x=\"248.681641\"/>\n      <use xlink:href=\"#DejaVuSans-52\" x=\"280.46875\"/>\n     </g>\n    </g>\n   </g>\n   <g id=\"text_2\">\n    <g clip-path=\"url(#pe257d4ebd9)\">\n     <!-- R2 = R + ΔR -->\n     <g transform=\"translate(35.909409 153.704219) scale(0.125 -0.125)\">\n      <defs>\n       <path id=\"DejaVuSans-32\" d=\"M 1228 531 \nL 3431 531 \nL 3431 0 \nL 469 0 \nL 469 531 \nQ 828 903 1448 1529 \nQ 2069 2156 2228 2338 \nQ 2531 2678 2651 2914 \nQ 2772 3150 2772 3378 \nQ 2772 3750 2511 3984 \nQ 2250 4219 1831 4219 \nQ 1534 4219 1204 4116 \nQ 875 4013 500 3803 \nL 500 4441 \nQ 881 4594 1212 4672 \nQ 1544 4750 1819 4750 \nQ 2544 4750 2975 4387 \nQ 3406 4025 3406 3419 \nQ 3406 3131 3298 2873 \nQ 3191 2616 2906 2266 \nQ 2828 2175 2409 1742 \nQ 1991 1309 1228 531 \nz\n\" transform=\"scale(0.015625)\"/>\n       <path id=\"DejaVuSans-2b\" d=\"M 2944 4013 \nL 2944 2272 \nL 4684 2272 \nL 4684 1741 \nL 2944 1741 \nL 2944 0 \nL 2419 0 \nL 2419 1741 \nL 678 1741 \nL 678 2272 \nL 2419 2272 \nL 2419 4013 \nL 2944 4013 \nz\n\" transform=\"scale(0.015625)\"/>\n       <path id=\"DejaVuSans-394\" d=\"M 2188 4044 \nL 906 525 \nL 3472 525 \nL 2188 4044 \nz\nM 50 0 \nL 1831 4666 \nL 2547 4666 \nL 4325 0 \nL 50 0 \nz\n\" transform=\"scale(0.015625)\"/>\n      </defs>\n      <use xlink:href=\"#DejaVuSans-52\"/>\n      <use xlink:href=\"#DejaVuSans-32\" x=\"69.482422\"/>\n      <use xlink:href=\"#DejaVuSans-20\" x=\"133.105469\"/>\n      <use xlink:href=\"#DejaVuSans-3d\" x=\"164.892578\"/>\n      <use xlink:href=\"#DejaVuSans-20\" x=\"248.681641\"/>\n      <use xlink:href=\"#DejaVuSans-52\" x=\"280.46875\"/>\n      <use xlink:href=\"#DejaVuSans-20\" x=\"349.951172\"/>\n      <use xlink:href=\"#DejaVuSans-2b\" x=\"381.738281\"/>\n      <use xlink:href=\"#DejaVuSans-20\" x=\"465.527344\"/>\n      <use xlink:href=\"#DejaVuSans-394\" x=\"497.314453\"/>\n      <use xlink:href=\"#DejaVuSans-52\" x=\"565.722656\"/>\n     </g>\n    </g>\n   </g>\n   <g id=\"text_3\">\n    <g clip-path=\"url(#pe257d4ebd9)\">\n     <!-- R = R3 -->\n     <g transform=\"translate(163.365659 61.904219) scale(0.125 -0.125)\">\n      <defs>\n       <path id=\"DejaVuSans-33\" d=\"M 2597 2516 \nQ 3050 2419 3304 2112 \nQ 3559 1806 3559 1356 \nQ 3559 666 3084 287 \nQ 2609 -91 1734 -91 \nQ 1441 -91 1130 -33 \nQ 819 25 488 141 \nL 488 750 \nQ 750 597 1062 519 \nQ 1375 441 1716 441 \nQ 2309 441 2620 675 \nQ 2931 909 2931 1356 \nQ 2931 1769 2642 2001 \nQ 2353 2234 1838 2234 \nL 1294 2234 \nL 1294 2753 \nL 1863 2753 \nQ 2328 2753 2575 2939 \nQ 2822 3125 2822 3475 \nQ 2822 3834 2567 4026 \nQ 2313 4219 1838 4219 \nQ 1578 4219 1281 4162 \nQ 984 4106 628 3988 \nL 628 4550 \nQ 988 4650 1302 4700 \nQ 1616 4750 1894 4750 \nQ 2613 4750 3031 4423 \nQ 3450 4097 3450 3541 \nQ 3450 3153 3228 2886 \nQ 3006 2619 2597 2516 \nz\n\" transform=\"scale(0.015625)\"/>\n      </defs>\n      <use xlink:href=\"#DejaVuSans-52\"/>\n      <use xlink:href=\"#DejaVuSans-20\" x=\"69.482422\"/>\n      <use xlink:href=\"#DejaVuSans-3d\" x=\"101.269531\"/>\n      <use xlink:href=\"#DejaVuSans-20\" x=\"185.058594\"/>\n      <use xlink:href=\"#DejaVuSans-52\" x=\"216.845703\"/>\n      <use xlink:href=\"#DejaVuSans-33\" x=\"286.328125\"/>\n     </g>\n    </g>\n   </g>\n   <g id=\"text_4\">\n    <g clip-path=\"url(#pe257d4ebd9)\">\n     <!-- R4 = R -->\n     <g transform=\"translate(163.365659 153.704219) scale(0.125 -0.125)\">\n      <defs>\n       <path id=\"DejaVuSans-34\" d=\"M 2419 4116 \nL 825 1625 \nL 2419 1625 \nL 2419 4116 \nz\nM 2253 4666 \nL 3047 4666 \nL 3047 1625 \nL 3713 1625 \nL 3713 1100 \nL 3047 1100 \nL 3047 0 \nL 2419 0 \nL 2419 1100 \nL 313 1100 \nL 313 1709 \nL 2253 4666 \nz\n\" transform=\"scale(0.015625)\"/>\n      </defs>\n      <use xlink:href=\"#DejaVuSans-52\"/>\n      <use xlink:href=\"#DejaVuSans-34\" x=\"69.482422\"/>\n      <use xlink:href=\"#DejaVuSans-20\" x=\"133.105469\"/>\n      <use xlink:href=\"#DejaVuSans-3d\" x=\"164.892578\"/>\n      <use xlink:href=\"#DejaVuSans-20\" x=\"248.681641\"/>\n      <use xlink:href=\"#DejaVuSans-52\" x=\"280.46875\"/>\n     </g>\n    </g>\n   </g>\n   <g id=\"text_5\">\n    <g clip-path=\"url(#pe257d4ebd9)\">\n     <!-- UB -->\n     <g transform=\"translate(163.057495 91.045391) scale(0.125 -0.125)\">\n      <defs>\n       <path id=\"DejaVuSans-55\" d=\"M 556 4666 \nL 1191 4666 \nL 1191 1831 \nQ 1191 1081 1462 751 \nQ 1734 422 2344 422 \nQ 2950 422 3222 751 \nQ 3494 1081 3494 1831 \nL 3494 4666 \nL 4128 4666 \nL 4128 1753 \nQ 4128 841 3676 375 \nQ 3225 -91 2344 -91 \nQ 1459 -91 1007 375 \nQ 556 841 556 1753 \nL 556 4666 \nz\n\" transform=\"scale(0.015625)\"/>\n       <path id=\"DejaVuSans-42\" d=\"M 1259 2228 \nL 1259 519 \nL 2272 519 \nQ 2781 519 3026 730 \nQ 3272 941 3272 1375 \nQ 3272 1813 3026 2020 \nQ 2781 2228 2272 2228 \nL 1259 2228 \nz\nM 1259 4147 \nL 1259 2741 \nL 2194 2741 \nQ 2656 2741 2882 2914 \nQ 3109 3088 3109 3444 \nQ 3109 3797 2882 3972 \nQ 2656 4147 2194 4147 \nL 1259 4147 \nz\nM 628 4666 \nL 2241 4666 \nQ 2963 4666 3353 4366 \nQ 3744 4066 3744 3513 \nQ 3744 3084 3544 2831 \nQ 3344 2578 2956 2516 \nQ 3422 2416 3680 2098 \nQ 3938 1781 3938 1306 \nQ 3938 681 3513 340 \nQ 3088 0 2303 0 \nL 628 0 \nL 628 4666 \nz\n\" transform=\"scale(0.015625)\"/>\n      </defs>\n      <use xlink:href=\"#DejaVuSans-55\"/>\n      <use xlink:href=\"#DejaVuSans-42\" x=\"73.193359\"/>\n     </g>\n    </g>\n   </g>\n   <g id=\"text_6\">\n    <g clip-path=\"url(#pe257d4ebd9)\">\n     <!-- U0 -->\n     <g transform=\"translate(14.058238 107.804219) scale(0.125 -0.125)\">\n      <defs>\n       <path id=\"DejaVuSans-30\" d=\"M 2034 4250 \nQ 1547 4250 1301 3770 \nQ 1056 3291 1056 2328 \nQ 1056 1369 1301 889 \nQ 1547 409 2034 409 \nQ 2525 409 2770 889 \nQ 3016 1369 3016 2328 \nQ 3016 3291 2770 3770 \nQ 2525 4250 2034 4250 \nz\nM 2034 4750 \nQ 2819 4750 3233 4129 \nQ 3647 3509 3647 2328 \nQ 3647 1150 3233 529 \nQ 2819 -91 2034 -91 \nQ 1250 -91 836 529 \nQ 422 1150 422 2328 \nQ 422 3509 836 4129 \nQ 1250 4750 2034 4750 \nz\n\" transform=\"scale(0.015625)\"/>\n      </defs>\n      <use xlink:href=\"#DejaVuSans-55\"/>\n      <use xlink:href=\"#DejaVuSans-30\" x=\"73.193359\"/>\n     </g>\n    </g>\n   </g>\n   <g id=\"patch_4\">\n    <path d=\"M 34.2198 14.85 \nC 34.828441 14.85 35.412236 14.608184 35.84261 14.17781 \nC 36.272984 13.747436 36.5148 13.163641 36.5148 12.555 \nC 36.5148 11.946359 36.272984 11.362564 35.84261 10.93219 \nC 35.412236 10.501816 34.828441 10.26 34.2198 10.26 \nC 33.611159 10.26 33.027364 10.501816 32.59699 10.93219 \nC 32.166616 11.362564 31.9248 11.946359 31.9248 12.555 \nC 31.9248 13.163641 32.166616 13.747436 32.59699 14.17781 \nC 33.027364 14.608184 33.611159 14.85 34.2198 14.85 \nz\n\" clip-path=\"url(#pe257d4ebd9)\" style=\"fill: #ffffff; stroke: #000000; stroke-width: 2; stroke-linejoin: miter\"/>\n   </g>\n   <g id=\"patch_5\">\n    <path d=\"M 126.0198 106.65 \nC 126.628441 106.65 127.212236 106.408184 127.64261 105.97781 \nC 128.072984 105.547436 128.3148 104.963641 128.3148 104.355 \nC 128.3148 103.746359 128.072984 103.162564 127.64261 102.73219 \nC 127.212236 102.301816 126.628441 102.06 126.0198 102.06 \nC 125.411159 102.06 124.827364 102.301816 124.39699 102.73219 \nC 123.966616 103.162564 123.7248 103.746359 123.7248 104.355 \nC 123.7248 104.963641 123.966616 105.547436 124.39699 105.97781 \nC 124.827364 106.408184 125.411159 106.65 126.0198 106.65 \nz\n\" clip-path=\"url(#pe257d4ebd9)\" style=\"stroke: #000000; stroke-width: 2; stroke-linejoin: miter\"/>\n   </g>\n   <g id=\"patch_6\">\n    <path d=\"M 148.9698 106.65 \nC 149.578441 106.65 150.162236 106.408184 150.59261 105.97781 \nC 151.022984 105.547436 151.2648 104.963641 151.2648 104.355 \nC 151.2648 103.746359 151.022984 103.162564 150.59261 102.73219 \nC 150.162236 102.301816 149.578441 102.06 148.9698 102.06 \nC 148.361159 102.06 147.777364 102.301816 147.34699 102.73219 \nC 146.916616 103.162564 146.6748 103.746359 146.6748 104.355 \nC 146.6748 104.963641 146.916616 105.547436 147.34699 105.97781 \nC 147.777364 106.408184 148.361159 106.65 148.9698 106.65 \nz\n\" clip-path=\"url(#pe257d4ebd9)\" style=\"stroke: #000000; stroke-width: 2; stroke-linejoin: miter\"/>\n   </g>\n   <g id=\"patch_7\">\n    <path d=\"M 126.0198 198.45 \nC 126.628441 198.45 127.212236 198.208184 127.64261 197.77781 \nC 128.072984 197.347436 128.3148 196.763641 128.3148 196.155 \nC 128.3148 195.546359 128.072984 194.962564 127.64261 194.53219 \nC 127.212236 194.101816 126.628441 193.86 126.0198 193.86 \nC 125.411159 193.86 124.827364 194.101816 124.39699 194.53219 \nC 123.966616 194.962564 123.7248 195.546359 123.7248 196.155 \nC 123.7248 196.763641 123.966616 197.347436 124.39699 197.77781 \nC 124.827364 198.208184 125.411159 198.45 126.0198 198.45 \nz\n\" clip-path=\"url(#pe257d4ebd9)\" style=\"stroke: #000000; stroke-width: 2; stroke-linejoin: miter\"/>\n   </g>\n   <g id=\"patch_8\">\n    <path d=\"M 34.2198 198.45 \nC 34.828441 198.45 35.412236 198.208184 35.84261 197.77781 \nC 36.272984 197.347436 36.5148 196.763641 36.5148 196.155 \nC 36.5148 195.546359 36.272984 194.962564 35.84261 194.53219 \nC 35.412236 194.101816 34.828441 193.86 34.2198 193.86 \nC 33.611159 193.86 33.027364 194.101816 32.59699 194.53219 \nC 32.166616 194.962564 31.9248 195.546359 31.9248 196.155 \nC 31.9248 196.763641 32.166616 197.347436 32.59699 197.77781 \nC 33.027364 198.208184 33.611159 198.45 34.2198 198.45 \nz\n\" clip-path=\"url(#pe257d4ebd9)\" style=\"fill: #ffffff; stroke: #000000; stroke-width: 2; stroke-linejoin: miter\"/>\n   </g>\n   <g id=\"patch_9\">\n    <path d=\"M 217.8198 106.65 \nC 218.428441 106.65 219.012236 106.408184 219.44261 105.97781 \nC 219.872984 105.547436 220.1148 104.963641 220.1148 104.355 \nC 220.1148 103.746359 219.872984 103.162564 219.44261 102.73219 \nC 219.012236 102.301816 218.428441 102.06 217.8198 102.06 \nC 217.211159 102.06 216.627364 102.301816 216.19699 102.73219 \nC 215.766616 103.162564 215.5248 103.746359 215.5248 104.355 \nC 215.5248 104.963641 215.766616 105.547436 216.19699 105.97781 \nC 216.627364 106.408184 217.211159 106.65 217.8198 106.65 \nz\n\" clip-path=\"url(#pe257d4ebd9)\" style=\"stroke: #000000; stroke-width: 2; stroke-linejoin: miter\"/>\n   </g>\n   <g id=\"patch_10\">\n    <path d=\"M 194.8698 106.65 \nC 195.478441 106.65 196.062236 106.408184 196.49261 105.97781 \nC 196.922984 105.547436 197.1648 104.963641 197.1648 104.355 \nC 197.1648 103.746359 196.922984 103.162564 196.49261 102.73219 \nC 196.062236 102.301816 195.478441 102.06 194.8698 102.06 \nC 194.261159 102.06 193.677364 102.301816 193.24699 102.73219 \nC 192.816616 103.162564 192.5748 103.746359 192.5748 104.355 \nC 192.5748 104.963641 192.816616 105.547436 193.24699 105.97781 \nC 193.677364 106.408184 194.261159 106.65 194.8698 106.65 \nz\n\" clip-path=\"url(#pe257d4ebd9)\" style=\"stroke: #000000; stroke-width: 2; stroke-linejoin: miter\"/>\n   </g>\n  </g>\n </g>\n <defs>\n  <clipPath id=\"pe257d4ebd9\">\n   <rect x=\"7.2\" y=\"7.2\" width=\"221.3298\" height=\"211.599\"/>\n  </clipPath>\n </defs>\n</svg>\n",
      "text/plain": [
       "<schemdraw.backends.mpl.Figure object at 0x00000277D9698C90>"
      ]
     },
     "metadata": {},
     "output_type": "display_data"
    }
   ],
   "source": [
    "with schemdraw.Drawing() as d:\n",
    "    d0 = d.add(elm.Dot(open=True))\n",
    "    d += elm.Line()\n",
    "    \n",
    "    d.push()\n",
    "    d += elm.ResistorIEC().down().label('R1 = R')\n",
    "    d.push()\n",
    "    \n",
    "    d += elm.Dot()\n",
    "    d += elm.Line().length(.75).right()\n",
    "    d1 = d.add(elm.Dot())\n",
    "    \n",
    "    d.pop()\n",
    "    d += elm.ResistorIEC().down().label('R2 = R + ΔR')\n",
    "    \n",
    "    d += (elm.Dot())\n",
    "    d += elm.Line().left()\n",
    "    de = d.add(elm.Dot(open=True))\n",
    "    d += elm.Ground()\n",
    "    \n",
    "    d.pop()\n",
    "    d += elm.Line()\n",
    "    d += elm.ResistorIEC().down().label('R = R3')\n",
    "    d += elm.Dot()\n",
    "    d.push()\n",
    "    \n",
    "    d += elm.ResistorIEC().down().label('R4 = R')\n",
    "    d += elm.Line().left()\n",
    "    \n",
    "    d.pop()\n",
    "    d += elm.Line().length(.75).left()\n",
    "    d2 = d.add(elm.Dot())\n",
    "    \n",
    "    d += (elm.Arrow()\n",
    "        .at((d1.start[0], d1.start[1] + 0.25))\n",
    "        .to((d2.start[0], d2.start[1] + 0.25))\n",
    "        .label('UB'))\n",
    "    d += (elm.Arrow()\n",
    "          .at((d0.start[0], d0.start[1]-.4))\n",
    "          .to((de.start[0], de.start[1]+.4))\n",
    "          .label('U0'))"
   ]
  },
  {
   "cell_type": "markdown",
   "metadata": {},
   "source": [
    "$U_B = U_{R2} - U_{R4} = U_0 \\cdot \\left( \\frac{R_2}{R_1 + R_2} - \\frac{R_4}{R_3 + R_4} \\right)$  \n",
    "$R_1 = R_3 = R_4 = R$  \n",
    "$R_2 = R + \\Delta R$  \n",
    "$\\therefore U_B = U_0 \\cdot \\frac{\\Delta R}{4R + \\Delta R} \\approx U_0 \\cdot \\frac{\\Delta R}{4R}$"
   ]
  },
  {
   "cell_type": "markdown",
   "metadata": {
    "tags": []
   },
   "source": [
    "### Halbbrücke"
   ]
  },
  {
   "cell_type": "markdown",
   "metadata": {},
   "source": [
    "**Halb**brücke $\\Rightarrow$ 2 von 4 Widerständen änderbar"
   ]
  },
  {
   "cell_type": "code",
   "execution_count": 9,
   "metadata": {
    "ExecuteTime": {
     "end_time": "2023-04-18T08:10:01.476288Z",
     "start_time": "2023-04-18T08:03:19.872291Z"
    },
    "tags": [
     "hide-input"
    ]
   },
   "outputs": [
    {
     "data": {
      "image/png": "[encoded data removed]",
      "image/svg+xml": "<?xml version=\"1.0\" encoding=\"utf-8\" standalone=\"no\"?>\n<!DOCTYPE svg PUBLIC \"-//W3C//DTD SVG 1.1//EN\"\n  \"http://www.w3.org/Graphics/SVG/1.1/DTD/svg11.dtd\">\n<svg xmlns:xlink=\"http://www.w3.org/1999/xlink\" width=\"327.5298pt\" height=\"225.999pt\" viewBox=\"0 0 327.5298 225.999\" xmlns=\"http://www.w3.org/2000/svg\" version=\"1.1\">\n <metadata>\n  <rdf:RDF xmlns:dc=\"http://purl.org/dc/elements/1.1/\" xmlns:cc=\"http://creativecommons.org/ns#\" xmlns:rdf=\"http://www.w3.org/1999/02/22-rdf-syntax-ns#\">\n   <cc:Work>\n    <dc:type rdf:resource=\"http://purl.org/dc/dcmitype/StillImage\"/>\n    <dc:date>2023-04-18T10:54:16.260895</dc:date>\n    <dc:format>image/svg+xml</dc:format>\n    <dc:creator>\n     <cc:Agent>\n      <dc:title>Matplotlib v3.7.1, https://matplotlib.org/</dc:title>\n     </cc:Agent>\n    </dc:creator>\n   </cc:Work>\n  </rdf:RDF>\n </metadata>\n <defs>\n  <style type=\"text/css\">*{stroke-linejoin: round; stroke-linecap: butt}</style>\n </defs>\n <g id=\"figure_1\">\n  <g id=\"patch_1\">\n   <path d=\"M 0 225.999 \nL 327.5298 225.999 \nL 327.5298 0 \nL 0 0 \nz\n\" style=\"fill: #ffffff\"/>\n  </g>\n  <g id=\"axes_1\">\n   <g id=\"line2d_1\">\n    <path d=\"M 34.2198 12.555 \nL 80.1198 12.555 \nL 126.0198 12.555 \n\" clip-path=\"url(#p9cdd957fda)\" style=\"fill: none; stroke: #000000; stroke-width: 2; stroke-linecap: round\"/>\n   </g>\n   <g id=\"line2d_2\">\n    <path d=\"M 126.0198 12.555 \nL 126.0198 43.155 \nL 133.6698 43.155 \nL 133.6698 73.755 \nL 118.3698 73.755 \nL 118.3698 43.155 \nL 126.0198 43.155 \nM 126.0198 73.755 \nL 126.0198 104.355 \n\" clip-path=\"url(#p9cdd957fda)\" style=\"fill: none; stroke: #000000; stroke-width: 2; stroke-linecap: round\"/>\n   </g>\n   <g id=\"line2d_3\">\n    <path d=\"M 126.0198 104.355 \nL 137.4948 104.355 \nL 148.9698 104.355 \n\" clip-path=\"url(#p9cdd957fda)\" style=\"fill: none; stroke: #000000; stroke-width: 2; stroke-linecap: round\"/>\n   </g>\n   <g id=\"line2d_4\">\n    <path d=\"M 126.0198 104.355 \nL 126.0198 134.955 \nL 133.6698 134.955 \nL 133.6698 165.555 \nL 118.3698 165.555 \nL 118.3698 134.955 \nL 126.0198 134.955 \nM 126.0198 165.555 \nL 126.0198 196.155 \n\" clip-path=\"url(#p9cdd957fda)\" style=\"fill: none; stroke: #000000; stroke-width: 2; stroke-linecap: round\"/>\n   </g>\n   <g id=\"line2d_5\">\n    <path d=\"M 126.0198 196.155 \nL 80.1198 196.155 \nL 34.2198 196.155 \n\" clip-path=\"url(#p9cdd957fda)\" style=\"fill: none; stroke: #000000; stroke-width: 2; stroke-linecap: round\"/>\n   </g>\n   <g id=\"line2d_6\">\n    <path d=\"M 34.2198 196.155 \nL 34.2198 208.395 \nL 26.5698 208.395 \nL 41.8698 208.395 \nM 28.8648 212.067 \nL 39.5748 212.067 \nM 32.6898 215.739 \nL 35.7498 215.739 \n\" clip-path=\"url(#p9cdd957fda)\" style=\"fill: none; stroke: #000000; stroke-width: 2; stroke-linecap: round\"/>\n   </g>\n   <g id=\"line2d_7\">\n    <path d=\"M 126.0198 12.555 \nL 217.8198 12.555 \nL 309.6198 12.555 \n\" clip-path=\"url(#p9cdd957fda)\" style=\"fill: none; stroke: #000000; stroke-width: 2; stroke-linecap: round\"/>\n   </g>\n   <g id=\"line2d_8\">\n    <path d=\"M 309.6198 12.555 \nL 309.6198 43.155 \nL 317.2698 43.155 \nL 317.2698 73.755 \nL 301.9698 73.755 \nL 301.9698 43.155 \nL 309.6198 43.155 \nM 309.6198 73.755 \nL 309.6198 104.355 \n\" clip-path=\"url(#p9cdd957fda)\" style=\"fill: none; stroke: #000000; stroke-width: 2; stroke-linecap: round\"/>\n   </g>\n   <g id=\"line2d_9\">\n    <path d=\"M 309.6198 104.355 \nL 309.6198 134.955 \nL 317.2698 134.955 \nL 317.2698 165.555 \nL 301.9698 165.555 \nL 301.9698 134.955 \nL 309.6198 134.955 \nM 309.6198 165.555 \nL 309.6198 196.155 \n\" clip-path=\"url(#p9cdd957fda)\" style=\"fill: none; stroke: #000000; stroke-width: 2; stroke-linecap: round\"/>\n   </g>\n   <g id=\"line2d_10\">\n    <path d=\"M 309.6198 196.155 \nL 217.8198 196.155 \nL 126.0198 196.155 \n\" clip-path=\"url(#p9cdd957fda)\" style=\"fill: none; stroke: #000000; stroke-width: 2; stroke-linecap: round\"/>\n   </g>\n   <g id=\"line2d_11\">\n    <path d=\"M 309.6198 104.355 \nL 298.1448 104.355 \nL 286.6698 104.355 \n\" clip-path=\"url(#p9cdd957fda)\" style=\"fill: none; stroke: #000000; stroke-width: 2; stroke-linecap: round\"/>\n   </g>\n   <g id=\"line2d_12\">\n    <path d=\"M 148.9698 96.705 \nL 217.8198 96.705 \nL 279.0198 96.705 \n\" clip-path=\"url(#p9cdd957fda)\" style=\"fill: none; stroke: #000000; stroke-width: 2; stroke-linecap: round\"/>\n   </g>\n   <g id=\"patch_2\">\n    <path d=\"M 279.0198 94.41 \nL 286.6698 96.705 \nL 279.0198 99 \nz\n\" clip-path=\"url(#p9cdd957fda)\"/>\n   </g>\n   <g id=\"line2d_13\">\n    <path d=\"M 34.2198 24.795 \nL 34.2198 104.355 \nL 34.2198 176.265 \n\" clip-path=\"url(#p9cdd957fda)\" style=\"fill: none; stroke: #000000; stroke-width: 2; stroke-linecap: round\"/>\n   </g>\n   <g id=\"patch_3\">\n    <path d=\"M 36.5148 176.265 \nL 34.2198 183.915 \nL 31.9248 176.265 \nz\n\" clip-path=\"url(#p9cdd957fda)\"/>\n   </g>\n   <g id=\"text_1\">\n    <g clip-path=\"url(#p9cdd957fda)\">\n     <!-- R1 = R -->\n     <g transform=\"translate(71.565659 61.904219) scale(0.125 -0.125)\">\n      <defs>\n       <path id=\"DejaVuSans-52\" d=\"M 2841 2188 \nQ 3044 2119 3236 1894 \nQ 3428 1669 3622 1275 \nL 4263 0 \nL 3584 0 \nL 2988 1197 \nQ 2756 1666 2539 1819 \nQ 2322 1972 1947 1972 \nL 1259 1972 \nL 1259 0 \nL 628 0 \nL 628 4666 \nL 2053 4666 \nQ 2853 4666 3247 4331 \nQ 3641 3997 3641 3322 \nQ 3641 2881 3436 2590 \nQ 3231 2300 2841 2188 \nz\nM 1259 4147 \nL 1259 2491 \nL 2053 2491 \nQ 2509 2491 2742 2702 \nQ 2975 2913 2975 3322 \nQ 2975 3731 2742 3939 \nQ 2509 4147 2053 4147 \nL 1259 4147 \nz\n\" transform=\"scale(0.015625)\"/>\n       <path id=\"DejaVuSans-31\" d=\"M 794 531 \nL 1825 531 \nL 1825 4091 \nL 703 3866 \nL 703 4441 \nL 1819 4666 \nL 2450 4666 \nL 2450 531 \nL 3481 531 \nL 3481 0 \nL 794 0 \nL 794 531 \nz\n\" transform=\"scale(0.015625)\"/>\n       <path id=\"DejaVuSans-20\" transform=\"scale(0.015625)\"/>\n       <path id=\"DejaVuSans-3d\" d=\"M 678 2906 \nL 4684 2906 \nL 4684 2381 \nL 678 2381 \nL 678 2906 \nz\nM 678 1631 \nL 4684 1631 \nL 4684 1100 \nL 678 1100 \nL 678 1631 \nz\n\" transform=\"scale(0.015625)\"/>\n      </defs>\n      <use xlink:href=\"#DejaVuSans-52\"/>\n      <use xlink:href=\"#DejaVuSans-31\" x=\"69.482422\"/>\n      <use xlink:href=\"#DejaVuSans-20\" x=\"133.105469\"/>\n      <use xlink:href=\"#DejaVuSans-3d\" x=\"164.892578\"/>\n      <use xlink:href=\"#DejaVuSans-20\" x=\"248.681641\"/>\n      <use xlink:href=\"#DejaVuSans-52\" x=\"280.46875\"/>\n     </g>\n    </g>\n   </g>\n   <g id=\"text_2\">\n    <g clip-path=\"url(#p9cdd957fda)\">\n     <!-- R2 = R + ΔR -->\n     <g transform=\"translate(35.909409 153.704219) scale(0.125 -0.125)\">\n      <defs>\n       <path id=\"DejaVuSans-32\" d=\"M 1228 531 \nL 3431 531 \nL 3431 0 \nL 469 0 \nL 469 531 \nQ 828 903 1448 1529 \nQ 2069 2156 2228 2338 \nQ 2531 2678 2651 2914 \nQ 2772 3150 2772 3378 \nQ 2772 3750 2511 3984 \nQ 2250 4219 1831 4219 \nQ 1534 4219 1204 4116 \nQ 875 4013 500 3803 \nL 500 4441 \nQ 881 4594 1212 4672 \nQ 1544 4750 1819 4750 \nQ 2544 4750 2975 4387 \nQ 3406 4025 3406 3419 \nQ 3406 3131 3298 2873 \nQ 3191 2616 2906 2266 \nQ 2828 2175 2409 1742 \nQ 1991 1309 1228 531 \nz\n\" transform=\"scale(0.015625)\"/>\n       <path id=\"DejaVuSans-2b\" d=\"M 2944 4013 \nL 2944 2272 \nL 4684 2272 \nL 4684 1741 \nL 2944 1741 \nL 2944 0 \nL 2419 0 \nL 2419 1741 \nL 678 1741 \nL 678 2272 \nL 2419 2272 \nL 2419 4013 \nL 2944 4013 \nz\n\" transform=\"scale(0.015625)\"/>\n       <path id=\"DejaVuSans-394\" d=\"M 2188 4044 \nL 906 525 \nL 3472 525 \nL 2188 4044 \nz\nM 50 0 \nL 1831 4666 \nL 2547 4666 \nL 4325 0 \nL 50 0 \nz\n\" transform=\"scale(0.015625)\"/>\n      </defs>\n      <use xlink:href=\"#DejaVuSans-52\"/>\n      <use xlink:href=\"#DejaVuSans-32\" x=\"69.482422\"/>\n      <use xlink:href=\"#DejaVuSans-20\" x=\"133.105469\"/>\n      <use xlink:href=\"#DejaVuSans-3d\" x=\"164.892578\"/>\n      <use xlink:href=\"#DejaVuSans-20\" x=\"248.681641\"/>\n      <use xlink:href=\"#DejaVuSans-52\" x=\"280.46875\"/>\n      <use xlink:href=\"#DejaVuSans-20\" x=\"349.951172\"/>\n      <use xlink:href=\"#DejaVuSans-2b\" x=\"381.738281\"/>\n      <use xlink:href=\"#DejaVuSans-20\" x=\"465.527344\"/>\n      <use xlink:href=\"#DejaVuSans-394\" x=\"497.314453\"/>\n      <use xlink:href=\"#DejaVuSans-52\" x=\"565.722656\"/>\n     </g>\n    </g>\n   </g>\n   <g id=\"text_3\">\n    <g clip-path=\"url(#p9cdd957fda)\">\n     <!-- R3 = R + ΔR -->\n     <g transform=\"translate(219.509409 61.904219) scale(0.125 -0.125)\">\n      <defs>\n       <path id=\"DejaVuSans-33\" d=\"M 2597 2516 \nQ 3050 2419 3304 2112 \nQ 3559 1806 3559 1356 \nQ 3559 666 3084 287 \nQ 2609 -91 1734 -91 \nQ 1441 -91 1130 -33 \nQ 819 25 488 141 \nL 488 750 \nQ 750 597 1062 519 \nQ 1375 441 1716 441 \nQ 2309 441 2620 675 \nQ 2931 909 2931 1356 \nQ 2931 1769 2642 2001 \nQ 2353 2234 1838 2234 \nL 1294 2234 \nL 1294 2753 \nL 1863 2753 \nQ 2328 2753 2575 2939 \nQ 2822 3125 2822 3475 \nQ 2822 3834 2567 4026 \nQ 2313 4219 1838 4219 \nQ 1578 4219 1281 4162 \nQ 984 4106 628 3988 \nL 628 4550 \nQ 988 4650 1302 4700 \nQ 1616 4750 1894 4750 \nQ 2613 4750 3031 4423 \nQ 3450 4097 3450 3541 \nQ 3450 3153 3228 2886 \nQ 3006 2619 2597 2516 \nz\n\" transform=\"scale(0.015625)\"/>\n      </defs>\n      <use xlink:href=\"#DejaVuSans-52\"/>\n      <use xlink:href=\"#DejaVuSans-33\" x=\"69.482422\"/>\n      <use xlink:href=\"#DejaVuSans-20\" x=\"133.105469\"/>\n      <use xlink:href=\"#DejaVuSans-3d\" x=\"164.892578\"/>\n      <use xlink:href=\"#DejaVuSans-20\" x=\"248.681641\"/>\n      <use xlink:href=\"#DejaVuSans-52\" x=\"280.46875\"/>\n      <use xlink:href=\"#DejaVuSans-20\" x=\"349.951172\"/>\n      <use xlink:href=\"#DejaVuSans-2b\" x=\"381.738281\"/>\n      <use xlink:href=\"#DejaVuSans-20\" x=\"465.527344\"/>\n      <use xlink:href=\"#DejaVuSans-394\" x=\"497.314453\"/>\n      <use xlink:href=\"#DejaVuSans-52\" x=\"565.722656\"/>\n     </g>\n    </g>\n   </g>\n   <g id=\"text_4\">\n    <g clip-path=\"url(#p9cdd957fda)\">\n     <!-- R4 = R -->\n     <g transform=\"translate(255.165659 153.704219) scale(0.125 -0.125)\">\n      <defs>\n       <path id=\"DejaVuSans-34\" d=\"M 2419 4116 \nL 825 1625 \nL 2419 1625 \nL 2419 4116 \nz\nM 2253 4666 \nL 3047 4666 \nL 3047 1625 \nL 3713 1625 \nL 3713 1100 \nL 3047 1100 \nL 3047 0 \nL 2419 0 \nL 2419 1100 \nL 313 1100 \nL 313 1709 \nL 2253 4666 \nz\n\" transform=\"scale(0.015625)\"/>\n      </defs>\n      <use xlink:href=\"#DejaVuSans-52\"/>\n      <use xlink:href=\"#DejaVuSans-34\" x=\"69.482422\"/>\n      <use xlink:href=\"#DejaVuSans-20\" x=\"133.105469\"/>\n      <use xlink:href=\"#DejaVuSans-3d\" x=\"164.892578\"/>\n      <use xlink:href=\"#DejaVuSans-20\" x=\"248.681641\"/>\n      <use xlink:href=\"#DejaVuSans-52\" x=\"280.46875\"/>\n     </g>\n    </g>\n   </g>\n   <g id=\"text_5\">\n    <g clip-path=\"url(#p9cdd957fda)\">\n     <!-- UB -->\n     <g transform=\"translate(208.957495 91.045391) scale(0.125 -0.125)\">\n      <defs>\n       <path id=\"DejaVuSans-55\" d=\"M 556 4666 \nL 1191 4666 \nL 1191 1831 \nQ 1191 1081 1462 751 \nQ 1734 422 2344 422 \nQ 2950 422 3222 751 \nQ 3494 1081 3494 1831 \nL 3494 4666 \nL 4128 4666 \nL 4128 1753 \nQ 4128 841 3676 375 \nQ 3225 -91 2344 -91 \nQ 1459 -91 1007 375 \nQ 556 841 556 1753 \nL 556 4666 \nz\n\" transform=\"scale(0.015625)\"/>\n       <path id=\"DejaVuSans-42\" d=\"M 1259 2228 \nL 1259 519 \nL 2272 519 \nQ 2781 519 3026 730 \nQ 3272 941 3272 1375 \nQ 3272 1813 3026 2020 \nQ 2781 2228 2272 2228 \nL 1259 2228 \nz\nM 1259 4147 \nL 1259 2741 \nL 2194 2741 \nQ 2656 2741 2882 2914 \nQ 3109 3088 3109 3444 \nQ 3109 3797 2882 3972 \nQ 2656 4147 2194 4147 \nL 1259 4147 \nz\nM 628 4666 \nL 2241 4666 \nQ 2963 4666 3353 4366 \nQ 3744 4066 3744 3513 \nQ 3744 3084 3544 2831 \nQ 3344 2578 2956 2516 \nQ 3422 2416 3680 2098 \nQ 3938 1781 3938 1306 \nQ 3938 681 3513 340 \nQ 3088 0 2303 0 \nL 628 0 \nL 628 4666 \nz\n\" transform=\"scale(0.015625)\"/>\n      </defs>\n      <use xlink:href=\"#DejaVuSans-55\"/>\n      <use xlink:href=\"#DejaVuSans-42\" x=\"73.193359\"/>\n     </g>\n    </g>\n   </g>\n   <g id=\"text_6\">\n    <g clip-path=\"url(#p9cdd957fda)\">\n     <!-- U0 -->\n     <g transform=\"translate(14.058237 107.804219) scale(0.125 -0.125)\">\n      <defs>\n       <path id=\"DejaVuSans-30\" d=\"M 2034 4250 \nQ 1547 4250 1301 3770 \nQ 1056 3291 1056 2328 \nQ 1056 1369 1301 889 \nQ 1547 409 2034 409 \nQ 2525 409 2770 889 \nQ 3016 1369 3016 2328 \nQ 3016 3291 2770 3770 \nQ 2525 4250 2034 4250 \nz\nM 2034 4750 \nQ 2819 4750 3233 4129 \nQ 3647 3509 3647 2328 \nQ 3647 1150 3233 529 \nQ 2819 -91 2034 -91 \nQ 1250 -91 836 529 \nQ 422 1150 422 2328 \nQ 422 3509 836 4129 \nQ 1250 4750 2034 4750 \nz\n\" transform=\"scale(0.015625)\"/>\n      </defs>\n      <use xlink:href=\"#DejaVuSans-55\"/>\n      <use xlink:href=\"#DejaVuSans-30\" x=\"73.193359\"/>\n     </g>\n    </g>\n   </g>\n   <g id=\"patch_4\">\n    <path d=\"M 34.2198 14.85 \nC 34.828441 14.85 35.412236 14.608184 35.84261 14.17781 \nC 36.272984 13.747436 36.5148 13.163641 36.5148 12.555 \nC 36.5148 11.946359 36.272984 11.362564 35.84261 10.93219 \nC 35.412236 10.501816 34.828441 10.26 34.2198 10.26 \nC 33.611159 10.26 33.027364 10.501816 32.59699 10.93219 \nC 32.166616 11.362564 31.9248 11.946359 31.9248 12.555 \nC 31.9248 13.163641 32.166616 13.747436 32.59699 14.17781 \nC 33.027364 14.608184 33.611159 14.85 34.2198 14.85 \nz\n\" clip-path=\"url(#p9cdd957fda)\" style=\"fill: #ffffff; stroke: #000000; stroke-width: 2; stroke-linejoin: miter\"/>\n   </g>\n   <g id=\"patch_5\">\n    <path d=\"M 126.0198 106.65 \nC 126.628441 106.65 127.212236 106.408184 127.64261 105.97781 \nC 128.072984 105.547436 128.3148 104.963641 128.3148 104.355 \nC 128.3148 103.746359 128.072984 103.162564 127.64261 102.73219 \nC 127.212236 102.301816 126.628441 102.06 126.0198 102.06 \nC 125.411159 102.06 124.827364 102.301816 124.39699 102.73219 \nC 123.966616 103.162564 123.7248 103.746359 123.7248 104.355 \nC 123.7248 104.963641 123.966616 105.547436 124.39699 105.97781 \nC 124.827364 106.408184 125.411159 106.65 126.0198 106.65 \nz\n\" clip-path=\"url(#p9cdd957fda)\" style=\"stroke: #000000; stroke-width: 2; stroke-linejoin: miter\"/>\n   </g>\n   <g id=\"patch_6\">\n    <path d=\"M 148.9698 106.65 \nC 149.578441 106.65 150.162236 106.408184 150.59261 105.97781 \nC 151.022984 105.547436 151.2648 104.963641 151.2648 104.355 \nC 151.2648 103.746359 151.022984 103.162564 150.59261 102.73219 \nC 150.162236 102.301816 149.578441 102.06 148.9698 102.06 \nC 148.361159 102.06 147.777364 102.301816 147.34699 102.73219 \nC 146.916616 103.162564 146.6748 103.746359 146.6748 104.355 \nC 146.6748 104.963641 146.916616 105.547436 147.34699 105.97781 \nC 147.777364 106.408184 148.361159 106.65 148.9698 106.65 \nz\n\" clip-path=\"url(#p9cdd957fda)\" style=\"stroke: #000000; stroke-width: 2; stroke-linejoin: miter\"/>\n   </g>\n   <g id=\"patch_7\">\n    <path d=\"M 126.0198 198.45 \nC 126.628441 198.45 127.212236 198.208184 127.64261 197.77781 \nC 128.072984 197.347436 128.3148 196.763641 128.3148 196.155 \nC 128.3148 195.546359 128.072984 194.962564 127.64261 194.53219 \nC 127.212236 194.101816 126.628441 193.86 126.0198 193.86 \nC 125.411159 193.86 124.827364 194.101816 124.39699 194.53219 \nC 123.966616 194.962564 123.7248 195.546359 123.7248 196.155 \nC 123.7248 196.763641 123.966616 197.347436 124.39699 197.77781 \nC 124.827364 198.208184 125.411159 198.45 126.0198 198.45 \nz\n\" clip-path=\"url(#p9cdd957fda)\" style=\"stroke: #000000; stroke-width: 2; stroke-linejoin: miter\"/>\n   </g>\n   <g id=\"patch_8\">\n    <path d=\"M 34.2198 198.45 \nC 34.828441 198.45 35.412236 198.208184 35.84261 197.77781 \nC 36.272984 197.347436 36.5148 196.763641 36.5148 196.155 \nC 36.5148 195.546359 36.272984 194.962564 35.84261 194.53219 \nC 35.412236 194.101816 34.828441 193.86 34.2198 193.86 \nC 33.611159 193.86 33.027364 194.101816 32.59699 194.53219 \nC 32.166616 194.962564 31.9248 195.546359 31.9248 196.155 \nC 31.9248 196.763641 32.166616 197.347436 32.59699 197.77781 \nC 33.027364 198.208184 33.611159 198.45 34.2198 198.45 \nz\n\" clip-path=\"url(#p9cdd957fda)\" style=\"fill: #ffffff; stroke: #000000; stroke-width: 2; stroke-linejoin: miter\"/>\n   </g>\n   <g id=\"patch_9\">\n    <path d=\"M 309.6198 106.65 \nC 310.228441 106.65 310.812236 106.408184 311.24261 105.97781 \nC 311.672984 105.547436 311.9148 104.963641 311.9148 104.355 \nC 311.9148 103.746359 311.672984 103.162564 311.24261 102.73219 \nC 310.812236 102.301816 310.228441 102.06 309.6198 102.06 \nC 309.011159 102.06 308.427364 102.301816 307.99699 102.73219 \nC 307.566616 103.162564 307.3248 103.746359 307.3248 104.355 \nC 307.3248 104.963641 307.566616 105.547436 307.99699 105.97781 \nC 308.427364 106.408184 309.011159 106.65 309.6198 106.65 \nz\n\" clip-path=\"url(#p9cdd957fda)\" style=\"stroke: #000000; stroke-width: 2; stroke-linejoin: miter\"/>\n   </g>\n   <g id=\"patch_10\">\n    <path d=\"M 286.6698 106.65 \nC 287.278441 106.65 287.862236 106.408184 288.29261 105.97781 \nC 288.722984 105.547436 288.9648 104.963641 288.9648 104.355 \nC 288.9648 103.746359 288.722984 103.162564 288.29261 102.73219 \nC 287.862236 102.301816 287.278441 102.06 286.6698 102.06 \nC 286.061159 102.06 285.477364 102.301816 285.04699 102.73219 \nC 284.616616 103.162564 284.3748 103.746359 284.3748 104.355 \nC 284.3748 104.963641 284.616616 105.547436 285.04699 105.97781 \nC 285.477364 106.408184 286.061159 106.65 286.6698 106.65 \nz\n\" clip-path=\"url(#p9cdd957fda)\" style=\"stroke: #000000; stroke-width: 2; stroke-linejoin: miter\"/>\n   </g>\n  </g>\n </g>\n <defs>\n  <clipPath id=\"p9cdd957fda\">\n   <rect x=\"7.2\" y=\"7.2\" width=\"313.1298\" height=\"211.599\"/>\n  </clipPath>\n </defs>\n</svg>\n",
      "text/plain": [
       "<schemdraw.backends.mpl.Figure object at 0x00000277D8B3C9D0>"
      ]
     },
     "metadata": {},
     "output_type": "display_data"
    }
   ],
   "source": [
    "with schemdraw.Drawing() as d:\n",
    "    d0 = d.add(elm.Dot(open=True))\n",
    "    d += elm.Line()\n",
    "    \n",
    "    d.push()\n",
    "    d += elm.ResistorIEC().down().label('R1 = R')\n",
    "    d.push()\n",
    "    \n",
    "    d += elm.Dot()\n",
    "    d += elm.Line().length(.75).right()\n",
    "    d1 = d.add(elm.Dot())\n",
    "    \n",
    "    d.pop()\n",
    "    d += elm.ResistorIEC().down().label('R2 = R + ΔR')\n",
    "    \n",
    "    d += (elm.Dot())\n",
    "    d += elm.Line().left()\n",
    "    de = d.add(elm.Dot(open=True))\n",
    "    d += elm.Ground()\n",
    "    \n",
    "    d.pop()\n",
    "    d += elm.Line().length(6)\n",
    "    d += elm.ResistorIEC().down().label('R3 = R + ΔR')\n",
    "    d += elm.Dot()\n",
    "    d.push()\n",
    "    \n",
    "    d += elm.ResistorIEC().down().label('R4 = R')\n",
    "    d += elm.Line().left().length(6)\n",
    "    \n",
    "    d.pop()\n",
    "    d += elm.Line().length(.75).left()\n",
    "    d2 = d.add(elm.Dot())\n",
    "    \n",
    "    d += (elm.Arrow()\n",
    "        .at((d1.start[0], d1.start[1] + 0.25))\n",
    "        .to((d2.start[0], d2.start[1] + 0.25))\n",
    "        .label('UB'))\n",
    "    d += (elm.Arrow()\n",
    "          .at((d0.start[0], d0.start[1]-.4))\n",
    "          .to((de.start[0], de.start[1]+.4))\n",
    "          .label('U0'))"
   ]
  },
  {
   "cell_type": "markdown",
   "metadata": {},
   "source": [
    "$U_B = U_{R2} - U_{R4} = U_0 \\cdot \\left( \\frac{R_2}{R_1 + R_2} - \\frac{R_4}{R_3 + R_4} \\right)$  \n",
    "$R_1 = R_4 = R$  \n",
    "$R_2 = R_3 = R + \\Delta R$  \n",
    "$\\therefore U_B = U_0 \\cdot \\frac{\\Delta R}{2R}$\n",
    "Doppelte Spannungsempfindlichkeit im Vergleich zur Viertelbrücke"
   ]
  },
  {
   "cell_type": "markdown",
   "metadata": {
    "tags": []
   },
   "source": [
    "### Vollbrücke"
   ]
  },
  {
   "cell_type": "markdown",
   "metadata": {},
   "source": [
    "Alle Widerstände sind veränderbar\n",
    "    und in der Form $R \\pm \\Delta R$,\n",
    "    wobei $R_1$ und $R_2$ sowie $R_3$ und $R_4$ gegengleich sind"
   ]
  },
  {
   "cell_type": "markdown",
   "metadata": {},
   "source": [
    "$U_B = U_0 \\cdot \\frac{\\Delta R}{R}$\n",
    "\n",
    "Wieder Doppelte Empfindlichkeit im Vergleich zur Halbbrücke"
   ]
  },
  {
   "cell_type": "markdown",
   "metadata": {
    "jp-MarkdownHeadingCollapsed": true,
    "tags": []
   },
   "source": [
    "## Digitale Frequenzmessung"
   ]
  },
  {
   "cell_type": "markdown",
   "metadata": {
    "jp-MarkdownHeadingCollapsed": true,
    "tags": []
   },
   "source": [
    "### Schaltung"
   ]
  },
  {
   "cell_type": "code",
   "execution_count": 10,
   "metadata": {
    "ExecuteTime": {
     "end_time": "2023-04-18T08:10:01.491914Z",
     "start_time": "2023-04-18T08:03:20.548459Z"
    },
    "collapsed": false,
    "jupyter": {
     "outputs_hidden": false
    },
    "tags": [
     "hide-input"
    ]
   },
   "outputs": [
    {
     "data": {
      "image/png": "[encoded data removed]",
      "image/svg+xml": "<?xml version=\"1.0\" encoding=\"utf-8\" standalone=\"no\"?>\n<!DOCTYPE svg PUBLIC \"-//W3C//DTD SVG 1.1//EN\"\n  \"http://www.w3.org/Graphics/SVG/1.1/DTD/svg11.dtd\">\n<svg xmlns:xlink=\"http://www.w3.org/1999/xlink\" width=\"628.695pt\" height=\"361.285pt\" viewBox=\"0 0 628.695 361.285\" xmlns=\"http://www.w3.org/2000/svg\" version=\"1.1\">\n <metadata>\n  <rdf:RDF xmlns:dc=\"http://purl.org/dc/elements/1.1/\" xmlns:cc=\"http://creativecommons.org/ns#\" xmlns:rdf=\"http://www.w3.org/1999/02/22-rdf-syntax-ns#\">\n   <cc:Work>\n    <dc:type rdf:resource=\"http://purl.org/dc/dcmitype/StillImage\"/>\n    <dc:date>2023-04-18T10:54:16.624807</dc:date>\n    <dc:format>image/svg+xml</dc:format>\n    <dc:creator>\n     <cc:Agent>\n      <dc:title>Matplotlib v3.7.1, https://matplotlib.org/</dc:title>\n     </cc:Agent>\n    </dc:creator>\n   </cc:Work>\n  </rdf:RDF>\n </metadata>\n <defs>\n  <style type=\"text/css\">*{stroke-linejoin: round; stroke-linecap: butt}</style>\n </defs>\n <g id=\"figure_1\">\n  <g id=\"patch_1\">\n   <path d=\"M -0 361.285 \nL 628.695 361.285 \nL 628.695 -0 \nL -0 -0 \nz\n\" style=\"fill: #ffffff\"/>\n  </g>\n  <g id=\"axes_1\">\n   <g id=\"line2d_1\">\n    <path d=\"M 12.555 42.73 \nL 58.455 42.73 \nL 104.355 42.73 \n\" clip-path=\"url(#p99a3cbd5ce)\" style=\"fill: none; stroke: #000000; stroke-width: 2; stroke-linecap: round\"/>\n   </g>\n   <g id=\"line2d_2\">\n    <path d=\"M 119.655 73.33 \nL 188.505 73.33 \nL 188.505 12.13 \nL 119.655 12.13 \nL 119.655 73.33 \n\" clip-path=\"url(#p99a3cbd5ce)\" style=\"fill: none; stroke: #000000; stroke-width: 2; stroke-linecap: round\"/>\n   </g>\n   <g id=\"line2d_3\">\n    <path d=\"M 119.655 42.73 \nL 104.355 42.73 \n\" clip-path=\"url(#p99a3cbd5ce)\" style=\"fill: none; stroke: #000000; stroke-width: 2; stroke-linecap: round\"/>\n   </g>\n   <g id=\"line2d_4\">\n    <path d=\"M 188.505 42.73 \nL 203.805 42.73 \n\" clip-path=\"url(#p99a3cbd5ce)\" style=\"fill: none; stroke: #000000; stroke-width: 2; stroke-linecap: round\"/>\n   </g>\n   <g id=\"line2d_5\">\n    <path d=\"M 203.805 42.73 \nL 295.605 42.73 \nL 387.405 42.73 \n\" clip-path=\"url(#p99a3cbd5ce)\" style=\"fill: none; stroke: #000000; stroke-width: 2; stroke-linecap: round\"/>\n   </g>\n   <g id=\"line2d_6\">\n    <path d=\"M 418.005 65.68 \nL 418.985274 65.648565 \nL 419.961521 65.554387 \nL 420.929727 65.397855 \nL 421.885915 65.179611 \nL 422.826156 64.900553 \nL 423.746585 64.561826 \nL 424.643421 64.164824 \nL 425.512979 63.711176 \nL 426.351684 63.202748 \nL 427.156091 62.641628 \nL 427.922894 62.030123 \nL 428.648943 61.370745 \nL 429.331253 60.666204 \nL 429.967022 59.919394 \nL 430.553635 59.133385 \nL 431.088684 58.311406 \nL 431.569969 57.456836 \nL 431.995513 56.573185 \nL 432.363567 55.664085 \nL 432.672618 54.733272 \nL 432.921397 53.78457 \nL 433.108881 52.821878 \nL 433.2343 51.849152 \nL 433.297139 50.870389 \nL 433.297139 49.889611 \nL 433.2343 48.910848 \nL 433.108881 47.938122 \nL 432.921397 46.97543 \nL 432.672618 46.026728 \nL 432.363567 45.095915 \nL 431.995513 44.186815 \nL 431.569969 43.303164 \nL 431.088684 42.448594 \nL 430.553635 41.626615 \nL 429.967022 40.840606 \nL 429.331253 40.093796 \nL 428.648943 39.389255 \nL 427.922894 38.729877 \nL 427.156091 38.118372 \nL 426.351684 37.557252 \nL 425.512979 37.048824 \nL 424.643421 36.595176 \nL 423.746585 36.198174 \nL 422.826156 35.859447 \nL 421.885915 35.580389 \nL 420.929727 35.362145 \nL 419.961521 35.205613 \nL 418.985274 35.111435 \nL 418.005 35.08 \nL 418.005 35.08 \nL 398.115 35.08 \nL 398.115 50.38 \nL 398.115 65.68 \nL 418.005 65.68 \n\" clip-path=\"url(#p99a3cbd5ce)\" style=\"fill: none; stroke: #000000; stroke-width: 2; stroke-linecap: round\"/>\n   </g>\n   <g id=\"line2d_7\">\n    <path d=\"M 387.405 58.03 \nL 398.115 58.03 \n\" clip-path=\"url(#p99a3cbd5ce)\" style=\"fill: none; stroke: #000000; stroke-width: 2; stroke-linecap: round\"/>\n   </g>\n   <g id=\"line2d_8\">\n    <path d=\"M 387.405 42.73 \nL 398.115 42.73 \n\" clip-path=\"url(#p99a3cbd5ce)\" style=\"fill: none; stroke: #000000; stroke-width: 2; stroke-linecap: round\"/>\n   </g>\n   <g id=\"line2d_9\">\n    <path d=\"M 433.305 50.38 \nL 444.015 50.38 \n\" clip-path=\"url(#p99a3cbd5ce)\" style=\"fill: none; stroke: #000000; stroke-width: 2; stroke-linecap: round\"/>\n   </g>\n   <g id=\"line2d_10\">\n    <path d=\"M 459.315 80.98 \nL 618.435 80.98 \nL 618.435 19.78 \nL 459.315 19.78 \nL 459.315 80.98 \n\" clip-path=\"url(#p99a3cbd5ce)\" style=\"fill: none; stroke: #000000; stroke-width: 2; stroke-linecap: round\"/>\n   </g>\n   <g id=\"line2d_11\">\n    <path d=\"M 459.315 50.38 \nL 444.015 50.38 \n\" clip-path=\"url(#p99a3cbd5ce)\" style=\"fill: none; stroke: #000000; stroke-width: 2; stroke-linecap: round\"/>\n   </g>\n   <g id=\"line2d_12\">\n    <path d=\"M 529.695 80.98 \nL 529.695 96.28 \n\" clip-path=\"url(#p99a3cbd5ce)\" style=\"fill: none; stroke: #000000; stroke-width: 2; stroke-linecap: round\"/>\n   </g>\n   <g id=\"line2d_13\">\n    <path d=\"M 548.055 80.98 \nL 548.055 96.28 \n\" clip-path=\"url(#p99a3cbd5ce)\" style=\"fill: none; stroke: #000000; stroke-width: 2; stroke-linecap: round\"/>\n   </g>\n   <g id=\"line2d_14\">\n    <path d=\"M 12.555 226.33 \nL 58.455 226.33 \nL 104.355 226.33 \n\" clip-path=\"url(#p99a3cbd5ce)\" style=\"fill: none; stroke: #000000; stroke-width: 2; stroke-linecap: round\"/>\n   </g>\n   <g id=\"line2d_15\">\n    <path d=\"M 119.655 256.93 \nL 242.055 256.93 \nL 242.055 195.73 \nL 119.655 195.73 \nL 119.655 256.93 \n\" clip-path=\"url(#p99a3cbd5ce)\" style=\"fill: none; stroke: #000000; stroke-width: 2; stroke-linecap: round\"/>\n   </g>\n   <g id=\"line2d_16\">\n    <path d=\"M 119.655 226.33 \nL 104.355 226.33 \n\" clip-path=\"url(#p99a3cbd5ce)\" style=\"fill: none; stroke: #000000; stroke-width: 2; stroke-linecap: round\"/>\n   </g>\n   <g id=\"line2d_17\">\n    <path d=\"M 242.055 226.33 \nL 257.355 226.33 \n\" clip-path=\"url(#p99a3cbd5ce)\" style=\"fill: none; stroke: #000000; stroke-width: 2; stroke-linecap: round\"/>\n   </g>\n   <g id=\"line2d_18\">\n    <path d=\"M 272.655 245.455 \nL 333.855 245.455 \nL 333.855 184.255 \nL 272.655 184.255 \nL 272.655 245.455 \n\" clip-path=\"url(#p99a3cbd5ce)\" style=\"fill: none; stroke: #000000; stroke-width: 2; stroke-linecap: round\"/>\n   </g>\n   <g id=\"line2d_19\">\n    <path d=\"M 272.655 220.975 \nL 283.365 226.33 \nL 272.655 231.685 \n\" clip-path=\"url(#p99a3cbd5ce)\" style=\"fill: none; stroke: #000000; stroke-width: 2; stroke-linecap: round\"/>\n   </g>\n   <g id=\"line2d_20\">\n    <path d=\"M 272.655 226.33 \nL 257.355 226.33 \n\" clip-path=\"url(#p99a3cbd5ce)\" style=\"fill: none; stroke: #000000; stroke-width: 2; stroke-linecap: round\"/>\n   </g>\n   <g id=\"line2d_21\">\n    <path d=\"M 272.655 203.38 \nL 257.355 203.38 \n\" clip-path=\"url(#p99a3cbd5ce)\" style=\"fill: none; stroke: #000000; stroke-width: 2; stroke-linecap: round\"/>\n   </g>\n   <g id=\"line2d_22\">\n    <path d=\"M 333.855 226.33 \nL 349.155 226.33 \n\" clip-path=\"url(#p99a3cbd5ce)\" style=\"fill: none; stroke: #000000; stroke-width: 2; stroke-linecap: round\"/>\n   </g>\n   <g id=\"line2d_23\">\n    <path d=\"M 333.855 203.38 \nL 349.155 203.38 \n\" clip-path=\"url(#p99a3cbd5ce)\" style=\"fill: none; stroke: #000000; stroke-width: 2; stroke-linecap: round\"/>\n   </g>\n   <g id=\"line2d_24\">\n    <path d=\"M 303.255 245.455 \nL 303.255 260.755 \n\" clip-path=\"url(#p99a3cbd5ce)\" style=\"fill: none; stroke: #000000; stroke-width: 2; stroke-linecap: round\"/>\n   </g>\n   <g id=\"line2d_25\">\n    <path d=\"M 349.155 226.33 \nL 379.755 226.33 \nL 410.355 226.33 \n\" clip-path=\"url(#p99a3cbd5ce)\" style=\"fill: none; stroke: #000000; stroke-width: 2; stroke-linecap: round\"/>\n   </g>\n   <g id=\"line2d_26\">\n    <path d=\"M 425.655 245.455 \nL 486.855 245.455 \nL 486.855 184.255 \nL 425.655 184.255 \nL 425.655 245.455 \n\" clip-path=\"url(#p99a3cbd5ce)\" style=\"fill: none; stroke: #000000; stroke-width: 2; stroke-linecap: round\"/>\n   </g>\n   <g id=\"line2d_27\">\n    <path d=\"M 425.655 220.975 \nL 436.365 226.33 \nL 425.655 231.685 \n\" clip-path=\"url(#p99a3cbd5ce)\" style=\"fill: none; stroke: #000000; stroke-width: 2; stroke-linecap: round\"/>\n   </g>\n   <g id=\"line2d_28\">\n    <path d=\"M 425.655 226.33 \nL 410.355 226.33 \n\" clip-path=\"url(#p99a3cbd5ce)\" style=\"fill: none; stroke: #000000; stroke-width: 2; stroke-linecap: round\"/>\n   </g>\n   <g id=\"line2d_29\">\n    <path d=\"M 425.655 203.38 \nL 410.355 203.38 \n\" clip-path=\"url(#p99a3cbd5ce)\" style=\"fill: none; stroke: #000000; stroke-width: 2; stroke-linecap: round\"/>\n   </g>\n   <g id=\"line2d_30\">\n    <path d=\"M 486.855 226.33 \nL 502.155 226.33 \n\" clip-path=\"url(#p99a3cbd5ce)\" style=\"fill: none; stroke: #000000; stroke-width: 2; stroke-linecap: round\"/>\n   </g>\n   <g id=\"line2d_31\">\n    <path d=\"M 486.855 203.38 \nL 502.155 203.38 \n\" clip-path=\"url(#p99a3cbd5ce)\" style=\"fill: none; stroke: #000000; stroke-width: 2; stroke-linecap: round\"/>\n   </g>\n   <g id=\"line2d_32\">\n    <path d=\"M 456.255 245.455 \nL 456.255 260.755 \n\" clip-path=\"url(#p99a3cbd5ce)\" style=\"fill: none; stroke: #000000; stroke-width: 2; stroke-linecap: round\"/>\n   </g>\n   <g id=\"line2d_33\">\n    <path d=\"M 502.155 226.33 \nL 502.155 256.93 \nL 502.155 287.53 \n\" clip-path=\"url(#p99a3cbd5ce)\" style=\"fill: none; stroke: #000000; stroke-width: 2; stroke-linecap: round\"/>\n   </g>\n   <g id=\"line2d_34\">\n    <path d=\"M 502.155 287.53 \nL 257.355 287.53 \nL 257.355 203.38 \n\" clip-path=\"url(#p99a3cbd5ce)\" style=\"fill: none; stroke: #000000; stroke-width: 2; stroke-linecap: round\"/>\n   </g>\n   <g id=\"line2d_35\">\n    <path d=\"M 410.355 203.38 \nL 402.705 203.38 \nL 395.055 203.38 \n\" clip-path=\"url(#p99a3cbd5ce)\" style=\"fill: none; stroke: #000000; stroke-width: 2; stroke-linecap: round\"/>\n   </g>\n   <g id=\"line2d_36\">\n    <path d=\"M 349.155 203.38 \nL 349.155 58.03 \nL 387.405 58.03 \n\" clip-path=\"url(#p99a3cbd5ce)\" style=\"fill: none; stroke: #000000; stroke-width: 2; stroke-linecap: round\"/>\n   </g>\n   <g id=\"line2d_37\">\n    <path d=\"M 12.555 348.73 \nL 43.155 348.73 \nL 73.755 348.73 \n\" clip-path=\"url(#p99a3cbd5ce)\" style=\"fill: none; stroke: #000000; stroke-width: 2; stroke-linecap: round\"/>\n   </g>\n   <g id=\"line2d_38\">\n    <path d=\"M 73.755 348.73 \nL 303.255 348.73 \nL 303.255 260.755 \n\" clip-path=\"url(#p99a3cbd5ce)\" style=\"fill: none; stroke: #000000; stroke-width: 2; stroke-linecap: round\"/>\n   </g>\n   <g id=\"line2d_39\">\n    <path d=\"M 73.755 348.73 \nL 456.255 348.73 \nL 456.255 260.755 \n\" clip-path=\"url(#p99a3cbd5ce)\" style=\"fill: none; stroke: #000000; stroke-width: 2; stroke-linecap: round\"/>\n   </g>\n   <g id=\"line2d_40\">\n    <path d=\"M 73.755 348.73 \nL 529.695 348.73 \nL 529.695 96.28 \n\" clip-path=\"url(#p99a3cbd5ce)\" style=\"fill: none; stroke: #000000; stroke-width: 2; stroke-linecap: round\"/>\n   </g>\n   <g id=\"line2d_41\">\n    <path d=\"M 548.055 96.28 \nL 548.055 142.18 \nL 548.055 180.43 \n\" clip-path=\"url(#p99a3cbd5ce)\" style=\"fill: none; stroke: #000000; stroke-width: 2; stroke-linecap: round\"/>\n   </g>\n   <g id=\"line2d_42\">\n    <path d=\"M 545.76 96.28 \nL 550.35 96.28 \n\" clip-path=\"url(#p99a3cbd5ce)\" style=\"fill: none; stroke: #000000; stroke-width: 2; stroke-linecap: round\"/>\n   </g>\n   <g id=\"patch_2\">\n    <path d=\"M 550.35 180.43 \nL 548.055 188.08 \nL 545.76 180.43 \nz\n\" clip-path=\"url(#p99a3cbd5ce)\"/>\n   </g>\n   <g id=\"patch_3\">\n    <path d=\"M 12.555 45.025 \nC 13.163641 45.025 13.747436 44.783184 14.17781 44.35281 \nC 14.608184 43.922436 14.85 43.338641 14.85 42.73 \nC 14.85 42.121359 14.608184 41.537564 14.17781 41.10719 \nC 13.747436 40.676816 13.163641 40.435 12.555 40.435 \nC 11.946359 40.435 11.362564 40.676816 10.93219 41.10719 \nC 10.501816 41.537564 10.26 42.121359 10.26 42.73 \nC 10.26 43.338641 10.501816 43.922436 10.93219 44.35281 \nC 11.362564 44.783184 11.946359 45.025 12.555 45.025 \nz\n\" clip-path=\"url(#p99a3cbd5ce)\" style=\"fill: #ffffff; stroke: #000000; stroke-width: 2; stroke-linejoin: miter\"/>\n   </g>\n   <g id=\"text_1\">\n    <g clip-path=\"url(#p99a3cbd5ce)\">\n     <!-- $f_x$ -->\n     <g transform=\"translate(52.3075 34.775391) scale(0.125 -0.125)\">\n      <defs>\n       <path id=\"DejaVuSans-Oblique-66\" d=\"M 3059 4863 \nL 2969 4384 \nL 2419 4384 \nQ 2106 4384 1964 4261 \nQ 1822 4138 1753 3809 \nL 1691 3500 \nL 2638 3500 \nL 2553 3053 \nL 1606 3053 \nL 1013 0 \nL 434 0 \nL 1031 3053 \nL 481 3053 \nL 563 3500 \nL 1113 3500 \nL 1159 3744 \nQ 1278 4363 1576 4613 \nQ 1875 4863 2516 4863 \nL 3059 4863 \nz\n\" transform=\"scale(0.015625)\"/>\n       <path id=\"DejaVuSans-Oblique-78\" d=\"M 3841 3500 \nL 2234 1784 \nL 3219 0 \nL 2559 0 \nL 1819 1388 \nL 531 0 \nL -166 0 \nL 1556 1844 \nL 641 3500 \nL 1300 3500 \nL 1972 2234 \nL 3144 3500 \nL 3841 3500 \nz\n\" transform=\"scale(0.015625)\"/>\n      </defs>\n      <use xlink:href=\"#DejaVuSans-Oblique-66\" transform=\"translate(0 0.015625)\"/>\n      <use xlink:href=\"#DejaVuSans-Oblique-78\" transform=\"translate(35.205078 -16.390625) scale(0.7)\"/>\n     </g>\n    </g>\n   </g>\n   <g id=\"text_2\">\n    <g clip-path=\"url(#p99a3cbd5ce)\">\n     <!-- Schmitt-Trigger -->\n     <g transform=\"translate(106.753828 85.888047) scale(0.125 -0.125)\">\n      <defs>\n       <path id=\"DejaVuSans-53\" d=\"M 3425 4513 \nL 3425 3897 \nQ 3066 4069 2747 4153 \nQ 2428 4238 2131 4238 \nQ 1616 4238 1336 4038 \nQ 1056 3838 1056 3469 \nQ 1056 3159 1242 3001 \nQ 1428 2844 1947 2747 \nL 2328 2669 \nQ 3034 2534 3370 2195 \nQ 3706 1856 3706 1288 \nQ 3706 609 3251 259 \nQ 2797 -91 1919 -91 \nQ 1588 -91 1214 -16 \nQ 841 59 441 206 \nL 441 856 \nQ 825 641 1194 531 \nQ 1563 422 1919 422 \nQ 2459 422 2753 634 \nQ 3047 847 3047 1241 \nQ 3047 1584 2836 1778 \nQ 2625 1972 2144 2069 \nL 1759 2144 \nQ 1053 2284 737 2584 \nQ 422 2884 422 3419 \nQ 422 4038 858 4394 \nQ 1294 4750 2059 4750 \nQ 2388 4750 2728 4690 \nQ 3069 4631 3425 4513 \nz\n\" transform=\"scale(0.015625)\"/>\n       <path id=\"DejaVuSans-63\" d=\"M 3122 3366 \nL 3122 2828 \nQ 2878 2963 2633 3030 \nQ 2388 3097 2138 3097 \nQ 1578 3097 1268 2742 \nQ 959 2388 959 1747 \nQ 959 1106 1268 751 \nQ 1578 397 2138 397 \nQ 2388 397 2633 464 \nQ 2878 531 3122 666 \nL 3122 134 \nQ 2881 22 2623 -34 \nQ 2366 -91 2075 -91 \nQ 1284 -91 818 406 \nQ 353 903 353 1747 \nQ 353 2603 823 3093 \nQ 1294 3584 2113 3584 \nQ 2378 3584 2631 3529 \nQ 2884 3475 3122 3366 \nz\n\" transform=\"scale(0.015625)\"/>\n       <path id=\"DejaVuSans-68\" d=\"M 3513 2113 \nL 3513 0 \nL 2938 0 \nL 2938 2094 \nQ 2938 2591 2744 2837 \nQ 2550 3084 2163 3084 \nQ 1697 3084 1428 2787 \nQ 1159 2491 1159 1978 \nL 1159 0 \nL 581 0 \nL 581 4863 \nL 1159 4863 \nL 1159 2956 \nQ 1366 3272 1645 3428 \nQ 1925 3584 2291 3584 \nQ 2894 3584 3203 3211 \nQ 3513 2838 3513 2113 \nz\n\" transform=\"scale(0.015625)\"/>\n       <path id=\"DejaVuSans-6d\" d=\"M 3328 2828 \nQ 3544 3216 3844 3400 \nQ 4144 3584 4550 3584 \nQ 5097 3584 5394 3201 \nQ 5691 2819 5691 2113 \nL 5691 0 \nL 5113 0 \nL 5113 2094 \nQ 5113 2597 4934 2840 \nQ 4756 3084 4391 3084 \nQ 3944 3084 3684 2787 \nQ 3425 2491 3425 1978 \nL 3425 0 \nL 2847 0 \nL 2847 2094 \nQ 2847 2600 2669 2842 \nQ 2491 3084 2119 3084 \nQ 1678 3084 1418 2786 \nQ 1159 2488 1159 1978 \nL 1159 0 \nL 581 0 \nL 581 3500 \nL 1159 3500 \nL 1159 2956 \nQ 1356 3278 1631 3431 \nQ 1906 3584 2284 3584 \nQ 2666 3584 2933 3390 \nQ 3200 3197 3328 2828 \nz\n\" transform=\"scale(0.015625)\"/>\n       <path id=\"DejaVuSans-69\" d=\"M 603 3500 \nL 1178 3500 \nL 1178 0 \nL 603 0 \nL 603 3500 \nz\nM 603 4863 \nL 1178 4863 \nL 1178 4134 \nL 603 4134 \nL 603 4863 \nz\n\" transform=\"scale(0.015625)\"/>\n       <path id=\"DejaVuSans-74\" d=\"M 1172 4494 \nL 1172 3500 \nL 2356 3500 \nL 2356 3053 \nL 1172 3053 \nL 1172 1153 \nQ 1172 725 1289 603 \nQ 1406 481 1766 481 \nL 2356 481 \nL 2356 0 \nL 1766 0 \nQ 1100 0 847 248 \nQ 594 497 594 1153 \nL 594 3053 \nL 172 3053 \nL 172 3500 \nL 594 3500 \nL 594 4494 \nL 1172 4494 \nz\n\" transform=\"scale(0.015625)\"/>\n       <path id=\"DejaVuSans-2d\" d=\"M 313 2009 \nL 1997 2009 \nL 1997 1497 \nL 313 1497 \nL 313 2009 \nz\n\" transform=\"scale(0.015625)\"/>\n       <path id=\"DejaVuSans-54\" d=\"M -19 4666 \nL 3928 4666 \nL 3928 4134 \nL 2272 4134 \nL 2272 0 \nL 1638 0 \nL 1638 4134 \nL -19 4134 \nL -19 4666 \nz\n\" transform=\"scale(0.015625)\"/>\n       <path id=\"DejaVuSans-72\" d=\"M 2631 2963 \nQ 2534 3019 2420 3045 \nQ 2306 3072 2169 3072 \nQ 1681 3072 1420 2755 \nQ 1159 2438 1159 1844 \nL 1159 0 \nL 581 0 \nL 581 3500 \nL 1159 3500 \nL 1159 2956 \nQ 1341 3275 1631 3429 \nQ 1922 3584 2338 3584 \nQ 2397 3584 2469 3576 \nQ 2541 3569 2628 3553 \nL 2631 2963 \nz\n\" transform=\"scale(0.015625)\"/>\n       <path id=\"DejaVuSans-67\" d=\"M 2906 1791 \nQ 2906 2416 2648 2759 \nQ 2391 3103 1925 3103 \nQ 1463 3103 1205 2759 \nQ 947 2416 947 1791 \nQ 947 1169 1205 825 \nQ 1463 481 1925 481 \nQ 2391 481 2648 825 \nQ 2906 1169 2906 1791 \nz\nM 3481 434 \nQ 3481 -459 3084 -895 \nQ 2688 -1331 1869 -1331 \nQ 1566 -1331 1297 -1286 \nQ 1028 -1241 775 -1147 \nL 775 -588 \nQ 1028 -725 1275 -790 \nQ 1522 -856 1778 -856 \nQ 2344 -856 2625 -561 \nQ 2906 -266 2906 331 \nL 2906 616 \nQ 2728 306 2450 153 \nQ 2172 0 1784 0 \nQ 1141 0 747 490 \nQ 353 981 353 1791 \nQ 353 2603 747 3093 \nQ 1141 3584 1784 3584 \nQ 2172 3584 2450 3431 \nQ 2728 3278 2906 2969 \nL 2906 3500 \nL 3481 3500 \nL 3481 434 \nz\n\" transform=\"scale(0.015625)\"/>\n       <path id=\"DejaVuSans-65\" d=\"M 3597 1894 \nL 3597 1613 \nL 953 1613 \nQ 991 1019 1311 708 \nQ 1631 397 2203 397 \nQ 2534 397 2845 478 \nQ 3156 559 3463 722 \nL 3463 178 \nQ 3153 47 2828 -22 \nQ 2503 -91 2169 -91 \nQ 1331 -91 842 396 \nQ 353 884 353 1716 \nQ 353 2575 817 3079 \nQ 1281 3584 2069 3584 \nQ 2775 3584 3186 3129 \nQ 3597 2675 3597 1894 \nz\nM 3022 2063 \nQ 3016 2534 2758 2815 \nQ 2500 3097 2075 3097 \nQ 1594 3097 1305 2825 \nQ 1016 2553 972 2059 \nL 3022 2063 \nz\n\" transform=\"scale(0.015625)\"/>\n      </defs>\n      <use xlink:href=\"#DejaVuSans-53\"/>\n      <use xlink:href=\"#DejaVuSans-63\" x=\"63.476562\"/>\n      <use xlink:href=\"#DejaVuSans-68\" x=\"118.457031\"/>\n      <use xlink:href=\"#DejaVuSans-6d\" x=\"181.835938\"/>\n      <use xlink:href=\"#DejaVuSans-69\" x=\"279.248047\"/>\n      <use xlink:href=\"#DejaVuSans-74\" x=\"307.03125\"/>\n      <use xlink:href=\"#DejaVuSans-74\" x=\"346.240234\"/>\n      <use xlink:href=\"#DejaVuSans-2d\" x=\"385.449219\"/>\n      <use xlink:href=\"#DejaVuSans-54\" x=\"412.408203\"/>\n      <use xlink:href=\"#DejaVuSans-72\" x=\"458.742188\"/>\n      <use xlink:href=\"#DejaVuSans-69\" x=\"499.855469\"/>\n      <use xlink:href=\"#DejaVuSans-67\" x=\"527.638672\"/>\n      <use xlink:href=\"#DejaVuSans-67\" x=\"591.115234\"/>\n      <use xlink:href=\"#DejaVuSans-65\" x=\"654.591797\"/>\n      <use xlink:href=\"#DejaVuSans-72\" x=\"716.115234\"/>\n     </g>\n    </g>\n   </g>\n   <g id=\"text_3\">\n    <g clip-path=\"url(#p99a3cbd5ce)\">\n     <!-- AND-Gate -->\n     <g transform=\"translate(384.496133 29.420391) scale(0.125 -0.125)\">\n      <defs>\n       <path id=\"DejaVuSans-41\" d=\"M 2188 4044 \nL 1331 1722 \nL 3047 1722 \nL 2188 4044 \nz\nM 1831 4666 \nL 2547 4666 \nL 4325 0 \nL 3669 0 \nL 3244 1197 \nL 1141 1197 \nL 716 0 \nL 50 0 \nL 1831 4666 \nz\n\" transform=\"scale(0.015625)\"/>\n       <path id=\"DejaVuSans-4e\" d=\"M 628 4666 \nL 1478 4666 \nL 3547 763 \nL 3547 4666 \nL 4159 4666 \nL 4159 0 \nL 3309 0 \nL 1241 3903 \nL 1241 0 \nL 628 0 \nL 628 4666 \nz\n\" transform=\"scale(0.015625)\"/>\n       <path id=\"DejaVuSans-44\" d=\"M 1259 4147 \nL 1259 519 \nL 2022 519 \nQ 2988 519 3436 956 \nQ 3884 1394 3884 2338 \nQ 3884 3275 3436 3711 \nQ 2988 4147 2022 4147 \nL 1259 4147 \nz\nM 628 4666 \nL 1925 4666 \nQ 3281 4666 3915 4102 \nQ 4550 3538 4550 2338 \nQ 4550 1131 3912 565 \nQ 3275 0 1925 0 \nL 628 0 \nL 628 4666 \nz\n\" transform=\"scale(0.015625)\"/>\n       <path id=\"DejaVuSans-47\" d=\"M 3809 666 \nL 3809 1919 \nL 2778 1919 \nL 2778 2438 \nL 4434 2438 \nL 4434 434 \nQ 4069 175 3628 42 \nQ 3188 -91 2688 -91 \nQ 1594 -91 976 548 \nQ 359 1188 359 2328 \nQ 359 3472 976 4111 \nQ 1594 4750 2688 4750 \nQ 3144 4750 3555 4637 \nQ 3966 4525 4313 4306 \nL 4313 3634 \nQ 3963 3931 3569 4081 \nQ 3175 4231 2741 4231 \nQ 1884 4231 1454 3753 \nQ 1025 3275 1025 2328 \nQ 1025 1384 1454 906 \nQ 1884 428 2741 428 \nQ 3075 428 3337 486 \nQ 3600 544 3809 666 \nz\n\" transform=\"scale(0.015625)\"/>\n       <path id=\"DejaVuSans-61\" d=\"M 2194 1759 \nQ 1497 1759 1228 1600 \nQ 959 1441 959 1056 \nQ 959 750 1161 570 \nQ 1363 391 1709 391 \nQ 2188 391 2477 730 \nQ 2766 1069 2766 1631 \nL 2766 1759 \nL 2194 1759 \nz\nM 3341 1997 \nL 3341 0 \nL 2766 0 \nL 2766 531 \nQ 2569 213 2275 61 \nQ 1981 -91 1556 -91 \nQ 1019 -91 701 211 \nQ 384 513 384 1019 \nQ 384 1609 779 1909 \nQ 1175 2209 1959 2209 \nL 2766 2209 \nL 2766 2266 \nQ 2766 2663 2505 2880 \nQ 2244 3097 1772 3097 \nQ 1472 3097 1187 3025 \nQ 903 2953 641 2809 \nL 641 3341 \nQ 956 3463 1253 3523 \nQ 1550 3584 1831 3584 \nQ 2591 3584 2966 3190 \nQ 3341 2797 3341 1997 \nz\n\" transform=\"scale(0.015625)\"/>\n      </defs>\n      <use xlink:href=\"#DejaVuSans-41\"/>\n      <use xlink:href=\"#DejaVuSans-4e\" x=\"68.408203\"/>\n      <use xlink:href=\"#DejaVuSans-44\" x=\"143.212891\"/>\n      <use xlink:href=\"#DejaVuSans-2d\" x=\"220.214844\"/>\n      <use xlink:href=\"#DejaVuSans-47\" x=\"259.923828\"/>\n      <use xlink:href=\"#DejaVuSans-61\" x=\"337.414062\"/>\n      <use xlink:href=\"#DejaVuSans-74\" x=\"398.693359\"/>\n      <use xlink:href=\"#DejaVuSans-65\" x=\"437.902344\"/>\n     </g>\n    </g>\n   </g>\n   <g id=\"text_4\">\n    <g clip-path=\"url(#p99a3cbd5ce)\">\n     <!-- n-Bit Counter -->\n     <g transform=\"translate(497.449219 50.769219) scale(0.125 -0.125)\">\n      <defs>\n       <path id=\"DejaVuSans-6e\" d=\"M 3513 2113 \nL 3513 0 \nL 2938 0 \nL 2938 2094 \nQ 2938 2591 2744 2837 \nQ 2550 3084 2163 3084 \nQ 1697 3084 1428 2787 \nQ 1159 2491 1159 1978 \nL 1159 0 \nL 581 0 \nL 581 3500 \nL 1159 3500 \nL 1159 2956 \nQ 1366 3272 1645 3428 \nQ 1925 3584 2291 3584 \nQ 2894 3584 3203 3211 \nQ 3513 2838 3513 2113 \nz\n\" transform=\"scale(0.015625)\"/>\n       <path id=\"DejaVuSans-42\" d=\"M 1259 2228 \nL 1259 519 \nL 2272 519 \nQ 2781 519 3026 730 \nQ 3272 941 3272 1375 \nQ 3272 1813 3026 2020 \nQ 2781 2228 2272 2228 \nL 1259 2228 \nz\nM 1259 4147 \nL 1259 2741 \nL 2194 2741 \nQ 2656 2741 2882 2914 \nQ 3109 3088 3109 3444 \nQ 3109 3797 2882 3972 \nQ 2656 4147 2194 4147 \nL 1259 4147 \nz\nM 628 4666 \nL 2241 4666 \nQ 2963 4666 3353 4366 \nQ 3744 4066 3744 3513 \nQ 3744 3084 3544 2831 \nQ 3344 2578 2956 2516 \nQ 3422 2416 3680 2098 \nQ 3938 1781 3938 1306 \nQ 3938 681 3513 340 \nQ 3088 0 2303 0 \nL 628 0 \nL 628 4666 \nz\n\" transform=\"scale(0.015625)\"/>\n       <path id=\"DejaVuSans-20\" transform=\"scale(0.015625)\"/>\n       <path id=\"DejaVuSans-43\" d=\"M 4122 4306 \nL 4122 3641 \nQ 3803 3938 3442 4084 \nQ 3081 4231 2675 4231 \nQ 1875 4231 1450 3742 \nQ 1025 3253 1025 2328 \nQ 1025 1406 1450 917 \nQ 1875 428 2675 428 \nQ 3081 428 3442 575 \nQ 3803 722 4122 1019 \nL 4122 359 \nQ 3791 134 3420 21 \nQ 3050 -91 2638 -91 \nQ 1578 -91 968 557 \nQ 359 1206 359 2328 \nQ 359 3453 968 4101 \nQ 1578 4750 2638 4750 \nQ 3056 4750 3426 4639 \nQ 3797 4528 4122 4306 \nz\n\" transform=\"scale(0.015625)\"/>\n       <path id=\"DejaVuSans-6f\" d=\"M 1959 3097 \nQ 1497 3097 1228 2736 \nQ 959 2375 959 1747 \nQ 959 1119 1226 758 \nQ 1494 397 1959 397 \nQ 2419 397 2687 759 \nQ 2956 1122 2956 1747 \nQ 2956 2369 2687 2733 \nQ 2419 3097 1959 3097 \nz\nM 1959 3584 \nQ 2709 3584 3137 3096 \nQ 3566 2609 3566 1747 \nQ 3566 888 3137 398 \nQ 2709 -91 1959 -91 \nQ 1206 -91 779 398 \nQ 353 888 353 1747 \nQ 353 2609 779 3096 \nQ 1206 3584 1959 3584 \nz\n\" transform=\"scale(0.015625)\"/>\n       <path id=\"DejaVuSans-75\" d=\"M 544 1381 \nL 544 3500 \nL 1119 3500 \nL 1119 1403 \nQ 1119 906 1312 657 \nQ 1506 409 1894 409 \nQ 2359 409 2629 706 \nQ 2900 1003 2900 1516 \nL 2900 3500 \nL 3475 3500 \nL 3475 0 \nL 2900 0 \nL 2900 538 \nQ 2691 219 2414 64 \nQ 2138 -91 1772 -91 \nQ 1169 -91 856 284 \nQ 544 659 544 1381 \nz\nM 1991 3584 \nL 1991 3584 \nz\n\" transform=\"scale(0.015625)\"/>\n      </defs>\n      <use xlink:href=\"#DejaVuSans-6e\"/>\n      <use xlink:href=\"#DejaVuSans-2d\" x=\"63.378906\"/>\n      <use xlink:href=\"#DejaVuSans-42\" x=\"95.837891\"/>\n      <use xlink:href=\"#DejaVuSans-69\" x=\"164.441406\"/>\n      <use xlink:href=\"#DejaVuSans-74\" x=\"192.224609\"/>\n      <use xlink:href=\"#DejaVuSans-20\" x=\"231.433594\"/>\n      <use xlink:href=\"#DejaVuSans-43\" x=\"263.220703\"/>\n      <use xlink:href=\"#DejaVuSans-6f\" x=\"333.044922\"/>\n      <use xlink:href=\"#DejaVuSans-75\" x=\"394.226562\"/>\n      <use xlink:href=\"#DejaVuSans-6e\" x=\"457.605469\"/>\n      <use xlink:href=\"#DejaVuSans-74\" x=\"520.984375\"/>\n      <use xlink:href=\"#DejaVuSans-65\" x=\"560.193359\"/>\n      <use xlink:href=\"#DejaVuSans-72\" x=\"621.716797\"/>\n     </g>\n    </g>\n   </g>\n   <g id=\"patch_4\">\n    <path d=\"M 12.555 228.625 \nC 13.163641 228.625 13.747436 228.383184 14.17781 227.95281 \nC 14.608184 227.522436 14.85 226.938641 14.85 226.33 \nC 14.85 225.721359 14.608184 225.137564 14.17781 224.70719 \nC 13.747436 224.276816 13.163641 224.035 12.555 224.035 \nC 11.946359 224.035 11.362564 224.276816 10.93219 224.70719 \nC 10.501816 225.137564 10.26 225.721359 10.26 226.33 \nC 10.26 226.938641 10.501816 227.522436 10.93219 227.95281 \nC 11.362564 228.383184 11.946359 228.625 12.555 228.625 \nz\n\" clip-path=\"url(#p99a3cbd5ce)\" style=\"fill: #ffffff; stroke: #000000; stroke-width: 2; stroke-linejoin: miter\"/>\n   </g>\n   <g id=\"text_5\">\n    <g clip-path=\"url(#p99a3cbd5ce)\">\n     <!-- $f_{ref}$ -->\n     <g transform=\"translate(48.87 218.375391) scale(0.125 -0.125)\">\n      <defs>\n       <path id=\"DejaVuSans-Oblique-72\" d=\"M 2853 2969 \nQ 2766 3016 2653 3041 \nQ 2541 3066 2413 3066 \nQ 1953 3066 1609 2717 \nQ 1266 2369 1153 1784 \nL 800 0 \nL 225 0 \nL 909 3500 \nL 1484 3500 \nL 1375 2956 \nQ 1603 3259 1920 3421 \nQ 2238 3584 2597 3584 \nQ 2691 3584 2781 3573 \nQ 2872 3563 2963 3538 \nL 2853 2969 \nz\n\" transform=\"scale(0.015625)\"/>\n       <path id=\"DejaVuSans-Oblique-65\" d=\"M 3078 2063 \nQ 3088 2113 3092 2166 \nQ 3097 2219 3097 2272 \nQ 3097 2653 2873 2875 \nQ 2650 3097 2266 3097 \nQ 1838 3097 1509 2826 \nQ 1181 2556 1013 2059 \nL 3078 2063 \nz\nM 3578 1613 \nL 903 1613 \nQ 884 1494 878 1425 \nQ 872 1356 872 1306 \nQ 872 872 1139 634 \nQ 1406 397 1894 397 \nQ 2269 397 2603 481 \nQ 2938 566 3225 728 \nL 3116 159 \nQ 2806 34 2476 -28 \nQ 2147 -91 1806 -91 \nQ 1078 -91 686 257 \nQ 294 606 294 1247 \nQ 294 1794 489 2264 \nQ 684 2734 1063 3103 \nQ 1306 3334 1642 3459 \nQ 1978 3584 2356 3584 \nQ 2950 3584 3301 3228 \nQ 3653 2872 3653 2272 \nQ 3653 2128 3634 1964 \nQ 3616 1800 3578 1613 \nz\n\" transform=\"scale(0.015625)\"/>\n      </defs>\n      <use xlink:href=\"#DejaVuSans-Oblique-66\" transform=\"translate(0 0.015625)\"/>\n      <use xlink:href=\"#DejaVuSans-Oblique-72\" transform=\"translate(35.205078 -16.390625) scale(0.7)\"/>\n      <use xlink:href=\"#DejaVuSans-Oblique-65\" transform=\"translate(63.984375 -16.390625) scale(0.7)\"/>\n      <use xlink:href=\"#DejaVuSans-Oblique-66\" transform=\"translate(107.050781 -16.390625) scale(0.7)\"/>\n     </g>\n    </g>\n   </g>\n   <g id=\"text_6\">\n    <g clip-path=\"url(#p99a3cbd5ce)\">\n     <!-- Vorteiler -->\n     <g transform=\"translate(154.486836 219.720586) scale(0.125 -0.125)\">\n      <defs>\n       <path id=\"DejaVuSans-56\" d=\"M 1831 0 \nL 50 4666 \nL 709 4666 \nL 2188 738 \nL 3669 4666 \nL 4325 4666 \nL 2547 0 \nL 1831 0 \nz\n\" transform=\"scale(0.015625)\"/>\n       <path id=\"DejaVuSans-6c\" d=\"M 603 4863 \nL 1178 4863 \nL 1178 0 \nL 603 0 \nL 603 4863 \nz\n\" transform=\"scale(0.015625)\"/>\n      </defs>\n      <use xlink:href=\"#DejaVuSans-56\"/>\n      <use xlink:href=\"#DejaVuSans-6f\" x=\"60.658203\"/>\n      <use xlink:href=\"#DejaVuSans-72\" x=\"121.839844\"/>\n      <use xlink:href=\"#DejaVuSans-74\" x=\"162.953125\"/>\n      <use xlink:href=\"#DejaVuSans-65\" x=\"202.162109\"/>\n      <use xlink:href=\"#DejaVuSans-69\" x=\"263.685547\"/>\n      <use xlink:href=\"#DejaVuSans-6c\" x=\"291.46875\"/>\n      <use xlink:href=\"#DejaVuSans-65\" x=\"319.251953\"/>\n      <use xlink:href=\"#DejaVuSans-72\" x=\"380.775391\"/>\n     </g>\n    </g>\n    <g clip-path=\"url(#p99a3cbd5ce)\">\n     <!-- $N_{ref}$ -->\n     <g transform=\"translate(169.9175 233.717852) scale(0.125 -0.125)\">\n      <defs>\n       <path id=\"DejaVuSans-Oblique-4e\" d=\"M 1081 4666 \nL 1931 4666 \nL 3219 666 \nL 4000 4666 \nL 4616 4666 \nL 3706 0 \nL 2853 0 \nL 1569 4025 \nL 788 0 \nL 172 0 \nL 1081 4666 \nz\n\" transform=\"scale(0.015625)\"/>\n      </defs>\n      <use xlink:href=\"#DejaVuSans-Oblique-4e\" transform=\"translate(0 0.09375)\"/>\n      <use xlink:href=\"#DejaVuSans-Oblique-72\" transform=\"translate(74.804688 -16.3125) scale(0.7)\"/>\n      <use xlink:href=\"#DejaVuSans-Oblique-65\" transform=\"translate(103.583984 -16.3125) scale(0.7)\"/>\n      <use xlink:href=\"#DejaVuSans-Oblique-66\" transform=\"translate(146.650391 -16.3125) scale(0.7)\"/>\n     </g>\n    </g>\n   </g>\n   <g id=\"text_7\">\n    <g clip-path=\"url(#p99a3cbd5ce)\">\n     <!-- T -->\n     <g transform=\"translate(277.245 206.001406) scale(0.095 -0.095)\">\n      <use xlink:href=\"#DejaVuSans-54\"/>\n     </g>\n    </g>\n   </g>\n   <g id=\"text_8\">\n    <g clip-path=\"url(#p99a3cbd5ce)\">\n     <!-- $\\overline{Q}$ -->\n     <g transform=\"translate(321.76 229.674297) scale(0.095 -0.095)\">\n      <defs>\n       <path id=\"DejaVuSans-Oblique-51\" d=\"M 2309 -84 \nQ 2275 -88 2237 -89 \nQ 2200 -91 2125 -91 \nQ 1250 -91 756 411 \nQ 263 913 263 1797 \nQ 263 2319 452 2844 \nQ 641 3369 978 3788 \nQ 1369 4269 1858 4509 \nQ 2347 4750 2938 4750 \nQ 3794 4750 4287 4245 \nQ 4781 3741 4781 2869 \nQ 4781 1928 4265 1147 \nQ 3750 366 2919 44 \nL 3553 -825 \nL 2847 -825 \nL 2309 -84 \nz\nM 2919 4238 \nQ 2400 4238 2003 3986 \nQ 1606 3734 1313 3219 \nQ 1125 2891 1026 2522 \nQ 928 2153 928 1778 \nQ 928 1128 1239 775 \nQ 1550 422 2119 422 \nQ 2631 422 3032 676 \nQ 3434 931 3719 1434 \nQ 3909 1772 4009 2142 \nQ 4109 2513 4109 2881 \nQ 4109 3528 3796 3883 \nQ 3484 4238 2919 4238 \nz\n\" transform=\"scale(0.015625)\"/>\n      </defs>\n      <use xlink:href=\"#DejaVuSans-Oblique-51\" transform=\"translate(0 0.53125)\"/>\n      <path d=\"M 0 86.5 \nL 0 92.75 \nL 78.710938 92.75 \nL 78.710938 86.5 \nL 0 86.5 \nz\n\"/>\n     </g>\n    </g>\n   </g>\n   <g id=\"text_9\">\n    <g clip-path=\"url(#p99a3cbd5ce)\">\n     <!-- Q -->\n     <g transform=\"translate(321.786719 206.001406) scale(0.095 -0.095)\">\n      <defs>\n       <path id=\"DejaVuSans-51\" d=\"M 2522 4238 \nQ 1834 4238 1429 3725 \nQ 1025 3213 1025 2328 \nQ 1025 1447 1429 934 \nQ 1834 422 2522 422 \nQ 3209 422 3611 934 \nQ 4013 1447 4013 2328 \nQ 4013 3213 3611 3725 \nQ 3209 4238 2522 4238 \nz\nM 3406 84 \nL 4238 -825 \nL 3475 -825 \nL 2784 -78 \nQ 2681 -84 2626 -87 \nQ 2572 -91 2522 -91 \nQ 1538 -91 948 567 \nQ 359 1225 359 2328 \nQ 359 3434 948 4092 \nQ 1538 4750 2522 4750 \nQ 3503 4750 4090 4092 \nQ 4678 3434 4678 2328 \nQ 4678 1516 4351 937 \nQ 4025 359 3406 84 \nz\n\" transform=\"scale(0.015625)\"/>\n      </defs>\n      <use xlink:href=\"#DejaVuSans-51\"/>\n     </g>\n    </g>\n   </g>\n   <g id=\"text_10\">\n    <g clip-path=\"url(#p99a3cbd5ce)\">\n     <!-- T -->\n     <g transform=\"translate(430.245 206.001406) scale(0.095 -0.095)\">\n      <use xlink:href=\"#DejaVuSans-54\"/>\n     </g>\n    </g>\n   </g>\n   <g id=\"text_11\">\n    <g clip-path=\"url(#p99a3cbd5ce)\">\n     <!-- $\\overline{Q}$ -->\n     <g transform=\"translate(474.76 229.674297) scale(0.095 -0.095)\">\n      <use xlink:href=\"#DejaVuSans-Oblique-51\" transform=\"translate(0 0.53125)\"/>\n      <path d=\"M 0 86.5 \nL 0 92.75 \nL 78.710938 92.75 \nL 78.710938 86.5 \nL 0 86.5 \nz\n\"/>\n     </g>\n    </g>\n   </g>\n   <g id=\"text_12\">\n    <g clip-path=\"url(#p99a3cbd5ce)\">\n     <!-- Q -->\n     <g transform=\"translate(474.786719 206.001406) scale(0.095 -0.095)\">\n      <use xlink:href=\"#DejaVuSans-51\"/>\n     </g>\n    </g>\n   </g>\n   <g id=\"patch_5\">\n    <path d=\"M 395.055 205.675 \nC 395.663641 205.675 396.247436 205.433184 396.67781 205.00281 \nC 397.108184 204.572436 397.35 203.988641 397.35 203.38 \nC 397.35 202.771359 397.108184 202.187564 396.67781 201.75719 \nC 396.247436 201.326816 395.663641 201.085 395.055 201.085 \nC 394.446359 201.085 393.862564 201.326816 393.43219 201.75719 \nC 393.001816 202.187564 392.76 202.771359 392.76 203.38 \nC 392.76 203.988641 393.001816 204.572436 393.43219 205.00281 \nC 393.862564 205.433184 394.446359 205.675 395.055 205.675 \nz\n\" clip-path=\"url(#p99a3cbd5ce)\" style=\"fill: #ffffff; stroke: #000000; stroke-width: 2; stroke-linejoin: miter\"/>\n   </g>\n   <g id=\"text_13\">\n    <g clip-path=\"url(#p99a3cbd5ce)\">\n     <!-- 1 -->\n     <g transform=\"translate(397.580938 195.425391) scale(0.125 -0.125)\">\n      <defs>\n       <path id=\"DejaVuSans-31\" d=\"M 794 531 \nL 1825 531 \nL 1825 4091 \nL 703 3866 \nL 703 4441 \nL 1819 4666 \nL 2450 4666 \nL 2450 531 \nL 3481 531 \nL 3481 0 \nL 794 0 \nL 794 531 \nz\n\" transform=\"scale(0.015625)\"/>\n      </defs>\n      <use xlink:href=\"#DejaVuSans-31\"/>\n     </g>\n    </g>\n   </g>\n   <g id=\"patch_6\">\n    <path d=\"M 12.555 351.025 \nC 13.163641 351.025 13.747436 350.783184 14.17781 350.35281 \nC 14.608184 349.922436 14.85 349.338641 14.85 348.73 \nC 14.85 348.121359 14.608184 347.537564 14.17781 347.10719 \nC 13.747436 346.676816 13.163641 346.435 12.555 346.435 \nC 11.946359 346.435 11.362564 346.676816 10.93219 347.10719 \nC 10.501816 347.537564 10.26 348.121359 10.26 348.73 \nC 10.26 349.338641 10.501816 349.922436 10.93219 350.35281 \nC 11.362564 350.783184 11.946359 351.025 12.555 351.025 \nz\n\" clip-path=\"url(#p99a3cbd5ce)\" style=\"fill: #ffffff; stroke: #000000; stroke-width: 2; stroke-linejoin: miter\"/>\n   </g>\n   <g id=\"text_14\">\n    <g clip-path=\"url(#p99a3cbd5ce)\">\n     <!-- Reset -->\n     <g transform=\"translate(24.548516 340.775391) scale(0.125 -0.125)\">\n      <defs>\n       <path id=\"DejaVuSans-52\" d=\"M 2841 2188 \nQ 3044 2119 3236 1894 \nQ 3428 1669 3622 1275 \nL 4263 0 \nL 3584 0 \nL 2988 1197 \nQ 2756 1666 2539 1819 \nQ 2322 1972 1947 1972 \nL 1259 1972 \nL 1259 0 \nL 628 0 \nL 628 4666 \nL 2053 4666 \nQ 2853 4666 3247 4331 \nQ 3641 3997 3641 3322 \nQ 3641 2881 3436 2590 \nQ 3231 2300 2841 2188 \nz\nM 1259 4147 \nL 1259 2491 \nL 2053 2491 \nQ 2509 2491 2742 2702 \nQ 2975 2913 2975 3322 \nQ 2975 3731 2742 3939 \nQ 2509 4147 2053 4147 \nL 1259 4147 \nz\n\" transform=\"scale(0.015625)\"/>\n       <path id=\"DejaVuSans-73\" d=\"M 2834 3397 \nL 2834 2853 \nQ 2591 2978 2328 3040 \nQ 2066 3103 1784 3103 \nQ 1356 3103 1142 2972 \nQ 928 2841 928 2578 \nQ 928 2378 1081 2264 \nQ 1234 2150 1697 2047 \nL 1894 2003 \nQ 2506 1872 2764 1633 \nQ 3022 1394 3022 966 \nQ 3022 478 2636 193 \nQ 2250 -91 1575 -91 \nQ 1294 -91 989 -36 \nQ 684 19 347 128 \nL 347 722 \nQ 666 556 975 473 \nQ 1284 391 1588 391 \nQ 1994 391 2212 530 \nQ 2431 669 2431 922 \nQ 2431 1156 2273 1281 \nQ 2116 1406 1581 1522 \nL 1381 1569 \nQ 847 1681 609 1914 \nQ 372 2147 372 2553 \nQ 372 3047 722 3315 \nQ 1072 3584 1716 3584 \nQ 2034 3584 2315 3537 \nQ 2597 3491 2834 3397 \nz\n\" transform=\"scale(0.015625)\"/>\n      </defs>\n      <use xlink:href=\"#DejaVuSans-52\"/>\n      <use xlink:href=\"#DejaVuSans-65\" x=\"64.982422\"/>\n      <use xlink:href=\"#DejaVuSans-73\" x=\"126.505859\"/>\n      <use xlink:href=\"#DejaVuSans-65\" x=\"178.605469\"/>\n      <use xlink:href=\"#DejaVuSans-74\" x=\"240.128906\"/>\n     </g>\n    </g>\n   </g>\n   <g id=\"text_15\">\n    <g clip-path=\"url(#p99a3cbd5ce)\">\n     <!-- n -->\n     <g transform=\"translate(555.705 145.629219) scale(0.125 -0.125)\">\n      <use xlink:href=\"#DejaVuSans-6e\"/>\n     </g>\n    </g>\n   </g>\n  </g>\n </g>\n <defs>\n  <clipPath id=\"p99a3cbd5ce\">\n   <rect x=\"7.2\" y=\"7.2\" width=\"614.295\" height=\"346.885\"/>\n  </clipPath>\n </defs>\n</svg>\n",
      "text/plain": [
       "<schemdraw.backends.mpl.Figure object at 0x00000277D9753790>"
      ]
     },
     "metadata": {},
     "output_type": "display_data"
    }
   ],
   "source": [
    "with schemdraw.Drawing() as d:\n",
    "    d += elm.Line().idot(open=True).label('$f_x$')\n",
    "    d += elm.Ic(pins=[\n",
    "        elm.IcPin(side='left', anchorname='inp'),\n",
    "        elm.IcPin(side='right', anchorname='oup')\n",
    "    ]).anchor('inp').drop('oup').label('Schmitt-Trigger', 'B')\n",
    "\n",
    "    d += elm.Line().length(6)\n",
    "    d += (ACmp := lgc.And().anchor('in1').label('AND-Gate').drop('out'))\n",
    "\n",
    "    d += (counter := elm.Ic(pins=[\n",
    "        elm.IcPin(side = 'left', anchorname='in1'),\n",
    "        elm.IcPin(side = 'bottom', anchorname='out1'),\n",
    "        elm.IcPin(side = 'bottom', anchorname='out2')\n",
    "    ], edgepadW=2).anchor('in1').label('n-Bit Counter', 'center').drop('out1'))\n",
    "\n",
    "    d.here = (0, -6)\n",
    "    d += elm.Line().idot(open=True).label('$f_{ref}$')\n",
    "    d += elm.Ic(pins=[\n",
    "        elm.IcPin(side='left', anchorname='in1'),\n",
    "        elm.IcPin(side='right', anchorname='out')\n",
    "    ], edgepadW=2).label('Vorteiler\\n$N_{ref}$').anchor('in1').drop('out')\n",
    "\n",
    "    def t_ff():\n",
    "        return elm.Ic(pins=[\n",
    "            elm.IcPin('>', side='left'),\n",
    "            elm.IcPin('T', side='left'),\n",
    "            elm.IcPin('$\\overline{Q}$', side='right', anchorname='nQ'),\n",
    "            elm.IcPin('Q', side='right'),\n",
    "            elm.IcPin(side='B', anchorname='res'),\n",
    "        ])\n",
    "    d += (ff1 := t_ff().anchor('>').drop('nQ'))\n",
    "    d += elm.Line().right().length(2)\n",
    "    d += (ff2 := t_ff().anchor('>').drop('nQ'))\n",
    "\n",
    "    d += elm.Line().down().length(2)\n",
    "    d += elm.Wire('-|').to(ff1.T)\n",
    "\n",
    "    d += elm.Line().left().at(ff2.T).length(.5).dot(open=True).label('1')\n",
    "\n",
    "    d += elm.Wire('|-').at(ff1.Q).to(ACmp.in2)\n",
    "\n",
    "    d.here = (0, -10)\n",
    "    d += elm.Line().idot(open=True).label('Reset').length(2)\n",
    "    d.push()\n",
    "\n",
    "    d += elm.Wire('-|').to(ff1.res)\n",
    "    d.pop(); d.push()\n",
    "    d += elm.Wire('-|').to(ff2.res)\n",
    "    d.pop(); d.push()\n",
    "    d += elm.Wire('-|').to(counter.out1)\n",
    "\n",
    "    d += elm.Line(arrow='|->').at(counter.out2).down().label('n', 'bottom')"
   ]
  },
  {
   "cell_type": "markdown",
   "metadata": {
    "jp-MarkdownHeadingCollapsed": true,
    "tags": []
   },
   "source": [
    "### Spannungsdiagramme"
   ]
  },
  {
   "cell_type": "markdown",
   "metadata": {},
   "source": [
    "![](mtrs_media/Uf_diags.png)"
   ]
  },
  {
   "cell_type": "markdown",
   "metadata": {},
   "source": [
    "### Berechnung der relevanten Größe"
   ]
  },
  {
   "cell_type": "markdown",
   "metadata": {},
   "source": [
    "$N = f_x \\cdot T_{ref}$\n",
    "\n",
    "$f_x = \\frac{T_{ref}}{N}$"
   ]
  },
  {
   "cell_type": "markdown",
   "metadata": {
    "jp-MarkdownHeadingCollapsed": true,
    "tags": []
   },
   "source": [
    "## Digitale Periodendauermessung"
   ]
  },
  {
   "cell_type": "markdown",
   "metadata": {
    "jp-MarkdownHeadingCollapsed": true,
    "tags": []
   },
   "source": [
    "### Schaltung"
   ]
  },
  {
   "cell_type": "code",
   "execution_count": 11,
   "metadata": {
    "ExecuteTime": {
     "end_time": "2023-04-18T08:10:01.491914Z",
     "start_time": "2023-04-18T08:03:22.057586Z"
    },
    "collapsed": false,
    "jupyter": {
     "outputs_hidden": false
    },
    "tags": [
     "hide-input"
    ]
   },
   "outputs": [
    {
     "data": {
      "image/png": "[encoded data removed]",
      "image/svg+xml": "<?xml version=\"1.0\" encoding=\"utf-8\" standalone=\"no\"?>\n<!DOCTYPE svg PUBLIC \"-//W3C//DTD SVG 1.1//EN\"\n  \"http://www.w3.org/Graphics/SVG/1.1/DTD/svg11.dtd\">\n<svg xmlns:xlink=\"http://www.w3.org/1999/xlink\" width=\"682.245pt\" height=\"361.285pt\" viewBox=\"0 0 682.245 361.285\" xmlns=\"http://www.w3.org/2000/svg\" version=\"1.1\">\n <metadata>\n  <rdf:RDF xmlns:dc=\"http://purl.org/dc/elements/1.1/\" xmlns:cc=\"http://creativecommons.org/ns#\" xmlns:rdf=\"http://www.w3.org/1999/02/22-rdf-syntax-ns#\">\n   <cc:Work>\n    <dc:type rdf:resource=\"http://purl.org/dc/dcmitype/StillImage\"/>\n    <dc:date>2023-04-18T10:54:17.208668</dc:date>\n    <dc:format>image/svg+xml</dc:format>\n    <dc:creator>\n     <cc:Agent>\n      <dc:title>Matplotlib v3.7.1, https://matplotlib.org/</dc:title>\n     </cc:Agent>\n    </dc:creator>\n   </cc:Work>\n  </rdf:RDF>\n </metadata>\n <defs>\n  <style type=\"text/css\">*{stroke-linejoin: round; stroke-linecap: butt}</style>\n </defs>\n <g id=\"figure_1\">\n  <g id=\"patch_1\">\n   <path d=\"M 0 361.285 \nL 682.245 361.285 \nL 682.245 -0 \nL 0 -0 \nz\n\" style=\"fill: #ffffff\"/>\n  </g>\n  <g id=\"axes_1\">\n   <g id=\"line2d_1\">\n    <path d=\"M 12.555 42.73 \nL 58.455 42.73 \nL 104.355 42.73 \n\" clip-path=\"url(#p59744a5446)\" style=\"fill: none; stroke: #000000; stroke-width: 2; stroke-linecap: round\"/>\n   </g>\n   <g id=\"line2d_2\">\n    <path d=\"M 119.655 73.33 \nL 242.055 73.33 \nL 242.055 12.13 \nL 119.655 12.13 \nL 119.655 73.33 \n\" clip-path=\"url(#p59744a5446)\" style=\"fill: none; stroke: #000000; stroke-width: 2; stroke-linecap: round\"/>\n   </g>\n   <g id=\"line2d_3\">\n    <path d=\"M 119.655 42.73 \nL 104.355 42.73 \n\" clip-path=\"url(#p59744a5446)\" style=\"fill: none; stroke: #000000; stroke-width: 2; stroke-linecap: round\"/>\n   </g>\n   <g id=\"line2d_4\">\n    <path d=\"M 242.055 42.73 \nL 257.355 42.73 \n\" clip-path=\"url(#p59744a5446)\" style=\"fill: none; stroke: #000000; stroke-width: 2; stroke-linecap: round\"/>\n   </g>\n   <g id=\"line2d_5\">\n    <path d=\"M 257.355 42.73 \nL 349.155 42.73 \nL 440.955 42.73 \n\" clip-path=\"url(#p59744a5446)\" style=\"fill: none; stroke: #000000; stroke-width: 2; stroke-linecap: round\"/>\n   </g>\n   <g id=\"line2d_6\">\n    <path d=\"M 471.555 65.68 \nL 472.535274 65.648565 \nL 473.511521 65.554387 \nL 474.479727 65.397855 \nL 475.435915 65.179611 \nL 476.376156 64.900553 \nL 477.296585 64.561826 \nL 478.193421 64.164824 \nL 479.062979 63.711176 \nL 479.901684 63.202748 \nL 480.706091 62.641628 \nL 481.472894 62.030123 \nL 482.198943 61.370745 \nL 482.881253 60.666204 \nL 483.517022 59.919394 \nL 484.103635 59.133385 \nL 484.638684 58.311406 \nL 485.119969 57.456836 \nL 485.545513 56.573185 \nL 485.913567 55.664085 \nL 486.222618 54.733272 \nL 486.471397 53.78457 \nL 486.658881 52.821878 \nL 486.7843 51.849152 \nL 486.847139 50.870389 \nL 486.847139 49.889611 \nL 486.7843 48.910848 \nL 486.658881 47.938122 \nL 486.471397 46.97543 \nL 486.222618 46.026728 \nL 485.913567 45.095915 \nL 485.545513 44.186815 \nL 485.119969 43.303164 \nL 484.638684 42.448594 \nL 484.103635 41.626615 \nL 483.517022 40.840606 \nL 482.881253 40.093796 \nL 482.198943 39.389255 \nL 481.472894 38.729877 \nL 480.706091 38.118372 \nL 479.901684 37.557252 \nL 479.062979 37.048824 \nL 478.193421 36.595176 \nL 477.296585 36.198174 \nL 476.376156 35.859447 \nL 475.435915 35.580389 \nL 474.479727 35.362145 \nL 473.511521 35.205613 \nL 472.535274 35.111435 \nL 471.555 35.08 \nL 471.555 35.08 \nL 451.665 35.08 \nL 451.665 50.38 \nL 451.665 65.68 \nL 471.555 65.68 \n\" clip-path=\"url(#p59744a5446)\" style=\"fill: none; stroke: #000000; stroke-width: 2; stroke-linecap: round\"/>\n   </g>\n   <g id=\"line2d_7\">\n    <path d=\"M 440.955 58.03 \nL 451.665 58.03 \n\" clip-path=\"url(#p59744a5446)\" style=\"fill: none; stroke: #000000; stroke-width: 2; stroke-linecap: round\"/>\n   </g>\n   <g id=\"line2d_8\">\n    <path d=\"M 440.955 42.73 \nL 451.665 42.73 \n\" clip-path=\"url(#p59744a5446)\" style=\"fill: none; stroke: #000000; stroke-width: 2; stroke-linecap: round\"/>\n   </g>\n   <g id=\"line2d_9\">\n    <path d=\"M 486.855 50.38 \nL 497.565 50.38 \n\" clip-path=\"url(#p59744a5446)\" style=\"fill: none; stroke: #000000; stroke-width: 2; stroke-linecap: round\"/>\n   </g>\n   <g id=\"line2d_10\">\n    <path d=\"M 512.865 80.98 \nL 671.985 80.98 \nL 671.985 19.78 \nL 512.865 19.78 \nL 512.865 80.98 \n\" clip-path=\"url(#p59744a5446)\" style=\"fill: none; stroke: #000000; stroke-width: 2; stroke-linecap: round\"/>\n   </g>\n   <g id=\"line2d_11\">\n    <path d=\"M 512.865 50.38 \nL 497.565 50.38 \n\" clip-path=\"url(#p59744a5446)\" style=\"fill: none; stroke: #000000; stroke-width: 2; stroke-linecap: round\"/>\n   </g>\n   <g id=\"line2d_12\">\n    <path d=\"M 583.245 80.98 \nL 583.245 96.28 \n\" clip-path=\"url(#p59744a5446)\" style=\"fill: none; stroke: #000000; stroke-width: 2; stroke-linecap: round\"/>\n   </g>\n   <g id=\"line2d_13\">\n    <path d=\"M 601.605 80.98 \nL 601.605 96.28 \n\" clip-path=\"url(#p59744a5446)\" style=\"fill: none; stroke: #000000; stroke-width: 2; stroke-linecap: round\"/>\n   </g>\n   <g id=\"line2d_14\">\n    <path d=\"M 12.555 226.33 \nL 58.455 226.33 \nL 104.355 226.33 \n\" clip-path=\"url(#p59744a5446)\" style=\"fill: none; stroke: #000000; stroke-width: 2; stroke-linecap: round\"/>\n   </g>\n   <g id=\"line2d_15\">\n    <path d=\"M 119.655 256.93 \nL 188.505 256.93 \nL 188.505 195.73 \nL 119.655 195.73 \nL 119.655 256.93 \n\" clip-path=\"url(#p59744a5446)\" style=\"fill: none; stroke: #000000; stroke-width: 2; stroke-linecap: round\"/>\n   </g>\n   <g id=\"line2d_16\">\n    <path d=\"M 119.655 226.33 \nL 104.355 226.33 \n\" clip-path=\"url(#p59744a5446)\" style=\"fill: none; stroke: #000000; stroke-width: 2; stroke-linecap: round\"/>\n   </g>\n   <g id=\"line2d_17\">\n    <path d=\"M 188.505 226.33 \nL 203.805 226.33 \n\" clip-path=\"url(#p59744a5446)\" style=\"fill: none; stroke: #000000; stroke-width: 2; stroke-linecap: round\"/>\n   </g>\n   <g id=\"line2d_18\">\n    <path d=\"M 219.105 245.455 \nL 280.305 245.455 \nL 280.305 184.255 \nL 219.105 184.255 \nL 219.105 245.455 \n\" clip-path=\"url(#p59744a5446)\" style=\"fill: none; stroke: #000000; stroke-width: 2; stroke-linecap: round\"/>\n   </g>\n   <g id=\"line2d_19\">\n    <path d=\"M 219.105 220.975 \nL 229.815 226.33 \nL 219.105 231.685 \n\" clip-path=\"url(#p59744a5446)\" style=\"fill: none; stroke: #000000; stroke-width: 2; stroke-linecap: round\"/>\n   </g>\n   <g id=\"line2d_20\">\n    <path d=\"M 219.105 226.33 \nL 203.805 226.33 \n\" clip-path=\"url(#p59744a5446)\" style=\"fill: none; stroke: #000000; stroke-width: 2; stroke-linecap: round\"/>\n   </g>\n   <g id=\"line2d_21\">\n    <path d=\"M 219.105 203.38 \nL 203.805 203.38 \n\" clip-path=\"url(#p59744a5446)\" style=\"fill: none; stroke: #000000; stroke-width: 2; stroke-linecap: round\"/>\n   </g>\n   <g id=\"line2d_22\">\n    <path d=\"M 280.305 226.33 \nL 295.605 226.33 \n\" clip-path=\"url(#p59744a5446)\" style=\"fill: none; stroke: #000000; stroke-width: 2; stroke-linecap: round\"/>\n   </g>\n   <g id=\"line2d_23\">\n    <path d=\"M 280.305 203.38 \nL 295.605 203.38 \n\" clip-path=\"url(#p59744a5446)\" style=\"fill: none; stroke: #000000; stroke-width: 2; stroke-linecap: round\"/>\n   </g>\n   <g id=\"line2d_24\">\n    <path d=\"M 249.705 245.455 \nL 249.705 260.755 \n\" clip-path=\"url(#p59744a5446)\" style=\"fill: none; stroke: #000000; stroke-width: 2; stroke-linecap: round\"/>\n   </g>\n   <g id=\"line2d_25\">\n    <path d=\"M 295.605 226.33 \nL 326.205 226.33 \nL 356.805 226.33 \n\" clip-path=\"url(#p59744a5446)\" style=\"fill: none; stroke: #000000; stroke-width: 2; stroke-linecap: round\"/>\n   </g>\n   <g id=\"line2d_26\">\n    <path d=\"M 372.105 245.455 \nL 433.305 245.455 \nL 433.305 184.255 \nL 372.105 184.255 \nL 372.105 245.455 \n\" clip-path=\"url(#p59744a5446)\" style=\"fill: none; stroke: #000000; stroke-width: 2; stroke-linecap: round\"/>\n   </g>\n   <g id=\"line2d_27\">\n    <path d=\"M 372.105 220.975 \nL 382.815 226.33 \nL 372.105 231.685 \n\" clip-path=\"url(#p59744a5446)\" style=\"fill: none; stroke: #000000; stroke-width: 2; stroke-linecap: round\"/>\n   </g>\n   <g id=\"line2d_28\">\n    <path d=\"M 372.105 226.33 \nL 356.805 226.33 \n\" clip-path=\"url(#p59744a5446)\" style=\"fill: none; stroke: #000000; stroke-width: 2; stroke-linecap: round\"/>\n   </g>\n   <g id=\"line2d_29\">\n    <path d=\"M 372.105 203.38 \nL 356.805 203.38 \n\" clip-path=\"url(#p59744a5446)\" style=\"fill: none; stroke: #000000; stroke-width: 2; stroke-linecap: round\"/>\n   </g>\n   <g id=\"line2d_30\">\n    <path d=\"M 433.305 226.33 \nL 448.605 226.33 \n\" clip-path=\"url(#p59744a5446)\" style=\"fill: none; stroke: #000000; stroke-width: 2; stroke-linecap: round\"/>\n   </g>\n   <g id=\"line2d_31\">\n    <path d=\"M 433.305 203.38 \nL 448.605 203.38 \n\" clip-path=\"url(#p59744a5446)\" style=\"fill: none; stroke: #000000; stroke-width: 2; stroke-linecap: round\"/>\n   </g>\n   <g id=\"line2d_32\">\n    <path d=\"M 402.705 245.455 \nL 402.705 260.755 \n\" clip-path=\"url(#p59744a5446)\" style=\"fill: none; stroke: #000000; stroke-width: 2; stroke-linecap: round\"/>\n   </g>\n   <g id=\"line2d_33\">\n    <path d=\"M 448.605 226.33 \nL 448.605 256.93 \nL 448.605 287.53 \n\" clip-path=\"url(#p59744a5446)\" style=\"fill: none; stroke: #000000; stroke-width: 2; stroke-linecap: round\"/>\n   </g>\n   <g id=\"line2d_34\">\n    <path d=\"M 448.605 287.53 \nL 203.805 287.53 \nL 203.805 203.38 \n\" clip-path=\"url(#p59744a5446)\" style=\"fill: none; stroke: #000000; stroke-width: 2; stroke-linecap: round\"/>\n   </g>\n   <g id=\"line2d_35\">\n    <path d=\"M 356.805 203.38 \nL 349.155 203.38 \nL 341.505 203.38 \n\" clip-path=\"url(#p59744a5446)\" style=\"fill: none; stroke: #000000; stroke-width: 2; stroke-linecap: round\"/>\n   </g>\n   <g id=\"line2d_36\">\n    <path d=\"M 295.605 203.38 \nL 295.605 58.03 \nL 440.955 58.03 \n\" clip-path=\"url(#p59744a5446)\" style=\"fill: none; stroke: #000000; stroke-width: 2; stroke-linecap: round\"/>\n   </g>\n   <g id=\"line2d_37\">\n    <path d=\"M 12.555 348.73 \nL 43.155 348.73 \nL 73.755 348.73 \n\" clip-path=\"url(#p59744a5446)\" style=\"fill: none; stroke: #000000; stroke-width: 2; stroke-linecap: round\"/>\n   </g>\n   <g id=\"line2d_38\">\n    <path d=\"M 73.755 348.73 \nL 249.705 348.73 \nL 249.705 260.755 \n\" clip-path=\"url(#p59744a5446)\" style=\"fill: none; stroke: #000000; stroke-width: 2; stroke-linecap: round\"/>\n   </g>\n   <g id=\"line2d_39\">\n    <path d=\"M 73.755 348.73 \nL 402.705 348.73 \nL 402.705 260.755 \n\" clip-path=\"url(#p59744a5446)\" style=\"fill: none; stroke: #000000; stroke-width: 2; stroke-linecap: round\"/>\n   </g>\n   <g id=\"line2d_40\">\n    <path d=\"M 73.755 348.73 \nL 583.245 348.73 \nL 583.245 96.28 \n\" clip-path=\"url(#p59744a5446)\" style=\"fill: none; stroke: #000000; stroke-width: 2; stroke-linecap: round\"/>\n   </g>\n   <g id=\"line2d_41\">\n    <path d=\"M 601.605 96.28 \nL 601.605 142.18 \nL 601.605 180.43 \n\" clip-path=\"url(#p59744a5446)\" style=\"fill: none; stroke: #000000; stroke-width: 2; stroke-linecap: round\"/>\n   </g>\n   <g id=\"line2d_42\">\n    <path d=\"M 599.31 96.28 \nL 603.9 96.28 \n\" clip-path=\"url(#p59744a5446)\" style=\"fill: none; stroke: #000000; stroke-width: 2; stroke-linecap: round\"/>\n   </g>\n   <g id=\"patch_2\">\n    <path d=\"M 603.9 180.43 \nL 601.605 188.08 \nL 599.31 180.43 \nz\n\" clip-path=\"url(#p59744a5446)\"/>\n   </g>\n   <g id=\"patch_3\">\n    <path d=\"M 12.555 45.025 \nC 13.163641 45.025 13.747436 44.783184 14.17781 44.35281 \nC 14.608184 43.922436 14.85 43.338641 14.85 42.73 \nC 14.85 42.121359 14.608184 41.537564 14.17781 41.10719 \nC 13.747436 40.676816 13.163641 40.435 12.555 40.435 \nC 11.946359 40.435 11.362564 40.676816 10.93219 41.10719 \nC 10.501816 41.537564 10.26 42.121359 10.26 42.73 \nC 10.26 43.338641 10.501816 43.922436 10.93219 44.35281 \nC 11.362564 44.783184 11.946359 45.025 12.555 45.025 \nz\n\" clip-path=\"url(#p59744a5446)\" style=\"fill: #ffffff; stroke: #000000; stroke-width: 2; stroke-linejoin: miter\"/>\n   </g>\n   <g id=\"text_1\">\n    <g clip-path=\"url(#p59744a5446)\">\n     <!-- $f_{ref}$ -->\n     <g transform=\"translate(48.87 34.775391) scale(0.125 -0.125)\">\n      <defs>\n       <path id=\"DejaVuSans-Oblique-66\" d=\"M 3059 4863 \nL 2969 4384 \nL 2419 4384 \nQ 2106 4384 1964 4261 \nQ 1822 4138 1753 3809 \nL 1691 3500 \nL 2638 3500 \nL 2553 3053 \nL 1606 3053 \nL 1013 0 \nL 434 0 \nL 1031 3053 \nL 481 3053 \nL 563 3500 \nL 1113 3500 \nL 1159 3744 \nQ 1278 4363 1576 4613 \nQ 1875 4863 2516 4863 \nL 3059 4863 \nz\n\" transform=\"scale(0.015625)\"/>\n       <path id=\"DejaVuSans-Oblique-72\" d=\"M 2853 2969 \nQ 2766 3016 2653 3041 \nQ 2541 3066 2413 3066 \nQ 1953 3066 1609 2717 \nQ 1266 2369 1153 1784 \nL 800 0 \nL 225 0 \nL 909 3500 \nL 1484 3500 \nL 1375 2956 \nQ 1603 3259 1920 3421 \nQ 2238 3584 2597 3584 \nQ 2691 3584 2781 3573 \nQ 2872 3563 2963 3538 \nL 2853 2969 \nz\n\" transform=\"scale(0.015625)\"/>\n       <path id=\"DejaVuSans-Oblique-65\" d=\"M 3078 2063 \nQ 3088 2113 3092 2166 \nQ 3097 2219 3097 2272 \nQ 3097 2653 2873 2875 \nQ 2650 3097 2266 3097 \nQ 1838 3097 1509 2826 \nQ 1181 2556 1013 2059 \nL 3078 2063 \nz\nM 3578 1613 \nL 903 1613 \nQ 884 1494 878 1425 \nQ 872 1356 872 1306 \nQ 872 872 1139 634 \nQ 1406 397 1894 397 \nQ 2269 397 2603 481 \nQ 2938 566 3225 728 \nL 3116 159 \nQ 2806 34 2476 -28 \nQ 2147 -91 1806 -91 \nQ 1078 -91 686 257 \nQ 294 606 294 1247 \nQ 294 1794 489 2264 \nQ 684 2734 1063 3103 \nQ 1306 3334 1642 3459 \nQ 1978 3584 2356 3584 \nQ 2950 3584 3301 3228 \nQ 3653 2872 3653 2272 \nQ 3653 2128 3634 1964 \nQ 3616 1800 3578 1613 \nz\n\" transform=\"scale(0.015625)\"/>\n      </defs>\n      <use xlink:href=\"#DejaVuSans-Oblique-66\" transform=\"translate(0 0.015625)\"/>\n      <use xlink:href=\"#DejaVuSans-Oblique-72\" transform=\"translate(35.205078 -16.390625) scale(0.7)\"/>\n      <use xlink:href=\"#DejaVuSans-Oblique-65\" transform=\"translate(63.984375 -16.390625) scale(0.7)\"/>\n      <use xlink:href=\"#DejaVuSans-Oblique-66\" transform=\"translate(107.050781 -16.390625) scale(0.7)\"/>\n     </g>\n    </g>\n   </g>\n   <g id=\"text_2\">\n    <g clip-path=\"url(#p59744a5446)\">\n     <!-- Vorteiler -->\n     <g transform=\"translate(154.486836 36.120586) scale(0.125 -0.125)\">\n      <defs>\n       <path id=\"DejaVuSans-56\" d=\"M 1831 0 \nL 50 4666 \nL 709 4666 \nL 2188 738 \nL 3669 4666 \nL 4325 4666 \nL 2547 0 \nL 1831 0 \nz\n\" transform=\"scale(0.015625)\"/>\n       <path id=\"DejaVuSans-6f\" d=\"M 1959 3097 \nQ 1497 3097 1228 2736 \nQ 959 2375 959 1747 \nQ 959 1119 1226 758 \nQ 1494 397 1959 397 \nQ 2419 397 2687 759 \nQ 2956 1122 2956 1747 \nQ 2956 2369 2687 2733 \nQ 2419 3097 1959 3097 \nz\nM 1959 3584 \nQ 2709 3584 3137 3096 \nQ 3566 2609 3566 1747 \nQ 3566 888 3137 398 \nQ 2709 -91 1959 -91 \nQ 1206 -91 779 398 \nQ 353 888 353 1747 \nQ 353 2609 779 3096 \nQ 1206 3584 1959 3584 \nz\n\" transform=\"scale(0.015625)\"/>\n       <path id=\"DejaVuSans-72\" d=\"M 2631 2963 \nQ 2534 3019 2420 3045 \nQ 2306 3072 2169 3072 \nQ 1681 3072 1420 2755 \nQ 1159 2438 1159 1844 \nL 1159 0 \nL 581 0 \nL 581 3500 \nL 1159 3500 \nL 1159 2956 \nQ 1341 3275 1631 3429 \nQ 1922 3584 2338 3584 \nQ 2397 3584 2469 3576 \nQ 2541 3569 2628 3553 \nL 2631 2963 \nz\n\" transform=\"scale(0.015625)\"/>\n       <path id=\"DejaVuSans-74\" d=\"M 1172 4494 \nL 1172 3500 \nL 2356 3500 \nL 2356 3053 \nL 1172 3053 \nL 1172 1153 \nQ 1172 725 1289 603 \nQ 1406 481 1766 481 \nL 2356 481 \nL 2356 0 \nL 1766 0 \nQ 1100 0 847 248 \nQ 594 497 594 1153 \nL 594 3053 \nL 172 3053 \nL 172 3500 \nL 594 3500 \nL 594 4494 \nL 1172 4494 \nz\n\" transform=\"scale(0.015625)\"/>\n       <path id=\"DejaVuSans-65\" d=\"M 3597 1894 \nL 3597 1613 \nL 953 1613 \nQ 991 1019 1311 708 \nQ 1631 397 2203 397 \nQ 2534 397 2845 478 \nQ 3156 559 3463 722 \nL 3463 178 \nQ 3153 47 2828 -22 \nQ 2503 -91 2169 -91 \nQ 1331 -91 842 396 \nQ 353 884 353 1716 \nQ 353 2575 817 3079 \nQ 1281 3584 2069 3584 \nQ 2775 3584 3186 3129 \nQ 3597 2675 3597 1894 \nz\nM 3022 2063 \nQ 3016 2534 2758 2815 \nQ 2500 3097 2075 3097 \nQ 1594 3097 1305 2825 \nQ 1016 2553 972 2059 \nL 3022 2063 \nz\n\" transform=\"scale(0.015625)\"/>\n       <path id=\"DejaVuSans-69\" d=\"M 603 3500 \nL 1178 3500 \nL 1178 0 \nL 603 0 \nL 603 3500 \nz\nM 603 4863 \nL 1178 4863 \nL 1178 4134 \nL 603 4134 \nL 603 4863 \nz\n\" transform=\"scale(0.015625)\"/>\n       <path id=\"DejaVuSans-6c\" d=\"M 603 4863 \nL 1178 4863 \nL 1178 0 \nL 603 0 \nL 603 4863 \nz\n\" transform=\"scale(0.015625)\"/>\n      </defs>\n      <use xlink:href=\"#DejaVuSans-56\"/>\n      <use xlink:href=\"#DejaVuSans-6f\" x=\"60.658203\"/>\n      <use xlink:href=\"#DejaVuSans-72\" x=\"121.839844\"/>\n      <use xlink:href=\"#DejaVuSans-74\" x=\"162.953125\"/>\n      <use xlink:href=\"#DejaVuSans-65\" x=\"202.162109\"/>\n      <use xlink:href=\"#DejaVuSans-69\" x=\"263.685547\"/>\n      <use xlink:href=\"#DejaVuSans-6c\" x=\"291.46875\"/>\n      <use xlink:href=\"#DejaVuSans-65\" x=\"319.251953\"/>\n      <use xlink:href=\"#DejaVuSans-72\" x=\"380.775391\"/>\n     </g>\n    </g>\n    <g clip-path=\"url(#p59744a5446)\">\n     <!-- $N_{ref}$ -->\n     <g transform=\"translate(169.9175 50.117852) scale(0.125 -0.125)\">\n      <defs>\n       <path id=\"DejaVuSans-Oblique-4e\" d=\"M 1081 4666 \nL 1931 4666 \nL 3219 666 \nL 4000 4666 \nL 4616 4666 \nL 3706 0 \nL 2853 0 \nL 1569 4025 \nL 788 0 \nL 172 0 \nL 1081 4666 \nz\n\" transform=\"scale(0.015625)\"/>\n      </defs>\n      <use xlink:href=\"#DejaVuSans-Oblique-4e\" transform=\"translate(0 0.09375)\"/>\n      <use xlink:href=\"#DejaVuSans-Oblique-72\" transform=\"translate(74.804688 -16.3125) scale(0.7)\"/>\n      <use xlink:href=\"#DejaVuSans-Oblique-65\" transform=\"translate(103.583984 -16.3125) scale(0.7)\"/>\n      <use xlink:href=\"#DejaVuSans-Oblique-66\" transform=\"translate(146.650391 -16.3125) scale(0.7)\"/>\n     </g>\n    </g>\n   </g>\n   <g id=\"text_3\">\n    <g clip-path=\"url(#p59744a5446)\">\n     <!-- AND-Gate -->\n     <g transform=\"translate(438.046133 29.420391) scale(0.125 -0.125)\">\n      <defs>\n       <path id=\"DejaVuSans-41\" d=\"M 2188 4044 \nL 1331 1722 \nL 3047 1722 \nL 2188 4044 \nz\nM 1831 4666 \nL 2547 4666 \nL 4325 0 \nL 3669 0 \nL 3244 1197 \nL 1141 1197 \nL 716 0 \nL 50 0 \nL 1831 4666 \nz\n\" transform=\"scale(0.015625)\"/>\n       <path id=\"DejaVuSans-4e\" d=\"M 628 4666 \nL 1478 4666 \nL 3547 763 \nL 3547 4666 \nL 4159 4666 \nL 4159 0 \nL 3309 0 \nL 1241 3903 \nL 1241 0 \nL 628 0 \nL 628 4666 \nz\n\" transform=\"scale(0.015625)\"/>\n       <path id=\"DejaVuSans-44\" d=\"M 1259 4147 \nL 1259 519 \nL 2022 519 \nQ 2988 519 3436 956 \nQ 3884 1394 3884 2338 \nQ 3884 3275 3436 3711 \nQ 2988 4147 2022 4147 \nL 1259 4147 \nz\nM 628 4666 \nL 1925 4666 \nQ 3281 4666 3915 4102 \nQ 4550 3538 4550 2338 \nQ 4550 1131 3912 565 \nQ 3275 0 1925 0 \nL 628 0 \nL 628 4666 \nz\n\" transform=\"scale(0.015625)\"/>\n       <path id=\"DejaVuSans-2d\" d=\"M 313 2009 \nL 1997 2009 \nL 1997 1497 \nL 313 1497 \nL 313 2009 \nz\n\" transform=\"scale(0.015625)\"/>\n       <path id=\"DejaVuSans-47\" d=\"M 3809 666 \nL 3809 1919 \nL 2778 1919 \nL 2778 2438 \nL 4434 2438 \nL 4434 434 \nQ 4069 175 3628 42 \nQ 3188 -91 2688 -91 \nQ 1594 -91 976 548 \nQ 359 1188 359 2328 \nQ 359 3472 976 4111 \nQ 1594 4750 2688 4750 \nQ 3144 4750 3555 4637 \nQ 3966 4525 4313 4306 \nL 4313 3634 \nQ 3963 3931 3569 4081 \nQ 3175 4231 2741 4231 \nQ 1884 4231 1454 3753 \nQ 1025 3275 1025 2328 \nQ 1025 1384 1454 906 \nQ 1884 428 2741 428 \nQ 3075 428 3337 486 \nQ 3600 544 3809 666 \nz\n\" transform=\"scale(0.015625)\"/>\n       <path id=\"DejaVuSans-61\" d=\"M 2194 1759 \nQ 1497 1759 1228 1600 \nQ 959 1441 959 1056 \nQ 959 750 1161 570 \nQ 1363 391 1709 391 \nQ 2188 391 2477 730 \nQ 2766 1069 2766 1631 \nL 2766 1759 \nL 2194 1759 \nz\nM 3341 1997 \nL 3341 0 \nL 2766 0 \nL 2766 531 \nQ 2569 213 2275 61 \nQ 1981 -91 1556 -91 \nQ 1019 -91 701 211 \nQ 384 513 384 1019 \nQ 384 1609 779 1909 \nQ 1175 2209 1959 2209 \nL 2766 2209 \nL 2766 2266 \nQ 2766 2663 2505 2880 \nQ 2244 3097 1772 3097 \nQ 1472 3097 1187 3025 \nQ 903 2953 641 2809 \nL 641 3341 \nQ 956 3463 1253 3523 \nQ 1550 3584 1831 3584 \nQ 2591 3584 2966 3190 \nQ 3341 2797 3341 1997 \nz\n\" transform=\"scale(0.015625)\"/>\n      </defs>\n      <use xlink:href=\"#DejaVuSans-41\"/>\n      <use xlink:href=\"#DejaVuSans-4e\" x=\"68.408203\"/>\n      <use xlink:href=\"#DejaVuSans-44\" x=\"143.212891\"/>\n      <use xlink:href=\"#DejaVuSans-2d\" x=\"220.214844\"/>\n      <use xlink:href=\"#DejaVuSans-47\" x=\"259.923828\"/>\n      <use xlink:href=\"#DejaVuSans-61\" x=\"337.414062\"/>\n      <use xlink:href=\"#DejaVuSans-74\" x=\"398.693359\"/>\n      <use xlink:href=\"#DejaVuSans-65\" x=\"437.902344\"/>\n     </g>\n    </g>\n   </g>\n   <g id=\"text_4\">\n    <g clip-path=\"url(#p59744a5446)\">\n     <!-- n-Bit Counter -->\n     <g transform=\"translate(550.999219 50.769219) scale(0.125 -0.125)\">\n      <defs>\n       <path id=\"DejaVuSans-6e\" d=\"M 3513 2113 \nL 3513 0 \nL 2938 0 \nL 2938 2094 \nQ 2938 2591 2744 2837 \nQ 2550 3084 2163 3084 \nQ 1697 3084 1428 2787 \nQ 1159 2491 1159 1978 \nL 1159 0 \nL 581 0 \nL 581 3500 \nL 1159 3500 \nL 1159 2956 \nQ 1366 3272 1645 3428 \nQ 1925 3584 2291 3584 \nQ 2894 3584 3203 3211 \nQ 3513 2838 3513 2113 \nz\n\" transform=\"scale(0.015625)\"/>\n       <path id=\"DejaVuSans-42\" d=\"M 1259 2228 \nL 1259 519 \nL 2272 519 \nQ 2781 519 3026 730 \nQ 3272 941 3272 1375 \nQ 3272 1813 3026 2020 \nQ 2781 2228 2272 2228 \nL 1259 2228 \nz\nM 1259 4147 \nL 1259 2741 \nL 2194 2741 \nQ 2656 2741 2882 2914 \nQ 3109 3088 3109 3444 \nQ 3109 3797 2882 3972 \nQ 2656 4147 2194 4147 \nL 1259 4147 \nz\nM 628 4666 \nL 2241 4666 \nQ 2963 4666 3353 4366 \nQ 3744 4066 3744 3513 \nQ 3744 3084 3544 2831 \nQ 3344 2578 2956 2516 \nQ 3422 2416 3680 2098 \nQ 3938 1781 3938 1306 \nQ 3938 681 3513 340 \nQ 3088 0 2303 0 \nL 628 0 \nL 628 4666 \nz\n\" transform=\"scale(0.015625)\"/>\n       <path id=\"DejaVuSans-20\" transform=\"scale(0.015625)\"/>\n       <path id=\"DejaVuSans-43\" d=\"M 4122 4306 \nL 4122 3641 \nQ 3803 3938 3442 4084 \nQ 3081 4231 2675 4231 \nQ 1875 4231 1450 3742 \nQ 1025 3253 1025 2328 \nQ 1025 1406 1450 917 \nQ 1875 428 2675 428 \nQ 3081 428 3442 575 \nQ 3803 722 4122 1019 \nL 4122 359 \nQ 3791 134 3420 21 \nQ 3050 -91 2638 -91 \nQ 1578 -91 968 557 \nQ 359 1206 359 2328 \nQ 359 3453 968 4101 \nQ 1578 4750 2638 4750 \nQ 3056 4750 3426 4639 \nQ 3797 4528 4122 4306 \nz\n\" transform=\"scale(0.015625)\"/>\n       <path id=\"DejaVuSans-75\" d=\"M 544 1381 \nL 544 3500 \nL 1119 3500 \nL 1119 1403 \nQ 1119 906 1312 657 \nQ 1506 409 1894 409 \nQ 2359 409 2629 706 \nQ 2900 1003 2900 1516 \nL 2900 3500 \nL 3475 3500 \nL 3475 0 \nL 2900 0 \nL 2900 538 \nQ 2691 219 2414 64 \nQ 2138 -91 1772 -91 \nQ 1169 -91 856 284 \nQ 544 659 544 1381 \nz\nM 1991 3584 \nL 1991 3584 \nz\n\" transform=\"scale(0.015625)\"/>\n      </defs>\n      <use xlink:href=\"#DejaVuSans-6e\"/>\n      <use xlink:href=\"#DejaVuSans-2d\" x=\"63.378906\"/>\n      <use xlink:href=\"#DejaVuSans-42\" x=\"95.837891\"/>\n      <use xlink:href=\"#DejaVuSans-69\" x=\"164.441406\"/>\n      <use xlink:href=\"#DejaVuSans-74\" x=\"192.224609\"/>\n      <use xlink:href=\"#DejaVuSans-20\" x=\"231.433594\"/>\n      <use xlink:href=\"#DejaVuSans-43\" x=\"263.220703\"/>\n      <use xlink:href=\"#DejaVuSans-6f\" x=\"333.044922\"/>\n      <use xlink:href=\"#DejaVuSans-75\" x=\"394.226562\"/>\n      <use xlink:href=\"#DejaVuSans-6e\" x=\"457.605469\"/>\n      <use xlink:href=\"#DejaVuSans-74\" x=\"520.984375\"/>\n      <use xlink:href=\"#DejaVuSans-65\" x=\"560.193359\"/>\n      <use xlink:href=\"#DejaVuSans-72\" x=\"621.716797\"/>\n     </g>\n    </g>\n   </g>\n   <g id=\"patch_4\">\n    <path d=\"M 12.555 228.625 \nC 13.163641 228.625 13.747436 228.383184 14.17781 227.95281 \nC 14.608184 227.522436 14.85 226.938641 14.85 226.33 \nC 14.85 225.721359 14.608184 225.137564 14.17781 224.70719 \nC 13.747436 224.276816 13.163641 224.035 12.555 224.035 \nC 11.946359 224.035 11.362564 224.276816 10.93219 224.70719 \nC 10.501816 225.137564 10.26 225.721359 10.26 226.33 \nC 10.26 226.938641 10.501816 227.522436 10.93219 227.95281 \nC 11.362564 228.383184 11.946359 228.625 12.555 228.625 \nz\n\" clip-path=\"url(#p59744a5446)\" style=\"fill: #ffffff; stroke: #000000; stroke-width: 2; stroke-linejoin: miter\"/>\n   </g>\n   <g id=\"text_5\">\n    <g clip-path=\"url(#p59744a5446)\">\n     <!-- $f_x$ -->\n     <g transform=\"translate(52.3075 218.375391) scale(0.125 -0.125)\">\n      <defs>\n       <path id=\"DejaVuSans-Oblique-78\" d=\"M 3841 3500 \nL 2234 1784 \nL 3219 0 \nL 2559 0 \nL 1819 1388 \nL 531 0 \nL -166 0 \nL 1556 1844 \nL 641 3500 \nL 1300 3500 \nL 1972 2234 \nL 3144 3500 \nL 3841 3500 \nz\n\" transform=\"scale(0.015625)\"/>\n      </defs>\n      <use xlink:href=\"#DejaVuSans-Oblique-66\" transform=\"translate(0 0.015625)\"/>\n      <use xlink:href=\"#DejaVuSans-Oblique-78\" transform=\"translate(35.205078 -16.390625) scale(0.7)\"/>\n     </g>\n    </g>\n   </g>\n   <g id=\"text_6\">\n    <g clip-path=\"url(#p59744a5446)\">\n     <!-- Schmitt-Trigger -->\n     <g transform=\"translate(106.753828 269.488047) scale(0.125 -0.125)\">\n      <defs>\n       <path id=\"DejaVuSans-53\" d=\"M 3425 4513 \nL 3425 3897 \nQ 3066 4069 2747 4153 \nQ 2428 4238 2131 4238 \nQ 1616 4238 1336 4038 \nQ 1056 3838 1056 3469 \nQ 1056 3159 1242 3001 \nQ 1428 2844 1947 2747 \nL 2328 2669 \nQ 3034 2534 3370 2195 \nQ 3706 1856 3706 1288 \nQ 3706 609 3251 259 \nQ 2797 -91 1919 -91 \nQ 1588 -91 1214 -16 \nQ 841 59 441 206 \nL 441 856 \nQ 825 641 1194 531 \nQ 1563 422 1919 422 \nQ 2459 422 2753 634 \nQ 3047 847 3047 1241 \nQ 3047 1584 2836 1778 \nQ 2625 1972 2144 2069 \nL 1759 2144 \nQ 1053 2284 737 2584 \nQ 422 2884 422 3419 \nQ 422 4038 858 4394 \nQ 1294 4750 2059 4750 \nQ 2388 4750 2728 4690 \nQ 3069 4631 3425 4513 \nz\n\" transform=\"scale(0.015625)\"/>\n       <path id=\"DejaVuSans-63\" d=\"M 3122 3366 \nL 3122 2828 \nQ 2878 2963 2633 3030 \nQ 2388 3097 2138 3097 \nQ 1578 3097 1268 2742 \nQ 959 2388 959 1747 \nQ 959 1106 1268 751 \nQ 1578 397 2138 397 \nQ 2388 397 2633 464 \nQ 2878 531 3122 666 \nL 3122 134 \nQ 2881 22 2623 -34 \nQ 2366 -91 2075 -91 \nQ 1284 -91 818 406 \nQ 353 903 353 1747 \nQ 353 2603 823 3093 \nQ 1294 3584 2113 3584 \nQ 2378 3584 2631 3529 \nQ 2884 3475 3122 3366 \nz\n\" transform=\"scale(0.015625)\"/>\n       <path id=\"DejaVuSans-68\" d=\"M 3513 2113 \nL 3513 0 \nL 2938 0 \nL 2938 2094 \nQ 2938 2591 2744 2837 \nQ 2550 3084 2163 3084 \nQ 1697 3084 1428 2787 \nQ 1159 2491 1159 1978 \nL 1159 0 \nL 581 0 \nL 581 4863 \nL 1159 4863 \nL 1159 2956 \nQ 1366 3272 1645 3428 \nQ 1925 3584 2291 3584 \nQ 2894 3584 3203 3211 \nQ 3513 2838 3513 2113 \nz\n\" transform=\"scale(0.015625)\"/>\n       <path id=\"DejaVuSans-6d\" d=\"M 3328 2828 \nQ 3544 3216 3844 3400 \nQ 4144 3584 4550 3584 \nQ 5097 3584 5394 3201 \nQ 5691 2819 5691 2113 \nL 5691 0 \nL 5113 0 \nL 5113 2094 \nQ 5113 2597 4934 2840 \nQ 4756 3084 4391 3084 \nQ 3944 3084 3684 2787 \nQ 3425 2491 3425 1978 \nL 3425 0 \nL 2847 0 \nL 2847 2094 \nQ 2847 2600 2669 2842 \nQ 2491 3084 2119 3084 \nQ 1678 3084 1418 2786 \nQ 1159 2488 1159 1978 \nL 1159 0 \nL 581 0 \nL 581 3500 \nL 1159 3500 \nL 1159 2956 \nQ 1356 3278 1631 3431 \nQ 1906 3584 2284 3584 \nQ 2666 3584 2933 3390 \nQ 3200 3197 3328 2828 \nz\n\" transform=\"scale(0.015625)\"/>\n       <path id=\"DejaVuSans-54\" d=\"M -19 4666 \nL 3928 4666 \nL 3928 4134 \nL 2272 4134 \nL 2272 0 \nL 1638 0 \nL 1638 4134 \nL -19 4134 \nL -19 4666 \nz\n\" transform=\"scale(0.015625)\"/>\n       <path id=\"DejaVuSans-67\" d=\"M 2906 1791 \nQ 2906 2416 2648 2759 \nQ 2391 3103 1925 3103 \nQ 1463 3103 1205 2759 \nQ 947 2416 947 1791 \nQ 947 1169 1205 825 \nQ 1463 481 1925 481 \nQ 2391 481 2648 825 \nQ 2906 1169 2906 1791 \nz\nM 3481 434 \nQ 3481 -459 3084 -895 \nQ 2688 -1331 1869 -1331 \nQ 1566 -1331 1297 -1286 \nQ 1028 -1241 775 -1147 \nL 775 -588 \nQ 1028 -725 1275 -790 \nQ 1522 -856 1778 -856 \nQ 2344 -856 2625 -561 \nQ 2906 -266 2906 331 \nL 2906 616 \nQ 2728 306 2450 153 \nQ 2172 0 1784 0 \nQ 1141 0 747 490 \nQ 353 981 353 1791 \nQ 353 2603 747 3093 \nQ 1141 3584 1784 3584 \nQ 2172 3584 2450 3431 \nQ 2728 3278 2906 2969 \nL 2906 3500 \nL 3481 3500 \nL 3481 434 \nz\n\" transform=\"scale(0.015625)\"/>\n      </defs>\n      <use xlink:href=\"#DejaVuSans-53\"/>\n      <use xlink:href=\"#DejaVuSans-63\" x=\"63.476562\"/>\n      <use xlink:href=\"#DejaVuSans-68\" x=\"118.457031\"/>\n      <use xlink:href=\"#DejaVuSans-6d\" x=\"181.835938\"/>\n      <use xlink:href=\"#DejaVuSans-69\" x=\"279.248047\"/>\n      <use xlink:href=\"#DejaVuSans-74\" x=\"307.03125\"/>\n      <use xlink:href=\"#DejaVuSans-74\" x=\"346.240234\"/>\n      <use xlink:href=\"#DejaVuSans-2d\" x=\"385.449219\"/>\n      <use xlink:href=\"#DejaVuSans-54\" x=\"412.408203\"/>\n      <use xlink:href=\"#DejaVuSans-72\" x=\"458.742188\"/>\n      <use xlink:href=\"#DejaVuSans-69\" x=\"499.855469\"/>\n      <use xlink:href=\"#DejaVuSans-67\" x=\"527.638672\"/>\n      <use xlink:href=\"#DejaVuSans-67\" x=\"591.115234\"/>\n      <use xlink:href=\"#DejaVuSans-65\" x=\"654.591797\"/>\n      <use xlink:href=\"#DejaVuSans-72\" x=\"716.115234\"/>\n     </g>\n    </g>\n   </g>\n   <g id=\"text_7\">\n    <g clip-path=\"url(#p59744a5446)\">\n     <!-- T -->\n     <g transform=\"translate(223.695 206.001406) scale(0.095 -0.095)\">\n      <use xlink:href=\"#DejaVuSans-54\"/>\n     </g>\n    </g>\n   </g>\n   <g id=\"text_8\">\n    <g clip-path=\"url(#p59744a5446)\">\n     <!-- $\\overline{Q}$ -->\n     <g transform=\"translate(268.21 229.674297) scale(0.095 -0.095)\">\n      <defs>\n       <path id=\"DejaVuSans-Oblique-51\" d=\"M 2309 -84 \nQ 2275 -88 2237 -89 \nQ 2200 -91 2125 -91 \nQ 1250 -91 756 411 \nQ 263 913 263 1797 \nQ 263 2319 452 2844 \nQ 641 3369 978 3788 \nQ 1369 4269 1858 4509 \nQ 2347 4750 2938 4750 \nQ 3794 4750 4287 4245 \nQ 4781 3741 4781 2869 \nQ 4781 1928 4265 1147 \nQ 3750 366 2919 44 \nL 3553 -825 \nL 2847 -825 \nL 2309 -84 \nz\nM 2919 4238 \nQ 2400 4238 2003 3986 \nQ 1606 3734 1313 3219 \nQ 1125 2891 1026 2522 \nQ 928 2153 928 1778 \nQ 928 1128 1239 775 \nQ 1550 422 2119 422 \nQ 2631 422 3032 676 \nQ 3434 931 3719 1434 \nQ 3909 1772 4009 2142 \nQ 4109 2513 4109 2881 \nQ 4109 3528 3796 3883 \nQ 3484 4238 2919 4238 \nz\n\" transform=\"scale(0.015625)\"/>\n      </defs>\n      <use xlink:href=\"#DejaVuSans-Oblique-51\" transform=\"translate(0 0.53125)\"/>\n      <path d=\"M 0 86.5 \nL 0 92.75 \nL 78.710938 92.75 \nL 78.710938 86.5 \nL 0 86.5 \nz\n\"/>\n     </g>\n    </g>\n   </g>\n   <g id=\"text_9\">\n    <g clip-path=\"url(#p59744a5446)\">\n     <!-- Q -->\n     <g transform=\"translate(268.236719 206.001406) scale(0.095 -0.095)\">\n      <defs>\n       <path id=\"DejaVuSans-51\" d=\"M 2522 4238 \nQ 1834 4238 1429 3725 \nQ 1025 3213 1025 2328 \nQ 1025 1447 1429 934 \nQ 1834 422 2522 422 \nQ 3209 422 3611 934 \nQ 4013 1447 4013 2328 \nQ 4013 3213 3611 3725 \nQ 3209 4238 2522 4238 \nz\nM 3406 84 \nL 4238 -825 \nL 3475 -825 \nL 2784 -78 \nQ 2681 -84 2626 -87 \nQ 2572 -91 2522 -91 \nQ 1538 -91 948 567 \nQ 359 1225 359 2328 \nQ 359 3434 948 4092 \nQ 1538 4750 2522 4750 \nQ 3503 4750 4090 4092 \nQ 4678 3434 4678 2328 \nQ 4678 1516 4351 937 \nQ 4025 359 3406 84 \nz\n\" transform=\"scale(0.015625)\"/>\n      </defs>\n      <use xlink:href=\"#DejaVuSans-51\"/>\n     </g>\n    </g>\n   </g>\n   <g id=\"text_10\">\n    <g clip-path=\"url(#p59744a5446)\">\n     <!-- T -->\n     <g transform=\"translate(376.695 206.001406) scale(0.095 -0.095)\">\n      <use xlink:href=\"#DejaVuSans-54\"/>\n     </g>\n    </g>\n   </g>\n   <g id=\"text_11\">\n    <g clip-path=\"url(#p59744a5446)\">\n     <!-- $\\overline{Q}$ -->\n     <g transform=\"translate(421.21 229.674297) scale(0.095 -0.095)\">\n      <use xlink:href=\"#DejaVuSans-Oblique-51\" transform=\"translate(0 0.53125)\"/>\n      <path d=\"M 0 86.5 \nL 0 92.75 \nL 78.710938 92.75 \nL 78.710938 86.5 \nL 0 86.5 \nz\n\"/>\n     </g>\n    </g>\n   </g>\n   <g id=\"text_12\">\n    <g clip-path=\"url(#p59744a5446)\">\n     <!-- Q -->\n     <g transform=\"translate(421.236719 206.001406) scale(0.095 -0.095)\">\n      <use xlink:href=\"#DejaVuSans-51\"/>\n     </g>\n    </g>\n   </g>\n   <g id=\"patch_5\">\n    <path d=\"M 341.505 205.675 \nC 342.113641 205.675 342.697436 205.433184 343.12781 205.00281 \nC 343.558184 204.572436 343.8 203.988641 343.8 203.38 \nC 343.8 202.771359 343.558184 202.187564 343.12781 201.75719 \nC 342.697436 201.326816 342.113641 201.085 341.505 201.085 \nC 340.896359 201.085 340.312564 201.326816 339.88219 201.75719 \nC 339.451816 202.187564 339.21 202.771359 339.21 203.38 \nC 339.21 203.988641 339.451816 204.572436 339.88219 205.00281 \nC 340.312564 205.433184 340.896359 205.675 341.505 205.675 \nz\n\" clip-path=\"url(#p59744a5446)\" style=\"fill: #ffffff; stroke: #000000; stroke-width: 2; stroke-linejoin: miter\"/>\n   </g>\n   <g id=\"text_13\">\n    <g clip-path=\"url(#p59744a5446)\">\n     <!-- 1 -->\n     <g transform=\"translate(344.030938 195.425391) scale(0.125 -0.125)\">\n      <defs>\n       <path id=\"DejaVuSans-31\" d=\"M 794 531 \nL 1825 531 \nL 1825 4091 \nL 703 3866 \nL 703 4441 \nL 1819 4666 \nL 2450 4666 \nL 2450 531 \nL 3481 531 \nL 3481 0 \nL 794 0 \nL 794 531 \nz\n\" transform=\"scale(0.015625)\"/>\n      </defs>\n      <use xlink:href=\"#DejaVuSans-31\"/>\n     </g>\n    </g>\n   </g>\n   <g id=\"patch_6\">\n    <path d=\"M 12.555 351.025 \nC 13.163641 351.025 13.747436 350.783184 14.17781 350.35281 \nC 14.608184 349.922436 14.85 349.338641 14.85 348.73 \nC 14.85 348.121359 14.608184 347.537564 14.17781 347.10719 \nC 13.747436 346.676816 13.163641 346.435 12.555 346.435 \nC 11.946359 346.435 11.362564 346.676816 10.93219 347.10719 \nC 10.501816 347.537564 10.26 348.121359 10.26 348.73 \nC 10.26 349.338641 10.501816 349.922436 10.93219 350.35281 \nC 11.362564 350.783184 11.946359 351.025 12.555 351.025 \nz\n\" clip-path=\"url(#p59744a5446)\" style=\"fill: #ffffff; stroke: #000000; stroke-width: 2; stroke-linejoin: miter\"/>\n   </g>\n   <g id=\"text_14\">\n    <g clip-path=\"url(#p59744a5446)\">\n     <!-- Reset -->\n     <g transform=\"translate(24.548516 340.775391) scale(0.125 -0.125)\">\n      <defs>\n       <path id=\"DejaVuSans-52\" d=\"M 2841 2188 \nQ 3044 2119 3236 1894 \nQ 3428 1669 3622 1275 \nL 4263 0 \nL 3584 0 \nL 2988 1197 \nQ 2756 1666 2539 1819 \nQ 2322 1972 1947 1972 \nL 1259 1972 \nL 1259 0 \nL 628 0 \nL 628 4666 \nL 2053 4666 \nQ 2853 4666 3247 4331 \nQ 3641 3997 3641 3322 \nQ 3641 2881 3436 2590 \nQ 3231 2300 2841 2188 \nz\nM 1259 4147 \nL 1259 2491 \nL 2053 2491 \nQ 2509 2491 2742 2702 \nQ 2975 2913 2975 3322 \nQ 2975 3731 2742 3939 \nQ 2509 4147 2053 4147 \nL 1259 4147 \nz\n\" transform=\"scale(0.015625)\"/>\n       <path id=\"DejaVuSans-73\" d=\"M 2834 3397 \nL 2834 2853 \nQ 2591 2978 2328 3040 \nQ 2066 3103 1784 3103 \nQ 1356 3103 1142 2972 \nQ 928 2841 928 2578 \nQ 928 2378 1081 2264 \nQ 1234 2150 1697 2047 \nL 1894 2003 \nQ 2506 1872 2764 1633 \nQ 3022 1394 3022 966 \nQ 3022 478 2636 193 \nQ 2250 -91 1575 -91 \nQ 1294 -91 989 -36 \nQ 684 19 347 128 \nL 347 722 \nQ 666 556 975 473 \nQ 1284 391 1588 391 \nQ 1994 391 2212 530 \nQ 2431 669 2431 922 \nQ 2431 1156 2273 1281 \nQ 2116 1406 1581 1522 \nL 1381 1569 \nQ 847 1681 609 1914 \nQ 372 2147 372 2553 \nQ 372 3047 722 3315 \nQ 1072 3584 1716 3584 \nQ 2034 3584 2315 3537 \nQ 2597 3491 2834 3397 \nz\n\" transform=\"scale(0.015625)\"/>\n      </defs>\n      <use xlink:href=\"#DejaVuSans-52\"/>\n      <use xlink:href=\"#DejaVuSans-65\" x=\"64.982422\"/>\n      <use xlink:href=\"#DejaVuSans-73\" x=\"126.505859\"/>\n      <use xlink:href=\"#DejaVuSans-65\" x=\"178.605469\"/>\n      <use xlink:href=\"#DejaVuSans-74\" x=\"240.128906\"/>\n     </g>\n    </g>\n   </g>\n   <g id=\"text_15\">\n    <g clip-path=\"url(#p59744a5446)\">\n     <!-- n -->\n     <g transform=\"translate(609.255 145.629219) scale(0.125 -0.125)\">\n      <use xlink:href=\"#DejaVuSans-6e\"/>\n     </g>\n    </g>\n   </g>\n  </g>\n </g>\n <defs>\n  <clipPath id=\"p59744a5446\">\n   <rect x=\"7.2\" y=\"7.2\" width=\"667.845\" height=\"346.885\"/>\n  </clipPath>\n </defs>\n</svg>\n",
      "text/plain": [
       "<schemdraw.backends.mpl.Figure object at 0x00000277DB8D93D0>"
      ]
     },
     "metadata": {},
     "output_type": "display_data"
    }
   ],
   "source": [
    "\n",
    "with schemdraw.Drawing() as d:\n",
    "    d += elm.Line().idot(open=True).label('$f_{ref}$')\n",
    "    d += elm.Ic(pins=[\n",
    "        elm.IcPin(side='left', anchorname='in1'),\n",
    "        elm.IcPin(side='right', anchorname='out')\n",
    "    ], edgepadW=2).label('Vorteiler\\n$N_{ref}$').anchor('in1').drop('out')\n",
    "\n",
    "    d += elm.Line().length(6)\n",
    "    d += (ACmp := lgc.And().anchor('in1').label('AND-Gate').drop('out'))\n",
    "\n",
    "    d += (counter := elm.Ic(pins=[\n",
    "        elm.IcPin(side='left', anchorname='in1'),\n",
    "        elm.IcPin(side='bottom', anchorname='out1'),\n",
    "        elm.IcPin(side='bottom', anchorname='out2')\n",
    "    ], edgepadW=2).anchor('in1').label('n-Bit Counter', 'center').drop('out1'))\n",
    "\n",
    "    d.here = (0, -6)\n",
    "\n",
    "    d += elm.Line().idot(open=True).label('$f_x$')\n",
    "    d += elm.Ic(pins=[\n",
    "        elm.IcPin(side='left', anchorname='inp'),\n",
    "        elm.IcPin(side='right', anchorname='oup')\n",
    "    ]).anchor('inp').drop('oup').label('Schmitt-Trigger', 'B')\n",
    "\n",
    "    def t_ff():\n",
    "        return elm.Ic(pins=[\n",
    "            elm.IcPin('>', side='left'),\n",
    "            elm.IcPin('T', side='left'),\n",
    "            elm.IcPin('$\\overline{Q}$', side='right', anchorname='nQ'),\n",
    "            elm.IcPin('Q', side='right'),\n",
    "            elm.IcPin(side='B', anchorname='res'),\n",
    "        ])\n",
    "\n",
    "\n",
    "    d += (ff1 := t_ff().anchor('>').drop('nQ'))\n",
    "    d += elm.Line().right().length(2)\n",
    "    d += (ff2 := t_ff().anchor('>').drop('nQ'))\n",
    "\n",
    "    d += elm.Line().down().length(2)\n",
    "    d += elm.Wire('-|').to(ff1.T)\n",
    "\n",
    "    d += elm.Line().left().at(ff2.T).length(.5).dot(open=True).label('1')\n",
    "\n",
    "    d += elm.Wire('|-').at(ff1.Q).to(ACmp.in2)\n",
    "\n",
    "    d.here = (0, -10)\n",
    "    d += elm.Line().idot(open=True).label('Reset').length(2)\n",
    "    d.push()\n",
    "\n",
    "    d += elm.Wire('-|').to(ff1.res)\n",
    "    d.pop()\n",
    "    d.push()\n",
    "    d += elm.Wire('-|').to(ff2.res)\n",
    "    d.pop()\n",
    "    d.push()\n",
    "    d += elm.Wire('-|').to(counter.out1)\n",
    "\n",
    "    d += elm.Line(arrow='|->').at(counter.out2).down().label('n', 'bottom')\n"
   ]
  },
  {
   "cell_type": "markdown",
   "metadata": {
    "jp-MarkdownHeadingCollapsed": true,
    "tags": []
   },
   "source": [
    "### Spannungsdiagramme"
   ]
  },
  {
   "cell_type": "markdown",
   "metadata": {},
   "source": [
    "![](mtrs_media/Uf_diags_inv.png)"
   ]
  },
  {
   "cell_type": "markdown",
   "metadata": {},
   "source": [
    "### Berechnung der relevanten Größe"
   ]
  },
  {
   "cell_type": "markdown",
   "metadata": {},
   "source": [
    "$N = T_x \\cdot f_{ref}$\n",
    "\n",
    "\n",
    "$T_x = \\frac{f_{ref}}{N}$"
   ]
  },
  {
   "cell_type": "markdown",
   "metadata": {
    "tags": []
   },
   "source": [
    "## Digitale Phasenverschiebungsmessung"
   ]
  },
  {
   "cell_type": "markdown",
   "metadata": {},
   "source": [
    "**Anforderungen**:\n",
    "- $f_1 = f_2 = const$\n",
    "- Gleichanteil = 0\n",
    "    HP am Eingang\n",
    "- gleiche Signalform"
   ]
  },
  {
   "cell_type": "markdown",
   "metadata": {},
   "source": [
    "### Schaltung"
   ]
  },
  {
   "cell_type": "markdown",
   "metadata": {},
   "source": [
    "![](mtrs_media/dphi_cir.png)"
   ]
  },
  {
   "cell_type": "markdown",
   "metadata": {},
   "source": [
    "### Spannungsdiagramme"
   ]
  },
  {
   "cell_type": "markdown",
   "metadata": {},
   "source": [
    "![](mtrs_media/dphi_diags.png)"
   ]
  },
  {
   "cell_type": "markdown",
   "metadata": {},
   "source": [
    "### Berechnung der relevanten Größe"
   ]
  },
  {
   "cell_type": "markdown",
   "metadata": {},
   "source": [
    "## U-f Umsetzer"
   ]
  },
  {
   "cell_type": "markdown",
   "metadata": {
    "jp-MarkdownHeadingCollapsed": true,
    "tags": []
   },
   "source": [
    "### Schaltung"
   ]
  },
  {
   "cell_type": "markdown",
   "metadata": {},
   "source": [
    "![](mtrs_media/uf_cur_real.png)"
   ]
  },
  {
   "cell_type": "markdown",
   "metadata": {
    "jp-MarkdownHeadingCollapsed": true,
    "tags": []
   },
   "source": [
    "### Spannungsdiagramme"
   ]
  },
  {
   "cell_type": "code",
   "execution_count": 12,
   "metadata": {
    "ExecuteTime": {
     "end_time": "2023-04-16T21:45:56.351387Z",
     "start_time": "2023-04-16T21:45:51.388646Z"
    },
    "collapsed": false,
    "jupyter": {
     "outputs_hidden": false
    },
    "tags": [
     "hide-input"
    ]
   },
   "outputs": [
    {
     "ename": "DelegateError",
     "evalue": "Postscript delegate failed `[ghostscript library 10.01] -q -dQUIET -dSAFER -dBATCH -dNOPAUSE -dNOPROMPT -dMaxBitmap=500000000 -dAlignToPixels=0 -dGridFitTT=2 \"-sDEVICE=pngalpha\" -dTextAlphaBits=4 -dGraphicsAlphaBits=4 \"-r72x72\" -dPrinted=false -dFirstPage=1 -dLastPage=1 \"-sOutputFile=C:/Users/danst/AppData/Local/Temp/magick-YlAfVYk-fIZBhjkMbMqeCs7D4tFnywN6%d\" \"-fC:/Users/danst/AppData/Local/Temp/magick-U3ULw_jeB-DFrn45DyAkPV8VDzrKqtwi\" \"-fC:/Users/danst/AppData/Local/Temp/magick-baQ5EOtppPT8Zo-juelLL5PsvnPiK_E0\"': Error: /undefined in https:\nOperand stack:\n   (3010)\nExecution stack:\n   %interp_exit   .runexec2   --nostringval--   --nostringval--   --nostringval--   2   %stopped_push   --nostringval--   --nostringval--   --nostringval--   false   1   %stopped_push   1990   1   3   %oparray_pop   1989   1   3   %oparray_pop   1977   1   3   %oparray_pop   1833   1   3   %oparray_pop   --nostringval--   %errorexec_pop   .runexec2   --nostringval--   --nostringval--   --nostringval--   2   %stopped_push   --nostringval--\nDictionary stack:\n   --dict:776/1123(ro)(G)--   --dict:0/20(G)--   --dict:75/200(L)--\nCurrent allocation mode is local\nCurrent file position is 14\nGPL Ghostscript 10.01.1: Unrecoverable error, exit code 1\n @ error/ghostscript-private.h/InvokeGhostscriptDelegate/184",
     "output_type": "error",
     "traceback": [
      "\u001b[1;31m---------------------------------------------------------------------------\u001b[0m",
      "\u001b[1;31mDelegateError\u001b[0m                             Traceback (most recent call last)",
      "Cell \u001b[1;32mIn[12], line 1\u001b[0m\n\u001b[1;32m----> 1\u001b[0m img \u001b[39m=\u001b[39m WImage(filename\u001b[39m=\u001b[39;49mos\u001b[39m.\u001b[39;49mpath\u001b[39m.\u001b[39;49mjoin(os\u001b[39m.\u001b[39;49mgetcwd(), \u001b[39m'\u001b[39;49m\u001b[39mmtrs_media\u001b[39;49m\u001b[39m'\u001b[39;49m, \u001b[39m'\u001b[39;49m\u001b[39muf_diags_real.pdf[0]\u001b[39;49m\u001b[39m'\u001b[39;49m))\n\u001b[0;32m      2\u001b[0m library\u001b[39m.\u001b[39mMagickSetCompressionQuality(img\u001b[39m.\u001b[39mwand, \u001b[39m75\u001b[39m)\n",
      "File \u001b[1;32mc:\\Users\\danst\\Documents\\__HTL\\CompendiumMatura\\venv\\Lib\\site-packages\\wand\\image.py:9365\u001b[0m, in \u001b[0;36mImage.__init__\u001b[1;34m(self, image, blob, file, filename, pseudo, background, colorspace, depth, extract, format, height, interlace, resolution, sampling_factors, units, width)\u001b[0m\n\u001b[0;32m   9363\u001b[0m     \u001b[39mself\u001b[39m\u001b[39m.\u001b[39mread(blob\u001b[39m=\u001b[39mblob)\n\u001b[0;32m   9364\u001b[0m \u001b[39melif\u001b[39;00m filename \u001b[39mis\u001b[39;00m \u001b[39mnot\u001b[39;00m \u001b[39mNone\u001b[39;00m:\n\u001b[1;32m-> 9365\u001b[0m     \u001b[39mself\u001b[39;49m\u001b[39m.\u001b[39;49mread(filename\u001b[39m=\u001b[39;49mfilename)\n\u001b[0;32m   9366\u001b[0m \u001b[39m# clear the wand format, otherwise any subsequent call to\u001b[39;00m\n\u001b[0;32m   9367\u001b[0m \u001b[39m# MagickGetImageBlob will silently change the image to this\u001b[39;00m\n\u001b[0;32m   9368\u001b[0m \u001b[39m# format again.\u001b[39;00m\n\u001b[0;32m   9369\u001b[0m library\u001b[39m.\u001b[39mMagickSetFormat(\u001b[39mself\u001b[39m\u001b[39m.\u001b[39mwand, binary(\u001b[39m\"\u001b[39m\u001b[39m\"\u001b[39m))\n",
      "File \u001b[1;32mc:\\Users\\danst\\Documents\\__HTL\\CompendiumMatura\\venv\\Lib\\site-packages\\wand\\image.py:10120\u001b[0m, in \u001b[0;36mImage.read\u001b[1;34m(self, file, filename, blob, background, colorspace, depth, extract, format, height, interlace, resolution, sampling_factors, units, width)\u001b[0m\n\u001b[0;32m  10118\u001b[0m     r \u001b[39m=\u001b[39m library\u001b[39m.\u001b[39mMagickReadImage(\u001b[39mself\u001b[39m\u001b[39m.\u001b[39mwand, filename)\n\u001b[0;32m  10119\u001b[0m \u001b[39mif\u001b[39;00m \u001b[39mnot\u001b[39;00m r:\n\u001b[1;32m> 10120\u001b[0m     \u001b[39mself\u001b[39;49m\u001b[39m.\u001b[39;49mraise_exception()\n\u001b[0;32m  10121\u001b[0m     msg \u001b[39m=\u001b[39m (\u001b[39m'\u001b[39m\u001b[39mMagickReadImage returns false, but did not raise \u001b[39m\u001b[39m'\u001b[39m\n\u001b[0;32m  10122\u001b[0m            \u001b[39m'\u001b[39m\u001b[39mImageMagick  exception. This can occur when a delegate \u001b[39m\u001b[39m'\u001b[39m\n\u001b[0;32m  10123\u001b[0m            \u001b[39m'\u001b[39m\u001b[39mis missing, or returns EXIT_SUCCESS without generating a \u001b[39m\u001b[39m'\u001b[39m\n\u001b[0;32m  10124\u001b[0m            \u001b[39m'\u001b[39m\u001b[39mraster.\u001b[39m\u001b[39m'\u001b[39m)\n\u001b[0;32m  10125\u001b[0m     \u001b[39mraise\u001b[39;00m WandRuntimeError(msg)\n",
      "File \u001b[1;32mc:\\Users\\danst\\Documents\\__HTL\\CompendiumMatura\\venv\\Lib\\site-packages\\wand\\resource.py:225\u001b[0m, in \u001b[0;36mResource.raise_exception\u001b[1;34m(self, stacklevel)\u001b[0m\n\u001b[0;32m    223\u001b[0m     warnings\u001b[39m.\u001b[39mwarn(e, stacklevel\u001b[39m=\u001b[39mstacklevel \u001b[39m+\u001b[39m \u001b[39m1\u001b[39m)\n\u001b[0;32m    224\u001b[0m \u001b[39melif\u001b[39;00m \u001b[39misinstance\u001b[39m(e, \u001b[39mException\u001b[39;00m):\n\u001b[1;32m--> 225\u001b[0m     \u001b[39mraise\u001b[39;00m e\n",
      "\u001b[1;31mDelegateError\u001b[0m: Postscript delegate failed `[ghostscript library 10.01] -q -dQUIET -dSAFER -dBATCH -dNOPAUSE -dNOPROMPT -dMaxBitmap=500000000 -dAlignToPixels=0 -dGridFitTT=2 \"-sDEVICE=pngalpha\" -dTextAlphaBits=4 -dGraphicsAlphaBits=4 \"-r72x72\" -dPrinted=false -dFirstPage=1 -dLastPage=1 \"-sOutputFile=C:/Users/danst/AppData/Local/Temp/magick-YlAfVYk-fIZBhjkMbMqeCs7D4tFnywN6%d\" \"-fC:/Users/danst/AppData/Local/Temp/magick-U3ULw_jeB-DFrn45DyAkPV8VDzrKqtwi\" \"-fC:/Users/danst/AppData/Local/Temp/magick-baQ5EOtppPT8Zo-juelLL5PsvnPiK_E0\"': Error: /undefined in https:\nOperand stack:\n   (3010)\nExecution stack:\n   %interp_exit   .runexec2   --nostringval--   --nostringval--   --nostringval--   2   %stopped_push   --nostringval--   --nostringval--   --nostringval--   false   1   %stopped_push   1990   1   3   %oparray_pop   1989   1   3   %oparray_pop   1977   1   3   %oparray_pop   1833   1   3   %oparray_pop   --nostringval--   %errorexec_pop   .runexec2   --nostringval--   --nostringval--   --nostringval--   2   %stopped_push   --nostringval--\nDictionary stack:\n   --dict:776/1123(ro)(G)--   --dict:0/20(G)--   --dict:75/200(L)--\nCurrent allocation mode is local\nCurrent file position is 14\nGPL Ghostscript 10.01.1: Unrecoverable error, exit code 1\n @ error/ghostscript-private.h/InvokeGhostscriptDelegate/184"
     ]
    }
   ],
   "source": [
    "img = WImage(filename=os.path.join(os.getcwd(), 'mtrs_media', 'uf_diags_real.pdf[0]'))\n",
    "library.MagickSetCompressionQuality(img.wand, 75)"
   ]
  },
  {
   "cell_type": "markdown",
   "metadata": {},
   "source": [
    "### Berechnung der relevanten Größe"
   ]
  },
  {
   "cell_type": "markdown",
   "metadata": {},
   "source": [
    "$f = \\frac{1}{T} = \\frac{1}{2t} = \\frac{U_m}{4R_4 C \\alpha U_{a, max}}$"
   ]
  },
  {
   "cell_type": "markdown",
   "metadata": {},
   "source": [
    "### Anwendungsbeispiele"
   ]
  },
  {
   "cell_type": "markdown",
   "metadata": {},
   "source": [
    "## DMS-Messbrücke"
   ]
  },
  {
   "cell_type": "markdown",
   "metadata": {
    "jp-MarkdownHeadingCollapsed": true,
    "tags": []
   },
   "source": [
    "### Schaltungen\n"
   ]
  },
  {
   "cell_type": "code",
   "execution_count": 15,
   "metadata": {
    "ExecuteTime": {
     "end_time": "2023-04-16T21:45:56.358226Z",
     "start_time": "2023-04-16T21:45:51.908233Z"
    },
    "collapsed": false,
    "jupyter": {
     "outputs_hidden": false
    },
    "tags": [
     "hide-input"
    ]
   },
   "outputs": [
    {
     "ename": "DelegateError",
     "evalue": "Postscript delegate failed `[ghostscript library 10.01] -q -dQUIET -dSAFER -dBATCH -dNOPAUSE -dNOPROMPT -dMaxBitmap=500000000 -dAlignToPixels=0 -dGridFitTT=2 \"-sDEVICE=pngalpha\" -dTextAlphaBits=4 -dGraphicsAlphaBits=4 \"-r72x72\" -dPrinted=false -dFirstPage=1 -dLastPage=1 \"-sOutputFile=C:/Users/danst/AppData/Local/Temp/magick-aEGSNhv8Q09NZ7QGfAQdMuLrv6y60ksQ%d\" \"-fC:/Users/danst/AppData/Local/Temp/magick-_sSteg7uslgbhiuws5jvtarwRtUgIMVv\" \"-fC:/Users/danst/AppData/Local/Temp/magick-J0Xt2BGUCT-gChldThlQGhTLyS-gOggd\"': Error: /undefined in https:\nOperand stack:\n   (3010)\nExecution stack:\n   %interp_exit   .runexec2   --nostringval--   --nostringval--   --nostringval--   2   %stopped_push   --nostringval--   --nostringval--   --nostringval--   false   1   %stopped_push   1990   1   3   %oparray_pop   1989   1   3   %oparray_pop   1977   1   3   %oparray_pop   1833   1   3   %oparray_pop   --nostringval--   %errorexec_pop   .runexec2   --nostringval--   --nostringval--   --nostringval--   2   %stopped_push   --nostringval--\nDictionary stack:\n   --dict:776/1123(ro)(G)--   --dict:0/20(G)--   --dict:75/200(L)--\nCurrent allocation mode is local\nCurrent file position is 14\nGPL Ghostscript 10.01.1: Unrecoverable error, exit code 1\n @ error/ghostscript-private.h/InvokeGhostscriptDelegate/184",
     "output_type": "error",
     "traceback": [
      "\u001b[1;31m---------------------------------------------------------------------------\u001b[0m",
      "\u001b[1;31mDelegateError\u001b[0m                             Traceback (most recent call last)",
      "Cell \u001b[1;32mIn[15], line 3\u001b[0m\n\u001b[0;32m      1\u001b[0m \u001b[39m#WImage(filename=os.path.join(os.getcwd(), 'mtrs_media', 'dms_cir.pdf'))\u001b[39;00m\n\u001b[1;32m----> 3\u001b[0m WImage(filename\u001b[39m=\u001b[39;49m\u001b[39m\"\u001b[39;49m\u001b[39mmtrs_media/dms_cir.pdf[0]\u001b[39;49m\u001b[39m\"\u001b[39;49m)\n",
      "File \u001b[1;32mc:\\Users\\danst\\Documents\\__HTL\\CompendiumMatura\\venv\\Lib\\site-packages\\wand\\image.py:9365\u001b[0m, in \u001b[0;36mImage.__init__\u001b[1;34m(self, image, blob, file, filename, pseudo, background, colorspace, depth, extract, format, height, interlace, resolution, sampling_factors, units, width)\u001b[0m\n\u001b[0;32m   9363\u001b[0m     \u001b[39mself\u001b[39m\u001b[39m.\u001b[39mread(blob\u001b[39m=\u001b[39mblob)\n\u001b[0;32m   9364\u001b[0m \u001b[39melif\u001b[39;00m filename \u001b[39mis\u001b[39;00m \u001b[39mnot\u001b[39;00m \u001b[39mNone\u001b[39;00m:\n\u001b[1;32m-> 9365\u001b[0m     \u001b[39mself\u001b[39;49m\u001b[39m.\u001b[39;49mread(filename\u001b[39m=\u001b[39;49mfilename)\n\u001b[0;32m   9366\u001b[0m \u001b[39m# clear the wand format, otherwise any subsequent call to\u001b[39;00m\n\u001b[0;32m   9367\u001b[0m \u001b[39m# MagickGetImageBlob will silently change the image to this\u001b[39;00m\n\u001b[0;32m   9368\u001b[0m \u001b[39m# format again.\u001b[39;00m\n\u001b[0;32m   9369\u001b[0m library\u001b[39m.\u001b[39mMagickSetFormat(\u001b[39mself\u001b[39m\u001b[39m.\u001b[39mwand, binary(\u001b[39m\"\u001b[39m\u001b[39m\"\u001b[39m))\n",
      "File \u001b[1;32mc:\\Users\\danst\\Documents\\__HTL\\CompendiumMatura\\venv\\Lib\\site-packages\\wand\\image.py:10120\u001b[0m, in \u001b[0;36mImage.read\u001b[1;34m(self, file, filename, blob, background, colorspace, depth, extract, format, height, interlace, resolution, sampling_factors, units, width)\u001b[0m\n\u001b[0;32m  10118\u001b[0m     r \u001b[39m=\u001b[39m library\u001b[39m.\u001b[39mMagickReadImage(\u001b[39mself\u001b[39m\u001b[39m.\u001b[39mwand, filename)\n\u001b[0;32m  10119\u001b[0m \u001b[39mif\u001b[39;00m \u001b[39mnot\u001b[39;00m r:\n\u001b[1;32m> 10120\u001b[0m     \u001b[39mself\u001b[39;49m\u001b[39m.\u001b[39;49mraise_exception()\n\u001b[0;32m  10121\u001b[0m     msg \u001b[39m=\u001b[39m (\u001b[39m'\u001b[39m\u001b[39mMagickReadImage returns false, but did not raise \u001b[39m\u001b[39m'\u001b[39m\n\u001b[0;32m  10122\u001b[0m            \u001b[39m'\u001b[39m\u001b[39mImageMagick  exception. This can occur when a delegate \u001b[39m\u001b[39m'\u001b[39m\n\u001b[0;32m  10123\u001b[0m            \u001b[39m'\u001b[39m\u001b[39mis missing, or returns EXIT_SUCCESS without generating a \u001b[39m\u001b[39m'\u001b[39m\n\u001b[0;32m  10124\u001b[0m            \u001b[39m'\u001b[39m\u001b[39mraster.\u001b[39m\u001b[39m'\u001b[39m)\n\u001b[0;32m  10125\u001b[0m     \u001b[39mraise\u001b[39;00m WandRuntimeError(msg)\n",
      "File \u001b[1;32mc:\\Users\\danst\\Documents\\__HTL\\CompendiumMatura\\venv\\Lib\\site-packages\\wand\\resource.py:225\u001b[0m, in \u001b[0;36mResource.raise_exception\u001b[1;34m(self, stacklevel)\u001b[0m\n\u001b[0;32m    223\u001b[0m     warnings\u001b[39m.\u001b[39mwarn(e, stacklevel\u001b[39m=\u001b[39mstacklevel \u001b[39m+\u001b[39m \u001b[39m1\u001b[39m)\n\u001b[0;32m    224\u001b[0m \u001b[39melif\u001b[39;00m \u001b[39misinstance\u001b[39m(e, \u001b[39mException\u001b[39;00m):\n\u001b[1;32m--> 225\u001b[0m     \u001b[39mraise\u001b[39;00m e\n",
      "\u001b[1;31mDelegateError\u001b[0m: Postscript delegate failed `[ghostscript library 10.01] -q -dQUIET -dSAFER -dBATCH -dNOPAUSE -dNOPROMPT -dMaxBitmap=500000000 -dAlignToPixels=0 -dGridFitTT=2 \"-sDEVICE=pngalpha\" -dTextAlphaBits=4 -dGraphicsAlphaBits=4 \"-r72x72\" -dPrinted=false -dFirstPage=1 -dLastPage=1 \"-sOutputFile=C:/Users/danst/AppData/Local/Temp/magick-aEGSNhv8Q09NZ7QGfAQdMuLrv6y60ksQ%d\" \"-fC:/Users/danst/AppData/Local/Temp/magick-_sSteg7uslgbhiuws5jvtarwRtUgIMVv\" \"-fC:/Users/danst/AppData/Local/Temp/magick-J0Xt2BGUCT-gChldThlQGhTLyS-gOggd\"': Error: /undefined in https:\nOperand stack:\n   (3010)\nExecution stack:\n   %interp_exit   .runexec2   --nostringval--   --nostringval--   --nostringval--   2   %stopped_push   --nostringval--   --nostringval--   --nostringval--   false   1   %stopped_push   1990   1   3   %oparray_pop   1989   1   3   %oparray_pop   1977   1   3   %oparray_pop   1833   1   3   %oparray_pop   --nostringval--   %errorexec_pop   .runexec2   --nostringval--   --nostringval--   --nostringval--   2   %stopped_push   --nostringval--\nDictionary stack:\n   --dict:776/1123(ro)(G)--   --dict:0/20(G)--   --dict:75/200(L)--\nCurrent allocation mode is local\nCurrent file position is 14\nGPL Ghostscript 10.01.1: Unrecoverable error, exit code 1\n @ error/ghostscript-private.h/InvokeGhostscriptDelegate/184"
     ]
    }
   ],
   "source": [
    "#WImage(filename=os.path.join(os.getcwd(), 'mtrs_media', 'dms_cir.pdf'))\n",
    "\n",
    "WImage(filename=\"mtrs_media/dms_cir.pdf[0]\")"
   ]
  },
  {
   "cell_type": "markdown",
   "metadata": {
    "jp-MarkdownHeadingCollapsed": true,
    "tags": []
   },
   "source": [
    "### OPV-Verstärkerschaltung"
   ]
  },
  {
   "cell_type": "markdown",
   "metadata": {},
   "source": [
    "![](mtrs_media/differential_amp.png)"
   ]
  },
  {
   "cell_type": "markdown",
   "metadata": {
    "jp-MarkdownHeadingCollapsed": true,
    "tags": []
   },
   "source": [
    "### Berechnung/Herleitung der Ausgangsgröße"
   ]
  },
  {
   "cell_type": "markdown",
   "metadata": {},
   "source": [
    "$U_{1} = U_B = U_{e2} - U_{e1} \\wedge$\n",
    "\n",
    "$I_{12} = \\frac{U_1}{R_1} = \\frac{U_{Diff}}{R_1 + 2R_2}\\wedge$\n",
    "\n",
    "$U_a = (U'_{e1} - U'_{e2}) \\Rightarrow U_a = U_diff$\n",
    "\n",
    "$\\therefore U_a = \\left(1 + \\frac{2R_2}{R_1}\\right)\\cdot (U_{e2} - U_{e2})$...Differenz der Potentiale zwischen 2 Punkten"
   ]
  },
  {
   "cell_type": "markdown",
   "metadata": {
    "jp-MarkdownHeadingCollapsed": true,
    "tags": []
   },
   "source": [
    "### Biasstromkompensation"
   ]
  },
  {
   "cell_type": "markdown",
   "metadata": {},
   "source": []
  },
  {
   "cell_type": "markdown",
   "metadata": {
    "jp-MarkdownHeadingCollapsed": true,
    "tags": []
   },
   "source": [
    "# Signalaufbereitung"
   ]
  },
  {
   "cell_type": "markdown",
   "metadata": {
    "jp-MarkdownHeadingCollapsed": true,
    "tags": []
   },
   "source": [
    "## Digitale Verarbeitungskette"
   ]
  },
  {
   "cell_type": "markdown",
   "metadata": {
    "jp-MarkdownHeadingCollapsed": true,
    "tags": []
   },
   "source": [
    "### Anti Aliasing Filter"
   ]
  },
  {
   "cell_type": "markdown",
   "metadata": {},
   "source": [
    "Um zu verhindern, dass das Abtasttheorem verletzt wird, werden Anti-Aliasing Filter verwendet.\n",
    "Diese verhindern, \n",
    "    dass die Signalfrequenz höher ist als die Maximal erlaubte"
   ]
  },
  {
   "cell_type": "code",
   "execution_count": null,
   "metadata": {
    "ExecuteTime": {
     "end_time": "2023-04-16T21:45:56.359226Z",
     "start_time": "2023-04-16T21:45:52.253910Z"
    },
    "tags": [
     "hide-input"
    ]
   },
   "outputs": [],
   "source": [
    "with schemdraw.Drawing() as d:\n",
    "    d += elm.ResistorIEC().length(2).idot(open=True).dot()\n",
    "    d.push()\n",
    "    d += elm.Capacitor().down().length(1.5)\n",
    "    d += elm.Ground()\n",
    "    d.pop()\n",
    "    \n",
    "    d += elm.Line().length(1).dot(open=True)"
   ]
  },
  {
   "cell_type": "markdown",
   "metadata": {
    "jp-MarkdownHeadingCollapsed": true,
    "tags": []
   },
   "source": [
    "### S&H Glied"
   ]
  },
  {
   "cell_type": "markdown",
   "metadata": {},
   "source": [
    "Für die AD-Umwandlung muss das Eingangssignal konstant Gehalten werden. \n",
    "Dafür werden **S**ample und **H**old Glieder verwendet"
   ]
  },
  {
   "cell_type": "code",
   "execution_count": null,
   "metadata": {
    "ExecuteTime": {
     "end_time": "2023-04-16T21:45:56.359226Z",
     "start_time": "2023-04-16T21:45:52.314085Z"
    },
    "tags": [
     "hide-input"
    ]
   },
   "outputs": [],
   "source": [
    "with schemdraw.Drawing() as d:\n",
    "    d += elm.Switch().idot(open=True)\n",
    "    d += elm.ResistorIEC().length(2).dot()\n",
    "    d.push()\n",
    "    d += elm.Capacitor().down().length(2)\n",
    "    d += elm.Ground()\n",
    "    d.pop()\n",
    "    \n",
    "    d += elm.Line().length(1).dot(open=True)"
   ]
  },
  {
   "cell_type": "markdown",
   "metadata": {
    "jp-MarkdownHeadingCollapsed": true,
    "tags": []
   },
   "source": [
    "### Abtasttheorem"
   ]
  },
  {
   "cell_type": "markdown",
   "metadata": {},
   "source": [
    "Die Abtastfrequenz muss mindestens doppelt so hoch sein wie die Signalfrequenz.\n",
    "\n",
    "Wenn das Abtasttheorem verletzt wird, \n",
    "    so werden die hohen Frequenzanteile als niedrigere aufgefasst,\n",
    "    welche das Signal verzerren"
   ]
  },
  {
   "cell_type": "markdown",
   "metadata": {},
   "source": [
    "### Umsetzungskennlinien"
   ]
  },
  {
   "cell_type": "markdown",
   "metadata": {
    "jp-MarkdownHeadingCollapsed": true,
    "tags": []
   },
   "source": [
    "## AD-Wandler"
   ]
  },
  {
   "cell_type": "markdown",
   "metadata": {
    "jp-MarkdownHeadingCollapsed": true,
    "tags": []
   },
   "source": [
    "### Sukzessive Approximationsverfahren"
   ]
  },
  {
   "cell_type": "markdown",
   "metadata": {
    "jp-MarkdownHeadingCollapsed": true,
    "tags": []
   },
   "source": [
    "#### Schaltung"
   ]
  },
  {
   "cell_type": "code",
   "execution_count": null,
   "metadata": {
    "ExecuteTime": {
     "end_time": "2023-04-16T21:45:56.359226Z",
     "start_time": "2023-04-16T21:45:52.370259Z"
    },
    "tags": [
     "hide-input"
    ]
   },
   "outputs": [],
   "source": [
    "SAR = elm.Ic(pins=[\n",
    "        elm.IcPin(side='top', anchorname='SH'),\n",
    "        elm.IcPin(name='Start', side='top'),\n",
    "        elm.IcPin(name='Reset', side='top'),\n",
    "        elm.IcPin(anchorname='in', side='left'),\n",
    "        elm.IcPin(name='Finished', side='right'),\n",
    "        elm.IcPin(anchorname='out', side='bottom')\n",
    "    ],\n",
    "    edgepadW= .5,\n",
    "    pinspacing=1\n",
    ").label('SAR', 'center')\n",
    "#display(SAR)"
   ]
  },
  {
   "cell_type": "code",
   "execution_count": null,
   "metadata": {
    "ExecuteTime": {
     "end_time": "2023-04-16T21:45:56.360228Z",
     "start_time": "2023-04-16T21:45:52.375956Z"
    },
    "tags": [
     "hide-input"
    ]
   },
   "outputs": [],
   "source": [
    "DA_conv = elm.Ic(\n",
    "    pins=[\n",
    "        elm.IcPin(side='left', name='in'),\n",
    "        elm.IcPin(side='right', name='out'),\n",
    "        elm.IcPin(side='top', anchorname='ref')\n",
    "    ],\n",
    "    edgepadW = 2\n",
    ").label('DA-Wandler', 'center')\n",
    "#display(DA_conv)"
   ]
  },
  {
   "cell_type": "code",
   "execution_count": null,
   "metadata": {
    "ExecuteTime": {
     "end_time": "2023-04-16T21:45:56.360228Z",
     "start_time": "2023-04-16T21:45:52.384177Z"
    },
    "tags": [
     "hide-input"
    ]
   },
   "outputs": [],
   "source": [
    "SH = elm.Ic(\n",
    "    pins=[\n",
    "        elm.IcPin(side='left', anchorname='in'),\n",
    "        elm.IcPin(side='right', anchorname='out'),\n",
    "        elm.IcPin(side='top', anchorname='trigger')\n",
    "    ]\n",
    ").label('S and H', 'center')\n",
    "#display(SH)"
   ]
  },
  {
   "cell_type": "code",
   "execution_count": null,
   "metadata": {
    "ExecuteTime": {
     "end_time": "2023-04-16T21:45:56.360228Z",
     "start_time": "2023-04-16T21:45:52.409538Z"
    },
    "tags": [
     "hide-input"
    ]
   },
   "outputs": [],
   "source": [
    "with schemdraw.Drawing() as d:\n",
    "    d += elm.Dot(open=True)\n",
    "    d += elm.Line()\n",
    "    d += SH.anchor('in').drop('out')\n",
    "    d += elm.Line().length(1)\n",
    "    d += (cmp := elm.Opamp().flip().anchor('in2'))\n",
    "    d += SAR.anchor('in')\n",
    "    d.here = SAR.out\n",
    "    d += elm.Line().down().length(1)\n",
    "    d.push()\n",
    "    d += elm.Line().left().length(1)\n",
    "    d += DA_conv.anchor('in')\n",
    "    d += elm.Line().at(DA_conv.out).left().length(1)\n",
    "    \n",
    "    d.push()\n",
    "    d += (g1 := elm.Ground().at((d.here[0], d.here[1]-1)))\n",
    "    d.pop()\n",
    "    d.push()\n",
    "    d += (elm.Line(arrow='->').at((d.here[0]-.2, d.here[1]-.1)).to((d.here[0]-.2, g1.start[1]+.1))\n",
    "          .label('$U(Z)$'))\n",
    "    d.pop()\n",
    "    d += elm.Wire('|-').to(cmp.in1)\n",
    "    \n",
    "    d.pop()\n",
    "    d += elm.Dot()\n",
    "    d += elm.Line(arrow='->').right().label('Z, of n lines')\n",
    "    \n",
    "    \n",
    "    d += elm.Wire('n').at(SAR.SH).to(SH.trigger)\n",
    "    \n",
    "    d += elm.Line(arrow='->').at(SAR.Finished).right().length(.5)\n",
    "    d += elm.Line(arrow='<-').at(SAR.Start).up().length(.5)\n",
    "    d += elm.Line(arrow='<-').at(SAR.Reset).up().length(.5)\n",
    "    \n",
    "    d += (ref := elm.SourceControlledV().reverse()\n",
    "          .at(DA_conv.ref).down())\n",
    "    d += elm.CurrentLabel().reverse().at(ref).label('$U_{ref}$')\n",
    "    d += elm.Ground()"
   ]
  },
  {
   "cell_type": "markdown",
   "metadata": {
    "jp-MarkdownHeadingCollapsed": true,
    "tags": []
   },
   "source": [
    "#### Funktionsprinzip"
   ]
  },
  {
   "cell_type": "markdown",
   "metadata": {},
   "source": [
    "1. Die Bits des SAR (**S**ukkzessive ***A**pprox **R**egister) sind alle auf 0\n",
    "    Man hat einen Zeiger auf ein Bit, \n",
    "        welches am Anfang auf das **MSB** zeigt.\n",
    "2. Das Bit des Zeigers wird auf 1 gesetzt,\n",
    "3. Über einen DA-Wandler wird der Ausgang wieder zu einer analogen Spannung gewandelt.\n",
    "4. Wenn die Spannung nun größer als die Eingangsspannung ist,\n",
    "    wird das Bit wieder auf 0 gesetzt\n",
    "   Ansonsten bleibt es auf 1.  \n",
    "5. Wenn der Zeiger noch nicht das **LSB** erreicht hat,\n",
    "       geht er um eine stelle zum nächsten weniger Werten Bit.\n",
    "   Wenn der Zeiger das LSB erreicht hat, \n",
    "       so ist die Wandlung beendet und das *Finished*-Flag wird auf 1 gesetzt\n",
    "       \n",
    "Laufzeit: $O(log~n)$"
   ]
  },
  {
   "cell_type": "markdown",
   "metadata": {
    "jp-MarkdownHeadingCollapsed": true,
    "tags": []
   },
   "source": [
    "#### Diagramme"
   ]
  },
  {
   "cell_type": "markdown",
   "metadata": {},
   "source": [
    "Beispiel mit n=4 Bit und $U_e = 10.7V$, der Wert des LSB Beträgt $1V$ (MSB=> $8V$)"
   ]
  },
  {
   "cell_type": "code",
   "execution_count": null,
   "metadata": {
    "ExecuteTime": {
     "end_time": "2023-04-16T21:45:56.361279Z",
     "start_time": "2023-04-16T21:45:52.568968Z"
    },
    "tags": [
     "hide-input"
    ]
   },
   "outputs": [],
   "source": [
    "plt.figure(1)\n",
    "plt.plot([-.1, 1], [10.7, 10.7])\n",
    "plt.plot([-.1, 0,\n",
    "         0, 0.2,\n",
    "         0.2, .4,\n",
    "         .4, .6,\n",
    "         .6, .8,\n",
    "         .8, 1],\n",
    "        [0, 0,\n",
    "        8, 8,\n",
    "        12, 12,\n",
    "        10, 10,\n",
    "        11, 11,\n",
    "        10, 10])\n",
    "\n",
    "plt.xlim([-.1, 1])\n",
    "plt.ylim([0, 15])\n",
    "plt.xticks([])\n",
    "plt.show()"
   ]
  },
  {
   "cell_type": "markdown",
   "metadata": {
    "jp-MarkdownHeadingCollapsed": true,
    "tags": []
   },
   "source": [
    "#### Herleitungen"
   ]
  },
  {
   "cell_type": "markdown",
   "metadata": {},
   "source": [
    "$U(z) = U_{ref}\\cdot\\frac{t}{t_{max} +1}\\cdot U_e$  \n",
    "$Z = \\frac{Z_{max} + 1}{U_{ref}} \\cdot U_e$"
   ]
  },
  {
   "cell_type": "markdown",
   "metadata": {
    "tags": []
   },
   "source": [
    "### Single Slope:"
   ]
  },
  {
   "cell_type": "markdown",
   "metadata": {
    "jp-MarkdownHeadingCollapsed": true,
    "tags": []
   },
   "source": [
    "#### Schaltung"
   ]
  },
  {
   "cell_type": "markdown",
   "metadata": {},
   "source": [
    "![](https://referate.mezdata.de/sj2006/09analogdigitalwandlung_danielerkert/res-wikipedia/single_slope_dac.png)\n",
    "\n",
    "*Bei uns S&H Glied am Eingang*\n",
    "*= kann bei uns ein \\& sein*"
   ]
  },
  {
   "cell_type": "markdown",
   "metadata": {
    "jp-MarkdownHeadingCollapsed": true,
    "tags": []
   },
   "source": [
    "#### Funktionsprinzip"
   ]
  },
  {
   "cell_type": "markdown",
   "metadata": {},
   "source": [
    "- Es wird ein Sägezahn mit dem Eingang und mit Ground verglichen.\n",
    "- Wenn der Sägezahn größer 0 ist und kleiner als das Eingangssignals \n",
    "    so ist das Und Gatter der Beiden Komparatoren HIGH.\n",
    "  Durch ein UND Gatter mit einem Clock Signal, \n",
    "    wird dieses nur in diesen Zeitraum durchgelassen.\n",
    "- Bei jeder durchgelassenen Clockflanke zählt ein Counter nach oben."
   ]
  },
  {
   "cell_type": "markdown",
   "metadata": {
    "jp-MarkdownHeadingCollapsed": true,
    "tags": []
   },
   "source": [
    "#### Diagramme"
   ]
  },
  {
   "cell_type": "code",
   "execution_count": null,
   "metadata": {
    "ExecuteTime": {
     "end_time": "2023-04-16T21:45:56.361279Z",
     "start_time": "2023-04-16T21:45:52.665459Z"
    },
    "tags": [
     "hide-input"
    ]
   },
   "outputs": [],
   "source": [
    "fig, (ax1, ax2, ax3, ax4) = plt.subplots(4, 1)\n",
    "\n",
    "fig.set_size_inches(10, 10)\n",
    "\n",
    "ax1.plot([-.2, 0, 1, 1, 1.1], [-1, -1, 10, -.5, -.5])\n",
    "ax1.plot([-.2, 1.1], [2, 2])\n",
    "ax1.plot([-.2, 1.1], [0, 0], color='black')\n",
    "ax1.set_yticklabels([])\n",
    "\n",
    "ax2.plot([-.2, .3, .3, 1, 1, 1.1], [1, 1, 0, 0, 1, 1])\n",
    "ax2.set_ylabel('$U_{k1}$')\n",
    "\n",
    "ax3.plot([-.2,.1 ,.1, 1.1], [0, 0, 1, 1])\n",
    "ax3.set_ylabel('$U_{k2}$')\n",
    "\n",
    "ax4.plot([-.2, .1, .1, .3, .3, 1.1], [0, 0, 1, 1, 0, 0])\n",
    "ax4.set_ylabel('$U_y$')"
   ]
  },
  {
   "cell_type": "markdown",
   "metadata": {},
   "source": [
    "#### Herleitungen"
   ]
  },
  {
   "cell_type": "markdown",
   "metadata": {},
   "source": [
    "$N = \\Delta t \\cdot f_{clk}$"
   ]
  },
  {
   "cell_type": "markdown",
   "metadata": {
    "jp-MarkdownHeadingCollapsed": true,
    "tags": []
   },
   "source": [
    "### Dual Slope:"
   ]
  },
  {
   "cell_type": "markdown",
   "metadata": {
    "jp-MarkdownHeadingCollapsed": true,
    "tags": []
   },
   "source": [
    "#### Schaltung"
   ]
  },
  {
   "cell_type": "markdown",
   "metadata": {},
   "source": [
    "![](http://www.vias.org/mikroelektronik/img/adcdslp.png)"
   ]
  },
  {
   "cell_type": "markdown",
   "metadata": {
    "jp-MarkdownHeadingCollapsed": true,
    "tags": []
   },
   "source": [
    "#### Funktionsprinzip"
   ]
  },
  {
   "cell_type": "markdown",
   "metadata": {},
   "source": [
    "- Es wird nach der Eingangsspannung invers für die Zeit $t_1$ Integriert\n",
    "- Danach wird nach einer Referenzspannung nach oben integriert ($-$\\&$-$ $\\Rightarrow~~+$)\n",
    "- Während des 2. Integrierens zählt ein Counter nach oben,\n",
    "    dieser Vorgang wird abgebrochen, wenn der Integrierte Wert $~0$ erreicht (Komparator)\n",
    "\n",
    "**WICHTIG:** $t_1$ ist konstant \n",
    "\n",
    "Da die Flächen gleich sind, fallen die $RC$ Komponenten weg, wodurch man nicht von Bauteildriften betroffen ist."
   ]
  },
  {
   "cell_type": "markdown",
   "metadata": {
    "jp-MarkdownHeadingCollapsed": true,
    "tags": []
   },
   "source": [
    "#### Diagramme"
   ]
  },
  {
   "cell_type": "markdown",
   "metadata": {},
   "source": [
    "![](https://ars.els-cdn.com/content/image/3-s2.0-B9780750687034000067-f06-81-9780750687034.gif)"
   ]
  },
  {
   "cell_type": "markdown",
   "metadata": {
    "jp-MarkdownHeadingCollapsed": true,
    "tags": []
   },
   "source": [
    "#### Herleitungen"
   ]
  },
  {
   "cell_type": "markdown",
   "metadata": {},
   "source": [
    "Die Fläche unter beiden Analogwerten ist gleich.\n",
    "\n",
    "$-\\frac{1}{RC} \\int_0^{t_1} U_e dt = -\\frac{1}{RC} \\int_{t_1}^{t_2 + t_1} U_{ref}dt$  \n",
    "$U_e\\cdot t_1 = U_{ref}\\cdot t_1 + U_{ref}\\cdot t_2 - U_{ref}\\cdot t_1$  \n",
    "$U_e\\cdot t_1 = U_{ref} \\cdot t_2$  \n",
    "$t_1 = 2^n\\cdot T_{clk} \\wedge t_2 \\cdot Z\\cdot T_{clk}$  \n",
    "$U_e \\cdot 2^n \\cdot T_{clk} = U_{ref}\\cdot Z \\cdot T_{clk}$  \n",
    "$Z = \\frac{U_e}{U_{ref}} \\cdot (Z_{max} + 1)$"
   ]
  },
  {
   "cell_type": "markdown",
   "metadata": {
    "jp-MarkdownHeadingCollapsed": true,
    "tags": []
   },
   "source": [
    "### Zählverfahren"
   ]
  },
  {
   "cell_type": "markdown",
   "metadata": {
    "jp-MarkdownHeadingCollapsed": true,
    "tags": []
   },
   "source": [
    "#### Schaltung"
   ]
  },
  {
   "cell_type": "code",
   "execution_count": null,
   "metadata": {
    "ExecuteTime": {
     "end_time": "2023-04-16T21:45:56.361279Z",
     "start_time": "2023-04-16T21:45:53.157400Z"
    },
    "tags": [
     "hide-input"
    ]
   },
   "outputs": [],
   "source": [
    "DA_conv = elm.Ic(\n",
    "    pins=[\n",
    "        elm.IcPin(side='left', name='in'),\n",
    "        elm.IcPin(side='right', name='out'),\n",
    "        elm.IcPin(side='top', anchorname='ref')\n",
    "    ],\n",
    "    edgepadW = 2\n",
    ").label('DA-Wandler', 'center')"
   ]
  },
  {
   "cell_type": "code",
   "execution_count": null,
   "metadata": {
    "ExecuteTime": {
     "end_time": "2023-04-16T21:45:56.361279Z",
     "start_time": "2023-04-16T21:45:53.164056Z"
    },
    "tags": [
     "hide-input"
    ]
   },
   "outputs": [],
   "source": [
    "SH = elm.Ic(\n",
    "    pins=[\n",
    "        elm.IcPin(side='left', anchorname='in'),\n",
    "        elm.IcPin(side='right', anchorname='out'),\n",
    "    ]\n",
    ").label('S and H', 'center')"
   ]
  },
  {
   "cell_type": "code",
   "execution_count": null,
   "metadata": {
    "ExecuteTime": {
     "end_time": "2023-04-16T21:45:56.361279Z",
     "start_time": "2023-04-16T21:45:53.178368Z"
    },
    "tags": [
     "hide-input"
    ]
   },
   "outputs": [],
   "source": [
    "counter = elm.Ic(\n",
    "    pins=[\n",
    "        elm.IcPin(side='left', anchorname='in'),\n",
    "        elm.IcPin(side='bottom', anchorname='out'),\n",
    "        elm.IcPin(name='clk<', side='right', anchorname='clk'),\n",
    "        elm.IcPin(name='reset', side='top')\n",
    "    ], edgepadW=2.25\n",
    ").label('n-bit counter', 'center')\n",
    "#display(counter)"
   ]
  },
  {
   "cell_type": "code",
   "execution_count": null,
   "metadata": {
    "ExecuteTime": {
     "end_time": "2023-04-16T21:45:56.361279Z",
     "start_time": "2023-04-16T21:45:53.189209Z"
    },
    "tags": [
     "hide-input"
    ]
   },
   "outputs": [],
   "source": [
    "with schemdraw.Drawing() as d:\n",
    "    d += elm.Dot(open=True)\n",
    "    d += elm.Line()\n",
    "    d += SH.anchor('in').drop('out')\n",
    "    d += elm.Line().length(1)\n",
    "    d += (cmp := elm.Opamp().anchor('in2').flip())\n",
    "    d += elm.Line().length(1)\n",
    "    \n",
    "    d += counter.anchor('in')\n",
    "    d += elm.Line().at(counter.out).down().length(2)\n",
    "    d.push()\n",
    "    d += elm.Line().left().length(1)\n",
    "    d += DA_conv.anchor('in').drop('out')\n",
    "    d += elm.Line().left()\n",
    "    \n",
    "    d.push()\n",
    "    d += (g1 := elm.Ground().at((d.here[0], d.here[1]-1)))\n",
    "    d.pop()\n",
    "    d.push()\n",
    "    d += (elm.Line(arrow='->').at((d.here[0]-.2, d.here[1]-.1)).to((d.here[0]-.2, g1.start[1]+.1))\n",
    "          .label('$U(Z)$'))\n",
    "    d.pop()\n",
    "    d += elm.Wire('|-').to(cmp.in1)\n",
    "    \n",
    "    d += (ref := elm.SourceControlledV().reverse()\n",
    "          .at(DA_conv.ref).down().length(2))\n",
    "    d += elm.CurrentLabel().reverse().at(ref).label('$U_{ref}$')\n",
    "    d += elm.Ground()\n",
    "    \n",
    "    d.pop()\n",
    "    d += elm.Dot()\n",
    "    d += elm.Line(arrow='->').right().label('Z')"
   ]
  },
  {
   "cell_type": "markdown",
   "metadata": {
    "jp-MarkdownHeadingCollapsed": true,
    "tags": []
   },
   "source": [
    "#### Funktionsprinzip"
   ]
  },
  {
   "cell_type": "markdown",
   "metadata": {},
   "source": [
    "Solange der DA gewandelte wert von Z kleiner als U_e ist (Komparator gibt $0$ aus),\n",
    "    zählt der Counter nach oben.\n",
    "Wenn der Wert größer als U_e ist (Komparator gibt $0$ aus).\n",
    "    so zählt der Counter nach unten.\n",
    "    Laufzeit: $O(2^n)$\n",
    "    \n",
    "Wenn sich der Eingang um weniger als $U_{LSB}\\cdot f_{clk} \\equiv \\frac{[V]}{[s]}$ ändert,\n",
    "    so kann das S\\&H Glied weggelassen werden.\n",
    "Dadurch folgt der Ausgangswert dem Eingangswert."
   ]
  },
  {
   "cell_type": "markdown",
   "metadata": {
    "jp-MarkdownHeadingCollapsed": true,
    "tags": []
   },
   "source": [
    "#### Diagramme"
   ]
  },
  {
   "cell_type": "code",
   "execution_count": null,
   "metadata": {
    "ExecuteTime": {
     "end_time": "2023-04-16T21:45:56.361279Z",
     "start_time": "2023-04-16T21:45:53.379091Z"
    },
    "tags": [
     "hide-input"
    ]
   },
   "outputs": [],
   "source": [
    "fig, ax = plt.subplots(1,1)\n",
    "ax.plot([-.1, 1.2], [8.7, 8.7])\n",
    "\n",
    "ax.plot([\n",
    "    -.1, .1,\n",
    "    .1, .2,\n",
    "    .2, .3,\n",
    "    .3, .4,\n",
    "    .4, .5,\n",
    "    .5, .6,\n",
    "    .6, .7,\n",
    "    .7, .8,\n",
    "    .8, .9,\n",
    "    .9, 1,\n",
    "    1, 1.1,\n",
    "    1.1, 1.2 \n",
    "],[\n",
    "    0, 0,\n",
    "    1, 1,\n",
    "    2, 2,\n",
    "    3, 3,\n",
    "    4, 4, \n",
    "    5, 5,\n",
    "    6, 6,\n",
    "    7, 7,\n",
    "    8, 8,\n",
    "    9, 9,\n",
    "    8, 8,\n",
    "    9, 9\n",
    "])"
   ]
  },
  {
   "cell_type": "markdown",
   "metadata": {
    "jp-MarkdownHeadingCollapsed": true,
    "tags": []
   },
   "source": [
    "## DA-Wandler"
   ]
  },
  {
   "cell_type": "markdown",
   "metadata": {
    "jp-MarkdownHeadingCollapsed": true,
    "tags": []
   },
   "source": [
    "### R2R-Netzwerk"
   ]
  },
  {
   "cell_type": "code",
   "execution_count": null,
   "metadata": {
    "ExecuteTime": {
     "end_time": "2023-04-16T21:45:56.362785Z",
     "start_time": "2023-04-16T21:45:53.506237Z"
    },
    "tags": [
     "hide-input"
    ]
   },
   "outputs": [],
   "source": [
    "with schemdraw.Drawing() as d:\n",
    "    d.push()\n",
    "    d += (ref := elm.SourceControlledV().down())\n",
    "    d += elm.CurrentLabel().reverse().at(ref).label('$R_{ref}$')\n",
    "    d += elm.Ground()\n",
    "    d.pop()\n",
    "    \n",
    "    zs = []\n",
    "    N = 4\n",
    "    for i in range(N-1, -1, -1):\n",
    "        d += elm.Line().dot().length(2)\n",
    "        d.push()\n",
    "        nr = 2**(N-i)\n",
    "        d += elm.ResistorIEC().down().label(f'${nr}R$')\n",
    "        d += (z := elm.SwitchSpdt2().down().label(f'$Z_{i}$'))\n",
    "        zs.append(z)\n",
    "        d.pop()\n",
    "    \n",
    "    prev = None\n",
    "    for z in zs:\n",
    "        d += elm.Line().at(z.b).down().dot().length(1)\n",
    "        if not prev:\n",
    "            d.push()\n",
    "            prev = d.here\n",
    "            continue\n",
    "        d += elm.Line().to(prev)\n",
    "        prev = d.here\n",
    "    d.pop()\n",
    "    d += elm.Line().left().length(2)\n",
    "    d += elm.Line().down().length(.5)\n",
    "    d += elm.Ground()\n",
    "    \n",
    "    zs.reverse()\n",
    "    prev = None\n",
    "    for z in zs:\n",
    "        d += elm.Line().at(z.c).down().dot().length(2)\n",
    "        if not prev:\n",
    "            prev = d.here\n",
    "            continue\n",
    "        d += elm.Line().to(prev)\n",
    "        prev = d.here\n",
    "    \n",
    "    d += elm.Line().length(1.5).dot()\n",
    "    loop = d.here\n",
    "    d += elm.Line().length(.5)\n",
    "    d += (amp := elm.Opamp().anchor('in1'))\n",
    "    d += elm.Line().length(.5).dot()\n",
    "    \n",
    "    d.push()\n",
    "    d += elm.Line().up().length(2)\n",
    "    d += elm.ResistorIEC().left().label('$R_F$')\n",
    "    d += elm.Wire('-|').to(loop)\n",
    "    d.pop()\n",
    "    \n",
    "    d += elm.Line().length(1)\n",
    "    d += elm.Dot(open=True)\n",
    "    d += elm.Gap().down().label(('+', '$U_a$','-')).length(2)\n",
    "    d += elm.Dot(open=True)\n",
    "    d += elm.Ground()"
   ]
  },
  {
   "cell_type": "markdown",
   "metadata": {
    "jp-MarkdownHeadingCollapsed": true,
    "tags": []
   },
   "source": [
    "### Prinzip der gewichteten Ströme"
   ]
  },
  {
   "cell_type": "markdown",
   "metadata": {},
   "source": [
    "Nach Überlagerungs-Prinzip Summe von jeden einzelnen Pfad.\n",
    "\n",
    "$U_a = -U_{ref}\\cdot \\left(Z_3\\cdot\\frac{R_F}{2R} + Z_2\\cdot\\frac{R_F}{4R} + Z_1\\cdot\\frac{R_F}{8R} + Z_0\\cdot\\frac{R_F}{16R}\\right)$  \n",
    "$U_a = -U_{ref} \\cdot \\frac{R_F}{16R}\\cdot (8\\cdot Z_3 + 4\\cdot Z_2 + 2 \\cdot Z_1 + Z_0)$  \n",
    "In dieser Form gut einsehbar, jeder Schalter representiert ein Bit.  \n",
    "$\\forall Z_i \\in \\{0, 1\\}$  \n",
    "$U_a = -U_{ref} \\cdot\\frac{R_F}{16R}\\cdot Z = -U_{ref}\\cdot\\frac{R_F}{R}\\cdot \\frac{Z}{Z_{max}  +1}$\n",
    "\n",
    "Strom ist unabhängig von Z.  \n",
    "$I'  = U_{ref} \\cdot \\frac{Z}{Z_{max} + 1}\\cdot \\frac{1}{R}$  \n",
    "$I'' = \\frac{U_{ref}}{R}\\cdot \\frac{Z_{max} - Z}{Z_{max} + 1}$\n",
    "\n",
    "$I = I' + I''$  \n",
    "nicht von $Z$ abhängig"
   ]
  },
  {
   "cell_type": "markdown",
   "metadata": {
    "jp-MarkdownHeadingCollapsed": true,
    "tags": []
   },
   "source": [
    "### Inverses R2R-Netzwerk"
   ]
  },
  {
   "cell_type": "code",
   "execution_count": null,
   "metadata": {
    "ExecuteTime": {
     "end_time": "2023-04-16T21:45:56.372010Z",
     "start_time": "2023-04-16T21:45:53.925783Z"
    },
    "tags": [
     "hide-input"
    ]
   },
   "outputs": [],
   "source": [
    "with schemdraw.Drawing() as d:\n",
    "    d.push()\n",
    "    d += elm.ResistorIEC().down().length(2).label('$2R$')\n",
    "    d += elm.Ground()\n",
    "    d.pop()\n",
    "    \n",
    "    zs = []\n",
    "    N = 4\n",
    "    for i in range(N):\n",
    "        if not (i == 0):\n",
    "            d += elm.ResistorIEC().dot().length(2).label('R')\n",
    "        else:\n",
    "            d += elm.Line().dot().length(2)\n",
    "        d.push()\n",
    "        d += elm.ResistorIEC().down().label(f'$2R$')\n",
    "        d += (z := elm.SwitchSpdt2().down().label(f'$Z_{i}$'))\n",
    "        zs.append(z)\n",
    "        d.pop()\n",
    "    d.push()\n",
    "    \n",
    "    prev = None\n",
    "    for z in zs:\n",
    "        d += elm.Line().at(z.b).down().dot().length(1)\n",
    "        if not prev:\n",
    "            d.push()\n",
    "            prev = d.here\n",
    "            continue\n",
    "        d += elm.Line().to(prev)\n",
    "        prev = d.here\n",
    "    d.pop()\n",
    "    d += elm.Line().left().length(2)\n",
    "    d += (ref := elm.SourceControlledV().down().length(2))\n",
    "    d += elm.CurrentLabel().at(ref).reverse().label('$U_{ref}$')\n",
    "    d += elm.Ground()\n",
    "    \n",
    "    prev = None\n",
    "    for z in zs:\n",
    "        d += elm.Line().at(z.c).down().dot().length(2)\n",
    "        if not prev:\n",
    "            d.push()\n",
    "            prev = d.here\n",
    "            continue\n",
    "        d += elm.Line().to(prev)\n",
    "        prev = d.here\n",
    "    d.pop()\n",
    "    d += elm.Ground()\n",
    "    \n",
    "    d.pop()\n",
    "    d += elm.Line().length(2).dot()\n",
    "    d.push()\n",
    "    d += elm.ResistorIEC().down().label('$2R$')\n",
    "    d += elm.Ground()\n",
    "    d.pop()\n",
    "    \n",
    "    d += elm.Line().length(1.5)\n",
    "    d += (amp := elm.Opamp().anchor('in2').flip())\n",
    "    d += elm.Line().at(amp.out).length(1).dot()\n",
    "    \n",
    "    d.push()\n",
    "    d += elm.ResistorIEC().down().length(2.5).dot().label('$R_2$')\n",
    "    d.push()\n",
    "    d += elm.Line().left().length(4)\n",
    "    d += elm.Wire('|-').to(amp.in1)\n",
    "    d.pop()\n",
    "    \n",
    "    d += elm.ResistorIEC().down().length(2.5).label('$R_1$')\n",
    "    d += elm.Ground()\n",
    "    d.pop()\n",
    "    d += elm.Line().length(1)\n",
    "    d += elm.Gap().down().label(('+', '$U_a$', '-')).dot(open=True).idot(open=True)\n",
    "    d += elm.Ground()"
   ]
  },
  {
   "cell_type": "markdown",
   "metadata": {},
   "source": [
    "Bei Überlagerung alle Werte bis zum Schalter kollabieren zu 2R\n",
    "\n",
    "Durch Teilung danach,\n",
    "    $\\varphi_+ = Z_3 \\cdot \\frac{U_{ref}}{3} + Z_2 \\cdot \\frac{U_{ref}}{6} + Z_1 \\cdot \\frac{U_{ref}}{12} + Z_0 \\cdot \\frac{U_{ref}}{24}$  \n",
    "$\\varphi_+ = \\frac{U_{ref}}{24} \\cdot (8 \\cdot Z_3 + 4 \\cdot Z_2 +  2 \\cdot Z_1 + Z_0)$   \n",
    "$\\varphi_+ = \\frac{U_{ref}}{24}\\cdot Z = \\frac{16}{16}\\cdot \\frac{U_{ref}}{24}\\cdot Z$  \n",
    "\n",
    "$U_a = \\frac{U_{ref}}{3}\\cdot \\frac{Z}{Z_{max}} \\cdot \\left(1 + \\frac{R_2}{R_1} \\right)$"
   ]
  },
  {
   "cell_type": "markdown",
   "metadata": {
    "jp-MarkdownHeadingCollapsed": true,
    "tags": []
   },
   "source": [
    "# Industrielle Anwenung"
   ]
  },
  {
   "cell_type": "markdown",
   "metadata": {
    "jp-MarkdownHeadingCollapsed": true,
    "tags": []
   },
   "source": [
    "## Bustopologie und Zugriffsverfahren"
   ]
  },
  {
   "cell_type": "markdown",
   "metadata": {},
   "source": [
    "### Bustopologievarianten"
   ]
  },
  {
   "cell_type": "markdown",
   "metadata": {},
   "source": [
    "### Master-Slave-Prinzip"
   ]
  },
  {
   "cell_type": "markdown",
   "metadata": {},
   "source": [
    "### CSMA/CD"
   ]
  },
  {
   "cell_type": "markdown",
   "metadata": {},
   "source": [
    "### CSMA/CA"
   ]
  },
  {
   "cell_type": "markdown",
   "metadata": {},
   "source": [
    "### Wired-AND"
   ]
  },
  {
   "cell_type": "markdown",
   "metadata": {
    "jp-MarkdownHeadingCollapsed": true,
    "tags": []
   },
   "source": [
    "## Serielle Schnittstelle"
   ]
  },
  {
   "cell_type": "markdown",
   "metadata": {},
   "source": [
    "### RS232"
   ]
  },
  {
   "cell_type": "markdown",
   "metadata": {},
   "source": [
    "### Störeinflüsse"
   ]
  },
  {
   "cell_type": "markdown",
   "metadata": {},
   "source": [
    "### Differenzielle Datenübertragung"
   ]
  },
  {
   "cell_type": "markdown",
   "metadata": {},
   "source": [
    "### Twistet-Pair"
   ]
  },
  {
   "cell_type": "markdown",
   "metadata": {
    "jp-MarkdownHeadingCollapsed": true,
    "tags": []
   },
   "source": [
    "## MAX-232-Ladungspumpenprinzip"
   ]
  },
  {
   "cell_type": "markdown",
   "metadata": {
    "jp-MarkdownHeadingCollapsed": true,
    "tags": []
   },
   "source": [
    "## Datensicherungsverfahren"
   ]
  },
  {
   "cell_type": "markdown",
   "metadata": {},
   "source": [
    "### Paritätsbit"
   ]
  },
  {
   "cell_type": "markdown",
   "metadata": {},
   "source": [
    "### Hamming-Distanz"
   ]
  },
  {
   "cell_type": "markdown",
   "metadata": {
    "jp-MarkdownHeadingCollapsed": true,
    "tags": []
   },
   "source": [
    "## CRC (Cycle Redundancy Check)"
   ]
  },
  {
   "cell_type": "markdown",
   "metadata": {},
   "source": [
    "### Grundprinzip"
   ]
  },
  {
   "cell_type": "markdown",
   "metadata": {},
   "source": [
    "### Generatorpolynom"
   ]
  },
  {
   "cell_type": "markdown",
   "metadata": {},
   "source": [
    "### Rechnenprinzip"
   ]
  },
  {
   "cell_type": "markdown",
   "metadata": {},
   "source": [
    "### Fehlererkennung"
   ]
  },
  {
   "cell_type": "markdown",
   "metadata": {
    "jp-MarkdownHeadingCollapsed": true,
    "tags": []
   },
   "source": [
    "## I2C"
   ]
  },
  {
   "cell_type": "markdown",
   "metadata": {},
   "source": [
    "### Spezifikation"
   ]
  },
  {
   "cell_type": "markdown",
   "metadata": {},
   "source": [
    "### Adressierung"
   ]
  },
  {
   "cell_type": "markdown",
   "metadata": {},
   "source": [
    "### Wired-AND"
   ]
  },
  {
   "cell_type": "markdown",
   "metadata": {},
   "source": [
    "### Datanübertragunsrahmen"
   ]
  },
  {
   "cell_type": "markdown",
   "metadata": {},
   "source": [
    "### Ablauf Datensenden und Datenempfang"
   ]
  },
  {
   "cell_type": "markdown",
   "metadata": {},
   "source": [
    "### Busarbitrierung"
   ]
  },
  {
   "cell_type": "markdown",
   "metadata": {
    "jp-MarkdownHeadingCollapsed": true,
    "tags": []
   },
   "source": [
    "## Can"
   ]
  },
  {
   "cell_type": "markdown",
   "metadata": {},
   "source": [
    "### Spezifikation"
   ]
  },
  {
   "cell_type": "markdown",
   "metadata": {},
   "source": [
    "### Adressierung"
   ]
  },
  {
   "cell_type": "markdown",
   "metadata": {},
   "source": [
    "### Wired-AND"
   ]
  },
  {
   "cell_type": "markdown",
   "metadata": {},
   "source": [
    "### Datanübertragunsrahmen"
   ]
  },
  {
   "cell_type": "markdown",
   "metadata": {},
   "source": [
    "### Ablauf Datensenden und Datenempfang"
   ]
  },
  {
   "cell_type": "markdown",
   "metadata": {},
   "source": [
    "### Busarbitrierung"
   ]
  },
  {
   "cell_type": "markdown",
   "metadata": {},
   "source": [
    "### Physikalische und Strukturelle Fehlererkennungsmasnahmen"
   ]
  },
  {
   "cell_type": "markdown",
   "metadata": {},
   "source": [
    "### Bit-Stuffing"
   ]
  },
  {
   "cell_type": "markdown",
   "metadata": {},
   "source": [
    "## OSI-ISO-Modell für Schnittstellen"
   ]
  },
  {
   "cell_type": "markdown",
   "metadata": {
    "jp-MarkdownHeadingCollapsed": true,
    "tags": []
   },
   "source": [
    "# Regelungstechnik"
   ]
  },
  {
   "cell_type": "code",
   "execution_count": 14,
   "metadata": {
    "tags": [
     "hide-input"
    ]
   },
   "outputs": [],
   "source": [
    "def create_block(text:str='',*, wpadding=1.5):\n",
    "    return elm.Ic(\n",
    "        pins=[\n",
    "            elm.IcPin(side='L', anchorname='in1'),\n",
    "            elm.IcPin(side='R', anchorname='out')\n",
    "        ], edgepadW=wpadding\n",
    "    ).label(text, 'center').anchor('in1').drop('out')\n",
    "\n",
    "#display(create_block('$IT1$-Element'))"
   ]
  },
  {
   "cell_type": "markdown",
   "metadata": {
    "jp-MarkdownHeadingCollapsed": true,
    "tags": []
   },
   "source": [
    "## Regelkreis"
   ]
  },
  {
   "cell_type": "markdown",
   "metadata": {},
   "source": [
    "### Standardregelkreis"
   ]
  },
  {
   "cell_type": "markdown",
   "metadata": {},
   "source": [
    "### Blockschaltbild"
   ]
  },
  {
   "cell_type": "markdown",
   "metadata": {},
   "source": [
    "### Bestimmung Sprungantwort"
   ]
  },
  {
   "cell_type": "markdown",
   "metadata": {},
   "source": [
    "### Ü-Funktion zwischen Ausgängen und Eingängen von Regelkreisen"
   ]
  },
  {
   "cell_type": "markdown",
   "metadata": {},
   "source": [
    "### Beschreibung im Zeit- und Frequenzbereich"
   ]
  },
  {
   "cell_type": "markdown",
   "metadata": {},
   "source": [
    "### Rückwirkungsfreiheit "
   ]
  },
  {
   "cell_type": "markdown",
   "metadata": {
    "jp-MarkdownHeadingCollapsed": true,
    "tags": []
   },
   "source": [
    "## Übertragungsfunktion"
   ]
  },
  {
   "cell_type": "markdown",
   "metadata": {
    "jp-MarkdownHeadingCollapsed": true,
    "tags": []
   },
   "source": [
    "## Laplace-Transformation"
   ]
  },
  {
   "cell_type": "markdown",
   "metadata": {},
   "source": [
    "### Vorgehensweise bei Systemantwort (Sprungantwort)"
   ]
  },
  {
   "cell_type": "markdown",
   "metadata": {},
   "source": [
    "### Anwendung von AWT, EWT"
   ]
  },
  {
   "cell_type": "markdown",
   "metadata": {},
   "source": [
    "### Partialbruchzerlegung für $\\mathscr{L}^{-1}$"
   ]
  },
  {
   "cell_type": "markdown",
   "metadata": {},
   "source": [
    "### Inverse Laplace-Transformation mittels Transformationstabelle"
   ]
  },
  {
   "cell_type": "markdown",
   "metadata": {
    "jp-MarkdownHeadingCollapsed": true,
    "tags": []
   },
   "source": [
    "## RT-Modelle der OPV-Grundschaltung"
   ]
  },
  {
   "cell_type": "markdown",
   "metadata": {},
   "source": [
    "### Inv. und nicht inv OPV-Verstärker"
   ]
  },
  {
   "cell_type": "markdown",
   "metadata": {},
   "source": [
    "### Bestimmung der OPV-Verstärkung"
   ]
  },
  {
   "cell_type": "markdown",
   "metadata": {},
   "source": [
    "### Auswirkung auf die Regelabweichung"
   ]
  },
  {
   "cell_type": "markdown",
   "metadata": {
    "jp-MarkdownHeadingCollapsed": true,
    "tags": []
   },
   "source": [
    "## Zusammengesetzte Frequenzgänge "
   ]
  },
  {
   "cell_type": "markdown",
   "metadata": {},
   "source": [
    "### Knickzug vom Amplituden- und Phasengang"
   ]
  },
  {
   "cell_type": "markdown",
   "metadata": {},
   "source": [
    "### Zerlegung von Übertragungsfunktionen in Grundglieder"
   ]
  },
  {
   "cell_type": "markdown",
   "metadata": {},
   "source": [
    "### Rekonstruktion von $G(s)$ aus Amplitudenverlauf"
   ]
  },
  {
   "cell_type": "markdown",
   "metadata": {},
   "source": [
    "## Grundglieder"
   ]
  },
  {
   "cell_type": "markdown",
   "metadata": {},
   "source": [
    "### I"
   ]
  },
  {
   "cell_type": "markdown",
   "metadata": {
    "jp-MarkdownHeadingCollapsed": true,
    "tags": []
   },
   "source": [
    "#### Übertragungsfunktion"
   ]
  },
  {
   "cell_type": "markdown",
   "metadata": {},
   "source": [
    "$G(s) = \\frac{1}{s}$"
   ]
  },
  {
   "cell_type": "markdown",
   "metadata": {
    "jp-MarkdownHeadingCollapsed": true,
    "tags": []
   },
   "source": [
    "#### Sprungantwort"
   ]
  },
  {
   "cell_type": "markdown",
   "metadata": {},
   "source": [
    "$U_a(s) = \\frac{1}{s} \\cdot U_e = \\frac{1}{s}\\cdot \\frac{1}{s} = \\frac{1}{s^2}$\n",
    "\n",
    "$u_a(t) = t$"
   ]
  },
  {
   "cell_type": "markdown",
   "metadata": {
    "jp-MarkdownHeadingCollapsed": true,
    "tags": []
   },
   "source": [
    "#### Bode-Diagramm"
   ]
  },
  {
   "cell_type": "markdown",
   "metadata": {
    "tags": []
   },
   "source": [
    "$G(i\\omega) = \\frac{1}{T_1\\cdot i\\omega}$\n",
    "\n",
    "#### Amplitudengang\n",
    "\n",
    "$|G(s)| = \\frac{1}{\\omega}$\n",
    "\n",
    "$log|G(s)| = - 20\\cdot log(s)$\n",
    "\n",
    "#### Phasengang\n",
    "\n",
    "$arg(G(s)) = 0 - \\frac{\\pi}{2} = 0- 90°$"
   ]
  },
  {
   "cell_type": "code",
   "execution_count": null,
   "metadata": {
    "ExecuteTime": {
     "end_time": "2023-04-16T22:06:06.277846Z",
     "start_time": "2023-04-16T22:06:05.205770Z"
    },
    "collapsed": false,
    "jupyter": {
     "outputs_hidden": false
    },
    "tags": [
     "hide-input"
    ]
   },
   "outputs": [],
   "source": [
    "fig, (amp, phase) = plt.subplots(2, 1)\n",
    "fig.tight_layout(pad=5.0)\n",
    "\n",
    "t = np.logspace(-3, +3, num=20, base=10)\n",
    "\n",
    "amp.plot(t, -20*np.log10(t))\n",
    "amp.set_xscale('log')\n",
    "amp.set_xlim(1e-3, 1e+3)\n",
    "amp.set_title('Amplitudengang')\n",
    "\n",
    "phase.plot(t, np.fromiter((-90 for _ in t), t.dtype))\n",
    "phase.set_xscale('log')\n",
    "phase.set_xlim(1e-3, 1e+3)\n",
    "phase.set_title('Phasengang')\n",
    "phase.set_ylim(-180, 180)\n",
    "phase.set_yticks([180, 90, 0, -90, -180])\n",
    ";"
   ]
  },
  {
   "cell_type": "markdown",
   "metadata": {},
   "source": [
    "#### OPV-Schaltung"
   ]
  },
  {
   "cell_type": "code",
   "execution_count": null,
   "metadata": {
    "ExecuteTime": {
     "end_time": "2023-04-16T22:11:18.118971Z",
     "start_time": "2023-04-16T22:11:18.031978Z"
    },
    "collapsed": false,
    "jupyter": {
     "outputs_hidden": false
    },
    "tags": [
     "hide-input"
    ]
   },
   "outputs": [],
   "source": [
    "with schemdraw.Drawing() as d:\n",
    "    d += elm.ResistorIEC().dot().idot(open=True).label('R').label('$U_e$', 'L')\n",
    "    tmp = d.here\n",
    "    d += elm.Line().length(1)\n",
    "    d += (amp := elm.Opamp().anchor('in1').drop('out'))\n",
    "\n",
    "    d += elm.Line().right().length(1).dot()\n",
    "    d.push()\n",
    "    d += elm.Line().up().length(2)\n",
    "    d += elm.Capacitor().left().label('C')\n",
    "    d += elm.Wire('-|').to(tmp)\n",
    "    d.pop()\n",
    "    d += elm.Line().length(2).dot(open=True).label('$U_a$', 'R')\n",
    "\n",
    "    d += elm.Line().left().length(1).at(amp.in2)\n",
    "    d += elm.Ground()"
   ]
  },
  {
   "cell_type": "markdown",
   "metadata": {},
   "source": [
    "### P"
   ]
  },
  {
   "cell_type": "markdown",
   "metadata": {},
   "source": [
    "### Übertragungsfunktion\n",
    "\n",
    "$G(s) = k$"
   ]
  },
  {
   "cell_type": "markdown",
   "metadata": {},
   "source": [
    "#### Sprungantwort\n",
    "\n",
    "$U_a(s) = k\\cdot\\frac{1}{s}$\n",
    "\n",
    "$u_a(t) = k\\cdot \\sigma(t)$"
   ]
  },
  {
   "cell_type": "markdown",
   "metadata": {},
   "source": [
    "#### Bodediagramm\n",
    "\n",
    "$G(i\\omega) = k$\n",
    "\n",
    "#### Amplitudengang\n",
    "\n",
    "$|G(s)| = k$\n",
    "\n",
    "$log|G(s)| = - 20\\cdot log(k)$\n",
    "\n",
    "#### Phasengang\n",
    "\n",
    "$arg(G(s)) = 0$"
   ]
  },
  {
   "cell_type": "code",
   "execution_count": null,
   "metadata": {
    "ExecuteTime": {
     "end_time": "2023-04-16T22:18:23.348139Z",
     "start_time": "2023-04-16T22:18:22.423430Z"
    },
    "collapsed": false,
    "jupyter": {
     "outputs_hidden": false
    },
    "tags": [
     "hide-input"
    ]
   },
   "outputs": [],
   "source": [
    "\n",
    "fig, (amp, phase) = plt.subplots(2, 1)\n",
    "fig.tight_layout(pad=5.0)\n",
    "\n",
    "t = np.logspace(-3, +3, num=20, base=10)\n",
    "\n",
    "amp.plot(t, np.fromiter((20*np.log10(10) for _ in t), dtype=t.dtype))\n",
    "amp.set_xscale('log')\n",
    "amp.set_xlim(1e-3, 1e+3)\n",
    "amp.set_ylim(-0.1, 30)\n",
    "amp.set_title('Amplitudengang, k=10')\n",
    "\n",
    "phase.plot(t, np.fromiter((0 for _ in t), t.dtype))\n",
    "phase.set_xscale('log')\n",
    "phase.set_xlim(1e-3, 1e+3)\n",
    "phase.set_title('Phasengang')\n",
    "phase.set_ylim(-180, 180)\n",
    "phase.set_yticks([180, 90, 0, -90, -180])\n"
   ]
  },
  {
   "cell_type": "markdown",
   "metadata": {},
   "source": [
    "#### OPV-Schaltung"
   ]
  },
  {
   "cell_type": "code",
   "execution_count": null,
   "metadata": {
    "ExecuteTime": {
     "end_time": "2023-04-16T22:20:05.330320Z",
     "start_time": "2023-04-16T22:20:05.212768Z"
    },
    "collapsed": false,
    "jupyter": {
     "outputs_hidden": false
    },
    "tags": [
     "hide-input"
    ]
   },
   "outputs": [],
   "source": [
    "with schemdraw.Drawing() as d:\n",
    "    d += elm.ResistorIEC().dot().idot(open=True).label('$R_1$').label('$U_e$', 'L')\n",
    "    tmp = d.here\n",
    "    d += elm.Line().length(1)\n",
    "    d += (amp := elm.Opamp().anchor('in1').drop('out'))\n",
    "\n",
    "    d += elm.Line().right().length(1).dot()\n",
    "    d.push()\n",
    "    d += elm.Line().up().length(2)\n",
    "    d += elm.ResistorIEC().left().label('$R_2$')\n",
    "    d += elm.Wire('-|').to(tmp)\n",
    "    d.pop()\n",
    "    d += elm.Line().length(2).dot(open=True).label('$U_a$', 'R')\n",
    "\n",
    "    d += elm.Line().left().length(1).at(amp.in2)\n",
    "    d += elm.Ground()\n"
   ]
  },
  {
   "cell_type": "markdown",
   "metadata": {},
   "source": [
    "### D"
   ]
  },
  {
   "cell_type": "markdown",
   "metadata": {},
   "source": [
    "### Übertragungsfunktion\n",
    "\n",
    "$G(s) = T_1\\cdot s$"
   ]
  },
  {
   "cell_type": "markdown",
   "metadata": {},
   "source": [
    "#### Sprungantwort\n",
    "\n",
    "$U_a(s) = T_1\\cdot s\\cdot\\frac{1}{s}$\n",
    "\n",
    "$u_a(t) = k\\cdot \\delta(t)$"
   ]
  },
  {
   "cell_type": "markdown",
   "metadata": {},
   "source": [
    "#### Bodediagramm\n",
    "\n",
    "$G(i\\omega) = T_1 \\cdot i\\omega$\n",
    "\n",
    "#### Amplitudengang\n",
    "\n",
    "$|G(s)| = T_1\\cdot\\omega$\n",
    "\n",
    "$log|G(s)| = - 20\\cdot log(T_1\\cdot\\omega)$\n",
    "\n",
    "#### Phasengang\n",
    "\n",
    "$arg(G(s)) = 90°$"
   ]
  },
  {
   "cell_type": "code",
   "execution_count": null,
   "metadata": {
    "ExecuteTime": {
     "end_time": "2023-04-16T22:24:08.965220Z",
     "start_time": "2023-04-16T22:24:07.827038Z"
    },
    "collapsed": false,
    "jupyter": {
     "outputs_hidden": false
    },
    "tags": [
     "hide-input"
    ]
   },
   "outputs": [],
   "source": [
    "\n",
    "fig, (amp, phase) = plt.subplots(2, 1)\n",
    "fig.tight_layout(pad=5.0)\n",
    "\n",
    "t = np.logspace(-3, +3, num=20, base=10)\n",
    "\n",
    "amp.plot(t, 20*np.log10(t))\n",
    "amp.set_xscale('log')\n",
    "amp.set_xlim(1e-3, 1e+3)\n",
    "amp.set_title('Amplitudengang, k=10')\n",
    "\n",
    "phase.plot(t, np.fromiter((90 for _ in t), t.dtype))\n",
    "phase.set_xscale('log')\n",
    "phase.set_xlim(1e-3, 1e+3)\n",
    "phase.set_title('Phasengang')\n",
    "phase.set_ylim(-180, 180)\n",
    "phase.set_yticks([180, 90, 0, -90, -180])\n"
   ]
  },
  {
   "cell_type": "markdown",
   "metadata": {},
   "source": [
    "#### OPV-Schaltung"
   ]
  },
  {
   "cell_type": "code",
   "execution_count": null,
   "metadata": {
    "ExecuteTime": {
     "end_time": "2023-04-16T22:24:32.107287Z",
     "start_time": "2023-04-16T22:24:31.982672Z"
    },
    "collapsed": false,
    "jupyter": {
     "outputs_hidden": false
    },
    "tags": [
     "hide-input"
    ]
   },
   "outputs": [],
   "source": [
    "with schemdraw.Drawing() as d:\n",
    "    d += elm.Capacitor().dot().idot(open=True).label('$C$').label('$U_e$', 'L')\n",
    "    tmp = d.here\n",
    "    d += elm.Line().length(1)\n",
    "    d += (amp := elm.Opamp().anchor('in1').drop('out'))\n",
    "\n",
    "    d += elm.Line().right().length(1).dot()\n",
    "    d.push()\n",
    "    d += elm.Line().up().length(2)\n",
    "    d += elm.ResistorIEC().left().label('$R_2$')\n",
    "    d += elm.Wire('-|').to(tmp)\n",
    "    d.pop()\n",
    "    d += elm.Line().length(2).dot(open=True).label('$U_a$', 'R')\n",
    "\n",
    "    d += elm.Line().left().length(1).at(amp.in2)\n",
    "    d += elm.Ground()\n"
   ]
  },
  {
   "cell_type": "markdown",
   "metadata": {},
   "source": [
    "### PT1, PI, PD, DT1 Zusammen"
   ]
  },
  {
   "cell_type": "markdown",
   "metadata": {},
   "source": [
    "|                    | PT1                                                 | PD                                     | PI                                                           | DT1                                                         |\n",
    "|--------------------|-----------------------------------------------------|----------------------------------------|--------------------------------------------------------------|-------------------------------------------------------------|\n",
    "| $G(s)$             | $k\\cdot\\frac{1}{1 + T_1\\cdot s}$                    | $k\\cdot(1 + T_1\\cdot s)$              | $k\\cdot\\frac{T_1\\cdot s + 1}{T_1 \\cdot s}$                   | $k\\cdot\\frac{T_1\\cdot s}{1+T_1\\cdot s}$                     |\n",
    "| $\\|G(i\\omega)\\|$   | $\\|k\\|\\cdot\\frac{1}{\\sqrt{1 + T_1^2\\cdot\\omega^2}}$ | $k\\cdot\\sqrt{1 + T_1^2\\cdot \\omega^2}$ | $\\|k\\|\\cdot\\frac{\\sqrt{1 + T_1^2\\omega^2}}{T_1\\cdot \\omega}$ | $\\|k\\|\\cdot\\frac{T_1\\cdot\\omega}{\\sqrt{1 + T_1^2\\omega^2}}$ |\n",
    "| $arg(G(i\\omega)\\|$ | $0 - arctan(T_1\\omega)$                             | $arctan(T_1\\cdot\\omega)$               | $arctan(T_1\\cdot\\omega)-90°$                                 | $90°-arctan(T_1\\cdot\\omega)$                                |"
   ]
  },
  {
   "cell_type": "markdown",
   "metadata": {},
   "source": [
    "### Amplitudengang für Name"
   ]
  },
  {
   "cell_type": "markdown",
   "metadata": {},
   "source": [
    "Beim Verbinden von zwei Punkten durch den Mittelpunkt,\n",
    "    ergibt sich der Amplitudengang für das Regelelement für die dazugehörigen Buchstaben,\n",
    "    von dieser Form kann $G(s)$ hergeleitet werden und von dieser der Rest"
   ]
  },
  {
   "cell_type": "code",
   "execution_count": null,
   "metadata": {
    "ExecuteTime": {
     "end_time": "2023-04-16T22:47:45.164110Z",
     "start_time": "2023-04-16T22:47:44.954789Z"
    },
    "collapsed": false,
    "jupyter": {
     "outputs_hidden": false
    },
    "tags": [
     "hide-input"
    ]
   },
   "outputs": [
    {
     "data": {
      "text/plain": [
       "(-3.5, 3.5)"
      ]
     },
     "execution_count": 33,
     "metadata": {},
     "output_type": "execute_result"
    },
    {
     "data": {
      "image/png": "[encoded data removed]",
      "text/plain": [
       "<Figure size 640x480 with 1 Axes>"
      ]
     },
     "metadata": {},
     "output_type": "display_data"
    }
   ],
   "source": [
    "fig, ax = plt.subplots()\n",
    "\n",
    "ax.text(-3.3,  3, 'P')\n",
    "ax.text(-3.3,  0, 'P')\n",
    "ax.text(-3.3, -3, 'D')\n",
    "\n",
    "\n",
    "ax.text(3.1,  3, 'D')\n",
    "ax.text(3.1,  0, '$T_1~$/I')\n",
    "ax.text(3.1, -3, '$T_1$')\n",
    "\n",
    "ax.text(0, 0, 'Midpoint')\n",
    "\n",
    "ax.scatter([-3,-3,-3, 0, 3, 3, 3], [3, 0, -3, 0, 3, 0, -3])\n",
    "\n",
    "ax.set_xlim(-4, 4)\n",
    "ax.set_ylim(-3.5, 3.5)"
   ]
  },
  {
   "cell_type": "markdown",
   "metadata": {},
   "source": [
    "### Sprungantwort"
   ]
  },
  {
   "cell_type": "markdown",
   "metadata": {},
   "source": [
    "Man nimmt $G(s)$, $G(s) = \\frac{U_a(s)}{U_e(s)}$, wenn dies nun auf $U_a(s)$ Umgeformt wird so ergibt sich $U_a(s) = G(s)\\cdot U_e(s)$.\n",
    "\n",
    "Um die Sprungantwort zu berechnen wir in das Regelglied $U_e(s) = \\frac{1}{s}$ geschickt.\n",
    "Dadurch ergibt sich: $U_a(s) = G(s)\\cdot\\frac{1}{s}$.\n",
    "Hier muss man nun für $G(s)$, für das entsprechende Regelelement einsetzen und anschließend Rücktransformieren."
   ]
  },
  {
   "cell_type": "markdown",
   "metadata": {},
   "source": [
    "### OPV-Schaltung"
   ]
  },
  {
   "cell_type": "markdown",
   "metadata": {},
   "source": [
    "Die Form des Amplitudenganges über den unteren Graphen legen und die nächste Vertikale Linie nehmen, \n",
    "Wenn diese näher an Seriell ist so sind Capazität und Widerstand in Serie geschaltet, \n",
    "    bei Parallel, Parallel.\n",
    "Wenn der Linie zu Output geht so ist die Verschaltung von Widerstand und Kapazität am Ausgangspfad\n",
    "    und wenn nächer bei Input beim Eingang."
   ]
  },
  {
   "cell_type": "code",
   "execution_count": 13,
   "metadata": {
    "tags": [
     "hide-input"
    ]
   },
   "outputs": [
    {
     "data": {
      "text/plain": [
       "(-3.3, 3.3, -3.3, 3.3)"
      ]
     },
     "execution_count": 13,
     "metadata": {},
     "output_type": "execute_result"
    },
    {
     "data": {
      "image/png": "[encoded data removed]",
      "text/plain": [
       "<Figure size 640x480 with 1 Axes>"
      ]
     },
     "metadata": {},
     "output_type": "display_data"
    }
   ],
   "source": [
    "fig, ax = plt.subplots()\n",
    "\n",
    "ax.plot([-1, -3], [0, 3], color=\"dodgerblue\")\n",
    "ax.plot([-1, -3], [0, -3], color=\"dodgerblue\")\n",
    "\n",
    "ax.plot([-3, 1], [3, 3], color=\"dodgerblue\")\n",
    "ax.plot([-3, 1], [-3, -3], color=\"dodgerblue\")\n",
    "ax.plot([-1, 3], [0, 0], color=\"dodgerblue\")\n",
    "\n",
    "ax.plot([1, 3], [3, 0], color=\"dodgerblue\")\n",
    "ax.plot([1, 3], [-3, 0], color=\"dodgerblue\")\n",
    "\n",
    "ax.text(0, 1, 'Output')\n",
    "ax.text(0, -1, 'Input')\n",
    "ax.text(-2, 0, 'Seriell')\n",
    "ax.text(3.2, 0, 'Parallel')\n",
    "\n",
    "\n",
    "ax.set_yticks([])\n",
    "ax.set_xticks([])\n",
    "ax.axis('off')"
   ]
  },
  {
   "cell_type": "markdown",
   "metadata": {},
   "source": [
    "### IT1"
   ]
  },
  {
   "cell_type": "markdown",
   "metadata": {},
   "source": [
    "Zusammengesetzt aus einem I- und einem PT1-Regler.\n",
    "\n",
    "Amplitudengänge addieren sich im logarithmischen Bereich.\n",
    "Und Phasengänge Addieren sich.\n",
    "\n",
    "$G(s) = \\frac{k}{T_I\\cdot s\\cdot(1 + T_1\\cdot s)}$\n",
    "..."
   ]
  },
  {
   "cell_type": "code",
   "execution_count": null,
   "metadata": {
    "tags": [
     "hide-input"
    ]
   },
   "outputs": [
    {
     "data": {
      "image/png": "[encoded data removed]",
      "image/svg+xml": "<?xml version=\"1.0\" encoding=\"utf-8\" standalone=\"no\"?>\n<!DOCTYPE svg PUBLIC \"-//W3C//DTD SVG 1.1//EN\"\n  \"http://www.w3.org/Graphics/SVG/1.1/DTD/svg11.dtd\">\n<svg xmlns:xlink=\"http://www.w3.org/1999/xlink\" width=\"300.51pt\" height=\"81.72pt\" viewBox=\"0 0 300.51 81.72\" xmlns=\"http://www.w3.org/2000/svg\" version=\"1.1\">\n <metadata>\n  <rdf:RDF xmlns:dc=\"http://purl.org/dc/elements/1.1/\" xmlns:cc=\"http://creativecommons.org/ns#\" xmlns:rdf=\"http://www.w3.org/1999/02/22-rdf-syntax-ns#\">\n   <cc:Work>\n    <dc:type rdf:resource=\"http://purl.org/dc/dcmitype/StillImage\"/>\n    <dc:date>2023-04-18T08:34:55.197340</dc:date>\n    <dc:format>image/svg+xml</dc:format>\n    <dc:creator>\n     <cc:Agent>\n      <dc:title>Matplotlib v3.7.1, https://matplotlib.org/</dc:title>\n     </cc:Agent>\n    </dc:creator>\n   </cc:Work>\n  </rdf:RDF>\n </metadata>\n <defs>\n  <style type=\"text/css\">*{stroke-linejoin: round; stroke-linecap: butt}</style>\n </defs>\n <g id=\"figure_1\">\n  <g id=\"patch_1\">\n   <path d=\"M 0 81.72 \nL 300.51 81.72 \nL 300.51 0 \nL 0 0 \nz\n\" style=\"fill: #ffffff\"/>\n  </g>\n  <g id=\"axes_1\">\n   <g id=\"line2d_1\">\n    <path d=\"M 27.855 71.46 \nL 134.955 71.46 \nL 134.955 10.26 \nL 27.855 10.26 \nL 27.855 71.46 \n\" clip-path=\"url(#p371361ff93)\" style=\"fill: none; stroke: #000000; stroke-width: 2; stroke-linecap: round\"/>\n   </g>\n   <g id=\"line2d_2\">\n    <path d=\"M 27.855 40.86 \nL 12.555 40.86 \n\" clip-path=\"url(#p371361ff93)\" style=\"fill: none; stroke: #000000; stroke-width: 2; stroke-linecap: round\"/>\n   </g>\n   <g id=\"line2d_3\">\n    <path d=\"M 134.955 40.86 \nL 150.255 40.86 \n\" clip-path=\"url(#p371361ff93)\" style=\"fill: none; stroke: #000000; stroke-width: 2; stroke-linecap: round\"/>\n   </g>\n   <g id=\"line2d_4\">\n    <path d=\"M 165.555 71.46 \nL 272.655 71.46 \nL 272.655 10.26 \nL 165.555 10.26 \nL 165.555 71.46 \n\" clip-path=\"url(#p371361ff93)\" style=\"fill: none; stroke: #000000; stroke-width: 2; stroke-linecap: round\"/>\n   </g>\n   <g id=\"line2d_5\">\n    <path d=\"M 165.555 40.86 \nL 150.255 40.86 \n\" clip-path=\"url(#p371361ff93)\" style=\"fill: none; stroke: #000000; stroke-width: 2; stroke-linecap: round\"/>\n   </g>\n   <g id=\"line2d_6\">\n    <path d=\"M 272.655 40.86 \nL 287.955 40.86 \n\" clip-path=\"url(#p371361ff93)\" style=\"fill: none; stroke: #000000; stroke-width: 2; stroke-linecap: round\"/>\n   </g>\n   <g id=\"text_1\">\n    <g clip-path=\"url(#p371361ff93)\">\n     <!-- I-Element -->\n     <g transform=\"translate(51.430391 41.249219) scale(0.125 -0.125)\">\n      <defs>\n       <path id=\"DejaVuSans-49\" d=\"M 628 4666 \nL 1259 4666 \nL 1259 0 \nL 628 0 \nL 628 4666 \nz\n\" transform=\"scale(0.015625)\"/>\n       <path id=\"DejaVuSans-2d\" d=\"M 313 2009 \nL 1997 2009 \nL 1997 1497 \nL 313 1497 \nL 313 2009 \nz\n\" transform=\"scale(0.015625)\"/>\n       <path id=\"DejaVuSans-45\" d=\"M 628 4666 \nL 3578 4666 \nL 3578 4134 \nL 1259 4134 \nL 1259 2753 \nL 3481 2753 \nL 3481 2222 \nL 1259 2222 \nL 1259 531 \nL 3634 531 \nL 3634 0 \nL 628 0 \nL 628 4666 \nz\n\" transform=\"scale(0.015625)\"/>\n       <path id=\"DejaVuSans-6c\" d=\"M 603 4863 \nL 1178 4863 \nL 1178 0 \nL 603 0 \nL 603 4863 \nz\n\" transform=\"scale(0.015625)\"/>\n       <path id=\"DejaVuSans-65\" d=\"M 3597 1894 \nL 3597 1613 \nL 953 1613 \nQ 991 1019 1311 708 \nQ 1631 397 2203 397 \nQ 2534 397 2845 478 \nQ 3156 559 3463 722 \nL 3463 178 \nQ 3153 47 2828 -22 \nQ 2503 -91 2169 -91 \nQ 1331 -91 842 396 \nQ 353 884 353 1716 \nQ 353 2575 817 3079 \nQ 1281 3584 2069 3584 \nQ 2775 3584 3186 3129 \nQ 3597 2675 3597 1894 \nz\nM 3022 2063 \nQ 3016 2534 2758 2815 \nQ 2500 3097 2075 3097 \nQ 1594 3097 1305 2825 \nQ 1016 2553 972 2059 \nL 3022 2063 \nz\n\" transform=\"scale(0.015625)\"/>\n       <path id=\"DejaVuSans-6d\" d=\"M 3328 2828 \nQ 3544 3216 3844 3400 \nQ 4144 3584 4550 3584 \nQ 5097 3584 5394 3201 \nQ 5691 2819 5691 2113 \nL 5691 0 \nL 5113 0 \nL 5113 2094 \nQ 5113 2597 4934 2840 \nQ 4756 3084 4391 3084 \nQ 3944 3084 3684 2787 \nQ 3425 2491 3425 1978 \nL 3425 0 \nL 2847 0 \nL 2847 2094 \nQ 2847 2600 2669 2842 \nQ 2491 3084 2119 3084 \nQ 1678 3084 1418 2786 \nQ 1159 2488 1159 1978 \nL 1159 0 \nL 581 0 \nL 581 3500 \nL 1159 3500 \nL 1159 2956 \nQ 1356 3278 1631 3431 \nQ 1906 3584 2284 3584 \nQ 2666 3584 2933 3390 \nQ 3200 3197 3328 2828 \nz\n\" transform=\"scale(0.015625)\"/>\n       <path id=\"DejaVuSans-6e\" d=\"M 3513 2113 \nL 3513 0 \nL 2938 0 \nL 2938 2094 \nQ 2938 2591 2744 2837 \nQ 2550 3084 2163 3084 \nQ 1697 3084 1428 2787 \nQ 1159 2491 1159 1978 \nL 1159 0 \nL 581 0 \nL 581 3500 \nL 1159 3500 \nL 1159 2956 \nQ 1366 3272 1645 3428 \nQ 1925 3584 2291 3584 \nQ 2894 3584 3203 3211 \nQ 3513 2838 3513 2113 \nz\n\" transform=\"scale(0.015625)\"/>\n       <path id=\"DejaVuSans-74\" d=\"M 1172 4494 \nL 1172 3500 \nL 2356 3500 \nL 2356 3053 \nL 1172 3053 \nL 1172 1153 \nQ 1172 725 1289 603 \nQ 1406 481 1766 481 \nL 2356 481 \nL 2356 0 \nL 1766 0 \nQ 1100 0 847 248 \nQ 594 497 594 1153 \nL 594 3053 \nL 172 3053 \nL 172 3500 \nL 594 3500 \nL 594 4494 \nL 1172 4494 \nz\n\" transform=\"scale(0.015625)\"/>\n      </defs>\n      <use xlink:href=\"#DejaVuSans-49\"/>\n      <use xlink:href=\"#DejaVuSans-2d\" x=\"29.492188\"/>\n      <use xlink:href=\"#DejaVuSans-45\" x=\"65.576172\"/>\n      <use xlink:href=\"#DejaVuSans-6c\" x=\"128.759766\"/>\n      <use xlink:href=\"#DejaVuSans-65\" x=\"156.542969\"/>\n      <use xlink:href=\"#DejaVuSans-6d\" x=\"218.066406\"/>\n      <use xlink:href=\"#DejaVuSans-65\" x=\"315.478516\"/>\n      <use xlink:href=\"#DejaVuSans-6e\" x=\"377.001953\"/>\n      <use xlink:href=\"#DejaVuSans-74\" x=\"440.380859\"/>\n     </g>\n    </g>\n   </g>\n   <g id=\"text_2\">\n    <g clip-path=\"url(#p371361ff93)\">\n     <!-- PT1-Element -->\n     <g transform=\"translate(179.411641 41.249219) scale(0.125 -0.125)\">\n      <defs>\n       <path id=\"DejaVuSans-50\" d=\"M 1259 4147 \nL 1259 2394 \nL 2053 2394 \nQ 2494 2394 2734 2622 \nQ 2975 2850 2975 3272 \nQ 2975 3691 2734 3919 \nQ 2494 4147 2053 4147 \nL 1259 4147 \nz\nM 628 4666 \nL 2053 4666 \nQ 2838 4666 3239 4311 \nQ 3641 3956 3641 3272 \nQ 3641 2581 3239 2228 \nQ 2838 1875 2053 1875 \nL 1259 1875 \nL 1259 0 \nL 628 0 \nL 628 4666 \nz\n\" transform=\"scale(0.015625)\"/>\n       <path id=\"DejaVuSans-54\" d=\"M -19 4666 \nL 3928 4666 \nL 3928 4134 \nL 2272 4134 \nL 2272 0 \nL 1638 0 \nL 1638 4134 \nL -19 4134 \nL -19 4666 \nz\n\" transform=\"scale(0.015625)\"/>\n       <path id=\"DejaVuSans-31\" d=\"M 794 531 \nL 1825 531 \nL 1825 4091 \nL 703 3866 \nL 703 4441 \nL 1819 4666 \nL 2450 4666 \nL 2450 531 \nL 3481 531 \nL 3481 0 \nL 794 0 \nL 794 531 \nz\n\" transform=\"scale(0.015625)\"/>\n      </defs>\n      <use xlink:href=\"#DejaVuSans-50\"/>\n      <use xlink:href=\"#DejaVuSans-54\" x=\"60.302734\"/>\n      <use xlink:href=\"#DejaVuSans-31\" x=\"121.386719\"/>\n      <use xlink:href=\"#DejaVuSans-2d\" x=\"185.009766\"/>\n      <use xlink:href=\"#DejaVuSans-45\" x=\"221.09375\"/>\n      <use xlink:href=\"#DejaVuSans-6c\" x=\"284.277344\"/>\n      <use xlink:href=\"#DejaVuSans-65\" x=\"312.060547\"/>\n      <use xlink:href=\"#DejaVuSans-6d\" x=\"373.583984\"/>\n      <use xlink:href=\"#DejaVuSans-65\" x=\"470.996094\"/>\n      <use xlink:href=\"#DejaVuSans-6e\" x=\"532.519531\"/>\n      <use xlink:href=\"#DejaVuSans-74\" x=\"595.898438\"/>\n     </g>\n    </g>\n   </g>\n   <g id=\"patch_2\">\n    <path d=\"M 12.555 43.155 \nC 13.163641 43.155 13.747436 42.913184 14.17781 42.48281 \nC 14.608184 42.052436 14.85 41.468641 14.85 40.86 \nC 14.85 40.251359 14.608184 39.667564 14.17781 39.23719 \nC 13.747436 38.806816 13.163641 38.565 12.555 38.565 \nC 11.946359 38.565 11.362564 38.806816 10.93219 39.23719 \nC 10.501816 39.667564 10.26 40.251359 10.26 40.86 \nC 10.26 41.468641 10.501816 42.052436 10.93219 42.48281 \nC 11.362564 42.913184 11.946359 43.155 12.555 43.155 \nz\n\" clip-path=\"url(#p371361ff93)\" style=\"fill: #ffffff; stroke: #000000; stroke-width: 2; stroke-linejoin: miter\"/>\n   </g>\n   <g id=\"patch_3\">\n    <path d=\"M 287.955 43.155 \nC 288.563641 43.155 289.147436 42.913184 289.57781 42.48281 \nC 290.008184 42.052436 290.25 41.468641 290.25 40.86 \nC 290.25 40.251359 290.008184 39.667564 289.57781 39.23719 \nC 289.147436 38.806816 288.563641 38.565 287.955 38.565 \nC 287.346359 38.565 286.762564 38.806816 286.33219 39.23719 \nC 285.901816 39.667564 285.66 40.251359 285.66 40.86 \nC 285.66 41.468641 285.901816 42.052436 286.33219 42.48281 \nC 286.762564 42.913184 287.346359 43.155 287.955 43.155 \nz\n\" clip-path=\"url(#p371361ff93)\" style=\"fill: #ffffff; stroke: #000000; stroke-width: 2; stroke-linejoin: miter\"/>\n   </g>\n  </g>\n </g>\n <defs>\n  <clipPath id=\"p371361ff93\">\n   <rect x=\"7.2\" y=\"7.2\" width=\"286.11\" height=\"67.32\"/>\n  </clipPath>\n </defs>\n</svg>\n",
      "text/plain": [
       "<schemdraw.backends.mpl.Figure object at 0x00000163957A2D90>"
      ]
     },
     "metadata": {},
     "output_type": "display_data"
    }
   ],
   "source": [
    "with schemdraw.Drawing() as d:\n",
    "    d += elm.Dot(open=True)\n",
    "    d += create_block('I-Element')\n",
    "    d += create_block('PT1-Element')\n",
    "    d += elm.Dot(open=True)"
   ]
  },
  {
   "cell_type": "code",
   "execution_count": null,
   "metadata": {
    "tags": [
     "hide-input"
    ]
   },
   "outputs": [
    {
     "data": {
      "image/png": "[encoded data removed]",
      "image/svg+xml": "<?xml version=\"1.0\" encoding=\"utf-8\" standalone=\"no\"?>\n<!DOCTYPE svg PUBLIC \"-//W3C//DTD SVG 1.1//EN\"\n  \"http://www.w3.org/Graphics/SVG/1.1/DTD/svg11.dtd\">\n<svg xmlns:xlink=\"http://www.w3.org/1999/xlink\" width=\"645.335087pt\" height=\"214.099pt\" viewBox=\"0 0 645.335087 214.099\" xmlns=\"http://www.w3.org/2000/svg\" version=\"1.1\">\n <metadata>\n  <rdf:RDF xmlns:dc=\"http://purl.org/dc/elements/1.1/\" xmlns:cc=\"http://creativecommons.org/ns#\" xmlns:rdf=\"http://www.w3.org/1999/02/22-rdf-syntax-ns#\">\n   <cc:Work>\n    <dc:type rdf:resource=\"http://purl.org/dc/dcmitype/StillImage\"/>\n    <dc:date>2023-04-18T09:05:41.765637</dc:date>\n    <dc:format>image/svg+xml</dc:format>\n    <dc:creator>\n     <cc:Agent>\n      <dc:title>Matplotlib v3.7.1, https://matplotlib.org/</dc:title>\n     </cc:Agent>\n    </dc:creator>\n   </cc:Work>\n  </rdf:RDF>\n </metadata>\n <defs>\n  <style type=\"text/css\">*{stroke-linejoin: round; stroke-linecap: butt}</style>\n </defs>\n <g id=\"figure_1\">\n  <g id=\"patch_1\">\n   <path d=\"M 0 214.099 \nL 645.335087 214.099 \nL 645.335087 0 \nL 0 0 \nz\n\" style=\"fill: #ffffff\"/>\n  </g>\n  <g id=\"axes_1\">\n   <g id=\"line2d_1\">\n    <path d=\"M 39.1566 126.88 \nL 69.7566 126.88 \nL 69.7566 119.23 \nL 100.3566 119.23 \nL 100.3566 134.53 \nL 69.7566 134.53 \nL 69.7566 126.88 \nM 100.3566 126.88 \nL 130.9566 126.88 \n\" clip-path=\"url(#pa9af0c3b4b)\" style=\"fill: none; stroke: #000000; stroke-width: 2; stroke-linecap: round\"/>\n   </g>\n   <g id=\"line2d_2\">\n    <path d=\"M 130.9566 126.88 \nL 146.2566 126.88 \nL 161.5566 126.88 \n\" clip-path=\"url(#pa9af0c3b4b)\" style=\"fill: none; stroke: #000000; stroke-width: 2; stroke-linecap: round\"/>\n   </g>\n   <g id=\"line2d_3\">\n    <path d=\"M 161.5566 146.005 \nL 161.5566 107.755 \nL 227.807543 146.005 \nL 161.5566 184.255 \nL 161.5566 146.005 \nM 227.807543 146.005 \n\" clip-path=\"url(#pa9af0c3b4b)\" style=\"fill: none; stroke: #000000; stroke-width: 2; stroke-linecap: round\"/>\n   </g>\n   <g id=\"line2d_4\">\n    <path d=\"M 166.777968 126.88 \nL 172.897968 126.88 \n\" clip-path=\"url(#pa9af0c3b4b)\" style=\"fill: none; stroke: #000000; stroke-width: 2; stroke-linecap: round\"/>\n   </g>\n   <g id=\"line2d_5\">\n    <path d=\"M 166.777968 165.13 \nL 172.897968 165.13 \n\" clip-path=\"url(#pa9af0c3b4b)\" style=\"fill: none; stroke: #000000; stroke-width: 2; stroke-linecap: round\"/>\n   </g>\n   <g id=\"line2d_6\">\n    <path d=\"M 169.837968 168.19 \nL 169.837968 162.07 \n\" clip-path=\"url(#pa9af0c3b4b)\" style=\"fill: none; stroke: #000000; stroke-width: 2; stroke-linecap: round\"/>\n   </g>\n   <g id=\"line2d_7\">\n    <path d=\"M 227.807543 146.005 \nL 243.107543 146.005 \nL 258.407543 146.005 \n\" clip-path=\"url(#pa9af0c3b4b)\" style=\"fill: none; stroke: #000000; stroke-width: 2; stroke-linecap: round\"/>\n   </g>\n   <g id=\"line2d_8\">\n    <path d=\"M 258.407543 146.005 \nL 258.407543 115.405 \nL 258.407543 84.805 \n\" clip-path=\"url(#pa9af0c3b4b)\" style=\"fill: none; stroke: #000000; stroke-width: 2; stroke-linecap: round\"/>\n   </g>\n   <g id=\"line2d_9\">\n    <path d=\"M 258.407543 84.805 \nL 215.261543 84.805 \nM 215.261543 92.455 \nL 215.261543 77.155 \nM 209.753543 92.455 \nL 209.753543 77.155 \nM 209.753543 84.805 \nL 166.607543 84.805 \n\" clip-path=\"url(#pa9af0c3b4b)\" style=\"fill: none; stroke: #000000; stroke-width: 2; stroke-linecap: round\"/>\n   </g>\n   <g id=\"line2d_10\">\n    <path d=\"M 166.607543 84.805 \nL 130.9566 84.805 \nL 130.9566 126.88 \n\" clip-path=\"url(#pa9af0c3b4b)\" style=\"fill: none; stroke: #000000; stroke-width: 2; stroke-linecap: round\"/>\n   </g>\n   <g id=\"line2d_11\">\n    <path d=\"M 258.407543 146.005 \nL 289.007543 146.005 \nL 319.607543 146.005 \n\" clip-path=\"url(#pa9af0c3b4b)\" style=\"fill: none; stroke: #000000; stroke-width: 2; stroke-linecap: round\"/>\n   </g>\n   <g id=\"line2d_12\">\n    <path d=\"M 161.5566 165.13 \nL 146.2566 165.13 \nL 130.9566 165.13 \n\" clip-path=\"url(#pa9af0c3b4b)\" style=\"fill: none; stroke: #000000; stroke-width: 2; stroke-linecap: round\"/>\n   </g>\n   <g id=\"line2d_13\">\n    <path d=\"M 130.9566 165.13 \nL 130.9566 177.37 \nL 123.3066 177.37 \nL 138.6066 177.37 \nM 125.6016 181.042 \nL 136.3116 181.042 \nM 129.4266 184.714 \nL 132.4866 184.714 \n\" clip-path=\"url(#pa9af0c3b4b)\" style=\"fill: none; stroke: #000000; stroke-width: 2; stroke-linecap: round\"/>\n   </g>\n   <g id=\"line2d_14\">\n    <path d=\"M 319.607543 146.005 \nL 350.207543 146.005 \nL 350.207543 138.355 \nL 380.807543 138.355 \nL 380.807543 153.655 \nL 350.207543 153.655 \nL 350.207543 146.005 \nM 380.807543 146.005 \nL 411.407543 146.005 \n\" clip-path=\"url(#pa9af0c3b4b)\" style=\"fill: none; stroke: #000000; stroke-width: 2; stroke-linecap: round\"/>\n   </g>\n   <g id=\"line2d_15\">\n    <path d=\"M 411.407543 146.005 \nL 426.707543 146.005 \nL 442.007543 146.005 \n\" clip-path=\"url(#pa9af0c3b4b)\" style=\"fill: none; stroke: #000000; stroke-width: 2; stroke-linecap: round\"/>\n   </g>\n   <g id=\"line2d_16\">\n    <path d=\"M 442.007543 165.13 \nL 442.007543 126.88 \nL 508.258487 165.13 \nL 442.007543 203.38 \nL 442.007543 165.13 \nM 508.258487 165.13 \n\" clip-path=\"url(#pa9af0c3b4b)\" style=\"fill: none; stroke: #000000; stroke-width: 2; stroke-linecap: round\"/>\n   </g>\n   <g id=\"line2d_17\">\n    <path d=\"M 447.228911 146.005 \nL 453.348911 146.005 \n\" clip-path=\"url(#pa9af0c3b4b)\" style=\"fill: none; stroke: #000000; stroke-width: 2; stroke-linecap: round\"/>\n   </g>\n   <g id=\"line2d_18\">\n    <path d=\"M 447.228911 184.255 \nL 453.348911 184.255 \n\" clip-path=\"url(#pa9af0c3b4b)\" style=\"fill: none; stroke: #000000; stroke-width: 2; stroke-linecap: round\"/>\n   </g>\n   <g id=\"line2d_19\">\n    <path d=\"M 450.288911 187.315 \nL 450.288911 181.195 \n\" clip-path=\"url(#pa9af0c3b4b)\" style=\"fill: none; stroke: #000000; stroke-width: 2; stroke-linecap: round\"/>\n   </g>\n   <g id=\"line2d_20\">\n    <path d=\"M 508.258487 165.13 \nL 523.558487 165.13 \nL 538.858487 165.13 \n\" clip-path=\"url(#pa9af0c3b4b)\" style=\"fill: none; stroke: #000000; stroke-width: 2; stroke-linecap: round\"/>\n   </g>\n   <g id=\"line2d_21\">\n    <path d=\"M 538.858487 165.13 \nL 538.858487 134.53 \nL 538.858487 103.93 \n\" clip-path=\"url(#pa9af0c3b4b)\" style=\"fill: none; stroke: #000000; stroke-width: 2; stroke-linecap: round\"/>\n   </g>\n   <g id=\"line2d_22\">\n    <path d=\"M 538.858487 103.93 \nL 495.712487 103.93 \nM 495.712487 111.58 \nL 495.712487 96.28 \nM 490.204487 111.58 \nL 490.204487 96.28 \nM 490.204487 103.93 \nL 447.058487 103.93 \n\" clip-path=\"url(#pa9af0c3b4b)\" style=\"fill: none; stroke: #000000; stroke-width: 2; stroke-linecap: round\"/>\n   </g>\n   <g id=\"line2d_23\">\n    <path d=\"M 447.058487 103.93 \nL 411.407543 103.93 \nL 411.407543 146.005 \n\" clip-path=\"url(#pa9af0c3b4b)\" style=\"fill: none; stroke: #000000; stroke-width: 2; stroke-linecap: round\"/>\n   </g>\n   <g id=\"line2d_24\">\n    <path d=\"M 538.858487 103.93 \nL 538.858487 73.33 \nL 538.858487 42.73 \n\" clip-path=\"url(#pa9af0c3b4b)\" style=\"fill: none; stroke: #000000; stroke-width: 2; stroke-linecap: round\"/>\n   </g>\n   <g id=\"line2d_25\">\n    <path d=\"M 538.858487 42.73 \nL 508.258487 42.73 \nL 508.258487 50.38 \nL 477.658487 50.38 \nL 477.658487 35.08 \nL 508.258487 35.08 \nL 508.258487 42.73 \nM 477.658487 42.73 \nL 447.058487 42.73 \n\" clip-path=\"url(#pa9af0c3b4b)\" style=\"fill: none; stroke: #000000; stroke-width: 2; stroke-linecap: round\"/>\n   </g>\n   <g id=\"line2d_26\">\n    <path d=\"M 447.058487 42.73 \nL 411.407543 42.73 \nL 411.407543 146.005 \n\" clip-path=\"url(#pa9af0c3b4b)\" style=\"fill: none; stroke: #000000; stroke-width: 2; stroke-linecap: round\"/>\n   </g>\n   <g id=\"line2d_27\">\n    <path d=\"M 538.858487 165.13 \nL 569.458487 165.13 \nL 600.058487 165.13 \n\" clip-path=\"url(#pa9af0c3b4b)\" style=\"fill: none; stroke: #000000; stroke-width: 2; stroke-linecap: round\"/>\n   </g>\n   <g id=\"line2d_28\">\n    <path d=\"M 442.007543 184.255 \nL 426.707543 184.255 \nL 411.407543 184.255 \n\" clip-path=\"url(#pa9af0c3b4b)\" style=\"fill: none; stroke: #000000; stroke-width: 2; stroke-linecap: round\"/>\n   </g>\n   <g id=\"line2d_29\">\n    <path d=\"M 411.407543 184.255 \nL 411.407543 196.495 \nL 403.757543 196.495 \nL 419.057543 196.495 \nM 406.052543 200.167 \nL 416.762543 200.167 \nM 409.877543 203.839 \nL 412.937543 203.839 \n\" clip-path=\"url(#pa9af0c3b4b)\" style=\"fill: none; stroke: #000000; stroke-width: 2; stroke-linecap: round\"/>\n   </g>\n   <g id=\"patch_2\">\n    <path d=\"M 130.9566 129.175 \nC 131.565241 129.175 132.149036 128.933184 132.57941 128.50281 \nC 133.009784 128.072436 133.2516 127.488641 133.2516 126.88 \nC 133.2516 126.271359 133.009784 125.687564 132.57941 125.25719 \nC 132.149036 124.826816 131.565241 124.585 130.9566 124.585 \nC 130.347959 124.585 129.764164 124.826816 129.33379 125.25719 \nC 128.903416 125.687564 128.6616 126.271359 128.6616 126.88 \nC 128.6616 127.488641 128.903416 128.072436 129.33379 128.50281 \nC 129.764164 128.933184 130.347959 129.175 130.9566 129.175 \nz\n\" clip-path=\"url(#pa9af0c3b4b)\" style=\"stroke: #000000; stroke-width: 2; stroke-linejoin: miter\"/>\n   </g>\n   <g id=\"patch_3\">\n    <path d=\"M 39.1566 129.175 \nC 39.765241 129.175 40.349036 128.933184 40.77941 128.50281 \nC 41.209784 128.072436 41.4516 127.488641 41.4516 126.88 \nC 41.4516 126.271359 41.209784 125.687564 40.77941 125.25719 \nC 40.349036 124.826816 39.765241 124.585 39.1566 124.585 \nC 38.547959 124.585 37.964164 124.826816 37.53379 125.25719 \nC 37.103416 125.687564 36.8616 126.271359 36.8616 126.88 \nC 36.8616 127.488641 37.103416 128.072436 37.53379 128.50281 \nC 37.964164 128.933184 38.547959 129.175 39.1566 129.175 \nz\n\" clip-path=\"url(#pa9af0c3b4b)\" style=\"fill: #ffffff; stroke: #000000; stroke-width: 2; stroke-linejoin: miter\"/>\n   </g>\n   <g id=\"text_1\">\n    <g clip-path=\"url(#pa9af0c3b4b)\">\n     <!-- $R_1$ -->\n     <g transform=\"translate(77.7441 113.570391) scale(0.125 -0.125)\">\n      <defs>\n       <path id=\"DejaVuSans-Oblique-52\" d=\"M 1613 4147 \nL 1294 2491 \nL 2106 2491 \nQ 2584 2491 2879 2755 \nQ 3175 3019 3175 3444 \nQ 3175 3784 2976 3965 \nQ 2778 4147 2406 4147 \nL 1613 4147 \nz\nM 2772 2241 \nQ 2972 2194 3105 2009 \nQ 3238 1825 3413 1275 \nL 3809 0 \nL 3144 0 \nL 2778 1197 \nQ 2638 1659 2453 1815 \nQ 2269 1972 1888 1972 \nL 1191 1972 \nL 806 0 \nL 172 0 \nL 1081 4666 \nL 2503 4666 \nQ 3150 4666 3495 4373 \nQ 3841 4081 3841 3531 \nQ 3841 3044 3547 2687 \nQ 3253 2331 2772 2241 \nz\n\" transform=\"scale(0.015625)\"/>\n       <path id=\"DejaVuSans-31\" d=\"M 794 531 \nL 1825 531 \nL 1825 4091 \nL 703 3866 \nL 703 4441 \nL 1819 4666 \nL 2450 4666 \nL 2450 531 \nL 3481 531 \nL 3481 0 \nL 794 0 \nL 794 531 \nz\n\" transform=\"scale(0.015625)\"/>\n      </defs>\n      <use xlink:href=\"#DejaVuSans-Oblique-52\" transform=\"translate(0 0.09375)\"/>\n      <use xlink:href=\"#DejaVuSans-31\" transform=\"translate(69.482422 -16.3125) scale(0.7)\"/>\n     </g>\n    </g>\n   </g>\n   <g id=\"text_2\">\n    <g clip-path=\"url(#pa9af0c3b4b)\">\n     <!-- $U_e$ -->\n     <g transform=\"translate(18.9266 130.329219) scale(0.125 -0.125)\">\n      <defs>\n       <path id=\"DejaVuSans-Oblique-55\" d=\"M 991 4666 \nL 1625 4666 \nL 1075 1831 \nQ 1041 1641 1027 1517 \nQ 1013 1394 1013 1300 \nQ 1013 869 1253 645 \nQ 1494 422 1959 422 \nQ 2563 422 2898 753 \nQ 3234 1084 3378 1831 \nL 3928 4666 \nL 4563 4666 \nL 4000 1753 \nQ 3816 809 3300 359 \nQ 2784 -91 1888 -91 \nQ 1188 -91 780 261 \nQ 372 613 372 1216 \nQ 372 1325 387 1461 \nQ 403 1597 434 1753 \nL 991 4666 \nz\n\" transform=\"scale(0.015625)\"/>\n       <path id=\"DejaVuSans-Oblique-65\" d=\"M 3078 2063 \nQ 3088 2113 3092 2166 \nQ 3097 2219 3097 2272 \nQ 3097 2653 2873 2875 \nQ 2650 3097 2266 3097 \nQ 1838 3097 1509 2826 \nQ 1181 2556 1013 2059 \nL 3078 2063 \nz\nM 3578 1613 \nL 903 1613 \nQ 884 1494 878 1425 \nQ 872 1356 872 1306 \nQ 872 872 1139 634 \nQ 1406 397 1894 397 \nQ 2269 397 2603 481 \nQ 2938 566 3225 728 \nL 3116 159 \nQ 2806 34 2476 -28 \nQ 2147 -91 1806 -91 \nQ 1078 -91 686 257 \nQ 294 606 294 1247 \nQ 294 1794 489 2264 \nQ 684 2734 1063 3103 \nQ 1306 3334 1642 3459 \nQ 1978 3584 2356 3584 \nQ 2950 3584 3301 3228 \nQ 3653 2872 3653 2272 \nQ 3653 2128 3634 1964 \nQ 3616 1800 3578 1613 \nz\n\" transform=\"scale(0.015625)\"/>\n      </defs>\n      <use xlink:href=\"#DejaVuSans-Oblique-55\" transform=\"translate(0 0.09375)\"/>\n      <use xlink:href=\"#DejaVuSans-Oblique-65\" transform=\"translate(73.193359 -16.3125) scale(0.7)\"/>\n     </g>\n    </g>\n   </g>\n   <g id=\"patch_4\">\n    <path d=\"M 258.407543 148.3 \nC 259.016185 148.3 259.599979 148.058184 260.030353 147.62781 \nC 260.460728 147.197436 260.702543 146.613641 260.702543 146.005 \nC 260.702543 145.396359 260.460728 144.812564 260.030353 144.38219 \nC 259.599979 143.951816 259.016185 143.71 258.407543 143.71 \nC 257.798902 143.71 257.215108 143.951816 256.784733 144.38219 \nC 256.354359 144.812564 256.112543 145.396359 256.112543 146.005 \nC 256.112543 146.613641 256.354359 147.197436 256.784733 147.62781 \nC 257.215108 148.058184 257.798902 148.3 258.407543 148.3 \nz\n\" clip-path=\"url(#pa9af0c3b4b)\" style=\"stroke: #000000; stroke-width: 2; stroke-linejoin: miter\"/>\n   </g>\n   <g id=\"text_3\">\n    <g clip-path=\"url(#pa9af0c3b4b)\">\n     <!-- $C$ -->\n     <g transform=\"translate(208.132543 71.495391) scale(0.125 -0.125)\">\n      <defs>\n       <path id=\"DejaVuSans-Oblique-43\" d=\"M 4447 4306 \nL 4319 3641 \nQ 4019 3944 3683 4091 \nQ 3347 4238 2956 4238 \nQ 2422 4238 2017 3981 \nQ 1613 3725 1319 3200 \nQ 1131 2863 1032 2486 \nQ 934 2109 934 1728 \nQ 934 1091 1264 756 \nQ 1594 422 2222 422 \nQ 2656 422 3056 561 \nQ 3456 700 3834 978 \nL 3688 231 \nQ 3316 72 2936 -9 \nQ 2556 -91 2175 -91 \nQ 1278 -91 773 396 \nQ 269 884 269 1753 \nQ 269 2309 461 2846 \nQ 653 3384 1013 3828 \nQ 1394 4300 1883 4525 \nQ 2372 4750 3022 4750 \nQ 3422 4750 3780 4639 \nQ 4138 4528 4447 4306 \nz\n\" transform=\"scale(0.015625)\"/>\n      </defs>\n      <use xlink:href=\"#DejaVuSans-Oblique-43\" transform=\"translate(0 0.78125)\"/>\n     </g>\n    </g>\n   </g>\n   <g id=\"patch_5\">\n    <path d=\"M 319.607543 148.3 \nC 320.216185 148.3 320.799979 148.058184 321.230353 147.62781 \nC 321.660728 147.197436 321.902543 146.613641 321.902543 146.005 \nC 321.902543 145.396359 321.660728 144.812564 321.230353 144.38219 \nC 320.799979 143.951816 320.216185 143.71 319.607543 143.71 \nC 318.998902 143.71 318.415108 143.951816 317.984733 144.38219 \nC 317.554359 144.812564 317.312543 145.396359 317.312543 146.005 \nC 317.312543 146.613641 317.554359 147.197436 317.984733 147.62781 \nC 318.415108 148.058184 318.998902 148.3 319.607543 148.3 \nz\n\" clip-path=\"url(#pa9af0c3b4b)\" style=\"fill: #ffffff; stroke: #000000; stroke-width: 2; stroke-linejoin: miter\"/>\n   </g>\n   <g id=\"patch_6\">\n    <path d=\"M 411.407543 148.3 \nC 412.016185 148.3 412.599979 148.058184 413.030353 147.62781 \nC 413.460728 147.197436 413.702543 146.613641 413.702543 146.005 \nC 413.702543 145.396359 413.460728 144.812564 413.030353 144.38219 \nC 412.599979 143.951816 412.016185 143.71 411.407543 143.71 \nC 410.798902 143.71 410.215108 143.951816 409.784733 144.38219 \nC 409.354359 144.812564 409.112543 145.396359 409.112543 146.005 \nC 409.112543 146.613641 409.354359 147.197436 409.784733 147.62781 \nC 410.215108 148.058184 410.798902 148.3 411.407543 148.3 \nz\n\" clip-path=\"url(#pa9af0c3b4b)\" style=\"stroke: #000000; stroke-width: 2; stroke-linejoin: miter\"/>\n   </g>\n   <g id=\"patch_7\">\n    <path d=\"M 319.607543 148.3 \nC 320.216185 148.3 320.799979 148.058184 321.230353 147.62781 \nC 321.660728 147.197436 321.902543 146.613641 321.902543 146.005 \nC 321.902543 145.396359 321.660728 144.812564 321.230353 144.38219 \nC 320.799979 143.951816 320.216185 143.71 319.607543 143.71 \nC 318.998902 143.71 318.415108 143.951816 317.984733 144.38219 \nC 317.554359 144.812564 317.312543 145.396359 317.312543 146.005 \nC 317.312543 146.613641 317.554359 147.197436 317.984733 147.62781 \nC 318.415108 148.058184 318.998902 148.3 319.607543 148.3 \nz\n\" clip-path=\"url(#pa9af0c3b4b)\" style=\"fill: #ffffff; stroke: #000000; stroke-width: 2; stroke-linejoin: miter\"/>\n   </g>\n   <g id=\"text_4\">\n    <g clip-path=\"url(#pa9af0c3b4b)\">\n     <!-- $R_2$ -->\n     <g transform=\"translate(358.195043 132.695391) scale(0.125 -0.125)\">\n      <defs>\n       <path id=\"DejaVuSans-32\" d=\"M 1228 531 \nL 3431 531 \nL 3431 0 \nL 469 0 \nL 469 531 \nQ 828 903 1448 1529 \nQ 2069 2156 2228 2338 \nQ 2531 2678 2651 2914 \nQ 2772 3150 2772 3378 \nQ 2772 3750 2511 3984 \nQ 2250 4219 1831 4219 \nQ 1534 4219 1204 4116 \nQ 875 4013 500 3803 \nL 500 4441 \nQ 881 4594 1212 4672 \nQ 1544 4750 1819 4750 \nQ 2544 4750 2975 4387 \nQ 3406 4025 3406 3419 \nQ 3406 3131 3298 2873 \nQ 3191 2616 2906 2266 \nQ 2828 2175 2409 1742 \nQ 1991 1309 1228 531 \nz\n\" transform=\"scale(0.015625)\"/>\n      </defs>\n      <use xlink:href=\"#DejaVuSans-Oblique-52\" transform=\"translate(0 0.09375)\"/>\n      <use xlink:href=\"#DejaVuSans-32\" transform=\"translate(69.482422 -16.3125) scale(0.7)\"/>\n     </g>\n    </g>\n   </g>\n   <g id=\"patch_8\">\n    <path d=\"M 538.858487 167.425 \nC 539.467128 167.425 540.050923 167.183184 540.481297 166.75281 \nC 540.911671 166.322436 541.153487 165.738641 541.153487 165.13 \nC 541.153487 164.521359 540.911671 163.937564 540.481297 163.50719 \nC 540.050923 163.076816 539.467128 162.835 538.858487 162.835 \nC 538.249846 162.835 537.666051 163.076816 537.235677 163.50719 \nC 536.805302 163.937564 536.563487 164.521359 536.563487 165.13 \nC 536.563487 165.738641 536.805302 166.322436 537.235677 166.75281 \nC 537.666051 167.183184 538.249846 167.425 538.858487 167.425 \nz\n\" clip-path=\"url(#pa9af0c3b4b)\" style=\"stroke: #000000; stroke-width: 2; stroke-linejoin: miter\"/>\n   </g>\n   <g id=\"text_5\">\n    <g clip-path=\"url(#pa9af0c3b4b)\">\n     <!-- $C$ -->\n     <g transform=\"translate(488.583487 90.620391) scale(0.125 -0.125)\">\n      <use xlink:href=\"#DejaVuSans-Oblique-43\" transform=\"translate(0 0.78125)\"/>\n     </g>\n    </g>\n   </g>\n   <g id=\"text_6\">\n    <g clip-path=\"url(#pa9af0c3b4b)\">\n     <!-- $R_3$ -->\n     <g transform=\"translate(485.645987 29.420391) scale(0.125 -0.125)\">\n      <defs>\n       <path id=\"DejaVuSans-33\" d=\"M 2597 2516 \nQ 3050 2419 3304 2112 \nQ 3559 1806 3559 1356 \nQ 3559 666 3084 287 \nQ 2609 -91 1734 -91 \nQ 1441 -91 1130 -33 \nQ 819 25 488 141 \nL 488 750 \nQ 750 597 1062 519 \nQ 1375 441 1716 441 \nQ 2309 441 2620 675 \nQ 2931 909 2931 1356 \nQ 2931 1769 2642 2001 \nQ 2353 2234 1838 2234 \nL 1294 2234 \nL 1294 2753 \nL 1863 2753 \nQ 2328 2753 2575 2939 \nQ 2822 3125 2822 3475 \nQ 2822 3834 2567 4026 \nQ 2313 4219 1838 4219 \nQ 1578 4219 1281 4162 \nQ 984 4106 628 3988 \nL 628 4550 \nQ 988 4650 1302 4700 \nQ 1616 4750 1894 4750 \nQ 2613 4750 3031 4423 \nQ 3450 4097 3450 3541 \nQ 3450 3153 3228 2886 \nQ 3006 2619 2597 2516 \nz\n\" transform=\"scale(0.015625)\"/>\n      </defs>\n      <use xlink:href=\"#DejaVuSans-Oblique-52\" transform=\"translate(0 0.09375)\"/>\n      <use xlink:href=\"#DejaVuSans-33\" transform=\"translate(69.482422 -16.3125) scale(0.7)\"/>\n     </g>\n    </g>\n   </g>\n   <g id=\"patch_9\">\n    <path d=\"M 600.058487 167.425 \nC 600.667128 167.425 601.250923 167.183184 601.681297 166.75281 \nC 602.111671 166.322436 602.353487 165.738641 602.353487 165.13 \nC 602.353487 164.521359 602.111671 163.937564 601.681297 163.50719 \nC 601.250923 163.076816 600.667128 162.835 600.058487 162.835 \nC 599.449846 162.835 598.866051 163.076816 598.435677 163.50719 \nC 598.005302 163.937564 597.763487 164.521359 597.763487 165.13 \nC 597.763487 165.738641 598.005302 166.322436 598.435677 166.75281 \nC 598.866051 167.183184 599.449846 167.425 600.058487 167.425 \nz\n\" clip-path=\"url(#pa9af0c3b4b)\" style=\"fill: #ffffff; stroke: #000000; stroke-width: 2; stroke-linejoin: miter\"/>\n   </g>\n   <g id=\"text_7\">\n    <g clip-path=\"url(#pa9af0c3b4b)\">\n     <!-- $U_a$ -->\n     <g transform=\"translate(605.413487 168.579219) scale(0.125 -0.125)\">\n      <defs>\n       <path id=\"DejaVuSans-Oblique-61\" d=\"M 3438 1997 \nL 3047 0 \nL 2472 0 \nL 2578 531 \nQ 2325 219 2001 64 \nQ 1678 -91 1281 -91 \nQ 834 -91 548 182 \nQ 263 456 263 884 \nQ 263 1497 752 1853 \nQ 1241 2209 2100 2209 \nL 2900 2209 \nL 2931 2363 \nQ 2938 2388 2941 2417 \nQ 2944 2447 2944 2509 \nQ 2944 2788 2717 2942 \nQ 2491 3097 2081 3097 \nQ 1800 3097 1504 3025 \nQ 1209 2953 897 2809 \nL 997 3341 \nQ 1322 3463 1633 3523 \nQ 1944 3584 2234 3584 \nQ 2853 3584 3176 3315 \nQ 3500 3047 3500 2534 \nQ 3500 2431 3484 2292 \nQ 3469 2153 3438 1997 \nz\nM 2816 1759 \nL 2241 1759 \nQ 1534 1759 1195 1570 \nQ 856 1381 856 984 \nQ 856 709 1029 553 \nQ 1203 397 1509 397 \nQ 1978 397 2328 733 \nQ 2678 1069 2791 1631 \nL 2816 1759 \nz\n\" transform=\"scale(0.015625)\"/>\n      </defs>\n      <use xlink:href=\"#DejaVuSans-Oblique-55\" transform=\"translate(0 0.09375)\"/>\n      <use xlink:href=\"#DejaVuSans-Oblique-61\" transform=\"translate(73.193359 -16.3125) scale(0.7)\"/>\n     </g>\n    </g>\n   </g>\n  </g>\n </g>\n <defs>\n  <clipPath id=\"pa9af0c3b4b\">\n   <rect x=\"7.2\" y=\"7.2\" width=\"630.935087\" height=\"199.699\"/>\n  </clipPath>\n </defs>\n</svg>\n",
      "text/plain": [
       "<schemdraw.backends.mpl.Figure object at 0x0000016395929810>"
      ]
     },
     "metadata": {},
     "output_type": "display_data"
    }
   ],
   "source": [
    "with schemdraw.Drawing() as d:\n",
    "    d += elm.ResistorIEC().dot().idot(open=True).label('$R_1$').label('$U_e$', 'L')\n",
    "    tmp = d.here\n",
    "    d += elm.Line().length(1)\n",
    "    d += (amp1 := elm.Opamp().anchor('in1').drop('out'))\n",
    "\n",
    "    d += elm.Line().right().length(1).dot()\n",
    "    d.push()\n",
    "    d += elm.Line().up().length(2)\n",
    "    d += (r2 := elm.Capacitor().left().label('$C$'))\n",
    "    d += elm.Wire('-|').to(tmp)\n",
    "    d.pop()\n",
    "    d += elm.Line().length(2).dot(open=True)\n",
    "    d.push()\n",
    "\n",
    "    d += elm.Line().left().length(1).at(amp1.in2)\n",
    "    d += elm.Ground()\n",
    "\n",
    "    d.pop()\n",
    "\n",
    "    d += elm.ResistorIEC().dot().idot(open=True).label('$R_2$') \n",
    "    tmp = d.here\n",
    "    d += elm.Line().length(1)\n",
    "    d += (amp2 := elm.Opamp().anchor('in1').drop('out'))\n",
    "\n",
    "    d += elm.Line().right().length(1).dot()\n",
    "    d.push()\n",
    "    d += elm.Line().up().length(2)\n",
    "\n",
    "    d.push()\n",
    "    d += elm.Capacitor().left().label('$C$')\n",
    "    d += elm.Wire('-|').to(tmp)\n",
    "    d.pop()\n",
    "    d += elm.Line().up().length(2)\n",
    "    d += elm.ResistorIEC().left().label('$R_3$')\n",
    "    d += elm.Wire('-|').to(tmp)\n",
    "    d.pop()\n",
    "    d += elm.Line().length(2).dot(open=True).label('$U_a$', 'R')\n",
    "    d.push()\n",
    "\n",
    "    d += elm.Line().left().length(1).at(amp2.in2)\n",
    "    d += elm.Ground()\n",
    "\n"
   ]
  },
  {
   "cell_type": "markdown",
   "metadata": {},
   "source": [
    "### PDT1"
   ]
  },
  {
   "cell_type": "code",
   "execution_count": null,
   "metadata": {
    "collapsed": false
   },
   "outputs": [],
   "source": []
  },
  {
   "cell_type": "markdown",
   "metadata": {},
   "source": [
    "### OPV-Schaltung aus Blockdiagramm"
   ]
  },
  {
   "cell_type": "markdown",
   "metadata": {},
   "source": [
    "### OPV-Schaltung für Summen- und Differenzknoten"
   ]
  },
  {
   "cell_type": "markdown",
   "metadata": {},
   "source": [
    "## PT $_2$ Element"
   ]
  },
  {
   "cell_type": "markdown",
   "metadata": {},
   "source": [
    "### Beschreibung im Frequenz- und Zeitbereich"
   ]
  },
  {
   "cell_type": "markdown",
   "metadata": {},
   "source": [
    "### Kenngrößen"
   ]
  },
  {
   "cell_type": "markdown",
   "metadata": {},
   "source": [
    "### Überschwingen"
   ]
  },
  {
   "cell_type": "markdown",
   "metadata": {},
   "source": [
    "### Schwingunsmaxima"
   ]
  },
  {
   "cell_type": "markdown",
   "metadata": {},
   "source": [
    "### Identifikation im Zeitbereich"
   ]
  },
  {
   "cell_type": "markdown",
   "metadata": {},
   "source": [
    "### Bedeutung für die Regelungstechnik"
   ]
  },
  {
   "cell_type": "markdown",
   "metadata": {},
   "source": [
    "## Nyquist Kriteritum"
   ]
  },
  {
   "cell_type": "markdown",
   "metadata": {},
   "source": [
    "### Stabilitätsgrenzen"
   ]
  },
  {
   "cell_type": "markdown",
   "metadata": {},
   "source": [
    "### Offener und geschlossener Regelkreis"
   ]
  },
  {
   "cell_type": "markdown",
   "metadata": {},
   "source": [
    "### Phasenrand"
   ]
  },
  {
   "cell_type": "markdown",
   "metadata": {},
   "source": [
    "### Amplitudenrand"
   ]
  },
  {
   "cell_type": "markdown",
   "metadata": {},
   "source": [
    "### Faustregeln"
   ]
  },
  {
   "cell_type": "markdown",
   "metadata": {},
   "source": [
    "### Phasenrand vs. Überschwingen"
   ]
  }
 ],
 "metadata": {
  "kernelspec": {
   "display_name": "venv",
   "language": "python",
   "name": "python3"
  },
  "language_info": {
   "codemirror_mode": {
    "name": "ipython",
    "version": 3
   },
   "file_extension": ".py",
   "mimetype": "text/x-python",
   "name": "python",
   "nbconvert_exporter": "python",
   "pygments_lexer": "ipython3",
   "version": "3.11.0"
  },
  "toc-autonumbering": true
 },
 "nbformat": 4,
 "nbformat_minor": 4
}
