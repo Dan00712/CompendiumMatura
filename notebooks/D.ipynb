{
 "cells": [
  {
   "attachments": {},
   "cell_type": "markdown",
   "metadata": {},
   "source": [
    "# D"
   ]
  },
  {
   "attachments": {},
   "cell_type": "markdown",
   "metadata": {},
   "source": [
    "# Meinungsrede"
   ]
  },
  {
   "attachments": {},
   "cell_type": "markdown",
   "metadata": {},
   "source": [
    "Besteht aus:\n",
    "- Einleitung\n",
    "  - Lebendig & Interessant\n",
    "  - Thema der Rede\n",
    "  - **Originaltext ansprechen**\n",
    "- Hauptteil\n",
    "  - nur Argumente der eigenen sichtweise\n",
    "  - Bezug auf Publikum\n",
    "  - rhetorische Mittel\n",
    "- Schluss\n",
    "  - Kurz Zusammenfassen\n",
    "  - Appell\n",
    "  - Bei Publikum für Aufmerksamkeit bedanken  \n",
    "\n",
    "## Wichtigste Inhalte:  \n",
    "\n",
    "- Druckfassung einer Meinungsrede\n",
    "- gegliedertes Redemanuskript"
   ]
  },
  {
   "attachments": {},
   "cell_type": "markdown",
   "metadata": {},
   "source": [
    "# Zusammenfassung"
   ]
  },
  {
   "attachments": {},
   "cell_type": "markdown",
   "metadata": {},
   "source": [
    "- Einleitung  \n",
    "  - präsentiert Text und liefert Eckdaten (Autor, Veröffentlichungsdatu, Titel, Textsorte)\n",
    "  - präsentiert das Thema\n",
    "- Hauptteil  \n",
    "  - Sachliche Wiedergabe\n",
    "  - Teilaspekte des Textes\n",
    "  - hängt immer von Aufgabestellung ab\n",
    "- **KEIN Schluss**  \n",
    "\n",
    "## Wichtigste Inhalte:   \n",
    "\n",
    "- Argumentative Verknüpfung  \n",
    "- Gedankenstruktur"
   ]
  },
  {
   "attachments": {},
   "cell_type": "markdown",
   "metadata": {},
   "source": [
    "# Leserbrief"
   ]
  },
  {
   "attachments": {},
   "cell_type": "markdown",
   "metadata": {},
   "source": [
    "- Einleitung\n",
    "  - Eckdaten des Bezugstextess\n",
    "  - lebendig \n",
    "  - Thema beinhalten und erklären  \n",
    "  - Themenstellung\n",
    "- Hauptteil\n",
    "  - Meinung untermauern\n",
    "  - auf Ausgangstext Bezug nehmen\n",
    "  - eigene Perspektive\n",
    "- Schluss\n",
    "  - Kurz zusammenfassen\n",
    "  - Lösungsvorschlag/Kompromiss/Appell/Hoffnung präsentieren\n",
    "  - Kontaktdaten angeben \n",
    "\n",
    "## Wichtigste Inhalte:  \n",
    "\n",
    "- Kompakte Schriftlicher darstellung persönlicher Meinung  \n",
    "- Auseinandersetzung mit aktuellen Vorgängen\n",
    "- Reaktion auf Berichte oder Äußerungen"
   ]
  },
  {
   "attachments": {},
   "cell_type": "markdown",
   "metadata": {},
   "source": [
    "# Kommentar"
   ]
  },
  {
   "attachments": {},
   "cell_type": "markdown",
   "metadata": {},
   "source": [
    "- Einleitung\n",
    "  - lebendig\n",
    "  - kurz Thema beinhalten\n",
    "  - Meinung bereits \"verraten\"\n",
    "- Hauptteil\n",
    "  - Argumente der eigenen Meinung\n",
    "  - Gegenargumente entkräften\n",
    "  - schlüssig und roter Faden\n",
    "  - rhetorische Mittel, für Argumentation\n",
    "- Schluss\n",
    "  - klar und eindeutig\n",
    "  - Nachdenklich stimmen\n",
    "  - Abschluss der Gedanken, Gesamtbild des Themas abrunden  \n",
    "\n",
    "## Unterschied zu Leserbrief  \n",
    "\n",
    "- kein \"ich\"  \n",
    "\n",
    "## Wichtigste Inhalte:  \n",
    "\n",
    "- Sachverhalt darlegen und kommentieren  \n",
    "- Meinungsbildung der Leserschaft  \n",
    "- eigene Meinung zu vieldiskutierten Theme"
   ]
  },
  {
   "attachments": {},
   "cell_type": "markdown",
   "metadata": {},
   "source": [
    "# Erörterung"
   ]
  },
  {
   "attachments": {},
   "cell_type": "markdown",
   "metadata": {},
   "source": [
    "- Einleitung\n",
    "  - Interesse wecken und zum weiterlesen anregen\n",
    "  - lebendig\n",
    "  - Thema beeinhalten, erklären was erörtert wird\n",
    "- Hauptteil\n",
    "  - je nach Aufgabe unterschiedlich aufgebaut\n",
    "  - Pro und Kontraargumente\n",
    "- Schluss\n",
    "  - Wesentliches kurz zusammenfassen\n",
    "  - Lösungsvorschlag/Kompromiss/Appell/Hoffnung zum Problem\n",
    "  - eigene Meinung begründet darlegen  \n",
    "\n",
    "## Wichtigste Inhalte:  \n",
    "\n",
    "- Auseinandersetzung mit Text\n",
    "  - Reflektion\n",
    "  - eigene Position\n",
    "- Aktualitätsbezug  \n",
    "- Absichten dieser Position durch Thesen  \n",
    "- Nachvollziebare Argumentationslinien  \n",
    "- Argumente Abwägen"
   ]
  },
  {
   "attachments": {},
   "cell_type": "markdown",
   "metadata": {},
   "source": [
    "# Textanalyse"
   ]
  },
  {
   "attachments": {},
   "cell_type": "markdown",
   "metadata": {},
   "source": [
    "## Allgemein\n",
    "\n",
    "- Einleitung\n",
    "  - Eckdaten des Textes\n",
    "- Hauptteil\n",
    "  - Inhaltlich kurz zusammenfassen\n",
    "  - formale Analyse\n",
    "    - Allgemein Aufbau und Gliederung\n",
    "  - sprachliche Analyse\n",
    "    - Stil\n",
    "    - Wortwahl\n",
    "    - Satzbau\n",
    "    - Stilfiguren\n",
    "    - Schlüsselbegriffe\n",
    "    - Bezug zur Überschrift\n",
    "  - je nach Aufgabestellung auch wegfallen\n",
    "\n",
    "## Bei Sachtext\n",
    "\n",
    "- Einleitung\n",
    "  - Zielgruppen\n",
    "  - Textfunktion\n",
    "- Hauptteil\n",
    "  - zentrale Aussage zum Thema\n",
    "  - formale Analyse\n",
    "    - Argumentationslinien\n",
    "    - Thesen\n",
    "    - Verweis auf Expert(inn)en\n",
    "    - Begleitmaterial\n",
    "  - Kommunikationsanalyse\n",
    "    - Textfunktion\n",
    "    - Textleistung\n",
    "    - Nutzen/Wirkung auf Leser*inn\n",
    "\n",
    "## Bei Fiktionaler Text\n",
    "\n",
    "- Einleitung\n",
    "  - literaturhistorische Einbettung\n",
    "  - Kontext\n",
    "- Hauptteil\n",
    "  - Zeit, Ort Personen der Handlung\n",
    "  - formale Analyse\n",
    "    - Schlüsselstellen\n",
    "    - Erzähltechnik\n",
    "    - Erzählhaltung\n",
    "    - Typisches für Textsort  \n",
    "\n",
    "## Wichtigste Inhalte:\n",
    "\n",
    "- Wie setztz der/die Autor*inn seine/ihre absichten um  \n",
    "- eine Hauptabsicht, verschiedene Nebenabsichten"
   ]
  },
  {
   "attachments": {},
   "cell_type": "markdown",
   "metadata": {},
   "source": [
    "# Textinerpreation"
   ]
  },
  {
   "attachments": {},
   "cell_type": "markdown",
   "metadata": {},
   "source": [
    "- Einleitung\n",
    "  - Eckdaten\n",
    "  - Thema des Textes vorstellen\n",
    "  - Ansatz der Interpretation\n",
    "- Hauptteil\n",
    "  - kurz zusammenfassen\n",
    "  - strukturelle und sprachliche Analyse\n",
    "  - auf Arbeitsaufträge eingehen\n",
    "  - Interpretation beinhalten\n",
    "- Schluss\n",
    "  - Text begründet Bewertet\n",
    "  - Wirkung auf Leser*in beschreiben  \n",
    "\n",
    "## Wichtigste Inhalte:  \n",
    "\n",
    "- Aussagekraft  \n",
    "- Aussagedimension des Textes\n",
    "- Verständnis für Text anhand begründeter Hypothesen"
   ]
  }
 ],
 "metadata": {
  "language_info": {
   "name": "python"
  },
  "orig_nbformat": 4
 },
 "nbformat": 4,
 "nbformat_minor": 2
}
