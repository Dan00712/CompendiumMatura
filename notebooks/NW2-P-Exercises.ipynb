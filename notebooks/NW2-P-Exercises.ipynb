{
 "cells": [
  {
   "cell_type": "code",
   "execution_count": 1,
   "metadata": {
    "tags": [
     "no-input",
     "no-output"
    ]
   },
   "outputs": [
    {
     "data": {
      "text/plain": [
       "round_threedigits (generic function with 1 method)"
      ]
     },
     "metadata": {},
     "output_type": "display_data"
    }
   ],
   "source": [
    "using DrWatson\n",
    "@quickactivate\n",
    "\n",
    "using Printf\n",
    "using CairoMakie\n",
    "\n",
    "function round_threedigits(x::Number)\n",
    "\treturn round(x, digits=3)\n",
    "end"
   ]
  },
  {
   "cell_type": "markdown",
   "metadata": {},
   "source": [
    "[Formeln](https://de.wikibooks.org/wiki/Formelsammlung_Physik)"
   ]
  },
  {
   "cell_type": "markdown",
   "metadata": {
    "jp-MarkdownHeadingCollapsed": true,
    "tags": []
   },
   "source": [
    "# Übungszettel 1"
   ]
  },
  {
   "cell_type": "markdown",
   "metadata": {
    "jp-MarkdownHeadingCollapsed": true,
    "tags": []
   },
   "source": [
    "## Gleichförmige Translation"
   ]
  },
  {
   "cell_type": "code",
   "execution_count": 2,
   "metadata": {},
   "outputs": [
    {
     "name": "stdout",
     "output_type": "stream",
     "text": [
      "26.667 km\n"
     ]
    }
   ],
   "source": [
    "# Ü1 - 1.1\n",
    "v_kmh = 80\n",
    "v = 80/3.6\n",
    "t = 2 * 60\n",
    "\n",
    "s = v * t |> x-> x/100 |> round_threedigits |> x-> \"$x km\" |> println"
   ]
  },
  {
   "cell_type": "code",
   "execution_count": 3,
   "metadata": {},
   "outputs": [
    {
     "data": {
      "text/plain": [
       "35.368"
      ]
     },
     "metadata": {},
     "output_type": "display_data"
    }
   ],
   "source": [
    " ## Ü1 - 1.3\n",
    " d_cm = 3\n",
    " d = d_cm/100\n",
    " ⌀ = (d/2)^2 *π\n",
    "\n",
    " V = 300 / 1000\n",
    " t_min = 12\n",
    "\n",
    " fillspeed = V / t_min\n",
    " v = fillspeed / ⌀ |> round_threedigits"
   ]
  },
  {
   "cell_type": "markdown",
   "metadata": {
    "jp-MarkdownHeadingCollapsed": true,
    "tags": []
   },
   "source": [
    "## Gleichmäßige beschleunigte Translation"
   ]
  },
  {
   "cell_type": "code",
   "execution_count": 4,
   "metadata": {},
   "outputs": [
    {
     "name": "stdout",
     "output_type": "stream",
     "text": [
      "44.444 s\n",
      "493.817 m\n"
     ]
    }
   ],
   "source": [
    "# Ü1 - 2,1\n",
    "\n",
    "# a\n",
    "a = .5\n",
    "v = 80 /3.6\n",
    "\n",
    "# a(t) = v̇(t)\n",
    "# v(t) = ∫a dt \n",
    "# v(t) = a⋅t + v₀ | v₀ = 0 → t = v(t)/a\n",
    "# v(t) = ṡ(t) → s(t) = ∫v(t) dt\n",
    "# s(t) = ∫a⋅ t + v₀ dt = 1/2⋅a⋅t² + v₀⋅ t\n",
    "\n",
    "t = v/a |> round_threedigits \n",
    "t |> x-> \"$x s\" |> println\n",
    "\n",
    "\n",
    "# b\n",
    "s = .5 * a * t^2 |> round_threedigits\n",
    "s |> x-> \"$x m\" |> println"
   ]
  },
  {
   "cell_type": "code",
   "execution_count": 5,
   "metadata": {},
   "outputs": [
    {
     "name": "stdout",
     "output_type": "stream",
     "text": [
      "2 s\n"
     ]
    }
   ],
   "source": [
    "# Ü1 - 2.3\n",
    "s = 20\n",
    "v = 20\n",
    "\n",
    "# v(t_e) = 20 = a ⋅ t_e\n",
    "# s(t_e) = 20 = 1/2 ⋅ a ⋅ t_e^2\n",
    "\n",
    "# a = s(t_e)⋅ 2 /t_e^2 = 40/t_e^2\n",
    "# 20 = 40/t_e^2 ⋅ t_e\n",
    "# 20 = 40/t_e → t_e = 40/20 = 2\n",
    "t = 2 |> x-> \"$x s\" |> println"
   ]
  },
  {
   "cell_type": "code",
   "execution_count": 6,
   "metadata": {},
   "outputs": [
    {
     "name": "stdout",
     "output_type": "stream",
     "text": [
      "a: 2.232 m/s²\n",
      "b: 139.991 m\n"
     ]
    }
   ],
   "source": [
    "# Ü1 - 2.7\n",
    "\n",
    "t = 11.2\n",
    "v = 90 /3.6\n",
    "\n",
    "# a\n",
    "k = a = v/t |> round_threedigits\n",
    "a |> x-> \"a: $a m/s²\" |> println\n",
    "\n",
    "# b\n",
    "# s(t) = ∫∫a dt dt = 1/2 a t^2\n",
    "\n",
    "s = .5 * a * t^2 |> round_threedigits\n",
    "s |> x-> \"b: $x m\" |> println\n"
   ]
  },
  {
   "cell_type": "markdown",
   "metadata": {
    "jp-MarkdownHeadingCollapsed": true,
    "tags": []
   },
   "source": [
    "## Freier Fall + Würfe"
   ]
  },
  {
   "cell_type": "code",
   "execution_count": 7,
   "metadata": {},
   "outputs": [
    {
     "name": "stdout",
     "output_type": "stream",
     "text": [
      "71.312 km/h\n"
     ]
    }
   ],
   "source": [
    "# Ü1 - 3.1\n",
    "\n",
    "h = 20\n",
    "g = 9.81\n",
    "# s = 1/2 a t^2 = 1/2 g t^2\n",
    "# → t = √(2s/g)\n",
    "\n",
    "t = √(2*h/g)\n",
    "\n",
    "# v = g * t \n",
    "# v = √(2 g^2 * s/g) = √(2gs)\n",
    "v = g * t |> round_threedigits\n",
    "v |> x-> \"$(x*3.6 |> round_threedigits) km/h\" |> println"
   ]
  },
  {
   "cell_type": "code",
   "execution_count": 8,
   "metadata": {},
   "outputs": [
    {
     "name": "stdout",
     "output_type": "stream",
     "text": [
      "29.714 m/s\n"
     ]
    }
   ],
   "source": [
    "# Ü1 - 3.4\n",
    "\n",
    "g = 9.81\n",
    "h = 45\n",
    "\n",
    "#h(t) = -.5 * g * t^2 + v * t = 45\n",
    "#ḣ(t) = -     g * t   + v     = 0 \n",
    "# g*t = v → t = v/g\n",
    "#h(v) = -.5 * g * v^2/g^2 + v^2 / g = 45\n",
    "#h(v) = v^2 * (2/2g - 1/2g) = v^2 * (1/2g)\n",
    "# v^2 = h(t) * 2g ⇒ v = √(2gh)\n",
    "v_0 = sqrt(2*g*h) |> round_threedigits |> x-> println(\"$x m/s\")\n"
   ]
  },
  {
   "cell_type": "code",
   "execution_count": 9,
   "metadata": {},
   "outputs": [
    {
     "name": "stdout",
     "output_type": "stream",
     "text": [
      "a: 11.084 m/s\n",
      "b: 46.199 °\n"
     ]
    }
   ],
   "source": [
    "# Ü - 3.7\n",
    "g = 9.81\n",
    "\n",
    "v_0 = 8\n",
    "Δh = 3\n",
    "#a\n",
    "\n",
    "#v = a * t\n",
    "# s = .5 * a * t^2 → a = 2s/t^2\n",
    "# \t\t\t\t   → t = √(2s/a)\n",
    "#v = 2s/t = 2s/√(2s/a) = √(2^2*s^2 / (2s/a)) = √(2sa)\n",
    "\n",
    "v_vert = 2*Δh*g |> sqrt\n",
    "v_ges = sqrt(v_0^2 + v_vert^2) |> round_threedigits\n",
    "v_ges |> x-> \"a: $x m/s\" |> println\n",
    "\n",
    "#b\n",
    "\n",
    "angl = atand(v_0 / v_vert) |> round_threedigits\n",
    "angl |> x-> \"b: $x °\" |> println"
   ]
  },
  {
   "cell_type": "code",
   "execution_count": 10,
   "metadata": {},
   "outputs": [
    {
     "name": "stdout",
     "output_type": "stream",
     "text": [
      "a: 12.62 m\n",
      "b: 3.029 s\n"
     ]
    }
   ],
   "source": [
    "# Ü1 - 3.9\n",
    "g = 9.81\n",
    "v_hor = 15/3.6\n",
    "Δh = 45\n",
    "\n",
    "#a\n",
    "# h(t) = -.5 * g * t^2 (+ v*t) = -45\n",
    "# ⇒ t = √|2h(t)/g| = √(2*45/g)\n",
    "t_hit = √(2 * Δh /g)\n",
    "reach = t_hit * v_hor |> round_threedigits\n",
    "println(\"a: $reach m\")\n",
    "\n",
    "#b\n",
    "t_hit = t_hit |> round_threedigits\n",
    "println(\"b: $t_hit s\") "
   ]
  },
  {
   "cell_type": "code",
   "execution_count": 11,
   "metadata": {},
   "outputs": [
    {
     "name": "stdout",
     "output_type": "stream",
     "text": [
      "a: 0.659 s\n",
      "b: 6.141 m\n",
      "c: Umkehrpunkt:0.8154943934760448s\n",
      "   3.261977573904179 m nach oben\n"
     ]
    }
   ],
   "source": [
    "# Ü1 - 3.12\n",
    "\n",
    "g = 9.81\n",
    "\n",
    "v_L0 = 8\n",
    "a_L  = 4\n",
    "Δh_innen = 3\n",
    "\n",
    "#a \n",
    "\n",
    "# s(t) = .5 * a * t^2 = 3\n",
    "# t = √(2s/a)\n",
    "t = √(2 * Δh_innen/ (g + a_L)) |> round_threedigits\n",
    "println(\"a: $t s\")\n",
    "\n",
    "#b\n",
    "s_L = .5 * a_L * t^2 + v_L0 * t |> round_threedigits\n",
    "println(\"b: $s_L m\")\n",
    "\n",
    "#c\n",
    "\n",
    "# v(t) = -a * t + v_0 = 0 → a*t = v_0 → t = v_0/a\n",
    "t_o_return = v_L0/g #|> round_threedigits\n",
    "\n",
    "# s(t) = -.5 * a * t^2 + v_0 t\n",
    "s = -.5 * g * t_o_return^2 + v_L0 * t_o_return\n",
    "\n",
    "println(\"c: Umkehrpunkt:$(t_o_return)s\\n   $s m nach oben\")"
   ]
  },
  {
   "cell_type": "markdown",
   "metadata": {
    "jp-MarkdownHeadingCollapsed": true,
    "tags": []
   },
   "source": [
    "## Masse und Kraft"
   ]
  },
  {
   "cell_type": "code",
   "execution_count": 12,
   "metadata": {},
   "outputs": [
    {
     "name": "stdout",
     "output_type": "stream",
     "text": [
      "150.0 N\n"
     ]
    }
   ],
   "source": [
    "# Ü1 - 4.1\n",
    "\n",
    "m = 100\n",
    "a = -1.5\n",
    "\n",
    "F = abs(m*a) |> round_threedigits\n",
    "println(\"$F N\")"
   ]
  },
  {
   "cell_type": "code",
   "execution_count": 13,
   "metadata": {},
   "outputs": [
    {
     "name": "stdout",
     "output_type": "stream",
     "text": [
      "a: -2.5 m/s^2\n",
      "b: 10.0 m/s\n",
      "c: -12.5 N\n"
     ]
    }
   ],
   "source": [
    "# Ü1 - 4.4\n",
    "\n",
    "s = 20\n",
    "t = 4\n",
    "m = 5\n",
    "\n",
    "#a \n",
    "#s = .5 * a * t^2 → a = 2s/t^2\n",
    "a = -2s/t^2\n",
    "println(\"a: $a m/s^2\")\n",
    "\n",
    "#b\n",
    "\n",
    "# v = a * t\n",
    "v_0 = -a * t\n",
    "println(\"b: $v_0 m/s\")\n",
    "\n",
    "#c\n",
    "F = a *m\n",
    "println(\"c: $F N\")"
   ]
  },
  {
   "cell_type": "code",
   "execution_count": 14,
   "metadata": {},
   "outputs": [
    {
     "name": "stdout",
     "output_type": "stream",
     "text": [
      "a: 3.00E+05 m/s^2\n",
      "b: 2.00E-03 s\n",
      "c: 6.00E+03 N\n"
     ]
    }
   ],
   "source": [
    "# 4.6\n",
    "\n",
    "m = 20/1000\n",
    "l = 60/100\n",
    "\n",
    "v = 600\n",
    "\n",
    "#a \n",
    "\n",
    "# s = .5 a t^2\n",
    "#  v = a * t → t = v/a\n",
    "# s = .5 a v^2 /a^2 → .5 * v^2 /a\n",
    "# a  = .5 v^2 /s\n",
    "\n",
    "a = .5 * v^2 /l\n",
    "@printf \"a: %.2E m/s^2\\n\" a\n",
    "\n",
    "#b\n",
    "\n",
    "# s(t) = 0.6\n",
    "# s(t) = .5 * a * t^2\n",
    "# t = √(2s(t)/a)\n",
    "\n",
    "t = √(2*l/a)\n",
    "@printf \"b: %.2E s\\n\" t\n",
    "\n",
    "#c\n",
    "F = a * m\n",
    "@printf \"c: %.2E N\\n\" F\n"
   ]
  },
  {
   "cell_type": "code",
   "execution_count": 15,
   "metadata": {},
   "outputs": [
    {
     "name": "stdout",
     "output_type": "stream",
     "text": [
      "1.96E-02 m/s^2"
     ]
    }
   ],
   "source": [
    "g = 9.81\n",
    "F_G = 10^5\n",
    "m = F_G/g\n",
    "F = 700\n",
    "μ = .005\n",
    "\n",
    "F_res = 10^5 * μ\n",
    "a = (F - F_res)/m\n",
    "@printf \"%.2E m/s^2\" a"
   ]
  },
  {
   "cell_type": "markdown",
   "metadata": {
    "jp-MarkdownHeadingCollapsed": true,
    "tags": []
   },
   "source": [
    "## Mechanische Arbeit, Energieprinzip"
   ]
  },
  {
   "cell_type": "code",
   "execution_count": 16,
   "metadata": {},
   "outputs": [
    {
     "name": "stdout",
     "output_type": "stream",
     "text": [
      "a: 2.00E+03 s\n",
      "W: 2.00E+03 J"
     ]
    }
   ],
   "source": [
    "# 6.1\n",
    "\n",
    "m = 10\n",
    "v = 20\n",
    "\n",
    "#a\n",
    "\n",
    "F = .1\n",
    "\n",
    "a = F/m\n",
    "# v = at\n",
    "t = v/a\n",
    "\n",
    "W = .5m * v^2\n",
    "@printf \"a: %.2E s\\n\" t \n",
    "@printf \"W: %.2E J\" W"
   ]
  },
  {
   "cell_type": "code",
   "execution_count": 17,
   "metadata": {},
   "outputs": [
    {
     "name": "stdout",
     "output_type": "stream",
     "text": [
      "5.78E+00 m/s"
     ]
    }
   ],
   "source": [
    "# 6.12\n",
    "g = 9.81\n",
    "angld = 45\n",
    "l = 2\n",
    "\n",
    "Δh = tand(angld) * sin(angld) * 2\n",
    "\n",
    "# E_pot = mgh\n",
    "# E_kin = .5mv^2\n",
    "# mgh = .5mv^2\n",
    "# v^2 = 2gh\n",
    "v = sqrt(2*g*Δh) |> round_threedigits\n",
    "@printf \"%.2E m/s\" v\n"
   ]
  },
  {
   "cell_type": "markdown",
   "metadata": {
    "jp-MarkdownHeadingCollapsed": true,
    "tags": []
   },
   "source": [
    "## Leistung; Wirkungsgrad"
   ]
  },
  {
   "cell_type": "code",
   "execution_count": 18,
   "metadata": {},
   "outputs": [
    {
     "name": "stdout",
     "output_type": "stream",
     "text": [
      "2.78E+02 W"
     ]
    }
   ],
   "source": [
    "g = 9.81\n",
    "# 7.1\n",
    "m = 850\n",
    "t = 10 * 60\n",
    "Δh = 20\n",
    "\n",
    "W = m*g*Δh\n",
    "P = W /t\n",
    "@printf \"%.2E W\" P"
   ]
  },
  {
   "cell_type": "code",
   "execution_count": 19,
   "metadata": {},
   "outputs": [
    {
     "name": "stdout",
     "output_type": "stream",
     "text": [
      "1.43E+00"
     ]
    }
   ],
   "source": [
    "# 7.7.\n",
    "\n",
    "g = 9.81\n",
    "μ_ges = .9* .6\n",
    "m = 270\n",
    "P = 7E+3\n",
    "P_kran = P * μ_ges\n",
    "\n",
    "F_G = 270 * g\n",
    "v   = P_kran/F_G\n",
    "@printf \"%.2E\" v"
   ]
  },
  {
   "cell_type": "markdown",
   "metadata": {},
   "source": [
    "## Rotation"
   ]
  },
  {
   "cell_type": "code",
   "execution_count": 20,
   "metadata": {},
   "outputs": [
    {
     "name": "stdout",
     "output_type": "stream",
     "text": [
      "Drehzahl:    1.492E+02 U/min\n",
      "Umlaufdauer: 4.0E-01 s\n"
     ]
    }
   ],
   "source": [
    "#8.1\n",
    "v = 20 /3.6\n",
    "d = 71.12 /100\n",
    "r = d/2\n",
    "\n",
    "ω = v/r\n",
    "T = 2π/ω\n",
    "f = 1/T\n",
    "\n",
    "@printf \"Drehzahl:    %.3E U/min\\n\" f*60\n",
    "@printf \"Umlaufdauer: %.1E s\\n\" T"
   ]
  },
  {
   "cell_type": "code",
   "execution_count": 21,
   "metadata": {},
   "outputs": [
    {
     "name": "stdout",
     "output_type": "stream",
     "text": [
      "a: 4.00E+02 N\n",
      "b: 5.00E+01 N\n",
      "c: r*4"
     ]
    }
   ],
   "source": [
    "# 8.9\n",
    "\n",
    "v = 40 /3.6\n",
    "F = 100\n",
    "\n",
    "#a\n",
    "\n",
    "# F = m*ω^2*r = m*v^2/r\n",
    "# F ~ v^2 → v*2 ⇒ F*4\n",
    "\n",
    "F_v2 = F * 4\n",
    "\n",
    "@printf \"a: %.2E N\\n\" F_v2\n",
    "\n",
    "#b\n",
    "\n",
    "# F ~ 1/r\n",
    "# r*2 ⇒ F/2\n",
    "\n",
    "F_r2 = F/2\n",
    "@printf \"b: %.2E N\\n\" F_r2\n",
    "\n",
    "#c\n",
    "\n",
    "\n",
    "@printf \"c: r*4\"\n",
    "\n",
    "#"
   ]
  },
  {
   "cell_type": "code",
   "execution_count": 22,
   "metadata": {},
   "outputs": [
    {
     "data": {
      "text/plain": [
       "1.079"
      ]
     },
     "metadata": {},
     "output_type": "display_data"
    }
   ],
   "source": [
    "# 8.14\n",
    "\n",
    "ΔE = 100\n",
    "f_0 = 70 /60\n",
    "f_1 = 200 /60\n",
    "\n",
    "ω_0 = 2*π * f_0\n",
    "ω_1 = 2*π * f_1\n",
    "\n",
    "#  E = .5 * I * ω^2\n",
    "I = 2*ΔE / (ω_1 - ω_0)^2 |> round_threedigits"
   ]
  },
  {
   "cell_type": "markdown",
   "metadata": {},
   "source": [
    "## Hydrostatik, Auftrieb in Flüssigkeiten und Gasen"
   ]
  },
  {
   "cell_type": "code",
   "execution_count": 23,
   "metadata": {},
   "outputs": [
    {
     "data": {
      "text/plain": [
       "2498.451"
      ]
     },
     "metadata": {},
     "output_type": "display_data"
    }
   ],
   "source": [
    "g = 9.81\n",
    "ρ_wasser = 1020\n",
    "\n",
    "p = 250 * 10^5\n",
    "\n",
    "# p = ρ * h* g\n",
    "\n",
    "h = p / (ρ_wasser * g) |> round_threedigits"
   ]
  },
  {
   "cell_type": "code",
   "execution_count": 24,
   "metadata": {},
   "outputs": [
    {
     "name": "stdout",
     "output_type": "stream",
     "text": [
      "9.80 %"
     ]
    }
   ],
   "source": [
    "# 9.7\n",
    "\n",
    "\n",
    "V = 100\n",
    "ρ_ice = 920\n",
    "ρ_wasser = 1020\n",
    "\n",
    "m_ice = V * ρ_ice\n",
    "V_w = m_ice /ρ_wasser\n",
    "\n",
    "percent = V - V_w\n",
    "\n",
    "@printf \"%.2f %%\" percent"
   ]
  },
  {
   "cell_type": "markdown",
   "metadata": {
    "jp-MarkdownHeadingCollapsed": true,
    "tags": []
   },
   "source": [
    "# Übungszettel 2"
   ]
  },
  {
   "cell_type": "markdown",
   "metadata": {
    "jp-MarkdownHeadingCollapsed": true,
    "tags": []
   },
   "source": [
    "## Harmonische Bewegung"
   ]
  },
  {
   "cell_type": "code",
   "execution_count": 25,
   "metadata": {},
   "outputs": [
    {
     "name": "stdout",
     "output_type": "stream",
     "text": [
      "E: 9.71 cm"
     ]
    }
   ],
   "source": [
    "A = 12\n",
    "f = 15\n",
    "\n",
    "#\n",
    "func_i = A * sin(2π*f * .01)\n",
    "@printf \"E: %.02f cm\" func_i"
   ]
  },
  {
   "cell_type": "code",
   "execution_count": 26,
   "metadata": {},
   "outputs": [
    {
     "name": "stdout",
     "output_type": "stream",
     "text": [
      "f_P1 = Δ * 19 = 3.8000000000000003\n",
      "f_P2 = Δ * 20 = 4.0\n",
      "T_P1 = 1 / f_P1 = 0.2631578947368421\n",
      "T_P2 = 1 / f_P2 = 0.25\n"
     ]
    },
    {
     "data": {
      "text/plain": [
       "0.25"
      ]
     },
     "metadata": {},
     "output_type": "display_data"
    }
   ],
   "source": [
    "# 1.9\n",
    "\n",
    "# T_P1:T_P2 = 19:20\n",
    "# Δ * 15 = 3 → Δ = 1/5\n",
    "Δ = 1/5\n",
    " @show f_P1 = Δ * 19\n",
    " @show f_P2 = Δ * 20\n",
    "\n",
    " @show T_P1 = 1/f_P1\n",
    " @show T_P2 = 1/f_P2"
   ]
  },
  {
   "cell_type": "markdown",
   "metadata": {
    "jp-MarkdownHeadingCollapsed": true,
    "tags": []
   },
   "source": [
    "## Pendel"
   ]
  },
  {
   "cell_type": "code",
   "execution_count": 27,
   "metadata": {},
   "outputs": [
    {
     "name": "stdout",
     "output_type": "stream",
     "text": [
      "m = k / ω_0 ^ 2 |> round_threedigits = 3.648\n"
     ]
    }
   ],
   "source": [
    "# 2.1\n",
    "\n",
    "k = 25\n",
    "# 25 U/min\n",
    "f = 25/60\n",
    "ω_0 = 2π * f\n",
    "\n",
    "# ω_0 = √(k/m)\n",
    "# → ω_0^2 = k/m \n",
    "# → m = k/ω_0^2\n",
    "\n",
    "@show m = k /(ω_0^2) |> round_threedigits;\n"
   ]
  },
  {
   "cell_type": "code",
   "execution_count": 28,
   "metadata": {},
   "outputs": [
    {
     "name": "stdout",
     "output_type": "stream",
     "text": [
      "m = k / ω ^ 2 |> round_threedigits = 0.117\n"
     ]
    },
    {
     "data": {
      "text/plain": [
       "0.117"
      ]
     },
     "metadata": {},
     "output_type": "display_data"
    }
   ],
   "source": [
    "# 2.2\n",
    "\n",
    "k = 30\n",
    "v_0 = .8\n",
    "Â = 5 /100\n",
    "\n",
    "# s(t) = Â * sin(ωt)\n",
    "# v(t) = ω Â * cos(ωt)\n",
    "# v(0) = ω * Â = .8\n",
    "# ω * ̂5 = .8 →\n",
    "ω = v_0/Â\n",
    "\n",
    "# ω = √(k/m)\n",
    "@show m = k/ω^2 |> round_threedigits"
   ]
  },
  {
   "cell_type": "code",
   "execution_count": 29,
   "metadata": {},
   "outputs": [
    {
     "name": "stdout",
     "output_type": "stream",
     "text": [
      "1 / f |> round_threedigits = 0.246\n"
     ]
    },
    {
     "data": {
      "text/plain": [
       "0.246"
      ]
     },
     "metadata": {},
     "output_type": "display_data"
    }
   ],
   "source": [
    "# 2.12\n",
    "g = 9.81\n",
    "m = 0.1\n",
    "Δl = 1.5 /100\n",
    "\n",
    "k = (g*m)/Δl\n",
    "ω = √(k/m)\n",
    "f = ω/2π\n",
    "@show 1/f |> round_threedigits"
   ]
  },
  {
   "cell_type": "code",
   "execution_count": 30,
   "metadata": {},
   "outputs": [
    {
     "name": "stdout",
     "output_type": "stream",
     "text": [
      "l = (T_0 / (2π)) ^ 2 * g |> round_threedigits = 0.636\n"
     ]
    },
    {
     "data": {
      "text/plain": [
       "0.636"
      ]
     },
     "metadata": {},
     "output_type": "display_data"
    }
   ],
   "source": [
    "# 2.13\n",
    "\n",
    "g = 9.81\n",
    "T_20  =32\n",
    "T_0 = T_20/20\n",
    "\n",
    "#T_0 = 2π * √(l/g)\n",
    "@show l = (T_0/2π)^2 * g |> round_threedigits"
   ]
  },
  {
   "cell_type": "code",
   "execution_count": 31,
   "metadata": {},
   "outputs": [],
   "source": [
    "# ω  = "
   ]
  },
  {
   "cell_type": "markdown",
   "metadata": {
    "jp-MarkdownHeadingCollapsed": true,
    "tags": []
   },
   "source": [
    "## Gedämpfte Schwingung"
   ]
  },
  {
   "cell_type": "code",
   "execution_count": 32,
   "metadata": {},
   "outputs": [
    {
     "name": "stdout",
     "output_type": "stream",
     "text": [
      "A_8 = k ^ 7 * A_1 |> round_threedigits = 8.546\n"
     ]
    },
    {
     "data": {
      "text/plain": [
       "8.546"
      ]
     },
     "metadata": {},
     "output_type": "display_data"
    }
   ],
   "source": [
    "A_1 = 10.5\n",
    "A_3 = 9.9\n",
    "\n",
    "k = √(A_3/(A_1))\n",
    "@show A_8 = k^7* A_1 |> round_threedigits"
   ]
  },
  {
   "cell_type": "code",
   "execution_count": 33,
   "metadata": {},
   "outputs": [
    {
     "name": "stdout",
     "output_type": "stream",
     "text": [
      "k ^ 10 * 100 |> round_threedigits = 87.055\n"
     ]
    },
    {
     "data": {
      "text/plain": [
       "87.055"
      ]
     },
     "metadata": {},
     "output_type": "display_data"
    }
   ],
   "source": [
    "# A_50 = ŷ/2\n",
    "# A_50/A_0 = 1/2\n",
    "# k = 2^-1/50\n",
    "\n",
    "k = 2^(-1/50)\n",
    "@show k^10 * 100 |> round_threedigits"
   ]
  },
  {
   "cell_type": "markdown",
   "metadata": {
    "jp-MarkdownHeadingCollapsed": true,
    "tags": []
   },
   "source": [
    "## Wellen"
   ]
  },
  {
   "cell_type": "code",
   "execution_count": 34,
   "metadata": {},
   "outputs": [
    {
     "data": {
      "text/plain": [
       "5188.745"
      ]
     },
     "metadata": {},
     "output_type": "display_data"
    }
   ],
   "source": [
    "# 4.1\n",
    "\n",
    "E = 2.1*10^11\n",
    "ϱ = 7800\n",
    "\n",
    "E/ϱ |> sqrt |> round_threedigits"
   ]
  },
  {
   "cell_type": "code",
   "execution_count": 35,
   "metadata": {},
   "outputs": [
    {
     "name": "stdout",
     "output_type": "stream",
     "text": [
      "a: 2833.333 s^-1\n",
      "b: 1.76E-04 s"
     ]
    }
   ],
   "source": [
    "# 4.3\n",
    "\n",
    "# a \n",
    "\n",
    "c = 340\n",
    "λ = 12/100\n",
    "\n",
    "println(\"a: $(f = c/λ |> round_threedigits) s^-1\")\n",
    "\n",
    "# b \n",
    "\n",
    "T = 1/f\n",
    "@printf \"b: %.02E s\" T/2"
   ]
  },
  {
   "cell_type": "code",
   "execution_count": 36,
   "metadata": {},
   "outputs": [
    {
     "name": "stdout",
     "output_type": "stream",
     "text": [
      "0.5\n"
     ]
    }
   ],
   "source": [
    "# 4.5\n",
    "\n",
    "v = 10/4\n",
    "f = 5\n",
    "\n",
    "λ = v/f |> println"
   ]
  },
  {
   "cell_type": "code",
   "execution_count": 37,
   "metadata": {},
   "outputs": [
    {
     "name": "stdout",
     "output_type": "stream",
     "text": [
      "25.591\n"
     ]
    }
   ],
   "source": [
    "# 5.3\n",
    "\n",
    "f = 2000\n",
    "c = 340\n",
    "\n",
    "(\n",
    "\t# f' = f* c/c-v\n",
    "\t# .93f/f = c/c-v\n",
    "\t# .93c - .93v = c\n",
    "\t# .93v = -(c - .93c)\n",
    "\t-(c - .93c)/.93\n",
    "\t|> abs |> round_threedigits\n",
    ") |> println\n"
   ]
  },
  {
   "cell_type": "code",
   "execution_count": 38,
   "metadata": {},
   "outputs": [
    {
     "name": "stdout",
     "output_type": "stream",
     "text": [
      "0.17 m\n"
     ]
    }
   ],
   "source": [
    "# 5.7\n",
    "\n",
    "f = 1000\n",
    "n = 2\n",
    "c = 340\n",
    "\n",
    "# f = n * c/2L\n",
    "\n",
    "Δl_extrema = (n * c/(2*f) \n",
    "\t|> L-> L/2\n",
    ")\n",
    "\n",
    "println(\"$Δl_extrema m\")"
   ]
  },
  {
   "cell_type": "markdown",
   "metadata": {},
   "source": [
    "### Kontrollfragen"
   ]
  },
  {
   "cell_type": "markdown",
   "metadata": {},
   "source": [
    "- Ursache Welle:  \n",
    "\t\n",
    "- Ursprung Welle:  \n",
    "\t*Erregerzentrum*\n",
    "- harmonische Welle:  \n",
    "\tWelle der Form: $A * sin(\\omega\\cdot t)$\n",
    "- Transversale vs Longitudinalwelle  \n",
    "\tLongitudinal: Modulation in gleicher richtung wie Ausbreitung  \n",
    "- Erkläre  \n",
    "\t- Frequenz  \n",
    "\t\t*Schwingungen pro in Zeitraum (Hz bei Sekunde)*  \n",
    "\t- Wellenlänge    \n",
    "\t\t*räumlicher abstand zwischen zwei nulldurchgängen | maxima | minima*  \n",
    "\t- Ausbreitungsgeschwindigkeit  \n",
    "\t\t*beschreibt wie schnell sich die Welle im Raumfortbewegt*  \n",
    "\t\t\n",
    "\tZusammenhang: $c = f\\cdot\\lambda$\n",
    "- mögliche Aggregatzustände\n",
    "\t- Longitudinalwelle:\n",
    "\t\t- Fest\n",
    "\t\t- Flüssig\n",
    "\t\t- Gasförmig\n",
    "\t- Transversalwelle\n",
    "\t\t- Fest\n",
    "- Einteilung Frequenz  \n",
    "    - Infraschall f < 16 Hz\n",
    "    - Hörschall 16 Hz < f < 20kHz  \n",
    "    - Ultraschall 20kHz < f < 16 GHz\n",
    "- Ton vs Klang  \n",
    "    Ton genau eine f  \n",
    "    Klang Grundton + Obertöne\n",
    "- Tonhöhe vs Lautstärke  \n",
    "\tTonhöhe von $f$ abhängig  \n",
    "\tLautstärke von $\\hat{A}$\n",
    "- Erkläre  \n",
    "    Grundton niedrigste f eines Klanges\n",
    "\tObertöne sind ganzzahlige vielfache von einem Grundton  \n",
    "\t(e.g Grundton = 440 Hz, Obertöne = {880, 1360, 1760,...})\n",
    "- Wellenfront  \n",
    "\tDie Fläche aller zusammenhängenden Punkte einer Welle\n",
    "- Wellenstrahl  \n",
    "\tDie Abreitungsrichtung einer Welle\n",
    "- Wann Wellenstrahlen parallel?  \n",
    "\tWenn die Wellenfront Gerade verläuft und nicht Kreisförmig (ebene Wellenfront)\n",
    "- Interferenz Bedingung\n",
    "\tÜberlagerung mehrerer Wellen\n",
    "- Kohärenz  \n",
    "\tGleicher Phasenunterschied\n",
    "- bedingung konstruktive/destruktive Interferenz  \n",
    "\t- Konstruktiv  \n",
    "\t\t$\\Delta\\lambda = k\\cdot \\lambda_1$\n",
    "\t- Destruktiv\n",
    "\t\t$\\Delta\\lambda = k\\cdot\\lambda_1 + \\lambda_1/2$\n",
    "- Huygen'sches Prinzip\n",
    "\t\"Jeder Punkt an einer Wellenfront kann wieder als Ausgangspunkt einer neunen Welle betrachtet werden\"\n",
    "- Beugung\n",
    "\tAblenkung einer Welle bei einem Hindernis\n",
    "- Bedingung Beugung  \n",
    "\t$\\lambda \\approx d$  \n",
    "\twobei d öffnung bei einem einfachspalt ist\n",
    "- Reflexionsgesetz  \n",
    "\t$\\alpha = \\alpha'$\n",
    "- Relexion über Huygen'sches prinzip\n",
    "\tWenn eine Wellenfront auf eine Fläche trifft, so treffen manche Teilchen vor anderen auf die Fläche auf.  \n",
    "\tDiese können nun, durch das Huygen'sche Prinzip, als elementarwellen betrachtet werden, wenn ein anderer Punkt der Welle auf die Fläche auftrift,\n",
    "\tkann man eine linie finden, welche die Punkte miteinander verbindet, diese linie entspricht dem Reflexionsgesetz $\\alpha = \\alpha'$\n",
    "- Brechung\n",
    "\tÄnderung des Winkels, wenn eine Welle von einem Trägermedium in ein anderes Trägermedium mit anderer Dichte übergeht\n",
    "- Brechungsgesetz  \n",
    "\t$\\frac{sin(\\alpha)}{sin(\\beta)} = \\frac{n_\\alpha}{n_\\beta}$  \n",
    "\tn...Brechungsindex  \n",
    "- Grundfrequenz Saite\n",
    "\t- Länge\n",
    "\t- Dicke\n",
    "\t- Spannkraft\n",
    "- Zusammenhang Wellenlänge und Länge v. Seite\n",
    "- Eigenschwingungen entstehung  \n",
    "\tDurch Reflexionen\n",
    "- Schallabstrahlung vergrößert\n",
    "\tSchwungkörper\n",
    "- Warum Musikinstrumente unterscheiden\n",
    "\tVerschiedene Instrumente erzeugen verschiedene Oberschwingungen"
   ]
  },
  {
   "cell_type": "markdown",
   "metadata": {
    "jp-MarkdownHeadingCollapsed": true,
    "tags": []
   },
   "source": [
    "# Schwingungen"
   ]
  },
  {
   "cell_type": "code",
   "execution_count": 39,
   "metadata": {},
   "outputs": [
    {
     "name": "stdout",
     "output_type": "stream",
     "text": [
      "T = 1 / f |> round_threedigits = 0.246\n"
     ]
    },
    {
     "data": {
      "text/plain": [
       "0.246"
      ]
     },
     "metadata": {},
     "output_type": "display_data"
    }
   ],
   "source": [
    "# 6\n",
    "\n",
    "g = 9.81\n",
    "Δl = 1.5/100\n",
    "m = .1\n",
    "\n",
    "k = (g *m)/Δl\n",
    "ω = √(k/m)\n",
    "f = ω/2π\n",
    "@show T = 1/f |> round_threedigits"
   ]
  },
  {
   "cell_type": "code",
   "execution_count": 40,
   "metadata": {},
   "outputs": [
    {
     "name": "stdout",
     "output_type": "stream",
     "text": [
      "41.4 %"
     ]
    }
   ],
   "source": [
    "# 8\n",
    "\n",
    "# m' = .5m\n",
    "# ω = √k/m\n",
    "\n",
    "# ω'/ω = √(2k/m) / k/m = √(2)\n",
    "\n",
    "@printf \"%.01f %%\" √(2) - 1 |> x-> x*100\n"
   ]
  },
  {
   "cell_type": "code",
   "execution_count": 41,
   "metadata": {},
   "outputs": [
    {
     "name": "stdout",
     "output_type": "stream",
     "text": [
      "a: 6.02 s\n"
     ]
    },
    {
     "name": "stdout",
     "output_type": "stream",
     "text": [
      "\t 0.20 s\n",
      "b:\n",
      "\tn_1:\t6\n",
      "\tn_2:\t5"
     ]
    }
   ],
   "source": [
    "# 14\n",
    "g = 9.81\n",
    "\n",
    "l_1 = 25 /100\n",
    "l_2 = 36 /100\n",
    "\n",
    "T_1 = 2π * √(l_1/g)\n",
    "T_2 = 2π * √(l_2/g)\n",
    "\n",
    "# ω = 2π f = 2π/T\n",
    "ω_1 = 2π/T_1\n",
    "ω_2 = 2π/T_2\n",
    "\n",
    "#@show T_1\n",
    "#@show T_2\n",
    "\n",
    "# sin(ω_1 t) = sin(ω_2 t)\n",
    "\n",
    "Δω = ω_1 - ω_2 |> abs\n",
    "@printf \"a: %.2f s\\n\" t = 2π/Δω\n",
    "@printf \"\\t %.2f s\\n\" (T_1 - T_2 |> abs)\n",
    "\n",
    "n_1 = t/T_1\n",
    "n_2 = t/T_2\n",
    "\n",
    "@printf \"b:\\n\\tn_1:\\t%d\\n\\tn_2:\\t%d\" n_1 n_2"
   ]
  },
  {
   "cell_type": "code",
   "execution_count": 42,
   "metadata": {},
   "outputs": [
    {
     "name": "stdout",
     "output_type": "stream",
     "text": [
      "I_k = 7.36E-04 kg m^2"
     ]
    }
   ],
   "source": [
    "# 18\n",
    "\n",
    "T_d = .72\n",
    "I_d = 9.5 * 10^-5\n",
    "\n",
    "T_add = 2.13\n",
    "\n",
    "#T = 2π √(m*g*s/I)\n",
    "\n",
    "# T_add/T_d = √(I_d + I_k/(I_d))\n",
    "I_k = ((T_add/T_d)^2 - 1) * I_d\n",
    "\n",
    "@printf \"I_k = %.2E kg m^2\" I_k"
   ]
  },
  {
   "cell_type": "code",
   "execution_count": 43,
   "metadata": {},
   "outputs": [
    {
     "name": "stdout",
     "output_type": "stream",
     "text": [
      "r = 0.20 m"
     ]
    }
   ],
   "source": [
    "# 20\n",
    "\n",
    "m = 8\n",
    "T = .18\n",
    "E = 196\n",
    "\n",
    "ω = 2π/T\n",
    "# ω = √(k/m)\n",
    "k = ω^2 *m\n",
    "\n",
    "# E = 1/2 * k * r^2\n",
    "r = √(2*E/k)\n",
    "@printf \"r = %.2f m\" r"
   ]
  },
  {
   "cell_type": "code",
   "execution_count": 44,
   "metadata": {},
   "outputs": [
    {
     "name": "stdout",
     "output_type": "stream",
     "text": [
      "f = 3.65 Hz"
     ]
    }
   ],
   "source": [
    "# 23\n",
    "\n",
    "m_p = 1 *1000\n",
    "m_l = 3 *1000\n",
    "m = m_l + m_p\n",
    "n = 6\n",
    "k = 3.5 *10^5\n",
    "\n",
    "ω = √(k*n/m)\n",
    "f = ω/2π\n",
    "\n",
    "@printf \"f = %.2f Hz\" f"
   ]
  },
  {
   "cell_type": "code",
   "execution_count": 45,
   "metadata": {},
   "outputs": [
    {
     "data": {
      "image/png": "[encoded data removed]"
     },
     "metadata": {},
     "output_type": "display_data"
    }
   ],
   "source": [
    "r_1 = 2\n",
    "r_2 = 1\n",
    "\n",
    "ω_1 = 2π\n",
    "ω_2 = 3* ω_1\n",
    "\n",
    "t = 0:.01:3\n",
    "\n",
    "fig = Figure()\n",
    "ax = fig[1, 1] = Axis(fig)\n",
    "\n",
    "plot!(ax,\n",
    "\tt,\n",
    "\tt-> r_1 * sin(t* ω_1),\n",
    "\tcolor = :red\n",
    ")\n",
    "plot!(ax,\n",
    "\tt,\n",
    "\tt-> r_2 * sin(t* ω_2),\n",
    "\tcolor = :blue\n",
    ")\n",
    "plot!(ax,\n",
    "\tt,\n",
    "\tt->(\n",
    "\t\tr_1 * sin(t* ω_1) + r_2 * sin(t* ω_2)\n",
    "\t),\n",
    "\tcolor = :purple,\n",
    ")\n",
    " fig"
   ]
  },
  {
   "cell_type": "code",
   "execution_count": 46,
   "metadata": {},
   "outputs": [
    {
     "data": {
      "image/png": "[encoded data removed]"
     },
     "metadata": {},
     "output_type": "display_data"
    }
   ],
   "source": [
    "r_1 = 1\n",
    "r_2 = 2\n",
    "\n",
    "ω_1 = 2π\n",
    "ω_2 = ω_1\n",
    "\n",
    "Δϕ = π/2\n",
    "\n",
    "t = 0:.01:3\n",
    "\n",
    "fig = Figure()\n",
    "ax = fig[1, 1] = Axis(fig)\n",
    "\n",
    "plot!(ax,\n",
    "\tt,\n",
    "\tt-> r_1 * sin(t* ω_1),\n",
    "\tcolor = :red\n",
    ")\n",
    "plot!(ax,\n",
    "\tt,\n",
    "\tt-> r_2 * sin(t* ω_2 + Δϕ),\n",
    "\tcolor = :blue\n",
    ")\n",
    "plot!(ax,\n",
    "\tt,\n",
    "\tt->(\n",
    "\t\tr_1 * sin(t* ω_1) + r_2 * sin(t* ω_2 + Δϕ)\n",
    "\t),\n",
    "\tcolor = :purple,\n",
    ")\n",
    " fig"
   ]
  },
  {
   "cell_type": "code",
   "execution_count": 47,
   "metadata": {},
   "outputs": [
    {
     "data": {
      "image/png": "[encoded data removed]"
     },
     "metadata": {},
     "output_type": "display_data"
    }
   ],
   "source": [
    "r_x = 1\n",
    "r_y = 1\n",
    "\n",
    "ω_x = 2π\n",
    "ω_y = 2π\n",
    "\n",
    "Δϕ  = 3π/2\n",
    "\n",
    "t = 0:.01:1\n",
    "\n",
    "x_s = map(t) do t\n",
    "\tr_x * sin(ω_x * t + Δϕ)\n",
    "end\n",
    "\n",
    "y_s = map(t) do t\n",
    "\tr_y * sin(ω_y * t)\n",
    "end\n",
    "\n",
    "fig = Figure(resolution = (600,600))\n",
    "ax = fig[1, 1] = Axis(fig)\n",
    "\n",
    "plot!(ax,\n",
    "\tx_s,\n",
    "\ty_s\n",
    ")\n",
    "\n",
    "fig"
   ]
  },
  {
   "cell_type": "code",
   "execution_count": 48,
   "metadata": {},
   "outputs": [
    {
     "data": {
      "image/png": "[encoded data removed]"
     },
     "metadata": {},
     "output_type": "display_data"
    }
   ],
   "source": [
    "r_x = 1\n",
    "r_y = 2\n",
    "\n",
    "ω_x = 2π\n",
    "ω_y = 2π\n",
    "\n",
    "Δϕ  = π/2\n",
    "\n",
    "t = 0:.01:1\n",
    "\n",
    "x_s = map(t) do t\n",
    "\tr_x * sin(ω_x * t + Δϕ)\n",
    "end\n",
    "\n",
    "y_s = map(t) do t\n",
    "\tr_y * sin(ω_y * t)\n",
    "end\n",
    "\n",
    "fig = Figure(resolution = (600,600))\n",
    "ax = fig[1, 1] = Axis(fig)\n",
    "\n",
    "plot!(ax,\n",
    "\tx_s,\n",
    "\ty_s\n",
    ")\n",
    "\n",
    "fig"
   ]
  },
  {
   "cell_type": "code",
   "execution_count": 49,
   "metadata": {},
   "outputs": [
    {
     "data": {
      "image/png": "[encoded data removed]"
     },
     "metadata": {},
     "output_type": "display_data"
    }
   ],
   "source": [
    "r_x = 1\n",
    "r_y = 1\n",
    "\n",
    "ω_x = 2π\n",
    "ω_y = ω_x * 3\n",
    "\n",
    "Δϕ  = 0\n",
    "\n",
    "t = 0:.01:1\n",
    "\n",
    "x_s = map(t) do t\n",
    "\tr_x * sin(ω_x * t + Δϕ)\n",
    "end\n",
    "\n",
    "y_s = map(t) do t\n",
    "\tr_y * sin(ω_y * t)\n",
    "end\n",
    "\n",
    "fig = Figure(resolution = (600,600))\n",
    "ax = fig[1, 1] = Axis(fig)\n",
    "\n",
    "plot!(ax,\n",
    "\tx_s,\n",
    "\ty_s\n",
    ")\n",
    "\n",
    "fig"
   ]
  },
  {
   "cell_type": "markdown",
   "metadata": {
    "tags": []
   },
   "source": [
    "# ÜWellen_1"
   ]
  },
  {
   "cell_type": "code",
   "execution_count": 50,
   "metadata": {},
   "outputs": [
    {
     "name": "stdout",
     "output_type": "stream",
     "text": [
      "a: 2860.00 Hz\n",
      "b: 0.17 ms\n"
     ]
    }
   ],
   "source": [
    "# 42\n",
    "\n",
    "c =  343.2\n",
    "λ = 12 /100\n",
    "\n",
    "\n",
    "f = c/λ\n",
    "\n",
    "T = 1/f\n",
    "t = T/2\n",
    "\n",
    "@printf \"a: %.2f Hz\\n\" f\n",
    "@printf \"b: %.2f ms\\n\" t * 1000"
   ]
  },
  {
   "cell_type": "code",
   "execution_count": 51,
   "metadata": {},
   "outputs": [
    {
     "data": {
      "text/plain": [
       "5188.745216627708"
      ]
     },
     "metadata": {},
     "output_type": "display_data"
    }
   ],
   "source": [
    "E = 2.1 * 10^11\n",
    "ϱ = 7800\n",
    "\n",
    "E/ϱ |> sqrt"
   ]
  },
  {
   "cell_type": "code",
   "execution_count": 52,
   "metadata": {},
   "outputs": [
    {
     "name": "stdout",
     "output_type": "stream",
     "text": [
      "c = 292.74 m/s\n"
     ]
    }
   ],
   "source": [
    "# 31\n",
    "ϱ = 7800\n",
    "d = 2 /1000\n",
    "Ψ = 2100\n",
    "\n",
    "c = 2/d * √(Ψ/(π * ϱ))\n",
    "@printf \"c = %.2f m/s\\n\" c"
   ]
  },
  {
   "cell_type": "code",
   "execution_count": 53,
   "metadata": {},
   "outputs": [
    {
     "data": {
      "text/plain": [
       "3431.9999999999995"
      ]
     },
     "metadata": {},
     "output_type": "display_data"
    }
   ],
   "source": [
    "# 51\n",
    "\n",
    "ΔM = 10 /100\n",
    "\n",
    "λ = ΔM\n",
    "c = 343.2\n",
    "\n",
    "f = c/λ"
   ]
  },
  {
   "cell_type": "markdown",
   "metadata": {
    "jp-MarkdownHeadingCollapsed": true,
    "tags": []
   },
   "source": [
    "# Ü3"
   ]
  },
  {
   "cell_type": "code",
   "execution_count": 54,
   "metadata": {},
   "outputs": [
    {
     "name": "stdout",
     "output_type": "stream",
     "text": [
      "a: Nein, durch die Wärmeaußdehnung ändert sich die Höhe ständig\n",
      "b: 0.18 m"
     ]
    }
   ],
   "source": [
    "α  = 11.8 * 10^-6\n",
    "l  = 300.137\n",
    "ΔT = 50\n",
    "\n",
    "Δl = α * l * ΔT\n",
    "\n",
    "@printf \"a: Nein, durch die Wärmeaußdehnung ändert sich die Höhe ständig\\n\"\n",
    "@printf \"b: %.2f m\" Δl"
   ]
  },
  {
   "cell_type": "code",
   "execution_count": 55,
   "metadata": {},
   "outputs": [
    {
     "data": {
      "text/plain": [
       "5.0555555555555555e-6"
      ]
     },
     "metadata": {},
     "output_type": "display_data"
    }
   ],
   "source": [
    "# 1.8\n",
    "\n",
    "l = 3\n",
    "Δl = .91/1000\n",
    "ΔT = 60\n",
    "\n",
    "α = Δl/(l * ΔT)"
   ]
  },
  {
   "cell_type": "code",
   "execution_count": 56,
   "metadata": {},
   "outputs": [
    {
     "name": "stdout",
     "output_type": "stream",
     "text": [
      "62.24 cm³"
     ]
    }
   ],
   "source": [
    "# 1.114\n",
    "\n",
    "V = 1\n",
    "α_glass = 9 * 10^-6\n",
    "γ_turp  = 97 * 10^-5\n",
    "γ_glass = 3 * α_glass\n",
    "\n",
    "ΔT = 86-20\n",
    "\n",
    "ΔV_g = ΔT * γ_glass * V\n",
    "ΔV_t = ΔT * γ_turp  * V\n",
    "\n",
    "ΔV = ΔV_g - ΔV_t |> abs\n",
    "\n",
    "@printf \"%.2f cm³\" ΔV * 1000"
   ]
  },
  {
   "cell_type": "code",
   "execution_count": 57,
   "metadata": {},
   "outputs": [
    {
     "name": "stdout",
     "output_type": "stream",
     "text": [
      "97.28 °C\n",
      "370.43 K"
     ]
    }
   ],
   "source": [
    "# 4.4\n",
    "\n",
    "g = 9.81\n",
    "\n",
    "V = 160\n",
    "m = 45\n",
    "p = 97_000\n",
    "\n",
    "R_s = 287\n",
    "\n",
    "# pV = mR_s T \n",
    "# p = ϱ R_s T \n",
    "# ϱ = p/(R_s * T); p = const\n",
    "\n",
    "ϱ = T-> p/(R_s * (T + 273.15))\n",
    "invϱ = ϱ-> (p/(R_s * ϱ)) - 273.15\n",
    "\n",
    "F_A = V * ϱ(10) * g\n",
    "# F_G = F_A = m*g + ϱ(T) * V * g\n",
    "# ϱ(T) = (F_A - m*g)/(V * g)\n",
    "\n",
    "T = (F_A - m*g)/(V*g) |> invϱ\n",
    "\n",
    "@printf \"%.2f °C\\n\" T\n",
    "@printf \"%.2f K\" T+273.15"
   ]
  },
  {
   "cell_type": "code",
   "execution_count": 58,
   "metadata": {},
   "outputs": [
    {
     "data": {
      "text/plain": [
       "10.89"
      ]
     },
     "metadata": {},
     "output_type": "display_data"
    }
   ],
   "source": [
    "# 4.6\n",
    "\n",
    "V = 4.8\n",
    "p_1 = 3.85 *100\n",
    "p_2 = 1.17 *100\n",
    "\n",
    "T_1 = 24+273\n",
    "T_2 = 22+273\n",
    "\n",
    "# pV/T \n",
    "# p_1V/T_1 = p_2 (V + ΔV)/T_2\n",
    "# V + ΔV = T_2/T_1 * p_1/p_2 *V\n",
    "# ΔV = T_2/T_1 * p_1/p_2 * V - V\n",
    "ΔV = T_2/T_1 * p_1/p_2 * V - V |> x-> round(x, digits=2)"
   ]
  },
  {
   "cell_type": "code",
   "execution_count": 59,
   "metadata": {},
   "outputs": [
    {
     "name": "stdout",
     "output_type": "stream",
     "text": [
      "-16.25 °C"
     ]
    }
   ],
   "source": [
    "T_1 = 18 + 273.15\n",
    "p_1 = 1020 * 100\n",
    "V_1 = 1200\n",
    "\n",
    "V_2 = 2250\n",
    "p_2 = 480* 100\n",
    "\n",
    "# p_1V_1/T_1 = p_2V_2/T_2\n",
    "# T_2 = (p_2V_2)/(p_1V_1) * T_1\n",
    "\n",
    "T_2 = (p_2 * V_2)/(p_1 * V_1) * T_1 |> T_K-> T_K -273.15\n",
    "\n",
    "@printf \"%.2f °C\" T_2"
   ]
  }
 ],
 "metadata": {
  "kernelspec": {
   "display_name": "Julia 1.9.0",
   "language": "julia",
   "name": "julia-1.9"
  },
  "language_info": {
   "file_extension": ".jl",
   "mimetype": "application/julia",
   "name": "julia",
   "version": "1.9.0"
  }
 },
 "nbformat": 4,
 "nbformat_minor": 4
}
