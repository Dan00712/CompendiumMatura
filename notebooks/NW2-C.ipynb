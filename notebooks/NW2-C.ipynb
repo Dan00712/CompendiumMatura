{
 "cells": [
  {
   "cell_type": "code",
   "execution_count": null,
   "id": "0ece5372-c105-4809-bf18-5b5f05638b6e",
   "metadata": {},
   "outputs": [],
   "source": []
  }
 ],
 "metadata": {
  "kernelspec": {
   "display_name": "Julia 1.7.3",
   "language": "julia",
   "name": "julia-1.7"
  },
  "language_info": {
   "file_extension": ".jl",
   "mimetype": "application/julia",
   "name": "julia",
   "version": "1.7.3"
  }
 },
 "nbformat": 4,
 "nbformat_minor": 5
}
