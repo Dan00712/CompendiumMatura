{
 "cells": [
  {
   "cell_type": "code",
   "execution_count": 1,
   "id": "60b65872-3fb1-4a6b-8798-a680673e3067",
   "metadata": {},
   "outputs": [],
   "source": [
    "using DrWatson\n",
    "@quickactivate  \n",
    "\n",
    "using Printf"
   ]
  },
  {
   "cell_type": "markdown",
   "id": "53d069c9-e5af-40bc-9842-51c7910bab29",
   "metadata": {
    "jp-MarkdownHeadingCollapsed": true,
    "tags": []
   },
   "source": [
    "# Chemistry - 05-09-2022"
   ]
  },
  {
   "cell_type": "markdown",
   "id": "b35101f7-3efb-4e0d-ac6c-f0cdff97953c",
   "metadata": {},
   "source": [
    "Bspfrage:  \n",
    "- a  \n",
    "    \n",
    "- b   \n",
    "    \n",
    "- c  \n",
    "    \n",
    "- d  \n",
    "    "
   ]
  },
  {
   "cell_type": "markdown",
   "id": "161bda71-5c53-41ef-9908-8f017c74d475",
   "metadata": {
    "tags": []
   },
   "source": [
    "## Thema 1"
   ]
  },
  {
   "cell_type": "markdown",
   "id": "766ee833-2b1f-4db9-9520-5f4ef9e7ebed",
   "metadata": {},
   "source": [
    "### Aggregatzustände\n",
    "\n",
    "Phasendiagramm wichtig  \n",
    "\n",
    "Ideales Gas ($22.4 \\frac{l}{mol}$, kommt alleine nicht); Wetterballon wichtig (auch Taucher);  \n",
    "Flüssig; Gleichgewicht Phasen;  \n",
    "\n",
    "Trennverfahren logisch lernen  \n",
    "\n",
    "\n",
    "Teilchen  \n",
    "Radioaktivität weniger  \n",
    "\n",
    "Elektronenkonfiugration wichtig  \n",
    "\n",
    "Jedes Elektron eigenen Energiezustand, 4 Quantenzahlen  \n",
    "\n",
    "Periodensystem nach Pauli-Verbot und Hundsche Regel geordnet  \n",
    "\n",
    "- Hauptquantenzahl: Schalen  \n",
    "- Nebenquantenzahl: Oribtalform  \n",
    "- Magnetquantenzahl: Räumliche Ordnung d. Räumlichen Ordnung  \n",
    "- Spinquantenzahl: Drehrichtung  \n",
    "\n",
    "Äußere Schale bedeutet nich automatisch mehr Energie  \n",
    "Elektronenkonfiguration mit Periodensystem erkennen  \n",
    "\n",
    "keine Explizite Frage zum Periodensystem  \n",
    "Hauptgruppen nicht Auswendig\n",
    "\n",
    "### Chemische Bindungen  \n",
    "\n",
    "- Ionenbindung  \n",
    "    ein Ion gibt Elektronen ab anderes nimmt auf  \n",
    "    in Wasser gelöst Gitterenergie wird frei  \n",
    "    Metall + Nichtmetall\n",
    "- Atombindung  \n",
    "    Elektronen können gemeinsam genutzt werden  \n",
    "    2 Nichtmetalle  \n",
    "    Polar | Unpolar  \n",
    "    Dipol (Partialladung)  \n",
    "- Metallbindung  \n",
    "    Geben alle Elektronen ab (Elektronensee)  \n",
    "    2 Metalle  \n",
    "\n",
    "- Komplexverbind  \n",
    "    Moleküle lagern sich um zentrales Molekül  \n",
    "\n",
    "Zwischenmolekulare Kräfte  \n",
    "\n",
    "- Wasserstoffbrücken: Wegen Partialladung  \n",
    "    Dynamische Wechselwirkungen  \n",
    "- Van-der-Vals-Kräfte  \n",
    "    Temporere Partialladung  \n",
    "\n",
    "Nomenklatur + Stoffmenge + Molare Masse kein eigenes Bsp. aber wichtig  \n",
    "~~$* \\bullet~X~H_2O$~~  \n",
    "\n",
    "**Wichtig:**  \n",
    "\n",
    "$c = \\frac{n}{V}$  \n",
    "$c_1 \\cdot V_1 = c_2 \\cdot V_2$  \n",
    "\n",
    "\n",
    "### Stöchiometrie  \n",
    "\n",
    "logisch  \n",
    "keine Frage explizit Stöchiometrie\n",
    "\n",
    "### Reaktionskinetik  \n",
    "\n",
    "kein Massenwirkungsgesetz aufstellen  \n",
    "Bedeutung schon  \n",
    "\n",
    "Beinflussen mit...  \n",
    "\n",
    "Exo- & Endotherme Reaktionen  \n",
    "Endoterm (Kalkbrennen)\n",
    "Exoterm (Nitroglycerin)  \n",
    "\n",
    "Kat  \n",
    "\n",
    "### Säure  \n",
    "\n",
    "Arrhenius am wichtigsten  \n",
    "Brönsted/ Lewis grob beschreiben  \n",
    "~~Amphylite~~  \n",
    "\n",
    "Definition pH/pOH  \n",
    "\n",
    "Dissoziationsgrad  \n",
    "pK_S wert Starke Säuren  \n",
    "von Liste und Berechnen  \n",
    "\n",
    "Titration nur von Starken Säuren/Basen!  \n",
    "\n",
    "Puffer nur erklären  \n",
    "\n",
    "### Redox  \n",
    "\n",
    "nutzen (elektr. Energie, Elektrolyse,...)  \n",
    "\n",
    "Reduktion und Oxidation definition  \n",
    "\n",
    "Gekoppelte Reaktion; wo Reduktion eine Oxidation  \n",
    "In elementarer Zustand Oxidationszahl Null  \n",
    "\n",
    "keine Redoxreaktion vollständig lösen  \n",
    "\n",
    "\n",
    "Halbgleichungen  \n",
    "wie z.B elektro Chemie  "
   ]
  },
  {
   "cell_type": "code",
   "execution_count": 23,
   "id": "4014e5b2-89b5-43a0-9df0-39ee1805f40d",
   "metadata": {},
   "outputs": [
    {
     "name": "stdout",
     "output_type": "stream",
     "text": [
      "V₁ = 2.396E+00 m³\n",
      "V₁ = 2.396E+03 L"
     ]
    }
   ],
   "source": [
    "# Wetterballon\n",
    "V_0 = 300 * 1e-3  \n",
    "T_0 = 273.15\n",
    "p_0 = 1.013 * 1e-5\n",
    "\n",
    "p_1 = .1013e-5\n",
    "T_1 = 273.15 - 55\n",
    "\n",
    "# Stoffmenge n₁ = n₂\n",
    "\n",
    "V_1 = (p_0/p_1) * (T_1/T_0) * V_0\n",
    "\n",
    "@printf \"V₁ = %.3E m³\\n\" V_1  \n",
    "@printf \"V₁ = %.3E L\" V_1 * 1e+3"
   ]
  },
  {
   "cell_type": "code",
   "execution_count": 8,
   "id": "a6761aff-9ccf-4b70-8778-c709a1f8314b",
   "metadata": {},
   "outputs": [
    {
     "name": "stdout",
     "output_type": "stream",
     "text": [
      "Masse der Essigsäure: 6.00E+00\n"
     ]
    }
   ],
   "source": [
    "# Kaffemaschnine\n",
    "M_Kalk = 40 + 12 + 3*16  \n",
    "M_Essig = 2*12 + 4 + 2*16  \n",
    "\n",
    "# 1 Kalk + 2 Essig ->  \n",
    "\n",
    "n = 5/100  \n",
    "m_Essig = (2 * M_Essig) * n\n",
    "\n",
    "@printf \"Masse der Essigsäure: %.2E\\n\" m_Essig"
   ]
  },
  {
   "cell_type": "markdown",
   "id": "a65c84e0-585e-4175-9094-8ba9eb280fc4",
   "metadata": {
    "jp-MarkdownHeadingCollapsed": true,
    "tags": []
   },
   "source": [
    "## Elektrochemie"
   ]
  },
  {
   "cell_type": "markdown",
   "id": "5634bf1d-b152-438d-b62d-e634ba977400",
   "metadata": {},
   "source": [
    "### Elektrische Leiter  \n",
    "\n",
    "1./2. Klasse  \n",
    "\n",
    "Halbelment \n",
    "\n",
    "Spannungsreihe  \n",
    "\n",
    "Bedeutung  \n",
    "\n",
    "### Faradaysche Gesetz"
   ]
  },
  {
   "cell_type": "code",
   "execution_count": null,
   "id": "044b39c2-c997-4d49-88ca-4f0c87ad18fc",
   "metadata": {},
   "outputs": [],
   "source": []
  },
  {
   "cell_type": "markdown",
   "id": "beb1ba63-0126-4129-9ad5-fc258d1f0ae1",
   "metadata": {
    "jp-MarkdownHeadingCollapsed": true,
    "tags": []
   },
   "source": [
    "# Chemistry - 09-09-2022"
   ]
  },
  {
   "cell_type": "markdown",
   "id": "5fa7dacb-6761-4ab2-b570-b90091ec6624",
   "metadata": {
    "tags": []
   },
   "source": [
    "# Physics - 05-09-2022"
   ]
  },
  {
   "cell_type": "markdown",
   "id": "655016eb-9457-4dbc-bd70-f3a7cf63af4a",
   "metadata": {},
   "source": [
    "## Sprengung eines Felsens  \n",
    "\n",
    "Stein mit Masse, Loch wird gebort, Schwarzpulver rein und gesprengt, Masseverhältnise 2:1  \n",
    "\n",
    "$E = 100kJ$  \n",
    "$m = 2t$  \n",
    "$m_1 = \\frac{2}{3}t$  \n",
    "$m_2 = \\frac{4}{3}t$  \n",
    "\n",
    "$E_{kin} = \\frac{1}{2} m v^2$  \n",
    "$E_{kin; ges} = const = \\frac{1}{2} m_1 v_1^2 + \\frac{1}{2} m_2 v_2^2 + E_{BOOM} = \\frac{1}{2} m_1 v_1'^2 + \\frac{1}{2} m_2 v_2'^2$  \n",
    "\n",
    "$E_{BOOM} = 100kJ = \\frac{1}{2} m_1 v_1'^2 + \\frac{1}{2} m_2 v_2'^2$  \n",
    "$m_1 v_1 + m_2 v_2 = m_1 v_1' + m_2 v_2 = 0$  \n",
    "\n",
    "Einsetzen und Umformen  \n",
    "...  "
   ]
  },
  {
   "cell_type": "markdown",
   "id": "869155a1-840e-4a75-950a-56eedae1ef3c",
   "metadata": {},
   "source": [
    "## Floß  "
   ]
  },
  {
   "cell_type": "code",
   "execution_count": 5,
   "id": "c6c2b3c3-a5e2-4eff-933e-3d8fe9429855",
   "metadata": {},
   "outputs": [
    {
     "name": "stdout",
     "output_type": "stream",
     "text": [
      "V: 7.55E-01 m³\n",
      "A: 7.55E+00 m²\n",
      "a: √A = 2.75E+00 m\n"
     ]
    }
   ],
   "source": [
    "m = 400\n",
    "ρ_H = 470\n",
    "\n",
    "ρ_w = 1000\n",
    "\n",
    "g = 9.81\n",
    "# F_A = F_G + F_TL  \n",
    "# ρ_W g V = ρ_W g V + F_TL  \n",
    "\n",
    "# Vg( ρ_W - ρ_H) = F_TL\n",
    "\n",
    "V = (400)/(ρ_w - ρ_H)\n",
    "\n",
    "d = 10/100\n",
    "\n",
    "A = V/d  \n",
    "\n",
    "a = √(A)\n",
    "\n",
    "@printf \"V: %.2E m³\\n\" V\n",
    "@printf \"A: %.2E m²\\n\" A\n",
    "@printf \"a: √A = %.2E m\\n\" a"
   ]
  },
  {
   "cell_type": "markdown",
   "id": "6ac7a172-edfc-4f21-b5b7-2dd09a6f87a4",
   "metadata": {},
   "source": [
    "## Flugzeug"
   ]
  },
  {
   "cell_type": "markdown",
   "id": "af949593-b13d-4358-b4a4-3378388fd53a",
   "metadata": {},
   "source": [
    "Flugzeug steigt wegen $F_A$:  \n",
    "$F_A = \\frac{1}{2}~c_A \\cdot \\rho \\cdot v^2 \\cdot A$  \n",
    "($F_W = \\frac{1}{2}~c_W \\cdot \\rho \\cdot v^2 \\cdot A$)\n",
    "\n",
    "$\\frac{1}{2}\\rho v^2 + p_{st}$ ist falsch,\n",
    "    weil sich der obere Luftstrom nicht Beschleunigt,\n",
    "    nach dem Flügel entstehen Wirbel,\n",
    "    welche das Flugzeug nach oben drehen.  \n"
   ]
  },
  {
   "cell_type": "markdown",
   "id": "05ab18af-49f3-4fa5-a34c-252a33daf211",
   "metadata": {},
   "source": [
    "## Bernoulli"
   ]
  },
  {
   "cell_type": "markdown",
   "id": "86e12d05-4d05-49bb-886b-9a94ae558a55",
   "metadata": {},
   "source": [
    "Rennauto nutzt Bernoulli Gleichung, da unter dem Auto wenig Platz ist, durch $\\frac{1}{2} \\rho v^2 + p_{st}$"
   ]
  },
  {
   "cell_type": "markdown",
   "id": "6e857924-aa1c-4d08-a3db-c9e7d2d93302",
   "metadata": {},
   "source": [
    "## Energie"
   ]
  },
  {
   "cell_type": "markdown",
   "id": "320aab3c-8240-4f21-8a3d-f9a5e7dc8c8d",
   "metadata": {},
   "source": [
    "Energielücke Isolator > 4eV  \n",
    "\n",
    "$E = hf \\rightarrow$\n",
    "$f = 9.6E+15~Hz$  \n",
    "$\\lambda = \\frac{c}{f} = 3E-7~m$  "
   ]
  },
  {
   "cell_type": "code",
   "execution_count": 22,
   "id": "a35281c5-4538-4bac-b196-9f342e222bb6",
   "metadata": {},
   "outputs": [
    {
     "name": "stdout",
     "output_type": "stream",
     "text": [
      "9.67E+14"
     ]
    }
   ],
   "source": [
    "@printf \"%.2E\" (4 * 1.6e-19 / 6.62e-34)"
   ]
  },
  {
   "cell_type": "markdown",
   "id": "1bf7279b-a409-4549-95fa-6b63081679bf",
   "metadata": {},
   "source": [
    "## Übung"
   ]
  },
  {
   "cell_type": "code",
   "execution_count": 23,
   "id": "080c5005-ac5f-4faa-9662-112302f32ec0",
   "metadata": {},
   "outputs": [],
   "source": [
    "# Wahrscheinlichkeiten\n",
    "# 1. Unwahrscheinlicher Zustaand wird zu Aufgeteilten zustand => Wahrscheinlicher\n",
    "# 2. Wahrscheinlicher Zustand wird zu Unwahrscheinlichen => wirc geordnet => externe Energie muss aufgewendet werden\n",
    "\n",
    "# Entropie Entwicklung  \n",
    "# 1. Entropie nimmt zu; keine Schwerkraft => keine Energie von außen\n",
    "# 2. Entropie nimmt ab; Schwerkraft Energie von Außen => Ordnet das System\n",
    "\n",
    "# Entropie nimmt immer zu, bis zum Hitzetod des Universums => kompletter Ausgleich geschaffen\n",
    "# 2. Hautpsatz der Thermodynamik ΔH > 0 \n",
    "# Ein System mit maximaler Energie kann sich nicht verändern, ohne Energie von außen zu erhalten"
   ]
  },
  {
   "cell_type": "markdown",
   "id": "6b81061c-4f35-4123-b250-b8eda818545e",
   "metadata": {},
   "source": [
    "Entropie:  \n",
    "- Zusammenhang mit Wahrscheinlichkeit  \n",
    "- Zusammenhang mit den thermodynamischen Hauptsätzen  \n",
    "- Was gibt es zur Entropie in Zusa mit t\n",
    "\n",
    "\n",
    "Entropie ist ein maß für die Wahrscheinlichkeiten von Zuständen, je höher die Entropie je Wahrscheinlicher der Zustand  \n",
    "$S = k ln(p)$  \n",
    "\n",
    "Wahrscheinlichkeiten bei Box mit 2 Teilchen ist die Entropie bei Gleichverteilung am Größten  \n",
    "\n",
    "Normalverteilung\n",
    "\n",
    "Um die Entropie zu verringern muss Energie hinzugefügt werden, um die Entropie zu erhöhen muss nichts getan werden, dieser Schritt passiert automatisch.  \n",
    "\n",
    "Entropie muss mehr werden.  \n",
    "\n",
    "Nachdem die Zeit in eine Richtung geht, "
   ]
  }
 ],
 "metadata": {
  "kernelspec": {
   "display_name": "Julia 1.8.0",
   "language": "julia",
   "name": "julia-1.8"
  },
  "language_info": {
   "file_extension": ".jl",
   "mimetype": "application/julia",
   "name": "julia",
   "version": "1.8.0"
  }
 },
 "nbformat": 4,
 "nbformat_minor": 5
}
