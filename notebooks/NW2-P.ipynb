{
 "cells": [
  {
   "cell_type": "code",
   "execution_count": 2,
   "id": "87049352-f304-43b9-b154-cf298e9445ef",
   "metadata": {
    "pycharm": {
     "name": "#%%\n"
    },
    "tags": [
     "remove-input",
     "remove-output"
    ]
   },
   "outputs": [
    {
     "data": {
      "text/plain": [
       "\"D:\\\\__Programming\\\\Jupyter\\\\CompendiumMatura\\\\notebooks\""
      ]
     },
     "execution_count": 2,
     "metadata": {},
     "output_type": "execute_result"
    }
   ],
   "source": [
    "using DrWatson\n",
    "@quickactivate\n",
    "\n",
    "using CairoMakie\n",
    "\n",
    "function triangle(p1, p2, p3, args...)\n",
    "\tpoly([p1, p2, p3], args...)\n",
    "end\n",
    "\n",
    "@__DIR__"
   ]
  },
  {
   "cell_type": "markdown",
   "id": "46db0730",
   "metadata": {
    "jp-MarkdownHeadingCollapsed": true,
    "tags": []
   },
   "source": [
    "# Kinematik"
   ]
  },
  {
   "cell_type": "markdown",
   "id": "42f9f040-d504-40b4-9a1f-94118b49b2d8",
   "metadata": {
    "jp-MarkdownHeadingCollapsed": true,
    "tags": []
   },
   "source": [
    "## Einheiten  \n",
    "\n",
    "|Formelzeichen | Name        | Einheit |\n",
    "|--------------|-------------|---------|\n",
    "| s            | Länge       | m       |\n",
    "| t            | Zeit        | s       | \n",
    "| K            | Temperatur  | T       |\n",
    "| I            | Stromstärke | A       |\n",
    "| m            | Masse       | kg      | "
   ]
  },
  {
   "cell_type": "markdown",
   "id": "bb3df12a",
   "metadata": {},
   "source": [
    "$s$...Weg  \n",
    "$v$...Geschwindigkeit\n",
    "$a$...Beschleunigung\n",
    "\n",
    "\n",
    "$v = \\dot{s}$  \n",
    "$a = \\dot{v} = \\ddot{a}$"
   ]
  },
  {
   "cell_type": "markdown",
   "id": "a52aee1d-770a-4963-b596-4c06bbd91884",
   "metadata": {
    "jp-MarkdownHeadingCollapsed": true,
    "tags": []
   },
   "source": [
    "## Reibung"
   ]
  },
  {
   "cell_type": "markdown",
   "id": "e29b8c87",
   "metadata": {},
   "source": [
    "Wenn körper aufeinander haften, rollen, oder gleiten so tritt Reibung auf. Die Reibungskräfte wirken immer einer Bewegung entgegen  \n",
    "\n",
    "Die Ursache an Reibung liegt an den Oberflächeneigenschaften der Körper, da diese Oberflächen nicht komplett glatt sein können, verhacken sich die Unebenheiten ineinander und erzeugen Reibung  \n",
    "\n",
    "\n",
    "### Arten von Reibung:\n",
    "- Festkörper mit anderem Festkörper  \n",
    "    - Haftreibung  \n",
    "        Liegt vor, wenn sich die Körper relativ zueinander nicht Bewegen(Stillstehendes Auto)  \n",
    "    - Gleitreibung  \n",
    "        Liegt vor, wenn ein Körper auf den anderen Gleitet (Rutsche)  \n",
    "    - Rollreibung  \n",
    "        Rollreibung liegt vor, wenn ein Körper auf den anderen abrollt (Autoreifen)  \n",
    "    Die Reibung hier ist ungefähr Proportional zu der aufeinanderdrückenden Kraft (meist $F_G$)\n",
    "- Festkörper mit Flüssigkeit\n",
    "- Festkörper mit Gas\n",
    "\n",
    "$F_R = \\mu\\cdot F_G$  \n",
    "$F_W = \\frac{1}{2}c_w\\cdot A\\cdot \\varrho\\cdot v^2$"
   ]
  },
  {
   "cell_type": "markdown",
   "id": "5e609b3c",
   "metadata": {
    "jp-MarkdownHeadingCollapsed": true,
    "tags": []
   },
   "source": [
    "## Schiefe Ebene\n",
    "\n",
    "Die neigung zur Geraden ($\\theta$) ist gleich der Neigung zum Lot, deshalb kann die Schwerekraft $F_G$ aufgeteilt werden in:\n",
    "\n",
    "- $F_G,\\parallel \\quad~= F_G \\cdot cos \\theta$\n",
    "- $F_G,\\perp \\quad~= F_G \\cdot sin \\theta$\n",
    "\n",
    "![](https://www.maschinenbau-wissen.de/bilder/skripte/mechanik-kinetik/schiefe-ebene-03.PNG)"
   ]
  },
  {
   "cell_type": "markdown",
   "id": "f6746d34",
   "metadata": {},
   "source": [
    "## Freier Fall"
   ]
  },
  {
   "cell_type": "markdown",
   "id": "419e785e",
   "metadata": {},
   "source": [
    "Beim Freien Fall gelten die Gesetze:\n",
    "\n",
    "$v(t) = -g\\cdot t + v_0$  \n",
    "$s(t) = \\frac{dv(t)}{dt} = -\\frac{1}{2}g\\cdot t^2 + v_0 \\cdot t \\quad(+ h_0)$"
   ]
  },
  {
   "cell_type": "markdown",
   "id": "511be47d",
   "metadata": {
    "jp-MarkdownHeadingCollapsed": true,
    "tags": []
   },
   "source": [
    "# Grundlagen der Dynamik und Energieerhaltung"
   ]
  },
  {
   "cell_type": "markdown",
   "id": "ca2400b0-5f1b-48a5-b842-f9bea895812c",
   "metadata": {
    "jp-MarkdownHeadingCollapsed": true,
    "tags": []
   },
   "source": [
    "## Energieerhaltung"
   ]
  },
  {
   "cell_type": "markdown",
   "id": "1ff61d81-437b-43cb-bdb2-1a29a23482cd",
   "metadata": {},
   "source": [
    "In einem abgeschlossenen System ist die Gesamtenergie konstant.   \n",
    "$E_{\\text{ges}} = E_{\\text{kin}} + E_{\\text{pot}} = const.$  \n",
    "\n",
    "Wenn ein Körper eine gewisse Distanz fällt so nimmt seine kinetische Energie zu (Geschwindigkeit +) und seine potentielle Energie nimmt um den selben Wert ab(Höhe -).  \n"
   ]
  },
  {
   "cell_type": "markdown",
   "id": "766f56a3-a24b-4031-baf4-108be05a8619",
   "metadata": {
    "jp-MarkdownHeadingCollapsed": true,
    "tags": []
   },
   "source": [
    "## Impuls und Impulserhaltung"
   ]
  },
  {
   "cell_type": "markdown",
   "id": "37a23e94-d6ed-457b-a883-2ddeba02b6bf",
   "metadata": {},
   "source": [
    "Der Impuls ist definiert als Produkt aus Masse mit Geschwindigkeit \n",
    "    und in einem abgeschlossenen System ist der Impuls erhalten (Impulserhaltung).  \n",
    "\n",
    "### Vollelastischer Stoß  \n",
    "\n",
    "Durch den Impulserhaltungssatz kombiniert mit der Energieerhaltung kann der Vollelastische Stoß hergeleitet werden. \n",
    "Bei dem vollelastischen Stoß wird angenommen, dass die Verformungsenergie gleich null ist und somit der Gesamtimpuls des Systems konstant bleibt.  \n",
    "$m_1 \\cdot v_1 + m_2 \\cdot v_2 = m_1 \\cdot v_1' + m_2 \\cdot v_2'$  \n",
    "$\\frac{1}{2}~m_ \\cdot v_1^2 + \\frac{1}{2}~m_2 \\cdot v_2^2 = \\frac{1}{2}~m_ \\cdot v_1'^2 + \\frac{1}{2}~m_2 \\cdot v_2'^2$\n",
    "\n",
    "Wenn man die obigen Gleichungen nach $v_1'$ und $v_2'$ auflöst kommt man auf die Gleichungen:  \n",
    "$v_1' = \\frac{m_1 \\cdot v_1 + m_2 \\cdot (2 \\cdot v_2 - v_1)}{m_1 + m_2}$  \n",
    "$v_2' = \\frac{m_2 \\cdot v_2 + m_1 \\cdot (2 \\cdot v_1 - v_2)}{m_1 + m_2}$  \n",
    "\n",
    "\n",
    "#### Sonderfall: gleiche Masse ein Körper Ruhend    \n",
    "\n",
    "Hier überträgt Körper 1 seine gesamte kinetische Energie an den Körper 2. \n",
    "Nach dem Stoß ist $v_1' = 0$ und $v_2' = v_1$  \n",
    "\n",
    "#### Sonderfall: gleiche Masse entgegengesetzte Geschwindigkeit  \n",
    "\n",
    "Hier tauschen die Körper ihre kinetische Energie aus\n",
    "Nach dem Stoß ist $v_1' = -v_2$ und $v_2' = -v_1$  \n",
    "\n",
    "#### Sonderfall: Stoß mit fester Wand  \n",
    "\n",
    "Hier ist $m_1 << m_2$  \n",
    "Die Wand reflektiert den Körper 1 mit gleicher Geschwindigkeit  \n",
    "Nach dem Stoß ist $v_1' = -v_1$ und $v_2' = v_2 = 0$"
   ]
  },
  {
   "cell_type": "markdown",
   "id": "3760ae1d",
   "metadata": {
    "jp-MarkdownHeadingCollapsed": true,
    "tags": []
   },
   "source": [
    "## Reibungskräfte:"
   ]
  },
  {
   "cell_type": "markdown",
   "id": "e233174f",
   "metadata": {},
   "source": [
    "Bei der Reibung von Festkörper auf Festkörper/Flüssigkeit wird die Reibungskraft über $\\mu$ angegeben\n",
    "$F_R = \\mu \\cdot F_G$\n",
    "\n",
    "Die vikose Reibung findet in Gase/Flüssigkeiten statt und wird, für eine Kugel, durch folgende Gleichung Beschrieben:  \n",
    "$F_{VR} = 6\\pi\\cdot r\\cdot\\eta\\cdot v$\n",
    "\n",
    "$F_w = c_w \\cdot\\frac{1}{2}\\cdot \\rho \\cdot v^2\\cdot A$"
   ]
  },
  {
   "cell_type": "markdown",
   "id": "20b45a25",
   "metadata": {
    "jp-MarkdownHeadingCollapsed": true,
    "tags": []
   },
   "source": [
    "## Hydrostatisches System"
   ]
  },
  {
   "cell_type": "markdown",
   "id": "5906265a",
   "metadata": {},
   "source": [
    "Druck in der Tiefe h von Wasser:  \n",
    "$p = p_0 + \\rho\\cdot g\\cdot h$\n",
    "\n",
    "Druck in Luft:\n",
    "$p = p_0 \\cdot e^{-\\frac{H}{H_0}}$"
   ]
  },
  {
   "cell_type": "markdown",
   "id": "e93fe70a-6e08-4c42-906f-d7186c2550ec",
   "metadata": {},
   "source": [
    "Der hydrostatische Druck gibt an welcher Druck in einer Gewissen tiefe herrscht \n",
    "($\\frac{ \\text{Schwerkraft} = m\\cdot g = \\rho \\cdot V \\cdot g = \\rho \\cdot (A \\cdot h)\\cdot g}{\\text{Fläche} = A} = \\rho \\cdot g \\cdot h$)  \n",
    "\n",
    "Der hydrodynamische Druck ist der Druck der bei einer Gewissen Geschwindigkeit herrscht \n",
    "($E_\\text{kin} = \\frac{1}{2} \\rho\\cdot V\\cdot v^2 \\rightarrow \\frac{E_\\text{kin}}{V} = p_\\text{Dyn} = \\frac{1}{2} \\rho v^2$)"
   ]
  },
  {
   "cell_type": "markdown",
   "id": "172e0adf-9072-4b71-ab88-445cedbb76c2",
   "metadata": {},
   "source": [
    "### Hydrostatisches Paradoxon"
   ]
  },
  {
   "cell_type": "markdown",
   "id": "a32e3261-b19f-4e28-91a5-74288fdbae18",
   "metadata": {},
   "source": [
    "> Das Hydrostatische Paradoxon besagt, dass der hydrostatische Druck (Schweredruck), zwar abhängig von der Füllhöhe der Flüssigkeit ist, aber nicht von der Form des Gefäßes und damit der enthaltenen Flüssigkeitsmenge"
   ]
  },
  {
   "cell_type": "markdown",
   "id": "0a8ffab6-f801-4224-abce-da7f3ef78203",
   "metadata": {},
   "source": [
    "![](https://www.ingenieurkurse.de/assets/courses/media/hydrostatische-druckkraft-print.png)"
   ]
  },
  {
   "cell_type": "markdown",
   "id": "891ee7fa",
   "metadata": {
    "jp-MarkdownHeadingCollapsed": true,
    "tags": []
   },
   "source": [
    "## Bernoulli Gleichung"
   ]
  },
  {
   "cell_type": "markdown",
   "id": "b2ca8ff7",
   "metadata": {},
   "source": [
    "Die Bernuli Gleichung ist das Energieerhaltungs-Gesetz für reibungsfreie Strömungen  \n",
    "\n",
    "$p + \\rho\\cdot g\\cdot\\Delta h + \\frac{p \\cdot v^2}{2} = const$  \n",
    "$p\\qquad\\qquad\\quad$ statischer Druck  \n",
    "$\\rho\\cdot g\\cdot\\Delta h\\quad~~$ Druck aus Erdschwere  \n",
    "$\\frac{\\rho \\cdot v^2}{2}\\qquad\\qquad$ Dynamischer Druck"
   ]
  },
  {
   "cell_type": "markdown",
   "id": "ebc18d3b-a4b8-4212-98e5-721af8bb2d71",
   "metadata": {
    "jp-MarkdownHeadingCollapsed": true,
    "tags": []
   },
   "source": [
    "### Gesetz von Torricelli"
   ]
  },
  {
   "cell_type": "markdown",
   "id": "8e77d25b-4621-4015-97ed-bcc22797e3ee",
   "metadata": {},
   "source": [
    "![](https://www.leifiphysik.de/sites/default/files/images/e26ca3323a3f04630c366492aa651719/992abfluss_aus_behaelter_toricelli_gleichung.svg)"
   ]
  },
  {
   "cell_type": "markdown",
   "id": "9432ac5d-963a-450f-a056-12adbaa5e66b",
   "metadata": {},
   "source": [
    "Die Austrittsgeschwindigkeit des Wasserstrahls an der Öffnung hängt nur vom Füllstand des Behälters ab, nicht von dessen Form und nicht von der Größe der Austrittsöffnung. Das widerspricht vollkommen der Intuition, kann aber mit der BERNOULLI-Gleichung erklärt werden.\n",
    "\n",
    "Annahmen:\n",
    "- Der Behälter ist besonders weit sodass $v_0 \\approx 0$ ist\n",
    "- der Boden des Behälters ist der $0$-Punkt  \n",
    "<!--BERNOULLI-->\n",
    "Wenn man nun die Bernoulli aufstellt ergibt sich:  \n",
    "$p_u + \\frac{\\rho\\cdot (v_0 = 0)^2}{2} + \\rho\\cdot g\\cdot h_0 = p_u + \\frac{\\rho\\cdot v_1}{2} + \\rho \\cdot g\\cdot (h_1=0)$  \n",
    "\n",
    "Da der umgebungs Druck gleich ist kann dieser weggekürzt werden, \n",
    "    wenn man nun für $v_0 = 0$ und für $h_1 = 0$ einsetzt können diese Terme auch weggekürzt werden, \n",
    "    ferner kann nun noch $\\rho$ auf beiden Seiten gekürzt werden\n",
    "    ($g\\cdot h_0 = \\frac{v_1^2}{2}$)  \n",
    "Nun kann man ohne weiters auf $v_1$ umformen:  \n",
    "$v_1 = \\sqrt{2\\cdot g\\cdot h_0}$  \n",
    "\n",
    "Besonders ist, dass dies die selbe Formel ist, wie wenn ein Körper aus der Höhe $h_0$ fallen würde  "
   ]
  },
  {
   "cell_type": "markdown",
   "id": "693e8052-bbdb-49e0-a5ca-894e2c2612f6",
   "metadata": {
    "jp-MarkdownHeadingCollapsed": true,
    "tags": []
   },
   "source": [
    "### Quecksilber-Säule"
   ]
  },
  {
   "cell_type": "markdown",
   "id": "7abe40a0-4cbe-4971-8f6f-b62260f48f58",
   "metadata": {},
   "source": [
    "![](https://upload.wikimedia.org/wikipedia/commons/thumb/9/9c/Quecksilber-Barometer_Prinzip.png/180px-Quecksilber-Barometer_Prinzip.png)"
   ]
  },
  {
   "cell_type": "markdown",
   "id": "2cde595b-d90f-425e-94df-0f3df4d4b1ad",
   "metadata": {},
   "source": [
    "Man nimmt eine Glasrohr mit Quecksilber und stellt es kopfüber in eine Schale, \n",
    "    es stellt sich ein hydrostatisches Gleichgewicht ein, \n",
    "    mit dem man den aktuellen Luftdruck berechnen kann.  \n",
    "\n",
    "Der Schweredruck bis zur Oberfläche des Quecksilbers in der Schale ist gleich dem des Quecksilbers im Glasrohr \n",
    "    und kann somit ignoriert werden.  \n",
    "Wenn man nun in die Bernoulli-Gleichung einsetzt und kürzt Ergibt sich:  \n",
    "$p_u + 0 + 0 = 0 + 0 + \\rho \\cdot g \\cdot \\Delta h$  \n",
    "$p_u = \\rho \\cdot g \\cdot \\Delta h$  \n",
    "\n",
    "(Die Einheit mmHg ist so definiert, $\\text{Atmosphärischer Druck} = 760 mmHg$)  "
   ]
  },
  {
   "cell_type": "markdown",
   "id": "0bcbd5b5",
   "metadata": {
    "jp-MarkdownHeadingCollapsed": true,
    "tags": []
   },
   "source": [
    "## Auftrieb"
   ]
  },
  {
   "cell_type": "markdown",
   "id": "3501b3c3",
   "metadata": {},
   "source": [
    "Wenn ein Körper in einem Fluid ist, dann übt das Fluid eine Kraft entgegen der Schwerekraft auf den Körper aus, diese Kraft entspricht der Gewichtskraft des Verdrängten Mediums.  \n",
    "\n",
    "$F_A = \\rho\\cdot V\\cdot g$"
   ]
  },
  {
   "cell_type": "markdown",
   "id": "7a372ce8",
   "metadata": {
    "jp-MarkdownHeadingCollapsed": true,
    "pycharm": {
     "name": "#%%\n"
    },
    "tags": []
   },
   "source": [
    "\n",
    "# Drehbewegung, Schwingungen, Wellen\n"
   ]
  },
  {
   "cell_type": "markdown",
   "id": "e2503c43-881c-4125-8cf2-b84487f959e6",
   "metadata": {
    "jp-MarkdownHeadingCollapsed": true,
    "tags": []
   },
   "source": [
    "## Rotation"
   ]
  },
  {
   "cell_type": "markdown",
   "id": "df0ebee4-8e00-43ec-912c-0b9bb21ff6a9",
   "metadata": {},
   "source": [
    "Was in der linearen Mechanik Geschwindigkeit ist, ist in der Rotation die Winkelgeschwindigkeit $\\omega$, diese ist die Geschwindigkeit normiert auf den Abstand  \n",
    "Dementsprechend ist der Weg, in der Rotation der Phasenwinkel $\\varphi$  \n",
    "Zusätzlich gibt es die Winkelbeschleunigung, welches die Beschleunigung in der Linearen Mechanik ist  \n",
    "\n",
    "$\\omega(t) = \\dot{\\varphi}(t)$  \n",
    "$\\alpha(t) = \\dot{\\omega}(t) = \\ddot{\\varphi}(t)$  \n",
    "\n",
    "die Masse in der Rotation ist das Trägheitsmoment, welches auch von der Form, des Schwungkörpers abhängt  \n",
    "\n",
    "Damit eine Rotation zustande kommt, muss eine Kraft nach innen wirken, die Zentripitalkraft ($F_Z = m\\cdot\\frac{v^2}{r}$)  "
   ]
  },
  {
   "cell_type": "markdown",
   "id": "0a029304-b590-4f1e-a6e4-7b10d4c36198",
   "metadata": {
    "jp-MarkdownHeadingCollapsed": true,
    "tags": []
   },
   "source": [
    "## Wellen"
   ]
  },
  {
   "cell_type": "markdown",
   "id": "b0f1791b-ff70-4b57-a0bd-9563fcb97a4d",
   "metadata": {},
   "source": [
    "Eine Welle ist sich räumlich ausbreitende Schwingung  \n",
    "Die zusammenhängende Fläche aller Punkte innerhalb einer Welle wird als Wellenfront bezeichnet. \n",
    "Hier können verschiedene Arten erkannt werden, die häufigste Art ist die Kreiswelle  \n",
    "Der Wellenstrahl gibt die Ausbreitungsrichtung der Welle an\n",
    "\n",
    "### Huygensches Prinzip  \n",
    "\n",
    "Nach diesem kann jeder Punkt einer Wellenfront als Ausgangspunkt einer neuen Welle (Elementarwelle) betrachtet werden, die Form dieser Welle ist immer eine Kreiswelle. \n",
    "Die neue Lage der Wellenfront erhält man durch Überlagerung sämtlicher Elementarwellen.  \n",
    "Durch das Huygensche Prinzip können viele Wellenerscheinungen, wie Brechung oder Reflektion gezeigt werden."
   ]
  },
  {
   "cell_type": "markdown",
   "id": "f80e0f1e-ac77-4497-837f-e7e3c042f2b2",
   "metadata": {
    "jp-MarkdownHeadingCollapsed": true,
    "tags": []
   },
   "source": [
    "### Interferenz"
   ]
  },
  {
   "cell_type": "markdown",
   "id": "c0b30b33-84ea-4218-8d7f-d9ee31ae4743",
   "metadata": {},
   "source": [
    "Interferenz tritt auf, wenn sich zwei Wellen begegnen und sich damit überlagern. \n",
    "Die Amplituden der Wellen addieren sich dabei Vorzeichenrichtig.  \n",
    "\n",
    "- Wenn sich die Wellen gegenseitig verstärken, herrscht **konstruktive Interferenz** vor.  \n",
    "    Allgemein kann gesagt werden, es tritt eine konstruktive Interferenz auf, wenn der Phasenunterschied gleich eines ganzzahligen Vielfachen der Wellenlänge ist.  \n",
    "    $\\Delta s = k \\cdot \\lambda$\n",
    "- Dort wo sie gegeneinander arbeiten herrscht **Destruktive Interferenz** vor.  \n",
    "    Einen Destruktive Interferenz tritt auf, wenn der Phasenunterschied gleich eines ganzzahligen Vielfachen der halben Wellenlänge ist.  \n",
    "    $\\Delta s = (k + 0.5) \\cdot \\lambda$\n",
    "\n",
    "Ein wichtiger Begriff bei Interferenz ist, die **Kohärenz**, wenn zwei Wellen kohärent sind, dann stehen sie in einer fest definierten Phasen-Beziehung"
   ]
  },
  {
   "cell_type": "markdown",
   "id": "b2ce0d4a",
   "metadata": {
    "jp-MarkdownHeadingCollapsed": true,
    "tags": []
   },
   "source": [
    "## Brechung"
   ]
  },
  {
   "cell_type": "markdown",
   "id": "b4c85256",
   "metadata": {},
   "source": [
    "Brechung findet statt, wenn eine Welle in ein anderes Medium übergeht, welches einen anderen Brechungsindex hat, der veränderte Winkel wird über das Brechungsgesetz von Helios beschrieben:\n",
    "\n",
    "$\\frac{sin(\\alpha)}{sin(\\beta)} = \\frac{n_1}{n_2}$  \n",
    "$\\quad$wobei $n_x$ der Brechungsindex des Mediums ist\n",
    "\n",
    "Brechung kann über das Huygen'sche Prinzip hergeleitet werden"
   ]
  },
  {
   "cell_type": "markdown",
   "id": "65837134-e491-4ae6-b934-91ea26ab55db",
   "metadata": {},
   "source": [
    "![](https://d1g9li960vagp7.cloudfront.net/wp-content/uploads/2020/05/Brechung-nach-Huygens-1024x576.jpg)"
   ]
  },
  {
   "cell_type": "markdown",
   "id": "5a016ee1-86e6-4e9f-b577-0c91baaf87cf",
   "metadata": {
    "jp-MarkdownHeadingCollapsed": true,
    "tags": []
   },
   "source": [
    "## Reflexion"
   ]
  },
  {
   "cell_type": "markdown",
   "id": "19a6346d-8df4-45dd-9e96-2ef767464299",
   "metadata": {},
   "source": [
    "Reflexion bezeichnet das Zurückwerfen einer Welle an einem anderen Medium (Spiegelung am Wasser)  \n",
    "\n",
    "Nach dem Reflexionsgesetz ist der Einfallswinkel gleich dem Ausgangswinkel, relativ zum Auftrittspunkt  "
   ]
  },
  {
   "cell_type": "markdown",
   "id": "b49d4d89-3e92-43b7-812d-4f891299fa4c",
   "metadata": {},
   "source": [
    "![](http://www.chemgapedia.de/vsengine/media/vsc/de/ph/14/ep/einfuehrung/wellen/bilder/reflexion1_pap.png)"
   ]
  },
  {
   "cell_type": "markdown",
   "id": "464910e5",
   "metadata": {
    "jp-MarkdownHeadingCollapsed": true,
    "tags": []
   },
   "source": [
    "## Beugung"
   ]
  },
  {
   "cell_type": "markdown",
   "id": "fc899c5d",
   "metadata": {},
   "source": [
    "### am Einzelspalt"
   ]
  },
  {
   "cell_type": "markdown",
   "id": "8c513c44",
   "metadata": {},
   "source": [
    "Ein monochromatisches Licht wird durch einen sehr dünnen Spalt mit der breite $l$ geschickt, dieser terminiert sich, durch destruktive Interferenz, an manchen stellen selbst\n",
    "\n",
    "Die Minima des Einzelspalts wird über die Formel $sin(\\alpha) = \\frac{k \\cdot \\lambda}{l},\\quad k \\in N^*$ beschrieben  \n",
    "Die Maxima werden über die selbe Formel beschrieben, nur dass, statt $k$ hier $(k + 0.5)$ steht: $sin(\\alpha) = \\frac{(k + 0.5)\\cdot\\lambda}{l}$, da eben genau zwischen jedem Minima paar ein Maxima sein muss\n",
    "\n",
    "\n",
    "Es zeigt sich, wenn $\\lambda \\approx l$, dann verhält sich ein Teilchen wie eine Welle"
   ]
  },
  {
   "cell_type": "markdown",
   "id": "ef7b9de6-9901-42bb-b6eb-417faf54ff81",
   "metadata": {},
   "source": [
    "![](https://physikunterricht-online.de/wp-content/uploads/2014/09/Interferenz-am-Einzelspalt.jpg)"
   ]
  },
  {
   "cell_type": "markdown",
   "id": "e556978b",
   "metadata": {
    "tags": []
   },
   "source": [
    "### am Doppelspalt\n",
    "\n",
    "Ein monochromatisches Licht wird durch zwei sehr dünne spalte mit der breite $l$ geschickt, diese erzeugen ein Interferenzmuster.\n",
    "Der die Phasenverschiebung wird über $sin\\alpha = \\frac{\\Delta\\lambda}{g}$ beschrieben, da $\\alpha$ auch die Auslenkung angibt, es gilt zudem $tan\\alpha = \\frac{x}{a}$ und für kleine Winkel gilt die Annäherung: $tan x = sin x$.  \n",
    "\n",
    "Jeder Spalt bildet dabei wieder einen Einzelspalt, somit ist die Intensität sowohl vom Interferenzmuster der Überlagerung, als auch der Intensität der einzelnen Spalte. Es kann also sein, dass die Phasenverschiebung der Spalte sagt es müsste ein Maximum sein, aber da die Einzelspalte dort eine Destruktive Interferenz haben, dort ein Minimum ist"
   ]
  },
  {
   "cell_type": "markdown",
   "id": "3c0feb6c-e8cc-4936-b45e-3e8da15ab1e2",
   "metadata": {},
   "source": [
    "![](https://www.abiweb.de/assets/courses/media/intens-doppel-01-print.png)"
   ]
  },
  {
   "cell_type": "markdown",
   "id": "1a1fbb63",
   "metadata": {
    "jp-MarkdownHeadingCollapsed": true,
    "tags": []
   },
   "source": [
    "## Longitudinalwelle vs Transversalwelle\n"
   ]
  },
  {
   "cell_type": "markdown",
   "id": "ab8e5ad4",
   "metadata": {},
   "source": [
    "Longitudinal:  \n",
    "\t$\\quad Schwingungsrichtung = Ausbreitungsrichtung$\n",
    "\n",
    "Transversal:  \n",
    "\t$\\quad Schwingungsrichtung \\neq Ausbreitungsrichtung$\n",
    "\n",
    "\n",
    "Transversale Störungsgeschwindigkeit:  \n",
    "$\\qquad c = \\frac{2}{D}\\cdot\\sqrt{\\frac{\\Psi}{\\pi\\cdot\\rho}}$  "
   ]
  },
  {
   "cell_type": "markdown",
   "id": "35a4e158-dfe0-4882-8d8d-ca487d999e03",
   "metadata": {},
   "source": [
    "![](https://static4.olympus-ims.com/data/Image/fd-tutorial/wave_propagation_modes1.jpg)"
   ]
  },
  {
   "cell_type": "markdown",
   "id": "2c29d60b-cb42-4e4d-8c81-584087e2e1b9",
   "metadata": {
    "jp-MarkdownHeadingCollapsed": true,
    "tags": []
   },
   "source": [
    "## Stehende Welle"
   ]
  },
  {
   "cell_type": "markdown",
   "id": "52e94352",
   "metadata": {
    "tags": []
   },
   "source": [
    "Kann bei der Interferenz zweier Wellen entstehen, charakteristisch ist das sich die Schwingungsknoten immer an der gleichen Position befinden, Frequenz muss dazu die Resonanzfrequenz sein. \n",
    "Die Resultierende Welle hat die halbe Wellenlänge, wie die\n",
    "Damit das Phänomen auftritt, müssen die Wellen gegeneinander laufen, die gleiche Frequenz und Amplitude besitzen.  \n",
    "Es müssen nicht zwei separate Wellen sein, es kann auch eine Welle sein, welche an einem Ende Reflektiert wird (Seil an Wand angebracht).  \n",
    "\n",
    "$l = n\\cdot\\frac{\\lambda_n}{2} \\Rightarrow \\lambda_n = \\frac{2\\cdot l}{n}$  \n",
    "$f_n = \\frac{n\\cdot v}{2\\cdot l}$  \n",
    "wobei $\\lambda_0$ die Grundschwingung ist  \n",
    " und $n+1$-Extrema für die Länge $l$ bedeuten  \n",
    " (bedeutet auch das es $n$-Schwingungsknoten gibt, Anfang und Ende ausgeschlossen)  \n",
    "\n",
    "Ensteht durch Reflexion an ende und Interferenzen an Knoten"
   ]
  },
  {
   "cell_type": "markdown",
   "id": "02ff0a6b-05d2-4c89-9484-dabfdc3ac307",
   "metadata": {
    "jp-MarkdownHeadingCollapsed": true,
    "tags": []
   },
   "source": [
    "## Akustik"
   ]
  },
  {
   "cell_type": "markdown",
   "id": "65eab21e-bfd7-4f05-9e7a-7d8eed6be80f",
   "metadata": {},
   "source": [
    "Ein Grundton ist der niedrigste Ton (Frequenz), eines Klanges (viele überlagerte Frequenzen alle Teilbar durch die Grundfrequenz), welches von einem Instrument produziert wird. \n",
    "Damit ein Instrument mehr Lautstärke haben die meisten,nicht elektrischen, Instrumente Schwungkörper (Gitarrenbauch, Violinenbauch, ...)  \n",
    "\n",
    "Bei Saiten-Instrumenten ist der Grundton der Saite von dem Material der Saite, der Dicke der Saite und von der Spannkraft abhängig  \n",
    "Bei Blasinstrumenten ist der Grundton von der Länge des Schwungkörpers ab und ob das Instrument eine oder mehrere Öffnungen hat (änderung des Tones bei einer Flöte)  "
   ]
  },
  {
   "cell_type": "markdown",
   "id": "d71dd1dc-d58d-4f7d-ae3c-196c7722f43d",
   "metadata": {
    "jp-MarkdownHeadingCollapsed": true,
    "tags": []
   },
   "source": [
    "## Gehör"
   ]
  },
  {
   "cell_type": "markdown",
   "id": "e5ab7a1f-591f-47d6-ae1c-a385dba02c30",
   "metadata": {},
   "source": [
    "Die Schallwellen werden von der Gehörmuschel aufgefangen und an das Trommelfell weitergeleitet, wobei die Lautstärke durch die Verengung erhöht wird. \n",
    "Nach einer weiteren Verstärkung über die Gehörknöcheln, wird der Schall in eine Flüssigkeit geleitet, die Bewegung dieser Flüssigkeit bewirkt eine Anregung der Nerfenzellen. \n",
    "Diese Signale werden anschließend vom Gehörnerv an das Gehirn weitergeleitet. \n",
    "\n",
    "Besonderheit, da der Schall zu einen Gangunterschied zwischen den beiden Ohren hat, kann die Schallquelle geortet werden.  \n",
    "\n",
    "Beim Schall werden zwei Grenzen festgelegt:  \n",
    "- der Hörschall ist bei $1000 Hz$ und $4 dB$  \n",
    "- die Schmerzgrenze ist zwischen $100 dB$ und $140 dB$  \n",
    "\n",
    "wichtig zu erwähnen ist, dass bei gleichen Schallpegel hohe und tiefe Töne einem unterschiedlich Laut erscheinen.  \n",
    "der Schallpegel abhängig von der Intesität ist: $L = -10 log_{10}~(\\frac{I}{I_0})$"
   ]
  },
  {
   "cell_type": "markdown",
   "id": "48fccef7",
   "metadata": {
    "jp-MarkdownHeadingCollapsed": true,
    "tags": []
   },
   "source": [
    "# Thermodynamik"
   ]
  },
  {
   "cell_type": "markdown",
   "id": "c8ce47c5-0b62-4c1d-a001-4053013bb299",
   "metadata": {
    "jp-MarkdownHeadingCollapsed": true,
    "tags": []
   },
   "source": [
    "## Hauptsätze"
   ]
  },
  {
   "cell_type": "markdown",
   "id": "a7cd89ad-84f6-4cc9-938f-c75cf18ac4c0",
   "metadata": {},
   "source": [
    "1. Hauptsatz  \n",
    "    Die innere Energie eines Körpers ($U$) kann durch hinzugeben oder abführen von Wärmeenergie ($Q$) oder Arbeit ($W$) verändert werden  \n",
    "    \n",
    "    $\\Delta U = \\Delta W + \\Delta Q$  \n",
    "\n",
    "2. Hauptsatz  \n",
    "    Ein Körper geht nie von selbst in einen bedeutend Unwahrscheinlicheren Zustand über  \n",
    "    \n",
    "    Das heißt seine Entropie nimmt nie um mehr als einige k ab\n",
    "    \n",
    "Die Wärmeenergie eines Körpers wird über $Q = c\\cdot m\\cdot T$ berechnet"
   ]
  },
  {
   "cell_type": "markdown",
   "id": "019b8abb",
   "metadata": {
    "jp-MarkdownHeadingCollapsed": true,
    "tags": []
   },
   "source": [
    "## Wärmeübertragung"
   ]
  },
  {
   "cell_type": "markdown",
   "id": "731d680b",
   "metadata": {},
   "source": [
    "- Wärmeleitung  \n",
    "\tbertragung zwischen Festkörper und Gas/Flüssigkeit/Festkörper\n",
    "\n",
    "\t$\\dot{Q} = \\lambda\\cdot A\\cdot\\frac{\\Delta T}{l}$  \n",
    "\t\t$\\lambda$...Wärmeleitfähigkeit  \n",
    "\n",
    "\t$\\dot{q} = \\frac{\\dot{Q}}{A}$\n",
    "\t\n",
    "\t$\\frac{1}{k} = \\frac{1}{\\alpha_I} + \\frac{l}{\\lambda_1} + \\frac{l}{\\lambda_2}+... +\\frac{1}{\\alpha_A}$  \n",
    "\t$\\dot{q} = k \\cdot \\Delta T$  \n",
    "\n",
    "\tVerlustenergie eines Gebäudes ist den Wärmestrom über $\\dot{q}$ tu berechnen, hier muss einfach nur $\\dot{q}$ mit der Fläche (für die das $\\dot{q}$ gilt) multipliziert\n",
    "- Wärmeströmung  \n",
    "\tin Fluiden\n",
    "- Wärmestrahlung  \n",
    "\tbraucht kein Medium (Sonne)\n",
    "\n",
    "\tAbsorptionsgrad:  \n",
    "\t$\\alpha(\\lambda, T) = \\frac{Absorbierte Strahlungsleistung}{Auftretende Strahlungsleistung}$  \n",
    "\t(Schwarzer Körper: $\\qquad\\alpha = 1\\quad \\forall~\\lambda~u.~T$)\n",
    "\n",
    "\t$\\varepsilon(\\lambda, T) = \\frac{Strahlungsintensität~im~Bereich~\\Delta\\lambda}{Strahlungsintensitä~des~schwarzen~Körpers~im~Bereich~\\Delta T}$  \n",
    "\n",
    "\tKirchhof'sches Gesetz: $\\alpha(\\lambda, T) = \\varepsilon(\\lambda, T)$"
   ]
  },
  {
   "cell_type": "markdown",
   "id": "25d7dc29",
   "metadata": {
    "jp-MarkdownHeadingCollapsed": true,
    "tags": []
   },
   "source": [
    "## Begriffe der Thermodynamik"
   ]
  },
  {
   "cell_type": "markdown",
   "id": "7fb86996",
   "metadata": {},
   "source": [
    "idealle Gasgleichung:  \n",
    "\t$p\\cdot v = m\\cdot R_s\\cdot \\Delta T$\n",
    "- Isotherm  \n",
    "\tIn einem System ist die Temperatur const.\n",
    "- Isochor  \n",
    "\tIn einem System ist das Volumen const.\n",
    "- Isobar  \n",
    "\tIn einem System ist der Druck const. \n",
    "- Polyprop\n",
    "\tkeine Größe ist const\n",
    "\n",
    "$W = \\int p~dV$"
   ]
  },
  {
   "cell_type": "code",
   "execution_count": 3,
   "id": "d88d9ac1",
   "metadata": {
    "tags": [
     "hide-input"
    ]
   },
   "outputs": [
    {
     "data": {
      "image/png": "[encoded data removed]",
      "text/plain": [
       "Figure()"
      ]
     },
     "execution_count": 3,
     "metadata": {},
     "output_type": "execute_result"
    }
   ],
   "source": [
    "fig = Figure(resolution = (600*3, 800))\n",
    "\n",
    "#isobar\n",
    "ax1 = fig[1, 1] = Axis(fig,\n",
    "\ttitle = \"Isobar\",\n",
    "\txlabel = \"V\",\n",
    "\tylabel = \"p\"\n",
    ")\n",
    "xlims!(ax1, 0, 10)\n",
    "ylims!(ax1, 0, 10)\n",
    "lines!(ax1, [1, 6],\n",
    "\tV->1\n",
    ")\n",
    "\n",
    "# isochor\n",
    "ax2 = fig[1, 2] = Axis(fig,\n",
    "\ttitle = \"Isochor\",\n",
    "\txlabel = \"V\",\n",
    "\tylabel = \"p\"\n",
    ")\n",
    "xlims!(ax2, 0, 10)\n",
    "ylims!(ax2, 0, 10)\n",
    "lines!(ax2, [1, 1], [1, 6])\n",
    "\n",
    "# isoterm\n",
    "ax3 = fig[1,3] = Axis(fig, \n",
    "\ttitle = \"Isoterm\",\n",
    "\txlabel = \"V\",\n",
    "\tylabel = \"p\"\n",
    ")\n",
    "xlims!(ax3, 0, 10)\n",
    "ylims!(ax3, 0, 10)\n",
    "lines!(ax3, 0:0.1:10,\n",
    "\tV-> 1/(V-1) + 1\n",
    ")\n",
    "fig"
   ]
  },
  {
   "cell_type": "markdown",
   "id": "30e2562c",
   "metadata": {
    "jp-MarkdownHeadingCollapsed": true,
    "tags": []
   },
   "source": [
    "## Stirling-Prozess"
   ]
  },
  {
   "cell_type": "markdown",
   "id": "43f90544",
   "metadata": {},
   "source": [
    "![](https://upload.wikimedia.org/wikipedia/commons/thumb/3/33/Stirling-circle-in-p-V-diagram-2.svg/1920px-Stirling-circle-in-p-V-diagram-2.svg.png)"
   ]
  },
  {
   "cell_type": "markdown",
   "id": "4291d7ef",
   "metadata": {},
   "source": [
    "1. Der Arbeitskolben wird verdrängt, das Volumen wird erhöht und der Druck nimmt ab  \n",
    "\t*Isoterm*\n",
    "2. Die Luft wird abgekühlt, der Druck verringert sich, V bleibt gleich  \n",
    "\t*Isobar*\n",
    "3. Der Arbeitskolben wird, durch den Unterdruck, \"angesaugt\" und verringert dadurch das Volumen und erhöht den Druck  \n",
    "\t*Isoterm*\n",
    "4. Der Verdränger-Kolben wird bewegt, wodurch die Luft wieder erhitzt wird, wodurch der Druck steigt  \n",
    "\t*Isobar*  \n",
    "<!---->\n",
    "1. Der Arbeitskolben wird durch den Überdruck verdrängt, wodurch das Volumen erhöht und der Druck verringert wird   \n",
    "..."
   ]
  },
  {
   "cell_type": "markdown",
   "id": "7c8fc188-752e-4100-b02b-daf226c797be",
   "metadata": {
    "jp-MarkdownHeadingCollapsed": true,
    "tags": []
   },
   "source": [
    "### Wärmekraft und Wärmekraftmaschinen"
   ]
  },
  {
   "cell_type": "markdown",
   "id": "c6aff814-4d08-4e41-808a-16623ebce892",
   "metadata": {},
   "source": [
    "Bei Wärmemaschinen wird eine Temperaturdifferenz genutzt um Arbeit zu verrichten. \n",
    "Ein heißes Reservoir, mit der Temperatur $T_1$, wird abgekühlt, \n",
    "    dadurch kann eine mechanische Arbeit $W$ verrichtet werden. \n",
    "Es kann jedoch nicht die gesamte entzogene Wärmeenergie genutzt werden, \n",
    "    ein Teil der entzogenen Wärme wird in die Umgebung, mit der Temperatur $T_2$, abgegeben  \n",
    "    \n",
    "Beim Wirkungsgrad ist die Wärmeenergie des Reservoirs $Q_1$, die theoretische Energie\n",
    "    und die verrichtete Arbeit ist die Praktische.  \n",
    "$\\mu = \\frac{W}{Q_1}$  \n",
    "Da nie die Gesamte entzogene Wärmeenergie genutzt werden kann, ist der Wirkungsgrad immer $< 1$  \n",
    "\n",
    "Man kann auch den Prozess umkehren und Energie aufbringen um Wärmeenergie von der Umgebung abzuziehen \n",
    "    und in das Reservoir zu Pumpen.  \n",
    "    \n",
    "#### Wärmemaschine  \n",
    "\n",
    "Eine Wärmemaschine transportiert Wärmeenergie von der Umgebung in ein Reservoir (Wärmepumpe)\n",
    "\n",
    "#### Kältemaschine  \n",
    "\n",
    "Bei einer Kältemaschine wird einem \"Kältereservoir\" Wärmeenergie entzogen und in die Umgebung transportiert (Kühlschrank)  \n",
    "\n",
    "Da hier das Reservoir die Wärmeenergie $Q_2$ hat ändert sich auch der Wirkungsgrad:  \n",
    "$\\mu = \\frac{W}{Q_2}$"
   ]
  },
  {
   "cell_type": "markdown",
   "id": "73130634",
   "metadata": {
    "jp-MarkdownHeadingCollapsed": true,
    "tags": []
   },
   "source": [
    "## Phasenübergänge"
   ]
  },
  {
   "cell_type": "code",
   "execution_count": 85,
   "id": "c7b6a4a2",
   "metadata": {
    "tags": [
     "hide-input"
    ]
   },
   "outputs": [
    {
     "data": {
      "image/png": "[encoded data removed]",
      "text/plain": [
       "Figure()"
      ]
     },
     "execution_count": 85,
     "metadata": {},
     "output_type": "execute_result"
    }
   ],
   "source": [
    "fig = Figure()\n",
    "\n",
    "Qs = [0, 1, 4, 5, 6, 7] .* 10\n",
    "Ts = [-50, 0, 0, 100, 100, 100]\n",
    "\n",
    "ax = Axis(fig[1, 1], \n",
    "\ttitle = \"Phasenübergänge\",\n",
    "\txlabel = \"Innere Energie Q\",\n",
    "\tylabel = \"Temperatur des Körpers\"\n",
    ")\n",
    "\n",
    "\n",
    "lines!(ax, Qs, Ts)\n",
    "text!(ax, \n",
    "\t[\n",
    "\t\t(-5, -50),\n",
    "\t\t(25, 0),\n",
    "\t\t(55, 90)\n",
    "\t],\n",
    "\ttext = [\n",
    "\t\t\"Fest\",\n",
    "\t\t\"Flüssig\",\n",
    "\t\t\"Gasförmig\"\n",
    "\t]\n",
    ")\n",
    "fig"
   ]
  },
  {
   "cell_type": "markdown",
   "id": "68424815",
   "metadata": {},
   "source": [
    "Bei den es gibt Zustände bei denen die Innere Energie zunimmt, ohne, dass sich die Temperatur erhöht, diese Temperatur nennt man Latente Wärme\n",
    "\n",
    "Wenn der Körper genug innere Energie aufgenommen hat, ionisiert er und wird zum vierten Aggregatzustand *Plasma*  \n",
    "\n",
    "Wenn ein Stoff von Fest auf Gasförmig übergeht, ohne in die Flüssige-Phase zu gelangen, so spricht man von **Sublimieren**, \n",
    "    umgekehrt, wenn ein Stoff von der Gasförmigen-Phase in die Feste-Phase übergeht, ohne in die Flüssige-Phase zu gelangen, spricht man von **Resublimieren**"
   ]
  },
  {
   "cell_type": "markdown",
   "id": "30c0039b",
   "metadata": {
    "jp-MarkdownHeadingCollapsed": true,
    "tags": []
   },
   "source": [
    "# Moderne Physik"
   ]
  },
  {
   "cell_type": "markdown",
   "id": "d79658ac",
   "metadata": {
    "tags": []
   },
   "source": [
    "## Lichtquantenhypothese"
   ]
  },
  {
   "cell_type": "markdown",
   "id": "756ad785",
   "metadata": {},
   "source": [
    "- Licht besteht aus Portionen (Lichtquanten, Photonen)\n",
    "- Energie des Photons wird beschrieben durch $E = h\\cdot f$\n",
    "- Photonen können mit anderen Teilchen wechselwirken, nicht mit Photonen selbst  \n",
    "\n",
    "Die Strahlungsintensität ist die Anzahl der Photonen pro Zeiteinheit  "
   ]
  },
  {
   "cell_type": "markdown",
   "id": "2e80c81b",
   "metadata": {},
   "source": [
    "### Eigenschafte Photonen"
   ]
  },
  {
   "cell_type": "markdown",
   "id": "25910053",
   "metadata": {},
   "source": [
    "- $E = h\\cdot f = m\\cdot c^2$  \n",
    "- $v_P = c \\quad(=3E+6)$"
   ]
  },
  {
   "cell_type": "markdown",
   "id": "ef819813",
   "metadata": {},
   "source": [
    "### Tachion"
   ]
  },
  {
   "cell_type": "markdown",
   "id": "37f251cb",
   "metadata": {},
   "source": [
    "Ein Tachion ist ein Teilchen das sich schneller als c bewegt  \n",
    "\n",
    "$m' = m_0 \\cdot \\frac{1}{\\sqrt{1 - \\frac{v^2}{c^2}}}$  \n",
    "$\\quad m_0$ ist die Ruhemasse  \n",
    "$m' = m_0 \\cdot \\frac{1}{j\\sqrt{\\frac{v^2}{c^2}-1}}$\n",
    "\n",
    "Selbiges gilt bei der Zeitverschiebung  \n",
    "$t' = \\frac{t}{j\\sqrt{(\\frac{v}{c})^2-1}}$  \n",
    "\n",
    "Deshalb bewegen sich Tachionen Rückwerts in der Zeit  \n",
    "Es ist unmöglich zu sagen ob Tachionen existieren, da alle Teilchen die sich langsamer als $c$ bewegen $\\infty$ Energie benötigen um auf Lichtgeschwindigkeit zu kommen und alle Teilchen welche schneller sich als Lichtgeschwindigkeit fortbewegen $\\infty$ Energie brauchen um auf Lichtgeschwindigkeit abzubremsen"
   ]
  },
  {
   "cell_type": "markdown",
   "id": "b3a8fc92",
   "metadata": {},
   "source": [
    "### Rotverschiebung"
   ]
  },
  {
   "cell_type": "markdown",
   "id": "d246b016",
   "metadata": {},
   "source": [
    "Die Energie eines Photons in einem Gravitationsfeld eines Sterns ist:  \n",
    "$E = h\\cdot f + G\\frac{m\\cdot m_p}{r}$  \n",
    "\n",
    "Wenn sich das Photon nun $\\infty$ weit weg bewegt sieht die Gleichung so aus:  \n",
    "$E = h\\cdot f + \\lim \\limits_{r\\to\\infty} G\\frac{m\\cdot m_p}{r} = h\\cdot f + 0$  \n",
    "\n",
    "Deshalb muss sich die Frequenz verändern, während sich das Photon aus dem Gravitationsfeld entfernt"
   ]
  },
  {
   "cell_type": "markdown",
   "id": "c00d6394",
   "metadata": {
    "jp-MarkdownHeadingCollapsed": true,
    "tags": []
   },
   "source": [
    "## Angeregte Elektronen (Photoeffekt)"
   ]
  },
  {
   "cell_type": "markdown",
   "id": "13409b2b",
   "metadata": {},
   "source": [
    "### Photoeffekt"
   ]
  },
  {
   "cell_type": "markdown",
   "id": "3a1ea70e",
   "metadata": {},
   "source": [
    "1. Licht kann Elektronen von Körpern ablösen\n",
    "2. Der Photoeffekt tritt erst ab einer gewissen Frequenz auf\n",
    "3. Ab dieser Grenze gilt: \n",
    "\t> Je höher die Intensität desto höher die Rate der herausgelösten Elektronen"
   ]
  },
  {
   "cell_type": "markdown",
   "id": "bfd52088",
   "metadata": {},
   "source": [
    "$E = \\hat{E} \\cdot sin(\\omega\\cdot t)$  \n",
    "$F = -e\\cdot E$  \n",
    "$\\rightarrow \\frac{1}{2}mv^2$...$E_kin$  \n",
    "$\\rightarrow$ Wird größer je größer F und je länger die Kraft wirkt"
   ]
  },
  {
   "cell_type": "markdown",
   "id": "9ddb26df",
   "metadata": {},
   "source": [
    "### Messung des Planck'schen Wirkungsquantums"
   ]
  },
  {
   "cell_type": "markdown",
   "id": "1c3b7506",
   "metadata": {},
   "source": [
    "Mit Licht der Wellenlänge $\\lambda$ werden Elektronen aus der Kathode herausgelöst und die daraus entstehende Spannung und der fließende Strom werden gemessen  \n",
    "Wenn man nun die Energie berechnet und die Steigung dieser, erhält man das Plancksche Wirkungsquantum $h$"
   ]
  },
  {
   "cell_type": "markdown",
   "id": "12802c6b",
   "metadata": {},
   "source": [
    "![](https://d1u2r2pnzqmal.cloudfront.net/videos/pictures/4586/normal/photo2.jpg?1581427218)"
   ]
  },
  {
   "cell_type": "markdown",
   "id": "9c5a7780",
   "metadata": {
    "jp-MarkdownHeadingCollapsed": true,
    "tags": []
   },
   "source": [
    "## Röntgenstrahlung"
   ]
  },
  {
   "cell_type": "markdown",
   "id": "c1061464",
   "metadata": {},
   "source": [
    "Es gibt zwei Metallplatten, welche an den unterschiedlichen Polen einer Spannungsquelle angeschlossen sind  \n",
    "\n",
    "Elektronen werden mit einer Spannung beschleunigt, wenn die energievollen Elektronen auf die zweite Metallplatte treffen, gibt das Elektron Röntgenstrahlung mit der Wellenlänge $h\\cdot f$ ab  \n",
    "Die Abgegebene Energie hängt davon ab wie das Elektron auf der Metallplatte aufprallt, es gilt auf jeden Fall $E = e\\cdot U \\geq h\\cdot f$, wobei U die Spannung ist mit der das Elektron beschleunigt wird"
   ]
  },
  {
   "cell_type": "markdown",
   "id": "42f6d14d",
   "metadata": {},
   "source": [
    "![](data:image/jpeg;base64,/9j/4AAQSkZJRgABAQAAAQABAAD/2wCEAAkGBwgHBgkIBwgKCgkLDRYPDQwMDRsUFRAWIB0iIiAdHx8kKDQsJCYxJx8fLT0tMTU3Ojo6Iys/RD84QzQ5OjcBCgoKDQwNGg8PGjclHyU3Nzc3Nzc3Nzc3Nzc3Nzc3Nzc3Nzc3Nzc3Nzc3Nzc3Nzc3Nzc3Nzc3Nzc3Nzc3Nzc3N//AABEIAJUBUQMBIgACEQEDEQH/xAAcAAEAAgMBAQEAAAAAAAAAAAAABQYDBAcBAgj/xABREAACAQMCAwIICAoJAQYHAAABAgMABBEFEgYTITFBFBYiMlFhcZMjUlRVgZHS4gcVJEJikqGxstElM1Nyc3SUosGzNENEgsLhJmNkg6Pw8f/EABgBAQEBAQEAAAAAAAAAAAAAAAABAgME/8QAIhEBAAIBBAMBAAMAAAAAAAAAAAERAhMhIlEDEjFBMnHh/9oADAMBAAIRAxEAPwDuNY5H2IzbGbAzhe0+oVkpQQMfFejtBBO94kVtLZpemeZgiRxuQE3kkbSxJAH6LDurPDxDpc1y8Au4hhIpFkMi8uUSK7LsbOG8mNm6dwzWgnCccMN6tvqF1DJdXa3G9MZjQOZBD649zSHH6ZHZ0rUseArGzntriO6nMkFlHYqTjyoFVlKt/e3KSRjqi92QQsY1OwZ4o0vrZpJMFF5q5bKlxgZ65VWb2AnurTl4q4di/rde0xDtV/LvIx5JAIPb2EMpz6CDUXb8FCEwyfje5a4gMfKlMUfkhInhxjbg5SQnPxuvZ5NfNpwLa21tHAt9cMqdclV6/kgtR/tG72+qgtwOeq9h76+qwWkIt7WGBTuESKmfTgAZ/ZWnKupQSs0Jgu4mOeXL8G6+nDAEH0AFR62oIubil455EWxVlRyN3OxnBxnza+fGx/m8e++7XBNVvbn8b6hvnuYfy2fyGmPT4RumQcfUaw+EXPyqf3zfzrfoz7P0D42P83j333aeNj/N49992vz94Rc/Kp/fN/OvPCLn5VP75v509E9n6C8bH+bx777tPGx/m8e++7XE7DROIL5N0XhKRt+fNMyD9pyfoFSsXB2q/wDe61tb0K7v/wAitaUpqQ6v42P83j333aeNj/N49992uV+Jt/8AP7/qP9unibf/AD8/6j/bppSakOqeNj/N49992njY/wA3j333a5X4m3/z8/6j/bp4m3/z8/6j/bppSakOqeNj/N49992njY/zePffdrlfibf/AD8/6j/bp4m3/wA/P+o/26aUmpDqnjY/zePffdp42P8AN49992uV+Jt/8/P+o/26eJt/8/P+o/26aUmpDqnjY/zePffdp42P83j333a5X4m3/wA/P+o/26eJt/8APz/qP9umlJqQ6p42P83j333aeNj/ADePffdrlfibf/P7/qP9uvluDdSHma3vP6W8f8mmlJqQ6t42P83j333aeNj/ADePffdri15w/wAQ2eWzcTJ27redn/2nB/ZUOZ7rLA3VwCpwwMrAj2jNSfHML7xL9A+Nj/IB777tY5uMWhUM+myN/hFnP1Bc1wLwi5+VT++b+dPCLn5VP75v51PQ9nd/H22AzJbLF/jSNH/EoqU0LiNNZueVFFEF2F98cwfPZ6B66/OvhN58ruPfN/Orp+CG0t7/AImuBqEEd3+SH/tAEn5w+Nmk4L7O60PZUa2jWOAsUcsCjsW2uJIR9SECtm1thbIUWaZ1PZzZN5H0nr+2sNImHiJJr5Yo7C7NqZZITejl8oMmdxxv3hcqV3bcZHoINJ+LdFgWB2u1aKWVozKvYhCF+vYeq9RgHIOezrWvccHWVxdI011ctaJNLMlmVi2I0gbftfbzADuY4Dd/o6V7pnB1jpyoIp5mZXZi/JgjZg0ezDcuNc4Heeue/uoNluJ9LW+mtZJlRYYXmecyx7OWqxsW6NnskHd0xk9CpbZm1zTIrkWz3sQnMhj5atlg2EPUD1SJ1PZuX01CS8B6fNNLLNf6jIslm9oELR/Bo0aodjBNw8wHGducnHU19ScEW00izXGq6hLN4Ublp2W3EhYpGnRhECnSJRlNp6nr2YCesdUsb65mgtLmKWWE/CKjZI6kZ9YyrDPpBHdW/UDoPDFjod3cXFmWJmJCrJFEDEpbcQGVA7DPxmY9BU9QKUpQKUpQKUpQKUpQKUpQK8PZXtD2UH5m1iH+l9S/zs3/AFGrR8E2f1LMv6K9n1fyqxarb/0rqH+bl/6hrWS0eR9iLuZuiivTThaMtLG6u5kgihaQntMfXaO8kdw9mavnDmh6dajmwtHdXi+e7jDR+xe1fpGaluH9GSws9oVd7+e/xj/IVIXGn29wVM0IZ181wdrJ/dYdR9FJn1I3a5SnLrYt7J4A2Z5pUz5PMwSnsbHX6ST66zcms200eXTl1vcmnJoNHl05db3JpyaDR5dOXW9yacmg0eXTl1vcmnJoNHl05db3JpyaDR5dOXW9yacmoNHl1G6zoNlqsfw8Wycdky9G+8PbW/xDd/izSJ7pRiQALEMZ8onpXzw5PPqOkrcXLBpN7qxUY7DgdBVjKticbc01TR59NnMVwO3zHUeS49tafJrrms6TFfWbxSpnI6N6PWK53cWL28zwyDDKcf8AvW6id4Yufkofk1fPwNJs4muP8of4lqr+D1dPwURbOI529Nsf3rWM42axnd1ulKVwdilKUClKUClKUClKUClKUClaepX0On26z3BYI00UI2rnypJFjX6MsK04eIdKkt0uXu4re2lm5NtNcSCNbk+mMkjcD1wR52MjIwSExSq+vGGgG5EB1O3TMk8RkkkCqJInRHQliMNmRcDvByOlSDavpqT3UD6jZiWzTmXMZnXdAmM7nGcqMYOTQSFKh7TiXRrva0OpWpWSfkQMZlAnfAOIzny+jDsqYoFD2UoaDh+pW/8ASl5/mZf4zW9w5p3M1BX29nm+09/0Cti+g/L7r/Hk/iNTnCNt8K/6Kk/8V642i3nneaS4t9q7V81a95FSHKpyq4W6Uj+RTkVIGPCk+gVSH4m1UOVUafgE4zbuTjPTPwlLWln5FORWlwxqV5qjXC3gtiIwCvJjZPr3M1TvKpZSP5FORUhyq0b++js5Y4RbXV3O6GTlWyBiEHax6gY+nJpZT55FORXiatZMzxgzK6bQyPGUPVd2cHB6Dt6V822uaRPdT2y31ss8XnI8yqxGAdwBOSvUdeyllPvkU5FZpr7T4InlnvrWOOPO93mVQuO3OT0x315+MNN8Iit/D7PnzDMUXPTfIMZyFz16dendSymLkU5FYhr+hs1yw1Wx5VsQs0xnXlKxOApbOA3qNb1tPBcyzpDuZoWCSHHTJGRjuIwaWU1uRTkVIcqvTEAMnspZTmP4Sbje9vp69sY5sntPRQfo61YOC4P6Aj/xZP4jVS1rff311dydskmQPiqDgCr/AMGQbdBUf/Ok/iNS91/G3yKpnFem7bkSKvTsPs7q6JysVX+LLbMMbekEfVXTCd6c842tzzwerZ+DaLZrsp9Nu38QqK5FWTgWLZq8p9MJ/eK1n/GUw+r7SsFzcwWkLT3VxHBCva8jhVHtJqO4k1FtO0Sa4tixnkxHb8tN5MjnapC9+M5x6q8zumKVz5eM761shG6RS3FlbTy3kl4DDIwhZRnZgbS6uH7MDPYazz8cTxT3qC2tPgeZuQzHmWm2ZIw84A8lGDmTPxVPndoC9Urm2ncd3YuIIWNpfLc30qRT+ExRpKnP5YWEkru2rhugYnKjv3VlvuMtVFtBKi2Nqs0ts/MZyRHCboQvuyABnI6/mgkdSASHRKVQdO4yvdWuuWkMdrGl5DG4WaNpU3M4MUibiyN5GeoXtIx0yY3TvwhagumRtd2UM8sOlLdOZLiOOSci0E5lCZB2lsp5KEDr16FaDqFK1NOe5ks4nvliWdxuZYiSoyegBPb0x3Vt0ClKUEXxBo8Gv6W+n3fW3klheRWXIcRyq+0g9zbcH1GoLU+CRe6dPp8Oq3NrYSmfbaxgbI0lAyo6jIDbmUHoA5GOi7bjSgqM3BUUsd/Gb19l1DqES/BDMfhbI7HOeu0qcepsd3X6uuDYbprhTfzrE5neFBGuYpJiGZix88Ajop6dcHOBi2UoKc/BCz3HhVzqLyzSySG4xEFWRXMZKhQemDGME57TkE4IuNKUEa66rC7NE1rdRE+THIDEyj+8NwOPRtHtrw6tHEv5db3Vn0PlSx5QesupZVHtIqTrxvNPsoOJyQy3Mks8V3cSpJIzb47qQhsknphsVt6bDeRl+Vd3y9PzbqUd/qaph9FtZ25rQbJW8ppYmMbN7WXBNbWm6XdrK3IuY5Rjql1Hgn1B1xj2kNXTemP1GY1D5y1L/WTfapjUPnLUv9ZN9qrcNPT85V3U/F6/FrDSoMNQ2N/SOpdh/wDGTfarHBbs0ELMCxZBknqScduT2mrk+nry28nuNRUFp8DH/cH7qDY4Nh2zXf8AdX99WjZUPw7DyrmcelB++p7FBozyMlzbwxbcyMS/qUD/APgqP1vQpNRkaW2uIoHeEwSrPbc+ORCc9V3Kcg9hzj1GpC3HP1O5lx5MSiFT6+1v/TW9igqS8GCFFFtqcyyKAokaJWyNhQ/v+issXCECoqNcuyLIZDuQdfg9mO36atGKYoKXb8A21vbGNNQu2kUR8uZj5QdSSWOD+ce3BX21vR8JwRwGE3UhVjFkhADhARgEHv3H/wB6s2KYoKfLwXzMczU5jJGFWFhEF2qoIwdpBbofSB+6prSNIj0pJUidmSUqQMAbcLjuqWxTFBh2UZPJPsrNivHHkN7DVscnntsQyN2ZY/vqwxeFNpVlptpkNeXcqvJg4VFJJzjr16dns7M1FXbSLEY4raWRu3dkKo695JBP0A1iGp8YW8s0FgbGC2EjBQIDMyk9pDEj+E1Clv4aee3ub7R7xxLLaFXjYA4Mb9mM5x1B6ZOOlavFeoWTQxxxXCTSq5DR245rKcDoQucVQWk4mOtI16be9nmtiG8Lg3KwVumUBCdM9wxUhfajxXJbxRSmyWNPMWK1KgfRnFaxyrK2Zx2pl3XL/wBVa7PXcSAfUBuz9OKm+FLK4l1F+ffSAGEgpbrywRkd/Vh9BFUg6vrQ1BNPM1uLlozKF8H/ADQevXNWzgC51ZuIOXftEYWtnPkxbTkMuOufWa3lnEwzjjNr7baVY20omitkNwBjnyeXLj1u2WP11ukV7SuLq8wPRSvaUHn0UwPRXtKDz6KYr2lApSlApSlApSlApSlApSlArxvNPsr2vG80+yg5trNn+NNNNol/dWLEr8NaybHGO7Prrb4LsG0aGaGXU7u/3Nv5l4+519WT3d9V+XUHWZ19DEfUTWxYam+5/ZXSfjH6v3hK/Gp4Svxqpv40f41Pxo/xq5tLg9yvLbyvzTWvbQ5tYm9Man9lVZ9Uflt5Xcat1k39F2zf/Tof9oorPpibbt/8P/mpN2CIznsUEmo6xbdcA+mHPk+sj019aszNa8hWKtO6xZHaMnqfoFVH3pCnwFJG8+YmVj6d3UfsxW7XwpVVwF2gdAPQK1NRuHjjSOHHhE52R+r0t9AoPdXuWtNKu7mHbzIYmZM+kCqvbcQ6ta6db3mpx3ADuC6yRQgsuzd5PLkf9uDVqhtYIbNbTYrRbdpVwDvz25HYc99a9louj6fnwHStPtu88i2RM/UKKrqcazsbJptOeETO0bxYYrnAKtvZVKr16kr29OtZrfiu/DMl3pcGVedmaG5JCxRnGfNyW7OnT2irFFp9hBEIobK1ijGcIkKhfK87oB39/pr2Gys7eVpIbO3jkbOWSJQT6eoGaCvHi662FE0uE3gDNsF78HtCcwZcIepHdt6H0jrWNeOUZ7lo9MlMEUeRIWKlnGMr5m384YO49+QKskOnWMMQjhsbaJAWYKkKhQW844A7+/00/Fun85pvAbUyugjMnJXJQdik47B3DuoMGh6nLqcc/hFulvPbzNE6Ry8xfSCG2juI7h/zUm/mN7KxRRxxFjFEiljlioA3H09O2vt3wjeyiOeTN+Sv/wDvfWjc8RiwvJ7XwaR9srHcsZPb17q+pp/gn9p/fUvPqUlnodntuPB4ptQKu6SAFsSAhAT069RgdvYD6VEzSpycUhtdt7gWsvwds6+YfzmHq9VZdR4pE1vsMMkTMCA2wgrkdo6Vf+HpJL/VtS1ZkdIn228KPjIVM5+nJOR3EV98WufB7fr+cf3VrHHlTM5RVuASJd+MEch1nVSvgzL4UR5Y6jyQf2/RXUvweaot5xDDbZkcxWkhMj9pwUHX11n5p+OamuE3L6i/+Gf3itZeOo+pGdyt9KVqy39nFcpbS3dvHcP5sTSqHb2LnrXJ0bVK+BIpcqGUkdwbrX1mg9pSlApXma+HkRAOYyqCQo3HAJPdQZKViWRDMYw43qoYpnqAc4JH0H6jWWgUpSgUpSgUpSgUpSgUPZSh7KDk17aWXhl1+SW/9c//AHY+MamuF9K0q4aXm6dZy+R+dCp7/WKruoXH5fdf48n8Rqd4Qu8ylPUR/wAivVXF573Wb8R6L80af/p0/lT8R6L80af/AKdP5Vl51OdXCna2F9D0Xlv/AERp/mn/AMOn8qxxyCPTkwAAkKgAHAAC9AMdlbLzfBt7DUE11+Qf/aH7qkwWk4NStLaaI3d1BAXgG0TTBc9nYWPWvG1jTrjWIIxqNkeUhZQLlOrN0A7evTJqnavEpNo35XL8BjCvK/oPYoZu70GtWxtil9GyLcASZLGWOVA23qMcxQT/AOU/RUV1MyBQWYgKBkk9wrRsC1xK+oMCOYNkAPasee3/AM3b7MVG6xqtml/b6VcXaxy3T5KbWy6+jIGFyenUj1VKiTHkqpVR3DsHsq7FT03N9N9afMoJKbFT03N9N9Rk+oW1tNFBcXUEU05KxRySBTIf0QT1+is/MpsVPTc3031B6rr9jpMtsl/M6NcybIwkbOM9mTgHaOvbUhzKbFT00PCtUsdUu31CSGfTGVTbiC3KGE5wd7Fsd465+ipiK4juIw8UiSIcgMjAg/VUBxLrcPD+kSX11E08Ssq7AyjqfST0A9deQGcwRahp3MCzxq7QTeU3U5OCzhV6eipGUNz45iLUG+naF54JvJkRyrL6Du7KvnDdtDf6JamZQyw3Ukm0jIPnAgj6apP4QoGtdUS62bEu0BIDAgOO0ejPfVv4Fm/+HY/8aX+I1a3YWqJUijSOJFRFGFVAFCj1DsFQvFbfk8Ptb91b/OqvcXXWIUTd2L++unjjlDGc7IPn1O8ITqNQmd2CosDFmY4AGR1NUh9RG8xWyGWQd4Pkr7W7vYMn1VY+AbdbnWna+xM6x7lQjyEIIwQvefWc+rFbznjLGH1frS/8MlPg8MrW4HS4PRHP6PeR+ljHZgmqzxDw3qGpare3kEoEEkduDbnl7boIzFkLFSyHr0ZSOp+mrrSvM7qHLoGvm7u5IZZEM0h5kyXrDmobhGQIv/d7Yg6nGMk/ndta17w/q1kLi8E1+3LimjSRb6eSTk+E7wmBliWiJUN1ZT17gR0WlBzfS9N4iv2srlLnUIrOK7k5cU13KrqgnJBfcfhFMYAG4N/u3VsycPcQ+BSoL3UGkmhUy7dRfJdZsgLlhtGzAIUpuHawPWr/AEoOfwcNaybiF7mSeIzm08Oe11ObDKkTo6qS27O7Yc9pyeua+W4a128u7nw5pBbTXttMEW/kYIEnkZmQsxKExtGPJ2+acBcCuhUoObycOcTbjIJ5MGOGOUpdus00cb3e1eYHVsgSwEksM4PU9VMrp2i69Bqtpd3d9cTGO8jEubxjG0HgQR/I6KSZxu80Hv6ZNXOlApSlBRnfWTxVdNcyXI0JNVjQLC7h9xtodpOB/UCToQpwWclvJVsx9rqnEGoNYIiXNpPutHuWe3uNizs83PTDEZRRs6A46r1IxXSaUHOLbWOJ5L4SxxyI91bW6uZbWRooiqXjMyJkYLNHEDknG5R16Vgv9b4sudGuWFu8V+lvI8UkFrKoBNokoUJvIJDsyAtnrjpkdenUoOb3Gu8V2RuRHy7wtcOyTnS7gIoEKNGgRSzbWLN164KMPOYYuOgtcMdR8K53/bX5Ykz0XavQZ7s57Kl6UGrd3kVptMqznecfB27yfXtBwPWa1jrmkg7JNTtI3+JJMFb6jg1J0PZQcFv7tW1G8eKRWXwmXaytkY3n0Vu8O6lyNQUbvJk6fT3fyquaq6LreovtXd4XN5W3r/WGtcT4Oa9US88w7Yt1uVW+NX1z6p/C+vJqEHKkb8ojXy1+MPjD/mp3nVnLGmom0i8/kN7DVQu7pjbqqvcoOgPJ5ZPZ+mCMVOtN5Dew1UDNlSPSK55Nw2DeJFaiS5aRolBwbvkL0x07Si49pH01saVcWnhaPAIcGN93K5fU4HbsJz9JPqqKt2veYghgMmxPOiZgV7u7sraij1GSeOSa3uGYHoGydue05J6fQBWaateryLTri7S9ksY5by2B5EjoNyn0CtPh7VdUvNPlbXLNbO6yRHsTsGO3BY9h784Pqr5M1OdV04XWyo4dW50i1lTWNUN40k2UaWQ/UC5z17do6Dur74kivdSitl0zUpLJopg8pBZdy+jKnPrx2HvqI1rSbXWvBvCXkTkSb1Me3r6uoP7BmpPm4AC+aBippwurP39/pm1HTNL1S+tby9SZprXzCr7Q3f5QB9PWpXw2P9KoTnU51XThNXJJ3Q068aF7q0huGhffEZYlbY3pXPYa2BeRk/nVCc6sdzfxWsYmnmEce4KCTjJPQAfTTTg1clmwWXA76jrnVUZ2hsWinlCnftkHwZ7B+304+moqfULrUWABaC2D9il45Dj09hx9X01jN5HbSQ2g3HOMZySPp/mazHj7ay8vSv63pOoJw/efjPUmvpxMJoCctjs3AZ83I/NGAMdKnOCJgvD8Yz0Msnr/ADjXl5dotxHvZyieU6g9PUcAgsc92D9FfXPurrrua1g9fWZvo7E/af7tbjGIc5ymfqWudTjgYR+XLPjKwxDLEenHYB6zgeuqJxRezXl2I7lwied4PETgegM3aencMDr31L6vqVvolgwiCiRzlUyd0jelj2n1mqBJdvLK0kjZLkk57TXWIr65TNpRZlRAqlQo6BV6VcPwYy79fnX0W5/iFc459Xf8EUu/iScei0P8QqZTtJj9dhpSled3KUpQKUpQKUpQKUpQKUpQKUpQKUpQKUpQK8PZXtD2UH5g1eX+mdT/AM7cf9Rq1ebU1qnDGtPq+outmMPdzuvw0Y6GRiOhPoNavirrnyMf6iP7VdvaHKmnDdy20ySwyMsinKsvaDV20XjC2uUWDUWW3n/tD/Vt9k/s9lVXxV1z5GP9Qn2qeKut/Ix/qI/tVqM4ScXTw+5FIIZWHkkNkN7CK0/xfZf2P/5G/nVFstF4o09t1ikkH6MdzGFPtG7BqWin43iTDRQS/wCI0P8A6SKnCTlC020EFqWNvHtLdG8on95rPzKqfhfGvyKy+tPt08L41+RWX1p9unHs5dLZzKcyqn4Xxr8isvrj+3TwvjX5FZfXH9urx7OXS2cynMqp+F8a/IrL64/t08L41+RWX1x/bpx7OXS2cynMqp+F8a/IrL64/t08L41+RWX1x/bpx7OXS2cysF5b2t6qJeQxzIr7wJFyuR2HH86rXhfGvyKy+tPt154Xxr8isvrj+3U49nLpap5+Tbs+1to7AO70VoR747eS5kZzPIOm0suzPqJIAzVXurTii61G3v7nTLOWaBSkRcxlRnvxv7fXWa8l4ymjSJre2jDtjo0Y3eo+VSIiSZmFpglBvHLkblXAJfAB/OCr9Rzj9lRmtcWWVgjR2zpd3HoU+Qp9Z7D7BVOv9L4pvOurlmTmbRm5Tln4uVU49nSsnijrP9hD74VbjH/SraV7qFxe3BuLqUySN39mB6APRWDm1K+KWs/2EPvhTxS1n+wh98KntC+qKEvWr9+Bd9/E9z/lD/EtVXxS1n+wh98Ku/4JdEv9M4knkvY0RWtSqlZA2TuX0VnLKKWI3depSlcnQpSlApSlApSlApSlApSlApSlApSlApSlApSlBDScOadJI0jLLudix+E7ycmvnxZ074s3vKm6UEJ4s6d8Wb3lPFnTvize8qbpQQnizp3xZveU8WdO+LN7ypulBCeLOnfFm95TxZ074s3vKm6UEJ4s6d8Wb3lPFnTvize8qbpQQnizp3xZveU8WdO+LN7ypulBCeLOnfFm95TxZ074s3vKm6UEJ4s6d8Wb3lPFnTvize8qbpQQnizp3xJveVik/F9lqFhpKzRLI2ZFgmnUcwepc5Yg+rAqwHsrVksraS9ivZIEa5iRkjkx5SqcZH04FBCatcxABbySOKRLrkqwco5D+aFPYWIxnPStwcN6awUtDLnvzIc/v/dWPW9MsbrULKe+t45lEgUF85jcHcjL6OoOfT0rY17WIdFto5p4JZmmlWKKONkUsxzjynZVHYe0j0Cgx+LOmf2cnvDTxZ0z+zk94awJxbo6GRL64/F8sEKSzx3uIzCHzgN1xnp3Ej0E1lueJtHgjmdb6GUwOizLFIpaPe20E5IwM5z7DQfXizpn9nJ7w1nstHs7CfnWyOHxt6uT06fyrXHE2kEu/h0Qt1hSXwnmKYiGZlABz25U9K2l1bT2XcL+32kgbhKMEld4/wBvX2UEhSoNuKdDSW1j/GUDeEiTlsHyvkLubLd3k9evdWvPxnoMJjMl/AYZSRFMkiskgCliRhs4wveOpIxmgslKgk4r0RrFLpdRhKNbeEhdw3GPaW7PTgHp6qabxRpF/aRTC6ig3wc/kzTJuRNu7J2sR5vlYz2YPZQTtKh14k0NoxMmr2TR8wx7hMMFgAf3EHPoI9NY04p0N2uA+pW6G3uGt3EsgXDrjcMegZHXs/ZQTlK0LHU7C/nuYLO8guJrV+XOkcgYxsCRhsdh6HpW/QKUpQKUpQKUpQKUpQKUpQKUpQKUpQKUpQKUpQKUpQKUpQKUpQKUpQKUpQKUpQYLqCO4haOUZUkHp0IwQR+0Vqaxpv42smtjOY1YjeGjWVJF71dHBBBrylBF2nB1pZJCIrq4KQrENhCbTyySuAF8nzuwdOlDwjA1/cXkmoXkjyOrbZNjbQsnMCg7c4z06k9OzFKUH3LwlFIJwmo3kTTNuZo9vUGR3KkEEEfCEYPoFYLbguC2W1SLUrwQ26xgxbItsjJGYwxymfNI6Dp07KUoPiHge2htjbrqV7tKzJtCxqipLGI2VUCBUHkhsKB5We4kVIXPDdvdXZuTdXKMGG5UK4YCNo8dmRkN7fXSlBpPwTbsYS2pXmY7XwYsiRI0i7GQbyqAsMOTtJxkA17d8GWc9xcyG6nAuVZHUpE2HaHk7wzIWB2dwOMk9xxSlB7qXBttfmbN/dwu8iycyJYt8ZEQiyjMhZDhc7lIOfV0rzUOCrW9mkke/ulLPMwBjhkASUJzEw6MCCUByeo6js6UpQTOladFpMcsMLO6z3U1wS+MhpHaQ9g7MtgeqpGlKBSlKBSlKD//2Q==)"
   ]
  },
  {
   "cell_type": "markdown",
   "id": "18a3a5a8",
   "metadata": {},
   "source": [
    "![](data:image/jpeg;base64,/9j/4AAQSkZJRgABAQAAAQABAAD/2wCEAAoHCA8PDw8PDw8PDw8PDw8PDw8PDxEPDw8PGBQZGRgUGBgcIS4zHB4rLRgYJjgnLT0xNTc1GiQ7QDtAQDw0QzEBDAwMEA8QHxISHjErJCg3NTY0OjU3MTo/MTs3OjQ1ND03NDQ0NDYxNjQ0ND80NDY1ND80NDQ0PTQ0OjQ0NDQ3NP/AABEIALYBFQMBIgACEQEDEQH/xAAbAAEBAQADAQEAAAAAAAAAAAAABQQBAwYCB//EAEsQAAICAQEEBAgICggHAQAAAAABAgMEEQUSITEGE0HSFiJRVWGBkZMVMjM1UnFysSNTYnN0gqGisrMUJEJkkqPB4SU0VKTC0dMH/8QAFwEBAQEBAAAAAAAAAAAAAAAAAAIDAf/EAC8RAQEAAQEFBwMCBwAAAAAAAAABAhEDEiExQTJRYXGBkbHB0fAEoRMzcrLC4fH/2gAMAwEAAhEDEQA/AP1LM2n1N0a3CU1KuLW5pvOcrIwS4tLTxuZk8I6lJqVc4pqpQblVFzsk7VKHGSSa6mXFvR6cOzWtbiVzlGcopyju7stXw0kpL9qTMz2Rjt67kovhpKFllcotOctU4taP8JZxXZJrkBnXSClrfUL3DkpqtNOfUdfuqOu83u+jTVaHC27GUqlCuUlbOEOEq3uqU5Rc96MmmvF5Lid2djYlFFtlsdympTuslvSW7u09W5a6891af7mfY9WHl41OVTGUoXxhdGcpzlY3rveNJy1bT4NejTkB84u3lZOuCqcnZeqm4yhpXB02WRk9JPV/g5LRcV994m0bHx63CUISTrcHBu22e7uxlCOmsnwSnNaeRlIAAAAAAAAAAAAAAAAAAAAAAAAAAAAAAAAAAAAAAAAAAAPN9M9k27QxXixtdGPLWeVZHR2ThBbyqgny1aTbfZHk9TD/APnOybcLCrrVjuxb6qsqnf0VlFk4Rdlb05xbe8n6Za9mvrMv5Kz7E/4WT+ib12Zs9/3LG/lxArAAAAAAAAAAAAAAAAAAAAAAAAAAAAAAAAAAAAAAAAAAAAAOrJX4Of2JfcyZ0Qf/AAvZ36Di/wAqJUv+JP7EvuJHQqWuydmPy4GL/KiBbAAA+JzUU5SaUYptt8EkubZ9kXb+tvUYcW08mx9bo9GsWC1s4+nxY/rHMrpNWmyw385j7+EnG30jNVC7aK6yVluPhPVU10t1XZMPxk5c4wfZFaPTi2d76LYGmipalppvxuujb9e8pa6lqMVFJJJJJJJcEkuxH0TuTrxXf1GcumztxnSS/PffH4nBBezcvH44mU7IrT+r5rdkdPybUt6L+vU7sHbMLLOouhPFydNepu0/CLy1yXCa+rj6CwY9o7Ppyq3XdBTjrqualGXZKMlxi15UN2zl+fZybTHLhtJ6zSX7X14+MbAed/pGRs96ZEp5OHyjlab1+OvJcl8aP5a9aL1VsZxjOMlKMknGUWnGSfJp9pUuqc9ncePOXlfzr4OwAHWYAAAAAAAAAAAAAAAAAAAAAAAAAAAAA+Lfiy+zL7iL0H+aNmfoGL/LiW5/Ff1P7iJ0G+aNmfoON/LiBdAAAjYX4XPyreyiuvDh9p/hbP4oL1FkjdGfGx5XPg8rIvyPU5tR/ZGJGXHKRvs+Gzzy8p73X4x09VkAFsAAAcSWq0a1T4NPtPPWYdmz5O3FjK3GbcrsOPGUG+dlGvL0w5Ps4nogcs1abPaXDxl5zv8AzpecZcLMqyK421TU4S5NPk1zT8jXJo1EHMwLMeyWVhrVye9k4mu7C/hxnDyWenk+3ylHZ2fVk1qyqWsW2pJ8JwmucZr+zJdqZyXpebueEk38OOP7zwv0vWeOsm0AFMgAAAAAAAAAAAAAAAAAAAAAAAAAAcS5P6mQegnzPsz9Bxv4EX2ef6BfM+zP0LH/AIEB6AAAYNt5HVYmTYucaLN37W61H9uh27Px+popq/FVV1/4YpGHpGt6qmp8r8vFqkvLHrFKS9kCwRO1W+XDYzxtvtpp9QAFsAAAAAAIW0dn2VWPMwkuuaXX0PhVlQXl8li7Jep8C6Dlmq8NpcLrPXuvn+fuwbL2lVlV9ZW3qnu2VyW7bVPthOPY0byNtHZUnP8ApOLJUZaW65Na13xXKFq7fQ+aOzZW1Vc3VZF05VfyuPNre0+nD6cH2Nes5LddL/1eWzlm/s+XWdZ954+/FVABTEAAAAAAAAAAAAAAAAAAAAAAAAPP9AvmfZn6HR/Aj0B5/oGtNkbOXkxal7FoB6AAASNqveytn19iuuuf6lMkv2zRXI9j3tpVR7IYV9n60rYRX3SLBGPO/nSNtrwxw8v8svoAAtiAAAAAAAAE3amy68lR3m67a3vU31vdtql6H2ryrkykDlkvCqxyyxu9jdKhYe1LarI42eowtk9KcheLj5PoWvxZ/kv1Nl0zZmJXfXKq6EbK5c4tar/Z+kjK+/Z70vlPIwtfFyOM78ZdkbUl40Pyua7Sdbjz5Nd3Ha9jhl3d/l4+F9OkeiB1U2xsjGcJKcJpSjKMlKMk+1Nc0dpbAAAAAAAAAAAAAAAAAAAAAACF0HWmysFeSiK/ay6Q+hfzZh/mtP3mBcAAEipb207pfQwqIeuVlkn9yK5I2b42ZtCXkljV+ypS/wDMrk4cvf5bbftTyx/tgACmIAAAAAAAAAABw0nwfFM5AECzY9mPKVuz5xq1blPFs1eJZ5XFL5OXpXDyo78HbULZqi6M8TJ/EX6LrPTXLlYvq9hYMmfgU5MOrurjZHmlJcYv6UXzi/Sid3Ts/n2bfxZnw2k18ev+/Xj010awQP6Pm4fGmUs6jtpulplVr8ix8J/VLR+k27O2vRkOUYScbYfHotXV3w+uD4+vkJlrwrmWysm9jxnfPrOnx3WqQAKZAAAAAAAAAAAAAAAABD6F/NuL6ITX78i4Q+hvzdjehWL/ADJAXAABJ2K9Z50v79OPqjVXH/2ViP0eXiZEvp52XL/Mcf8AQsE4dlt+o/m2d2k9pIAApiAAAAAAAAAAAAAAAAE7aGyaMlLrYePH4lsG67q35YzXFFECyXhXccrjdcbpUH+v4nDT4QpXbqq8yC/hs/Y/rNWDtvGve5Gzq7VrvUXJ03rT8iWja9K4FQxZ+zcfJWl9MLUviuUU5RfljLmn9ROlnK+7Xfwy7c9Z9uXto2gg/BmXj8cPKcof9Pm711enkjYvGj+99RzHb3VcM3HtxXydmjvxW/RbFcP1khvac+B/BuXYuvz7dfTVdB0YuTVbHfqsrtj9KucZx9qO8plZZdKAAOAAAAAAAABD6G/N+P8AXev86ZcIXQz5vp+3kr2ZFgF0A+Zy0TfkTfsQEnotxw4S+nZkWeqV02iwSejEdNn4npphL/Fx/wBSsRh2Z5Rv+p/n5/1X5AAWwAAAAAAAAAAAAAAAAAAAOTg5A4OGk1o+KOQBIyej2JY3NVdRY+LtxZSxrG/TKDWvr1OpYGfT8jmRuj+Lzat56fnINP2plwE7sazbZ8rdfPj88vRLwcvKlNwyMVVpRcldXdG2mT1S3dHo0+LfLThzKgB2TRnlZbrJp5a/W0AB1wAAAAACF0M/5Cv87mL/ALmwukDoS9cCv0ZGevZl2oC+Ztoy3aL5fRptfsizSTOkORGrBzLJPSMMW+Tfo6tnLyq9npvzXvjs2LHdw8WK7MahfuI3mfAju00x+jVVH2RSNAxmkkNrd7PK+NAAdQAAAAAAAAAAAAAAAAAAAAAAAAAAAAAAMGftGnG6t5FiqhZNVxsnwqU3yjKXKOvZrony56G1NNappp8U1xTQH0AAAAAECrozGtSjTmZ1NbnZYqq74bkZTnKUt3ei3prKT59pn25Ce9kydVtlirg8LdhdJcIvejCUPk7HL+09ODj2J6M/Kz4pyg5pSsyEtKnLccdOqjpGEnKMtZNvh8VLeXaGz4Al5x2l7+vuEzpH0ZutwcuurNz7rZ490a6p31bls3FqMXrFcHy5o1XZObBTnJ3tNZSjCqmLcJQvhGnde5L4yctW0+C1S4ceqzK2jFQjBzvXVxlK54+5vTknXu7jScd2Wk3r/ZQGyPR+SSXwjtJaJcOvr7h9fAEvOO0vf19wxK7OnZKMozUY5NbcVCS3YRzIKDjJRSacFKUvGn6uRlxsjaUKlBKcZwxYKEZ1TnyxotTficZ770ac+Sa3e0Cv4Py847S9/X3B8AS847S9/X3DFlvKjOafXzjHeqjYocXGU6ZKT3YNcNZrVRfBcubOKMnPVMJqMt6uuuCpnWoRnLdmpOUpRTXGMePir28A3fAEvOO0vf19wfAEvOO0vf19wmWbRzGpxpnbZGE9HbLHcLFPqYTjBwjXLWLcpcd1ckt7Xi/V167sd5JS0W8lyT046AR/gCXnHaXv6+4PgCXnHaXv6+4WwBE+AJecdpe+r7g8H5+cdpe+q7hbAETwfn5x2l76ruDwfn5x2l76ruFsARPB+fnHaXvqu4PB+fnHaXvqu4WwBE8H5+cdpe+q7g8H5+cdpe+q7hbAETwfn5x2l76ruDwfn5x2l76ruFsARPB+fnHaXvqu4PB+fnHaXvqu4WzkCH4Pz847S99V3B8AT847S99V/wDMtnlc2GXC2+dULpLGlK2iKb3b3kJKUefjbj33p2arQDf4Pz847S99V3B4Pz847S99V3Cev6ZFzx11jhUlXFbs3KUI7m5Yp7nGUuLfjPm+C0ZxDIz4eJGM1uVycFKuU99bk5bze4/GUkkk5LkvFeqAo+D8/OO0vfVdweD8/OO0vfVdwx5Ly4ynv9dZGNdsYzjBRek1javSMdHut2aPRtJPg2uPGFfnOMflEq51rcdXysXmThJylKKfye5Lgo89eXADD0q6N5N2LZjUZOdkTyU62si+pY9cXzsse5q0uGkY8W9OzVrZ0I6KWbKo6uebkZLa06uT0x6vzcXq4+31HVHambJRjGU5eLizyJdTuzoc43uahpXLejvQrinuy4N8e1U8+eTKnFlGG9kR3cixRi1HxIazrWr4OW9uJP6TfYBcB8wkpJPjo0mtdU/YcAfYAAAAAAAAAABgAdGPRXWt2uEK46/FhCMI6+XRHeAAAAAAAAAAAAAAAAAAAAAAAAAAAAHTRj116quuEFJ7zUIRgm/K9ObO4AAAAP/Z)"
   ]
  },
  {
   "cell_type": "markdown",
   "id": "1fc1a62b",
   "metadata": {
    "jp-MarkdownHeadingCollapsed": true,
    "tags": []
   },
   "source": [
    "## Bändermodell"
   ]
  },
  {
   "cell_type": "markdown",
   "id": "27e90608",
   "metadata": {},
   "source": [
    "![](https://www.lernhelfer.de/sites/default/files/lexicon/image/BWS-PHY2-0413-03.gif)"
   ]
  },
  {
   "cell_type": "markdown",
   "id": "e1c72d90",
   "metadata": {},
   "source": [
    "![](https://lp.uni-goettingen.de/get/bigimage/6798)"
   ]
  },
  {
   "cell_type": "markdown",
   "id": "6ff2bdbc",
   "metadata": {},
   "source": [
    "Wenn sich Elemente verbinden und eine Kristallstruktur erzeugen bilden sich Valenz- und Leitungsband  \n",
    "Ob ein Element leitet, wird über den Abstand der beiden Bänder bestimmt.\n",
    "\n",
    "Wenn die beiden Bänder einen großen Abstand haben ist sehr viel Energie von Nöten damit ein Elektrischer-Strom fließt, hier spricht man von einem Nicht-Leiter  \n",
    "Wenn die beiden Bänder einen geringen Abstand haben muss man das Element entweder erhitzten oder Dotieren damit das Element Leitet. Dies ist dann ein Halbleiter  \n",
    "Wenn die beiden Bänder sich überschneiden wird keine zusätzliche Energie benötigt, damit das Element Leitet, diese Eigenschaft haben die Leiter"
   ]
  },
  {
   "cell_type": "markdown",
   "id": "80fde253",
   "metadata": {
    "jp-MarkdownHeadingCollapsed": true,
    "tags": []
   },
   "source": [
    "## Dotieren"
   ]
  },
  {
   "cell_type": "markdown",
   "id": "db97346b",
   "metadata": {},
   "source": [
    "Man Dotiert, damit Halbleiter Leiten können, ein anderer Weg dies zu erreichen ist die Temperatur zu erhöhen. Da Halbleiter NTC-Elemente sind, leiten sie mehr wenn sie wärmer werden, was zur Zerstörung von Bauelementen führen kann\n",
    "\n",
    "\n",
    "Bei n-Dotierung werden Atome mit einem Elektron mehr in das Si eingebracht, was die Gitterstruktur von dem Atom weck krümmt, was bei zu starker Verunreinigung zum Problem werden kann  \n",
    "Bei p-Dotierung werden Atome mit einem Elektron weniger in das Si eingebracht, wodurch die Gitterstruktur sich zu dem Atom hin krümmt  "
   ]
  },
  {
   "cell_type": "code",
   "execution_count": 120,
   "id": "a722f387",
   "metadata": {
    "tags": [
     "hide-input"
    ]
   },
   "outputs": [
    {
     "data": {
      "image/png": "[encoded data removed]",
      "text/plain": [
       "Figure()"
      ]
     },
     "execution_count": 120,
     "metadata": {},
     "output_type": "execute_result"
    }
   ],
   "source": [
    "fig = Figure()\n",
    "ylims = [0,3]\n",
    "\n",
    "create_blank = ax->begin\n",
    "\tylims!(ax, ylims)\n",
    "\thideydecorations!(ax, grid=false, label=false)\n",
    "\thidexdecorations!(ax, grid=false)\n",
    "\n",
    "\tlines!(ax, \n",
    "\t\t[0,4], [2,2],\n",
    "\t\tcolor = :black\n",
    "\t)\n",
    "\tlines!(ax, \n",
    "\t\t[0,4], [1,1],\n",
    "\t\tcolor = :black\n",
    "\t)\n",
    "end\n",
    "\n",
    "ndot = Axis(fig[1, 1],\n",
    "\ttitle = \"N-Dotieren\",\n",
    "\tylabel = \"Leitungsband\",\n",
    "\txticks = yticks\n",
    ")\n",
    "\n",
    "create_blank(ndot)\n",
    "\n",
    "lines!(ndot,\n",
    "\t[0, 4], [.5, .5],\n",
    "\tcolor = :green\n",
    ")\n",
    "\n",
    "arrows!(ndot,\n",
    "\t[.5, 1.5, 2.5], [.5, .5, .5],\n",
    "\t[.75, .75, .75], [.75, .75, .75],\n",
    "\tcolor = :green\n",
    ")\n",
    "\n",
    "nndot = Axis(fig[2,1],\n",
    "\tylabel = \"Valenzband\"\n",
    ")\n",
    "create_blank(nndot)\n",
    "\n",
    "pdot = Axis(fig[2, 2])\n",
    "create_blank(pdot)\n",
    "lines!(pdot,\n",
    "\t[0, 4], [2.5, 2.5],\n",
    "\tcolor = :orange\n",
    ")\n",
    "\n",
    "arrows!(pdot,\n",
    "\t[.5, 1.5, 2.5], [2.5, 2.5, 2.5],\n",
    "\t[.75, .75, .75], [-.75, -.75, -.75],\n",
    "\tcolor = :orange\n",
    ")\n",
    "\n",
    "ppdot = Axis(fig[1, 2],\n",
    "\ttitle = \"P-Dotieren\"\n",
    ")\n",
    "create_blank(ppdot)\n",
    "\n",
    "fig"
   ]
  },
  {
   "cell_type": "markdown",
   "id": "6af892bb",
   "metadata": {
    "jp-MarkdownHeadingCollapsed": true,
    "tags": []
   },
   "source": [
    "## Energieniveau"
   ]
  },
  {
   "cell_type": "markdown",
   "id": "da2a7d09",
   "metadata": {},
   "source": [
    "![](https://sp-ao.shortpixel.ai/client/to_webp,q_glossy,ret_img/https://www.ulfkonrad.de/wp-content/uploads/elementor/thumbs/Energieniveau-H2-pd9slspr3oh8ra6aoali7n10bteysnuvr8lrn2swq6.png)"
   ]
  },
  {
   "cell_type": "markdown",
   "id": "c3b2ca0a",
   "metadata": {},
   "source": [
    "Atome können nur ganz bestimmte Energiezustände annehmen, wenn ein Photon von einen Atom erzeugt wird, muss die Energie des Photons der zwischen zwei Levels entsprechen  \n",
    "Ein System ohne äußerlichen einfluss, strebt immer den Zustand mit dem niedrigsten Energieniveau an (Grundzustand)  \n",
    "\n",
    "\n",
    "Ein Atom kann durch Abgabe oder Aufnahme eines Photons das Energielevel ändern, hierbei muss der jeweils passende Betrag der Energie hinzugefügt /abgeführt werden  \n",
    "\n",
    "$E_n = R_y\\cdot\\frac{Z^2}{n^2}$  \n",
    "$\\qquad R_y = 13.6~eV$...Rydberg-Energie  \n",
    "(Formel nur für Wasserstoff)"
   ]
  },
  {
   "cell_type": "markdown",
   "id": "946f8227",
   "metadata": {
    "jp-MarkdownHeadingCollapsed": true,
    "tags": []
   },
   "source": [
    "## Heisenbergsche Unschärferelation"
   ]
  },
  {
   "cell_type": "markdown",
   "id": "cf23640f",
   "metadata": {},
   "source": [
    "$\\Delta p\\cdot\\Delta x \\geq \\hbar$  \n",
    "$\\Delta p\\cdot\\Delta x \\geq \\frac{\\hbar}{m}$  \n",
    "$\\qquad \\hbar = \\frac{h}{2\\pi}$  \n",
    "\n",
    "Grundsätzliche Aussage: \n",
    ">Die Unschärfe vom Impuls mal der Unschärfe des Ortes ist immer größer als das reduzierte Plank'sche Wirkungsquantum  "
   ]
  },
  {
   "cell_type": "markdown",
   "id": "ba2c7d53",
   "metadata": {
    "jp-MarkdownHeadingCollapsed": true,
    "tags": []
   },
   "source": [
    "### Vakuumfluktuation"
   ]
  },
  {
   "cell_type": "markdown",
   "id": "07538486",
   "metadata": {},
   "source": [
    "Die Unschärferelation kann so umgeformt werden:  \n",
    "$\\qquad\\Delta E\\cdot\\Delta t \\geq \\hbar$\n",
    "\n",
    "Die Aussage dieser Gleichung ist, dass für einen Zeitraum $\\Delta t$ der Energieerhaltungssatz außer Kraft sein kann und sich aus dem nichts ein Elektron und ein Positron bilden können, welche gleich wieder Rekombinieren  \n",
    "Wenn man nun Elektron von Positron trennt, könnte man Antimaterie erzeugen  "
   ]
  }
 ],
 "metadata": {
  "kernelspec": {
   "display_name": "Julia 1.8.0",
   "language": "julia",
   "name": "julia-1.8"
  },
  "language_info": {
   "file_extension": ".jl",
   "mimetype": "application/julia",
   "name": "julia",
   "version": "1.8.0"
  }
 },
 "nbformat": 4,
 "nbformat_minor": 5
}
