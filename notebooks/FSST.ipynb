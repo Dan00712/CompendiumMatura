{
 "cells": [
  {
   "attachments": {},
   "cell_type": "markdown",
   "metadata": {},
   "source": [
    "# FSST"
   ]
  },
  {
   "cell_type": "code",
   "execution_count": 79,
   "metadata": {
    "tags": [
     "hide-input"
    ]
   },
   "outputs": [],
   "source": [
    "import schemdraw\n",
    "import schemdraw.elements as elm\n",
    "import schemdraw.dsp as dsp\n",
    "import schemdraw.logic as lgc\n",
    "\n",
    "from typing import List, Callable, Self\n",
    "\n",
    "from dataclasses import dataclass"
   ]
  },
  {
   "attachments": {},
   "cell_type": "markdown",
   "metadata": {},
   "source": [
    "# Objecktorientierte Programmierung"
   ]
  },
  {
   "attachments": {},
   "cell_type": "markdown",
   "metadata": {},
   "source": [
    "## Sinn OOP"
   ]
  },
  {
   "attachments": {},
   "cell_type": "markdown",
   "metadata": {},
   "source": [
    "- Initialisierung durch Konstruktor und Destruktor  \n",
    "    kein uninitialisiertes Objekt möglich.\n",
    "    Objekt selbst für Entsorgen zuständig, speicher gehört dem Objekt\n",
    "- Zugriffsmodifizierer\n",
    "    auswechselbarkeit von Komponenten e.g. Array $\\Rightarrow$ Linked List\n",
    "    ```java \n",
    "    public private protected \n",
    "    ```\n",
    "    Gleiche Funktionsnamen (Lösbar auch über module) führen zu Kollisionen\n",
    "- Einfacheres Ausdrücken von Problemen\n",
    "- Programmieren im Größeren Maßstab\n",
    "- bessere Codewiederverwendung"
   ]
  },
  {
   "attachments": {},
   "cell_type": "markdown",
   "metadata": {},
   "source": [
    "- Bsp Programme"
   ]
  },
  {
   "attachments": {},
   "cell_type": "markdown",
   "metadata": {},
   "source": [
    "Stack, FIFO Implementieren"
   ]
  },
  {
   "attachments": {},
   "cell_type": "markdown",
   "metadata": {},
   "source": [
    "```java\n",
    "public class Stack{\n",
    "    private final int DEFAULT_SIZE = 10;\n",
    "\n",
    "    private int[] _stack;\n",
    "    private int _size;\n",
    "    private int _sp = 0;\n",
    "\n",
    "    public Stack(){\n",
    "        _size = DEFAULT_SIZE;\n",
    "        _stack = new int[_size]\n",
    "    }\n",
    "    public Stack(int size){\n",
    "        _size = size;\n",
    "        _stack = new int[_size];\n",
    "    }\n",
    "\n",
    "    public boolean isEmpty(){\n",
    "        return _sp == 0;\n",
    "    }\n",
    "\n",
    "    public boolean isFull(){\n",
    "        return _sp == _size;\n",
    "    }\n",
    "\n",
    "    public void push(int elem){\n",
    "        _stack[_sp++] = elem;\n",
    "    }\n",
    "    \n",
    "    public int peek(){\n",
    "        return _stack[_sp -1];\n",
    "    }\n",
    "\n",
    "    public int pop(){\n",
    "        return _stack[--_sp];\n",
    "    }\n",
    "    \n",
    "    public int count(){\n",
    "        return _sp;\n",
    "    }\n",
    "\n",
    "    public int capacity(){\n",
    "        return _size;\n",
    "    }\n",
    "}"
   ]
  },
  {
   "attachments": {},
   "cell_type": "markdown",
   "metadata": {},
   "source": [
    "```java\n",
    "public class Main{\n",
    "    public static void main(String[] args){\n",
    "        Stack s = new Stack();\n",
    "\n",
    "        s.push(1);\n",
    "        s.push(2);\n",
    "        s.push(3);\n",
    "\n",
    "        System.out.println(s.peek());\n",
    "        System.out.println(s.count());\n",
    "\n",
    "        while(s.isEmpty()){\n",
    "            System.out.println(s.pop());\n",
    "        }\n",
    "\n",
    "        if(s.isEmpty()){\n",
    "            System.out.println(\"Empty\");\n",
    "        } else {\n",
    "            System.out.println(\"Not Empty\");\n",
    "        }\n",
    "    }\n",
    "}\n",
    "\n",
    "```"
   ]
  },
  {
   "attachments": {},
   "cell_type": "markdown",
   "metadata": {},
   "source": [
    "```java\n",
    "public class FIFO<T> {\n",
    "    private int _oelem = 0;\n",
    "    private int _nelem = 0;\n",
    "    private T[] _elms;\n",
    "    private int _count = 0;\n",
    "\n",
    "    public FIFO(int size){\n",
    "        _elems = new T[size];        \n",
    "    }\n",
    "\n",
    "    public void enqueu(T elem){\n",
    "        if(_count == _elms.length){\n",
    "            throw new Exception(\"FIFO is full\")\n",
    "        }\n",
    "        __count++;\n",
    "        _elms[_nelem++] = elem;\n",
    "    }\n",
    "\n",
    "    public T dequeu(){\n",
    "        if(_count==0){\n",
    "            return null;\n",
    "        }\n",
    "        _count--;\n",
    "        return _elm[_oelem++];\n",
    "    }\n",
    "}\n",
    "```"
   ]
  },
  {
   "attachments": {},
   "cell_type": "markdown",
   "metadata": {},
   "source": [
    "## Vererbung | Inheritance"
   ]
  },
  {
   "attachments": {},
   "cell_type": "markdown",
   "metadata": {},
   "source": [
    "Inheritance gibt eine `ist ein/e` Beziehung vor. \n",
    "Bspw. ein Arbeiter ist ein Angestellter, \n",
    "    genauso wie ein Manager ein Angestellter ist.\n",
    "\n",
    "Der Manager haut auch eine `hat eine` Beziehung,\n",
    "    da dieser/diese untergebene hat.\n",
    "\n",
    "Bei Vererbung kann behavior (Methoden und Properties) vererbt werden,\n",
    "    welches das Verhalten verändern kann, bzw. aufgaben auf die vererbten Methoden delegieren kann (eg. WinForms, Swing/AWT).\n"
   ]
  },
  {
   "attachments": {},
   "cell_type": "markdown",
   "metadata": {},
   "source": [
    "```java\n",
    "\n",
    "class Employee{}\n",
    "class Worker extends Employee {}\n",
    "class Manager extends Employee {\n",
    "    public Employee[] subordinates;\n",
    "}\n",
    "\n",
    "```"
   ]
  },
  {
   "attachments": {},
   "cell_type": "markdown",
   "metadata": {},
   "source": [
    "## Polymorphie | Polymorphism"
   ]
  },
  {
   "attachments": {},
   "cell_type": "markdown",
   "metadata": {},
   "source": [
    "Bei Polymorphie geht es darum, \n",
    "    dass eine Klasse wie eine andere auftreten kann.\n",
    "In dem Beispiel kann die `animalScreams` Methode sowohl eine `Cat` aber auch einen `Dog` annehmen.  \n",
    "\n",
    "Es ist keine Information über den eigentlichen Typ notwendig.\n",
    "Alle Informationen welche man hat,\n",
    "    ist dass die Implementation von `a` von `Animal` erbt\n",
    "    und somit die `scream` Methode hat.\n",
    "Mit Polymorphie kann jeder Typ, \n",
    "    welcher von `Animal` erbt, als `Animal` verwendet werden.\n",
    "Wenn eine bestimmte Subklasse anders behandelt werden soll, \n",
    "    muss dies speziell überprüft werden (`instanceof` in Java, `typeof` mit `==` in C#).\n",
    "\n",
    "Eine Bibliothek könnte einen weiteren Type `Bird` definieren, \n",
    "    welcher ebenfalls von `Animal` erbt.\n",
    "Die Implementation von `Bird` ist somit mit der Methode von `AnimalHandler` kompatibel.\n",
    "Dadurch führt Polymorphie zu einer Guten Erweiterbarkeit.\n",
    "\n"
   ]
  },
  {
   "attachments": {},
   "cell_type": "markdown",
   "metadata": {},
   "source": [
    "```java\n",
    "abstract class Animal{\n",
    "    public abstract void scream();\n",
    "}\n",
    "\n",
    "class Cat extends Animal {\n",
    "    public void scream() {\n",
    "        System.out.println(\"Meow\");\n",
    "    }\n",
    "}\n",
    "\n",
    "class Dog extends Animal {\n",
    "    public void scream() {\n",
    "        System.out.println(\"Wuff\");\n",
    "    }\n",
    "}\n",
    "\n",
    "class AnimalHandler {\n",
    "    public static void animalScreams(Animal a){\n",
    "        System.out.println(\"This Animal Screams\");\n",
    "        a.scream();\n",
    "    }\n",
    "}\n",
    "```"
   ]
  },
  {
   "attachments": {},
   "cell_type": "markdown",
   "metadata": {},
   "source": [
    "## Interfaces"
   ]
  },
  {
   "attachments": {},
   "cell_type": "markdown",
   "metadata": {},
   "source": [
    "Interfaces definieren eine Schnittstelle, \n",
    "    welche garantiert eingehalten werden.\n",
    "\n",
    "Meist sind es Explizite Interfaces, \n",
    "    wo explizit angegeben wird, welche Interfaces Implementiert werden.\n",
    "\n",
    "Manche Programmiersprachen (Go, Python), haben auch Implizite Interfaces, \n",
    "    wo ein Fehler auftritt, wenn die Interface-Methoden nicht vorhanden sind.\n",
    "\n",
    "Interfaces geben vor, \n",
    "    welche Properties/Methoden eine Klasse implementieren muss, \n",
    "    damit sie als das Interface Polymorph verwendet werden kann.\n",
    "\n",
    "\n",
    "Interfaces werden auch häufig in stdlibs einer Sprache verwendet.\n",
    "\n",
    "Beispiele in Java:\n",
    "- `Iterable`\n",
    "- `Iterator`\n",
    "- `Serializeable`\n",
    "- `List`\n",
    "- `Closeable`\n",
    "- `AutoCloseable`\n",
    "\n",
    "Beispiele in C#:\n",
    "- `IEnumerable`\n",
    "- `IEnumerator`\n",
    "- `IList`\n",
    "- `IDisposable`"
   ]
  },
  {
   "attachments": {},
   "cell_type": "markdown",
   "metadata": {},
   "source": [
    "Iterator bsp.:\n",
    "\n",
    "```java\n",
    "class Student{\n",
    "    public String _name;\n",
    "    public int    _matNo;\n",
    "\n",
    "    public Student(string name, int matNo){\n",
    "        _name = name;\n",
    "        _matNo = matNo;\n",
    "    }\n",
    "\n",
    "    public String toString(){\n",
    "        return \"No: \" + _matNo + \", Name: \" + _name;\n",
    "    }\n",
    "}\n",
    "\n",
    "class Classroom implements Iterable<Student>{\n",
    "    Student[] _students\n",
    "\n",
    "    public Iterator<Student> iterator(){\n",
    "        return new this.ClassroomIterator();\n",
    "    }\n",
    "\n",
    "    class ClassroomIterator implements Iterator<Student>{\n",
    "        int pointer = 0;\n",
    "\n",
    "        public boolean hasNext(){\n",
    "            return pointer < _students.length;\n",
    "        }\n",
    "\n",
    "        public Student next(){\n",
    "            return _students[pointer++];\n",
    "        }\n",
    "    }\n",
    "}\n",
    "\n",
    "\n",
    "class Main{\n",
    "    public static void main(String args[]){\n",
    "        Student[] s = new Student[]{\n",
    "            new Student(\"x\", 0),\n",
    "            new Student(\"y\", 1)\n",
    "        };\n",
    "        Classroom cr = new Classroom();\n",
    "        cr._students = s;\n",
    "\n",
    "        for(var st : cr){\n",
    "            System.out.println(st);\n",
    "        }\n",
    "\n",
    "        var it = cr.iterator();\n",
    "        while(it.hasNext()){\n",
    "            Student st = it.next();\n",
    "            System.out.println(it);\n",
    "        }\n",
    "    }\n",
    "}\n",
    "```\n"
   ]
  },
  {
   "attachments": {},
   "cell_type": "markdown",
   "metadata": {},
   "source": [
    "C# Bsp\n",
    "\n",
    "```c#\n",
    "namespace Test{\n",
    "\n",
    "    class Student{\n",
    "        public string Name {get; set;}\n",
    "        public int    MatNo {get; set;}\n",
    "\n",
    "        public String ToString(){\n",
    "            return \"No: \" + _matNo + \", Name: \" + _name;\n",
    "        }\n",
    "    }\n",
    "\n",
    "    class Classroom : IEnumerable{\n",
    "        public Student[] Students {get; set;}\n",
    "\n",
    "        public IEnumerator GetEnumerator(){\n",
    "            return new ClassroomEnumerator(){\n",
    "                Students = Students\n",
    "            };\n",
    "        }\n",
    "    }\n",
    "\n",
    "    class ClassroomEnumerator : IEnumerator {\n",
    "        Student[] Students {get; set;}\n",
    "        int pointer = -1;\n",
    "\n",
    "        public object Current => Students[pointer];\n",
    "\n",
    "        public  bool MoveNext(){\n",
    "            return ++pointer < Students.Length;\n",
    "        }\n",
    "\n",
    "        public void Reset(){\n",
    "            pointer = -1;\n",
    "        }\n",
    "    }\n",
    "\n",
    "    class Program{\n",
    "        public static void Main(){\n",
    "            Student sts = new Student[]{\n",
    "                new Student(){Name = \"a\", MatNo = 1},\n",
    "                new Student(){Name = \"b\", MatNo = 2}\n",
    "            };\n",
    "            Classroom cr = new Classroom(){Students  = sts};\n",
    "\n",
    "            foreach(Student st in cr){\n",
    "                Console.WriteLine(st);\n",
    "            }\n",
    "\n",
    "            IEnumerator it = cr.GetEnumerator();\n",
    "            while(it.MoveNext()){\n",
    "                Console.WriteLine(it.Current);\n",
    "            }\n",
    "        }\n",
    "    }\n",
    "}\n",
    "```"
   ]
  },
  {
   "attachments": {},
   "cell_type": "markdown",
   "metadata": {},
   "source": [
    "# Suchen und Sortieren"
   ]
  },
  {
   "cell_type": "code",
   "execution_count": 68,
   "metadata": {},
   "outputs": [],
   "source": [
    "def is_sorted(lst:List):\n",
    "    for i in range(len(lst)-1):\n",
    "        cur = lst[i]\n",
    "        next = lst[i+1]\n",
    "\n",
    "        if cur > next:\n",
    "            return False\n",
    "    return True"
   ]
  },
  {
   "attachments": {},
   "cell_type": "markdown",
   "metadata": {},
   "source": [
    "## Binary Search"
   ]
  },
  {
   "attachments": {},
   "cell_type": "markdown",
   "metadata": {},
   "source": [
    "Zeitkomplexität: `O(log(n))`\n",
    "\n",
    "Binary Search erfordert, \n",
    "    dass das Datenset sortiert ist.\n",
    "\n",
    "Bei Binary Search wird der gesuchte Wert mit dem mittleren Wert verglichen,\n",
    "    wenn der Wert:\n",
    "-  der Gesuchte ist, so ist der Wert gefunden,\n",
    "-  größer als der Wert größer als der Gesuchte ist,  \n",
    "    so wird nurmehr der Wertebereich bis zu dem Mittleren Wert angeschaut,\n",
    "-  kleiner als der Gesuchte ist,  \n",
    "    so wird nurmehr der Wertebereich ab dem Mittelwert angeschaut."
   ]
  },
  {
   "cell_type": "code",
   "execution_count": 70,
   "metadata": {},
   "outputs": [
    {
     "name": "stdout",
     "output_type": "stream",
     "text": [
      "is_sorted(mlst)=True\n",
      "0\n",
      "1\n",
      "2\n",
      "3\n",
      "4\n",
      "5\n",
      "6\n",
      "7\n",
      "8\n"
     ]
    }
   ],
   "source": [
    "def binary_search(lst:List, search_value, start=0, end=None):\n",
    "    if end is None:\n",
    "        end=len(lst)\n",
    "    \n",
    "    middle = (end-start)//2 +start \n",
    "\n",
    "    if lst[middle] == search_value:\n",
    "        return middle\n",
    "    \n",
    "    if lst[middle] < search_value: # element must be in right subarray\n",
    "        return binary_search(lst, search_value, start=middle+1, end=end)\n",
    "    if lst[middle] > search_value: # element must be in left subarray\n",
    "        return binary_search(lst, search_value, start=start, end=middle-1)\n",
    "\n",
    "mlst = [0, 1, 2, 3, 4, 5, 6, 7, 8]\n",
    "\n",
    "print(f\"{is_sorted(mlst)=}\")\n",
    "for v in mlst:\n",
    "    print(binary_search(mlst, v))"
   ]
  },
  {
   "attachments": {},
   "cell_type": "markdown",
   "metadata": {},
   "source": [
    "## BubbleSort"
   ]
  },
  {
   "attachments": {},
   "cell_type": "markdown",
   "metadata": {},
   "source": [
    "Zeitkomplexität: `O(n^2)`\n",
    "\n",
    "Bei Bubble Sort wird das Datenset durchlaufen,\n",
    "    jeder Wert wird mit dem nächsten Wert verglichen,\n",
    "    wenn der momentane Wert größer als der nächste ist, werden die Werte ausgetauscht.\n",
    "Dabei 'bubbled' mit jeden Schleifendurchlauf der nächst größte Wert an die korrekte Stelle,\n",
    "    wodurch der zu durchlaufende Bereich immer kleiner wird"
   ]
  },
  {
   "cell_type": "code",
   "execution_count": 76,
   "metadata": {},
   "outputs": [
    {
     "name": "stdout",
     "output_type": "stream",
     "text": [
      "is_sorted(mlst_s)=True\n",
      "[1, 2, 3, 4, 5, 6]\n"
     ]
    }
   ],
   "source": [
    "def bubble_sort(lst:List):\n",
    "    for top in range(len(lst)-1, 0, -1):\n",
    "        for cur in range(0, top):\n",
    "            next = cur+1\n",
    "\n",
    "            if lst[cur] > lst[next]:\n",
    "                temp = lst[cur]\n",
    "                lst[cur] = lst[next]\n",
    "                lst[next] = temp\n",
    "        \n",
    "    return lst\n",
    "        \n",
    "mlst = [3, 4, 5, 1, 2, 6]\n",
    "mlst_s = bubble_sort(mlst)\n",
    "print(f\"{is_sorted(mlst_s)=}\")\n",
    "print(mlst_s)"
   ]
  },
  {
   "attachments": {},
   "cell_type": "markdown",
   "metadata": {},
   "source": [
    "## MergeSort"
   ]
  },
  {
   "attachments": {},
   "cell_type": "markdown",
   "metadata": {},
   "source": [
    "Zeitkomplexität: `O(n*log(n))`\n",
    "\n",
    "Teil das Array in der Mitte in eine linke und eine rechte Seite \n",
    "    und rufe auf beide Array-Hälften Mergesort auf.\n",
    "Sobald ein Array nur noch ein Element beinhaltet ist dieses Sortiert und wird zurückgegeben.\n",
    "Somit sind die linke und rechte Hälfte sortiert.\n",
    "Beide Hälften werden dann in einer Merge-Funktion, richtig sortiert, zusammengefügt.\n"
   ]
  },
  {
   "cell_type": "code",
   "execution_count": 75,
   "metadata": {},
   "outputs": [
    {
     "name": "stdout",
     "output_type": "stream",
     "text": [
      "is_sorted(mlst_s)=True\n",
      "[1, 2, 3, 4, 5, 6]\n"
     ]
    }
   ],
   "source": [
    "def merge_sort(lst:List):\n",
    "    if len(lst) <= 1:\n",
    "        return lst\n",
    "    \n",
    "    left = merge_sort(lst[:len(lst)//2])\n",
    "    right = merge_sort(lst[len(lst)//2:])\n",
    "\n",
    "    return merge(left, right)\n",
    "\n",
    "def merge(left:List, right:List):\n",
    "    left_ptr = 0\n",
    "    right_ptr = 0\n",
    "\n",
    "    lst:List = []\n",
    "    for i in range(len(left)+len(right)):\n",
    "        if left_ptr >= len(left): # check if left pointer is out of bounds => add all elements of right to lst and exit loop\n",
    "            while right_ptr < len(right):\n",
    "                lst.append(right[right_ptr])\n",
    "                right_ptr += 1\n",
    "\n",
    "            break\n",
    "        if right_ptr >= len(right): # check if right pointer is out of bounds => add ell elements of left to lst and exit loop\n",
    "            while left_ptr < len(left):\n",
    "                lst.append(left[left_ptr])\n",
    "                left_ptr += 1\n",
    "            \n",
    "            break\n",
    "\n",
    "\n",
    "        if left[left_ptr] < right[right_ptr]:   # left element is smaller than right => left element should be added next\n",
    "            lst.append(left[left_ptr])\n",
    "            \n",
    "            left_ptr += 1\n",
    "        else:                                   # right element is smaller than right => right element should be added next\n",
    "            lst.append(right[right_ptr])\n",
    "\n",
    "            right_ptr += 1\n",
    "    return lst\n",
    "\n",
    "mlst = [3, 4, 5, 1, 2, 6]\n",
    "mlst_s = merge_sort(mlst)\n",
    "\n",
    "print(f\"{is_sorted(mlst_s)=}\")\n",
    "print(mlst_s)"
   ]
  },
  {
   "attachments": {},
   "cell_type": "markdown",
   "metadata": {},
   "source": [
    "## QuickSort"
   ]
  },
  {
   "attachments": {},
   "cell_type": "markdown",
   "metadata": {},
   "source": [
    "Zeitkomplexität: `O(n* log(n))`\n",
    "\n",
    "Bei Quicksort wird ein Pivot-Element zufällig ausgewählt (meist das letzte).\n",
    "Es wird nun vom Startwert solange ein Pointer inkrementiert,\n",
    "    bis der Wert an der Position des Pointers größer ist als das Pivot-Element.\n",
    "Danach wird von der Endposition ein Pointer dekrementiert,\n",
    "    bis der Wert an der Position kleiner als das Pivot-Element ist.\n",
    "Um nun keinen Fehler zu machen,\n",
    "    wird überprüft, dass die Potion des ersten Pointer kleiner als der Zweite ist,\n",
    "    wenn dies nicht der Fall ist, wird die Schleife abgebrochen.\n",
    "Ansonsten werden die Werte an den beiden Pointern ausgetauscht.\n",
    "\n",
    "Wenn die Schleife beendet ist, \n",
    "    werden das Pivot-Element und der Wert des ersten Zeigers ausgetauscht.\n",
    "Nun befinden sich alle Werte kleiner als das Pivot-Element links vom Pivot-Element \n",
    "    und alle Werte größer als das Pivot-Element auf der rechten Seite.\n",
    "\n",
    "Beide Hälften werden nun wieder mit QuickSort sortiert."
   ]
  },
  {
   "cell_type": "code",
   "execution_count": 74,
   "metadata": {},
   "outputs": [
    {
     "name": "stdout",
     "output_type": "stream",
     "text": [
      "is_sorted(mlst)=True\n",
      "[1, 2, 3, 4, 5, 6, 7, 8]\n"
     ]
    }
   ],
   "source": [
    "def quicksort(lst:List, l=0, r=None):\n",
    "    if r is None:\n",
    "        r = len(lst)-1 \n",
    "\n",
    "    if l > r:\n",
    "        return\n",
    "    \n",
    "    i = l-1\n",
    "    j = r \n",
    "    pivo = lst[r]\n",
    "\n",
    "    while True:\n",
    "        i += 1\n",
    "        while lst[i] < pivo:\n",
    "            i += 1\n",
    "        \n",
    "        j -= 1\n",
    "        while lst[j] > pivo:\n",
    "            j -= 1\n",
    "\n",
    "        if i >= j:\n",
    "            break\n",
    "\n",
    "        t = lst[i]\n",
    "        lst[i] = lst[j]\n",
    "        lst[j] = t\n",
    "    \n",
    "    t = lst[i]\n",
    "    lst[i] = lst[r]\n",
    "    lst[r] = t\n",
    "    quicksort(lst, l, i-1)\n",
    "    quicksort(lst, i+1, r)\n",
    "\n",
    "\n",
    "\n",
    "mlst = [1, 7, 5, 3, 6, 2, 8, 4]\n",
    "quicksort(mlst) # sorts in place\n",
    "print(f\"{is_sorted(mlst)=}\")\n",
    "print(mlst)"
   ]
  },
  {
   "attachments": {},
   "cell_type": "markdown",
   "metadata": {},
   "source": [
    "## O(n) Notation\n",
    "\n",
    "- wozu:  \n",
    "    Zeit und Speicher Komplexität Zuwachs vergleichen (e.g. 100 und 1000 Elemente)\n",
    "- keine Angabe über eigentlichen Zeitverbrauch\n",
    "- Algorithmus Analytik"
   ]
  },
  {
   "attachments": {},
   "cell_type": "markdown",
   "metadata": {},
   "source": [
    "## Hashing"
   ]
  },
  {
   "attachments": {},
   "cell_type": "markdown",
   "metadata": {},
   "source": [
    "möglichst schnelle Suche  \n",
    "\n",
    "of Begrenzter Schlüsselraum  \n",
    "Funktion kann nicht Injektiv sein (kann nicht eindeutig sein, keine zwei $x$-Werte mit selben $y$-Wert) $\\Rightarrow$ Kollision möglich\n",
    "$2^{23}$ mögliche Schlüssel bei einem $4$ Byte index $\\Rightarrow$\n",
    "\n",
    "\n",
    "\n",
    "### Gute Eigenschaften:  \n",
    "\n",
    "- Schlüsselaufbrechung  \n",
    "    Nebeneinanderliegende Schlüssel größtmöglicher Abstand\n",
    "- Gleichverteilung  \n",
    "    Werte sollte möglichst gleichverteilt sein  \n",
    "\n",
    "### Einwegfunktion:  \n",
    "Die Funktion selbst möglichst schnell, die Inversfunktion möglichst aufwendig.  \n",
    "\n",
    "### Kollisionsbehandlung\n",
    "\n",
    "- Externes Verketten der Überläufer  \n",
    "    Einzelnes Element wird zu Liste  \n",
    "    Bei zu großer Belegung $\\Rightarrow$ degeneriert zu 2D Array\n",
    "    evtl. Vergrössern \n",
    "\n",
    "- Internes auflösen  \n",
    "    nächstes freies Element suchen  \n",
    "    Löschen Problematisch  "
   ]
  },
  {
   "cell_type": "code",
   "execution_count": 93,
   "metadata": {},
   "outputs": [
    {
     "name": "stdout",
     "output_type": "stream",
     "text": [
      "None\n",
      "self.id=12, self.name='Jim', next -> self.id=1, self.name='Tom', next -> None\n",
      "self.id=2, self.name='Tim', next -> None\n",
      "None\n",
      "None\n",
      "None\n",
      "None\n",
      "None\n",
      "None\n",
      "None\n",
      "None\n",
      "\n",
      "{name=Tim, id=2}\n",
      "{name=Jim, id=12}\n"
     ]
    }
   ],
   "source": [
    "N = 11\n",
    "\n",
    "@dataclass\n",
    "class Pupil:\n",
    "    id:int\n",
    "    name:str\n",
    "    next: Self | None = None\n",
    "\n",
    "    def __str__(self):\n",
    "        return f\"{{name={self.name}, id={self.id}}}\"\n",
    "\n",
    "    def __repr__(self):\n",
    "        return f\"{self.id=}, {self.name=}, next -> {repr(self.next)}\"\n",
    "\n",
    "hash_table = [None] * N \n",
    "hash_f: Callable[[int], int] = hash_mod\n",
    "\n",
    "def insert_pupil(p:Pupil) -> None:\n",
    "    global hash_table\n",
    "    p_root = hash_table[hash_f(p.id)]\n",
    "    p.next = p_root\n",
    "    hash_table[hash_f(p.id)] = p\n",
    "\n",
    "def search_pupil(id:int)->Pupil:\n",
    "    global hash_table\n",
    "\n",
    "    p_root = hash_table[hash_f(id)]\n",
    "    return deep_search(p_root, id)\n",
    "\n",
    "def deep_search(root:Pupil|None, id:int)->Pupil:\n",
    "    if root is None:\n",
    "        return None\n",
    "    if root.id == id:\n",
    "        return root\n",
    "    return deep_search(root.next, id)\n",
    "\n",
    "\n",
    "def hash_mod(n:int):\n",
    "    return n % N\n",
    "\n",
    "def print_table():\n",
    "    for p in hash_table:\n",
    "        print(repr(p))\n",
    "\n",
    "insert_pupil(Pupil(id=1, name=\"Tom\"))\n",
    "insert_pupil(Pupil(id=2, name=\"Tim\"))\n",
    "insert_pupil(Pupil(id=12, name=\"Jim\"))\n",
    "\n",
    "print_table()\n",
    "\n",
    "print()\n",
    "print(search_pupil(2))\n",
    "print(search_pupil(12))"
   ]
  },
  {
   "attachments": {},
   "cell_type": "markdown",
   "metadata": {},
   "source": [
    "```c\n",
    "\n",
    "#define HASHSIZE 11\n",
    "\n",
    "struct Pupil{\n",
    "    int id;\n",
    "    char name[31];\n",
    "\n",
    "    struct Pupil *pNext;\n",
    "};\n",
    "\n",
    "struct Pupil* hashtable[HASHSIZE] = {0};\n",
    "\n",
    "void addPupil(struct Pupil*);\n",
    "struct Pupil* searchPupil(int);\n",
    "bool deletePupil(int);\n",
    "int countPupils();\n",
    "\n",
    "struct Pupil* Generate_Pupil(int, char*);\n",
    "\n",
    "int getHash(int);\n",
    "\n",
    "\n",
    "int main(int argc, char** argv){\n",
    "    addPupil(Generate_Pupil(HASHSIZE, \"Fellner\"));\n",
    "    addPupil(Generate_Pupil(HASHSIZE + 1, \"Schoeppl\"));\n",
    "    addPupil(Generate_Pupil(2*HASHSIZE + 2, \"Steinmaurer\"));\n",
    "    addPupil(Generate_Pupil(HASHSIZE + 2, \"Feierabend\"));\n",
    "    addPupil(Generate_Pupil(3*HASHSIZE + 2, \"Dobler\"));\n",
    "\n",
    "    printf(\"%4d\\n\", countPupils());\n",
    "\n",
    "    deletePupil(3*HASHSIZE + 2);\n",
    "\n",
    "    printf(\"%4d\\n\", countPupils());\n",
    "\n",
    "    return 0;\n",
    "}\n",
    "\n",
    "\n",
    "void addPupil(struct Pupil* p){\n",
    "    int hashv = getHash(p->id);\n",
    "\n",
    "    p->pNext = hashtable[hashv];\n",
    "    hashtable[hashv] = p;\n",
    "}\n",
    "\n",
    "struct Pupil* searchPupil(int id){\n",
    "    struct Pupil* p = hashtable[getHash(id)];\n",
    "\n",
    "    while(p && p->id != id){\n",
    "        p = p->pNext;\n",
    "    }\n",
    "\n",
    "    return p;\n",
    "}\n",
    "\n",
    "bool deletePupil(int id){\n",
    "    struct Pupil *prev = NULL;\n",
    "    int hash = getHash(id);\n",
    "\n",
    "    struct Pupil* cur = hashtable[hash];\n",
    "    while(!cur && cur->id != id){\n",
    "        prev = cur;\n",
    "        cur = cur->pNext;\n",
    "    }\n",
    "\n",
    "    if(!cur){\n",
    "        return false;\n",
    "    }\n",
    "\n",
    "    if(cur == hashtable[hash]){\n",
    "        hashtable[hash] = cur->pNext;\n",
    "    } else {\n",
    "       prev->pNext = cur->pNext;\n",
    "    }\n",
    "\n",
    "    free(cur);\n",
    "    return true;\n",
    "}\n",
    "\n",
    "\n",
    "struct Pupil* Generate_Pupil(int id, char* name){\n",
    "    struct Pupil* p = malloc(sizeof(struct Pupil));    // typecast in c not needed\n",
    "    p->id = id;\n",
    "    strcpy(p->name, name);\n",
    "    p->pNext = NULL;\n",
    "    return p;\n",
    "}\n",
    "\n",
    "int count_list(struct Pupil* p, int acc){\n",
    "    if(!p){\n",
    "        return acc;\n",
    "    }\n",
    "\n",
    "    return count_list(p->pNext, acc+1);\n",
    "}\n",
    "\n",
    "int countPupils(){\n",
    "    int sum = 0;\n",
    "    for(int i = 0; i <= HASHSIZE; i++){\n",
    "        sum += count_list(hashtable[i], 0);\n",
    "    }\n",
    "\n",
    "    return sum;\n",
    "}\n",
    "\n",
    "int getHash(int id){\n",
    "    return (id % HASHSIZE);\n",
    "}\n",
    "```"
   ]
  },
  {
   "attachments": {},
   "cell_type": "markdown",
   "metadata": {},
   "source": [
    "## Multiplikative Methode"
   ]
  },
  {
   "attachments": {},
   "cell_type": "markdown",
   "metadata": {},
   "source": [
    "```c\n",
    "int hash(int id){\n",
    "    double gc = (sqrt(5) - 1) /2;   // Goldener Schnitt\n",
    "    double product = id * gc;\n",
    "    return floor((product - floor(product)*HASHSIZE));\n",
    "}\n",
    "```"
   ]
  },
  {
   "attachments": {},
   "cell_type": "markdown",
   "metadata": {},
   "source": [
    "# Algorithms & Data-Structures"
   ]
  },
  {
   "attachments": {},
   "cell_type": "markdown",
   "metadata": {},
   "source": [
    "## Linked List"
   ]
  },
  {
   "attachments": {},
   "cell_type": "markdown",
   "metadata": {},
   "source": [
    "## Stack"
   ]
  },
  {
   "attachments": {},
   "cell_type": "markdown",
   "metadata": {},
   "source": [
    "## FIFO"
   ]
  },
  {
   "attachments": {},
   "cell_type": "markdown",
   "metadata": {},
   "source": [
    "## Baum | Tree"
   ]
  },
  {
   "attachments": {},
   "cell_type": "markdown",
   "metadata": {},
   "source": [
    "## Recursion"
   ]
  },
  {
   "attachments": {},
   "cell_type": "markdown",
   "metadata": {},
   "source": [
    "# Databases"
   ]
  },
  {
   "attachments": {},
   "cell_type": "markdown",
   "metadata": {},
   "source": [
    "## Relationales Datenmodell, Entwurf"
   ]
  },
  {
   "attachments": {},
   "cell_type": "markdown",
   "metadata": {},
   "source": [
    "## SQL"
   ]
  },
  {
   "attachments": {},
   "cell_type": "markdown",
   "metadata": {},
   "source": [
    "## Normalformen"
   ]
  },
  {
   "attachments": {},
   "cell_type": "markdown",
   "metadata": {},
   "source": [
    "## ADO.Net"
   ]
  },
  {
   "attachments": {},
   "cell_type": "markdown",
   "metadata": {},
   "source": [
    "## Entity Framework, LINQ"
   ]
  },
  {
   "attachments": {},
   "cell_type": "markdown",
   "metadata": {},
   "source": [
    "# Selected Topics of Software Development"
   ]
  },
  {
   "attachments": {},
   "cell_type": "markdown",
   "metadata": {},
   "source": [
    "## GUI, Event (Java)"
   ]
  },
  {
   "attachments": {},
   "cell_type": "markdown",
   "metadata": {},
   "source": [
    "## Start/ Stop Threads"
   ]
  },
  {
   "attachments": {},
   "cell_type": "markdown",
   "metadata": {},
   "source": [
    "## Synchronize Threads"
   ]
  },
  {
   "attachments": {},
   "cell_type": "markdown",
   "metadata": {},
   "source": [
    "## Collections"
   ]
  },
  {
   "attachments": {},
   "cell_type": "markdown",
   "metadata": {},
   "source": [
    "# Data Management & System Communication"
   ]
  },
  {
   "attachments": {},
   "cell_type": "markdown",
   "metadata": {},
   "source": [
    "## Streams"
   ]
  },
  {
   "attachments": {},
   "cell_type": "markdown",
   "metadata": {},
   "source": [
    "## TCP Client/Server"
   ]
  },
  {
   "attachments": {},
   "cell_type": "markdown",
   "metadata": {},
   "source": [
    "## HTTP (GET, POST), JSON"
   ]
  },
  {
   "attachments": {},
   "cell_type": "markdown",
   "metadata": {},
   "source": [
    "## Cryptography"
   ]
  },
  {
   "attachments": {},
   "cell_type": "markdown",
   "metadata": {},
   "source": [
    "### Symmetrical vs Asymmetrical"
   ]
  },
  {
   "attachments": {},
   "cell_type": "markdown",
   "metadata": {},
   "source": [
    "- Symmetrical\n",
    "- Asymmetrical"
   ]
  },
  {
   "attachments": {},
   "cell_type": "markdown",
   "metadata": {},
   "source": [
    "### RSA"
   ]
  },
  {
   "attachments": {},
   "cell_type": "markdown",
   "metadata": {},
   "source": [
    "### Certificates"
   ]
  }
 ],
 "metadata": {
  "kernelspec": {
   "display_name": "venv",
   "language": "python",
   "name": "python3"
  },
  "language_info": {
   "codemirror_mode": {
    "name": "ipython",
    "version": 3
   },
   "file_extension": ".py",
   "mimetype": "text/x-python",
   "name": "python",
   "nbconvert_exporter": "python",
   "pygments_lexer": "ipython3",
   "version": "3.11.3"
  },
  "orig_nbformat": 4
 },
 "nbformat": 4,
 "nbformat_minor": 2
}
