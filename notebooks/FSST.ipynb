{
 "cells": [
  {
   "attachments": {},
   "cell_type": "markdown",
   "metadata": {},
   "source": [
    "# FSST"
   ]
  },
  {
   "cell_type": "code",
   "execution_count": 1,
   "metadata": {
    "tags": [
     "hide-input"
    ]
   },
   "outputs": [],
   "source": [
    "import schemdraw\n",
    "import schemdraw.elements as elm\n",
    "import schemdraw.dsp as dsp\n",
    "import schemdraw.logic as lgc"
   ]
  },
  {
   "attachments": {},
   "cell_type": "markdown",
   "metadata": {},
   "source": [
    "# Objecktorientierte Programmierung"
   ]
  },
  {
   "attachments": {},
   "cell_type": "markdown",
   "metadata": {},
   "source": [
    "## Sinn OOP"
   ]
  },
  {
   "attachments": {},
   "cell_type": "markdown",
   "metadata": {},
   "source": [
    "- Initialisierung durch Konstruktor und Destruktor  \n",
    "    kein uninitialisiertes Objekt möglich.\n",
    "    Objekt selbst für Entsorgen zuständig, speicher gehört dem Objekt\n",
    "- Zugriffsmodifizierer\n",
    "    auswechselbarkeit von Komponenten e.g. Array $\\Rightarrow$ Linked List\n",
    "    ```java \n",
    "    public private protected \n",
    "    ```\n",
    "    Gleiche Funktionsnamen (Lösbar auch über module) führen zu Kollisionen\n",
    "- Einfacheres Ausdrücken von Problemen\n",
    "- Programmieren im Größeren Maßstab\n",
    "- bessere Codewiederverwendung"
   ]
  },
  {
   "attachments": {},
   "cell_type": "markdown",
   "metadata": {},
   "source": [
    "- Bsp Programme"
   ]
  },
  {
   "attachments": {},
   "cell_type": "markdown",
   "metadata": {},
   "source": [
    "Stack, FIFO Implementieren"
   ]
  },
  {
   "attachments": {},
   "cell_type": "markdown",
   "metadata": {},
   "source": [
    "```java\n",
    "public class Stack{\n",
    "    private final int DEFAULT_SIZE = 10;\n",
    "\n",
    "    private int[] _stack;\n",
    "    private int _size;\n",
    "    private int _sp = 0;\n",
    "\n",
    "    public Stack(){\n",
    "        _size = DEFAULT_SIZE;\n",
    "        _stack = new int[_size]\n",
    "    }\n",
    "    public Stack(int size){\n",
    "        _size = size;\n",
    "        _stack = new int[_size];\n",
    "    }\n",
    "\n",
    "    public boolean isEmpty(){\n",
    "        return _sp == 0;\n",
    "    }\n",
    "\n",
    "    public boolean isFull(){\n",
    "        return _sp == _size;\n",
    "    }\n",
    "\n",
    "    public void push(int elem){\n",
    "        _stack[_sp++] = elem;\n",
    "    }\n",
    "    \n",
    "    public int peek(){\n",
    "        return _stack[_sp -1];\n",
    "    }\n",
    "\n",
    "    public int pop(){\n",
    "        return _stack[--_sp];\n",
    "    }\n",
    "    \n",
    "    public int count(){\n",
    "        return _sp;\n",
    "    }\n",
    "\n",
    "    public int capacity(){\n",
    "        return _size;\n",
    "    }\n",
    "}"
   ]
  },
  {
   "attachments": {},
   "cell_type": "markdown",
   "metadata": {},
   "source": [
    "```java\n",
    "public class Main{\n",
    "    public static void main(String[] args){\n",
    "        Stack s = new Stack();\n",
    "\n",
    "        s.push(1);\n",
    "        s.push(2);\n",
    "        s.push(3);\n",
    "\n",
    "        System.out.println(s.peek());\n",
    "        System.out.println(s.count());\n",
    "\n",
    "        while(s.isEmpty()){\n",
    "            System.out.println(s.pop());\n",
    "        }\n",
    "\n",
    "        if(s.isEmpty()){\n",
    "            System.out.println(\"Empty\");\n",
    "        } else {\n",
    "            System.out.println(\"Not Empty\");\n",
    "        }\n",
    "    }\n",
    "}\n",
    "\n",
    "```"
   ]
  },
  {
   "attachments": {},
   "cell_type": "markdown",
   "metadata": {},
   "source": [
    "```java\n",
    "public class FIFO<T> {\n",
    "    private int _oelem = 0;\n",
    "    private int _nelem = 0;\n",
    "    private T[] _elms;\n",
    "    private int _count = 0;\n",
    "\n",
    "    public FIFO(int size){\n",
    "        _elems = new T[size];        \n",
    "    }\n",
    "\n",
    "    public void enqueu(T elem){\n",
    "        if(_count == _elms.length){\n",
    "            throw new Exception(\"FIFO is full\")\n",
    "        }\n",
    "        __count++;\n",
    "        _elms[_nelem++] = elem;\n",
    "    }\n",
    "\n",
    "    public T dequeu(){\n",
    "        if(_count==0){\n",
    "            return null;\n",
    "        }\n",
    "        _count--;\n",
    "        return _elm[_oelem++];\n",
    "    }\n",
    "}\n",
    "```"
   ]
  },
  {
   "attachments": {},
   "cell_type": "markdown",
   "metadata": {},
   "source": [
    "## Vererbung | Inheritance"
   ]
  },
  {
   "attachments": {},
   "cell_type": "markdown",
   "metadata": {},
   "source": [
    "Inheritance gibt eine `ist ein/e` Beziehung vor. \n",
    "Bspw. ein Arbeiter ist ein Angestellter, \n",
    "    genauso wie ein Manager ein Angestellter ist.\n",
    "\n",
    "Der Manager haut auch eine `hat eine` Beziehung,\n",
    "    da dieser/diese untergebene hat.\n",
    "\n",
    "Bei Vererbung kann behavior (Methoden und Properties) vererbt werden,\n",
    "    welches das Verhalten verändern kann, bzw. aufgaben auf die vererbten Methoden delegieren kann (eg. WinForms, Swing/AWT).\n"
   ]
  },
  {
   "attachments": {},
   "cell_type": "markdown",
   "metadata": {},
   "source": [
    "```java\n",
    "\n",
    "class Employee{}\n",
    "class Worker extends Employee {}\n",
    "class Manager extends Employee {\n",
    "    public Employee[] subordinates;\n",
    "}\n",
    "\n",
    "```"
   ]
  },
  {
   "attachments": {},
   "cell_type": "markdown",
   "metadata": {},
   "source": [
    "## Polymorphie | Polymorphism"
   ]
  },
  {
   "attachments": {},
   "cell_type": "markdown",
   "metadata": {},
   "source": [
    "Bei Polymorphie geht es darum, \n",
    "    dass eine Klasse wie eine andere auftreten kann.\n",
    "In dem Beispiel kann die `animalScreams` Methode sowohl eine `Cat` aber auch einen `Dog` annehmen.  \n",
    "\n",
    "Es ist keine Information über den eigentlichen Typ notwendig.\n",
    "Alle Informationen welche man hat,\n",
    "    ist dass die Implementation von `a` von `Animal` erbt\n",
    "    und somit die `scream` Methode hat.\n",
    "Mit Polymorphie kann jeder Typ, \n",
    "    welcher von `Animal` erbt, als `Animal` verwendet werden.\n",
    "Wenn eine bestimmte Subklasse anders behandelt werden soll, \n",
    "    muss dies speziell überprüft werden (`instanceof` in Java, `typeof` mit `==` in C#).\n",
    "\n",
    "Eine Bibliothek könnte einen weiteren Type `Bird` definieren, \n",
    "    welcher ebenfalls von `Animal` erbt.\n",
    "Die Implementation von `Bird` ist somit mit der Methode von `AnimalHandler` kompatibel.\n",
    "Dadurch führt Polymorphie zu einer Guten Erweiterbarkeit.\n",
    "\n"
   ]
  },
  {
   "attachments": {},
   "cell_type": "markdown",
   "metadata": {},
   "source": [
    "```java\n",
    "abstract class Animal{\n",
    "    public abstract void scream();\n",
    "}\n",
    "\n",
    "class Cat extends Animal {\n",
    "    public void scream() {\n",
    "        System.out.println(\"Meow\");\n",
    "    }\n",
    "}\n",
    "\n",
    "class Dog extends Animal {\n",
    "    public void scream() {\n",
    "        System.out.println(\"Wuff\");\n",
    "    }\n",
    "}\n",
    "\n",
    "class AnimalHandler {\n",
    "    public static void animalScreams(Animal a){\n",
    "        System.out.println(\"This Animal Screams\");\n",
    "        a.scream();\n",
    "    }\n",
    "}\n",
    "```"
   ]
  },
  {
   "attachments": {},
   "cell_type": "markdown",
   "metadata": {},
   "source": [
    "## Interfaces"
   ]
  },
  {
   "attachments": {},
   "cell_type": "markdown",
   "metadata": {},
   "source": [
    "Interfaces definieren eine Schnittstelle, \n",
    "    welche garantiert eingehalten werden.\n",
    "\n",
    "Meist sind es Explizite Interfaces, \n",
    "    wo explizit angegeben wird, welche Interfaces Implementiert werden.\n",
    "\n",
    "Manche Programmiersprachen (Go, Python), haben auch Implizite Interfaces, \n",
    "    wo ein Fehler auftritt, wenn die Interface-Methoden nicht vorhanden sind.\n",
    "\n",
    "Interfaces geben vor, \n",
    "    welche Properties/Methoden eine Klasse implementieren muss, \n",
    "    damit sie als das Interface Polymorph verwendet werden kann.\n",
    "\n",
    "\n",
    "Interfaces werden auch häufig in stdlibs einer Sprache verwendet.\n",
    "\n",
    "Beispiele in Java:\n",
    "- `Iterable`\n",
    "- `Iterator`\n",
    "- `Serializeable`\n",
    "- `List`\n",
    "- `Closeable`\n",
    "- `AutoCloseable`\n",
    "\n",
    "Beispiele in C#:\n",
    "- `IEnumerable`\n",
    "- `IEnumerator`\n",
    "- `IList`\n",
    "- `IDisposable`"
   ]
  },
  {
   "attachments": {},
   "cell_type": "markdown",
   "metadata": {},
   "source": [
    "Iterator bsp.:\n",
    "\n",
    "```java\n",
    "class Student{\n",
    "    public String _name;\n",
    "    public int    _matNo;\n",
    "\n",
    "    public Student(string name, int matNo){\n",
    "        _name = name;\n",
    "        _matNo = matNo;\n",
    "    }\n",
    "\n",
    "    public String toString(){\n",
    "        return \"No: \" + _matNo + \", Name: \" + _name;\n",
    "    }\n",
    "}\n",
    "\n",
    "class Classroom implements Iterable<Student>{\n",
    "    Student[] _students\n",
    "\n",
    "    public Iterator<Student> iterator(){\n",
    "        return new this.ClassroomIterator();\n",
    "    }\n",
    "\n",
    "    class ClassroomIterator implements Iterator<Student>{\n",
    "        int pointer = 0;\n",
    "\n",
    "        public boolean hasNext(){\n",
    "            return pointer < _students.length;\n",
    "        }\n",
    "\n",
    "        public Student next(){\n",
    "            return _students[pointer++];\n",
    "        }\n",
    "    }\n",
    "}\n",
    "\n",
    "\n",
    "class Main{\n",
    "    public static void main(String args[]){\n",
    "        Student[] s = new Student[]{\n",
    "            new Student(\"x\", 0),\n",
    "            new Student(\"y\", 1)\n",
    "        };\n",
    "        Classroom cr = new Classroom();\n",
    "        cr._students = s;\n",
    "\n",
    "        for(var st : cr){\n",
    "            System.out.println(st);\n",
    "        }\n",
    "\n",
    "        var it = cr.iterator();\n",
    "        while(it.hasNext()){\n",
    "            Student st = it.next();\n",
    "            System.out.println(it);\n",
    "        }\n",
    "    }\n",
    "}\n",
    "```\n"
   ]
  },
  {
   "attachments": {},
   "cell_type": "markdown",
   "metadata": {},
   "source": [
    "C# Bsp\n",
    "\n",
    "```c#\n",
    "namespace Test{\n",
    "\n",
    "    class Student{\n",
    "        public string Name {get; set;}\n",
    "        public int    MatNo {get; set;}\n",
    "\n",
    "        public String ToString(){\n",
    "            return \"No: \" + _matNo + \", Name: \" + _name;\n",
    "        }\n",
    "    }\n",
    "\n",
    "    class Classroom : IEnumerable{\n",
    "        public Student[] Students {get; set;}\n",
    "\n",
    "        public IEnumerator GetEnumerator(){\n",
    "            return new ClassroomEnumerator(){\n",
    "                Students = Students\n",
    "            };\n",
    "        }\n",
    "    }\n",
    "\n",
    "    class ClassroomEnumerator : IEnumerator {\n",
    "        Student[] Students {get; set;}\n",
    "        int pointer = -1;\n",
    "\n",
    "        public object Current => Students[pointer];\n",
    "\n",
    "        public  bool MoveNext(){\n",
    "            return ++pointer < Students.Length;\n",
    "        }\n",
    "\n",
    "        public void Reset(){\n",
    "            pointer = -1;\n",
    "        }\n",
    "    }\n",
    "\n",
    "    class Program{\n",
    "        public static void Main(){\n",
    "            Student sts = new Student[]{\n",
    "                new Student(){Name = \"a\", MatNo = 1},\n",
    "                new Student(){Name = \"b\", MatNo = 2}\n",
    "            };\n",
    "            Classroom cr = new Classroom(){Students  = sts};\n",
    "\n",
    "            foreach(Student st in cr){\n",
    "                Console.WriteLine(st);\n",
    "            }\n",
    "\n",
    "            IEnumerator it = cr.GetEnumerator();\n",
    "            while(it.MoveNext()){\n",
    "                Console.WriteLine(it.Current);\n",
    "            }\n",
    "        }\n",
    "    }\n",
    "}\n",
    "```"
   ]
  },
  {
   "attachments": {},
   "cell_type": "markdown",
   "metadata": {},
   "source": [
    "# Suchen und Sortieren"
   ]
  },
  {
   "attachments": {},
   "cell_type": "markdown",
   "metadata": {},
   "source": [
    "## Binary Search"
   ]
  },
  {
   "attachments": {},
   "cell_type": "markdown",
   "metadata": {},
   "source": [
    "## BubbleSort"
   ]
  },
  {
   "attachments": {},
   "cell_type": "markdown",
   "metadata": {},
   "source": [
    "## MergeSort"
   ]
  },
  {
   "attachments": {},
   "cell_type": "markdown",
   "metadata": {},
   "source": [
    "## QuickSort"
   ]
  },
  {
   "attachments": {},
   "cell_type": "markdown",
   "metadata": {},
   "source": [
    "## O(n) Notation\n",
    "\n",
    "- wozu:  \n",
    "    Zeit und Speicher Komplexität zuwachs vergleichen (e.g. 100 und 1000 Elemente)"
   ]
  },
  {
   "attachments": {},
   "cell_type": "markdown",
   "metadata": {},
   "source": [
    "## Hashing"
   ]
  },
  {
   "attachments": {},
   "cell_type": "markdown",
   "metadata": {},
   "source": [
    "möglichst schnelle Suche  \n",
    "\n",
    "of Begrenzter Schlüsselraum  \n",
    "Funktion kann nicht Injektiv sein (kann nicht eindeutig sein, keine zwei $x$-Werte mit selben $y$-Wert) $\\Rightarrow$ Kollision möglich\n",
    "$2^{23}$ mögliche Schlüssel bei einem $4$ Byte index $\\Rightarrow$\n",
    "\n",
    "\n",
    "\n",
    "### Gute Eigenschaften:  \n",
    "\n",
    "- Schlüsselaufbrechung  \n",
    "    Nebeneinanderliegende Schlüssel größtmöglicher Abstand\n",
    "- Gleichverteilung  \n",
    "    Werte sollte möglichst gleichverteilt sein  \n",
    "\n",
    "### Einwegfunktion:  \n",
    "Die Funktion selbst möglichst schnell, die Inversfunktion möglichst aufwendig.  \n",
    "\n",
    "### Kollisionsbehandlung\n",
    "\n",
    "- Externes Verketten der Überläufer  \n",
    "    Einzelnes Element wird zu Liste  \n",
    "    Bei zu großer Belegung $\\Rightarrow$ degeneriert zu 2D Array\n",
    "    evtl. Vergrössern \n",
    "\n",
    "- Internes auflösen  \n",
    "    nächstes freies Element suchen  \n",
    "    Löschen Problematisch  "
   ]
  },
  {
   "attachments": {},
   "cell_type": "markdown",
   "metadata": {},
   "source": [
    "```c\n",
    "\n",
    "#define HASHSIZE 11\n",
    "\n",
    "struct Pupil{\n",
    "    int id;\n",
    "    char name[31];\n",
    "\n",
    "    struct Pupil *pNext;\n",
    "};\n",
    "\n",
    "struct Pupil* hashtable[HASHSIZE] = {0};\n",
    "\n",
    "void addPupil(struct Pupil*);\n",
    "struct Pupil* searchPupil(int);\n",
    "bool deletePupil(int);\n",
    "int countPupils();\n",
    "\n",
    "struct Pupil* Generate_Pupil(int, char*);\n",
    "\n",
    "int getHash(int);\n",
    "\n",
    "\n",
    "int main(int argc, char** argv){\n",
    "    addPupil(Generate_Pupil(HASHSIZE, \"Fellner\"));\n",
    "    addPupil(Generate_Pupil(HASHSIZE + 1, \"Schoeppl\"));\n",
    "    addPupil(Generate_Pupil(2*HASHSIZE + 2, \"Steinmaurer\"));\n",
    "    addPupil(Generate_Pupil(HASHSIZE + 2, \"Feierabend\"));\n",
    "    addPupil(Generate_Pupil(3*HASHSIZE + 2, \"Dobler\"));\n",
    "\n",
    "    printf(\"%4d\\n\", countPupils());\n",
    "\n",
    "    deletePupil(3*HASHSIZE + 2);\n",
    "\n",
    "    printf(\"%4d\\n\", countPupils());\n",
    "\n",
    "    return 0;\n",
    "}\n",
    "\n",
    "\n",
    "void addPupil(struct Pupil* p){\n",
    "    int hashv = getHash(p->id);\n",
    "\n",
    "    p->pNext = hashtable[hashv];\n",
    "    hashtable[hashv] = p;\n",
    "}\n",
    "\n",
    "struct Pupil* searchPupil(int id){\n",
    "    struct Pupil* p = hashtable[getHash(id)];\n",
    "\n",
    "    while(p && p->id != id){\n",
    "        p = p->pNext;\n",
    "    }\n",
    "\n",
    "    return p;\n",
    "}\n",
    "\n",
    "bool deletePupil(int id){\n",
    "    struct Pupil *prev = NULL;\n",
    "    int hash = getHash(id);\n",
    "\n",
    "    struct Pupil* cur = hashtable[hash];\n",
    "    while(!cur && cur->id != id){\n",
    "        prev = cur;\n",
    "        cur = cur->pNext;\n",
    "    }\n",
    "\n",
    "    if(!cur){\n",
    "        return false;\n",
    "    }\n",
    "\n",
    "    if(cur == hashtable[hash]){\n",
    "        hashtable[hash] = cur->pNext;\n",
    "    } else {\n",
    "       prev->pNext = cur->pNext;\n",
    "    }\n",
    "\n",
    "    free(cur);\n",
    "    return true;\n",
    "}\n",
    "\n",
    "\n",
    "struct Pupil* Generate_Pupil(int id, char* name){\n",
    "    struct Pupil* p = malloc(sizeof(struct Pupil));    // typecast in c not needed\n",
    "    p->id = id;\n",
    "    strcpy(p->name, name);\n",
    "    p->pNext = NULL;\n",
    "    return p;\n",
    "}\n",
    "\n",
    "int count_list(struct Pupil* p, int acc){\n",
    "    if(!p){\n",
    "        return acc;\n",
    "    }\n",
    "\n",
    "    return count_list(p->pNext, acc+1);\n",
    "}\n",
    "\n",
    "int countPupils(){\n",
    "    int sum = 0;\n",
    "    for(int i = 0; i <= HASHSIZE; i++){\n",
    "        sum += count_list(hashtable[i], 0);\n",
    "    }\n",
    "\n",
    "    return sum;\n",
    "}\n",
    "\n",
    "int getHash(int id){\n",
    "    return (id % HASHSIZE);\n",
    "}\n",
    "```"
   ]
  },
  {
   "attachments": {},
   "cell_type": "markdown",
   "metadata": {},
   "source": [
    "## Multiplikative Methode"
   ]
  },
  {
   "attachments": {},
   "cell_type": "markdown",
   "metadata": {},
   "source": [
    "```c\n",
    "int hash(int id){\n",
    "    double gc = (sqrt(5) - 1) /2;   // Goldener Schnitt\n",
    "    double product = id * gc;\n",
    "    return floor((product - floor(product)*HASHSIZE));\n",
    "}\n",
    "```"
   ]
  },
  {
   "attachments": {},
   "cell_type": "markdown",
   "metadata": {},
   "source": [
    "# Algorithms & Data-Structures"
   ]
  },
  {
   "attachments": {},
   "cell_type": "markdown",
   "metadata": {},
   "source": [
    "## Linked List"
   ]
  },
  {
   "attachments": {},
   "cell_type": "markdown",
   "metadata": {},
   "source": [
    "## Stack"
   ]
  },
  {
   "attachments": {},
   "cell_type": "markdown",
   "metadata": {},
   "source": [
    "## FIFO"
   ]
  },
  {
   "attachments": {},
   "cell_type": "markdown",
   "metadata": {},
   "source": [
    "## Baum | Tree"
   ]
  },
  {
   "attachments": {},
   "cell_type": "markdown",
   "metadata": {},
   "source": [
    "## Recursion"
   ]
  },
  {
   "attachments": {},
   "cell_type": "markdown",
   "metadata": {},
   "source": [
    "# Databases"
   ]
  },
  {
   "attachments": {},
   "cell_type": "markdown",
   "metadata": {},
   "source": [
    "## Relationales Datenmodell, Entwurf"
   ]
  },
  {
   "attachments": {},
   "cell_type": "markdown",
   "metadata": {},
   "source": [
    "## SQL"
   ]
  },
  {
   "attachments": {},
   "cell_type": "markdown",
   "metadata": {},
   "source": [
    "## Normalformen"
   ]
  },
  {
   "attachments": {},
   "cell_type": "markdown",
   "metadata": {},
   "source": [
    "## ADO.Net"
   ]
  },
  {
   "attachments": {},
   "cell_type": "markdown",
   "metadata": {},
   "source": [
    "## Entity Framework, LINQ"
   ]
  },
  {
   "attachments": {},
   "cell_type": "markdown",
   "metadata": {},
   "source": [
    "# Selected Topics of Software Development"
   ]
  },
  {
   "attachments": {},
   "cell_type": "markdown",
   "metadata": {},
   "source": [
    "## GUI, Event (Java)"
   ]
  },
  {
   "attachments": {},
   "cell_type": "markdown",
   "metadata": {},
   "source": [
    "## Start/ Stop Threads"
   ]
  },
  {
   "attachments": {},
   "cell_type": "markdown",
   "metadata": {},
   "source": [
    "## Synchronize Threads"
   ]
  },
  {
   "attachments": {},
   "cell_type": "markdown",
   "metadata": {},
   "source": [
    "## Collections"
   ]
  },
  {
   "attachments": {},
   "cell_type": "markdown",
   "metadata": {},
   "source": [
    "# Data Management & System Communication"
   ]
  },
  {
   "attachments": {},
   "cell_type": "markdown",
   "metadata": {},
   "source": [
    "## Streams"
   ]
  },
  {
   "attachments": {},
   "cell_type": "markdown",
   "metadata": {},
   "source": [
    "## TCP Client/Server"
   ]
  },
  {
   "attachments": {},
   "cell_type": "markdown",
   "metadata": {},
   "source": [
    "## HTTP (GET, POST), JSON"
   ]
  },
  {
   "attachments": {},
   "cell_type": "markdown",
   "metadata": {},
   "source": [
    "## Cryptography"
   ]
  },
  {
   "attachments": {},
   "cell_type": "markdown",
   "metadata": {},
   "source": [
    "### Symmetrical vs Asymmetrical"
   ]
  },
  {
   "attachments": {},
   "cell_type": "markdown",
   "metadata": {},
   "source": [
    "- Symmetrical\n",
    "- Asymmetrical"
   ]
  },
  {
   "attachments": {},
   "cell_type": "markdown",
   "metadata": {},
   "source": [
    "### RSA"
   ]
  },
  {
   "attachments": {},
   "cell_type": "markdown",
   "metadata": {},
   "source": [
    "### Certificates"
   ]
  }
 ],
 "metadata": {
  "kernelspec": {
   "display_name": "venv",
   "language": "python",
   "name": "python3"
  },
  "language_info": {
   "codemirror_mode": {
    "name": "ipython",
    "version": 3
   },
   "file_extension": ".py",
   "mimetype": "text/x-python",
   "name": "python",
   "nbconvert_exporter": "python",
   "pygments_lexer": "ipython3",
   "version": "3.11.3"
  },
  "orig_nbformat": 4
 },
 "nbformat": 4,
 "nbformat_minor": 2
}
