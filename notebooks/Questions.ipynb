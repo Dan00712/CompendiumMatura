{
 "cells": [
  {
   "cell_type": "markdown",
   "id": "b8a6c6cf-4896-44eb-b94e-9fc3d0d47e97",
   "metadata": {},
   "source": [
    "# NW2-P"
   ]
  },
  {
   "cell_type": "markdown",
   "id": "390786e2-a67a-4494-bad2-37572cf5a9b2",
   "metadata": {},
   "source": [
    "## Ü1\n",
    "- 3.12\n",
    "- 8.14\n",
    "\n",
    "## Ü2  \n",
    "- 4.2\n",
    "\n",
    "4.12"
   ]
  },
  {
   "cell_type": "markdown",
   "id": "d3f43cb2-ee5e-4703-8ed8-7ec26d2a28c1",
   "metadata": {},
   "source": [
    "# NW2-C"
   ]
  },
  {
   "cell_type": "markdown",
   "id": "fb3693a6-425e-4bc8-beb0-5f611858640e",
   "metadata": {},
   "source": [
    "- Nukleinsäure Ausmaß  "
   ]
  }
 ],
 "metadata": {
  "kernelspec": {
   "display_name": "Julia 1.8.0",
   "language": "julia",
   "name": "julia-1.8"
  },
  "language_info": {
   "file_extension": ".jl",
   "mimetype": "application/julia",
   "name": "julia",
   "version": "1.8.0"
  }
 },
 "nbformat": 4,
 "nbformat_minor": 5
}
