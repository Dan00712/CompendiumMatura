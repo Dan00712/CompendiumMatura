{
 "cells": [
  {
   "cell_type": "markdown",
   "id": "66f362cd-548b-45bc-a619-4eb898c19ce1",
   "metadata": {},
   "source": [
    "# How to write a thesis"
   ]
  },
  {
   "cell_type": "markdown",
   "id": "26c8f337-bc8f-499b-9d7a-4cb9fd0e601a",
   "metadata": {},
   "source": [
    "Erster Eindruck:  \n",
    "- wenn schlecht Aufmerksamkeit weg\n",
    "    Am Anfang ist die Aufmerksamkeit am höchsten,\n",
    "        in der Mitte ist die Aufmerksamkeit am niedrigsten \n",
    "        und gegen Ende steigt die Aufmerksamkeit wieder.(Bsp Tinder)\n",
    "    $\\rightarrow$ Anfang und Schluss sind am wichtigsten "
   ]
  },
  {
   "cell_type": "markdown",
   "id": "9467b39e-413d-4ea1-9ab3-1e33c0aaff4b",
   "metadata": {},
   "source": [
    "# Anfang"
   ]
  },
  {
   "cell_type": "markdown",
   "id": "9b850d23-5d60-455c-a571-3a603212b2c6",
   "metadata": {},
   "source": [
    "Nicht gleich am Anfang vorstellen.  \n",
    "\n",
    "1. **das Problem erklären**  \n",
    "2. Beschreibe grob die Lösung  \n",
    "3. Dann selbst und das Produkt vorstellen \n",
    "4. Business case  \n",
    "5. Aufruf zur Aktion (Umfrage, Sponsoren) | Prägnant zusammenfassen  \n",
    "\n"
   ]
  },
  {
   "cell_type": "markdown",
   "id": "17fc70d5-1291-4dc7-be52-0c246809468a",
   "metadata": {},
   "source": [
    "## Problem Vorstellen"
   ]
  },
  {
   "cell_type": "markdown",
   "id": "2d85ddfd-2a27-4856-843d-1d7057cae512",
   "metadata": {},
   "source": [
    "Am Anfang erzählen, \n",
    "    welches Problem gelöst wird \n",
    "    und wie das das Publikum betrifft.  \n",
    "\n",
    "Keine technischen Details, nur die Idee.  \n"
   ]
  },
  {
   "cell_type": "markdown",
   "id": "7f9e5050-3f11-41a7-8ce4-6dd08a0b1141",
   "metadata": {},
   "source": [
    "## Vorstellen"
   ]
  },
  {
   "cell_type": "markdown",
   "id": "b8c651b7-5695-40cf-8010-27a30585ef5a",
   "metadata": {},
   "source": [
    "Jetzt Vorstellen;  \n",
    "Detailgrad auf die Zuhörer abstimmen;  \n",
    "akzeptieren, wenn Leute absteigen  \n"
   ]
  },
  {
   "cell_type": "markdown",
   "id": "61125b38-f570-48f3-836c-9cee85ccbaab",
   "metadata": {},
   "source": [
    "## Business Case"
   ]
  },
  {
   "cell_type": "markdown",
   "id": "32af50c9-fe8c-45f5-acf5-4014f4f05135",
   "metadata": {},
   "source": [
    "Markt  \n",
    "- Zielgruppe-Art  \n",
    "- Zielgruppe-Größe  \n",
    "\n",
    "Alleinstellungsmerkmal  \n",
    "\n",
    "Mitbewerber  \n",
    "- Sind ähnliche Lösungen vorhanden"
   ]
  },
  {
   "cell_type": "markdown",
   "id": "f8427dc8-2d7e-408d-b221-2690b593903f",
   "metadata": {},
   "source": [
    "## Aufruf zur Aktion | Zusammenfassung"
   ]
  },
  {
   "cell_type": "markdown",
   "id": "a3c6c9e4-61f6-490c-b74a-7fc3ce37e757",
   "metadata": {},
   "source": [
    "Zuhörer wachen auf  \n",
    "\n",
    "Aufruf zur Aktion\n",
    "- Aufruf für Sponsoren  \n",
    "- Umfrage abstimmung  \n",
    "\n",
    "Fasse die wichtigsten dinge Zusammen  \n",
    "- Problem  \n",
    "- Deine Lösung  \n",
    "- Wie macht man die Welt besser  "
   ]
  },
  {
   "cell_type": "markdown",
   "id": "feb30333-26c2-4e7b-a870-ade7d360b085",
   "metadata": {},
   "source": [
    "# Eigene Übung"
   ]
  },
  {
   "cell_type": "markdown",
   "id": "ce1018aa-9906-428f-a18f-777023d5f198",
   "metadata": {},
   "source": [
    "HTL-Wlan kackt ab,  \n",
    "Man ist knapp drann und muss in der Pause vor der LA-Stunde den Bericht ausdrucken und genau dann mog da Drucker ned  \n",
    "Schülerlaufwerke sind nicht erreichbar und niemand weiß von irgendeinem Problem  \n",
    "\n",
    "Genau hier setzt unsere Lösung an, \n",
    "    wir bauen das Monitoring System \"Zabbix\" in das Schulnetz, \n",
    "    durch dieses System werden die Administratoren aktiv benachrichtigt sobald, \n",
    "    ein Registriertes Gerät (Drucker, Laufwerk) nicht mehr erreichbar ist,\n",
    "    oder sobald im Netzwerk ein Performance engpass feststellbar ist. \n",
    "\n",
    "<!---->"
   ]
  },
  {
   "cell_type": "markdown",
   "id": "5526098e-5b2c-4213-a4a7-a0ecc7d859ad",
   "metadata": {},
   "source": [
    "Das OS Zabbix System wird auf einem Server aufgesetzt und sammelt Daten, von verschiedensten Geräten und eben auch Netzwerkmetriken, \n",
    "    wie auslastung, Erreichbarkeit, ect.  \n",
    "    \n",
    "Diese Daten können über die eingebaute Visualisierungswebsite eingesehen werden, um die kritischen Zeiten zu erkennen und Aktionen um diese Zeiten herum zu Planen.  \n",
    "\n",
    "Sobald eben ein Gerät einen defekt hat oder das Netzwerk einen Engpass hat, sendet der Server eine E-Mail an den entsprechenden Administrator"
   ]
  },
  {
   "cell_type": "markdown",
   "id": "842c41b9-eee1-4af4-96d2-59f67e744b95",
   "metadata": {},
   "source": [
    "# Eine wissenschaftliche Arbeit schreiben"
   ]
  },
  {
   "attachments": {},
   "cell_type": "markdown",
   "id": "a91147fb-a394-493b-91f8-6ce9c2d3cd66",
   "metadata": {},
   "source": [
    "## Struktur"
   ]
  },
  {
   "cell_type": "markdown",
   "id": "96b014c6-0b63-4970-93c4-41a72a77969b",
   "metadata": {},
   "source": [
    "- Ediesstattiliche Erklärung  \n",
    "- Abstract  \n",
    "  - Problem  \n",
    "  - Lösung  \n",
    "  - Es funktioniert  \n",
    "  - Die Welt ist besser\n",
    "- Kurzfassung  \n",
    "1. Introduction  \n",
    "    nur Leicht \"Clickbait\", Fakten + Problem klar erklären  \n",
    "    nach dem Durchlesen soll man wissen worum es geht und ob es für einen relevant ist\n",
    "2. System Overview  \n",
    "    Alle Informationen, welche benötigt sind um den Text zu verstehen- (Mit HTL-Basis)  \n",
    "3. Content A  \n",
    "4. Content B  \n",
    "5. Content C  \n",
    "    3-4-Hauptkapitel  \n",
    "    - Architekturübersicht\n",
    "    - Frontend\n",
    "    - Backend,...\n",
    "6. Case Study / Evaluation  \n",
    "    Zeigen das das Projekt Funktioniert  \n",
    "7. Project Management  \n",
    "8. Future Work  \n",
    "    Zukünftige arbeiten, nicht fertig gestelltes\n",
    "9. Related Work  \n",
    "    Vergleich mit bestehenden Sachen  \n",
    "10. Conclusion  \n",
    "    Wie hat sich die Welt verändert\n",
    "- Acknowledgements  \n",
    "    Danksagungen:  \n",
    "    - Eltern  \n",
    "    - Betruer  \n",
    "    - Korrekturleser\n",
    "    - ...\n",
    "- List of Figures  \n",
    "    Liste aller Bilder\n",
    "- Listings  \n",
    "    Liste von allem Codestücke,...\n",
    "- Bibliography  \n",
    "- CV\n",
    "\n",
    "ca. 60-Seiten"
   ]
  },
  {
   "cell_type": "markdown",
   "id": "a34fd5d4-215a-411b-8cb6-a07eb66a1de3",
   "metadata": {},
   "source": [
    "## Wichtigkeit von Abschnitten"
   ]
  },
  {
   "cell_type": "markdown",
   "id": "211345fc-75f8-4333-8a81-d25de78abd7a",
   "metadata": {},
   "source": [
    "- Title  \n",
    "    1000-Leser\n",
    "- Abstract  \n",
    "    100-Leser  \n",
    "- Einleitung  \n",
    "    100-Leser  \n",
    "- System Overview  \n",
    "    10-Leser  \n",
    "- Content  \n",
    "    3-Leser\n",
    "- Evaluation  \n",
    "    10-Leser  \n",
    "- Related Work  \n",
    "    10-Leser  \n",
    "- Conclusion  \n",
    "    50-Leser  \n",
    "    \n",
    "Diagonal-Reading"
   ]
  },
  {
   "attachments": {},
   "cell_type": "markdown",
   "id": "f08ef459-7f29-462b-8d06-a5380bc34dc0",
   "metadata": {},
   "source": [
    "### Introduction"
   ]
  },
  {
   "cell_type": "markdown",
   "id": "7cb6fc63-ee52-442b-aeff-738da28a3174",
   "metadata": {},
   "source": [
    "- Hier ist ein Problem  \n",
    "    weis auf das Problem hin (mit Beispiel)\n",
    "- Es ist ein Interesantes Problem  \n",
    "- Es ist ein ungelöstes Problem  \n",
    "    Erkläre warum das Problem noch nicht gelöst ist\n",
    "- Hier ist meine Idee  \n",
    "- Meine Idee funktioniert  \n",
    "    Die Lösung beschreiben; nicht technisch  \n",
    "    \n",
    "Tipp:\n",
    "- Der Leser weis noch nichts über das Problem  \n",
    "\n",
    "test"
   ]
  },
  {
   "cell_type": "markdown",
   "id": "bb8f1fbe-7920-4f63-b120-33e5189e40cc",
   "metadata": {
    "jp-MarkdownHeadingCollapsed": true,
    "tags": []
   },
   "source": [
    "### Abstract"
   ]
  },
  {
   "cell_type": "markdown",
   "id": "49ab2429-42ec-48ff-b015-4f4a52eab6e1",
   "metadata": {},
   "source": [
    "- Skizziert das Ergebnis und Inhalt  \n",
    "- Es sollte motivieren den Rest zu Lesen  \n",
    "- Am Ende Schreiben  \n",
    "\n",
    "#### Check-List  \n",
    "\n",
    "1. State the Problem  \n",
    "2. zeige warum das Problem interessant ist  \n",
    "3. zeige was deine Lösung erreicht  \n",
    "4. zeige was dein Ergebnis schlussfolgert"
   ]
  },
  {
   "cell_type": "markdown",
   "id": "ce7fc9e9-9470-4ce0-b21c-d10c4ab463fc",
   "metadata": {},
   "source": [
    "### Project Management"
   ]
  },
  {
   "cell_type": "markdown",
   "id": "f58cc642-f371-44b7-bff9-ec7eb106961c",
   "metadata": {},
   "source": [
    "Entspannt, nach im Unterricht behandelten Stoff"
   ]
  },
  {
   "cell_type": "markdown",
   "id": "b892bd8e-a72d-43c7-85a0-99c8110cd5c4",
   "metadata": {},
   "source": [
    "### Future Work"
   ]
  },
  {
   "cell_type": "markdown",
   "id": "d1231323-0e58-4dc0-af6f-2ff98b13c1fe",
   "metadata": {},
   "source": []
  },
  {
   "cell_type": "markdown",
   "id": "b88049ad-1f62-4e9e-b54d-a9b2305c2166",
   "metadata": {},
   "source": [
    "### Related Work"
   ]
  },
  {
   "cell_type": "markdown",
   "id": "b0f96af8-96bd-432c-b634-6a0aafb6a091",
   "metadata": {},
   "source": [
    "Vergleich mit anderen Projekten, nicht Übertreiben  \n",
    "\n",
    "Vor und Nachteile auflisten"
   ]
  },
  {
   "cell_type": "markdown",
   "id": "9da6c034-2f6a-4e60-b5d2-7fb932a04ad7",
   "metadata": {},
   "source": [
    "### Conclusion"
   ]
  },
  {
   "cell_type": "markdown",
   "id": "14cf155e-3524-403c-9361-ce4336d133e5",
   "metadata": {},
   "source": []
  },
  {
   "cell_type": "markdown",
   "id": "990acd6f-8277-4645-849d-b2510aedfc43",
   "metadata": {},
   "source": [
    "### Appendix"
   ]
  },
  {
   "cell_type": "markdown",
   "id": "ad191b81-439d-4fc3-9c79-834a949571d0",
   "metadata": {},
   "source": [
    "Lebenslauf"
   ]
  },
  {
   "cell_type": "markdown",
   "id": "810c9eb4-e22d-4035-8e31-ba28b11fca81",
   "metadata": {},
   "source": [
    "## Allgemeines"
   ]
  },
  {
   "cell_type": "markdown",
   "id": "5e3e58dd-f914-4d5b-a89d-0e8051b94088",
   "metadata": {},
   "source": [
    "Denk zuerst an den Leser  \n",
    "Die Persönliche Geschichte nicht Wiedergeben  \n",
    "> This route may be soaked with your blood, but that's not interesting to the reader  \n",
    "> \\- Mathias Grimmer  \n",
    "\n",
    "- Starke Visuelle Struktur  \n",
    "- Verwende \\[ Sections | subsections | bullets | italics | laid-out code \\]  \n",
    "- Führe nur ein neues Level an subsections ein, wenn du mindestens zwei davon machen kannst  \n",
    "\n",
    "*Lerne wie man bilder zeichnet und verwende sie*  \n",
    "\n",
    "Zeige am Anfang wie das Projekt ausgegangen ist  \n",
    "\n",
    "Way-Pointing  \n",
    "- am anfang des Kapitels kurz beschreiben um was es im Kapitel geht  \n",
    "\n",
    "Diagonal reading  \n",
    "\n",
    "Style  \n",
    "- Simple und direkte Sprache  \n",
    "- Present tense  \n",
    "- Active  \n",
    "    Standard in wissenschaftliche Arbeiten  \n",
    "    - Passiv ist respektable, aber macht die These langweilig  \n",
    "        Passiv nimmt Informationen weg  \n",
    "    - verwende \"Wir\" um dich und den Leser anzusprechen  \n",
    "\n",
    "Word (sehr umständlich) und besser Latex, Citations  \n"
   ]
  },
  {
   "cell_type": "markdown",
   "id": "b8d400d5-4079-4c39-8653-0ab2fba34f9b",
   "metadata": {},
   "source": [
    "## Zusammenfassung  \n",
    "\n",
    "- Alliterationen vermeiden. Always  \n",
    "- Prepositionen nicht als Satzende verwenden  \n",
    "- keine Redewendungen  \n",
    "- keine Vergleiche  \n",
    "- Spezifisch sein  \n",
    "- nicht generalisieren  \n",
    "- Konsistent sein  \n",
    "- nicht redundant sein  \n",
    "- keine rhetorischen Fragen  \n",
    "- keine überspitzungen  \n"
   ]
  }
 ],
 "metadata": {
  "kernelspec": {
   "display_name": "Julia 1.8.0",
   "language": "julia",
   "name": "julia-1.8"
  },
  "language_info": {
   "file_extension": ".jl",
   "mimetype": "application/julia",
   "name": "julia",
   "version": "1.8.0"
  }
 },
 "nbformat": 4,
 "nbformat_minor": 5
}
