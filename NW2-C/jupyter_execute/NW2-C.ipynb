{
 "cells": [
  {
   "cell_type": "code",
   "execution_count": 1,
   "id": "0f4103df",
   "metadata": {
    "pycharm": {
     "name": "#%%\n"
    },
    "tags": [
     "remove-input",
     "remove-output"
    ]
   },
   "outputs": [],
   "source": [
    "using DrWatson\n",
    "@quickactivate\n",
    "\n",
    "using DataFrames\n",
    "using CairoMakie"
   ]
  },
  {
   "cell_type": "markdown",
   "id": "53b86cfd-19ab-4266-a7b9-3dfe85c0f0c0",
   "metadata": {
    "pycharm": {
     "name": "#%%\n"
    },
    "tags": []
   },
   "source": [
    "# Allgemeine Chemie"
   ]
  },
  {
   "cell_type": "markdown",
   "id": "bdecb4c6-ec72-4845-b3ea-4af632b6c222",
   "metadata": {
    "jp-MarkdownHeadingCollapsed": true,
    "tags": []
   },
   "source": [
    "## Aggregatzustände  "
   ]
  },
  {
   "cell_type": "markdown",
   "id": "15044f57-d47f-4a82-a498-2ae4a5a98c87",
   "metadata": {
    "tags": []
   },
   "source": [
    "Teilchen bewegen sich abhängig von der Temperatur  \n",
    "\n",
    "- Fest  \n",
    "    Volumen und Formbeständig  \n",
    "    Teilchen haben bestimmte Positionen  \n",
    "    Können schwingen/rotieren  \n",
    "    Anordnung meist mit Struktur (Kristall)  \n",
    "- Flüssig  \n",
    "    Volumenbeständig, Formunbeständig  \n",
    "    wegen Wärme nicht festhaltbar  \n",
    "    Frei bewegbar  \n",
    "- Gasförmig  \n",
    "    Volumen und Formunbeständig  \n",
    "    Füllt gegebenen Raum aus  \n",
    "    können nicht in Form gehalten werden  \n",
    "    Komprimierfähig  \n",
    "- (Plasma)\n",
    "- (Bose-Einstein-Kondensat)  \n",
    "\n",
    "### Siedepunkt\n",
    "Wenn Dampfdruck = Umgebungsdruck  \n"
   ]
  },
  {
   "cell_type": "markdown",
   "id": "ccbfa39e-e198-4db9-8eea-87792021e920",
   "metadata": {},
   "source": [
    "![](http://web.mit.edu/8.334/www/grades/projects/projects08/EvangelosSfakianakis/2_files/image002.jpg)"
   ]
  },
  {
   "cell_type": "markdown",
   "id": "119cf0cd-f622-4c8e-9607-005497c3075a",
   "metadata": {
    "jp-MarkdownHeadingCollapsed": true,
    "tags": []
   },
   "source": [
    "### Ideales Gas"
   ]
  },
  {
   "cell_type": "markdown",
   "id": "43186dbb-500c-461a-93fb-caf4d1ceede5",
   "metadata": {},
   "source": [
    "Volumen = $22.4 \\frac{l}{mol}$  \n",
    "- Gasgteilchen sind Punktförmig und sind keinen Kräften ausgesetzt  \n",
    "- Teilchen bewegen sich geradlinig im Raum  \n",
    "- Verändern ihre Richtung nicht, außer sie stoßen mit der Wand oder anderen Teilchen zusammen  \n",
    "\n",
    "$p\\cdot V = m\\cdot R_s\\cdot \\Delta T = n \\cdot R \\cdot \\Delta T$  "
   ]
  },
  {
   "cell_type": "markdown",
   "id": "c433e944-e31a-46ab-913f-b617292ac38a",
   "metadata": {
    "jp-MarkdownHeadingCollapsed": true,
    "tags": []
   },
   "source": [
    "### Reales Gas"
   ]
  },
  {
   "cell_type": "markdown",
   "id": "1d1915ba-66f1-45ae-b8f0-96604c309e81",
   "metadata": {},
   "source": [
    "- Hat Eigenvolumen  \n",
    "- Zwischen Teilchen herrschen Anziehungskräfte: perfekte elastische Zusammenstöße nicht möglich  "
   ]
  },
  {
   "cell_type": "markdown",
   "id": "455333ff-acdc-4f83-9a79-84298fefc868",
   "metadata": {
    "jp-MarkdownHeadingCollapsed": true,
    "tags": []
   },
   "source": [
    "## Stoff-Gemische"
   ]
  },
  {
   "cell_type": "markdown",
   "id": "b6bef043-4fc2-4cba-af67-e604bb962efa",
   "metadata": {},
   "source": [
    "- alle Stoffe\n",
    "    - Heterogene Gemische\n",
    "        Mehrere Phasen erkennbar\n",
    "    - Homogene Gemische\n",
    "        eine Phase erkennbar\n",
    "        - Lösung  \n",
    "            Lösungsmittel: Komponente mit größeren V  \n",
    "            Gelöster Stoff: andere Komponente  \n",
    "        - Reine Substanz\n",
    "            - Element\n",
    "            - Verbingungen\n",
    "\n",
    "eine Lösung ist **gesättigt**, wenn die max. löslichkeit eines Lösungsmittels erreicht worden ist  \n",
    "anderenfalls ist eine Lösung **ungesättigt**\n",
    "\n",
    "$w = \\frac{m(Ko)}{m(Lsg)}\\cdot 100$  \n",
    "$Vol-\\% = \\frac{V(Kp)}{V_(Lsg)}\\cdot 100$  \n",
    "$c = \\frac{n(Ko)}{V(Lsg)}$  \n",
    "$\\quad$w%...Masseanteil...beschreibt wieviel g gelöster Stoff in der Lösung sind  \n",
    "$\\quad$V%...Volumenskonzentration....beschreibt wie viel ml gelöster Stoff in der Lösung sind\n",
    "\n",
    "### Bsp Stoffgemische\n",
    "\n",
    "- Flüssigkeit mit Flüssig. : Wasser + Öl, ...\n",
    "- Fest mit Fest : Fuß-Ball + Tennis-Ball\n",
    "- Fest mit Gas : Staub in Luft\n",
    "- Flüssig. mit Gas : Wasser in Luft (Nebel)  \n",
    "- Fest mit Flüssig : Kalk in Wasser  \n",
    "\n",
    "\n",
    "### Trennverfahren  \n",
    "#### Fest von Fest\n",
    "- Sieben\n",
    "- Sedimentieren\n",
    "- Magnet - Temperatur-Verfahren\n",
    "- Lösen\n",
    "- Schmelzen\n",
    "- Flotieren\n",
    "- Elektrostatische Trennung\n",
    "\n",
    "#### Fest von Flüssig  \n",
    "- Filtrieren\n",
    "- Abdestillieren\n",
    "- Dekantieren\n",
    "- Zentrifugieren\n",
    "- Sedimentieren  \n",
    "\n",
    "#### Flüssig von Flüssig  \n",
    "- Destillieren  \n",
    "    Siedepunkt Unterschied\n",
    "- Chromatographie\n",
    "- Phasen trennung \n",
    "- Zentrifugieren  \n",
    "\n",
    "##### Chromatographie  \n",
    "![](https://bitesizebio.com/wp-content/uploads/2021/09/Column-chromatography-figure-1.jpg)"
   ]
  },
  {
   "cell_type": "markdown",
   "id": "f385669a-210e-4cea-b574-670e717c6000",
   "metadata": {
    "jp-MarkdownHeadingCollapsed": true,
    "tags": []
   },
   "source": [
    "## Teilchen"
   ]
  },
  {
   "cell_type": "markdown",
   "id": "b9598c95-b5ad-4e83-99fc-15ac3e53c28c",
   "metadata": {
    "jp-MarkdownHeadingCollapsed": true,
    "tags": []
   },
   "source": [
    "- Molekül\n",
    "- Atom\n",
    "- Ionen\n",
    "    - Anion  \n",
    "        (-) geladen\n",
    "    - Kation  \n",
    "        (+) geladen  \n",
    "\n",
    "### Isotope  \n",
    "Atome mit gleicher Ordnungszahl aber unterschiedlicher Massenzahlen"
   ]
  },
  {
   "cell_type": "markdown",
   "id": "9ad42fee-6c9f-4eaa-9a1f-7026b3c3a01b",
   "metadata": {
    "tags": []
   },
   "source": [
    "## Radioaktivität"
   ]
  },
  {
   "cell_type": "markdown",
   "id": "17e3da3d-0b63-4f63-a5e2-99ad5727aa80",
   "metadata": {},
   "source": [
    "Drei Arten von Strahlung:  \n",
    "\n",
    "- $\\alpha$-Strahlung:  \n",
    "    Ein Helium Atom wird aus dem Atom weg geschossen, das Atom verliert 2-Protonen, 2-Neutronen und 2-Elektronen.  \n",
    "    Diese Strahlung ist positiv, aber schwer ablenkbar.  \n",
    "    Die Teilchen bei $\\alpha$-Strahlung haben meist gleich große Energien  \n",
    "    Die Strahlung hat ein hohes Ionisierungsvermögen\n",
    "- $\\beta$-Strahlung:  \n",
    "    Ein Neutron wird in Proton und Elektron aufgespalten und das Elektron wird weg geschossen, \n",
    "        da ein Proton dazu und ein Neutron weg kommt, bleibt die Massezahl gleich, aber die Ordnungszahl erhöht sich.  \n",
    "    Da $\\beta$-Strahlung Elektronen sind, ist diese negativ geladen und sehr leicht.  \n",
    "    Die Teilchen haben unterschiedlich große Energien  \n",
    "    Die Strahlung hat ein mittleres Ionisierungsvermögen  \n",
    "- $\\gamma$-Strahlung:  \n",
    "    Ist keine Teilchenstrahlung sondern eine elektromagnetische Welle und besteht aus ungeladenen Photonen (ähnlich zur Röntgenstrahlung). \n",
    "    Tritt meist zusätzlich mit $\\alpha$/$\\beta$-Strahlung, da nach diesen das Atom oft in einen angeregten Zustand ist und Energie abgibt.  \n",
    "    Gamma-Quanten haben meist gleich große Energien  \n",
    "    Gamma-Quanten sind nicht geladen, sie können nicht abgelenkt werden  \n",
    "    Die Strahlung hat ein niedriges Ionisierungsvermögen  "
   ]
  },
  {
   "cell_type": "markdown",
   "id": "d705c71c-75cb-4229-8f21-2bd65979ab07",
   "metadata": {},
   "source": [
    "$\\alpha$- & $\\beta$-Strahlung == Teilchenstrahlung  \n",
    "$\\gamma$-Elektromagnetische Strahlung\n",
    "\n",
    "Strahlung verändert das Element, bis das Element stabil ist\n",
    "\n",
    "Die Halbwertszeit gibt an wie lange es braucht damit 50% des Materials zerfallen ist  \n",
    "\n",
    "### Abschirmung\n",
    "\n",
    "$\\alpha$...Blatt Papier  \n",
    "$\\beta$...Aluminium Blech  \n",
    "$\\gamma$...Dicke Beton/Blei Wände"
   ]
  },
  {
   "cell_type": "markdown",
   "id": "242d2077-03e3-490a-bc7c-473969945355",
   "metadata": {
    "jp-MarkdownHeadingCollapsed": true,
    "tags": []
   },
   "source": [
    "## Bohrsches-Atomm-Modell"
   ]
  },
  {
   "cell_type": "markdown",
   "id": "83eb784b-8679-455b-9b9f-77b08c194b4a",
   "metadata": {},
   "source": [
    "Atom besteht aus:  \n",
    "- Protonen ($+$-Geladen)  \n",
    "- Neutronen  \n",
    "- Elektronen ($-$-Geladen)  \n",
    "\n",
    "Massenzahl: Anzahl der Protonen + Neutronen  \n",
    "Ordnungszahl: Anzahl der Protonen \n",
    "\n",
    "Ladungen:  \n",
    "- Proton: 1.602E-19 C  \n",
    "- Neutron: 0  \n",
    "- Elektron: -1.602E-19C  \n",
    "\n",
    "Atom normalerweise ungeladen, Bindungen können verändern  "
   ]
  },
  {
   "cell_type": "markdown",
   "id": "28b8f20e-9271-4881-9066-36c8187320ce",
   "metadata": {
    "jp-MarkdownHeadingCollapsed": true,
    "tags": []
   },
   "source": [
    "## Elektronen-Konfiguration"
   ]
  },
  {
   "cell_type": "markdown",
   "id": "dcc13caf-ca1b-4ca0-809f-06c94b94e209",
   "metadata": {},
   "source": [
    "Jedes Elektron\n",
    "- lässt sich mit 4 Quantenzahlen beschreiben  \n",
    "- unterscheidet sich in mindestens einer Quantenzahl\n",
    "- Kann nur eine bestimmte Energie haben  \n",
    "\n",
    "Pauli-Verbot: in einem Atom gibt es keine zwei Elektronen mit gleichen Quantenzahlen  \n",
    "\n",
    "Hundsche Regel: Oribitale werden zuerst mit einem Elektron besetzt bevor diese voll besetzt werden"
   ]
  },
  {
   "cell_type": "markdown",
   "id": "412e26f8-bbe4-4284-beec-d3b1624d4c7c",
   "metadata": {
    "jp-MarkdownHeadingCollapsed": true,
    "tags": []
   },
   "source": [
    "## Quantenzahlen"
   ]
  },
  {
   "cell_type": "markdown",
   "id": "725f25ab-30c3-411a-8a3b-a75432ce1a58",
   "metadata": {
    "tags": []
   },
   "source": [
    "### Schalen\n",
    "#### Hauptquantenzahl\n",
    "$[K, L, M] \\equiv [1, 2, 3]$\n",
    "\n",
    "#### Nebenquantenzahl  \n",
    "Form des Orbitals\n",
    "\n",
    "0...s  \n",
    "1...p  \n",
    "2...d  \n",
    "3...f  \n",
    "4...g\n",
    "\n",
    "#### Magnetischequantenzahl\n",
    "$m_L = -I... 0 ... +I$  \n",
    "\n",
    "#### Spinquantenzahl  \n",
    "$m_s = +\\frac{1}{2} \\quad ;\\quad -\\frac{1}{2}$  "
   ]
  },
  {
   "cell_type": "code",
   "execution_count": 2,
   "id": "fb0fa470-a99f-4132-b1c1-4261ecbee252",
   "metadata": {
    "tags": [
     "remove-input",
     "remove-output"
    ]
   },
   "outputs": [
    {
     "name": "stdout",
     "output_type": "stream",
     "text": [
      "\u001b[1m4×7 DataFrame\u001b[0m\n",
      "\u001b[1m Row \u001b[0m│\u001b[1m Nebenquantenzahl \u001b[0m\u001b[1m Schale \u001b[0m\u001b[1m e              \u001b[0m\u001b[1m m_L                      \u001b[0m\u001b[1m m_s    \u001b[0m\u001b[1m n     \u001b[0m\u001b[1m orbital              \u001b[0m\n",
      "\u001b[1m     \u001b[0m│\u001b[90m Vector{Int64}    \u001b[0m\u001b[90m String \u001b[0m\u001b[90m Vector{Int64}  \u001b[0m\u001b[90m Vector{Int64}            \u001b[0m\u001b[90m String \u001b[0m\u001b[90m Int64 \u001b[0m\u001b[90m Array…               \u001b[0m\n",
      "─────┼─────────────────────────────────────────────────────────────────────────────────────────────────────────\n",
      "   1 │ [0]               K       [2]             [0]                       ± 1/2       1  [\"s\"]\n",
      "   2 │ [0, 1]            L       [2, 6]          [-1, 0, 1]                ± 1/2       2  [\"s\", \"p\"]\n",
      "   3 │ [0, 1, 2]         M       [2, 6, 10]      [-2, -1, 0, 1, 2]         ± 1/2       3  [\"s\", \"p\", \"d\"]\n",
      "   4 │ [0, 1, 2, 3]      N       [2, 6, 10, 14]  [-3, -2, -1, 0, 1, 2, 3]  ± 1/2       4  [\"s\", \"p\", \"d\", \"f\"]"
     ]
    }
   ],
   "source": [
    "d = Dict()\n",
    "\n",
    "d[:n] = [1,2,3,4]\n",
    "d[:Schale] = [\"K\", \"L\", \"M\", \"N\"]\n",
    "d[:Nebenquantenzahl] = [\n",
    "    [0],\n",
    "    [0, 1],\n",
    "    [0, 1, 2],\n",
    "    [0, 1, 2, 3]\n",
    "]\n",
    "\n",
    "d[:m_L] = [\n",
    "    [0],\n",
    "    [-1, 0, 1],\n",
    "    [-2, -1, 0, 1, 2],\n",
    "    [-3, -2, -1, 0, 1, 2, 3]\n",
    "]\n",
    "d[:m_s] = (\"± 1/2\")\n",
    "d[:e] = [\n",
    "    [2],\n",
    "    [2, 6],\n",
    "    [2, 6, 10],\n",
    "    [2, 6, 10, 14]\n",
    "]\n",
    "d[:orbital] = [\n",
    "    [\"s\"],\n",
    "    [\"s\", \"p\"],\n",
    "    [\"s\", \"p\", \"d\"],\n",
    "    [\"s\", \"p\", \"d\", \"f\"]\n",
    "]\n",
    "\n",
    "d |> DataFrame |> print"
   ]
  },
  {
   "cell_type": "markdown",
   "id": "6b4033b1-f691-4188-97ae-cc454ad0eef2",
   "metadata": {},
   "source": [
    "| Nebenquantenzahl | Schale | Elektronen | $m_L$                  | $m_s$     | n | Orbitale   |\n",
    "|------------------|--------|------------|------------------------|-----------|---|------------|\n",
    "| 0                | K      | 2          | 0                      | $\\pm 1/2$ | 1 | s          |\n",
    "| 0, 1             | L      | 6          | -1, 0, 1               | $\\pm 1/2$ | 2 | s, p       |\n",
    "| 0, 1, 2          | M      | 10         | -2, -1, 0, 1, 2        | $\\pm 1/2$ | 3 | s, p, d    |\n",
    "| 0, 1, 2, 3       | N      | 14         | -3, -2, -1, 0, 1, 2, 3 | $\\pm 1/2$ | 4 | s, p, d, f |"
   ]
  },
  {
   "cell_type": "markdown",
   "id": "2fa672d4-868b-4c42-b9c0-8ba592e64b1c",
   "metadata": {},
   "source": [
    "Jedes Atom hat das Bestreben die Äußerste Schale voll besetzt zu haben (Edelgaszustand), dies kann durch Bindungen erreicht werden  \n",
    "\n",
    "Edelgaszustand, da die Edelgase (He, Ne, Ar,...) eine Volle äußerste Schale haben und somit nicht mit anderen Atomen reagieren.  \n",
    "\n"
   ]
  },
  {
   "cell_type": "markdown",
   "id": "b90e8b64-6ccd-4caa-8eb1-b3c01e1f53c6",
   "metadata": {},
   "source": [
    "$4 s^2$  \n",
    "4...Hauptquantenzahl  \n",
    "s...Orbital  \n",
    "2...Nebenquantenzahl  "
   ]
  },
  {
   "cell_type": "markdown",
   "id": "d551a128-e991-4752-8f62-d009206ef1d3",
   "metadata": {
    "jp-MarkdownHeadingCollapsed": true,
    "tags": []
   },
   "source": [
    "## Periodensystem  \n"
   ]
  },
  {
   "cell_type": "markdown",
   "id": "2a2c43f8-4e14-4118-83e0-173c98fdb6a4",
   "metadata": {
    "tags": []
   },
   "source": [
    "- Hauptgruppen\n",
    "    1. Wasserstoff und Alkalimetalle  \n",
    "    2. Erdalkalimetalle  \n",
    "    3. Erdmetalle, Borgruppe  \n",
    "    4. Kohlenstoffgruppe  \n",
    "    5. Stickstoffgruppe  \n",
    "    6. Chalkogene (Gesteinsbildner)  \n",
    "    7. Halogene (Salzbildner)  \n",
    "    8. Edelgase  \n",
    "    Bestimmen Valenzelektronen\n",
    "- Nebengruppen\n",
    "- Perioden  \n",
    "    In einer Periode Gleiche Anzahl an Orbitalen"
   ]
  },
  {
   "cell_type": "markdown",
   "id": "5a4a59fe-27f2-41d0-be61-414c92c723e3",
   "metadata": {
    "jp-MarkdownHeadingCollapsed": true,
    "tags": []
   },
   "source": [
    "## Bindungen"
   ]
  },
  {
   "cell_type": "markdown",
   "id": "8e53c6dc-042f-47fa-a630-fac4412d419b",
   "metadata": {},
   "source": [
    "Ziel energieärmster Zustand  \n",
    "\n",
    "\n",
    "Elektronegativität:  \n",
    "    $\\quad$maß wie stark Elektronen angezogen werden können  \n",
    "    $\\quad$Abhängig von Kernladung und Atomgröße  \n",
    "    $\\quad$Bezeichnung $EN$\n",
    "\n",
    "- Ionenbindung  \n",
    "    Metall + Nicht-Metall  \n",
    "    Kation +  \n",
    "    Anion -  \n",
    "    Anionen und Kathionen ziehen sich an $\\rightarrow$ \n",
    "    Starke Bindung  \n",
    "    Elektrolyte: Schmelze/Lösung sind leitend  \n",
    "    ⠀$\\Delta EN > 2 \\Rightarrow$ Ionenbindung  \n",
    "    Bsp. : $NaCl$  \n",
    "    ⠀$\\quad$Generell: Salze, Oxide, Säuren, Laugen, Ionenkristalle\n",
    "- Atombindung  \n",
    "    Nicht-Metall + Nicht-Metall  \n",
    "    ⠀$\\Delta EN < .5\\Rightarrow$ Atombindung  \n",
    "    Atome können gemeinsame Elektronenpaaren nützen  \n",
    "    - Einfachbindung  \n",
    "    - Doppelbindung  \n",
    "    - Dreifachbindung  \n",
    "    Diese Elektronenpaare bewirken Bindungskräfte  \n",
    "    - Unpolare Atombindung  \n",
    "        ⠀$\\Delta EN = 0$  \n",
    "        Zwischen gleichen Atomen  \n",
    "        ⠀$H_2, Cl_2,...$\n",
    "    - Polare Atombindung\n",
    "        ⠀$0 < \\Delta EN < .5$  \n",
    "        Elektronenpaare nicht gleichmäßig verteilt, Ladungsschwerpunkt nicht in der Mitte  \n",
    "        - Dipol\n",
    "            Abstand der Ladungsschwerpunkte\n",
    "        ⠀$H_2O, HCl, CH_4, ...$  \n",
    "    Ergebnis:  \n",
    "    - Moleküle  \n",
    "    - Atomgitter\n",
    "- Metallbindung  \n",
    "    Metalle bestehen aus Kristallen, die eine Gitterstruktur bilden, auf denen sich Valenz und Leitungsband überschneiden  \n",
    "    ㅤ$\\rightarrow$ Gute Leiter  \n",
    "    Ergebnis:  \n",
    "    - Metall  \n",
    "    - Legierung\n",
    "<!---->\n",
    "- Komplexverbindung  \n",
    "    Zentralatom in der Mitte (Ion)  \n",
    "    Rundherum Liganden  \n",
    "    Bindung der Liganden an Ion über freie Elektronenpaare  \n",
    "\n",
    "<!---->\n",
    "- Wasserstoffbrücken  \n",
    "    Schwache Bindung  \n",
    "    Beruhen auf Dipolkräften  \n",
    "    Bsp. : Wasser, DNA\n",
    "    \n",
    "<!---->\n",
    "- Zwischenmolekulare Kräfte  \n",
    "    - Van der Vals Kräfte  \n",
    "        Bindung zwischen kovalenten Molekülen  \n",
    "        Temporäre Ungleichverteilung der Elektronen\n",
    "        Schwache Bindung  "
   ]
  },
  {
   "cell_type": "markdown",
   "id": "1221c518-c24d-4b48-8518-dbfc3c055adf",
   "metadata": {
    "jp-MarkdownHeadingCollapsed": true,
    "tags": []
   },
   "source": [
    "## Stöchiometrie"
   ]
  },
  {
   "cell_type": "markdown",
   "id": "14833a6a-b58e-4d0e-b83d-7d0270bcb115",
   "metadata": {
    "tags": []
   },
   "source": [
    "### Grundgesetze"
   ]
  },
  {
   "cell_type": "markdown",
   "id": "996e1773-6699-483d-be5e-d815c9148251",
   "metadata": {},
   "source": [
    "- die Summe der eingehenden Masse ist gleich der ausgehenden Masse\n",
    "- Massenverhältnisse sind const\n",
    "- Anzahl der Atome bleibt gleich"
   ]
  },
  {
   "cell_type": "markdown",
   "id": "92ee2efe-2720-4c22-9dfe-cd13db3a3528",
   "metadata": {
    "jp-MarkdownHeadingCollapsed": true,
    "tags": []
   },
   "source": [
    "## Nomenklatur"
   ]
  },
  {
   "cell_type": "markdown",
   "id": "3522166d-58ce-4715-9a42-a34801b8d43a",
   "metadata": {},
   "source": [
    "### Nichtmetall + Metall  \n",
    "\n",
    "Name Metall + Name Nichtmetall + id  \n",
    "\n",
    "- Na-Cl  \n",
    "    Natrium + Chlor + id = Natriumchlorid\n",
    "\n",
    "#### Vorsilben\n",
    "\n",
    "1. mono\n",
    "2. di\n",
    "3. tri\n",
    "4. tetra\n",
    "5. penta\n",
    "6. hexa\n",
    "7. penta\n",
    "8. ocata\n",
    "9. nona\n",
    "10. deca\n",
    "\n",
    "Bsp.\n",
    "- $PF_5$  \n",
    "    Phosphor + 5$\\rightarrow$ penta + Flur + id = Phosphorpentaflurid"
   ]
  },
  {
   "cell_type": "markdown",
   "id": "b07c1f2b-697c-44aa-927b-0672ecc03d13",
   "metadata": {
    "jp-MarkdownHeadingCollapsed": true,
    "tags": []
   },
   "source": [
    "### Anwendung Periodensystem"
   ]
  },
  {
   "cell_type": "markdown",
   "id": "45cd6741-d447-452b-ae65-00b4cdc1ea0f",
   "metadata": {},
   "source": [
    "Stoffmenge: $n = 1 [mol]$  \n",
    "\n",
    "![](https://tu-freiberg.de/sites/default/files/media/institut-fuer-energieverfahrenstechnik-143/Carbon-Discovery-Trail/01-board/carbon-element.png)  \n",
    "\n",
    "$c = \\frac{n}{V}$  \n",
    "$n = \\frac{m}{M}$\n",
    "$c_1 \\cdot V_1 = c_2 \\cdot V_2$  \n",
    "    $\\quad c$...Stoffmengekonzentration  \n",
    "    $\\quad n$...Stoffmenge  \n",
    "    $\\quad M$...Molare Masse  \n",
    "    $\\quad V$...Volumen  \n",
    "    $\\quad m$...Masse  \n"
   ]
  },
  {
   "cell_type": "markdown",
   "id": "50b4f466-0474-4429-ac2a-c3fbf3e7c92a",
   "metadata": {
    "jp-MarkdownHeadingCollapsed": true,
    "tags": []
   },
   "source": [
    "## Reaktionsgleichungen"
   ]
  },
  {
   "cell_type": "markdown",
   "id": "543d86e5-1ade-4a4f-b00d-f73885a5fab5",
   "metadata": {},
   "source": [
    "1. Auf beiden seiten sind gleich viele gleiche Atome  \n",
    "2. Die stöchiometrische Koeffizienten sind minimal  \n",
    "\n",
    "$A~+~B\\rightarrow C~+~D$  \n",
    "$A$ und $B$ reagieren zu $C$ und $D$  \n",
    "\n",
    "Zum Ausgleichen der Reaktionsstoffe dürfen nur die stöchiometrischen Faktoren geändert werden, Eingehende und Ausgehende Moleküle dürfen nicht verändert werden  "
   ]
  },
  {
   "cell_type": "markdown",
   "id": "b86dd3cf-194c-4724-a7d3-ca44e2461e77",
   "metadata": {
    "jp-MarkdownHeadingCollapsed": true,
    "tags": []
   },
   "source": [
    "## Reaktionskinetik"
   ]
  },
  {
   "cell_type": "markdown",
   "id": "bd9e4dc9-3a95-4b60-9bdc-3988a9185434",
   "metadata": {
    "tags": []
   },
   "source": [
    "### Massenwirkungsgesetz"
   ]
  },
  {
   "cell_type": "markdown",
   "id": "4b693a48-f8c4-4f34-9c52-1066da0d6113",
   "metadata": {},
   "source": [
    "Bei vermischen von Substanzen welche eine reversible chemische Reaktion eingehen $\\rightarrow$ einstellen eines dynamischen Gleichgewichtes.  \n",
    "\n",
    "$Edukte~\\leftrightarrows~Produkte$  "
   ]
  },
  {
   "cell_type": "code",
   "execution_count": 3,
   "id": "fddcaeb7-59c0-4834-9c0a-c27f1a5f9c3a",
   "metadata": {
    "tags": [
     "remove-input"
    ]
   },
   "outputs": [
    {
     "data": {
      "image/png": "[encoded data removed]",
      "text/plain": [
       "Figure()"
      ]
     },
     "execution_count": 3,
     "metadata": {
      "filenames": {
       "image/png": "D:\\__Programming\\Jupyter\\CompendiumMatura\\_research\\_build\\_page\\NW2-C\\jupyter_execute\\NW2-C_42_0.png"
      }
     },
     "output_type": "execute_result"
    }
   ],
   "source": [
    "xs = 0:.1:5.5\n",
    "\n",
    "fig = Figure(resolution =(1200, 300))\n",
    "\n",
    "ax = Axis(fig[1, 1],\n",
    "    xlabel = \"Zeit/ Reaktionsverlauf\",\n",
    "    ylabel = \"Konzentration\"\n",
    ")\n",
    "lines!(ax, xs,\n",
    "    x-> (ℯ^(-x)*2)+2,\n",
    "    color = :red\n",
    ")\n",
    "lines!(ax, xs,\n",
    "    x->  -(ℯ^(-x) -1)*2,\n",
    "    color = :green\n",
    ")\n",
    "text!(ax, \"Edukte\", position = (1, 3), color = :red)\n",
    "text!(ax, \"Produkte\", position = (1, .8), color = :green)\n",
    "\n",
    "ax2 = Axis(fig[1, 2],\n",
    "    xlabel = \"Zeit/ Reaktionsverlauf\",\n",
    "    ylabel = \"Konzentration\"\n",
    ")\n",
    "lines!(ax2, xs,\n",
    "    x-> (ℯ^(-x)*3)+1,\n",
    "    color = :red\n",
    ")\n",
    "lines!(ax2, xs,\n",
    "    x->  -(ℯ^(-x) -1) * 2.5,\n",
    "    color = :green\n",
    ")\n",
    "text!(ax2, \"Edukte\", position = (1, 3), color = :red)\n",
    "text!(ax2, \"Produkte\", position = (1, .8), color = :green)\n",
    "\n",
    "\n",
    "fig"
   ]
  },
  {
   "cell_type": "markdown",
   "id": "1f9a41d5-7ba2-46e1-a09c-b363824c6771",
   "metadata": {},
   "source": [
    "#### Einflüsse auf das Gleichgewicht\n",
    "\n",
    "- Konzentrationsänderung  \n",
    "- Druckänderung  \n",
    "- Temperaturänderung  "
   ]
  },
  {
   "cell_type": "markdown",
   "id": "79ed2d0d-3c82-4199-8bf1-f17de03de301",
   "metadata": {
    "tags": []
   },
   "source": [
    "### Reaktionsenthalpie"
   ]
  },
  {
   "cell_type": "markdown",
   "id": "b56800ab-6ed8-477e-b8bb-c61b89568760",
   "metadata": {},
   "source": [
    "Beschreibt den Energieumsatz einer chemischen Reaktion  \n",
    "\n",
    "$\\Delta H$ kann positiv oder negativ sein  "
   ]
  },
  {
   "cell_type": "markdown",
   "id": "1b5e3f98-9e57-4e55-8f1f-44f30e1df94b",
   "metadata": {
    "jp-MarkdownHeadingCollapsed": true,
    "tags": []
   },
   "source": [
    "#### Exotherm:  \n",
    "Energie wird frei  \n",
    "$\\Delta H < 0$"
   ]
  },
  {
   "cell_type": "markdown",
   "id": "83b4fd79-b595-46db-8107-9da13d9d6238",
   "metadata": {},
   "source": [
    "![](https://chemiezauber.de/images/b1/wasserstoff/exotherm.jpg)"
   ]
  },
  {
   "cell_type": "markdown",
   "id": "9f72e1c5-5b81-4e8a-8b7a-a28e2064bb89",
   "metadata": {
    "jp-MarkdownHeadingCollapsed": true,
    "tags": []
   },
   "source": [
    "#### Endotherm\n",
    "\n",
    "Energie wird aufgenommen\n",
    "\n",
    "$\\Delta H > 0$"
   ]
  },
  {
   "cell_type": "markdown",
   "id": "7993210c-7826-4d2c-bb52-0917b0a9c557",
   "metadata": {},
   "source": [
    "![](https://chemiezauber.de/images/b1/wasserstoff/endotherm.jpg)"
   ]
  },
  {
   "cell_type": "markdown",
   "id": "2025adb9-aa87-41da-8285-936ae32dbb4d",
   "metadata": {
    "tags": []
   },
   "source": [
    "#### Katalysator  \n",
    "\n",
    "beschleunigt Reaktion\n",
    "verringert die Aktivierungsenergie"
   ]
  },
  {
   "cell_type": "markdown",
   "id": "96913d08-4149-4721-bd59-e7637a35455f",
   "metadata": {},
   "source": [
    "![](https://assets.serlo.org/5e747a3593eb0_4f4035c3f6f64dfc497a2d46a4af14295d77c6ce.png)"
   ]
  },
  {
   "cell_type": "markdown",
   "id": "9eda3719-1dac-4d4f-96e8-84b54caf38f3",
   "metadata": {
    "jp-MarkdownHeadingCollapsed": true,
    "tags": []
   },
   "source": [
    "## Säure Base"
   ]
  },
  {
   "cell_type": "markdown",
   "id": "cf0a9540-81bf-45c8-90e1-3b8b7dec962c",
   "metadata": {
    "tags": []
   },
   "source": [
    "### Säuren + Anionen \n",
    "\n",
    "| Formel    | Name              | Anion       | Name     | Beispiel                   |\n",
    "|-----------|-------------------|-------------|----------|----------------------------|\n",
    "| $H_2SO_4$ | Schwefelsäure     | $SO_4^{2-}$ | Sulfat   | $CuSO_4$...Kupfersulfat    |\n",
    "| $H_2SO_3$ | Schwefelige Säure | $SO_3^{2-}$ | Sulfit   | $NaSO_3$...Natriumsulfit   |\n",
    "| $H_2CO_3$ | Kohlensäure       | $CO_3^{2-}$ | Carbonat | $CaCO_3$...Calciumcarbonat |\n",
    "| $H_3PO_3$ | Phosphorsäure     | $PO_3^{2-}$ | Phosphat | $NaH_2PO_4$...Natriumdihydrogenphosphat|  \n",
    "| $HNO_3$   | Salpetersäure     | $NO_3^{-}$  | Nitrat   | $KNO_3$...Kaliumnitrat     |\n",
    "| $HNO_2$   | Salpeterige Säure | $NO_2^{-}$  | Nitrit   | $NaNO_2$...Natriumnitrit   |\n",
    "| $HClO_4$  | Perchlorsäure     | $ClO_4^{-}$ |Perchlorat| $Mg(ClO_4)_2$...Magnesiumperchlorat|  \n",
    "| $HCOOH$   | Ameisensäure      | $HCOO^-$    | Formiat  | $HCOONa$...Natriumformiat  |\n",
    "| $CH_3COOH$| Essigsäure        | $CH_3COO^-$ | Acetat   | $CH_3COONa$...Natriumacetat|"
   ]
  },
  {
   "cell_type": "markdown",
   "id": "592490ff-1dda-429c-b315-294e46e0c123",
   "metadata": {
    "jp-MarkdownHeadingCollapsed": true,
    "tags": []
   },
   "source": [
    "### Arrhenius"
   ]
  },
  {
   "cell_type": "markdown",
   "id": "8efb5cb5-b2ff-4a34-b2ee-cc33ad2c0aab",
   "metadata": {
    "jp-MarkdownHeadingCollapsed": true,
    "tags": []
   },
   "source": [
    "#### Säure\n",
    "\n",
    "Säuren sind Verbindungen die in Wässrigen Lösungen zu positiven Wasserstoffionen & negativen Säurerest zerfallen (Dissoziation)    \n",
    "\n",
    "\n",
    "$HA\\leftrightarrow H^+ + A^-$  "
   ]
  },
  {
   "cell_type": "markdown",
   "id": "4d82bf7e-ac05-4719-b1f5-da5b82bf7065",
   "metadata": {},
   "source": [
    "#### Base  \n",
    "\n",
    "Basen sind Verbindungen die in der Schmelze und in wässrigen Lösungen zu Metallionen und Hydroxidionen zerfallen (Dissoziation)  \n",
    "\n",
    "$MeOH \\rightarrow Me^+ + OH^-$"
   ]
  },
  {
   "cell_type": "markdown",
   "id": "9c9f0e4f-7c9c-488f-a518-550f9df6a78b",
   "metadata": {
    "jp-MarkdownHeadingCollapsed": true,
    "tags": []
   },
   "source": [
    "### Brönsted"
   ]
  },
  {
   "cell_type": "markdown",
   "id": "01a25c50-3435-4ca2-81f1-c38dc61d08c4",
   "metadata": {},
   "source": [
    "Säuren geben Protonen ab $~\\rightarrow$ Protonendonator  \n",
    "Basen nehmen Protonen auf $\\rightarrow$ Protonenakzeptor  \n",
    "\n",
    "| Säure  | $\\rightarrow$  | Base   | + | $H^+$  |\n",
    "|--------|----------------|--------|---|--------|\n",
    "| $H_2O$ | $\\rightarrow$  | $OH^-$ | + | $H^+$  |\n",
    "| $H_3O$ | $\\rightarrow$  | $H_2O$ | + | $H^+$  |\n",
    "| $HCl$  | $\\rightarrow$  | $Cl^-$ | + | $H^+$  |\n",
    "\n",
    "<!---->\n",
    "Ampholyte\n",
    "    Können als Säure und Base auftreten  \n",
    "    \n",
    "Wasser verhält sich gegenüber Basen wie eine (schwache) Säure und  \n",
    "$\\qquad$ gegenüber Säuren wie eine Base  \n",
    "Säure Base Gleichgewicht  \n",
    "$\\qquad H_2O + H_2O \\rightarrow H_3O^+ + OH^-$"
   ]
  },
  {
   "cell_type": "markdown",
   "id": "4cf5259f-8609-42ea-aba8-aefc089c3e7d",
   "metadata": {
    "jp-MarkdownHeadingCollapsed": true,
    "tags": []
   },
   "source": [
    "### Lewis"
   ]
  },
  {
   "cell_type": "markdown",
   "id": "c6d6eacc-ff90-4531-b815-b5036ef3722d",
   "metadata": {},
   "source": [
    "Säuren sind Elektronenpaarakzeptoren  \n",
    "$\\qquad$($\\rightarrow$ benötigen ein freies orbital)  \n",
    "\n",
    "Basen sind Elektronenpaardonatoren  \n",
    "$\\qquad$($\\rightarrow$ müssen ein freies elektronenpaar besitzen)  \n",
    "\n",
    "\n",
    "<!--![](https://www.lernhelfer.de/sites/default/files/lexicon/article_image/BWS-CHE2-0527-03.gifhttps://www.lernhelfer.de/sites/default/files/lexicon/article_image/BWS-CHE2-0527-03.gif) -->"
   ]
  },
  {
   "cell_type": "markdown",
   "id": "66121773-f31f-46b0-9f40-c75e2adc9935",
   "metadata": {
    "jp-MarkdownHeadingCollapsed": true,
    "tags": []
   },
   "source": [
    "### PH-Skala"
   ]
  },
  {
   "cell_type": "markdown",
   "id": "c9c5aa6a-3264-4b33-b9dc-08686609e12e",
   "metadata": {},
   "source": [
    "- Säuren $< 7$\n",
    "- Neutral $ = 7$\n",
    "- Base $> 7$  \n",
    "\n",
    "Beim vermischen zuerst das Wasser hinzugeben  \n",
    "\n",
    "Der pH-Wert ist ein Maß für den **sauren** oder **basischen** Charakter einer wässrigen Lösung  \n",
    "\n",
    "Definition pH-Wert:\n",
    "    Negativer 10-er-Logarithmus der $H^+$-Ionen  \n",
    "    $pH = -log_{10}~c(H^+)$  \n",
    "\n",
    "Definition pHO-Wert:\n",
    "    Negativer 10-er-Logarithmus der $OH^-$-Ionen  \n",
    "    $pOH = -log_{10}~c(OH^-)$  \n",
    "\n",
    "$pH + pOH  = 14$  "
   ]
  },
  {
   "cell_type": "markdown",
   "id": "5082b703-f020-4746-ac92-a55c77a1ada3",
   "metadata": {
    "jp-MarkdownHeadingCollapsed": true,
    "tags": []
   },
   "source": [
    "### Dissoziationsgrad"
   ]
  },
  {
   "cell_type": "markdown",
   "id": "ad38602d-e4cb-4f38-8829-daa3923eba7d",
   "metadata": {},
   "source": [
    "Stärke einer Säure/Base gibt an wie groß die Tendenz ist ihre Säure ($H^+$) oder Base-Teilchen ($OH^-$) abzugeben  \n",
    "\n",
    "Starke Säuren/Basen: dissoziieren zu fast 100%  \n",
    "Schwache Säuren/Basen: dissoziieren zu ca 1%  \n",
    "\n",
    "der Dissoziationsgrad wird als $\\alpha$ Bezeichnet  \n",
    "$\\alpha = \\frac{c(A^-)}{c_0}$  \n",
    "$\\quad~$$c_0$...Anfangskonzentration der Säure  \n",
    "$\\quad~$$c(A^-)$...Konzentration der negativen Ionen  \n",
    "\n",
    "Lage des Gleichgewichts $\\equiv$ Stärke der Säure\n",
    "\n",
    "$HA + H_2O ~\\leftrightarrows~ H_3O^+ + A^-$  \n",
    "$\\quad$Schwach $\\qquad\\quad$ Stark  "
   ]
  },
  {
   "cell_type": "markdown",
   "id": "a1109bd1-699f-4d9e-9496-2f39db84582d",
   "metadata": {
    "jp-MarkdownHeadingCollapsed": true,
    "tags": []
   },
   "source": [
    "### Gleichgewichtskonstante K"
   ]
  },
  {
   "cell_type": "markdown",
   "id": "87be385b-d116-4e91-91a5-2c3df7e046fe",
   "metadata": {},
   "source": [
    "Zeigt an wie stark eine Säure oder Base in einer Gleichgewichtsreaktion mit Wasser reagiert  \n",
    "\n",
    "- Säuren: $pK_S$ bzw $K_S$  \n",
    "    - Starke Säuren: $pK_s < 0$  \n",
    "    - Schwache Säuren: $pK_S >3.5 $  \n",
    "- Basen : $pK_B$ bzw $K_B$  \n",
    "    - Starke Basen: $pK_B < 0$  \n",
    "    - Schwache Basen: $pK_B > 4.75$  \n",
    "\n",
    "$k_S = \\frac{c(H^+)\\cdot c(A-)}{c(H_2O)}$  \n",
    "\n",
    "$k_B = \\frac{c(OH^-)\\cdot c(HA)}{c(A-)}$  \n",
    "\n",
    "$pK_S = -log_{10}~(k_S)$  \n",
    "$pK_B = -log_{10}~(k_B)$  "
   ]
  },
  {
   "cell_type": "markdown",
   "id": "48e124be-69c5-4d40-b754-7d44294a5bd8",
   "metadata": {},
   "source": [
    "Bei starken Säuren/Basen kann der $pH$/$pOH$ direkt durch die Konzentration berechnet werden  \n",
    "$pH = -log_{10}~c(Säure)$  \n",
    "$pOH = -log_{10}~c(Base)$\n",
    "\n",
    "Bei schwachen Säuren/Basen muss der $pH$/$pOH$ über den $pK_S$/$pK_B$ Wert berechnet werden  \n",
    "\n",
    "$\\qquad pH = \\frac{1}{2}\\cdot (pK_S - log_{10}~c(H^-))$  \n",
    "$\\qquad pOH = \\frac{1}{2}\\cdot (pK_S - log_{10}~c(OH^-)$"
   ]
  },
  {
   "cell_type": "markdown",
   "id": "5f21fad5-d136-4440-9761-e72439260e53",
   "metadata": {},
   "source": [
    "- Starke Säure + Starke Base $~~~~\\quad\\rightarrow$ neutral\n",
    "- Schwache Säure + Starke Base $\\quad\\rightarrow$ basisch  \n",
    "- Starke Säure + Schwache Base $\\quad\\rightarrow$ sauer"
   ]
  },
  {
   "cell_type": "markdown",
   "id": "a944e691-5160-4855-ad15-d2b60c59c26c",
   "metadata": {
    "jp-MarkdownHeadingCollapsed": true,
    "tags": []
   },
   "source": [
    "### Neutralisation"
   ]
  },
  {
   "cell_type": "markdown",
   "id": "5b9a8c82-7c01-4963-bbb1-7b1664e7afe3",
   "metadata": {},
   "source": [
    "Säure reagiert mit Base, heben einander auf  \n",
    "Bei der Neutralisation entsteht immer Wasser und ein Salz\n",
    "\n",
    "Vollständige Neutralisation:  \n",
    "Wenn der pH-Wert danach 7 beträgt"
   ]
  },
  {
   "cell_type": "markdown",
   "id": "5d3c34ea-f161-416e-856e-ee153388e6fd",
   "metadata": {
    "jp-MarkdownHeadingCollapsed": true,
    "tags": []
   },
   "source": [
    "### Indikatoren"
   ]
  },
  {
   "cell_type": "markdown",
   "id": "9a485a19-9305-402b-858b-400c74da19c9",
   "metadata": {},
   "source": [
    "- Thymolblau\n",
    "- Methylorange\n",
    "- Methylrot\n",
    "- Lackmus\n",
    "- Bromthymolblau"
   ]
  },
  {
   "cell_type": "markdown",
   "id": "a49d0434-84f8-4b77-bab8-ef9bbb85dbeb",
   "metadata": {
    "jp-MarkdownHeadingCollapsed": true,
    "tags": []
   },
   "source": [
    "### Titration"
   ]
  },
  {
   "cell_type": "markdown",
   "id": "b99dae69-5b2e-45d3-a580-de14f7707721",
   "metadata": {},
   "source": [
    "Verfahren zum Bestimmen der Stoffmengekonzentration einer unbekannten Säure/Base  \n",
    "\n",
    "Maßlösung wird in Probelösung gegeben bis Indikator $pH = 7$ anzeigt\n",
    "\n",
    "Bei $pH = 7$: Anzahl von $H^+$ und $OH^-$ sind gleich groß  \n",
    "    $\\qquad n(NaOH) = c(NaOH) \\cdot V(NaOH) = n(HCl)$"
   ]
  },
  {
   "cell_type": "code",
   "execution_count": 4,
   "id": "9cbac602-63e3-4cdd-acd8-d3287b3e85d1",
   "metadata": {
    "tags": [
     "remove-input"
    ]
   },
   "outputs": [
    {
     "data": {
      "image/png": "[encoded data removed]",
      "text/plain": [
       "Figure()"
      ]
     },
     "execution_count": 4,
     "metadata": {
      "filenames": {
       "image/png": "D:\\__Programming\\Jupyter\\CompendiumMatura\\_research\\_build\\_page\\NW2-C\\jupyter_execute\\NW2-C_75_0.png"
      }
     },
     "output_type": "execute_result"
    }
   ],
   "source": [
    "xs = -2:.01:2\n",
    "\n",
    "fig = Figure()\n",
    "\n",
    "ax = Axis(fig[1, 1],\n",
    "    title = \"Titration\",\n",
    "    xlabel = \"NaOH / [ml]\",\n",
    "    ylabel = \"pH-Wert\"\n",
    ")\n",
    "\n",
    "ylims!(ax, 0,14)\n",
    "\n",
    "lines!(ax, xs,\n",
    "    x-> 12/(1 + ℯ^(-x*10)) + 1,\n",
    "    color = :red\n",
    ")\n",
    "fig"
   ]
  },
  {
   "cell_type": "markdown",
   "id": "94c557c2-87cb-40d2-bec7-1ad0c283e163",
   "metadata": {
    "tags": []
   },
   "source": [
    "#### pH-Puffer"
   ]
  },
  {
   "cell_type": "markdown",
   "id": "95b371e0-6ae4-42af-96d3-90e4002693a9",
   "metadata": {},
   "source": [
    "ist eine Stoffemenge mit $pK_s = 7$, durch diesen ändert sich der pH-Wert deutlich langsamer  "
   ]
  },
  {
   "cell_type": "code",
   "execution_count": 5,
   "id": "33db29bf-85d8-4fca-9174-9dd0e13b2be5",
   "metadata": {
    "tags": [
     "remove-input"
    ]
   },
   "outputs": [
    {
     "data": {
      "image/png": "[encoded data removed]",
      "text/plain": [
       "Figure()"
      ]
     },
     "execution_count": 5,
     "metadata": {
      "filenames": {
       "image/png": "D:\\__Programming\\Jupyter\\CompendiumMatura\\_research\\_build\\_page\\NW2-C\\jupyter_execute\\NW2-C_78_0.png"
      }
     },
     "output_type": "execute_result"
    }
   ],
   "source": [
    "xs = -2:.01:2\n",
    "\n",
    "fig = Figure()\n",
    "\n",
    "ax = Axis(fig[1, 1],\n",
    "    title = \"Titration\",\n",
    "    xlabel = \"NaOH / [ml]\",\n",
    "    ylabel = \"pH-Wert\"\n",
    ")\n",
    "\n",
    "lines!(ax, xs,\n",
    "    x-> 12/(1 + ℯ^(-x*10)) + 1,\n",
    "    color = :red\n",
    ")\n",
    "\n",
    "lines!(ax, xs, \n",
    "    x-> tan(2.2x/π)/2 + 7\n",
    ")\n",
    "\n",
    "text!(\"Mit Puffer HA (pK_s = 7)\", position=(-1.75, 7))\n",
    "fig"
   ]
  },
  {
   "cell_type": "markdown",
   "id": "d1f70cac-d223-485a-a7c5-9af28f1ce748",
   "metadata": {},
   "source": [
    "pH-Puffer bei Zugabe von $H_3O$  \n",
    "\n",
    "$H_eO^+ + Ac^-~\\rightarrow~H_2O + HAc$  \n",
    "\n",
    "Berechnung des Puffers:  \n",
    "\n",
    "$pH = pK_s + log_{10}~\\frac{c(A-)}{c(HA)}$  "
   ]
  },
  {
   "cell_type": "markdown",
   "id": "22f15ee3-ee6a-4f1f-8b18-99844db7d1da",
   "metadata": {
    "jp-MarkdownHeadingCollapsed": true,
    "tags": []
   },
   "source": [
    "## Redox-Reaktion"
   ]
  },
  {
   "cell_type": "markdown",
   "id": "619e3204-9068-4312-bfd6-6d06dc2d1d26",
   "metadata": {
    "tags": []
   },
   "source": [
    "### Allgemeines"
   ]
  },
  {
   "cell_type": "markdown",
   "id": "ab9958dc-f4de-4555-863d-f7f5858551c2",
   "metadata": {},
   "source": [
    "Gleich Säure-Base nur mit Elektronen\n",
    "\n",
    "Redox besteht aus:  \n",
    "$\\quad$**Re**duktion + **Ox**idation  \n",
    "\n",
    "- Oxidation  \n",
    "    Elektron werden abgegeben ab\n",
    "- Reduktion  \n",
    "    Elektron werden aufgenommen\n",
    "\n",
    "<!---->\n",
    "\n",
    "- Oxidationszahl  \n",
    "    Gibt die Ladung des Atoms an, wenn man die Verbindung in Ionen aufspalten würde  \n",
    "\n",
    "<!---->\n",
    "\n",
    "- Oxidationsmittel  \n",
    "    Stoffe, welche den Reaktionspartner oxidieren lassen und sich selbst reduzieren (Elektronen aufnehmen; meist 6./7. Hpt. Gruppe)\n",
    "- Reduktionsmittel  \n",
    "    Stoffe, welche den Reaktionspartner reduzieren lassen und sich selbst oxidieren (Elektronen abgeben; meist 1./2. Hpt. Gruppe)  \n",
    "\n",
    "#### Redoxreaktion aufstellen  \n",
    "\n",
    "1. Oxidationszahlen bestimmen  \n",
    "2. Elektronen-, Ladungs und Stoffausgleich  \n",
    "3. Gleiche Anzahl an Elektronen  \n",
    "4. Zusammenfassen und Kürzen\n",
    "\n",
    "#### Gekoppelte Reaktion  \n",
    "$Oxidation \\leftrightarrows Reduktion$  \n",
    "\n",
    "- Im elementaren Zustand (als Element) ist die Oxidationszahl Null  \n",
    "- Die Summe der Oxidationszahlen aller Atome eines mehratomigen Ions ist gleich der Ladung des Ions (Oxidationszahl ist rote Zahl am Periodensystem)  \n",
    "- Flur hat immer OxZ $-1$  \n",
    "- Sauerstoff hat meistens $-2$  \n",
    "- Bei verbindungen von Nichtmetallen hat das elektronegative Element eine negative Oxidationszahl\n",
    "  und entspricht der Ionenladung für dieses Element  \n",
    "  \n",
    "#### Reaktionsgleichung ausgleichen  \n",
    "\n",
    "1. Reaktionsgleichung aufstellen  \n",
    "2. Oxidationszahlen bestimmen  \n",
    "3. Oxidation + Reduktion Halbgleichung  \n",
    "4. Gleichung kreuzmultiplizieren  \n",
    "5. Zusammenfügen und Stoffausgleich  \n"
   ]
  },
  {
   "cell_type": "markdown",
   "id": "170baf2b-e251-4e8b-8aa0-2a7ac689d37b",
   "metadata": {
    "jp-MarkdownHeadingCollapsed": true,
    "tags": []
   },
   "source": [
    "# Elektrochemie"
   ]
  },
  {
   "cell_type": "markdown",
   "id": "b86dad67-7fef-4126-b8ea-86eed128ed0b",
   "metadata": {
    "jp-MarkdownHeadingCollapsed": true,
    "tags": []
   },
   "source": [
    "## Galvanisches Element  "
   ]
  },
  {
   "cell_type": "markdown",
   "id": "582c4a22-6db8-4d7b-820a-3f608973dcfb",
   "metadata": {
    "tags": []
   },
   "source": [
    "zur Umwandlung chem-E zu elektr.-E  \n",
    "- Halbelement  \n",
    "    Elektrode welche in ein Elektrolyt eingetaucht wird\n",
    "    - Kupfer-Stab in Kupfer-Salzlösung  \n",
    "    - Zink-Stab in Zink-Salzlösung   \n",
    "\n",
    "\n",
    "Leiter:\n",
    "- Leiter 1-er Klasse\n",
    "    - sind Metalle, Leitfähigkeit aufgrund von Valenzelektronen  \n",
    "    - spezifischer Wiederstand gibt leitfähigkeit an (je kleiner desto größer Leitfähigkeit, Temperaturabhängig NTC,PCT  \n",
    "    - Bester Leiter Silber  \n",
    "    - Addendum -> Halbleiter, Supraleiter\n",
    "        - Halbleiter können durch erhitzen oder Dotieren leitend gemacht werden  \n",
    "        - Bei Supraleiter sinkt der Wiederstand ab einer gewissen T gegen $0$ ab  \n",
    "- Leiter 2-er Klasse  \n",
    "    - Leitfähigkeit entsteht durch aufspaltung der Ionen  \n",
    "        - Starkes erhitzen  \n",
    "        - Auflösen in polarem Lösungsmittel  \n",
    "    - Leiten durch Ionen wanderung  \n",
    "        - Kationen: Positiv geladene Ionen > wandern zur Kathode (Kathode ist $-$)  \n",
    "        - Anionen : Negativ geladene Ionen > Wandern zur Anode (Anode ist $+$)  \n",
    "    - Bsp.: Salzlösungen  \n",
    "        Salzionen werden in Lösung aufgespalten ($NaCl \\rightarrow Na^+ + Cl^-$)  "
   ]
  },
  {
   "cell_type": "markdown",
   "id": "c992a4c4-a405-404b-a73c-b49ef41bee34",
   "metadata": {
    "tags": []
   },
   "source": [
    "## Referenzsystem - Spannungsreihe  "
   ]
  },
  {
   "cell_type": "markdown",
   "id": "008d04f5-baae-4c75-9bfb-0ae2e58316fe",
   "metadata": {
    "jp-MarkdownHeadingCollapsed": true,
    "tags": []
   },
   "source": [
    "Wasserstoffelektrode  \n",
    "- Halbelement  \n",
    "- Bezugspunkt  \n",
    "- Spannung definiert als 0  \n",
    "\n",
    "### Normalspannung\n",
    "\n",
    "- $H$... 0  \n",
    "- Edle Metalle $> 0$  \n",
    "    - lösen sich schwer auf  \n",
    "    - Reaktionsträge  \n",
    "- Unedle Metalle $< 0$  \n",
    "    - Lösen sich leicht auf\n",
    "    - Reaktionsfreudig  \n",
    "    - reduzieren die Ionen der edleren Metalle\n",
    "\n",
    "<!---->\n",
    "Nur Metalle mit **negativer Normalspannung** *lösen* sich in nichtoxidierender **Säure** unter Wasserstoff-Entwicklung  \n",
    "\n",
    "#### Anwendungen Spannungsreihe  \n",
    "\n",
    "- Elektrochemische Sapnnungsquellen \n",
    "- Zersetzungsspannung (für Elektrolyse)  \n",
    "- Elektronchemische Korrosion  \n",
    "\n",
    "<!-- ### Kenngrößen  \n",
    "\n",
    "- Dc für t\n",
    "- Kapazität (Q = 1[Ah] = 3600 [As] = 3600 C)  \n",
    "- Wirkungsgrad  -->\n",
    "\n",
    "### Faradaysche Gesetz  \n",
    "\n",
    "1. $Q = n\\cdot z\\cdot F$  \n",
    "2. $\\frac{m_1}{m_2} = \\frac{M/z_1}{M/z_2}$  \n",
    "\n",
    "$\\quad n...$mol  \n",
    "$\\quad z...$Ladungszahl des Ions  \n",
    "$\\quad Q...$Kapazität  \n",
    "$\\quad F...$Faradaykonstante  "
   ]
  },
  {
   "cell_type": "markdown",
   "id": "bee9844a-cb19-4e2b-b394-e771edb5d7fd",
   "metadata": {
    "tags": []
   },
   "source": [
    "### Elektrochemische Spannungsquelle  "
   ]
  },
  {
   "cell_type": "markdown",
   "id": "a9d75e6b-cece-4a82-94a7-ccd941aea5fb",
   "metadata": {},
   "source": [
    "besteht aus zwei Halbelementen zusammen  \n",
    "\n",
    "Anforderungen:  \n",
    "- System soll stabil sein  \n",
    "- ohne Verzögerung  \n",
    "- Masse/Energie klein  \n",
    "- Temperaturunabhängig  \n",
    "- Wiederaufladbar  \n",
    "- Billig  \n",
    "- Recyclebar  \n",
    "<!---->\n",
    "\n",
    "**WICHTIG:** Elektronen fließen immer vom unedleren zum edleren Metall"
   ]
  },
  {
   "cell_type": "markdown",
   "id": "63950603-e92b-4d1e-a112-34ef782095fb",
   "metadata": {
    "jp-MarkdownHeadingCollapsed": true,
    "tags": []
   },
   "source": [
    "#### Primärelement "
   ]
  },
  {
   "cell_type": "markdown",
   "id": "d21eb5c0-e2de-4803-9e6b-66e06f353e62",
   "metadata": {
    "tags": []
   },
   "source": [
    "chemisch gespeicherte Energie wird elektrisch abgegeben  \n",
    "Reaktion ist freiwillig\n",
    "\n",
    "bei Primärelement unumkehrbar  \n",
    "\n",
    "*Anode* Löst sich auf (Oxidation)  \n",
    "*Kathode* wird vergrößert (Reduktion)  \n",
    "*Elektrolyt* Ionenleiter, ist nicht an Reaktion beteiligt - Reagiert mit Reaktionsprodukten  "
   ]
  },
  {
   "cell_type": "markdown",
   "id": "af6a15ef-08a8-4353-90e2-182392698448",
   "metadata": {
    "tags": []
   },
   "source": [
    "##### Volta-Element  \n",
    "\n",
    "*Anode:* Zink  \n",
    "*Kathode:* Kupfer  \n",
    "*Elektrolyt:* verdünnte Schwefelsäure ($H_2SO_4$)  \n",
    "\n",
    "Anoden-Reaktion: $Zn \\rightarrow Zn^{2+} + 2e^-$  \n",
    "Kathoden-Reaktion: $2H^+ + 2e^- \\rightarrow H_2$  \n",
    "Gesamt: $Zn + 2H \\rightarrow Zn + H_2$  \n",
    "\n",
    "Wegen geringer Spannung viele in Reihe, Voltasche Säule"
   ]
  },
  {
   "cell_type": "markdown",
   "id": "006054ea-8058-43bc-b91f-d4a6e9e70219",
   "metadata": {},
   "source": [
    "![](https://vreund.verbund.at/-/media/blog/beitraege/2011/20111107_batterie1.ashx?la=de&hash=0C617C90B5AD805A76E77FDD32F8CAA496C765D6)"
   ]
  },
  {
   "cell_type": "markdown",
   "id": "ee2b97a8-c7fd-49f9-9a62-498a088fc9a0",
   "metadata": {
    "tags": []
   },
   "source": [
    "##### Zink-Kohle Batterie  \n",
    "\n",
    "*Anode:* Zinkbecher  \n",
    "*Kathode:* Kohlestab und Braunstein(Mangandioxid)  \n",
    "*Elektrolyt:* Ammoniumchloridlösung  \n",
    "\n",
    "- Vom Zink freigesetzte Elektronen fließen über Anode zu Kathode  \n",
    "- Batterie ist entladen, wenn Mangan keine Elektronen mehr aufnehmen kann  \n",
    "\n",
    "Anoden-Reaktion: $Zn \\rightarrow Zn^{2+} + 2e^-$  \n",
    "Kathoden-Reaktion: $2Mn^{4+} + 2e^- \\rightarrow M_n^{~~3+}$    \n",
    "Gesamt: $Zn + 2MnO_2 \\rightarrow ZnO + Mn_2O_3$  "
   ]
  },
  {
   "cell_type": "markdown",
   "id": "c56ea472-38f7-402f-8624-98fd2ab53fdf",
   "metadata": {},
   "source": [
    "![](https://upload.wikimedia.org/wikipedia/commons/thumb/a/a5/Galvanic_cell_labeled.svg/langde-290px-Galvanic_cell_labeled.svg.png)"
   ]
  },
  {
   "cell_type": "markdown",
   "id": "032baf65-6b63-441e-a92e-f59f0ad89945",
   "metadata": {
    "tags": []
   },
   "source": [
    "##### Alkali-Mangan Batterie  \n",
    "\n",
    "(Weiterentwicklung der Zink-Kohle Batterie)  \n",
    "\n",
    "*Anode:* Zinkpulver  \n",
    "*Kathode:* Braunstein  \n",
    "*Elektrolyt:* Alkalische Lösung (z.B. Kalilauge)  \n",
    "\n",
    "- freigesetze Elektronen von Oxidation wandern über Anode zu Kathode  \n",
    "- Zum Ladungsausgleich wandern $OH^-$-Ionen durch Elektrolyten von Kathode zu Anode  \n",
    "\n",
    "Anoden-Reaktion: $Zn \\rightarrow Zn^{2+} + 2e^-$  \n",
    "Kathoden-Reaktion: $2Mn^{4+} + 2e^- \\rightarrow M_n^{~~3+}$    \n",
    "Gesamt: $Zn + 2MnO_2 \\rightarrow ZnO + Mn_2O_3$ "
   ]
  },
  {
   "cell_type": "markdown",
   "id": "9c25ffc7-122a-4242-a2ed-a51fe9cae502",
   "metadata": {},
   "source": [
    "![](https://www.w-hoelzel.de/images/images/chemie/jahrgangsstufen/elektrochemie/04-04-02-ta-batterien---alkali-mangan-batterie.jpg)"
   ]
  },
  {
   "cell_type": "markdown",
   "id": "18051254-c621-4bae-baf0-40c8f66a5ff4",
   "metadata": {
    "tags": []
   },
   "source": [
    "##### Zink-Silberoxid Knopfzelle  \n",
    "\n",
    "*Anode:* Zinkpulver  \n",
    "*Kathode:* Silberoxid  \n",
    "*Elektrolyt:* alkalisch (z.B. verdünnte Kalilauge)  \n",
    "\n",
    "- Zinkpulver wird Oxidiert, Elektronen werden frei, wandern über Anode zu Kathode  \n",
    "- Silberoxid wird beim Entladen zu Silber Reduziert  \n",
    "\n",
    "Anoden-Reaktion: $Zn \\rightarrow Zn^{2+} + 2e^-$  \n",
    "Kathoden-Reaktion: $2Ag^{+} + 2e^- \\rightarrow Ag^-$    \n",
    "Gesamt: $Zn + Ag_2O \\rightarrow ZnO + 2Ag$ "
   ]
  },
  {
   "cell_type": "markdown",
   "id": "cf104be0-6eee-42d1-9310-5f484b5ab257",
   "metadata": {},
   "source": [
    "![](https://upload.wikimedia.org/wikipedia/commons/thumb/3/31/Knopfzelle-2.PNG/440px-Knopfzelle-2.PNG)"
   ]
  },
  {
   "cell_type": "markdown",
   "id": "8ed4a876-9794-42a2-9b37-68003d4774a9",
   "metadata": {
    "jp-MarkdownHeadingCollapsed": true,
    "tags": []
   },
   "source": [
    "### Sekundärelement  \n"
   ]
  },
  {
   "cell_type": "markdown",
   "id": "28b63cd2-f94d-4c78-82e2-b40c24f05880",
   "metadata": {
    "tags": []
   },
   "source": [
    "kann mit Elektrischen Strom wieder aufgeladen werden  \n",
    "\n",
    "Elektroden: Hartbleigitter mit eingepresster Blei bzw Blei(IV)oxid Masse  \n",
    "- Beim Entladen wandeln sich beide Elektroden in Bleisulfat um  \n",
    "- Selbstentladung 1% der Nennkapazität  \n",
    "- Wirkungsgrad ca 72%  \n",
    "     \n",
    "- Laden mit I = cosnt; \n",
    "    Spannung bis Gasungsspannung  \n",
    "    - Immer am Ende des Ladevorganges  \n",
    "    - Negative Elektrode (Pb) $\\rightarrow$ Wasserstoff  \n",
    "    - Positive Elektrode (Pb(IV) $\\rightarrow$ Sauerstoff)  "
   ]
  },
  {
   "cell_type": "markdown",
   "id": "98cb4b66-ea2e-4dc7-a283-3cbb97069304",
   "metadata": {
    "tags": []
   },
   "source": [
    "#### Blei Akku\n",
    "\n",
    "Anode (beim Entladen): Blei  \n",
    "Kathode (beim Entladen): Bleioxid  \n",
    "\n",
    "Vt:\n",
    "- 2V Zellspannung  \n",
    "- Schnell viel Strom  \n",
    "- hohe Sicherheit  \n",
    "- kein Memory-Effekt  \n",
    "- Recyclin einfach  \n",
    "\n",
    "Nt:  \n",
    "- geringe Energiedichte  \n",
    "- relativ schnelle Selbstentladung  \n",
    "- schlechte Lagerfähigkeit  \n",
    "\n",
    "Anodenreaktion: $PbO_2 + 2H^+ + H_2SO_4 + 2e^- \\leftrightarrows PbSO_4 + 2H_2O$  \n",
    "Kathodenreaktion: $Pb + H_2SO_4 \\leftrightarrows PbSO_4 + 2H^+ + 2e^-$  \n",
    "Gesamtreaktion: $Pb + PbO_2 + 2H_2SO_4 \\leftrightarrows 2PbSO_4 + H_2O$  \n",
    "$\\qquad\\qquad\\qquad\\qquad$ Entladen $\\rightarrow$  \n",
    "$\\qquad\\qquad\\qquad\\qquad$ Aufladen $\\leftarrow$  "
   ]
  },
  {
   "cell_type": "markdown",
   "id": "b42fa362-f023-4174-93cb-74c521f710dc",
   "metadata": {},
   "source": [
    "![](https://images.tecchannel.de/bdb/373389/738x415_enlarge.jpg)"
   ]
  },
  {
   "cell_type": "markdown",
   "id": "5318648a-4600-4876-869b-59f1067cbed2",
   "metadata": {},
   "source": [
    "#### Nickel-Eisen Akku\n",
    "\n",
    "*Anode (beim Entladen):* Eisen  \n",
    "*Kathode (beim Entladen):* Nickel\n",
    "\n",
    "Anodenreaktion: $Fe \\leftrightarrows Fe^{2+} + 2e^-$  \n",
    "Kathodenreaktion:  $2Ni^{3+} + 2e^- \\leftrightarrows 2Ni^{2+}$  \n",
    "Gesamtreaktion: $Fe + 2Ni(OH)_3 \\leftrightarrows 2Ni(OH)_2 + Fe(OH)_2$  \n",
    "$\\qquad\\qquad\\qquad\\qquad$ Entladen $\\rightarrow$  \n",
    "$\\qquad\\qquad\\qquad\\qquad$ Aufladen $\\leftarrow$  "
   ]
  },
  {
   "cell_type": "markdown",
   "id": "b306b991-8ab0-434b-aed7-ff5b74a39db7",
   "metadata": {},
   "source": [
    "![](https://encrypted-tbn0.gstatic.com/images?q=tbn:ANd9GcS_FZqHSYTq9NlZGfWyzUQrJyJSGIOkOuxRGg&usqp=CAU)"
   ]
  },
  {
   "cell_type": "markdown",
   "id": "8b22b7bb-fbb3-417e-90bb-cb245dd249d9",
   "metadata": {
    "tags": []
   },
   "source": [
    "#### Nickel-Metallhydrid Akku\n",
    "\n",
    "*Anode (beim Entladen):* Metall-Legierung die H binden kann  \n",
    "*Kathode (beim Entladen):* Nickelhydroxid  \n",
    "*Elektrolyt:* KOH  \n",
    "\n",
    "VT: \n",
    "- hohe Energiedichte  \n",
    "- sehr robust  \n",
    "- sehr temperaturunabhängig  \n",
    "- schnell aufladbar  \n",
    "\n",
    "NT:  \n",
    "- sehr hohe Selbsterhaltungsrate  \n",
    "- neigt zum Memory Effekt  \n",
    "- Batterie verliert durch lange Lagerung an Kapazität  \n",
    "- Zellspannung nur $1.2V$\n",
    "\n",
    "Anodenreaktion: $MH + OH \\leftrightarrows M + H_2O + e^-$  \n",
    "Kathodenreaktion: $NiO(OH) + H_2O + e^- \\leftrightarrows Ni(OH)_2 + OH^-$  \n",
    "Gesamtreaktion: $MH + NiO(OH) \\leftrightarrows M + Ni(OH)_2$  \n",
    "$\\qquad\\qquad\\qquad\\qquad$ Entladen $\\rightarrow$  \n",
    "$\\qquad\\qquad\\qquad\\qquad$ Aufladen $\\leftarrow$  "
   ]
  },
  {
   "cell_type": "markdown",
   "id": "61f95c80-a2dd-47d3-b372-d734d80a5c17",
   "metadata": {},
   "source": [
    "![](https://alles-mit-akku.de/wp-content/uploads/2019/10/Nickel-Metall-Hydrid.jpg)"
   ]
  },
  {
   "cell_type": "markdown",
   "id": "f5953617-767d-41bb-ab28-054c3a10ab87",
   "metadata": {
    "jp-MarkdownHeadingCollapsed": true,
    "tags": []
   },
   "source": [
    "#### Lithium Ionen Akku\n",
    "\n",
    "*Anode (beim Entladen):* Graphit, Silizium, Zinn(IV)oxid  \n",
    "*Kathode (beim Entladen):* $LiCoO_2$, $LiMnO_2$, $LiNiO_2$  \n",
    "*Elektrolyt:* Li-Salz in Wasserfreien Lösungsmitteln  \n",
    "\n",
    "VT:  \n",
    "- sehr hohe Energiedichte  \n",
    "- hohe Zellspannung $3.6V$  \n",
    "- kein Memory-Effekt  \n",
    "- sehr geringe Selbstentladung  \n",
    "- sehr klein möglich  \n",
    "NT:  \n",
    "- teuer  \n",
    "- spezielle Ladetechnik  \n",
    "- kälte Empfindlich"
   ]
  },
  {
   "cell_type": "markdown",
   "id": "3c7d93cf-276c-4600-a167-90a5c687f5b3",
   "metadata": {
    "jp-MarkdownHeadingCollapsed": true,
    "tags": []
   },
   "source": [
    "### Brennstoffzelle"
   ]
  },
  {
   "cell_type": "markdown",
   "id": "970d77fd-7e44-4478-bb5d-98f378fa3d45",
   "metadata": {
    "tags": []
   },
   "source": [
    "Hier reagiert zugeführter Brennstoff mit einem Oxidationsmittel und wird in elektrische Energie umgewandelt  \n",
    "\n",
    "Es entsteht: Reaktionsprodukt(Wasser bei Wasserstoffbrennstoffzelle) + Strom + Wärme  \n",
    "\n",
    "#### Aufbau  \n",
    "- Zwei Elektroden  \n",
    "- Elektrolyt  \n",
    "    - verantwortlich um die Elektroden zu trennen  \n",
    "    - verantwortlich für den Ionentransport  \n",
    "    - lässt nur Protonen durch\n",
    "#### Bsp.: Wasserstoff-Brennstoffzelle  \n",
    "\n",
    "\n",
    "- An der Anode wird Wasserstoff zugeführt  \n",
    "  An der Kathode Sauerstoff  \n",
    "- Wasserstoff wird in positive Ionen und Elektronen aufgeteilt\n",
    "    - Elektronen wandern über Anionen zur Kathode (Stromfluss)  \n",
    "    - Protonen gelangen durch den Seperator zur Kathode  \n",
    "- An der Kathode\n",
    "    - 2 Elektronen suchen sich einen Sauerstoff und reduzieren ihn zu $O^{~~2-}$  \n",
    "    - mit den Wasserstoff-Protonen wird Wasser gebildet"
   ]
  },
  {
   "cell_type": "markdown",
   "id": "de0bf35b-c738-4875-b9f5-1117f2116693",
   "metadata": {},
   "source": [
    "![](https://upload.wikimedia.org/wikipedia/commons/thumb/a/a2/Brennstoffzelle_funktionsprinzip.png/340px-Brennstoffzelle_funktionsprinzip.png)  "
   ]
  },
  {
   "cell_type": "markdown",
   "id": "a70d8fd1-a820-4fee-a885-3382929ac535",
   "metadata": {
    "jp-MarkdownHeadingCollapsed": true,
    "tags": []
   },
   "source": [
    "### Elektrolyse"
   ]
  },
  {
   "cell_type": "markdown",
   "id": "03546e36-e249-41f2-98eb-850275d25b5a",
   "metadata": {},
   "source": [
    "Aufspaltung chemischer Verbindungen durch elektrischen Strom\n",
    "  \n",
    "Anlegen von Gleichstrom => Elektrodenreaktion  \n",
    "- Kathodenreaktion  \n",
    "    Kationen wander zur Kathode  \n",
    "    Reduktion  \n",
    "- Anodenreaktion  \n",
    "    Anionen wandern zur Anode  \n",
    "    Oxidation  \n",
    "\n",
    "**Es oxidiert der Stoff mit dem geringsten Standardpotential**  \n",
    "**Es reduziert der Sotff mit dem höheren Standardpotential**  \n",
    "\n",
    "Die min Spannung wird Zersetzspannung genannt  "
   ]
  },
  {
   "cell_type": "markdown",
   "id": "c4d05794-9d15-44b2-a0de-842b3ea1a951",
   "metadata": {
    "jp-MarkdownHeadingCollapsed": true,
    "tags": []
   },
   "source": [
    "### Schmelzflusselektrolyse"
   ]
  },
  {
   "cell_type": "markdown",
   "id": "81c0cc1e-74a0-4395-81ad-54e57dd44960",
   "metadata": {},
   "source": [
    "Elektrolyse von Schmelzen einfacher Salze  \n",
    "- An der Kathode entsteht das Metall  \n",
    "- An der Anode entsteht das Nichtmetall  "
   ]
  },
  {
   "cell_type": "markdown",
   "id": "5f6debcf-ebdc-416d-a9e8-d458f043b39b",
   "metadata": {
    "jp-MarkdownHeadingCollapsed": true,
    "tags": []
   },
   "source": [
    "### Überspannung"
   ]
  },
  {
   "cell_type": "markdown",
   "id": "bee957b7-bc95-4d33-9c3c-925153b9f5c8",
   "metadata": {},
   "source": [
    "Zersetzspannung Differenz von Standardpotentialen  \n",
    "\n",
    "Überspannung durch hohe Aktivierungsenergien  \n",
    "\n",
    "Passivierung:  \n",
    "$\\quad$Verhinderung der Auflösung durch Oxidschichten  "
   ]
  },
  {
   "cell_type": "markdown",
   "id": "fbedc3ff-dd21-4399-966e-805664f90551",
   "metadata": {},
   "source": [
    "### Anwendung"
   ]
  },
  {
   "cell_type": "markdown",
   "id": "30401e92-4da8-4f4e-9327-09e7eb6ace60",
   "metadata": {},
   "source": [
    "- Metallurgie  \n",
    "    Gewinnung und Reinigung von Metallen  \n",
    "- Grundstoffindustrie  \n",
    "    Gewinnung von Nichtmetallen und Verbindungen  \n",
    "- Galvanotechnik  \n",
    "    Überzüge zum Korrosionsschutz  "
   ]
  },
  {
   "cell_type": "markdown",
   "id": "1efcde29-0a2c-4253-b5bc-4a2862da2104",
   "metadata": {
    "jp-MarkdownHeadingCollapsed": true,
    "tags": []
   },
   "source": [
    "#### Elektrolyse des Wassers  \n",
    "\n",
    "Leitfähigkeit erhöhen \n",
    "    $\\quad$Schwefelsäure hizugeben  \n",
    "Elektrodenmeterial:  \n",
    "    $\\quad$möglichst niedrige Überspannung vor Wasserstoff + Sauerstoff $\\rightarrow$ Edelmetallbeschichtung  \n",
    "Zersetzungsspannung aufgrund der Überspannung sehr hoch  \n",
    "    Theo: $1.2V\\qquad$ Praktisch: $1.8V$  \n",
    "\n",
    "Gesamtreaktion: $2 H_2 O~\\rightarrow~ 2H_2 O$  \n",
    "Oxidation: $2 O^{2-} \\rightarrow O_2^{~~0} + 2e^-$  \n",
    "Reduktion: $H_2^+ + 2e^- \\rightarrow H_2^{~~0}$"
   ]
  },
  {
   "cell_type": "markdown",
   "id": "4d5109dc-5928-4235-98cb-92c90a2c98ea",
   "metadata": {
    "tags": []
   },
   "source": [
    "#### Kupferelektrolyse  \n",
    "\n",
    "Reinigung von Rohkupfer  \n",
    "Zersetzungsspannung: .4V  \n",
    "Prinzip:  \n",
    "Verunreinigungen elder als Kupfer gehen nicht in Lösung und gehen zu Boden  \n",
    "Verunreinigungen undedler als Kupfer bleiben in Lösung, da die Spannung nicht ausreicht, damit sie Oxidiert werden können  \n",
    "\n",
    "Kathode: $C_u^{2+} + 2e^- \\rightarrow C_u$  \n",
    "Anode: $C_u \\rightarrow C_u^{+2} + 2e^{-}$"
   ]
  },
  {
   "cell_type": "markdown",
   "id": "92516353-1bd5-4036-9e61-661742ef12ea",
   "metadata": {},
   "source": [
    "#### Chloralkalielektrolse  \n",
    "\n",
    "Elektrolyse wässriger Lösungen  \n",
    "Herstellung $NaOH$  \n",
    "Kathode: $H + NaOH$ $\\qquad$ $2 H + 2e^- \\rightarrow H_2$  \n",
    "Anode: $Cl$-Gas$\\qquad\\qquad\\quad$ $2 Cl^- -2e^- \\rightarrow 2 Cl$  \n",
    "Gesamt: $2 Na Cl + 2H_2O \\rightarrow 2 NaOH + H_2 + Cl_2$  "
   ]
  },
  {
   "cell_type": "markdown",
   "id": "16bd35bf-dfb4-429d-9e6e-773738079ac1",
   "metadata": {},
   "source": [
    "### Aluminiumelektrolyse"
   ]
  },
  {
   "cell_type": "markdown",
   "id": "f808773a-284c-4c48-b8cb-8fcad83f49dc",
   "metadata": {},
   "source": [
    "Negatives Standardpotential $\\rightarrow$ aus Schmelze und nicht aus Wässriger Lösung  \n",
    "\n",
    "$Al_2O_3$ aus Bauxit und Kryolith  \n",
    "$I = 200,000A$  \n",
    "\n",
    "Kathode: $Al^{3+} + 3e^- \\rightarrow Al$  \n",
    "Anode: $2 O^{-2} + C\\rightarrow CO_2 + 4e^-$  \n",
    "Gesamt: $2Al_2O_3 + 3C \\rightarrow 3CO_2 + 4Al$  \n",
    "\n",
    "![](https://upload.wikimedia.org/wikipedia/commons/thumb/2/2f/Bayer-Verfahren.svg/1920px-Bayer-Verfahren.svg.png)\n",
    "\n",
    "![](https://www.maschinenbau-wissen.de/bilder/skripte/werkstofftechnik/aluminium-herstellung-05.PNG)"
   ]
  },
  {
   "cell_type": "markdown",
   "id": "fd6db9ed-0f63-477d-838d-6f687ddc9503",
   "metadata": {
    "jp-MarkdownHeadingCollapsed": true,
    "tags": []
   },
   "source": [
    "## Korrosion"
   ]
  },
  {
   "cell_type": "markdown",
   "id": "7fcc6c18-4764-4f2f-90df-8b05542ad7c2",
   "metadata": {},
   "source": [
    "von Oberfläche ausgehende Veränderung eines Werkstoffes, welcher dabei zerstört wird  \n",
    "\n",
    "4% von BSP verloren (11.8 Milliarden)\n",
    "\n",
    "- Gleichförmige Korrosion  \n",
    "    Abtrag der Oberfläche an allen Stellen mit gleicher Geschwindigkeit  \n",
    "    geringe Probleme bei richtiger Dimensionierung  \n",
    "- Lokale Korrosion  \n",
    "    an bestimmte stellen schneller  \n",
    "    - Risskorrosion  \n",
    "        erst im Nachhinein sichtbar  \n",
    "    - Kontaktkorrosion  \n",
    "        an Berührungsstelle von Werkstoffen  \n",
    "    - interkristalline Korrosion  \n",
    "        harrfeine Risse entstehen, Äußerlich nicht erkennbar  \n",
    "<!--![](https://media.springernature.com/lw685/springer-static/image/chp%3A10.1007%2F978-3-658-29484-7_8/MediaObjects/290007_5_De_8_Fig3_HTML.png)  -->"
   ]
  },
  {
   "cell_type": "markdown",
   "id": "986fbe8c-717f-4927-9521-798b1854c5e1",
   "metadata": {},
   "source": [
    "### Ursachen  "
   ]
  },
  {
   "cell_type": "markdown",
   "id": "e5a0a438-cff2-4bd8-8b0f-93b00ea90ac1",
   "metadata": {
    "jp-MarkdownHeadingCollapsed": true,
    "tags": []
   },
   "source": [
    "- (Elektro-) Chemische Vorgänge  \n",
    "    - Gase  \n",
    "    - durch Säuren/ Basen  \n",
    "    - aggressive Wässer  \n",
    "\n",
    "    Elektrochemisch:\n",
    "    - ausbildung galvanischer Elemente  \n",
    "    - Unterschiedliche Materialien mit Elektrolyt verbunden  \n",
    "    - Auch an Legierungen (Schweißnähte + Lötstellen)  \n",
    "- Physikalische Einwirkung  \n",
    "- Microorganismen  \n",
    "\n",
    "#### Rostbildung bei Eisen und Stahl  \n",
    "\n",
    "Randzone:  \n",
    "    $\\qquad$Eisen oxidiert und löst sich im Wasser $\\qquad$ $2 Fe \\rightarrow 4e^- + 2Fe^{2+}$  \n",
    "    $\\qquad OH^-$-Ionen lösen sich im Wasser  $\\qquad$ $O_2 + 2H_2O - 4e^-\\rightarrow 4OH^-$  \n",
    "\n",
    "- Auf Stahl/Eisen  \n",
    "    Unterschiedliche Kristallstruktur $\\rightarrow$  \n",
    "    Haftet nicht $\\rightarrow$ Reaktion läuft weiter\n",
    "- Auf Aluminium  \n",
    "    Ähnliche Kristallstruktur $\\rightarrow$  \n",
    "    Bildet $Al_2O_3$-Schutzschicht $\\rightarrow$ Reaktion stoppt  \n",
    "- Kupfer  \n",
    "    Ähnliche Kritallstruktur $\\rightarrow$  \n",
    "    Bildet $CuO$-Schutzschicht $\\rightarrow$ Reaktion stoppt  "
   ]
  },
  {
   "cell_type": "markdown",
   "id": "acf0ea74-b5d9-48b9-9679-8977c6aba4b7",
   "metadata": {
    "jp-MarkdownHeadingCollapsed": true,
    "tags": []
   },
   "source": [
    "## Korrosionsschutz  "
   ]
  },
  {
   "cell_type": "markdown",
   "id": "7d602a9c-41d8-4111-8225-841049c45bbc",
   "metadata": {},
   "source": [
    "Korrosion an Phasengrenzflächen  \n",
    "\n",
    "- Maßnahmen am Werkstoff  \n",
    "    - Korrosionsbeständige Materialen\n",
    "    - Kontaktkorrosion vermeiden  \n",
    "- Maßnahmen am Medium  \n",
    "    - Entzug on Feuchtigkeit  \n",
    "    - Korrosionshemmer  \n",
    "- Maßnahme an Phasengrenze  \n",
    "    - Beschichtung  \n",
    "\n",
    "### Beschichtung  \n",
    "\n",
    "Vorbereiten  \n",
    "Bürsten, schleifen, ...  \n",
    "beizen, spülen und trocknen, ...  \n",
    "\n",
    "- Überzüge  \n",
    "    - Thermische Auftragung  \n",
    "        - Aufwalzen  \n",
    "        - Tauchen in flüssige Metalle  \n",
    "    - Elektrolytische Auftragung  \n",
    "        - das Werkstück ist im Beschichtungsprozess als Kathode geschaltet  \n",
    "        - Anode besteht aus Überzugsmaterial\n",
    "        - Elektrolyt: Wässrige Lösung eines Salzes des Überzugsmaterials  \n",
    "        - Einflussfaktoren: Temperatur, Badspannung, Stromdicht, Elektrolytzusätze,...  \n",
    "        \n",
    "    - Anorganische\n",
    "        - Thermisch\n",
    "            - Email  \n",
    "        - Elektrolytisch  \n",
    "            - Eloxieren  \n",
    "            - in $SO_4$  und mit Heißwasser  \n",
    "   - Organische\n",
    "       - Aufkleben einer dicken Kunststoff-/Gummi-Folie  \n",
    "       - Lack  \n",
    "           - Bindemittel, Lösungsmittel, Pigmente, ...  \n",
    "           \n",
    "Aktiver Katodischer Korrosionsschutz  \n",
    "- Leitfähige Verbindung mit unedleren Metall(Anode)  \n",
    "    dient als Opfer-Anode  "
   ]
  },
  {
   "cell_type": "markdown",
   "id": "b60b0dc6-071a-4554-ab90-0ecbd989e751",
   "metadata": {
    "jp-MarkdownHeadingCollapsed": true,
    "tags": []
   },
   "source": [
    "# Chemische Technologie"
   ]
  },
  {
   "cell_type": "markdown",
   "id": "f8df7ab2-d685-49ab-ac99-c1e9e3a18653",
   "metadata": {
    "jp-MarkdownHeadingCollapsed": true,
    "tags": []
   },
   "source": [
    "## Fossile Rohstoffe"
   ]
  },
  {
   "cell_type": "markdown",
   "id": "f969c22c-1030-4b78-8fe4-298ece755eac",
   "metadata": {
    "jp-MarkdownHeadingCollapsed": true,
    "tags": []
   },
   "source": [
    "### Kohle & Torf"
   ]
  },
  {
   "cell_type": "markdown",
   "id": "3ef4d573-d54b-42a8-9cf9-18e66691fc84",
   "metadata": {},
   "source": [
    "- Aus pflanzlichen Überresten  \n",
    "- Erste Stufe der Kohlebildung ist Torf  \n",
    "- Durch großer Druck Torf => Braunkohle  \n",
    "    - mit noch mehr Druck => Steinkohle  \n",
    "- Steinkohle wenig verunreinigung => hohe Dichte => hoher Brennwert  "
   ]
  },
  {
   "cell_type": "markdown",
   "id": "24cc2354-6050-4e0f-9c72-129608dd834a",
   "metadata": {
    "jp-MarkdownHeadingCollapsed": true,
    "tags": []
   },
   "source": [
    "#### Einsatzgebiete  "
   ]
  },
  {
   "cell_type": "markdown",
   "id": "05a3cfbb-4d9a-41c6-a097-aebfaed72b12",
   "metadata": {},
   "source": [
    "\n",
    "- Heizung  \n",
    "- Filterung von Schadstoffen  \n",
    "- Rohstoff  \n",
    "- Kunststoffe  \n",
    "- Pflanzenschutz"
   ]
  },
  {
   "cell_type": "markdown",
   "id": "ae206710-9efb-45fc-ae8e-352ae7ef337c",
   "metadata": {
    "jp-MarkdownHeadingCollapsed": true,
    "tags": []
   },
   "source": [
    "### Erdöl"
   ]
  },
  {
   "cell_type": "markdown",
   "id": "332cfe90-f7ab-4ca1-b416-decdd2c9f13d",
   "metadata": {},
   "source": [
    "- Aus Kleinstlebewesen  \n",
    "- unter sauerstoffreichen Wasser im Schlamm angesammelt  \n",
    "- Erdkruste setze sich ab => hoher Druck => entstehung  \n",
    "- Geringe Dichte => sammelt sich im durchlässigen Gestein  \n",
    "    - tritt an manchen Stellen an die Oberfläche"
   ]
  },
  {
   "cell_type": "markdown",
   "id": "895049b6-83f3-4077-8482-0693a3077fc5",
   "metadata": {
    "jp-MarkdownHeadingCollapsed": true,
    "tags": []
   },
   "source": [
    "#### Einsatzgebiete  "
   ]
  },
  {
   "cell_type": "markdown",
   "id": "a8b039ea-7a78-42b1-8851-fe54d2d133c7",
   "metadata": {},
   "source": [
    "\n",
    "- Treibstoff  \n",
    "- Heizung  \n",
    "- Kunststoffe  \n",
    "- Wasch-/ Reinigungsmittel  \n",
    "- Medikamente"
   ]
  },
  {
   "cell_type": "markdown",
   "id": "d1cdee56-ea43-4f1e-ae33-c0d0f12f75a1",
   "metadata": {
    "jp-MarkdownHeadingCollapsed": true,
    "tags": []
   },
   "source": [
    "### Erdgas"
   ]
  },
  {
   "cell_type": "markdown",
   "id": "a671a67e-8fd4-4963-a9b0-6656e9eb3f32",
   "metadata": {},
   "source": [
    "- Entstehung == Erdöl  \n",
    "- Hat sich über Erdöl angereichert  \n",
    "- Gas (großteil Methan)  \n",
    "    - ungiftig  \n",
    "    - brennbar  \n",
    "    - Farb und Geruchslos  "
   ]
  },
  {
   "cell_type": "markdown",
   "id": "cfa55cd8-3719-47c0-b3c0-8d0a775f9fd5",
   "metadata": {
    "jp-MarkdownHeadingCollapsed": true,
    "tags": []
   },
   "source": [
    "#### Erdgas"
   ]
  },
  {
   "cell_type": "markdown",
   "id": "4fd875fc-08ad-4f56-b76e-7d88ef671aee",
   "metadata": {},
   "source": [
    "- Heizung  \n",
    "- Herde und Öfen  \n",
    "- Energiegewinnung  \n",
    "- Rohstoffe für chemische Industrie  "
   ]
  },
  {
   "cell_type": "markdown",
   "id": "77124b0c-7c24-4a67-becf-1e7816cf9087",
   "metadata": {
    "jp-MarkdownHeadingCollapsed": true,
    "tags": []
   },
   "source": [
    "### Probleme"
   ]
  },
  {
   "cell_type": "markdown",
   "id": "52349dd6-1a52-4c9d-b9bf-17321a64082c",
   "metadata": {},
   "source": [
    "- Treibhauseffekt  \n",
    "- Öl verseucht den Boden\n",
    "- wenig Reserven  \n",
    "- nicht erneuerbar"
   ]
  },
  {
   "cell_type": "markdown",
   "id": "30df2494-9d4d-4faa-be02-6dd369f9b3ec",
   "metadata": {
    "jp-MarkdownHeadingCollapsed": true,
    "tags": []
   },
   "source": [
    "## Petrochemie  "
   ]
  },
  {
   "cell_type": "markdown",
   "id": "0bacff3d-57f1-4070-b50d-97c0e3b4808a",
   "metadata": {},
   "source": [
    "Erzeugung von Produkten auf Erdölbasis  \n",
    "\n",
    "meist Synthese von Kohlenwasserstoffen mit Erdöl/Erdgas-Basis  "
   ]
  },
  {
   "cell_type": "markdown",
   "id": "1e9c710f-b0de-456c-a2c8-564db6bba3fe",
   "metadata": {
    "jp-MarkdownHeadingCollapsed": true,
    "tags": []
   },
   "source": [
    "### Beispiel Produkte  "
   ]
  },
  {
   "cell_type": "markdown",
   "id": "d62cfb9d-b0bb-4847-9311-c5bea381eb5e",
   "metadata": {},
   "source": [
    "Kunststoffe, Weichmacher, Waschroohstoffe, Lösemittel, Vorprodukte für die Weiterverarbeitung  "
   ]
  },
  {
   "cell_type": "markdown",
   "id": "17ba8970-b355-40c4-a4a2-e5837ebd78c6",
   "metadata": {
    "jp-MarkdownHeadingCollapsed": true,
    "tags": []
   },
   "source": [
    "### Destillation von Erdöl  "
   ]
  },
  {
   "cell_type": "markdown",
   "id": "2ba8107e-f86a-47e4-bd13-075c1e37f31b",
   "metadata": {},
   "source": [
    "- abhängig v Siedepunkt -> Öl wird in Bestandteile zerlegt  \n",
    "    genannt:\n",
    "- Fraktionieren  \n",
    "    - Cracken von Carbon-Ketten => Abbau des Moleküls (Ungesättigte Verbindungen)  \n",
    "    - Diesel höhere Temperatur $\\rightarrow$  \n",
    "      Diesel längere Carbon-Ketten (als z.B. Benzin)  "
   ]
  },
  {
   "cell_type": "markdown",
   "id": "cd9f3401-6012-4088-aee2-ceddb1ac40cf",
   "metadata": {},
   "source": [
    "![](https://yclat-resources.azureedge.net/d16c9847-7899-48dd-97fb-0ce251d08df0/FraktionierteDestillation_adapted.png)"
   ]
  },
  {
   "cell_type": "markdown",
   "id": "02178b16-89ae-45a1-aa51-68a399697567",
   "metadata": {},
   "source": [
    "## Bierbrauen"
   ]
  },
  {
   "cell_type": "markdown",
   "id": "12c1966a-3043-4e78-b8bc-32f985e38031",
   "metadata": {
    "jp-MarkdownHeadingCollapsed": true,
    "tags": []
   },
   "source": [
    "### Rohstoffe"
   ]
  },
  {
   "cell_type": "markdown",
   "id": "d969fffb-7091-4bb8-8db2-dea7c96c93b3",
   "metadata": {},
   "source": [
    "- Wasser  \n",
    "    Hat Einfluss auf die Qualität und Charakteristiken (Geschmack, Mundgefühl)  \n",
    "    - pH-Wert\n",
    "    - Mineralgehalt  \n",
    "    - Wasserhärte  \n",
    "        Kalk gehalt in Grad Deutscher Härte  \n",
    "        Braunau: 16°dH  \n",
    "    verschiedene Aufbereitungsmethooden  \n",
    "    - Destillieren  \n",
    "    - Neutralisieren  \n",
    "    - Osmose-Anlage  \n",
    "        Filtern über halbdurchlässige Membran  \n",
    "        \n",
    "- Malz  \n",
    "    Vorbereitung  \n",
    "    1. Keimen lassen\n",
    "        Enzyme entstehen\n",
    "    2. Darren (trocknen)  \n",
    "    3. Rösten  \n",
    "    \n",
    "    Durch das Keimen werden wichtige Enzyme gebildet, welche die Reservestoffe des Korns aufschließen  \n",
    "    Amylasen -> zum Abbau der Stärke  \n",
    "- Hopfen  \n",
    "    bestimmt Geschmack\n",
    "    - bitter, blumig, fruchtig  \n",
    "    - Ausschlaggebend ist der IBU-Wert  \n",
    "        $IBU = \\frac{Hopfenmenge[g] \\cdot Alphasäuregehalt[\\%]\\cdot Ausnutzung[\\%]}{Ausschlagmenge[l] * 10}$  \n",
    "        \n",
    "    für Haltbarkeit  \n",
    "    verantwortlich für Schaum  \n",
    "    \n",
    "- Hefe  \n",
    "    Eukaryot  \n",
    "    Zwei Arten:  \n",
    "    - Obergärige Hefe  \n",
    "        Schwimmt oben  \n",
    "        $T = [15, 20] °C$  \n",
    "        Zeit: 2-3 Wochen\n",
    "    - Untergärige Hefe  \n",
    "        Sinkt zu Boden  \n",
    "        $T = [4, 9] °C$  \n",
    "        Zeit: 10 Wochen  \n",
    "\n",
    "\n",
    "Umwandlung Zucker $\\rightarrow$ Alkohol:\n",
    "\n",
    "$C_6H_{12}O_6~\\rightarrow~2CH_3CH_2OH + 2CO_2$  "
   ]
  },
  {
   "cell_type": "markdown",
   "id": "9407bff6-bcd4-4d70-b0b1-063cd11d3f69",
   "metadata": {
    "jp-MarkdownHeadingCollapsed": true,
    "tags": []
   },
   "source": [
    "### Brauprozess"
   ]
  },
  {
   "cell_type": "markdown",
   "id": "d948a2bb-438d-4681-8b84-09a6ed379f8b",
   "metadata": {},
   "source": [
    "![](https://brauer-bund.de/wp-content/uploads/2020/06/180306-Grafik-Brauprozess-kleiner.jpg)"
   ]
  },
  {
   "cell_type": "markdown",
   "id": "2a5e7771-f9d5-4c85-9992-72ea62c40cde",
   "metadata": {},
   "source": [
    "#### Maischen  "
   ]
  },
  {
   "cell_type": "markdown",
   "id": "5de44073-4f6c-43bf-85ef-4a2674909039",
   "metadata": {},
   "source": [
    "Malz wird geschrotetet und unter zurühren in erhitztes Wasser hinzugegeben  \n",
    "Die Typische Temperatur des Wassers ist dabei ca $52°C$  \n",
    "\n",
    "##### Enzymaktivitäten  \n",
    "- Eiweißrast (Proteasen)  \n",
    "- Maltoserast ($\\beta$-Amylase)  \n",
    "- ...\n",
    "\n",
    "Das Ende wird mit einer Iodprobe überprüft:\n",
    "- Iod lagert sich in der Stärke Helix ein -> Iod Stärke ist blau  \n",
    "- Wird stärke zu zucker abgebaut kann dieser Komplex nicht mehr gebildet werden -> Gelb  \n"
   ]
  },
  {
   "cell_type": "markdown",
   "id": "b5413974-a40a-46e5-a8bf-5d9605fb80da",
   "metadata": {},
   "source": [
    "#### Maisch-Plan  "
   ]
  },
  {
   "cell_type": "markdown",
   "id": "244462ff-2362-4b43-bcaa-af6393bae9b4",
   "metadata": {},
   "source": [
    "![](https://patentimages.storage.googleapis.com/2f/66/6b/b8b4d268e8c168/00110002.png)"
   ]
  },
  {
   "cell_type": "markdown",
   "id": "58cf6803-8fb3-49b8-b475-74ef48eeeec1",
   "metadata": {},
   "source": [
    "#### Läutern  "
   ]
  },
  {
   "cell_type": "markdown",
   "id": "9e578206-57e4-42f3-987d-1f10cc9fb27c",
   "metadata": {},
   "source": [
    "Trennen der flüssigen/festen Bestandteile  \n",
    "Es wird ein natürlicher Filter gebildet (Treber)  \n",
    "Der Mahlgrad des Malzes ist entscheidend (Spelzen)  "
   ]
  },
  {
   "cell_type": "markdown",
   "id": "9fe8b78b-b67a-4ec9-9186-31bfcfe8ef89",
   "metadata": {},
   "source": [
    "#### Würzekochen"
   ]
  },
  {
   "cell_type": "markdown",
   "id": "d9948acc-bd66-40fe-822f-d7080b607ccc",
   "metadata": {},
   "source": [
    "Das Wasser soll verdampfen  \n",
    "    Das Eiweiß denaturiert  \n",
    "Dieser Schritt macht das Bier haltbar  \n",
    "\n",
    "##### Hopfengabe  \n",
    "\n",
    "- Frühe gabe: bitter\n",
    "- Späte Gabe: fruchtiger, weniger bitter  "
   ]
  },
  {
   "cell_type": "markdown",
   "id": "74888abc-2939-4d1f-ac2f-b18c256b93a0",
   "metadata": {},
   "source": [
    "### Whirlpool"
   ]
  },
  {
   "cell_type": "markdown",
   "id": "e9e8e153-d59c-4a86-9a29-f8dae5a35a1a",
   "metadata": {},
   "source": [
    "Denaturierter Eiweißtrub  \n",
    "Aufgelöster Hopfen  \n",
    "Trub-Kegel"
   ]
  },
  {
   "cell_type": "markdown",
   "id": "cad1bffa-a9a8-4726-8d0c-9883620e347c",
   "metadata": {
    "jp-MarkdownHeadingCollapsed": true,
    "tags": []
   },
   "source": [
    "## Insulin"
   ]
  },
  {
   "cell_type": "markdown",
   "id": "29c4df11-dea4-49be-b2b7-64945887e610",
   "metadata": {},
   "source": [
    "Für senkung des Blutzuckerspiegels verantwortlich  \n",
    "\n",
    "biochemischer Botenstoff  \n",
    "besteht aus 2 Aminosäuren und 3 Disulfidbrücken  \n",
    "hydrophil"
   ]
  },
  {
   "cell_type": "markdown",
   "id": "3c3d5d4a-4f5e-4228-8b78-cc14c4fd0f92",
   "metadata": {
    "jp-MarkdownHeadingCollapsed": true,
    "tags": []
   },
   "source": [
    "### Produktion"
   ]
  },
  {
   "cell_type": "markdown",
   "id": "fde9a258-f88e-4e5a-b9e5-e584d704d202",
   "metadata": {},
   "source": [
    "in $\\beta$-Zellen der Bauchspeicheldrüse gebildet  \n",
    "wird über Blutbahn in Zellen gebracht  \n",
    "\n",
    "#### Künstlich  \n",
    "\n",
    "1. Vorbereitung der Insulin DNA\n",
    "2. Insulin-Gen wird ins Plasmid einer Hefezelle geschleust  \n",
    "3. Vermehrung der Zelle  \n",
    "4. Produktion der Vorstufe (Proinsulin)  \n",
    "5. Faltung durch aktives Hormon"
   ]
  },
  {
   "cell_type": "markdown",
   "id": "a1f30255-0c51-4295-a8c3-3263c681f110",
   "metadata": {
    "jp-MarkdownHeadingCollapsed": true,
    "tags": []
   },
   "source": [
    "### Funktionsweise  "
   ]
  },
  {
   "cell_type": "markdown",
   "id": "68f92015-c3d3-4b7a-a493-bd9fc329e6ca",
   "metadata": {},
   "source": [
    "Gegenspieler zum Glukagon  \n",
    "\n",
    "Nach Nahrungsaufnahme gelangt Glukose ,über Darm, ins Blut  \n",
    "(Insulin dient als Schlüssel -> dockt an Rezeptoren an,  \n",
    "Auslösung eines Second Messenger Systems -> Glukose darf in Zelle)  \n",
    "\n",
    "Insulin sorgt dafür das Zellen den Zucker aufnehmen können  "
   ]
  },
  {
   "cell_type": "markdown",
   "id": "0cb8fb0f-1052-4efb-b443-a92634ddda52",
   "metadata": {
    "tags": []
   },
   "source": [
    "### Diabetes"
   ]
  },
  {
   "cell_type": "markdown",
   "id": "855861c9-04bb-4407-b7d8-112f6649b3a6",
   "metadata": {},
   "source": [
    "#### Typ-1\n",
    "\n",
    "Körper zerstört $\\beta$-Zellen  \n",
    "Glukose kann nicht in Zellen aufgenommen werden  \n",
    "\n",
    "Behandlung mit Insulin notwendig"
   ]
  },
  {
   "cell_type": "markdown",
   "id": "73dde4d3-e3b1-412a-95bb-9fefdd401e00",
   "metadata": {},
   "source": [
    "#### Typ-2"
   ]
  },
  {
   "cell_type": "markdown",
   "id": "ba7f00aa-be14-4022-a0b6-23d8bb6c58c9",
   "metadata": {},
   "source": [
    "Insulin ist vorhanden, kann nicht wirken  \n",
    "\n",
    "zuerst Insulin Überproduktion, dann mangel  \n",
    "\n",
    "schwer Behandelbar"
   ]
  },
  {
   "cell_type": "markdown",
   "id": "50470454-41c6-4f1c-8b51-47f97144c0c7",
   "metadata": {
    "jp-MarkdownHeadingCollapsed": true,
    "tags": []
   },
   "source": [
    "## Antibiotika"
   ]
  },
  {
   "cell_type": "markdown",
   "id": "cf30267c-fb2f-4b76-8ebe-7b6e279178ea",
   "metadata": {},
   "source": [
    "Wirkt nur bei Bakterien  \n",
    "Greifen die Zellwand oder Sotffwechsel des Bakteriums an"
   ]
  },
  {
   "cell_type": "markdown",
   "id": "7dfebb97-513e-4407-983b-9e0d1636d1e3",
   "metadata": {},
   "source": [
    "Antibiotika wird über Pilze gebildet  \n",
    "\n",
    "### Bsp.: Penicillin\n",
    "Der Pilz wird in Fermentern gezüchtet (stark Sauerstoffabhängig)  \n",
    "Während Wachstum wenig Antibiotika, \n",
    "Erst wenn C-Quelle erschöpft ist beginnt die Penicillin Produktion"
   ]
  },
  {
   "cell_type": "markdown",
   "id": "dd1a839e-d3d6-41f8-90c4-990108697c74",
   "metadata": {},
   "source": [
    "## DNA-Analyse"
   ]
  },
  {
   "cell_type": "markdown",
   "id": "74455b16-c1f1-480b-a129-1b590a385a6a",
   "metadata": {},
   "source": [
    "### Proben-Isolierung"
   ]
  },
  {
   "cell_type": "markdown",
   "id": "0035c98e-71ef-4193-884d-48efea86c52a",
   "metadata": {},
   "source": [
    "1. Zelle öffnen\n",
    "    Zellwände können durch detergenzien zerstört werden (Zellwände aus Phospholipiddoppelschicht)  \n",
    "    Der Zellinhalt ist dann in der Probeflüssigkeit gelöst  \n",
    "2. Ausfällen von Zelltrümmern  \n",
    "    Fällung mit Salz (NaCl)  \n",
    "    Zentrifugieren -> Zellteile als Pellet entfernen -> DNA in wässriger Lösung  \n",
    "3. DNA-Reinigen  \n",
    "    DNA mit organischen Lösungsmittel fällen  \n",
    "    Zentrifugieren -> DN-Pellet\n",
    "    \n",
    "> fällen... einen gelösten Stoff aus einer Lösung ausscheiden  "
   ]
  },
  {
   "cell_type": "markdown",
   "id": "f72aa5a6-c894-402c-9e58-c8c1dee95e11",
   "metadata": {},
   "source": [
    "### PCR"
   ]
  },
  {
   "cell_type": "markdown",
   "id": "c4ca30d0-0341-42a6-a576-ff76685b0a64",
   "metadata": {},
   "source": [
    "DNA-Vervielfältigung  \n",
    "\n",
    "#### Materialien  \n",
    "\n",
    "- Matrixe: DNA-Fragment  \n",
    "- Primer:  \n",
    "    kurzes Nukleinsäurefragment  \n",
    "    Bei bekannter DNA kann über Primer ein bestimmter abschnitt kopiert werden  \n",
    "- dNTPs: A, G, C, T  \n",
    "- Polymerase: hitzestabil  \n",
    "- Puffer  \n",
    "\n",
    "\n",
    "#### Ablauf  \n",
    "\n",
    "1. Denaturierung  \n",
    "    Öffnung des DNA-Strangs, durch Erhitzung (95 °C)  \n",
    "2. Annealing  \n",
    "    Primer lagert sich an DNA an  \n",
    "    Temperatur weniger, abhängig von der Länge (55-70 °C)  \n",
    "3. Elongation  \n",
    "    Die Polymerase baut den Komplementärstrang auf  \n",
    "    $5'$ nach $3'$   \n",
    "4. Termination  \n",
    "    Abschluss  \n",
    "    evtl. Auffüllen nicht vollständiger Fragmente"
   ]
  },
  {
   "cell_type": "markdown",
   "id": "34895567-a986-4611-94b3-87229328460e",
   "metadata": {},
   "source": [
    "![](https://images.openscience-files.or.at/_/0c/66/0c6617a2.jpg)"
   ]
  },
  {
   "cell_type": "markdown",
   "id": "0d1cc9d9-75fd-4918-b8f0-2868217b4950",
   "metadata": {},
   "source": [
    "#### Einsatzgebiete  \n",
    "\n",
    "- Forensik -> genetischer Fingerabdruck  \n",
    "- Vaterschatstest  \n",
    "- Krankheiten\n",
    "    (CORONA!)  \n",
    "- Klonieren"
   ]
  },
  {
   "cell_type": "markdown",
   "id": "40d62ff3-f24d-42c9-8c4b-a3b6ac410740",
   "metadata": {},
   "source": [
    "### Gelelektrophorese"
   ]
  },
  {
   "cell_type": "markdown",
   "id": "b7a3ee38-a9fa-4fa9-8511-78d79f42c558",
   "metadata": {},
   "source": [
    "chromagraphische Trennung von Molekülen nach größe und Ladung  \n",
    "Verschiedene Gele mit verschiedener Porengröße  "
   ]
  },
  {
   "cell_type": "markdown",
   "id": "c2e27085-12f8-4aa6-9c29-b8a028867cea",
   "metadata": {},
   "source": [
    "#### Agarosegel  \n",
    "\n",
    "- Porengröße ca. $150-500~nm$  \n",
    "- zur Auftrennung von DNA  \n",
    "- Produziert aus Rotalgen  \n",
    "- Lange Ketten bildet ein Gitter(Polysaccherid)  \n",
    "\n",
    "##### Auswertung  \n",
    "\n",
    "- Proben wird ein Farbstoff hinzugegeben \n",
    "- Sichtbarmachung durch UV-Strahlung  "
   ]
  },
  {
   "cell_type": "markdown",
   "id": "7c8ed7a7-4cc6-4cd1-bfa5-acdeb5baf85b",
   "metadata": {},
   "source": [
    "![](https://upload.wikimedia.org/wikipedia/commons/1/11/Agarose-Gelelektrophorese.png)"
   ]
  },
  {
   "cell_type": "markdown",
   "id": "2e8042e2-da6d-45cc-a860-257f78cb06b1",
   "metadata": {
    "jp-MarkdownHeadingCollapsed": true,
    "tags": [
     "remove-cell"
    ]
   },
   "source": [
    "# Organische Chemie"
   ]
  },
  {
   "cell_type": "markdown",
   "id": "c26c689c-5a4f-4218-b13c-16fe50b00f34",
   "metadata": {
    "tags": [
     "remove-cell"
    ]
   },
   "source": [
    "Chemie v Kohlenwasserstoffe (ausnahmen $CO_2$, $CO$, Carbonate, Carbide)  "
   ]
  },
  {
   "cell_type": "markdown",
   "id": "dcfb25ba-be03-4bc0-84e3-bd02dfb4541c",
   "metadata": {
    "jp-MarkdownHeadingCollapsed": true,
    "tags": [
     "remove-cell"
    ]
   },
   "source": [
    "## Aromaten  "
   ]
  },
  {
   "cell_type": "markdown",
   "id": "ff707fab-c14a-440c-b0fc-a991fec86265",
   "metadata": {
    "tags": [
     "remove-cell"
    ]
   },
   "source": [
    "Verursachen Geruch  "
   ]
  },
  {
   "cell_type": "markdown",
   "id": "3219ffa7-aab2-4116-a322-668b3a661102",
   "metadata": {
    "jp-MarkdownHeadingCollapsed": true,
    "tags": [
     "remove-cell"
    ]
   },
   "source": [
    "## Nomenklatur"
   ]
  },
  {
   "cell_type": "markdown",
   "id": "5d8f0dc6-e76f-44df-b826-ca7d54ac7d27",
   "metadata": {
    "tags": [
     "remove-cell"
    ]
   },
   "source": [
    "Aufgebaut auf die Namen der $CH_X$ Ketten  \n",
    "Sind gesättigte Kohlenwasserstoffe (Jedes C-Atom hat die Maximalen Bindungen, von 4, erreicht)  \n",
    "\n",
    "1. Der Hauptname wird durch die Längste durchgehende C-Kette bestimmt (benennung nach Anzahl der C-Atome in Kette)\n",
    "    | 1...Meth- | 2...Eth- | 3...Prop | 4...But- | 5...Pent- |\n",
    "    |-----------|----------|----------|----------|-----------| \n",
    "    | 6...Hex   | 7...Hept | 8...Oct- | 9...Non- | 10...Dec  |  \n",
    "\n",
    "2. Bennenung der Funktionellen Gruppe  \n",
    "   ![](https://www.spektrum.de/lexika/images/chemie/fff1274.jpg)  \n",
    "   \n",
    "   Name wird so gewählt das die Funktionelle Gruppe den möglichst niedrigsten Wert hat  \n",
    "   \n",
    "3. Seitenketten benennen (Endung: -yl)  \n",
    "4. Gleiche Seitenketten werden, nach griechischen Prefixen (Mono, Di, Tri, ...), Zusammengefasst  \n",
    "5. Grundkörper durchnummerieren  \n",
    "    a. Alkane: Seitenketten mit möglichst niedriger No  \n",
    "    b. Funktionelle Gruppe: Seitenkette mit möglichst niedriger No  \n",
    "    c. Mehrere Seitenketten: alphabetische Ordnung  \n"
   ]
  },
  {
   "cell_type": "markdown",
   "id": "201215cd-5dae-4d2d-940c-70d3b8d02bd7",
   "metadata": {
    "jp-MarkdownHeadingCollapsed": true,
    "tags": [
     "remove-cell"
    ]
   },
   "source": [
    "## Darstellungen  "
   ]
  },
  {
   "cell_type": "markdown",
   "id": "583913f3-0270-4613-8e17-b5ebffde64fd",
   "metadata": {
    "tags": [
     "remove-cell"
    ]
   },
   "source": [
    "![Elektronenformel](https://upload.wikimedia.org/wikipedia/commons/thumb/d/df/Propan_Elektronenformel.svg/140px-Propan_Elektronenformel.svg.png)  \n",
    "\n",
    "![Valenzstrichformel](https://upload.wikimedia.org/wikipedia/commons/thumb/9/9b/Propan_Lewis.svg/320px-Propan_Lewis.svg.png)  \n",
    "\n",
    "<!--![Konstitutionsformel]()-->"
   ]
  },
  {
   "cell_type": "markdown",
   "id": "284883b0-062b-4a0f-a578-df2355e9039e",
   "metadata": {
    "jp-MarkdownHeadingCollapsed": true,
    "tags": [
     "remove-cell"
    ]
   },
   "source": [
    "## Alkohole  \n",
    "\n",
    "Funktionelle Gruppe: $O-H$  \n",
    "Endung: -ol (bspw. Ethan**ol**)  \n",
    "\n",
    "Verwendung als:  \n",
    "- Lösungsmittel  \n",
    "- Treibstoff  \n",
    "- Brennstoff  \n",
    "\n",
    "Herstellung:  \n",
    "- Gärung  \n",
    "- Synthetisch  "
   ]
  },
  {
   "cell_type": "markdown",
   "id": "196430d0-cefb-4c84-82aa-3579bf39acf0",
   "metadata": {
    "jp-MarkdownHeadingCollapsed": true,
    "tags": [
     "remove-cell"
    ]
   },
   "source": [
    "## Wichtige Reaktionen"
   ]
  },
  {
   "cell_type": "markdown",
   "id": "ced28380-d975-41e6-80ea-81277f080abe",
   "metadata": {
    "tags": [
     "remove-cell"
    ]
   },
   "source": [
    "- Fragmentierung  \n",
    "    Zerbrechen der C-C verbindungen -> Abbau des Moleküls  \n",
    "    entstehung ungesättigter verbindungen  \n",
    "    Ruß-Bildung\n",
    "    \n",
    "    Auslöser:\n",
    "    - Strahlung (UV, Röntgen, radioaktiv)  \n",
    "    - starke Hitze (Benzin Herstellung)  \n",
    "    - Pilze + Bakterien  \n",
    "    \n",
    "    - Cracken von Erdölketten  \n",
    "        $R-CH_2-CH_2-CH_2-R' \\rightarrow R-CH_3 + CH_2-CH-R'$\n",
    "- Eliminierung  \n",
    "    Abspalten eines kleinen Moleküls (meist Funktionelle Gruppe) -> entstehung Doppelbindung  \n",
    "    Kohlenstoff-Gerüst bleibt bestehen  \n",
    "    - Ethen aus Ethanol  \n",
    "        $CH_3 - CH_2 OH \\xrightarrow{\\text{Kat.}} CH_2 = CH_2 + H_2 O$\n",
    "    \n",
    "- Addition  \n",
    "    Gegenteil von Elimination  \n",
    "    Addition von Molekülen an Doppelbindungen  \n",
    "    - Bsp  \n",
    "        $H_3C-\\equiv C-CH_3 + H_2 \\rightarrow H_3C - CH = CH - CH_3$\n",
    "    \n",
    "- Substitution  \n",
    "    Ersetzen eines Molekülteiles  \n",
    "    - Hydroxylierung von Methylchlorid durch OH-Radikale  \n",
    "        $CH_3 + OH^- \\rightarrow CH_3OH + Cl^-$  \n",
    "    - Alkylierung von Benzol zu Toluol  \n",
    "        $C_6H_6 CH_3Cl(ALCl_3) \\rightarrow CH_3COOC_2H_5 + H_2O$\n",
    "    \n",
    "- Umlagerung  \n",
    "    Umlagerung innerhalb eines Moleküls  \n",
    "    \n",
    "    - Addition von Wasser an Ethin  \n",
    "        $H_C\\equiv CH + H_2O \\quad (HgSO_4) \\rightarrow (H_2 = CHOH)$  \n",
    "    - Addition von Wasserstoff zur Redutktion des Aldehyds zu Ethanol  \n",
    "        $CH_3-CHO + H_2 \\rightarrow CH_3-CH_2-OH$  "
   ]
  },
  {
   "cell_type": "markdown",
   "id": "9d3b7c65-e4eb-4dd5-a8e9-65103906b02e",
   "metadata": {
    "tags": [
     "remove-cell"
    ]
   },
   "source": [
    "## Lebensmittel"
   ]
  },
  {
   "cell_type": "markdown",
   "id": "03a1f9be-bcb3-4cb9-b3a4-0b39fef84433",
   "metadata": {
    "tags": [
     "remove-cell"
    ]
   },
   "source": [
    "### Fette und Öle"
   ]
  },
  {
   "cell_type": "markdown",
   "id": "0120a670-fc5f-4a6e-919f-1c3a011517a5",
   "metadata": {
    "tags": [
     "remove-cell"
    ]
   },
   "source": [
    "- Gesättigte Fettsäuren (ungesund)  \n",
    "    Nur Einfachbindungen \n",
    "    tierische Fette  \n",
    "    Schreibweise:  \n",
    "        **18:0** (18C, 0 Doppelbindungen)  \n",
    "        ![](https://dccdn.de/pictures.doccheck.com/images/731/e0f/731e0f2fd2e2c759d35eef197e337cb7/84442/m_1455797886.jpg)\n",
    "        \n",
    "        \n",
    "- Ungesättigte Fettsäuren (gesund)  \n",
    "    mindestens eine Doppelbindung \n",
    "    Fisch/Pflanzlich  \n",
    "    Schreibweise:  \n",
    "        **18:3** (18C, 3 Doppelbindungen)  \n",
    "        ![](https://upload.wikimedia.org/wikipedia/commons/thumb/4/45/Alpha-Linolens%C3%A4ure.svg/640px-Alpha-Linolens%C3%A4ure.svg.png)  \n",
    "        \n",
    "    - $\\alpha$-Schreibweise  \n",
    "        Zählursprung da wo die Funktionelle Gruppe die **niedrigste Zahl** hat\n",
    "    - $\\beta$-Schreibweise  \n",
    "        Zählurprung da won die Funktionelle Gruppe die **höchste Zahl** hat  \n",
    "        \n",
    "#### Aufbau\n",
    "\n",
    "![](https://www.chemieunterricht.de/dc2/haus/images/f-ester.jpg)"
   ]
  },
  {
   "cell_type": "markdown",
   "id": "683f8b15-9b95-4aa1-acaa-4e70acfd2d35",
   "metadata": {
    "tags": [
     "remove-cell"
    ]
   },
   "source": [
    "## Kohlenhydrate  "
   ]
  },
  {
   "cell_type": "markdown",
   "id": "ae460264-99c5-4a04-87c0-e560fa10fea6",
   "metadata": {
    "tags": [
     "remove-cell"
    ]
   },
   "source": [
    "Schreibweisen:  \n",
    "1. Fischer Projektion  \n",
    "    Raumstruktur in 2D  \n",
    "2. Haworth Projektion  \n",
    "3. Sesseldarstellung  \n"
   ]
  },
  {
   "cell_type": "markdown",
   "id": "76dadb33-8f9e-459b-9630-5749e076c1eb",
   "metadata": {
    "tags": [
     "remove-cell"
    ]
   },
   "source": [
    "- Monosaccharide  \n",
    "    Einfachzucker  \n",
    "    hat min:  \n",
    "    - 3 C Atome als Grundstruktur  \n",
    "    - 1 Carbongruppe (CO)  \n",
    "    - 1 Hydroxygruppe (OH)  \n",
    "    \n",
    "    Zum Merken:  \n",
    "    - Aldehyd  \n",
    "        - Eine Hexose (Glukose)  \n",
    "        - Eine Pentose (Ribose)  \n",
    "    - Ketone  \n",
    "        - 4a...Fruktose  \n",
    "        \n",
    "        ![Glucose](https://upload.wikimedia.org/wikipedia/commons/thumb/4/47/Fischer_projection_of_D-_and_L-Glucose.svg/280px-Fischer_projection_of_D-_and_L-Glucose.svg.png)\n",
    "        ![Ribose](https://upload.wikimedia.org/wikipedia/commons/thumb/7/70/DL-Ribose.svg/1200px-DL-Ribose.svg.png)  \n",
    "        ![Fruktose](https://upload.wikimedia.org/wikipedia/commons/thumb/5/5a/DL-Fructose.svg/800px-DL-Fructose.svg.png)\n",
    "- Disaccharide  \n",
    "    Zweifachzucker  \n",
    "    \n",
    "    Zum Merken:  \n",
    "    - Saccharose (Glucose + Fructose)  \n",
    "    - Lactose (Glucose + Galactose)  \n",
    "- Oligosaccharide  \n",
    "- Polysaccharide  \n",
    "    Vielfachzucker  \n",
    "    Kette an Monosacchariden (Unterschiedlich stark verzweigt)  \n",
    "    \n",
    "    Zum Merken:  \n",
    "    - Stärke ($\\alpha$-1,6 und $\\alpha$-1,4 Glukose)  \n",
    "    - Zellulose ($\\beta$-1,4 Glucose)  "
   ]
  },
  {
   "cell_type": "markdown",
   "id": "bc9d1fb7-4480-4690-ba2f-a299dcef4519",
   "metadata": {
    "tags": [
     "remove-cell"
    ]
   },
   "source": [
    "### Glycosidische Bindungen  "
   ]
  },
  {
   "cell_type": "markdown",
   "id": "ef0b01a2-c140-47de-9270-d5b49223aa4a",
   "metadata": {
    "tags": [
     "remove-cell"
    ]
   },
   "source": [
    "Verbindungen der Einfachzucker  \n",
    "entstehen unter Kondensationsreaktion -> Wasserabspaltung  \n",
    "$\\alpha \\text{ und } \\beta$ (Lage der Hydroxygruppe)  \n",
    "\n",
    "![](https://www.w-hoelzel.de/images/images/chemie/jahrgangsstufen/naturstoffe/10_ta_maltose.png)"
   ]
  },
  {
   "cell_type": "markdown",
   "id": "86280a8f-8794-4370-87ad-1bfa2f74aa2c",
   "metadata": {
    "tags": [
     "remove-cell"
    ]
   },
   "source": [
    "## Proteine (Eiweiß)"
   ]
  },
  {
   "cell_type": "markdown",
   "id": "82b7194c-e5a1-4af0-b182-566f4eeacd36",
   "metadata": {
    "tags": [
     "remove-cell"
    ]
   },
   "source": [
    "Bio-Makromolekül  \n",
    "Aus Aminosäuren  \n",
    "Pepitidbindungen  \n",
    "\n",
    "Haben funktionen als/ für die:  \n",
    "- Zellbewegung  \n",
    "    - Membranproteine\n",
    "- Transportsystem  \n",
    "    - Motorprotein bei Muskeln\n",
    "- Katalysatoren  \n",
    "    - Senken Aktivierungsenergie\n",
    "- Erkennen von Signalstoffen  \n",
    "    - Schlüssel-Schloss-Prinzip  \n",
    "    Technische Bedeutung:  \n",
    "    $\\quad$ Särkeverarbeitung, Waschmittel, Brauerei, Fruchtsaftverarbeitung, Käseproduktion,...  "
   ]
  },
  {
   "cell_type": "markdown",
   "id": "b2423d99-36ad-455d-844b-872e82eb3e62",
   "metadata": {
    "tags": [
     "remove-cell"
    ]
   },
   "source": [
    "## Aminosäuren  "
   ]
  },
  {
   "cell_type": "markdown",
   "id": "25a81726-3e8a-4ecd-a429-9728f42945ac",
   "metadata": {
    "tags": [
     "remove-cell"
    ]
   },
   "source": [
    "Aminocarbonsäuren  \n",
    "\n",
    "haben eine:  \n",
    "- Stickstoffhaltige Aminogruppe  \n",
    "- Carbonsäure  \n",
    "\n",
    "20 proteinogene Aminosäuren (für den Menschen wichtig)  \n",
    "400 nicht-proteinogene Aminosäure  \n",
    "\n",
    "Zum Merken (3 Aminosäuren):  \n",
    "- Alanin  \n",
    "- Glycin  \n",
    "- Leucin  \n",
    "\n",
    "![Alanin](https://i.pinimg.com/736x/e8/f4/2f/e8f42f02fdc25cd0a36b81816d841326.jpg)  \n",
    "![Glycin](https://upload.wikimedia.org/wikipedia/commons/thumb/4/46/Glycin_-_Glycine.svg/100px-Glycin_-_Glycine.svg.png)  \n",
    "![Leucin](https://upload.wikimedia.org/wikipedia/commons/thumb/0/05/L-Leucin_-_L-Leucine.svg/1200px-L-Leucin_-_L-Leucine.svg.png)"
   ]
  },
  {
   "cell_type": "markdown",
   "id": "474bd739-274e-4280-affc-10f88b752869",
   "metadata": {
    "tags": [
     "remove-cell"
    ]
   },
   "source": [
    "### Peptidbindungen  "
   ]
  },
  {
   "cell_type": "markdown",
   "id": "410ca696-a5dd-4af2-8ffd-68d233239cf0",
   "metadata": {
    "tags": [
     "remove-cell"
    ]
   },
   "source": [
    "Carboxygruppe bindet an Aminogruppe  \n",
    "\n",
    "![](https://upload.wikimedia.org/wikipedia/commons/thumb/6/6b/AminoacidCondensation.svg/660px-AminoacidCondensation.svg.png)  "
   ]
  },
  {
   "cell_type": "markdown",
   "id": "caa6acf0-3c75-4e0f-b67b-c67522b8e380",
   "metadata": {
    "tags": [
     "remove-cell"
    ]
   },
   "source": [
    "### Proteinstruktur  "
   ]
  },
  {
   "cell_type": "markdown",
   "id": "2b6fc8e8-82c2-4ccb-bc3a-97259cf33f99",
   "metadata": {
    "tags": [
     "remove-cell"
    ]
   },
   "source": [
    "- Primärstruktur  \n",
    "    Beschreibt nur die Aminosäuresquenz  \n",
    "    <!--Bindungsart: Peptidbindung  -->\n",
    "- Sekundärstruktur  \n",
    "    Räumliche Struktur  \n",
    "    Besondere Namen bei häufigem Auftreten  \n",
    "    - $\\alpha$-Helix  \n",
    "    - $\\beta$-Faltblatt  \n",
    "    <!--Bindungsart: Wasserstoffbrücken-->\n",
    "- Tertiärstruktur  \n",
    "    Räumliche Anordnung der Sekundärstruktur  \n",
    "    <!--Bindungsart:  \n",
    "    - Disulfidbrücken  \n",
    "    - Wasserstoffbrücken  \n",
    "    - hydrophobe, ionische und Van-der-Waals-Kräfte  -->\n",
    "- Quartärstruktur  \n",
    "    Anlagerung Proteine zu Proteinkomplex  \n",
    "    "
   ]
  },
  {
   "cell_type": "markdown",
   "id": "b519f793-2e0a-47ae-935d-124e4f6d06a3",
   "metadata": {
    "tags": [
     "remove-cell"
    ]
   },
   "source": [
    "## Nukleinsäuren  "
   ]
  },
  {
   "cell_type": "markdown",
   "id": "fcd38bec-08d2-41e1-880a-fd76f791fae9",
   "metadata": {
    "tags": [
     "remove-cell"
    ]
   },
   "source": [
    "Sind aus Nukleotiden aufgebaut  \n",
    "DNA/RNS/RNA ist Nukleinsäure  \n",
    "Signalüberträger oder Bio-Kat  \n",
    "\n",
    "4-Unterarten:  \n",
    "- Cytosin (C)  \n",
    "- Guanin (G)  \n",
    "- Thymin (T)  \n",
    "- Adenin (A)  \n",
    "\n",
    "Bei RNA Tyhmin mit Uracil ersetzt  \n",
    "\n",
    "DNA Helix, \n",
    "gebenüberligende Helix immer mit gegenspieler besetzt  \n",
    "A zu T  \n",
    "C zu G  \n",
    "\n",
    "5' nach 3' bedeutet das das Phosphat immer an 5. Position und die nächste Phosphatgruppe an 3. Position des Zuckers ist  \n"
   ]
  },
  {
   "cell_type": "markdown",
   "id": "de9831ed-6bca-4cc1-bb64-9d7a4de45300",
   "metadata": {
    "tags": [
     "remove-cell"
    ]
   },
   "source": [
    "## Zellbiologie  "
   ]
  },
  {
   "cell_type": "markdown",
   "id": "902ec53a-1d09-4ac4-9b25-615c3c79bd40",
   "metadata": {
    "tags": [
     "remove-cell"
    ]
   },
   "source": [
    "### Prokaryoten"
   ]
  },
  {
   "cell_type": "markdown",
   "id": "be41ee27-edf4-45f3-ab30-29efbe814db0",
   "metadata": {},
   "source": [
    "![](https://d1g9li960vagp7.cloudfront.net/wp-content/uploads/2020/08/Procyte_WP-1024x576.jpg)"
   ]
  },
  {
   "cell_type": "markdown",
   "id": "8dcbbff0-0d3b-4cea-9130-f197280c0a8e",
   "metadata": {
    "tags": [
     "remove-cell"
    ]
   },
   "source": [
    "DNA frei im Cytoplasma:  \n",
    "- Chromosomen  \n",
    "- Plasmide (optional) \n",
    "    Ringförmige DNA  \n",
    "    - Autonom replizierend  \n",
    "    - gibt Zelle resistenzen \n",
    "        für u.A. Antibiotika  \n",
    "    - Weitergeben an andere Bakterien möglich  "
   ]
  },
  {
   "cell_type": "markdown",
   "id": "34b578ab-14e7-414c-ab1e-7b1654e48312",
   "metadata": {
    "tags": [
     "remove-cell"
    ]
   },
   "source": [
    "#### Bakterienchromosom"
   ]
  },
  {
   "cell_type": "markdown",
   "id": "e223c885-5bee-4244-8711-3c1ed6ea587d",
   "metadata": {
    "tags": [
     "remove-cell"
    ]
   },
   "source": [
    "Die DNA ist in sich geschlossen  \n",
    "\n",
    "Dieses Chromosom steuert das Wachstum, die Entwicklung und den Stoffwechsel  "
   ]
  },
  {
   "cell_type": "markdown",
   "id": "9d5f20c1-d62c-44ba-aaee-784611ec423c",
   "metadata": {
    "tags": [
     "remove-cell"
    ]
   },
   "source": [
    "#### Ribosome"
   ]
  },
  {
   "cell_type": "markdown",
   "id": "82af4a7c-1d6d-45a7-89bb-edb75aaa9baa",
   "metadata": {
    "tags": [
     "remove-cell"
    ]
   },
   "source": [
    "Aufgebaut aus:\n",
    "- rRNA \n",
    "- Proteinen  \n",
    "\n",
    "Ihre Aufgabe ist das Herstellen von Proteinen, indem die Informationen aus der mRNA ausgelesen werden"
   ]
  },
  {
   "cell_type": "markdown",
   "id": "5906b923-4032-46bf-a61c-b9a4e2ee868e",
   "metadata": {
    "tags": [
     "remove-cell"
    ]
   },
   "source": [
    "#### Cytoplasma"
   ]
  },
  {
   "cell_type": "markdown",
   "id": "3aefe347-bf00-4bee-8cce-bfc962d6069d",
   "metadata": {
    "tags": [
     "remove-cell"
    ]
   },
   "source": [
    "Grundflüssigkeit der Zelle  "
   ]
  },
  {
   "cell_type": "markdown",
   "id": "7106e9b1-31a1-4359-ad75-8e5f2b8ad81b",
   "metadata": {
    "tags": [
     "remove-cell"
    ]
   },
   "source": [
    "#### Zellmembran"
   ]
  },
  {
   "cell_type": "markdown",
   "id": "f653173e-f77f-44bd-badf-da3cece59515",
   "metadata": {
    "tags": [
     "remove-cell"
    ]
   },
   "source": [
    "Phospholipidschicht, welche eine Polarenteil und einen nichtpolaren Schwanz hat, \n",
    "\n",
    "die Polaren Köpfe stoßen sich ab wodurch sich die Zellmembran bildet  \n",
    "\n",
    "![](https://www.simplycooking.ch/fileadmin/_processed_/f/3/csm_Zellmembran_01_31efa81c91.jpg)"
   ]
  },
  {
   "cell_type": "markdown",
   "id": "ff75f561-f293-4e90-9251-b25435e2aafc",
   "metadata": {
    "tags": [
     "remove-cell"
    ]
   },
   "source": [
    "### Eukaryoten"
   ]
  },
  {
   "cell_type": "markdown",
   "id": "e69aa054-37e5-494d-8c73-ccb28c7cb62c",
   "metadata": {
    "tags": [
     "remove-cell"
    ]
   },
   "source": [
    "Eukaryoten haben eine Zellkern (DNA nicht frei im Cytoplasma)  \n",
    "\n",
    "Zellhüllen komplex aufgebaut (tlw. mit zwei Membranen)  "
   ]
  },
  {
   "cell_type": "markdown",
   "id": "7e52227d-2fc5-4597-bc98-901465302871",
   "metadata": {
    "tags": [
     "remove-cell"
    ]
   },
   "source": [
    "#### DNA"
   ]
  },
  {
   "cell_type": "markdown",
   "id": "102ca623-720c-4176-815e-8468157a2b4e",
   "metadata": {
    "tags": [
     "remove-cell"
    ]
   },
   "source": [
    "Chromosomen  \n",
    "ist im Zellkern mit einer Doppelmembran umgeben  \n"
   ]
  },
  {
   "cell_type": "markdown",
   "id": "1b00d5f0-f673-4804-b8e0-ced1b6f6e796",
   "metadata": {
    "tags": [
     "remove-cell"
    ]
   },
   "source": [
    "#### Endoplasmatisches Retikolum"
   ]
  },
  {
   "cell_type": "markdown",
   "id": "51bb2ec9-3c8d-49f0-b86e-d77f6d0c4a86",
   "metadata": {
    "tags": [
     "remove-cell"
    ]
   },
   "source": [
    "Besteht aus Membranstapeln und Vesikel  \n",
    "\n",
    "Zwei Arten:\n",
    "- Raues ER:\n",
    "    - mit Ribosomen  \n",
    "    - Proteinbiosynthese\n",
    "- Glattes ER:\n",
    "    - Stoffwechselvorgänge  \n",
    "    - Bildung von Vesikeln (Transport)  "
   ]
  },
  {
   "cell_type": "markdown",
   "id": "82805b4a-1e47-4810-9d95-0ef9ad955a07",
   "metadata": {
    "tags": [
     "remove-cell"
    ]
   },
   "source": [
    "#### Golgi Apparat"
   ]
  },
  {
   "cell_type": "markdown",
   "id": "7083580a-cb0a-4cf4-aae1-b7280a86bad4",
   "metadata": {
    "tags": [
     "remove-cell"
    ]
   },
   "source": [
    "Besteht aus Membranstapeln und Vesikeln  \n",
    "\n",
    "Funktion:  \n",
    "- Transportvorgänge  \n",
    "- Vervollständigen von Eiweißstoffen  "
   ]
  },
  {
   "cell_type": "markdown",
   "id": "58fff1be-07b9-449c-8c91-606513824f08",
   "metadata": {
    "tags": [
     "remove-cell"
    ]
   },
   "source": [
    "#### Mitochondrium"
   ]
  },
  {
   "cell_type": "markdown",
   "id": "8e48b928-46c2-4b4f-9130-dcb52afd25a5",
   "metadata": {
    "tags": [
     "remove-cell"
    ]
   },
   "source": [
    "Aufgebaut:\n",
    "- zwei Membranen  \n",
    "    innere Membran stark gefaltet  \n",
    "- Ringförmiger DNA  \n",
    "- Ribosomen  \n",
    "\n",
    "Für Energieversorgung zuständig"
   ]
  },
  {
   "cell_type": "markdown",
   "id": "0f79c5ff-7b0a-469f-a66e-7f7ac10c39af",
   "metadata": {
    "tags": [
     "remove-cell"
    ]
   },
   "source": [
    "### Vermehrung  "
   ]
  },
  {
   "cell_type": "markdown",
   "id": "cc6e50c5-4af9-4c9d-a8d3-459c3fe05dcc",
   "metadata": {
    "tags": [
     "remove-cell"
    ]
   },
   "source": [
    "- Mitose  \n",
    "    1. Prophase  \n",
    "        replizierte chromosomen kondensieren zu den Schwesterchromatiden  \n",
    "    2. Prometaphase  \n",
    "        Kernhülle Löst sich auf  \n",
    "        Chromosome verbinden sich mit dem Spindelapparat  \n",
    "    3. Metaphase  \n",
    "        Chromosomen ordnen sich zum Äquator der Spindel  \n",
    "    4. Anaphase  \n",
    "        Trennung der Schwesterchromatiden  \n",
    "    5. Telophase  \n",
    "        Tochterchromosomen sind an den Polen angekommen und de-kondensieren  \n",
    "        Neue Kernhüllen haben sich gebildet  \n",
    "- Meiose-1  \n",
    "    1. Prophase-1  \n",
    "        Crossing over zwischen Chromosomen  \n",
    "        Wochen-Monate  \n",
    "    2. Prometaphase: gleich wie Mitose  \n",
    "    3. Anaphase-1  \n",
    "        jedes Paar homologer \n",
    "    4. Telophase-1: Gleich Mitose  \n",
    "- Meiose-2  \n"
   ]
  },
  {
   "cell_type": "markdown",
   "id": "6c22cb78-593d-4e01-8279-3ab56fe5e1cf",
   "metadata": {},
   "source": [
    "# Wissensbegriffe; Aktuelle Themen; Ökosysteme"
   ]
  },
  {
   "cell_type": "markdown",
   "id": "6eba2e49-14f2-4481-8819-0b1ec230f361",
   "metadata": {},
   "source": [
    "## Alternative Energien"
   ]
  },
  {
   "cell_type": "markdown",
   "id": "0a473791-50d3-4dc7-99d6-0f2d66261d5f",
   "metadata": {
    "jp-MarkdownHeadingCollapsed": true,
    "tags": []
   },
   "source": [
    "### Biodiesel  "
   ]
  },
  {
   "cell_type": "markdown",
   "id": "076462bf-5810-4282-9502-eb292afec675",
   "metadata": {},
   "source": [
    "Der großteil der Pkws sind immer noch Dieselfahrzeuge, zusammen brauchen sie ca 7 Mio. Tonnen Diesel pro Jahr (nur in Österreich). \n",
    "Bei B7-Diesel sind $7\\%$ Biodiesel dazugemischt, da Diesel-Fahrzeuge noch nicht mit reinem Biodiesel tanken kann.  \n",
    "\n",
    "Biodiesel wird aus pflanzlichen und tierischen Fetten gewonnen, bspw. Raps, Soja, Palmöl,...  \n",
    "\n",
    "#### Herstellung  \n",
    "\n",
    "Das Öl wird zuerst aus der Pflanze herausgeholt, die Überreste des Mahlens werden in der Tierfutterindustrie weiterverwendet. \n",
    "Das Öl wird anschließend mit Methanol in einem Rührkessel,bei 50-65°C, über mehrere Stunden gemischt, in diesen Schritt wird das Rapsöl umgeestert (Methanolyse), \n",
    "damit eine Reaktion zustandekommt, muss ein Katalysator hinzugegeben werden (KOH). \n",
    "Daraufhin lässt man den das Gemisch absitzen, der rohe Biodiesel liegt oben vor und in der Unteren Schicht liegt Glycerin vor, welches in der Kosmetik weiterverwendet werden kann. \n",
    "Nun wird das Methanol aus dem Rohen Biodiesel herausgeholt, das herausgeholte Methanol kann wieder in den Rührkessel gegeben werden. \n",
    "Herauskommt der fertige Biodiesel, welcher nun gelagert wird und an die Tankstellen geliefert werden kann.  "
   ]
  },
  {
   "cell_type": "markdown",
   "id": "2bd96570-5a34-461a-b3c8-e72e1b516c14",
   "metadata": {
    "jp-MarkdownHeadingCollapsed": true,
    "tags": []
   },
   "source": [
    "#### Fette und Öle"
   ]
  },
  {
   "cell_type": "markdown",
   "id": "60ce340d-672d-423b-85f7-0d054af32e00",
   "metadata": {
    "tags": [
     "remove-cell"
    ]
   },
   "source": [
    "- Gesättigte Fettsäuren (ungesund)  \n",
    "    Nur Einfachbindungen \n",
    "    tierische Fette  \n",
    "    Schreibweise:  \n",
    "        **18:0** (18C, 0 Doppelbindungen)  \n",
    "        ![](https://dccdn.de/pictures.doccheck.com/images/731/e0f/731e0f2fd2e2c759d35eef197e337cb7/84442/m_1455797886.jpg)\n",
    "        \n",
    "        \n",
    "- Ungesättigte Fettsäuren (gesund)  \n",
    "    mindestens eine Doppelbindung \n",
    "    Fisch/Pflanzlich  \n",
    "    Schreibweise:  \n",
    "        **18:3** (18C, 3 Doppelbindungen)  \n",
    "        ![](https://upload.wikimedia.org/wikipedia/commons/thumb/4/45/Alpha-Linolens%C3%A4ure.svg/640px-Alpha-Linolens%C3%A4ure.svg.png)  \n",
    "        \n",
    "    - $\\alpha$-Schreibweise  \n",
    "        Zählursprung da wo die Funktionelle Gruppe die **niedrigste Zahl** hat\n",
    "    - $\\beta$-Schreibweise  \n",
    "        Zählurprung da won die Funktionelle Gruppe die **höchste Zahl** hat  \n",
    "        \n",
    "#### Aufbau\n",
    "\n",
    "![](https://www.chemieunterricht.de/dc2/haus/images/f-ester.jpg)"
   ]
  },
  {
   "cell_type": "markdown",
   "id": "4584d273-1f3d-469d-84a9-0fd908001599",
   "metadata": {},
   "source": [
    "![](https://upload.wikimedia.org/wikipedia/commons/1/1f/Transesterification_FAME.svg)  \n",
    "\n",
    "$\\text{Fett/ Öl} \\qquad + \\qquad \\text{Methanol} \\quad \\rightarrow \\quad \\text{Glyzerin} \\quad +\\quad \\text{Methylester}$"
   ]
  },
  {
   "cell_type": "markdown",
   "id": "d36b87d0-a419-45bf-8e9c-ec351f44f98a",
   "metadata": {},
   "source": [
    "Biodiesel hat keine Aromaten und keine Schwefelverbingungen, dies führt zu weniger Emissionen und weniger Verbrennungseigenschaften.  \n",
    "\n",
    "Beim Biodiesel kann in Deutschland 5% des Dieselkraftstoffes ersetzt werden und kann 4-5% der Treibhausgase vermindern. Hier müsste die Hälfte der Ackerfläche zum Biodiesel Rapsanbau verwendet werden, was Unrealistisch ist, realistisch währen 1 bis 2%  \n",
    "\n",
    "Biodiesel ist laut Energiebilanz $CO_2$-Neutral, da der $CO_3$ der entsteht zuvor von der Pflanze fixiert wurde. \n",
    "Bei dieser Bilanz wird die ernergieaufwändige Herstellung nicht miteinberechnet.  \n",
    "\n",
    "Zudem wir Energie für die Herstellung von Methanol, Düngemitteln, den Transport und den Verarbeitungsprozess notwendig  \n",
    "- Herstellung: $25~MJ/kg$  \n",
    "- Heizwert: $37~MJ/kg$  \n",
    "\n",
    "$k_{PME} = \\frac{37 MJ/kg}{25 MJ/kg}$  \n",
    "$k_{Diesel} = \\frac{43~MJ/kg}{5 MJ/kg}$  \n",
    "\n"
   ]
  },
  {
   "cell_type": "markdown",
   "id": "a769bb57-0e65-40ab-b405-da08e066cd4c",
   "metadata": {
    "jp-MarkdownHeadingCollapsed": true,
    "tags": []
   },
   "source": [
    "### Biogas"
   ]
  },
  {
   "cell_type": "markdown",
   "id": "72bead04-e895-4b9c-99e0-13a1bf1701bd",
   "metadata": {},
   "source": [
    "Biogas ist ein Brennbares Gas und stellt eine alternative Erdgas. \n",
    "Biogas wird durch die Vergärung von Biomasse (Abfälle und nachwachsende Rohstoffe) produziert.  \n",
    "Rohstoffe zur Produktion des Biogases sind:  \n",
    "- vergärbare, biomasse Reststoffe wie Klärschlamm, Bioabfall oder Speisereste  \n",
    "- Wirtschaftsdünger (Gülle, Mist)  \n",
    "- bisher nicht genutzte Pflanzen/-teile  \n",
    "- gezielt angebaute Energiepflanzen (Nachwachsende Rohstoffe)  \n",
    "\n",
    "4 Stufen beim Abbau der Rohstoffe:  \n",
    "1. Aufspaltung der Makromoleküle   \n",
    "2. Vergärung der Splatprodukte  \n",
    "3. Bildung von methanogenen Substraten  \n",
    "4. Biogasbildung  \n",
    "\n",
    "![](https://www.biogas-netzeinspeisung.at/_internal/cimg!0/n4sqy6mf4u9k7uewl5kyj682e3h00oe.png)  \n",
    "\n",
    "![Zusammensetzung Biogas](https://biogas.fnr.de/fileadmin/_migrated/pics/Spuren-2.jpg)  \n",
    "\n",
    "Bei der Aufbereitung wird das Gas durch ein eisenhaltiges Filtermaterial geleitet (Stahlwolle). \n",
    "Das Filtermaterial muss regeneriert werden oder ersetzt werden, wenn es gesättigt ist.  \n",
    "\n",
    "Nun wird das Gas getrocknet, damit es bei Motoren keine Korrosion verursachen kann, dies erreicht, indem man das Wasser kondensieren lässt (Druck, Temperatur).  \n",
    "\n",
    "Zudem muss das Methan vom $CO_2$ getrennt werden. \n",
    "Hierzu wird das Gas durch eine Waschlösung geleitet, wobei das $CO_2$ absorbiert.  \n",
    "\n",
    "\n",
    "- Biogas hat hohe Betriebskosten (Strom)  \n",
    "- Die Stomerzeugung alleine ist Unwirtschaftlich  \n",
    "- Der Wirkungsgrad ist liegt unter 1  \n",
    "- Die Biomasse hat kurze Transportwege  \n",
    "- Man muss viel Geld investieren damit  \n",
    "\n",
    "Oft sind Kleinstanlagen installiert $\\rightarrow$ Kläranlagen"
   ]
  },
  {
   "cell_type": "markdown",
   "id": "095da6c7-d3e1-4a5e-87e8-15cc33738fbe",
   "metadata": {
    "jp-MarkdownHeadingCollapsed": true,
    "tags": []
   },
   "source": [
    "### Fotoviltaik"
   ]
  },
  {
   "cell_type": "markdown",
   "id": "60ecfa27-d777-445e-9bb5-e0b80884e72c",
   "metadata": {},
   "source": [
    "Bei der Fotovoltaik findet eine umwandlung von Sonnenlicht auf elektrische Energie. \n",
    "Es wird Energie über die Verschiebung von positiver und negativer Ladungsträger generiert.  \n",
    "\n",
    "#### Photoelektrischer Effekt  \n",
    "\n",
    "Unter dem photoelektrischen Effekt versteht man den Prozess der Wechselwirkung von Photonen mit Materie. \n",
    "Es wird gezeigt wie ein Elektron aus einer Bindung gelöst werden kann, wenn ein hochenergetisches Photon (tendentiel min UV-Licht) auf die Oberfläche geschossen wird. \n",
    "Die Energie des Photon muss dabei mindestens der Bindungsenergie des Elektrons entsprechen.  \n",
    "\n",
    "#### Solarzellen  \n",
    "\n",
    "Solarzellen bestehen normalerweise aus Lizium  \n",
    "\n",
    "Das Material wird bei der Herstellung dotiert. Dotieren ist das kontrollierte einbringen von Fremdatomen, welche ein Außenelektron mehr/weniger haben. \n",
    "Man unterscheidet hier n-Dotieren (1-Elektron mehr) und p-Dotieren (1-Elektron weniger). \n",
    "An Grenzschichten zwischen p-n Übergängen entsteht ein Elekrisches Feld, durch welches, bei Lichteinfall, Ladungsträger freigesetzt werden. \n",
    "\n",
    "#### Monokristalline Solarzellen  \n",
    "\n",
    "Bei der Herstellung wird Silizium geschmolzen und gereinigt. \n",
    "Aus dem geschmolzenen Silizium wird ein Stab gezogen, diesen Stab nennt man Einkristall bzw. Monokristall.  \n",
    "Aus mehreren solcher Stäben werden Wafer zurechtgeschnitten. \n",
    "Die p- und n-Dotierten Wafter werden zu einer Solarzelle aufgebaut.  \n",
    "\n",
    "Aufgrund der Kristallstruktur hat die Solarzelle eine einheitlich dunkle Farbe  \n",
    "Besitzen abgerundete Ecken, aufgrund der Form der Wafer  \n",
    "\n",
    "Der Wirkungsgrad liegt bei: $20-22~\\%$ / $14-20~\\%$  \n",
    "\n",
    "#### Polykristalline Solarzellen  \n",
    "\n",
    "Hier werden mehrere Siliziumkristalle verwendet. \n",
    "Es werden verschiedene Blöcke an Kristallen hergestellt und aneinandergereiht.  \n",
    "Es entsteht bei dieser Art eine klar erkennbare Kristallstruktur  \n",
    "\n",
    "Die Herstellung ist billiger, da die Grundfläche leichter und in einem größeren Maße genutzt werden kann. \n",
    "Der Wirkungsgrad ist, aufgrund der vielen unterschiedlichen Kristalle nicht so gut.  \n",
    "\n",
    "Der Wirkungsgrad liegt bei: $15-20~\\%$ / $12-16~\\%$"
   ]
  },
  {
   "cell_type": "markdown",
   "id": "7af84b5d-b1aa-46c1-9ce0-ee0a81484674",
   "metadata": {
    "jp-MarkdownHeadingCollapsed": true,
    "tags": []
   },
   "source": [
    "## Boden"
   ]
  },
  {
   "cell_type": "markdown",
   "id": "e3f2ac7e-3a27-45ce-90bf-2ef74220cd15",
   "metadata": {},
   "source": [
    "Eine wichtige Aufgabe des Bodens ist Ionen festzuhalten(Nährstoffe zu sorbieren) und diese bei Bedarf wieder abgeben zu können. \n",
    "\n",
    "Damit Nährstoffe abgegeben werden können, müssen Ionen ausgetauscht werden (Bspw. $2H$-Ionen für 1 $Ca$-Ionen). \n",
    "Durch Nährstoffentzug und Auswaschung vermindert sich die Menge an Ionen nicht, aber ihr Verhältnis zueinander. "
   ]
  },
  {
   "cell_type": "markdown",
   "id": "476d5e53-ef12-46b3-bb7f-4403a876f152",
   "metadata": {},
   "source": [
    "### Austauschkapazität"
   ]
  },
  {
   "cell_type": "markdown",
   "id": "c81947a8-956a-43b9-8ab5-652eb867d249",
   "metadata": {},
   "source": [
    "Die Gesamtmenge an Ionen, die ein Boden austauschbar sorbiert haben kann, nennt man die Austauschkapazität, \n",
    "    spezifisch ist die Austauschkapazität von Kationen gemein, welche den großteil der austauschbaren Ionen ausmacht. \n",
    "Die wichtigsten austauschbaren Ionen sind, Calcium, Magnesium, Kalium und Natrium.  "
   ]
  },
  {
   "cell_type": "markdown",
   "id": "343a9181-36cf-4f2e-9521-5f40dbe82c0e",
   "metadata": {},
   "source": [
    "### Basensättigung"
   ]
  },
  {
   "cell_type": "markdown",
   "id": "69a64c3f-8995-4886-9ac1-6627a65e781c",
   "metadata": {},
   "source": [
    "Diese vier Atome werden als basische Kationen bezeichnet. \n",
    "Unter dem Begriff Basensättigung versteht man den prozentuellen Anteil der Austauschkapazität. \n",
    "Ist der Anteil von basischen Kationen über 70 %, spricht man von einen Boden mit hoher Basensättigung, ist der Anteil wiederum unter 30 %, so spricht man von einen Boden mit niedriger Basensättigung. "
   ]
  },
  {
   "cell_type": "markdown",
   "id": "caf220fc-60d3-47af-92f1-57aada99ae85",
   "metadata": {},
   "source": [
    "### Versauerung  "
   ]
  },
  {
   "cell_type": "markdown",
   "id": "d78abbc6-efa3-4d00-bcd0-2b320333c720",
   "metadata": {},
   "source": [
    "Als Versauerung bezeichnet man, wenn der Boden Wasserstoffionen aufnimmt.  \n",
    "Die Ursache dafür sind: \n",
    "- $CO_2$-Ausscheidungen von Wurzeln und Mikroorganismen\n",
    "- Bildung von Milchsäure (Luftmangel beim Abbau organischer Masse)  \n",
    "- sauerer Regen  "
   ]
  },
  {
   "cell_type": "markdown",
   "id": "9e982f86-4c11-42c2-9591-f44cd6690b54",
   "metadata": {
    "jp-MarkdownHeadingCollapsed": true,
    "tags": []
   },
   "source": [
    "## Wasser"
   ]
  },
  {
   "cell_type": "markdown",
   "id": "b4f53ea7-e411-4652-8c6e-654ef4965f61",
   "metadata": {},
   "source": [
    "Wasser ist eine chemische Verbindung aus Sauerstoff und Wasserstoff. \n",
    "Wasser kommt in der Natur selten rein vor, sondern enthält Anteile von Salzen, Gasen und organischen Verbindungen."
   ]
  },
  {
   "cell_type": "markdown",
   "id": "cc0bc5e0-bd8e-42c9-8436-048222974f11",
   "metadata": {},
   "source": [
    "### Wassermolekül"
   ]
  },
  {
   "cell_type": "markdown",
   "id": "fe9a3ea2-3780-4c9b-979f-9e924d397ba6",
   "metadata": {},
   "source": [
    "Wassermoleküle sind Dipole, deshalb gibt es Starke zwischenmolekulare Anziehungskräfte und\n",
    "    können sich durch Wasserstoffbrückenbindungen zu Clustern zusammenlagern. \n",
    "Der Verbund über Wasserstoffbrückenbindungen besteht nur für Bruchteile von Sekunden, wonach sich die Moleküle wieder lösen und\n",
    "    sich erneut mit anderen Wassermolekülen verketten. "
   ]
  },
  {
   "cell_type": "markdown",
   "id": "dea718a8-5b7c-4864-8654-788a05025523",
   "metadata": {},
   "source": [
    "### Dichteanomalie"
   ]
  },
  {
   "cell_type": "markdown",
   "id": "de65a077-c11f-4fb2-b761-16bd41da30e7",
   "metadata": {},
   "source": [
    "Normalerweise nimmt ein Stoff mehr Raum ein desto mehr Wärmeenergie er hat und dementsprechend nimmt ein Stoff weniger Volumen ein, wenn er weniger Wärmeenergie hat.  \n",
    "Wasser hat allerdings bei $3.98~°C$ seine maximale Dichte und nimmt beim erhitzen, aber eben auch beim abkühlen (beim gefrieren sogar Sprunghaft) an Dichte ab."
   ]
  },
  {
   "cell_type": "markdown",
   "id": "f1fa3b3a-15e1-4a16-b907-eacb2b1279f8",
   "metadata": {
    "jp-MarkdownHeadingCollapsed": true,
    "tags": []
   },
   "source": [
    "## Luft"
   ]
  },
  {
   "cell_type": "markdown",
   "id": "8175ab5c-297e-47eb-bde8-c7ed48d5e95a",
   "metadata": {},
   "source": [
    "Luft ist das Gasgemisch der Erdatmosphäre und besteht hauptsächlich aus ca. $78~\\%$-Stickstoff und ca. $21~\\%$-Sauerstoff, \n",
    "    Luft hat ferner noch ca. $.93~\\%$  Argon und ca. $.04~\\%$-$CO_2$ + andere Gase.\n",
    "Feste und flüssige Teilchen sind auch bestandteile der Luft, diese werden Aerosole genannt. \n",
    "Beispiele für Aerosole sind Wasserdampf, Staub, Pollen und Sporen.  \n",
    "\n",
    "- Stickstoff  \n",
    "    Ist der Hauptbestandteil der Luft und reagiert kaum (chemisch inert)  \n",
    "- Sauerstoff  \n",
    "    Es entsteht großteils durch Photosynthese mit Wasser. Es ist das wichtigste Oxidationsmittel und ist für die Atmung und Verbrennung notwendig.   \n",
    "    Pflanzen nutzten das in der Luft vorhandene $CO_2$ und wandeln es mittels Photosynthese in Sauerstoff um (Hauptverantwortliche sind Plankton), \n",
    "        über Photosynthese wird fast der gesamte Luftsauerstoff regeneriert. \n",
    "    Der Sauerstoffkreislauf ermöglicht die Aufrechterhaltung und Verteilung an Ressourcen für Aerobier (Lebewesen welche Sauerstoff brauchen) und \n",
    "        photosynthetisch aktive Pflanzen  \n",
    "- Argon  \n",
    "    Es ist sehr reaktionsträge und mit fast $1\\%$ immer noch relativ häufig,  \n",
    "        damit ist es ein relativ kosten-günstiges Inertgas und wird beim Schweißen und zur Füllung von Glühlampen eingesetzt. \n",
    "    Argon entsteht durch Radioaktiven zerfall von Kalium-40, und ist stabil. \n",
    "    Argon ist schwerer als Luft und verbleibt daher in der Atmosphäre.      "
   ]
  },
  {
   "cell_type": "markdown",
   "id": "f2798632-c8bb-4451-be77-e3f189b982e2",
   "metadata": {},
   "source": [
    "## Abwasser"
   ]
  },
  {
   "cell_type": "markdown",
   "id": "8dea88da-e96f-430b-af8a-ab3fb32f8a23",
   "metadata": {},
   "source": [
    "- Trockenwetterabfluss  \n",
    "    - Schmutzwasser: Beschreibt das häusliche Abwasser, wie aus Toiletten, Sanitäreinrichtungen, Küchen und Waschmaschinem  \n",
    "    - Industrieabwässer: fallen auch darunter, dies wird meistens noch in industrieeigenen Anlagen vorbehandelt  \n",
    "        (organische (Brauereiabwässer) und anorganische Stoffe (Metall und Grundstoffindustrie))  \n",
    "    - Fremdwasser: eigentlich unverschmutzt und nicht in die Kanalisation soll, aber trotzdem mit dem Schmutzwasser abfließt  \n",
    "- Regenwetterabfluss  \n",
    "    Niederschlagswasser gelangt in die Kanalisation  \n",
    "    Regen befördert Staub, Ruß und kann auch Schadstoffe enthalten  "
   ]
  },
  {
   "cell_type": "markdown",
   "id": "2418b77f-c747-4816-b108-823b941a5715",
   "metadata": {},
   "source": [
    "### Inhalt"
   ]
  },
  {
   "cell_type": "markdown",
   "id": "80b38699-bd73-481e-9c8f-598390c7cfc2",
   "metadata": {},
   "source": [
    "Schmutzstoffe können gelöst, aber auch ungelöst sein, sowie als organische Verbindung (Fette, Eiweiße, Kohlenhydrate)  \n",
    "\n",
    "- Zehrstoffe  \n",
    "    Sie sind biologisch abbauba und führen bei anaeroben Abbauprozessen zu Geruchsbelästigung  \n",
    "    Die durch diese Stoffe ausgelöste Sauerstoffzehrung kann zu Fischsterben in Gewässern führen  \n",
    "    \n",
    "    Beispiele sind Harnsäure oder Glukose  \n",
    "- Nährstoffe  \n",
    "    Zum Beispiel Stickstoff- und Phosphorverbindungen die ebenfalls zu Fischsterben führen und für verstärktes Algenwachstum in Meeren verantwortlich sind  \n",
    "- Schadstoffe  \n",
    "    Hierunter fallen Gifte, Schwermetalle, synthetische organische Substanzen, Bakterien, Pilze oder Viren, die zu Erkrankungen führen  \n",
    "- Störstoffe:  \n",
    "    Salze, Fette, Öle, Tone oder Sand  "
   ]
  },
  {
   "cell_type": "markdown",
   "id": "b4d5146d-3b21-4bfa-92b0-498ee3f96090",
   "metadata": {},
   "source": [
    "### Behandlung"
   ]
  },
  {
   "cell_type": "markdown",
   "id": "4d776d91-effc-4b65-bd9f-1add40581d5f",
   "metadata": {},
   "source": [
    "- Mechanische Reinigung  \n",
    "    - Über Schotterfang und Rechen findet eine Vorreinigung statt, \n",
    "        hier werden grobe Verschmutzungen wie Steine, Laub und Hygieneartikel entfernt.  \n",
    "      Der Abfall wird maschinell gewaschen, gepresst und verbrannt  \n",
    "    - Sandfang:  \n",
    "        Hier werden mineralische Verunreinigungen wie Sand, feine Steine, Kies oder Glas-Splitter entfernt.  \n",
    "        Dieser Schritt ist notwendig, damit diese Stoffe die Kläranlage später nicht beschädigt oder verstopft. \n",
    "        Der Sandfang wird oft mit einen Fettfang kombiniert  \n",
    "    - Vorklärbecken  \n",
    "        Es werden feine organische Stoffe durch Sedimentation entfernt. \n",
    "        Die Sedimentation erfolgt durch die Verringerung der Fließgeschwindigkeit im Vorklärbecken erreicht, \n",
    "            dadurch setzen sich alle Stoffe, welche noch immer im Abwasser sind ab. \n",
    "        Etwa $30\\%$ der organischen Stoffe können so entfernt werden, \n",
    "            die Festen bestandteile nennt man Primärschlamm  \n",
    "    - Biologische Reinigung  \n",
    "        Hier werden Bakterien und andere Mikroorganismen genutzt um Abwasserinhaltsstoffe mit Sauerstoff abzubauen  \n",
    "    - Belebungsbecken  \n",
    "        Ein Belebungsbecken ist eine Art biologischer Reaktor, der, unter Sauerstoffzufuhr, Schmutzstoffe abbaut. \n",
    "        Im Becken findet man den sogenannten Belebtschlamm vor, welcher mit Bakterienmasse angereichert ist,\n",
    "            es sind diese Bakterien welche die Schmutzstoffe (organische Verbindungen) abbauen. \n",
    "        Stickstoff wird über Hydrolyse als Amonium abgespalten und dann zu Nitrat oxidiert. \n",
    "        Der Sauerstoff der im Nitrat ist, wird verwendet um die Stickstoffverbindung abzubauen. \n",
    "    - Nachklärbecken  \n",
    "        Dieser Schritt gehört zum Belebungsbecken. \n",
    "        Hier wird der Belebtschlamm vom gereinigten Abwasser getrennt. \n",
    "        Ein Teil des Belebtschlammes wird ins Belebungsbeckens zurückgeführt (zur anreicherung der Bakterien), der Rest wird als Überschussschlamm bezeichnet und muss entsorgt werden\n",
    "- Chemische Reinigung  \n",
    "    Hier wird der Phosphor entfernt, dies ist notwendig um ein Fischsterben zu verhindern. \n",
    "    Phosphor ist im Abwasser gelöst und wird hier in eine andere Form gebracht, \n",
    "        damit er anschließend, als Schlamm, herausgefiltert werden kann. \n",
    "    Dies wird durch die Zugabe von Eisen- und Aluminiumsalzen erreicht. \n",
    "    In dieser Reinigungsstufe werden auch Schwermetalle oder Salze entfernt.  \n",
    "- Schlammbehandlung  \n",
    "    Es wird versucht den im Schlamm enthaltenen Kohlenstoff abzubauen, damit Geruchsbeeinträchtigungen vermieden werden können. \n",
    "    Außerdem wird versucht das Volumen des Schlamms zu minimieren, um diesen besser entsorgen zu können."
   ]
  },
  {
   "cell_type": "markdown",
   "id": "2246013e-31b4-4fb0-8ff9-6514c2f697e9",
   "metadata": {
    "tags": []
   },
   "source": [
    "## Klonen & Klonieren"
   ]
  },
  {
   "cell_type": "markdown",
   "id": "d989c183-c611-4dad-834d-9252394487f9",
   "metadata": {},
   "source": [
    "- Klonen:  \n",
    "    herbeigeführte ungeschlechtliche Vermehrung genetisch identischer Kopien von Lebewesen  \n",
    "- Klonieren:  \n",
    "    Gewinnung und vervielfältigung von identischen DNA-Molekülen  \n",
    "    \n",
    "- Unterschied Klonen/Klonieren:  \n",
    "    Beim Klonen werden ganze Organismen oder Teile von Organismen kopiert,  \n",
    "    beim klonieren werden nur DNA-Moleküle dupliziert  "
   ]
  },
  {
   "cell_type": "markdown",
   "id": "830358fb-72de-4a0f-ad4c-618f07f8942c",
   "metadata": {
    "tags": []
   },
   "source": [
    "### Klonen"
   ]
  },
  {
   "cell_type": "markdown",
   "id": "3835eb6a-9ef2-4187-bd07-02098366a980",
   "metadata": {},
   "source": [
    "#### Natürliches Klonen"
   ]
  },
  {
   "cell_type": "markdown",
   "id": "9f63c74c-82c8-4f0b-809e-13e6d6f27f20",
   "metadata": {},
   "source": [
    "Eineiige Zwillinge fallen unter diese Art des klonens, da sie das selbe Erbgut besitzen  \n",
    "Manche Lebewesen könne sich aber auch ungeschlechtlich Vermehren und es entstehen Klone (Bakterien, Pflanzen, Hefe)  "
   ]
  },
  {
   "cell_type": "markdown",
   "id": "400e22f3-4293-4e05-a44c-f0938c2fc228",
   "metadata": {},
   "source": [
    "#### Synthetisches Klonen"
   ]
  },
  {
   "cell_type": "markdown",
   "id": "e9dc3753-b8e8-440f-8b79-0ba37a5700f8",
   "metadata": {},
   "source": [
    "Beim Künstlichen Klonen wird dem zu klonendem Lebewesen (Lebewesen A) eine geeignete Zelle entnommen. \n",
    "In dieser Zelle wird der Zellkern entfernt. \n",
    "Bei einem anderen Lebewesen B wird die Eizelle entnommen und dieser wird ebenfalls der Zellkern entnommen. \n",
    "Nun wird der Zellkern des Lebewesens A in die leere Eizelle von B gelegt. \n",
    "So entsteht ein Embryo.  \n",
    "\n",
    "Ab hier gibt es zwei Arten des Klonens, welche unterschieden werden:  \n",
    "- reproduktives Klonen:  \n",
    "    Hier wird der Embryo in die Gebärmutter von Lebewesen B gelegt \n",
    "        und es entsteht ein zu Lebewesen A identes Lebewesen  \n",
    "- therapeutisches Klonen:  \n",
    "    Hier wird der Embryo **nicht** in die Gebärmutter eingepflanzt. \n",
    "    Stattdessen werden ihm nach  kurzer Zeit die Stammzellen entnommen, um diese für andere Zwecke zu nutzen. \n",
    "    Stammzellen sind für therapeutische zwecke sehr Wertvoll, da aus Stammzellen fast jede andere Zelle wachsen kann und Stammzellen somit vielseitig einsetzbar sind. \n",
    "\n",
    "![](https://upload.wikimedia.org/wikipedia/commons/thumb/b/bf/Cloning_diagram_deutsch.png/440px-Cloning_diagram_deutsch.png)"
   ]
  },
  {
   "cell_type": "markdown",
   "id": "c79dbcbd-e604-42b3-9a4b-53ab6d14f616",
   "metadata": {},
   "source": [
    "#### Klonschaf Dolly"
   ]
  },
  {
   "cell_type": "markdown",
   "id": "a9eb4d78-bfb2-4204-97b4-b5eaf13f67d5",
   "metadata": {},
   "source": [
    "Das Schaf Dolly wurde als erstes Säugetier 1996 geklont. \n",
    "Es wurde nach reproduktiv geklont und lebte 6 Jahre an einer Lungen-Krankheit.  \n",
    "Bedeutend ist, dass Dolly bereits mit 6 Jahren alterserscheinungen litt, \n",
    "    vor allem da man noch nicht weis ob die frühen alterserscheinungen durch\n",
    "    das Klonen alter Zellkerne des Spenders verursacht wurde.  "
   ]
  },
  {
   "cell_type": "markdown",
   "id": "4e4069d8-c265-4ca2-acd4-9c7ba45d6171",
   "metadata": {
    "tags": []
   },
   "source": [
    "### Klonieren"
   ]
  },
  {
   "cell_type": "markdown",
   "id": "26c0a471-f830-4e58-9b01-f5bed0a8d95e",
   "metadata": {},
   "source": [
    "#### Restriktion Ligation"
   ]
  },
  {
   "cell_type": "markdown",
   "id": "3f4aaee9-67c9-4ab4-87ca-541bacb8db57",
   "metadata": {},
   "source": [
    "Bei diesem Verfahren werden sogenannte Plasmide verwendet. \n",
    "Die Plasmide werden mit bestimmten Restriktionsproteinen wie EcoRI versetzt und geschnitten. \n",
    "Dabei entstehen sticky Ends.  \n",
    "Das zu klonende DNA-Fragment wird ebenfalls an den Enden mit demselben Restriktionsprotein geschnitten. \n",
    "Somit hat diese Fragment auch sticky Ends. \n",
    "Nun wird das zu klonierende DNA-Fragment mit der DNA-Ligase in das Plasmid eingebaut, \n",
    "    es finden sich die passenden Enden und hybridisieren miteinander. \n",
    "Das somit entstandene rekombinanten DNA-Molekül wird in eine Wirtszelle eingeschleust. \n",
    "Praktischerweise werden hier meist Bakterien, wegen ihrer schnellen vermehrung verwendet.  \n",
    "\n",
    "<!--![](https://sfvideo.blob.core.windows.net/sitefinity/images/default-source/default-album/decoded-temp-image-storage/cc_blunt-end-cloning_fig-1.png)-->\n",
    "![](https://media.addgene.org/data/easy-thumbnails/filer_public/cms/filer_public/21/27/212780f6-b140-440b-b414-1ec4353167d6/ligation.gif__900.0x316.0_crop_subsampling-2_upscale.png)"
   ]
  },
  {
   "cell_type": "markdown",
   "id": "b895e7b3-c632-433f-b44b-d4a3f8ca3251",
   "metadata": {},
   "source": [
    "Oft wird ein Markergen mit dem Plasmid eingeschleust. Dies ist häufig das Gen für Antibiotikaresistenz. \n",
    "So kann später in der Bakterienkultur unterschieden werden. \n",
    "Die Bakterien die am Ende resistent sind überleben und die anderen sterben, \n",
    "    somit sterben nur die Bakterien, bei denen der Prozess nicht funktioniert hat. \n",
    "\n",
    "![](https://www.spektrum.de/lexika/images/biok/f2f615_w.jpg)"
   ]
  },
  {
   "cell_type": "markdown",
   "id": "859354a4-c19d-4f0a-b288-533368ea8e1b",
   "metadata": {},
   "source": [
    "#### Verwendung"
   ]
  },
  {
   "cell_type": "markdown",
   "id": "28977fc0-4a24-43f2-8e55-841abdd4fcd5",
   "metadata": {},
   "source": [
    "- in der Molekularbiologie  \n",
    "    - zur Untersuchung von Proteinen und deren Funktion  \n",
    "    - zur veränderung der Eigenschaften von Proteinen  \n",
    "    - bei der Generierung von Sondne und anderen molekularbiologischen Werkzeugen  \n",
    "- in der Biotechnologie\n",
    "    - für therapeutische Zwecke (z.B.)  \n",
    "    - für eine Verwendung in der Lebensmitteltechnologie (z.B. Lab-Ferment)  \n",
    "    - zur Generierung gentechnisch veränderter Organismen in der Landwirtschaft (z.B. Flavr-Savr-Tomate)  "
   ]
  }
 ],
 "metadata": {
  "kernelspec": {
   "display_name": "Julia 1.8.0",
   "language": "julia",
   "name": "julia-1.8"
  },
  "language_info": {
   "file_extension": ".jl",
   "mimetype": "application/julia",
   "name": "julia",
   "version": "1.8.0"
  },
  "toc-autonumbering": false,
  "toc-showcode": false,
  "toc-showmarkdowntxt": false,
  "toc-showtags": false
 },
 "nbformat": 4,
 "nbformat_minor": 5
}